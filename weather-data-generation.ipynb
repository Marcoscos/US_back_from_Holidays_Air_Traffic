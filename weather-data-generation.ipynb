{
 "cells": [
  {
   "cell_type": "markdown",
   "metadata": {},
   "source": [
    "# Adding geographical coordinates\n",
    "\n",
    "We will map an airport's geographical coordinates to weather data for the region using the 'Meteostat' library\n",
    "\n",
    "First we will install the meteostat library and do the usual imports"
   ]
  },
  {
   "cell_type": "code",
   "execution_count": 27,
   "metadata": {},
   "outputs": [],
   "source": [
    "# %pip install meteostat"
   ]
  },
  {
   "cell_type": "code",
   "execution_count": 1,
   "metadata": {
    "init_cell": true,
    "run_control": {
     "marked": false
    }
   },
   "outputs": [],
   "source": [
    "import pandas as pd\n",
    "import numpy as np\n",
    "from datetime import datetime\n",
    "from meteostat import Point, Daily, Hourly"
   ]
  },
  {
   "cell_type": "markdown",
   "metadata": {},
   "source": [
    "Get the current list of airports"
   ]
  },
  {
   "cell_type": "code",
   "execution_count": 2,
   "metadata": {
    "init_cell": true,
    "run_control": {
     "marked": false
    }
   },
   "outputs": [],
   "source": [
    "df19 = pd.read_csv('Jan_2019_ontime.csv')\n",
    "df20 = pd.read_csv('Jan_2019_ontime.csv')"
   ]
  },
  {
   "cell_type": "markdown",
   "metadata": {},
   "source": [
    "Find the unique airports so we can identify their coordinates.\n",
    "\n",
    "It was previously checked that both 2019 and 2020 have the same airports.\n",
    "In addition, both the ORIGIN and DEST columns share the same airports. \n",
    "Thus we can assume that it is fine to use the ORIGIN column from the 2019 dataset"
   ]
  },
  {
   "cell_type": "code",
   "execution_count": 30,
   "metadata": {
    "run_control": {
     "marked": false
    }
   },
   "outputs": [],
   "source": [
    "# Get unique airports (The length of unique values in ORIGIN and DEST is the same)\n",
    "airports = pd.concat([df19.ORIGIN, df20.ORIGIN, df19.DEST, df20.DEST]).unique()"
   ]
  },
  {
   "cell_type": "markdown",
   "metadata": {},
   "source": [
    "Get data from https://datahub.io/core/airport-codes with the geographical location of airports"
   ]
  },
  {
   "cell_type": "code",
   "execution_count": 31,
   "metadata": {},
   "outputs": [],
   "source": [
    "# https://datahub.io/core/airport-codes\n",
    "df_geo = pd.read_csv('airport-codes.csv')  "
   ]
  },
  {
   "cell_type": "code",
   "execution_count": 32,
   "metadata": {
    "scrolled": true
   },
   "outputs": [
    {
     "data": {
      "text/html": [
       "<div>\n",
       "<style scoped>\n",
       "    .dataframe tbody tr th:only-of-type {\n",
       "        vertical-align: middle;\n",
       "    }\n",
       "\n",
       "    .dataframe tbody tr th {\n",
       "        vertical-align: top;\n",
       "    }\n",
       "\n",
       "    .dataframe thead th {\n",
       "        text-align: right;\n",
       "    }\n",
       "</style>\n",
       "<table border=\"1\" class=\"dataframe\">\n",
       "  <thead>\n",
       "    <tr style=\"text-align: right;\">\n",
       "      <th></th>\n",
       "      <th>ident</th>\n",
       "      <th>type</th>\n",
       "      <th>name</th>\n",
       "      <th>elevation_ft</th>\n",
       "      <th>continent</th>\n",
       "      <th>iso_country</th>\n",
       "      <th>iso_region</th>\n",
       "      <th>municipality</th>\n",
       "      <th>gps_code</th>\n",
       "      <th>iata_code</th>\n",
       "      <th>local_code</th>\n",
       "      <th>coordinates</th>\n",
       "    </tr>\n",
       "  </thead>\n",
       "  <tbody>\n",
       "    <tr>\n",
       "      <th>46987</th>\n",
       "      <td>SNKC</td>\n",
       "      <td>small_airport</td>\n",
       "      <td>Cocos Airport</td>\n",
       "      <td>2018.0</td>\n",
       "      <td>SA</td>\n",
       "      <td>BR</td>\n",
       "      <td>BR-BA</td>\n",
       "      <td>Cocos</td>\n",
       "      <td>SNKC</td>\n",
       "      <td>NaN</td>\n",
       "      <td>NaN</td>\n",
       "      <td>-44.54666667, -14.17277778</td>\n",
       "    </tr>\n",
       "  </tbody>\n",
       "</table>\n",
       "</div>"
      ],
      "text/plain": [
       "      ident           type           name  elevation_ft continent iso_country  \\\n",
       "46987  SNKC  small_airport  Cocos Airport        2018.0        SA          BR   \n",
       "\n",
       "      iso_region municipality gps_code iata_code local_code  \\\n",
       "46987      BR-BA        Cocos     SNKC       NaN        NaN   \n",
       "\n",
       "                      coordinates  \n",
       "46987  -44.54666667, -14.17277778  "
      ]
     },
     "execution_count": 32,
     "metadata": {},
     "output_type": "execute_result"
    }
   ],
   "source": [
    "df_geo.sample(1)"
   ]
  },
  {
   "cell_type": "markdown",
   "metadata": {},
   "source": [
    "Now get the geographical location of all the airports in the 'df' dataset.\n",
    "\n",
    "Keep only the relevant columns:\n",
    "- iata_code\n",
    "- coordinates\n",
    "- elevation_ft"
   ]
  },
  {
   "cell_type": "code",
   "execution_count": 33,
   "metadata": {},
   "outputs": [],
   "source": [
    "# Get coordinates for the airports in the dataset\n",
    "coords = df_geo[df_geo.iata_code.isin(airports)][['iata_code', 'coordinates', 'elevation_ft']]"
   ]
  },
  {
   "cell_type": "markdown",
   "metadata": {},
   "source": [
    "We see that the coordinates are contained as a string and in the order of (longitude, latitude). So we will have to extract that information into two columns: __lng__ and __lat__. Moreover, the elevation is in feet, but the meteostat uses meters, so we will also convert this value and save it in the column __elevation_m__."
   ]
  },
  {
   "cell_type": "code",
   "execution_count": 34,
   "metadata": {
    "run_control": {
     "marked": false
    }
   },
   "outputs": [],
   "source": [
    "# Separate longitude and latitude and dtypes\n",
    "coords['lng'] = coords.coordinates.apply(lambda x: x.split(',')[0]).astype(float)\n",
    "coords['lat'] = coords.coordinates.apply(lambda x: x.split(',')[1]).astype(float)\n",
    "\n",
    "coords['elevation_m'] = coords.elevation_ft.astype(float) * 0.3048  # Conversion from feet to meters"
   ]
  },
  {
   "cell_type": "code",
   "execution_count": 35,
   "metadata": {},
   "outputs": [
    {
     "data": {
      "text/plain": [
       "Index(['iata_code', 'elevation_ft', 'lng', 'lat', 'elevation_m'], dtype='object')"
      ]
     },
     "execution_count": 35,
     "metadata": {},
     "output_type": "execute_result"
    }
   ],
   "source": [
    "# Drop old coordinate column\n",
    "coords = coords.drop('coordinates', axis=1)\n",
    "coords.columns"
   ]
  },
  {
   "cell_type": "markdown",
   "metadata": {},
   "source": [
    "Now we have the coordinates for each airport. From this we can find the weather information."
   ]
  },
  {
   "cell_type": "markdown",
   "metadata": {},
   "source": [
    "# Adding weather data\n",
    "\n",
    "In this section we will add the weather data for each airport and the finally merge it to our dataset.\n",
    "\n",
    "First we define a function which helps us find the nearest station of the geographical coordinates to increase weather data accuracy. The default radius parameter is 35km, but some stations are further away than this, and others are found closer.\n",
    "\n",
    "We set the minimum radius to 10km, as a lower radius would result in too many NaN values of the weather data. Then we increment by 1km if no data is found within the current radius.\n",
    "\n",
    "The acquired data is described at https://dev.meteostat.net/formats.html#time-format"
   ]
  },
  {
   "cell_type": "code",
   "execution_count": 36,
   "metadata": {},
   "outputs": [],
   "source": [
    "# Set time period\n",
    "start = datetime(2019, 1, 1)\n",
    "end = datetime(2019, 1, 31)\n",
    "\n",
    "# Find minimum radius for most accurate temperatures. Must be at least 10km from point, and snow can't be all nan\n",
    "def find_min_radius(lat, lng, alt=None):   \n",
    "    df = pd.DataFrame()\n",
    "    \n",
    "    step = 1000\n",
    "    radius = 10000\n",
    "    while True:\n",
    "        if radius % 10000 == 0:\n",
    "            print('Radius = ', radius)\n",
    "        \n",
    "        radius += step       \n",
    "        \n",
    "        point = Point(lat, lng, alt)\n",
    "        point.radius = radius\n",
    "        \n",
    "        try:\n",
    "            print(start)\n",
    "            data = Daily(point, start, end)\n",
    "            \n",
    "            # Fetch data\n",
    "            data = data.normalize()\n",
    "            data = data.interpolate()\n",
    "            df = data.fetch()\n",
    "            \n",
    "            # Stop if non-empty data\n",
    "            if (len(df) != 0) or radius >= 100000:  # Max 100 km range\n",
    "                radius = 10000\n",
    "                break;\n",
    "                \n",
    "        except Exception:\n",
    "            pass\n",
    "    \n",
    "    return df\n",
    "        "
   ]
  },
  {
   "cell_type": "code",
   "execution_count": 37,
   "metadata": {},
   "outputs": [],
   "source": [
    "# find_min_radius(42.74829864501953, -73.80169677734375, 0)"
   ]
  },
  {
   "cell_type": "markdown",
   "metadata": {},
   "source": [
    "Now we create a dictionary with each airport and it's corresponding weather data for January "
   ]
  },
  {
   "cell_type": "code",
   "execution_count": 38,
   "metadata": {},
   "outputs": [],
   "source": [
    "def create_weather_dict():\n",
    "    \"\"\"\n",
    "    Create a dictionary of weather data at airports for 2019 and 2020.\n",
    "    \"\"\"\n",
    "    #### 2019 ####\n",
    "\n",
    "    # Set time period\n",
    "    start = datetime(2019, 1, 1)\n",
    "    end = datetime(2019, 1, 31)\n",
    "\n",
    "    weather_dict = {}\n",
    "\n",
    "    for idx, row in coords.iterrows():\n",
    "        print('Finding weather data for', row.iata_code)\n",
    "        df = find_min_radius(row.lat, row.lng, row.elevation_m)\n",
    "        weather_dict[row.iata_code] = df\n",
    "\n",
    "    save_dict = {}\n",
    "\n",
    "    for key, val in weather_dict.items():\n",
    "        save_dict[key] = val.to_dict(orient='records')\n",
    "\n",
    "    with open('weather_dict2019.json', 'w') as outfile:\n",
    "        json.dump(save_dict, outfile)\n",
    "\n",
    "    #### 2020 ####\n",
    "    # Set time period\n",
    "    start = datetime(2020, 1, 1)\n",
    "    end = datetime(2020, 1, 31)\n",
    "\n",
    "    weather_dict = {}\n",
    "\n",
    "    for idx, row in coords.iterrows():\n",
    "        print('Finding weather data for', row.iata_code)\n",
    "        df = find_min_radius(row.lat, row.lng, row.elevation_m)\n",
    "        weather_dict[row.iata_code] = df\n",
    "\n",
    "    save_dict = {}\n",
    "\n",
    "    for key, val in weather_dict.items():\n",
    "        save_dict[key] = val.to_dict(orient='records')\n",
    "\n",
    "    with open('weather_dict2020.json', 'w') as outfile:\n",
    "        json.dump(save_dict, outfile)\n",
    "        "
   ]
  },
  {
   "cell_type": "code",
   "execution_count": 39,
   "metadata": {},
   "outputs": [
    {
     "name": "stdout",
     "output_type": "stream",
     "text": [
      "Wall time: 0 ns\n"
     ]
    }
   ],
   "source": [
    "%%time\n",
    "import json\n",
    "\n",
    "# ONLY UNCOMMENT IF YOU HATE YOUR LIFE\n",
    "# create_weather_dict()"
   ]
  },
  {
   "cell_type": "markdown",
   "metadata": {},
   "source": [
    "Load the json file"
   ]
  },
  {
   "cell_type": "code",
   "execution_count": 40,
   "metadata": {},
   "outputs": [],
   "source": [
    "def load_weather_dict(year):\n",
    "    out_dict = {}\n",
    "    \n",
    "    with open(f'weather_dict{year}.json', 'r') as infile:\n",
    "        data = json.load(infile)\n",
    "        \n",
    "        for key, val in data.items():\n",
    "            out_dict[key] = pd.DataFrame(val)\n",
    "            \n",
    "    return out_dict"
   ]
  },
  {
   "cell_type": "code",
   "execution_count": 41,
   "metadata": {},
   "outputs": [],
   "source": [
    "weather_2019 = load_weather_dict(2019)\n",
    "weather_2020 = load_weather_dict(2020)"
   ]
  },
  {
   "cell_type": "markdown",
   "metadata": {},
   "source": [
    "## Units and parameters\n",
    "\n",
    "We will shortly explain the parameters and units of the weather data https://dev.meteostat.net/formats.html#meteorological-parameters"
   ]
  },
  {
   "cell_type": "markdown",
   "metadata": {},
   "source": [
    "The parameters of the weather data are:\n",
    "\n",
    "| Code  | Meaning                |\n",
    "| ----- | ---------------------- |\n",
    "| TAVG  | Average Temperature    |\n",
    "| TMIN  | Minimum Temperature    |\n",
    "| TMAX  | Maximum Temperature    |\n",
    "| PRCP  | Total Precipitation    |\n",
    "| SNOW  | Snow Depth             |\n",
    "| WDIR  | Wind Direction         |\n",
    "| WSPD  | Wind Speed             |\n",
    "| WPGT  | Wind Peak Gust         |\n",
    "| PRES  | Sea-Level Air Pressure |\n",
    "| TSUN  | Total Sunshine Duration|\n",
    "\n",
    "The units of the weather data are:\n",
    "\n",
    "| Parameter(s) | Unit |\n",
    "| ------------ | ---- |\n",
    "| Temperature  |  °C  |\n",
    "| Precipitation| mm   |\n",
    "| Air pressure | hPa  |\n",
    "| Wind Speed   | km/h |\n",
    "| Sunshine duration   | Minutes, Hours |"
   ]
  },
  {
   "cell_type": "markdown",
   "metadata": {},
   "source": [
    "# Merge the data\n",
    "\n",
    "In this section, we will merge the weather data with the dataset"
   ]
  },
  {
   "cell_type": "code",
   "execution_count": 42,
   "metadata": {},
   "outputs": [],
   "source": [
    "df19 = pd.read_csv('Jan_2019_ontime.csv').drop('Unnamed: 21', axis=1)\n",
    "df20 = pd.read_csv('Jan_2020_ontime.csv').drop('Unnamed: 21', axis=1)"
   ]
  },
  {
   "cell_type": "markdown",
   "metadata": {},
   "source": [
    "Define helper functions to map the airport and the day to the corresponding weather data"
   ]
  },
  {
   "cell_type": "code",
   "execution_count": 43,
   "metadata": {},
   "outputs": [],
   "source": [
    "weather_columns = ['tavg', 'tmin', 'tmax', 'prcp', 'snow', 'wspd', 'pres']\n",
    "\n",
    "# Helper function to prefix column names\n",
    "def rename_map(column):  \n",
    "    out_dict = {'iata_code': column}\n",
    "    \n",
    "    for col in weather_columns:\n",
    "        out_dict[col] = f'{column}_{col}'\n",
    "    \n",
    "    return out_dict"
   ]
  },
  {
   "cell_type": "markdown",
   "metadata": {},
   "source": [
    "Create a dataframe for merging"
   ]
  },
  {
   "cell_type": "code",
   "execution_count": 44,
   "metadata": {
    "scrolled": true
   },
   "outputs": [],
   "source": [
    "def get_weather_df(weather_dict):\n",
    "    weather_df = pd.DataFrame(\n",
    "        columns=['iata_code', 'DAY_OF_MONTH', 'tavg', 'tmin', 'tmax', 'prcp', 'snow', 'wspd', 'pres']\n",
    "    )\n",
    "    for airport in airports:\n",
    "        temp_df = weather_2019[airport][weather_columns]\n",
    "        temp_df['iata_code'] = airport\n",
    "        temp_df = temp_df.reset_index()\n",
    "        temp_df = temp_df.rename({'index': 'DAY_OF_MONTH'}, axis=1)\n",
    "        temp_df['DAY_OF_MONTH'] += 1\n",
    "        weather_df = pd.concat([weather_df, temp_df])\n",
    "        \n",
    "    return weather_df.reset_index(drop=True)"
   ]
  },
  {
   "cell_type": "markdown",
   "metadata": {},
   "source": [
    "Merge the weather data with the original data on both the destination and origin airport"
   ]
  },
  {
   "cell_type": "code",
   "execution_count": 45,
   "metadata": {
    "scrolled": false
   },
   "outputs": [
    {
     "name": "stderr",
     "output_type": "stream",
     "text": [
      "<ipython-input-44-4d4314cfe007>:7: SettingWithCopyWarning: \n",
      "A value is trying to be set on a copy of a slice from a DataFrame.\n",
      "Try using .loc[row_indexer,col_indexer] = value instead\n",
      "\n",
      "See the caveats in the documentation: https://pandas.pydata.org/pandas-docs/stable/user_guide/indexing.html#returning-a-view-versus-a-copy\n",
      "  temp_df['iata_code'] = airport\n"
     ]
    }
   ],
   "source": [
    "weather_df_2019 = get_weather_df(weather_2019)"
   ]
  },
  {
   "cell_type": "code",
   "execution_count": 46,
   "metadata": {},
   "outputs": [],
   "source": [
    "df19_weather = df19.merge(weather_df_2019.rename(rename_map('ORIGIN'), axis=1), on=['ORIGIN', 'DAY_OF_MONTH'])\n",
    "df19_weather = df19_weather.merge(weather_df_2019.rename(rename_map('DEST'), axis=1), on=['DEST', 'DAY_OF_MONTH'])"
   ]
  },
  {
   "cell_type": "code",
   "execution_count": 47,
   "metadata": {},
   "outputs": [
    {
     "data": {
      "text/plain": [
       "(583985, 35)"
      ]
     },
     "execution_count": 47,
     "metadata": {},
     "output_type": "execute_result"
    }
   ],
   "source": [
    "df19_weather.shape"
   ]
  },
  {
   "cell_type": "code",
   "execution_count": 48,
   "metadata": {},
   "outputs": [
    {
     "data": {
      "text/plain": [
       "(583985, 21)"
      ]
     },
     "execution_count": 48,
     "metadata": {},
     "output_type": "execute_result"
    }
   ],
   "source": [
    "df19.shape"
   ]
  },
  {
   "cell_type": "markdown",
   "metadata": {},
   "source": [
    "The shapes add up, as there are no lost rows during the merge"
   ]
  },
  {
   "cell_type": "code",
   "execution_count": 49,
   "metadata": {},
   "outputs": [
    {
     "data": {
      "text/plain": [
       "DAY_OF_MONTH                  0\n",
       "DAY_OF_WEEK                   0\n",
       "OP_UNIQUE_CARRIER             0\n",
       "OP_CARRIER_AIRLINE_ID         0\n",
       "OP_CARRIER                    0\n",
       "TAIL_NUM                   2543\n",
       "OP_CARRIER_FL_NUM             0\n",
       "ORIGIN_AIRPORT_ID             0\n",
       "ORIGIN_AIRPORT_SEQ_ID         0\n",
       "ORIGIN                        0\n",
       "DEST_AIRPORT_ID               0\n",
       "DEST_AIRPORT_SEQ_ID           0\n",
       "DEST                          0\n",
       "DEP_TIME                  16352\n",
       "DEP_DEL15                 16355\n",
       "DEP_TIME_BLK                  0\n",
       "ARR_TIME                  17061\n",
       "ARR_DEL15                 18022\n",
       "CANCELLED                     0\n",
       "DIVERTED                      0\n",
       "DISTANCE                      0\n",
       "ORIGIN_tavg                2919\n",
       "ORIGIN_tmin                2912\n",
       "ORIGIN_tmax                2912\n",
       "ORIGIN_prcp               26856\n",
       "ORIGIN_snow              181307\n",
       "ORIGIN_wspd                3952\n",
       "ORIGIN_pres               24313\n",
       "DEST_tavg                  2923\n",
       "DEST_tmin                  2916\n",
       "DEST_tmax                  2916\n",
       "DEST_prcp                 26875\n",
       "DEST_snow                181290\n",
       "DEST_wspd                  3957\n",
       "DEST_pres                 24335\n",
       "dtype: int64"
      ]
     },
     "execution_count": 49,
     "metadata": {},
     "output_type": "execute_result"
    }
   ],
   "source": [
    "df19_weather.isna().sum()"
   ]
  },
  {
   "cell_type": "markdown",
   "metadata": {},
   "source": [
    "We see that there are A LOT of missing values, around 30% of the dataset is missing in the snow column!"
   ]
  },
  {
   "cell_type": "code",
   "execution_count": 50,
   "metadata": {},
   "outputs": [
    {
     "name": "stderr",
     "output_type": "stream",
     "text": [
      "<ipython-input-44-4d4314cfe007>:7: SettingWithCopyWarning: \n",
      "A value is trying to be set on a copy of a slice from a DataFrame.\n",
      "Try using .loc[row_indexer,col_indexer] = value instead\n",
      "\n",
      "See the caveats in the documentation: https://pandas.pydata.org/pandas-docs/stable/user_guide/indexing.html#returning-a-view-versus-a-copy\n",
      "  temp_df['iata_code'] = airport\n"
     ]
    }
   ],
   "source": [
    "weather_df_2020 = get_weather_df(weather_2020)"
   ]
  },
  {
   "cell_type": "code",
   "execution_count": 51,
   "metadata": {},
   "outputs": [],
   "source": [
    "df20_weather = df20.merge(weather_df_2020.rename(rename_map('ORIGIN'), axis=1), on=['ORIGIN', 'DAY_OF_MONTH'])\n",
    "df20_weather = df20_weather.merge(weather_df_2020.rename(rename_map('DEST'), axis=1), on=['DEST', 'DAY_OF_MONTH'])"
   ]
  },
  {
   "cell_type": "code",
   "execution_count": 52,
   "metadata": {},
   "outputs": [
    {
     "data": {
      "text/plain": [
       "(606497, 35)"
      ]
     },
     "execution_count": 52,
     "metadata": {},
     "output_type": "execute_result"
    }
   ],
   "source": [
    "df20_weather.shape"
   ]
  },
  {
   "cell_type": "code",
   "execution_count": 53,
   "metadata": {},
   "outputs": [
    {
     "data": {
      "text/plain": [
       "(607346, 21)"
      ]
     },
     "execution_count": 53,
     "metadata": {},
     "output_type": "execute_result"
    }
   ],
   "source": [
    "df20.shape"
   ]
  },
  {
   "cell_type": "markdown",
   "metadata": {},
   "source": [
    "Around 900 rows are lost in this merge. We will investigate the impact of these lost rows. First let's observe the total amount of delays and cancellations"
   ]
  },
  {
   "cell_type": "code",
   "execution_count": 54,
   "metadata": {},
   "outputs": [
    {
     "data": {
      "text/plain": [
       "CANCELLED     6928.0\n",
       "ARR_DEL15    82285.0\n",
       "DEP_DEL15    81884.0\n",
       "dtype: float64"
      ]
     },
     "execution_count": 54,
     "metadata": {},
     "output_type": "execute_result"
    }
   ],
   "source": [
    "df20.loc[:, ['CANCELLED', 'ARR_DEL15', 'DEP_DEL15']].sum()"
   ]
  },
  {
   "cell_type": "markdown",
   "metadata": {},
   "source": [
    "Relative to the total rows in the dataset, there are few cancellations but plenty of delayed flights"
   ]
  },
  {
   "cell_type": "code",
   "execution_count": 55,
   "metadata": {},
   "outputs": [
    {
     "data": {
      "text/plain": [
       "CANCELLED      0.0\n",
       "ARR_DEL15    108.0\n",
       "DEP_DEL15     86.0\n",
       "dtype: float64"
      ]
     },
     "execution_count": 55,
     "metadata": {},
     "output_type": "execute_result"
    }
   ],
   "source": [
    "df20.loc[~df20.index.isin(df20_weather.index), ['CANCELLED', 'ARR_DEL15', 'DEP_DEL15']].sum()"
   ]
  },
  {
   "cell_type": "markdown",
   "metadata": {},
   "source": [
    "In the lost rows we have no cancellations and only few delayed flights, thus we can see this as being negible for the overall problem."
   ]
  },
  {
   "cell_type": "code",
   "execution_count": 56,
   "metadata": {},
   "outputs": [
    {
     "data": {
      "text/plain": [
       "DAY_OF_MONTH                  0\n",
       "DAY_OF_WEEK                   0\n",
       "OP_UNIQUE_CARRIER             0\n",
       "OP_CARRIER_AIRLINE_ID         0\n",
       "OP_CARRIER                    0\n",
       "TAIL_NUM                    698\n",
       "OP_CARRIER_FL_NUM             0\n",
       "ORIGIN_AIRPORT_ID             0\n",
       "ORIGIN_AIRPORT_SEQ_ID         0\n",
       "ORIGIN                        0\n",
       "DEST_AIRPORT_ID               0\n",
       "DEST_AIRPORT_SEQ_ID           0\n",
       "DEST                          0\n",
       "DEP_TIME                   6638\n",
       "DEP_DEL15                  6671\n",
       "DEP_TIME_BLK                  0\n",
       "ARR_TIME                   7046\n",
       "ARR_DEL15                  8043\n",
       "CANCELLED                     0\n",
       "DIVERTED                      0\n",
       "DISTANCE                      0\n",
       "ORIGIN_tavg                3232\n",
       "ORIGIN_tmin                3225\n",
       "ORIGIN_tmax                3225\n",
       "ORIGIN_prcp               28496\n",
       "ORIGIN_snow              192121\n",
       "ORIGIN_wspd                4337\n",
       "ORIGIN_pres               25972\n",
       "DEST_tavg                  3236\n",
       "DEST_tmin                  3229\n",
       "DEST_tmax                  3229\n",
       "DEST_prcp                 28520\n",
       "DEST_snow                192104\n",
       "DEST_wspd                  4341\n",
       "DEST_pres                 25987\n",
       "dtype: int64"
      ]
     },
     "execution_count": 56,
     "metadata": {},
     "output_type": "execute_result"
    }
   ],
   "source": [
    "df20_weather.isna().sum()"
   ]
  },
  {
   "cell_type": "markdown",
   "metadata": {},
   "source": [
    "Again there are many missing values..."
   ]
  },
  {
   "cell_type": "markdown",
   "metadata": {},
   "source": [
    "## Verification\n",
    "\n",
    "We now check that the data after merging is correct"
   ]
  },
  {
   "cell_type": "code",
   "execution_count": 57,
   "metadata": {
    "run_control": {
     "marked": false
    },
    "scrolled": true
   },
   "outputs": [
    {
     "data": {
      "text/html": [
       "<div>\n",
       "<style scoped>\n",
       "    .dataframe tbody tr th:only-of-type {\n",
       "        vertical-align: middle;\n",
       "    }\n",
       "\n",
       "    .dataframe tbody tr th {\n",
       "        vertical-align: top;\n",
       "    }\n",
       "\n",
       "    .dataframe thead th {\n",
       "        text-align: right;\n",
       "    }\n",
       "</style>\n",
       "<table border=\"1\" class=\"dataframe\">\n",
       "  <thead>\n",
       "    <tr style=\"text-align: right;\">\n",
       "      <th></th>\n",
       "      <th>DAY_OF_MONTH</th>\n",
       "      <th>ORIGIN</th>\n",
       "      <th>DEST</th>\n",
       "      <th>ORIGIN_tavg</th>\n",
       "      <th>DEST_tavg</th>\n",
       "    </tr>\n",
       "  </thead>\n",
       "  <tbody>\n",
       "    <tr>\n",
       "      <th>0</th>\n",
       "      <td>1</td>\n",
       "      <td>GNV</td>\n",
       "      <td>ATL</td>\n",
       "      <td>20.1</td>\n",
       "      <td>15.9</td>\n",
       "    </tr>\n",
       "    <tr>\n",
       "      <th>1</th>\n",
       "      <td>1</td>\n",
       "      <td>GNV</td>\n",
       "      <td>ATL</td>\n",
       "      <td>20.1</td>\n",
       "      <td>15.9</td>\n",
       "    </tr>\n",
       "    <tr>\n",
       "      <th>2</th>\n",
       "      <td>1</td>\n",
       "      <td>GNV</td>\n",
       "      <td>ATL</td>\n",
       "      <td>20.1</td>\n",
       "      <td>15.9</td>\n",
       "    </tr>\n",
       "    <tr>\n",
       "      <th>3</th>\n",
       "      <td>1</td>\n",
       "      <td>GNV</td>\n",
       "      <td>ATL</td>\n",
       "      <td>20.1</td>\n",
       "      <td>15.9</td>\n",
       "    </tr>\n",
       "    <tr>\n",
       "      <th>4</th>\n",
       "      <td>1</td>\n",
       "      <td>MSP</td>\n",
       "      <td>ATL</td>\n",
       "      <td>-14.1</td>\n",
       "      <td>15.9</td>\n",
       "    </tr>\n",
       "    <tr>\n",
       "      <th>...</th>\n",
       "      <td>...</td>\n",
       "      <td>...</td>\n",
       "      <td>...</td>\n",
       "      <td>...</td>\n",
       "      <td>...</td>\n",
       "    </tr>\n",
       "    <tr>\n",
       "      <th>583980</th>\n",
       "      <td>31</td>\n",
       "      <td>WRG</td>\n",
       "      <td>PSG</td>\n",
       "      <td>3.3</td>\n",
       "      <td>NaN</td>\n",
       "    </tr>\n",
       "    <tr>\n",
       "      <th>583981</th>\n",
       "      <td>31</td>\n",
       "      <td>KTN</td>\n",
       "      <td>WRG</td>\n",
       "      <td>5.3</td>\n",
       "      <td>3.3</td>\n",
       "    </tr>\n",
       "    <tr>\n",
       "      <th>583982</th>\n",
       "      <td>31</td>\n",
       "      <td>PSG</td>\n",
       "      <td>WRG</td>\n",
       "      <td>NaN</td>\n",
       "      <td>3.3</td>\n",
       "    </tr>\n",
       "    <tr>\n",
       "      <th>583983</th>\n",
       "      <td>31</td>\n",
       "      <td>GUM</td>\n",
       "      <td>SPN</td>\n",
       "      <td>26.3</td>\n",
       "      <td>25.6</td>\n",
       "    </tr>\n",
       "    <tr>\n",
       "      <th>583984</th>\n",
       "      <td>31</td>\n",
       "      <td>GUM</td>\n",
       "      <td>SPN</td>\n",
       "      <td>26.3</td>\n",
       "      <td>25.6</td>\n",
       "    </tr>\n",
       "  </tbody>\n",
       "</table>\n",
       "<p>583985 rows × 5 columns</p>\n",
       "</div>"
      ],
      "text/plain": [
       "       DAY_OF_MONTH ORIGIN DEST  ORIGIN_tavg  DEST_tavg\n",
       "0                 1    GNV  ATL         20.1       15.9\n",
       "1                 1    GNV  ATL         20.1       15.9\n",
       "2                 1    GNV  ATL         20.1       15.9\n",
       "3                 1    GNV  ATL         20.1       15.9\n",
       "4                 1    MSP  ATL        -14.1       15.9\n",
       "...             ...    ...  ...          ...        ...\n",
       "583980           31    WRG  PSG          3.3        NaN\n",
       "583981           31    KTN  WRG          5.3        3.3\n",
       "583982           31    PSG  WRG          NaN        3.3\n",
       "583983           31    GUM  SPN         26.3       25.6\n",
       "583984           31    GUM  SPN         26.3       25.6\n",
       "\n",
       "[583985 rows x 5 columns]"
      ]
     },
     "execution_count": 57,
     "metadata": {},
     "output_type": "execute_result"
    }
   ],
   "source": [
    "df19_weather[['DAY_OF_MONTH', 'ORIGIN', 'DEST', 'ORIGIN_tavg', 'DEST_tavg']]"
   ]
  },
  {
   "cell_type": "markdown",
   "metadata": {},
   "source": [
    "We see that for the GNV airport, the average temperature is 20.1 C, and for ATL the temperature was 15.9 C"
   ]
  },
  {
   "cell_type": "code",
   "execution_count": 58,
   "metadata": {
    "scrolled": true
   },
   "outputs": [
    {
     "data": {
      "text/plain": [
       "tavg      20.1\n",
       "tmin      13.9\n",
       "tmax      27.8\n",
       "prcp       0.0\n",
       "snow       0.0\n",
       "wdir     206.4\n",
       "wspd       4.0\n",
       "wpgt       NaN\n",
       "pres    1021.9\n",
       "tsun       NaN\n",
       "Name: 0, dtype: float64"
      ]
     },
     "execution_count": 58,
     "metadata": {},
     "output_type": "execute_result"
    }
   ],
   "source": [
    "weather_2019['GNV'].loc[0]"
   ]
  },
  {
   "cell_type": "code",
   "execution_count": 59,
   "metadata": {},
   "outputs": [
    {
     "data": {
      "text/plain": [
       "tavg      15.9\n",
       "tmin      12.9\n",
       "tmax      17.9\n",
       "prcp       NaN\n",
       "snow       NaN\n",
       "wdir       NaN\n",
       "wspd       2.5\n",
       "wpgt       NaN\n",
       "pres    1016.6\n",
       "tsun       NaN\n",
       "Name: 0, dtype: float64"
      ]
     },
     "execution_count": 59,
     "metadata": {},
     "output_type": "execute_result"
    }
   ],
   "source": [
    "weather_2019['ATL'].loc[0]"
   ]
  },
  {
   "cell_type": "markdown",
   "metadata": {},
   "source": [
    "It adds up"
   ]
  },
  {
   "cell_type": "markdown",
   "metadata": {},
   "source": [
    "# Modelling missing values\n",
    "\n",
    "Based on previous exploratory analysis, it is clear that weather data might have a significant impact on the flight delays and cancellations\n",
    "\n",
    "Therefore, an attempt at predicting the missing values is done to increase the quality of the dataset and hopefully improve the performance of the predictive models"
   ]
  },
  {
   "cell_type": "code",
   "execution_count": 60,
   "metadata": {},
   "outputs": [],
   "source": [
    "from sklearn.model_selection import train_test_split\n",
    "from sklearn.metrics import mean_absolute_error, mean_squared_error, r2_score\n",
    "\n",
    "import seaborn as sns\n",
    "import matplotlib.pyplot as plt"
   ]
  },
  {
   "cell_type": "markdown",
   "metadata": {},
   "source": [
    "As snow is one of the main reasons why planes cannot land or take off, and it is the column with most missing values, the models will try to predict the amount of snow based on other columns. "
   ]
  },
  {
   "cell_type": "code",
   "execution_count": 61,
   "metadata": {},
   "outputs": [],
   "source": [
    "target = ['snow']"
   ]
  },
  {
   "cell_type": "markdown",
   "metadata": {},
   "source": [
    "Initially we choose a set of features based on intuition and common knowledge on which columns could explain the presence of snow"
   ]
  },
  {
   "cell_type": "code",
   "execution_count": 62,
   "metadata": {},
   "outputs": [],
   "source": [
    "features = ['tavg', 'tmin', 'tmax', 'wspd', 'prcp', 'pres']"
   ]
  },
  {
   "cell_type": "markdown",
   "metadata": {},
   "source": [
    "We will use both 2019 and 2020 data, so we concatenate the two dataframes"
   ]
  },
  {
   "cell_type": "code",
   "execution_count": 63,
   "metadata": {},
   "outputs": [
    {
     "data": {
      "text/plain": [
       "(21452, 9)"
      ]
     },
     "execution_count": 63,
     "metadata": {},
     "output_type": "execute_result"
    }
   ],
   "source": [
    "weather_df_total = pd.concat([weather_df_2019, weather_df_2020]).reset_index(drop=True)\n",
    "weather_df_total.shape"
   ]
  },
  {
   "cell_type": "markdown",
   "metadata": {},
   "source": [
    "We quickly inspect the distributions of the features"
   ]
  },
  {
   "cell_type": "code",
   "execution_count": 64,
   "metadata": {},
   "outputs": [
    {
     "data": {
      "image/png": "[encoded data removed]",
      "text/plain": [
       "<Figure size 1080x1080 with 9 Axes>"
      ]
     },
     "metadata": {
      "needs_background": "light"
     },
     "output_type": "display_data"
    }
   ],
   "source": [
    "fig, axs = plt.subplots(3, 3, figsize=(15, 15))\n",
    "\n",
    "sns.histplot(weather_df_total, x='tavg', ax=axs[0,0])\n",
    "sns.histplot(weather_df_total, x='tmin', ax=axs[0,1])\n",
    "sns.histplot(weather_df_total, x='tmax', ax=axs[0,2])\n",
    "sns.histplot(weather_df_total, x='prcp', ax=axs[1,0])\n",
    "sns.histplot(weather_df_total, x='snow', ax=axs[1,1])\n",
    "sns.histplot(weather_df_total, x='wspd', ax=axs[1,2])\n",
    "sns.histplot(weather_df_total, x='pres', ax=axs[2,0])\n",
    "\n",
    "plt.show()"
   ]
  },
  {
   "cell_type": "code",
   "execution_count": 65,
   "metadata": {},
   "outputs": [
    {
     "data": {
      "text/plain": [
       "<AxesSubplot:>"
      ]
     },
     "execution_count": 65,
     "metadata": {},
     "output_type": "execute_result"
    },
    {
     "data": {
      "image/png": "[encoded data removed]",
      "text/plain": [
       "<Figure size 432x288 with 1 Axes>"
      ]
     },
     "metadata": {
      "needs_background": "light"
     },
     "output_type": "display_data"
    }
   ],
   "source": [
    "weather_df_total['prcp'].hist(bins=40)"
   ]
  },
  {
   "cell_type": "markdown",
   "metadata": {},
   "source": [
    "They seem to roughly follow a normal distribution, with the exception of precipitation having a lot of 0 values."
   ]
  },
  {
   "cell_type": "markdown",
   "metadata": {},
   "source": [
    "We know that there are missing values, as some weather stations do not record all data. To predict the snow values, we have to remove these missing values. To avoid making assumptions on the features, we drop the missing rows, as predicting the values of snow in itself is a large assumption"
   ]
  },
  {
   "cell_type": "code",
   "execution_count": 66,
   "metadata": {},
   "outputs": [
    {
     "data": {
      "text/plain": [
       "(9966, 7)"
      ]
     },
     "execution_count": 66,
     "metadata": {},
     "output_type": "execute_result"
    }
   ],
   "source": [
    "clean_df = weather_df_total[features + target].dropna()\n",
    "clean_df.shape"
   ]
  },
  {
   "cell_type": "code",
   "execution_count": 67,
   "metadata": {
    "run_control": {
     "marked": false
    }
   },
   "outputs": [],
   "source": [
    "X = clean_df[features].to_numpy()\n",
    "y = clean_df[target].to_numpy()"
   ]
  },
  {
   "cell_type": "markdown",
   "metadata": {},
   "source": [
    "## Feature selection\n",
    "\n",
    "To select some relevant features for filling out the missing snow values, we use the Shapley values to see the importance of each feature. Initially we choose a larger set of features that would make sense."
   ]
  },
  {
   "cell_type": "code",
   "execution_count": 68,
   "metadata": {},
   "outputs": [],
   "source": [
    "import xgboost as xgb\n",
    "import shap"
   ]
  },
  {
   "cell_type": "code",
   "execution_count": 69,
   "metadata": {
    "run_control": {
     "marked": false
    }
   },
   "outputs": [],
   "source": [
    "xgb_model = xgb.XGBRegressor().fit(X, y)  # Using default parameters"
   ]
  },
  {
   "cell_type": "code",
   "execution_count": 70,
   "metadata": {},
   "outputs": [
    {
     "name": "stderr",
     "output_type": "stream",
     "text": [
      "100%|===================| 9937/9966 [00:20<00:00]        "
     ]
    }
   ],
   "source": [
    "explainer = shap.Explainer(xgb_model, X, feature_names=features)\n",
    "shap_values = explainer(X)"
   ]
  },
  {
   "cell_type": "code",
   "execution_count": 71,
   "metadata": {
    "scrolled": false
   },
   "outputs": [
    {
     "data": {
      "image/png": "[encoded data removed]",
      "text/plain": [
       "<Figure size 576x324 with 3 Axes>"
      ]
     },
     "metadata": {},
     "output_type": "display_data"
    }
   ],
   "source": [
    "shap.plots.waterfall(shap_values[0])"
   ]
  },
  {
   "cell_type": "markdown",
   "metadata": {},
   "source": [
    "From this we can now define the most relevant features"
   ]
  },
  {
   "cell_type": "code",
   "execution_count": 72,
   "metadata": {},
   "outputs": [],
   "source": [
    "features = ['tmax', 'tavg', 'tmin']\n",
    "target = ['snow']"
   ]
  },
  {
   "cell_type": "markdown",
   "metadata": {},
   "source": [
    "And redefine X and y"
   ]
  },
  {
   "cell_type": "code",
   "execution_count": 73,
   "metadata": {},
   "outputs": [],
   "source": [
    "clean_df2 = weather_df_total[features + target].dropna()\n",
    "\n",
    "X = clean_df2[features].to_numpy()\n",
    "y = clean_df2[target].to_numpy()"
   ]
  },
  {
   "cell_type": "code",
   "execution_count": 74,
   "metadata": {
    "run_control": {
     "marked": false
    }
   },
   "outputs": [],
   "source": [
    "X_train, X_test, y_train, y_test = train_test_split(X, y, test_size=0.33, random_state=42)\n",
    "\n",
    "X_train, X_val, y_train, y_val = train_test_split(X_train, y_train, test_size=0.33, random_state=42)"
   ]
  },
  {
   "cell_type": "markdown",
   "metadata": {},
   "source": [
    "## Scaling\n",
    "\n",
    "To have equal importance for all features, we standardize the data"
   ]
  },
  {
   "cell_type": "code",
   "execution_count": 75,
   "metadata": {},
   "outputs": [],
   "source": [
    "from sklearn.preprocessing import StandardScaler"
   ]
  },
  {
   "cell_type": "markdown",
   "metadata": {},
   "source": [
    "We only scale on the test set to avoid information leaking to the validation or test set"
   ]
  },
  {
   "cell_type": "code",
   "execution_count": 76,
   "metadata": {},
   "outputs": [],
   "source": [
    "sc = StandardScaler().fit(X_train)"
   ]
  },
  {
   "cell_type": "code",
   "execution_count": 77,
   "metadata": {},
   "outputs": [],
   "source": [
    "X_train = sc.transform(X_train)\n",
    "X_val = sc.transform(X_val)\n",
    "X_test = sc.transform(X_test)"
   ]
  },
  {
   "cell_type": "code",
   "execution_count": 78,
   "metadata": {},
   "outputs": [
    {
     "data": {
      "text/plain": [
       "(1.9749829833472978e-16, 1.0)"
      ]
     },
     "execution_count": 78,
     "metadata": {},
     "output_type": "execute_result"
    }
   ],
   "source": [
    "X_train.mean(), X_train.std()"
   ]
  },
  {
   "cell_type": "code",
   "execution_count": 79,
   "metadata": {},
   "outputs": [
    {
     "data": {
      "text/plain": [
       "(-0.015162456219813682, 0.9900294159709723)"
      ]
     },
     "execution_count": 79,
     "metadata": {},
     "output_type": "execute_result"
    }
   ],
   "source": [
    "X_val.mean(), X_val.std()"
   ]
  },
  {
   "cell_type": "markdown",
   "metadata": {},
   "source": [
    "We define a function to evaluate models"
   ]
  },
  {
   "cell_type": "code",
   "execution_count": 80,
   "metadata": {},
   "outputs": [],
   "source": [
    "def eval_model(X, y, model):\n",
    "    y_pred = model.predict(X)\n",
    "    \n",
    "    print('MAE: ', mean_absolute_error(y, y_pred))\n",
    "    print(\"MSE: \", mean_squared_error(y, y_pred))\n",
    "    print(\"R2: \", r2_score(y, y_pred))"
   ]
  },
  {
   "cell_type": "markdown",
   "metadata": {},
   "source": [
    "## Linear regression\n",
    "\n",
    "We will try with a simple linear regression"
   ]
  },
  {
   "cell_type": "code",
   "execution_count": 81,
   "metadata": {
    "scrolled": true
   },
   "outputs": [],
   "source": [
    "from sklearn.linear_model import LinearRegression"
   ]
  },
  {
   "cell_type": "code",
   "execution_count": 82,
   "metadata": {},
   "outputs": [],
   "source": [
    "lr = LinearRegression().fit(X_train, y_train)"
   ]
  },
  {
   "cell_type": "code",
   "execution_count": 83,
   "metadata": {
    "scrolled": true
   },
   "outputs": [
    {
     "name": "stdout",
     "output_type": "stream",
     "text": [
      "MAE:  45.5739693494986\n",
      "MSE:  4429.961476705218\n",
      "R2:  0.3525049067747881\n"
     ]
    }
   ],
   "source": [
    "eval_model(X_train, y_train, lr)"
   ]
  },
  {
   "cell_type": "code",
   "execution_count": 84,
   "metadata": {},
   "outputs": [
    {
     "name": "stdout",
     "output_type": "stream",
     "text": [
      "MAE:  46.03849994508904\n",
      "MSE:  4570.380017769114\n",
      "R2:  0.34671671830601314\n"
     ]
    }
   ],
   "source": [
    "eval_model(X_val, y_val, lr)"
   ]
  },
  {
   "cell_type": "code",
   "execution_count": 85,
   "metadata": {},
   "outputs": [
    {
     "name": "stdout",
     "output_type": "stream",
     "text": [
      "MAE:  45.976249548709625\n",
      "MSE:  4579.340863534511\n",
      "R2:  0.35295804713392354\n"
     ]
    }
   ],
   "source": [
    "eval_model(X_test, y_test, lr)"
   ]
  },
  {
   "cell_type": "markdown",
   "metadata": {},
   "source": [
    "Generally the performance is not great from the linear model, it shows poor performance and probably underfits the data"
   ]
  },
  {
   "cell_type": "code",
   "execution_count": 86,
   "metadata": {},
   "outputs": [
    {
     "data": {
      "text/plain": [
       "36.181895896656535"
      ]
     },
     "execution_count": 86,
     "metadata": {},
     "output_type": "execute_result"
    }
   ],
   "source": [
    "y.mean()"
   ]
  },
  {
   "cell_type": "markdown",
   "metadata": {},
   "source": [
    "The mean of the target is 36.2 and the absolute error of the model is greater than this. It is probably not a good idea to use this model for filling in the missing values"
   ]
  },
  {
   "cell_type": "markdown",
   "metadata": {
    "run_control": {
     "marked": true
    }
   },
   "source": [
    "## MLP Regressor\n",
    "\n",
    "Next we extend the problem to try with the MLP regressor"
   ]
  },
  {
   "cell_type": "code",
   "execution_count": 87,
   "metadata": {},
   "outputs": [],
   "source": [
    "from sklearn.neural_network import MLPRegressor"
   ]
  },
  {
   "cell_type": "code",
   "execution_count": 88,
   "metadata": {},
   "outputs": [],
   "source": [
    "params = {\n",
    "    'hidden_layer_sizes': (20, 10, 5), \n",
    "    'activation': 'relu', \n",
    "    'solver': 'adam', \n",
    "    'max_iter': 5000, \n",
    "    'alpha': 0.00010\n",
    "}"
   ]
  },
  {
   "cell_type": "code",
   "execution_count": 89,
   "metadata": {
    "scrolled": true
   },
   "outputs": [
    {
     "data": {
      "text/plain": [
       "MLPRegressor(hidden_layer_sizes=(20, 10, 5), max_iter=5000)"
      ]
     },
     "execution_count": 89,
     "metadata": {},
     "output_type": "execute_result"
    }
   ],
   "source": [
    "mlp = MLPRegressor(**params)\n",
    "mlp.fit(X_train, y_train.ravel())"
   ]
  },
  {
   "cell_type": "code",
   "execution_count": 90,
   "metadata": {
    "scrolled": true
   },
   "outputs": [
    {
     "name": "stdout",
     "output_type": "stream",
     "text": [
      "MAE:  29.116832349225415\n",
      "MSE:  3403.6723512700023\n",
      "R2:  0.5025100877326889\n"
     ]
    }
   ],
   "source": [
    "eval_model(X_train, y_train, mlp)"
   ]
  },
  {
   "cell_type": "code",
   "execution_count": 91,
   "metadata": {},
   "outputs": [
    {
     "name": "stdout",
     "output_type": "stream",
     "text": [
      "MAE:  30.308323217576596\n",
      "MSE:  3621.466173140956\n",
      "R2:  0.48235304352479214\n"
     ]
    }
   ],
   "source": [
    "eval_model(X_val, y_val, mlp)"
   ]
  },
  {
   "cell_type": "code",
   "execution_count": 92,
   "metadata": {},
   "outputs": [
    {
     "name": "stdout",
     "output_type": "stream",
     "text": [
      "MAE:  30.007373723356093\n",
      "MSE:  3662.9443473958413\n",
      "R2:  0.4824410904521653\n"
     ]
    }
   ],
   "source": [
    "eval_model(X_test, y_test, mlp)"
   ]
  },
  {
   "cell_type": "markdown",
   "metadata": {},
   "source": [
    "The absolute error is surely smaller, however the model shows small signs of overfitting, but nothing too significant.\n",
    "\n",
    "This model could definitely be a candidate for filling out the missing values."
   ]
  },
  {
   "cell_type": "markdown",
   "metadata": {},
   "source": [
    "## Neural net\n",
    "\n",
    "Finally, we will try building our own neural net using the keras library."
   ]
  },
  {
   "cell_type": "code",
   "execution_count": 93,
   "metadata": {},
   "outputs": [],
   "source": [
    "from keras.layers import Input, Dense, Dropout\n",
    "from keras.models import Model\n",
    "from keras.callbacks import EarlyStopping\n",
    "from keras import regularizers\n",
    "\n",
    "import matplotlib.pyplot as plt"
   ]
  },
  {
   "cell_type": "markdown",
   "metadata": {},
   "source": [
    "The architecture was created by training the model on the train data and testing the results on the validation data."
   ]
  },
  {
   "cell_type": "code",
   "execution_count": 94,
   "metadata": {
    "scrolled": true
   },
   "outputs": [
    {
     "name": "stdout",
     "output_type": "stream",
     "text": [
      "Epoch 1/1000\n",
      "5/5 [==============================] - 2s 168ms/step - loss: 8307.8642 - mean_squared_error: 8307.8642 - mean_absolute_error: 36.5927 - val_loss: 8425.2100 - val_mean_squared_error: 8425.2100 - val_mean_absolute_error: 36.8569\n",
      "Epoch 2/1000\n",
      "5/5 [==============================] - 0s 10ms/step - loss: 8181.8075 - mean_squared_error: 8181.8075 - mean_absolute_error: 35.7411 - val_loss: 8421.1064 - val_mean_squared_error: 8421.1064 - val_mean_absolute_error: 36.8368\n",
      "Epoch 3/1000\n",
      "5/5 [==============================] - 0s 11ms/step - loss: 8175.1722 - mean_squared_error: 8175.1722 - mean_absolute_error: 36.1325 - val_loss: 8417.1250 - val_mean_squared_error: 8417.1250 - val_mean_absolute_error: 36.8173\n",
      "Epoch 4/1000\n",
      "5/5 [==============================] - 0s 10ms/step - loss: 7937.3146 - mean_squared_error: 7937.3146 - mean_absolute_error: 34.8323 - val_loss: 8413.3164 - val_mean_squared_error: 8413.3164 - val_mean_absolute_error: 36.7987\n",
      "Epoch 5/1000\n",
      "5/5 [==============================] - 0s 10ms/step - loss: 8401.4660 - mean_squared_error: 8401.4660 - mean_absolute_error: 36.3755 - val_loss: 8409.5566 - val_mean_squared_error: 8409.5566 - val_mean_absolute_error: 36.7804\n",
      "Epoch 6/1000\n",
      "5/5 [==============================] - 0s 10ms/step - loss: 8405.4456 - mean_squared_error: 8405.4456 - mean_absolute_error: 36.7481 - val_loss: 8406.0000 - val_mean_squared_error: 8406.0000 - val_mean_absolute_error: 36.7632\n",
      "Epoch 7/1000\n",
      "5/5 [==============================] - 0s 10ms/step - loss: 7905.2564 - mean_squared_error: 7905.2564 - mean_absolute_error: 35.3232 - val_loss: 8402.6006 - val_mean_squared_error: 8402.6006 - val_mean_absolute_error: 36.7466\n",
      "Epoch 8/1000\n",
      "5/5 [==============================] - 0s 10ms/step - loss: 8309.5631 - mean_squared_error: 8309.5631 - mean_absolute_error: 36.6744 - val_loss: 8399.2871 - val_mean_squared_error: 8399.2881 - val_mean_absolute_error: 36.7309\n",
      "Epoch 9/1000\n",
      "5/5 [==============================] - 0s 10ms/step - loss: 8636.2262 - mean_squared_error: 8636.2262 - mean_absolute_error: 36.9364 - val_loss: 8396.1201 - val_mean_squared_error: 8396.1221 - val_mean_absolute_error: 36.7160\n",
      "Epoch 10/1000\n",
      "5/5 [==============================] - 0s 10ms/step - loss: 8263.6851 - mean_squared_error: 8263.6851 - mean_absolute_error: 36.0469 - val_loss: 8393.1562 - val_mean_squared_error: 8393.1562 - val_mean_absolute_error: 36.7024\n",
      "Epoch 11/1000\n",
      "5/5 [==============================] - 0s 9ms/step - loss: 8179.4015 - mean_squared_error: 8179.4015 - mean_absolute_error: 36.1567 - val_loss: 8390.3145 - val_mean_squared_error: 8390.3145 - val_mean_absolute_error: 36.6899\n",
      "Epoch 12/1000\n",
      "5/5 [==============================] - 0s 9ms/step - loss: 8037.3309 - mean_squared_error: 8037.3309 - mean_absolute_error: 35.6244 - val_loss: 8387.6064 - val_mean_squared_error: 8387.6064 - val_mean_absolute_error: 36.6785\n",
      "Epoch 13/1000\n",
      "5/5 [==============================] - 0s 9ms/step - loss: 8430.7021 - mean_squared_error: 8430.7021 - mean_absolute_error: 36.4365 - val_loss: 8384.9521 - val_mean_squared_error: 8384.9521 - val_mean_absolute_error: 36.6678\n",
      "Epoch 14/1000\n",
      "5/5 [==============================] - 0s 9ms/step - loss: 8046.3167 - mean_squared_error: 8046.3167 - mean_absolute_error: 35.6265 - val_loss: 8382.3779 - val_mean_squared_error: 8382.3779 - val_mean_absolute_error: 36.6578\n",
      "Epoch 15/1000\n",
      "5/5 [==============================] - 0s 9ms/step - loss: 8052.4613 - mean_squared_error: 8052.4613 - mean_absolute_error: 35.4370 - val_loss: 8379.8750 - val_mean_squared_error: 8379.8750 - val_mean_absolute_error: 36.6487\n",
      "Epoch 16/1000\n",
      "5/5 [==============================] - 0s 10ms/step - loss: 8047.3913 - mean_squared_error: 8047.3915 - mean_absolute_error: 35.7378 - val_loss: 8377.4180 - val_mean_squared_error: 8377.4180 - val_mean_absolute_error: 36.6404\n",
      "Epoch 17/1000\n",
      "5/5 [==============================] - 0s 9ms/step - loss: 8148.6831 - mean_squared_error: 8148.6831 - mean_absolute_error: 35.7663 - val_loss: 8375.0430 - val_mean_squared_error: 8375.0430 - val_mean_absolute_error: 36.6330\n",
      "Epoch 18/1000\n",
      "5/5 [==============================] - 0s 9ms/step - loss: 8411.6149 - mean_squared_error: 8411.6157 - mean_absolute_error: 36.7217 - val_loss: 8372.6299 - val_mean_squared_error: 8372.6299 - val_mean_absolute_error: 36.6262\n",
      "Epoch 19/1000\n",
      "5/5 [==============================] - 0s 9ms/step - loss: 8040.3096 - mean_squared_error: 8040.3096 - mean_absolute_error: 35.3457 - val_loss: 8370.2354 - val_mean_squared_error: 8370.2354 - val_mean_absolute_error: 36.6206\n",
      "Epoch 20/1000\n",
      "5/5 [==============================] - 0s 9ms/step - loss: 8382.2553 - mean_squared_error: 8382.2550 - mean_absolute_error: 36.7465 - val_loss: 8367.8350 - val_mean_squared_error: 8367.8350 - val_mean_absolute_error: 36.6158\n",
      "Epoch 21/1000\n",
      "5/5 [==============================] - 0s 10ms/step - loss: 8012.4771 - mean_squared_error: 8012.4771 - mean_absolute_error: 35.5872 - val_loss: 8365.4688 - val_mean_squared_error: 8365.4688 - val_mean_absolute_error: 36.6118\n",
      "Epoch 22/1000\n",
      "5/5 [==============================] - 0s 10ms/step - loss: 8386.0802 - mean_squared_error: 8386.0802 - mean_absolute_error: 36.1250 - val_loss: 8363.0000 - val_mean_squared_error: 8363.0000 - val_mean_absolute_error: 36.6080\n",
      "Epoch 23/1000\n",
      "5/5 [==============================] - 0s 10ms/step - loss: 8590.0793 - mean_squared_error: 8590.0793 - mean_absolute_error: 37.0856 - val_loss: 8360.4365 - val_mean_squared_error: 8360.4365 - val_mean_absolute_error: 36.6044\n",
      "Epoch 24/1000\n",
      "5/5 [==============================] - 0s 11ms/step - loss: 8137.9565 - mean_squared_error: 8137.9565 - mean_absolute_error: 35.9539 - val_loss: 8357.7764 - val_mean_squared_error: 8357.7773 - val_mean_absolute_error: 36.6010\n",
      "Epoch 25/1000\n",
      "5/5 [==============================] - 0s 10ms/step - loss: 8261.0929 - mean_squared_error: 8261.0929 - mean_absolute_error: 36.1973 - val_loss: 8355.0244 - val_mean_squared_error: 8355.0244 - val_mean_absolute_error: 36.5976\n",
      "Epoch 26/1000\n",
      "5/5 [==============================] - 0s 11ms/step - loss: 8073.8244 - mean_squared_error: 8073.8244 - mean_absolute_error: 35.2726 - val_loss: 8352.0889 - val_mean_squared_error: 8352.0889 - val_mean_absolute_error: 36.5940\n",
      "Epoch 27/1000\n",
      "5/5 [==============================] - 0s 10ms/step - loss: 8086.8740 - mean_squared_error: 8086.8740 - mean_absolute_error: 35.3665 - val_loss: 8348.9951 - val_mean_squared_error: 8348.9951 - val_mean_absolute_error: 36.5901\n",
      "Epoch 28/1000\n",
      "5/5 [==============================] - 0s 9ms/step - loss: 8282.4977 - mean_squared_error: 8282.4977 - mean_absolute_error: 36.5683 - val_loss: 8345.6348 - val_mean_squared_error: 8345.6348 - val_mean_absolute_error: 36.5860\n",
      "Epoch 29/1000\n",
      "5/5 [==============================] - 0s 10ms/step - loss: 8279.9602 - mean_squared_error: 8279.9602 - mean_absolute_error: 36.0680 - val_loss: 8342.1367 - val_mean_squared_error: 8342.1367 - val_mean_absolute_error: 36.5821\n",
      "Epoch 30/1000\n",
      "5/5 [==============================] - 0s 9ms/step - loss: 8374.4994 - mean_squared_error: 8374.4994 - mean_absolute_error: 36.7056 - val_loss: 8338.3350 - val_mean_squared_error: 8338.3350 - val_mean_absolute_error: 36.5781\n",
      "Epoch 31/1000\n",
      "5/5 [==============================] - 0s 9ms/step - loss: 7893.3808 - mean_squared_error: 7893.3808 - mean_absolute_error: 35.0829 - val_loss: 8334.2881 - val_mean_squared_error: 8334.2881 - val_mean_absolute_error: 36.5740\n",
      "Epoch 32/1000\n",
      "5/5 [==============================] - 0s 10ms/step - loss: 8157.3146 - mean_squared_error: 8157.3146 - mean_absolute_error: 35.8229 - val_loss: 8329.7227 - val_mean_squared_error: 8329.7227 - val_mean_absolute_error: 36.5695\n",
      "Epoch 33/1000\n",
      "5/5 [==============================] - 0s 10ms/step - loss: 8054.0271 - mean_squared_error: 8054.0271 - mean_absolute_error: 35.5689 - val_loss: 8324.5908 - val_mean_squared_error: 8324.5908 - val_mean_absolute_error: 36.5644\n",
      "Epoch 34/1000\n",
      "5/5 [==============================] - 0s 10ms/step - loss: 7515.0863 - mean_squared_error: 7515.0863 - mean_absolute_error: 34.0936 - val_loss: 8318.7588 - val_mean_squared_error: 8318.7588 - val_mean_absolute_error: 36.5592\n",
      "Epoch 35/1000\n",
      "5/5 [==============================] - 0s 10ms/step - loss: 8331.9065 - mean_squared_error: 8331.9065 - mean_absolute_error: 36.2311 - val_loss: 8312.3994 - val_mean_squared_error: 8312.3994 - val_mean_absolute_error: 36.5544\n",
      "Epoch 36/1000\n",
      "5/5 [==============================] - 0s 9ms/step - loss: 8130.8910 - mean_squared_error: 8130.8910 - mean_absolute_error: 35.6935 - val_loss: 8305.6807 - val_mean_squared_error: 8305.6807 - val_mean_absolute_error: 36.5497\n",
      "Epoch 37/1000\n",
      "5/5 [==============================] - 0s 9ms/step - loss: 8232.2874 - mean_squared_error: 8232.2874 - mean_absolute_error: 36.0821 - val_loss: 8298.8799 - val_mean_squared_error: 8298.8799 - val_mean_absolute_error: 36.5452\n",
      "Epoch 38/1000\n",
      "5/5 [==============================] - 0s 9ms/step - loss: 7920.3153 - mean_squared_error: 7920.3153 - mean_absolute_error: 34.9178 - val_loss: 8292.0195 - val_mean_squared_error: 8292.0205 - val_mean_absolute_error: 36.5409\n",
      "Epoch 39/1000\n",
      "5/5 [==============================] - 0s 9ms/step - loss: 7858.2539 - mean_squared_error: 7858.2539 - mean_absolute_error: 35.1951 - val_loss: 8285.0674 - val_mean_squared_error: 8285.0674 - val_mean_absolute_error: 36.5365\n",
      "Epoch 40/1000\n",
      "5/5 [==============================] - 0s 9ms/step - loss: 8055.0937 - mean_squared_error: 8055.0937 - mean_absolute_error: 35.7631 - val_loss: 8278.1182 - val_mean_squared_error: 8278.1182 - val_mean_absolute_error: 36.5315\n",
      "Epoch 41/1000\n",
      "5/5 [==============================] - 0s 10ms/step - loss: 8092.0450 - mean_squared_error: 8092.0450 - mean_absolute_error: 35.7868 - val_loss: 8271.1533 - val_mean_squared_error: 8271.1533 - val_mean_absolute_error: 36.5256\n",
      "Epoch 42/1000\n",
      "5/5 [==============================] - 0s 9ms/step - loss: 7950.2496 - mean_squared_error: 7950.2496 - mean_absolute_error: 35.2675 - val_loss: 8264.1436 - val_mean_squared_error: 8264.1436 - val_mean_absolute_error: 36.5193\n",
      "Epoch 43/1000\n",
      "5/5 [==============================] - 0s 9ms/step - loss: 8103.0060 - mean_squared_error: 8103.0060 - mean_absolute_error: 35.6107 - val_loss: 8257.0723 - val_mean_squared_error: 8257.0723 - val_mean_absolute_error: 36.5129\n",
      "Epoch 44/1000\n",
      "5/5 [==============================] - 0s 9ms/step - loss: 8025.6692 - mean_squared_error: 8025.6692 - mean_absolute_error: 35.8448 - val_loss: 8249.9375 - val_mean_squared_error: 8249.9375 - val_mean_absolute_error: 36.5064\n",
      "Epoch 45/1000\n",
      "5/5 [==============================] - 0s 9ms/step - loss: 8258.2489 - mean_squared_error: 8258.2489 - mean_absolute_error: 36.3992 - val_loss: 8242.7754 - val_mean_squared_error: 8242.7754 - val_mean_absolute_error: 36.4999\n",
      "Epoch 46/1000\n",
      "5/5 [==============================] - 0s 9ms/step - loss: 8268.8977 - mean_squared_error: 8268.8977 - mean_absolute_error: 36.5587 - val_loss: 8235.5674 - val_mean_squared_error: 8235.5674 - val_mean_absolute_error: 36.4934\n",
      "Epoch 47/1000\n",
      "5/5 [==============================] - 0s 10ms/step - loss: 7820.0735 - mean_squared_error: 7820.0735 - mean_absolute_error: 35.1181 - val_loss: 8228.3506 - val_mean_squared_error: 8228.3506 - val_mean_absolute_error: 36.4868\n",
      "Epoch 48/1000\n",
      "5/5 [==============================] - 0s 9ms/step - loss: 7913.2375 - mean_squared_error: 7913.2375 - mean_absolute_error: 35.4345 - val_loss: 8221.0645 - val_mean_squared_error: 8221.0645 - val_mean_absolute_error: 36.4803\n",
      "Epoch 49/1000\n",
      "5/5 [==============================] - 0s 10ms/step - loss: 8276.6060 - mean_squared_error: 8276.6060 - mean_absolute_error: 36.3150 - val_loss: 8213.7070 - val_mean_squared_error: 8213.7070 - val_mean_absolute_error: 36.4737\n",
      "Epoch 50/1000\n",
      "5/5 [==============================] - 0s 9ms/step - loss: 8077.3778 - mean_squared_error: 8077.3778 - mean_absolute_error: 35.8867 - val_loss: 8206.3652 - val_mean_squared_error: 8206.3652 - val_mean_absolute_error: 36.4671\n",
      "Epoch 51/1000\n",
      "5/5 [==============================] - 0s 10ms/step - loss: 8197.0863 - mean_squared_error: 8197.0863 - mean_absolute_error: 36.5125 - val_loss: 8198.9590 - val_mean_squared_error: 8198.9590 - val_mean_absolute_error: 36.4605\n",
      "Epoch 52/1000\n",
      "5/5 [==============================] - 0s 9ms/step - loss: 8003.6370 - mean_squared_error: 8003.6370 - mean_absolute_error: 35.6216 - val_loss: 8191.5566 - val_mean_squared_error: 8191.5566 - val_mean_absolute_error: 36.4539\n",
      "Epoch 53/1000\n",
      "5/5 [==============================] - 0s 9ms/step - loss: 7933.6313 - mean_squared_error: 7933.6313 - mean_absolute_error: 35.5145 - val_loss: 8184.0781 - val_mean_squared_error: 8184.0781 - val_mean_absolute_error: 36.4473\n",
      "Epoch 54/1000\n",
      "5/5 [==============================] - 0s 10ms/step - loss: 7688.7598 - mean_squared_error: 7688.7598 - mean_absolute_error: 34.5423 - val_loss: 8176.5308 - val_mean_squared_error: 8176.5308 - val_mean_absolute_error: 36.4406\n",
      "Epoch 55/1000\n",
      "5/5 [==============================] - 0s 9ms/step - loss: 7814.2124 - mean_squared_error: 7814.2124 - mean_absolute_error: 34.8283 - val_loss: 8169.0103 - val_mean_squared_error: 8169.0103 - val_mean_absolute_error: 36.4341\n",
      "Epoch 56/1000\n",
      "5/5 [==============================] - 0s 10ms/step - loss: 7548.1496 - mean_squared_error: 7548.1496 - mean_absolute_error: 34.7464 - val_loss: 8161.3779 - val_mean_squared_error: 8161.3779 - val_mean_absolute_error: 36.4273\n",
      "Epoch 57/1000\n",
      "5/5 [==============================] - 0s 9ms/step - loss: 7869.1956 - mean_squared_error: 7869.1956 - mean_absolute_error: 35.4356 - val_loss: 8153.6719 - val_mean_squared_error: 8153.6719 - val_mean_absolute_error: 36.4205\n",
      "Epoch 58/1000\n",
      "5/5 [==============================] - 0s 9ms/step - loss: 7691.3069 - mean_squared_error: 7691.3069 - mean_absolute_error: 35.1010 - val_loss: 8145.9399 - val_mean_squared_error: 8145.9399 - val_mean_absolute_error: 36.4138\n",
      "Epoch 59/1000\n",
      "5/5 [==============================] - 0s 9ms/step - loss: 8177.9894 - mean_squared_error: 8177.9894 - mean_absolute_error: 36.4802 - val_loss: 8138.1880 - val_mean_squared_error: 8138.1880 - val_mean_absolute_error: 36.4070\n",
      "Epoch 60/1000\n",
      "5/5 [==============================] - 0s 10ms/step - loss: 8309.6800 - mean_squared_error: 8309.6800 - mean_absolute_error: 37.2238 - val_loss: 8130.3926 - val_mean_squared_error: 8130.3926 - val_mean_absolute_error: 36.4002\n",
      "Epoch 61/1000\n",
      "5/5 [==============================] - 0s 9ms/step - loss: 7866.1639 - mean_squared_error: 7866.1639 - mean_absolute_error: 35.3940 - val_loss: 8122.6562 - val_mean_squared_error: 8122.6562 - val_mean_absolute_error: 36.3935\n",
      "Epoch 62/1000\n",
      "5/5 [==============================] - 0s 9ms/step - loss: 7884.6145 - mean_squared_error: 7884.6145 - mean_absolute_error: 35.5410 - val_loss: 8114.8696 - val_mean_squared_error: 8114.8696 - val_mean_absolute_error: 36.3868\n",
      "Epoch 63/1000\n",
      "5/5 [==============================] - 0s 9ms/step - loss: 7885.4884 - mean_squared_error: 7885.4887 - mean_absolute_error: 35.4910 - val_loss: 8107.1187 - val_mean_squared_error: 8107.1187 - val_mean_absolute_error: 36.3802\n",
      "Epoch 64/1000\n",
      "5/5 [==============================] - 0s 9ms/step - loss: 7710.7708 - mean_squared_error: 7710.7708 - mean_absolute_error: 35.3954 - val_loss: 8099.2422 - val_mean_squared_error: 8099.2422 - val_mean_absolute_error: 36.3735\n",
      "Epoch 65/1000\n",
      "5/5 [==============================] - 0s 10ms/step - loss: 7909.8259 - mean_squared_error: 7909.8259 - mean_absolute_error: 35.7471 - val_loss: 8091.4160 - val_mean_squared_error: 8091.4160 - val_mean_absolute_error: 36.3670\n",
      "Epoch 66/1000\n",
      "5/5 [==============================] - 0s 9ms/step - loss: 8425.2217 - mean_squared_error: 8425.2217 - mean_absolute_error: 37.0664 - val_loss: 8083.4502 - val_mean_squared_error: 8083.4492 - val_mean_absolute_error: 36.3604\n",
      "Epoch 67/1000\n",
      "5/5 [==============================] - 0s 10ms/step - loss: 7765.2862 - mean_squared_error: 7765.2862 - mean_absolute_error: 35.0976 - val_loss: 8075.6357 - val_mean_squared_error: 8075.6357 - val_mean_absolute_error: 36.3540\n",
      "Epoch 68/1000\n",
      "5/5 [==============================] - 0s 9ms/step - loss: 7895.7452 - mean_squared_error: 7895.7453 - mean_absolute_error: 35.9776 - val_loss: 8067.6890 - val_mean_squared_error: 8067.6890 - val_mean_absolute_error: 36.3475\n",
      "Epoch 69/1000\n"
     ]
    },
    {
     "name": "stdout",
     "output_type": "stream",
     "text": [
      "5/5 [==============================] - 0s 10ms/step - loss: 7889.7598 - mean_squared_error: 7889.7598 - mean_absolute_error: 35.6175 - val_loss: 8059.7998 - val_mean_squared_error: 8059.7998 - val_mean_absolute_error: 36.3411\n",
      "Epoch 70/1000\n",
      "5/5 [==============================] - 0s 10ms/step - loss: 7792.4360 - mean_squared_error: 7792.4360 - mean_absolute_error: 35.1316 - val_loss: 8051.8042 - val_mean_squared_error: 8051.8042 - val_mean_absolute_error: 36.3346\n",
      "Epoch 71/1000\n",
      "5/5 [==============================] - 0s 10ms/step - loss: 7914.1433 - mean_squared_error: 7914.1433 - mean_absolute_error: 35.5263 - val_loss: 8043.8198 - val_mean_squared_error: 8043.8198 - val_mean_absolute_error: 36.3282\n",
      "Epoch 72/1000\n",
      "5/5 [==============================] - 0s 9ms/step - loss: 7552.8009 - mean_squared_error: 7552.8009 - mean_absolute_error: 34.4240 - val_loss: 8035.8721 - val_mean_squared_error: 8035.8721 - val_mean_absolute_error: 36.3218\n",
      "Epoch 73/1000\n",
      "5/5 [==============================] - 0s 10ms/step - loss: 7978.5885 - mean_squared_error: 7978.5885 - mean_absolute_error: 35.8667 - val_loss: 8027.7241 - val_mean_squared_error: 8027.7241 - val_mean_absolute_error: 36.3152\n",
      "Epoch 74/1000\n",
      "5/5 [==============================] - 0s 9ms/step - loss: 7970.7086 - mean_squared_error: 7970.7086 - mean_absolute_error: 36.1595 - val_loss: 8019.5610 - val_mean_squared_error: 8019.5610 - val_mean_absolute_error: 36.3087\n",
      "Epoch 75/1000\n",
      "5/5 [==============================] - 0s 9ms/step - loss: 7567.1694 - mean_squared_error: 7567.1694 - mean_absolute_error: 34.9180 - val_loss: 8011.4590 - val_mean_squared_error: 8011.4590 - val_mean_absolute_error: 36.3021\n",
      "Epoch 76/1000\n",
      "5/5 [==============================] - 0s 9ms/step - loss: 7693.4738 - mean_squared_error: 7693.4738 - mean_absolute_error: 35.1820 - val_loss: 8003.2930 - val_mean_squared_error: 8003.2930 - val_mean_absolute_error: 36.2955\n",
      "Epoch 77/1000\n",
      "5/5 [==============================] - 0s 9ms/step - loss: 7676.1414 - mean_squared_error: 7676.1414 - mean_absolute_error: 34.8172 - val_loss: 7995.1108 - val_mean_squared_error: 7995.1108 - val_mean_absolute_error: 36.2890\n",
      "Epoch 78/1000\n",
      "5/5 [==============================] - 0s 9ms/step - loss: 7726.0743 - mean_squared_error: 7726.0743 - mean_absolute_error: 35.8514 - val_loss: 7986.7715 - val_mean_squared_error: 7986.7715 - val_mean_absolute_error: 36.2822\n",
      "Epoch 79/1000\n",
      "5/5 [==============================] - 0s 9ms/step - loss: 7613.0605 - mean_squared_error: 7613.0605 - mean_absolute_error: 35.1435 - val_loss: 7978.3125 - val_mean_squared_error: 7978.3135 - val_mean_absolute_error: 36.2752\n",
      "Epoch 80/1000\n",
      "5/5 [==============================] - 0s 10ms/step - loss: 7483.5436 - mean_squared_error: 7483.5438 - mean_absolute_error: 34.6589 - val_loss: 7969.9131 - val_mean_squared_error: 7969.9131 - val_mean_absolute_error: 36.2683\n",
      "Epoch 81/1000\n",
      "5/5 [==============================] - 0s 10ms/step - loss: 7755.6806 - mean_squared_error: 7755.6806 - mean_absolute_error: 35.4498 - val_loss: 7961.3564 - val_mean_squared_error: 7961.3564 - val_mean_absolute_error: 36.2612\n",
      "Epoch 82/1000\n",
      "5/5 [==============================] - 0s 9ms/step - loss: 7404.0065 - mean_squared_error: 7404.0065 - mean_absolute_error: 34.2898 - val_loss: 7952.8267 - val_mean_squared_error: 7952.8267 - val_mean_absolute_error: 36.2542\n",
      "Epoch 83/1000\n",
      "5/5 [==============================] - 0s 9ms/step - loss: 7659.1513 - mean_squared_error: 7659.1513 - mean_absolute_error: 35.2392 - val_loss: 7944.0259 - val_mean_squared_error: 7944.0259 - val_mean_absolute_error: 36.2467\n",
      "Epoch 84/1000\n",
      "5/5 [==============================] - 0s 9ms/step - loss: 7701.1390 - mean_squared_error: 7701.1390 - mean_absolute_error: 35.2435 - val_loss: 7935.3066 - val_mean_squared_error: 7935.3057 - val_mean_absolute_error: 36.2394\n",
      "Epoch 85/1000\n",
      "5/5 [==============================] - 0s 10ms/step - loss: 7580.2638 - mean_squared_error: 7580.2638 - mean_absolute_error: 35.3944 - val_loss: 7926.5601 - val_mean_squared_error: 7926.5601 - val_mean_absolute_error: 36.2320\n",
      "Epoch 86/1000\n",
      "5/5 [==============================] - 0s 9ms/step - loss: 7680.6894 - mean_squared_error: 7680.6894 - mean_absolute_error: 35.7992 - val_loss: 7917.7114 - val_mean_squared_error: 7917.7114 - val_mean_absolute_error: 36.2245\n",
      "Epoch 87/1000\n",
      "5/5 [==============================] - 0s 9ms/step - loss: 8049.9287 - mean_squared_error: 8049.9287 - mean_absolute_error: 36.3161 - val_loss: 7908.7388 - val_mean_squared_error: 7908.7388 - val_mean_absolute_error: 36.2168\n",
      "Epoch 88/1000\n",
      "5/5 [==============================] - 0s 10ms/step - loss: 7723.5672 - mean_squared_error: 7723.5672 - mean_absolute_error: 35.0104 - val_loss: 7899.8447 - val_mean_squared_error: 7899.8447 - val_mean_absolute_error: 36.2092\n",
      "Epoch 89/1000\n",
      "5/5 [==============================] - 0s 8ms/step - loss: 7807.4419 - mean_squared_error: 7807.4419 - mean_absolute_error: 35.7251 - val_loss: 7890.7793 - val_mean_squared_error: 7890.7793 - val_mean_absolute_error: 36.2014\n",
      "Epoch 90/1000\n",
      "5/5 [==============================] - 0s 9ms/step - loss: 7421.0197 - mean_squared_error: 7421.0197 - mean_absolute_error: 33.9665 - val_loss: 7881.7227 - val_mean_squared_error: 7881.7227 - val_mean_absolute_error: 36.1935\n",
      "Epoch 91/1000\n",
      "5/5 [==============================] - 0s 10ms/step - loss: 7469.8183 - mean_squared_error: 7469.8183 - mean_absolute_error: 34.6262 - val_loss: 7872.5952 - val_mean_squared_error: 7872.5952 - val_mean_absolute_error: 36.1855\n",
      "Epoch 92/1000\n",
      "5/5 [==============================] - 0s 9ms/step - loss: 7758.4254 - mean_squared_error: 7758.4254 - mean_absolute_error: 35.9884 - val_loss: 7863.3667 - val_mean_squared_error: 7863.3667 - val_mean_absolute_error: 36.1775\n",
      "Epoch 93/1000\n",
      "5/5 [==============================] - 0s 10ms/step - loss: 7856.5444 - mean_squared_error: 7856.5444 - mean_absolute_error: 36.2456 - val_loss: 7854.1030 - val_mean_squared_error: 7854.1030 - val_mean_absolute_error: 36.1694\n",
      "Epoch 94/1000\n",
      "5/5 [==============================] - 0s 9ms/step - loss: 8136.6985 - mean_squared_error: 8136.6985 - mean_absolute_error: 36.6923 - val_loss: 7844.7554 - val_mean_squared_error: 7844.7554 - val_mean_absolute_error: 36.1612\n",
      "Epoch 95/1000\n",
      "5/5 [==============================] - 0s 10ms/step - loss: 7731.9377 - mean_squared_error: 7731.9377 - mean_absolute_error: 35.5198 - val_loss: 7835.3804 - val_mean_squared_error: 7835.3804 - val_mean_absolute_error: 36.1529\n",
      "Epoch 96/1000\n",
      "5/5 [==============================] - 0s 10ms/step - loss: 7462.2066 - mean_squared_error: 7462.2066 - mean_absolute_error: 35.1326 - val_loss: 7826.0620 - val_mean_squared_error: 7826.0620 - val_mean_absolute_error: 36.1447\n",
      "Epoch 97/1000\n",
      "5/5 [==============================] - 0s 9ms/step - loss: 7672.2752 - mean_squared_error: 7672.2752 - mean_absolute_error: 35.8501 - val_loss: 7816.5620 - val_mean_squared_error: 7816.5620 - val_mean_absolute_error: 36.1362\n",
      "Epoch 98/1000\n",
      "5/5 [==============================] - 0s 9ms/step - loss: 7713.6791 - mean_squared_error: 7713.6791 - mean_absolute_error: 35.6044 - val_loss: 7807.0239 - val_mean_squared_error: 7807.0239 - val_mean_absolute_error: 36.1277\n",
      "Epoch 99/1000\n",
      "5/5 [==============================] - 0s 9ms/step - loss: 7415.0637 - mean_squared_error: 7415.0637 - mean_absolute_error: 34.8359 - val_loss: 7797.4346 - val_mean_squared_error: 7797.4346 - val_mean_absolute_error: 36.1190\n",
      "Epoch 100/1000\n",
      "5/5 [==============================] - 0s 9ms/step - loss: 7434.6580 - mean_squared_error: 7434.6580 - mean_absolute_error: 34.6111 - val_loss: 7787.8159 - val_mean_squared_error: 7787.8159 - val_mean_absolute_error: 36.1103\n",
      "Epoch 101/1000\n",
      "5/5 [==============================] - 0s 9ms/step - loss: 7870.9652 - mean_squared_error: 7870.9652 - mean_absolute_error: 35.9742 - val_loss: 7778.1167 - val_mean_squared_error: 7778.1167 - val_mean_absolute_error: 36.1016\n",
      "Epoch 102/1000\n",
      "5/5 [==============================] - 0s 9ms/step - loss: 7879.9238 - mean_squared_error: 7879.9238 - mean_absolute_error: 36.0530 - val_loss: 7768.3901 - val_mean_squared_error: 7768.3901 - val_mean_absolute_error: 36.0928\n",
      "Epoch 103/1000\n",
      "5/5 [==============================] - 0s 9ms/step - loss: 7600.2163 - mean_squared_error: 7600.2163 - mean_absolute_error: 35.5933 - val_loss: 7758.5508 - val_mean_squared_error: 7758.5508 - val_mean_absolute_error: 36.0837\n",
      "Epoch 104/1000\n",
      "5/5 [==============================] - 0s 9ms/step - loss: 7487.2547 - mean_squared_error: 7487.2547 - mean_absolute_error: 35.1598 - val_loss: 7748.6841 - val_mean_squared_error: 7748.6841 - val_mean_absolute_error: 36.0746\n",
      "Epoch 105/1000\n",
      "5/5 [==============================] - 0s 9ms/step - loss: 7308.1729 - mean_squared_error: 7308.1729 - mean_absolute_error: 34.0858 - val_loss: 7738.8521 - val_mean_squared_error: 7738.8521 - val_mean_absolute_error: 36.0656\n",
      "Epoch 106/1000\n",
      "5/5 [==============================] - 0s 9ms/step - loss: 7460.1308 - mean_squared_error: 7460.1308 - mean_absolute_error: 35.1401 - val_loss: 7728.8418 - val_mean_squared_error: 7728.8418 - val_mean_absolute_error: 36.0563\n",
      "Epoch 107/1000\n",
      "5/5 [==============================] - 0s 9ms/step - loss: 7356.3590 - mean_squared_error: 7356.3590 - mean_absolute_error: 35.2545 - val_loss: 7718.7090 - val_mean_squared_error: 7718.7090 - val_mean_absolute_error: 36.0468\n",
      "Epoch 108/1000\n",
      "5/5 [==============================] - 0s 9ms/step - loss: 7965.4989 - mean_squared_error: 7965.4989 - mean_absolute_error: 36.7931 - val_loss: 7708.5405 - val_mean_squared_error: 7708.5405 - val_mean_absolute_error: 36.0373\n",
      "Epoch 109/1000\n",
      "5/5 [==============================] - 0s 10ms/step - loss: 7432.8071 - mean_squared_error: 7432.8071 - mean_absolute_error: 35.1813 - val_loss: 7698.4492 - val_mean_squared_error: 7698.4492 - val_mean_absolute_error: 36.0278\n",
      "Epoch 110/1000\n",
      "5/5 [==============================] - 0s 9ms/step - loss: 7495.2773 - mean_squared_error: 7495.2773 - mean_absolute_error: 35.5849 - val_loss: 7688.2759 - val_mean_squared_error: 7688.2759 - val_mean_absolute_error: 36.0183\n",
      "Epoch 111/1000\n",
      "5/5 [==============================] - 0s 10ms/step - loss: 7418.7207 - mean_squared_error: 7418.7206 - mean_absolute_error: 35.0839 - val_loss: 7678.0952 - val_mean_squared_error: 7678.0952 - val_mean_absolute_error: 36.0087\n",
      "Epoch 112/1000\n",
      "5/5 [==============================] - 0s 10ms/step - loss: 7829.4752 - mean_squared_error: 7829.4752 - mean_absolute_error: 36.0569 - val_loss: 7667.7593 - val_mean_squared_error: 7667.7593 - val_mean_absolute_error: 35.9988\n",
      "Epoch 113/1000\n",
      "5/5 [==============================] - 0s 10ms/step - loss: 7374.7813 - mean_squared_error: 7374.7813 - mean_absolute_error: 34.8269 - val_loss: 7657.5122 - val_mean_squared_error: 7657.5122 - val_mean_absolute_error: 35.9891\n",
      "Epoch 114/1000\n",
      "5/5 [==============================] - 0s 10ms/step - loss: 7628.5165 - mean_squared_error: 7628.5165 - mean_absolute_error: 35.7664 - val_loss: 7646.9731 - val_mean_squared_error: 7646.9731 - val_mean_absolute_error: 35.9789\n",
      "Epoch 115/1000\n",
      "5/5 [==============================] - 0s 10ms/step - loss: 7784.4390 - mean_squared_error: 7784.4390 - mean_absolute_error: 36.2857 - val_loss: 7636.5557 - val_mean_squared_error: 7636.5557 - val_mean_absolute_error: 35.9690\n",
      "Epoch 116/1000\n",
      "5/5 [==============================] - 0s 9ms/step - loss: 7294.8508 - mean_squared_error: 7294.8508 - mean_absolute_error: 34.3287 - val_loss: 7626.3232 - val_mean_squared_error: 7626.3232 - val_mean_absolute_error: 35.9592\n",
      "Epoch 117/1000\n",
      "5/5 [==============================] - 0s 10ms/step - loss: 7218.0925 - mean_squared_error: 7218.0925 - mean_absolute_error: 34.6754 - val_loss: 7615.7554 - val_mean_squared_error: 7615.7554 - val_mean_absolute_error: 35.9489\n",
      "Epoch 118/1000\n",
      "5/5 [==============================] - 0s 10ms/step - loss: 7363.9149 - mean_squared_error: 7363.9149 - mean_absolute_error: 34.8896 - val_loss: 7604.9761 - val_mean_squared_error: 7604.9761 - val_mean_absolute_error: 35.9382\n",
      "Epoch 119/1000\n",
      "5/5 [==============================] - 0s 10ms/step - loss: 7349.6111 - mean_squared_error: 7349.6111 - mean_absolute_error: 35.1562 - val_loss: 7594.3472 - val_mean_squared_error: 7594.3472 - val_mean_absolute_error: 35.9278\n",
      "Epoch 120/1000\n",
      "5/5 [==============================] - 0s 9ms/step - loss: 7310.4215 - mean_squared_error: 7310.4215 - mean_absolute_error: 35.0756 - val_loss: 7583.7476 - val_mean_squared_error: 7583.7476 - val_mean_absolute_error: 35.9175\n",
      "Epoch 121/1000\n",
      "5/5 [==============================] - 0s 10ms/step - loss: 7219.5120 - mean_squared_error: 7219.5120 - mean_absolute_error: 34.5848 - val_loss: 7573.0952 - val_mean_squared_error: 7573.0952 - val_mean_absolute_error: 35.9070\n",
      "Epoch 122/1000\n",
      "5/5 [==============================] - 0s 10ms/step - loss: 7615.1946 - mean_squared_error: 7615.1946 - mean_absolute_error: 35.4023 - val_loss: 7562.1333 - val_mean_squared_error: 7562.1333 - val_mean_absolute_error: 35.8960\n",
      "Epoch 123/1000\n",
      "5/5 [==============================] - 0s 10ms/step - loss: 7692.9765 - mean_squared_error: 7692.9765 - mean_absolute_error: 36.1932 - val_loss: 7551.2407 - val_mean_squared_error: 7551.2407 - val_mean_absolute_error: 35.8851\n",
      "Epoch 124/1000\n",
      "5/5 [==============================] - 0s 10ms/step - loss: 7273.7275 - mean_squared_error: 7273.7275 - mean_absolute_error: 35.1493 - val_loss: 7540.5508 - val_mean_squared_error: 7540.5508 - val_mean_absolute_error: 35.8746\n",
      "Epoch 125/1000\n",
      "5/5 [==============================] - 0s 9ms/step - loss: 7544.8662 - mean_squared_error: 7544.8662 - mean_absolute_error: 35.7170 - val_loss: 7529.6221 - val_mean_squared_error: 7529.6221 - val_mean_absolute_error: 35.8637\n",
      "Epoch 126/1000\n",
      "5/5 [==============================] - 0s 9ms/step - loss: 7562.2144 - mean_squared_error: 7562.2144 - mean_absolute_error: 35.9390 - val_loss: 7518.7046 - val_mean_squared_error: 7518.7046 - val_mean_absolute_error: 35.8527\n",
      "Epoch 127/1000\n",
      "5/5 [==============================] - 0s 9ms/step - loss: 6971.9788 - mean_squared_error: 6971.9788 - mean_absolute_error: 34.0501 - val_loss: 7507.9658 - val_mean_squared_error: 7507.9658 - val_mean_absolute_error: 35.8420\n",
      "Epoch 128/1000\n",
      "5/5 [==============================] - 0s 9ms/step - loss: 7651.7842 - mean_squared_error: 7651.7842 - mean_absolute_error: 35.9127 - val_loss: 7496.7275 - val_mean_squared_error: 7496.7275 - val_mean_absolute_error: 35.8305\n",
      "Epoch 129/1000\n",
      "5/5 [==============================] - 0s 9ms/step - loss: 7340.0808 - mean_squared_error: 7340.0808 - mean_absolute_error: 34.9163 - val_loss: 7485.8438 - val_mean_squared_error: 7485.8438 - val_mean_absolute_error: 35.8196\n",
      "Epoch 130/1000\n",
      "5/5 [==============================] - 0s 10ms/step - loss: 7298.7518 - mean_squared_error: 7298.7518 - mean_absolute_error: 34.6525 - val_loss: 7474.6982 - val_mean_squared_error: 7474.6982 - val_mean_absolute_error: 35.8082\n",
      "Epoch 131/1000\n",
      "5/5 [==============================] - 0s 9ms/step - loss: 7170.2046 - mean_squared_error: 7170.2046 - mean_absolute_error: 34.6374 - val_loss: 7463.4648 - val_mean_squared_error: 7463.4648 - val_mean_absolute_error: 35.7966\n",
      "Epoch 132/1000\n",
      "5/5 [==============================] - 0s 10ms/step - loss: 7325.1182 - mean_squared_error: 7325.1182 - mean_absolute_error: 35.4064 - val_loss: 7452.3721 - val_mean_squared_error: 7452.3721 - val_mean_absolute_error: 35.7854\n",
      "Epoch 133/1000\n",
      "5/5 [==============================] - 0s 11ms/step - loss: 7146.2273 - mean_squared_error: 7146.2273 - mean_absolute_error: 34.8932 - val_loss: 7441.1304 - val_mean_squared_error: 7441.1304 - val_mean_absolute_error: 35.7737\n",
      "Epoch 134/1000\n",
      "5/5 [==============================] - 0s 10ms/step - loss: 7193.3186 - mean_squared_error: 7193.3186 - mean_absolute_error: 34.9646 - val_loss: 7429.9233 - val_mean_squared_error: 7429.9233 - val_mean_absolute_error: 35.7622\n",
      "Epoch 135/1000\n",
      "5/5 [==============================] - 0s 10ms/step - loss: 7399.8645 - mean_squared_error: 7399.8645 - mean_absolute_error: 35.7323 - val_loss: 7418.6323 - val_mean_squared_error: 7418.6323 - val_mean_absolute_error: 35.7504\n",
      "Epoch 136/1000\n",
      "5/5 [==============================] - 0s 10ms/step - loss: 7531.1640 - mean_squared_error: 7531.1640 - mean_absolute_error: 36.2141 - val_loss: 7407.1675 - val_mean_squared_error: 7407.1675 - val_mean_absolute_error: 35.7384\n",
      "Epoch 137/1000\n"
     ]
    },
    {
     "name": "stdout",
     "output_type": "stream",
     "text": [
      "5/5 [==============================] - 0s 10ms/step - loss: 7379.9273 - mean_squared_error: 7379.9273 - mean_absolute_error: 35.4071 - val_loss: 7395.9194 - val_mean_squared_error: 7395.9194 - val_mean_absolute_error: 35.7266\n",
      "Epoch 138/1000\n",
      "5/5 [==============================] - 0s 10ms/step - loss: 7665.1696 - mean_squared_error: 7665.1696 - mean_absolute_error: 36.4969 - val_loss: 7384.3369 - val_mean_squared_error: 7384.3369 - val_mean_absolute_error: 35.7144\n",
      "Epoch 139/1000\n",
      "5/5 [==============================] - 0s 9ms/step - loss: 7321.5575 - mean_squared_error: 7321.5575 - mean_absolute_error: 35.1947 - val_loss: 7373.0034 - val_mean_squared_error: 7373.0034 - val_mean_absolute_error: 35.7025\n",
      "Epoch 140/1000\n",
      "5/5 [==============================] - 0s 9ms/step - loss: 7154.0527 - mean_squared_error: 7154.0527 - mean_absolute_error: 34.9815 - val_loss: 7361.5190 - val_mean_squared_error: 7361.5190 - val_mean_absolute_error: 35.6904\n",
      "Epoch 141/1000\n",
      "5/5 [==============================] - 0s 10ms/step - loss: 7379.2026 - mean_squared_error: 7379.2026 - mean_absolute_error: 35.4901 - val_loss: 7350.0835 - val_mean_squared_error: 7350.0835 - val_mean_absolute_error: 35.6783\n",
      "Epoch 142/1000\n",
      "5/5 [==============================] - 0s 9ms/step - loss: 7364.0776 - mean_squared_error: 7364.0776 - mean_absolute_error: 35.7881 - val_loss: 7338.5137 - val_mean_squared_error: 7338.5137 - val_mean_absolute_error: 35.6659\n",
      "Epoch 143/1000\n",
      "5/5 [==============================] - 0s 9ms/step - loss: 7023.5802 - mean_squared_error: 7023.5802 - mean_absolute_error: 34.1749 - val_loss: 7327.2090 - val_mean_squared_error: 7327.2090 - val_mean_absolute_error: 35.6540\n",
      "Epoch 144/1000\n",
      "5/5 [==============================] - 0s 9ms/step - loss: 7077.7609 - mean_squared_error: 7077.7609 - mean_absolute_error: 34.6851 - val_loss: 7315.5054 - val_mean_squared_error: 7315.5054 - val_mean_absolute_error: 35.6414\n",
      "Epoch 145/1000\n",
      "5/5 [==============================] - 0s 10ms/step - loss: 6955.6740 - mean_squared_error: 6955.6740 - mean_absolute_error: 34.2318 - val_loss: 7303.9233 - val_mean_squared_error: 7303.9233 - val_mean_absolute_error: 35.6290\n",
      "Epoch 146/1000\n",
      "5/5 [==============================] - 0s 9ms/step - loss: 6948.2755 - mean_squared_error: 6948.2755 - mean_absolute_error: 34.0111 - val_loss: 7292.2046 - val_mean_squared_error: 7292.2046 - val_mean_absolute_error: 35.6163\n",
      "Epoch 147/1000\n",
      "5/5 [==============================] - 0s 9ms/step - loss: 6921.3889 - mean_squared_error: 6921.3889 - mean_absolute_error: 34.4906 - val_loss: 7280.4556 - val_mean_squared_error: 7280.4556 - val_mean_absolute_error: 35.6036\n",
      "Epoch 148/1000\n",
      "5/5 [==============================] - 0s 10ms/step - loss: 7482.7067 - mean_squared_error: 7482.7067 - mean_absolute_error: 36.2777 - val_loss: 7268.3584 - val_mean_squared_error: 7268.3584 - val_mean_absolute_error: 35.5903\n",
      "Epoch 149/1000\n",
      "5/5 [==============================] - 0s 9ms/step - loss: 7493.1615 - mean_squared_error: 7493.1615 - mean_absolute_error: 36.0078 - val_loss: 7256.5444 - val_mean_squared_error: 7256.5444 - val_mean_absolute_error: 35.5774\n",
      "Epoch 150/1000\n",
      "5/5 [==============================] - 0s 10ms/step - loss: 7058.9739 - mean_squared_error: 7058.9739 - mean_absolute_error: 34.8678 - val_loss: 7244.9165 - val_mean_squared_error: 7244.9165 - val_mean_absolute_error: 35.5648\n",
      "Epoch 151/1000\n",
      "5/5 [==============================] - 0s 9ms/step - loss: 6919.3289 - mean_squared_error: 6919.3289 - mean_absolute_error: 34.3972 - val_loss: 7233.1367 - val_mean_squared_error: 7233.1367 - val_mean_absolute_error: 35.5518\n",
      "Epoch 152/1000\n",
      "5/5 [==============================] - 0s 9ms/step - loss: 7139.4062 - mean_squared_error: 7139.4062 - mean_absolute_error: 34.8822 - val_loss: 7221.2681 - val_mean_squared_error: 7221.2681 - val_mean_absolute_error: 35.5386\n",
      "Epoch 153/1000\n",
      "5/5 [==============================] - 0s 10ms/step - loss: 6706.3381 - mean_squared_error: 6706.3381 - mean_absolute_error: 34.0478 - val_loss: 7209.4365 - val_mean_squared_error: 7209.4365 - val_mean_absolute_error: 35.5256\n",
      "Epoch 154/1000\n",
      "5/5 [==============================] - 0s 9ms/step - loss: 7172.2495 - mean_squared_error: 7172.2495 - mean_absolute_error: 35.3775 - val_loss: 7197.4233 - val_mean_squared_error: 7197.4233 - val_mean_absolute_error: 35.5122\n",
      "Epoch 155/1000\n",
      "5/5 [==============================] - 0s 9ms/step - loss: 6579.5626 - mean_squared_error: 6579.5626 - mean_absolute_error: 33.5401 - val_loss: 7185.6060 - val_mean_squared_error: 7185.6060 - val_mean_absolute_error: 35.4991\n",
      "Epoch 156/1000\n",
      "5/5 [==============================] - 0s 9ms/step - loss: 7049.0614 - mean_squared_error: 7049.0614 - mean_absolute_error: 34.8788 - val_loss: 7173.4727 - val_mean_squared_error: 7173.4727 - val_mean_absolute_error: 35.4853\n",
      "Epoch 157/1000\n",
      "5/5 [==============================] - 0s 9ms/step - loss: 6630.8594 - mean_squared_error: 6630.8594 - mean_absolute_error: 33.4906 - val_loss: 7161.5483 - val_mean_squared_error: 7161.5483 - val_mean_absolute_error: 35.4718\n",
      "Epoch 158/1000\n",
      "5/5 [==============================] - 0s 10ms/step - loss: 7087.3044 - mean_squared_error: 7087.3044 - mean_absolute_error: 35.0618 - val_loss: 7149.6304 - val_mean_squared_error: 7149.6304 - val_mean_absolute_error: 35.4586\n",
      "Epoch 159/1000\n",
      "5/5 [==============================] - 0s 10ms/step - loss: 6637.0306 - mean_squared_error: 6637.0306 - mean_absolute_error: 33.7216 - val_loss: 7137.4214 - val_mean_squared_error: 7137.4214 - val_mean_absolute_error: 35.4446\n",
      "Epoch 160/1000\n",
      "5/5 [==============================] - 0s 10ms/step - loss: 6950.1484 - mean_squared_error: 6950.1484 - mean_absolute_error: 34.6544 - val_loss: 7125.3730 - val_mean_squared_error: 7125.3730 - val_mean_absolute_error: 35.4310\n",
      "Epoch 161/1000\n",
      "5/5 [==============================] - 0s 9ms/step - loss: 6818.4574 - mean_squared_error: 6818.4574 - mean_absolute_error: 34.3211 - val_loss: 7113.1294 - val_mean_squared_error: 7113.1294 - val_mean_absolute_error: 35.4170\n",
      "Epoch 162/1000\n",
      "5/5 [==============================] - 0s 10ms/step - loss: 6941.4018 - mean_squared_error: 6941.4018 - mean_absolute_error: 34.7335 - val_loss: 7101.0991 - val_mean_squared_error: 7101.0991 - val_mean_absolute_error: 35.4035\n",
      "Epoch 163/1000\n",
      "5/5 [==============================] - 0s 10ms/step - loss: 7087.5413 - mean_squared_error: 7087.5413 - mean_absolute_error: 35.6172 - val_loss: 7088.8110 - val_mean_squared_error: 7088.8110 - val_mean_absolute_error: 35.3893\n",
      "Epoch 164/1000\n",
      "5/5 [==============================] - 0s 9ms/step - loss: 6781.2366 - mean_squared_error: 6781.2366 - mean_absolute_error: 34.2226 - val_loss: 7076.5127 - val_mean_squared_error: 7076.5127 - val_mean_absolute_error: 35.3750\n",
      "Epoch 165/1000\n",
      "5/5 [==============================] - 0s 10ms/step - loss: 6708.8962 - mean_squared_error: 6708.8962 - mean_absolute_error: 33.8210 - val_loss: 7064.2661 - val_mean_squared_error: 7064.2661 - val_mean_absolute_error: 35.3608\n",
      "Epoch 166/1000\n",
      "5/5 [==============================] - 0s 9ms/step - loss: 6853.7097 - mean_squared_error: 6853.7097 - mean_absolute_error: 34.7311 - val_loss: 7052.0444 - val_mean_squared_error: 7052.0444 - val_mean_absolute_error: 35.3468\n",
      "Epoch 167/1000\n",
      "5/5 [==============================] - 0s 9ms/step - loss: 6807.4878 - mean_squared_error: 6807.4878 - mean_absolute_error: 34.1656 - val_loss: 7039.7153 - val_mean_squared_error: 7039.7153 - val_mean_absolute_error: 35.3324\n",
      "Epoch 168/1000\n",
      "5/5 [==============================] - 0s 10ms/step - loss: 6862.8529 - mean_squared_error: 6862.8529 - mean_absolute_error: 35.3308 - val_loss: 7027.4053 - val_mean_squared_error: 7027.4053 - val_mean_absolute_error: 35.3181\n",
      "Epoch 169/1000\n",
      "5/5 [==============================] - 0s 9ms/step - loss: 7270.1857 - mean_squared_error: 7270.1857 - mean_absolute_error: 35.7082 - val_loss: 7015.0947 - val_mean_squared_error: 7015.0947 - val_mean_absolute_error: 35.3037\n",
      "Epoch 170/1000\n",
      "5/5 [==============================] - 0s 9ms/step - loss: 6869.1326 - mean_squared_error: 6869.1326 - mean_absolute_error: 34.5814 - val_loss: 7002.8047 - val_mean_squared_error: 7002.8047 - val_mean_absolute_error: 35.2892\n",
      "Epoch 171/1000\n",
      "5/5 [==============================] - 0s 10ms/step - loss: 6734.0312 - mean_squared_error: 6734.0312 - mean_absolute_error: 34.3038 - val_loss: 6990.5806 - val_mean_squared_error: 6990.5806 - val_mean_absolute_error: 35.2748\n",
      "Epoch 172/1000\n",
      "5/5 [==============================] - 0s 9ms/step - loss: 6680.6258 - mean_squared_error: 6680.6258 - mean_absolute_error: 34.2003 - val_loss: 6978.0513 - val_mean_squared_error: 6978.0513 - val_mean_absolute_error: 35.2597\n",
      "Epoch 173/1000\n",
      "5/5 [==============================] - 0s 9ms/step - loss: 7002.0573 - mean_squared_error: 7002.0573 - mean_absolute_error: 35.0810 - val_loss: 6965.6787 - val_mean_squared_error: 6965.6787 - val_mean_absolute_error: 35.2451\n",
      "Epoch 174/1000\n",
      "5/5 [==============================] - 0s 9ms/step - loss: 6448.9871 - mean_squared_error: 6448.9871 - mean_absolute_error: 33.7934 - val_loss: 6953.2812 - val_mean_squared_error: 6953.2812 - val_mean_absolute_error: 35.2303\n",
      "Epoch 175/1000\n",
      "5/5 [==============================] - 0s 9ms/step - loss: 6582.1815 - mean_squared_error: 6582.1815 - mean_absolute_error: 33.9748 - val_loss: 6940.9590 - val_mean_squared_error: 6940.9590 - val_mean_absolute_error: 35.2161\n",
      "Epoch 176/1000\n",
      "5/5 [==============================] - 0s 9ms/step - loss: 6957.9091 - mean_squared_error: 6957.9091 - mean_absolute_error: 34.8166 - val_loss: 6928.2524 - val_mean_squared_error: 6928.2524 - val_mean_absolute_error: 35.2012\n",
      "Epoch 177/1000\n",
      "5/5 [==============================] - 0s 10ms/step - loss: 6678.6782 - mean_squared_error: 6678.6782 - mean_absolute_error: 34.1285 - val_loss: 6915.7686 - val_mean_squared_error: 6915.7686 - val_mean_absolute_error: 35.1866\n",
      "Epoch 178/1000\n",
      "5/5 [==============================] - 0s 9ms/step - loss: 6749.0477 - mean_squared_error: 6749.0477 - mean_absolute_error: 34.2543 - val_loss: 6903.3657 - val_mean_squared_error: 6903.3657 - val_mean_absolute_error: 35.1722\n",
      "Epoch 179/1000\n",
      "5/5 [==============================] - 0s 9ms/step - loss: 6516.5734 - mean_squared_error: 6516.5734 - mean_absolute_error: 33.9327 - val_loss: 6891.0103 - val_mean_squared_error: 6891.0103 - val_mean_absolute_error: 35.1579\n",
      "Epoch 180/1000\n",
      "5/5 [==============================] - 0s 9ms/step - loss: 6831.7103 - mean_squared_error: 6831.7103 - mean_absolute_error: 34.9098 - val_loss: 6878.3447 - val_mean_squared_error: 6878.3447 - val_mean_absolute_error: 35.1429\n",
      "Epoch 181/1000\n",
      "5/5 [==============================] - 0s 10ms/step - loss: 6476.4094 - mean_squared_error: 6476.4094 - mean_absolute_error: 33.7556 - val_loss: 6865.6553 - val_mean_squared_error: 6865.6553 - val_mean_absolute_error: 35.1277\n",
      "Epoch 182/1000\n",
      "5/5 [==============================] - 0s 9ms/step - loss: 6647.5231 - mean_squared_error: 6647.5231 - mean_absolute_error: 34.1585 - val_loss: 6853.1411 - val_mean_squared_error: 6853.1411 - val_mean_absolute_error: 35.1130\n",
      "Epoch 183/1000\n",
      "5/5 [==============================] - 0s 9ms/step - loss: 6542.6711 - mean_squared_error: 6542.6711 - mean_absolute_error: 34.1037 - val_loss: 6840.6289 - val_mean_squared_error: 6840.6289 - val_mean_absolute_error: 35.0984\n",
      "Epoch 184/1000\n",
      "5/5 [==============================] - 0s 9ms/step - loss: 6741.8254 - mean_squared_error: 6741.8254 - mean_absolute_error: 34.8034 - val_loss: 6827.9453 - val_mean_squared_error: 6827.9453 - val_mean_absolute_error: 35.0835\n",
      "Epoch 185/1000\n",
      "5/5 [==============================] - 0s 10ms/step - loss: 6473.7856 - mean_squared_error: 6473.7856 - mean_absolute_error: 34.0489 - val_loss: 6815.5000 - val_mean_squared_error: 6815.5000 - val_mean_absolute_error: 35.0691\n",
      "Epoch 186/1000\n",
      "5/5 [==============================] - 0s 10ms/step - loss: 6529.5549 - mean_squared_error: 6529.5549 - mean_absolute_error: 34.1951 - val_loss: 6802.8301 - val_mean_squared_error: 6802.8301 - val_mean_absolute_error: 35.0544\n",
      "Epoch 187/1000\n",
      "5/5 [==============================] - 0s 10ms/step - loss: 6366.7336 - mean_squared_error: 6366.7336 - mean_absolute_error: 33.6758 - val_loss: 6790.3076 - val_mean_squared_error: 6790.3076 - val_mean_absolute_error: 35.0398\n",
      "Epoch 188/1000\n",
      "5/5 [==============================] - 0s 9ms/step - loss: 6569.4749 - mean_squared_error: 6569.4749 - mean_absolute_error: 34.4291 - val_loss: 6777.2275 - val_mean_squared_error: 6777.2275 - val_mean_absolute_error: 35.0240\n",
      "Epoch 189/1000\n",
      "5/5 [==============================] - 0s 10ms/step - loss: 6599.6626 - mean_squared_error: 6599.6626 - mean_absolute_error: 34.3435 - val_loss: 6764.8169 - val_mean_squared_error: 6764.8169 - val_mean_absolute_error: 35.0097\n",
      "Epoch 190/1000\n",
      "5/5 [==============================] - 0s 10ms/step - loss: 6788.8270 - mean_squared_error: 6788.8270 - mean_absolute_error: 34.9001 - val_loss: 6752.1318 - val_mean_squared_error: 6752.1318 - val_mean_absolute_error: 34.9946\n",
      "Epoch 191/1000\n",
      "5/5 [==============================] - 0s 10ms/step - loss: 6672.3680 - mean_squared_error: 6672.3680 - mean_absolute_error: 34.6057 - val_loss: 6739.5444 - val_mean_squared_error: 6739.5444 - val_mean_absolute_error: 34.9799\n",
      "Epoch 192/1000\n",
      "5/5 [==============================] - 0s 11ms/step - loss: 6392.3043 - mean_squared_error: 6392.3043 - mean_absolute_error: 33.6834 - val_loss: 6726.9844 - val_mean_squared_error: 6726.9844 - val_mean_absolute_error: 34.9648\n",
      "Epoch 193/1000\n",
      "5/5 [==============================] - 0s 9ms/step - loss: 6581.9613 - mean_squared_error: 6581.9613 - mean_absolute_error: 34.4465 - val_loss: 6714.3315 - val_mean_squared_error: 6714.3315 - val_mean_absolute_error: 34.9501\n",
      "Epoch 194/1000\n",
      "5/5 [==============================] - 0s 9ms/step - loss: 6742.3873 - mean_squared_error: 6742.3873 - mean_absolute_error: 34.5459 - val_loss: 6701.5747 - val_mean_squared_error: 6701.5747 - val_mean_absolute_error: 34.9350\n",
      "Epoch 195/1000\n",
      "5/5 [==============================] - 0s 10ms/step - loss: 6289.3403 - mean_squared_error: 6289.3403 - mean_absolute_error: 33.5918 - val_loss: 6689.1279 - val_mean_squared_error: 6689.1279 - val_mean_absolute_error: 34.9204\n",
      "Epoch 196/1000\n",
      "5/5 [==============================] - 0s 9ms/step - loss: 6211.0382 - mean_squared_error: 6211.0382 - mean_absolute_error: 33.4576 - val_loss: 6676.4048 - val_mean_squared_error: 6676.4048 - val_mean_absolute_error: 34.9053\n",
      "Epoch 197/1000\n",
      "5/5 [==============================] - 0s 9ms/step - loss: 6158.7433 - mean_squared_error: 6158.7433 - mean_absolute_error: 33.3926 - val_loss: 6663.9375 - val_mean_squared_error: 6663.9375 - val_mean_absolute_error: 34.8906\n",
      "Epoch 198/1000\n",
      "5/5 [==============================] - 0s 9ms/step - loss: 6480.1477 - mean_squared_error: 6480.1477 - mean_absolute_error: 33.7354 - val_loss: 6650.9185 - val_mean_squared_error: 6650.9185 - val_mean_absolute_error: 34.8748\n",
      "Epoch 199/1000\n",
      "5/5 [==============================] - 0s 9ms/step - loss: 6321.7738 - mean_squared_error: 6321.7738 - mean_absolute_error: 33.4741 - val_loss: 6638.5283 - val_mean_squared_error: 6638.5283 - val_mean_absolute_error: 34.8605\n",
      "Epoch 200/1000\n",
      "5/5 [==============================] - 0s 10ms/step - loss: 6557.4459 - mean_squared_error: 6557.4459 - mean_absolute_error: 34.8019 - val_loss: 6625.4922 - val_mean_squared_error: 6625.4922 - val_mean_absolute_error: 34.8449\n",
      "Epoch 201/1000\n",
      "5/5 [==============================] - 0s 10ms/step - loss: 6491.5076 - mean_squared_error: 6491.5076 - mean_absolute_error: 34.2037 - val_loss: 6612.9014 - val_mean_squared_error: 6612.9014 - val_mean_absolute_error: 34.8302\n",
      "Epoch 202/1000\n",
      "5/5 [==============================] - 0s 9ms/step - loss: 6595.6122 - mean_squared_error: 6595.6122 - mean_absolute_error: 34.5208 - val_loss: 6600.0493 - val_mean_squared_error: 6600.0493 - val_mean_absolute_error: 34.8152\n",
      "Epoch 203/1000\n",
      "5/5 [==============================] - 0s 10ms/step - loss: 6511.1847 - mean_squared_error: 6511.1847 - mean_absolute_error: 34.2223 - val_loss: 6587.3232 - val_mean_squared_error: 6587.3232 - val_mean_absolute_error: 34.8003\n",
      "Epoch 204/1000\n",
      "5/5 [==============================] - 0s 10ms/step - loss: 6584.9079 - mean_squared_error: 6584.9079 - mean_absolute_error: 34.3431 - val_loss: 6574.7173 - val_mean_squared_error: 6574.7173 - val_mean_absolute_error: 34.7857\n",
      "Epoch 205/1000\n"
     ]
    },
    {
     "name": "stdout",
     "output_type": "stream",
     "text": [
      "5/5 [==============================] - 0s 9ms/step - loss: 6371.2936 - mean_squared_error: 6371.2936 - mean_absolute_error: 34.1737 - val_loss: 6562.0264 - val_mean_squared_error: 6562.0264 - val_mean_absolute_error: 34.7709\n",
      "Epoch 206/1000\n",
      "5/5 [==============================] - 0s 9ms/step - loss: 6495.9432 - mean_squared_error: 6495.9432 - mean_absolute_error: 34.3700 - val_loss: 6549.5566 - val_mean_squared_error: 6549.5566 - val_mean_absolute_error: 34.7566\n",
      "Epoch 207/1000\n",
      "5/5 [==============================] - 0s 9ms/step - loss: 6075.1374 - mean_squared_error: 6075.1374 - mean_absolute_error: 33.2000 - val_loss: 6536.5571 - val_mean_squared_error: 6536.5571 - val_mean_absolute_error: 34.7411\n",
      "Epoch 208/1000\n",
      "5/5 [==============================] - 0s 9ms/step - loss: 6651.7537 - mean_squared_error: 6651.7537 - mean_absolute_error: 34.8877 - val_loss: 6524.0396 - val_mean_squared_error: 6524.0396 - val_mean_absolute_error: 34.7269\n",
      "Epoch 209/1000\n",
      "5/5 [==============================] - 0s 9ms/step - loss: 6442.2774 - mean_squared_error: 6442.2774 - mean_absolute_error: 34.4666 - val_loss: 6510.9829 - val_mean_squared_error: 6510.9829 - val_mean_absolute_error: 34.7113\n",
      "Epoch 210/1000\n",
      "5/5 [==============================] - 0s 9ms/step - loss: 6051.4094 - mean_squared_error: 6051.4094 - mean_absolute_error: 32.9441 - val_loss: 6498.6006 - val_mean_squared_error: 6498.6006 - val_mean_absolute_error: 34.6974\n",
      "Epoch 211/1000\n",
      "5/5 [==============================] - 0s 9ms/step - loss: 6399.4229 - mean_squared_error: 6399.4229 - mean_absolute_error: 33.9024 - val_loss: 6485.4556 - val_mean_squared_error: 6485.4556 - val_mean_absolute_error: 34.6819\n",
      "Epoch 212/1000\n",
      "5/5 [==============================] - 0s 9ms/step - loss: 6398.3239 - mean_squared_error: 6398.3239 - mean_absolute_error: 34.5026 - val_loss: 6473.0913 - val_mean_squared_error: 6473.0913 - val_mean_absolute_error: 34.6682\n",
      "Epoch 213/1000\n",
      "5/5 [==============================] - 0s 10ms/step - loss: 5861.0763 - mean_squared_error: 5861.0763 - mean_absolute_error: 32.3350 - val_loss: 6460.5669 - val_mean_squared_error: 6460.5669 - val_mean_absolute_error: 34.6541\n",
      "Epoch 214/1000\n",
      "5/5 [==============================] - 0s 9ms/step - loss: 6294.1441 - mean_squared_error: 6294.1440 - mean_absolute_error: 34.3056 - val_loss: 6447.5771 - val_mean_squared_error: 6447.5771 - val_mean_absolute_error: 34.6391\n",
      "Epoch 215/1000\n",
      "5/5 [==============================] - 0s 10ms/step - loss: 6135.7795 - mean_squared_error: 6135.7795 - mean_absolute_error: 33.2138 - val_loss: 6435.0859 - val_mean_squared_error: 6435.0859 - val_mean_absolute_error: 34.6251\n",
      "Epoch 216/1000\n",
      "5/5 [==============================] - 0s 9ms/step - loss: 6290.6276 - mean_squared_error: 6290.6276 - mean_absolute_error: 33.5971 - val_loss: 6422.1191 - val_mean_squared_error: 6422.1191 - val_mean_absolute_error: 34.6101\n",
      "Epoch 217/1000\n",
      "5/5 [==============================] - 0s 10ms/step - loss: 5967.2150 - mean_squared_error: 5967.2150 - mean_absolute_error: 32.7070 - val_loss: 6409.6631 - val_mean_squared_error: 6409.6631 - val_mean_absolute_error: 34.5966\n",
      "Epoch 218/1000\n",
      "5/5 [==============================] - 0s 9ms/step - loss: 6205.1358 - mean_squared_error: 6205.1358 - mean_absolute_error: 33.7604 - val_loss: 6396.9092 - val_mean_squared_error: 6396.9092 - val_mean_absolute_error: 34.5826\n",
      "Epoch 219/1000\n",
      "5/5 [==============================] - 0s 10ms/step - loss: 6344.5117 - mean_squared_error: 6344.5117 - mean_absolute_error: 34.3215 - val_loss: 6384.0601 - val_mean_squared_error: 6384.0601 - val_mean_absolute_error: 34.5684\n",
      "Epoch 220/1000\n",
      "5/5 [==============================] - 0s 9ms/step - loss: 6464.3161 - mean_squared_error: 6464.3161 - mean_absolute_error: 34.3986 - val_loss: 6371.4214 - val_mean_squared_error: 6371.4214 - val_mean_absolute_error: 34.5546\n",
      "Epoch 221/1000\n",
      "5/5 [==============================] - 0s 10ms/step - loss: 6360.6340 - mean_squared_error: 6360.6340 - mean_absolute_error: 34.0085 - val_loss: 6358.5596 - val_mean_squared_error: 6358.5596 - val_mean_absolute_error: 34.5403\n",
      "Epoch 222/1000\n",
      "5/5 [==============================] - 0s 9ms/step - loss: 6060.0752 - mean_squared_error: 6060.0752 - mean_absolute_error: 33.4010 - val_loss: 6346.1294 - val_mean_squared_error: 6346.1294 - val_mean_absolute_error: 34.5272\n",
      "Epoch 223/1000\n",
      "5/5 [==============================] - 0s 10ms/step - loss: 6346.3775 - mean_squared_error: 6346.3775 - mean_absolute_error: 34.4504 - val_loss: 6333.4561 - val_mean_squared_error: 6333.4561 - val_mean_absolute_error: 34.5138\n",
      "Epoch 224/1000\n",
      "5/5 [==============================] - 0s 9ms/step - loss: 6161.2964 - mean_squared_error: 6161.2964 - mean_absolute_error: 33.8182 - val_loss: 6320.7510 - val_mean_squared_error: 6320.7510 - val_mean_absolute_error: 34.5003\n",
      "Epoch 225/1000\n",
      "5/5 [==============================] - 0s 9ms/step - loss: 6463.4368 - mean_squared_error: 6463.4368 - mean_absolute_error: 34.5267 - val_loss: 6308.2231 - val_mean_squared_error: 6308.2231 - val_mean_absolute_error: 34.4874\n",
      "Epoch 226/1000\n",
      "5/5 [==============================] - 0s 9ms/step - loss: 6180.1185 - mean_squared_error: 6180.1185 - mean_absolute_error: 34.1080 - val_loss: 6295.4619 - val_mean_squared_error: 6295.4619 - val_mean_absolute_error: 34.4739\n",
      "Epoch 227/1000\n",
      "5/5 [==============================] - 0s 9ms/step - loss: 6286.3584 - mean_squared_error: 6286.3584 - mean_absolute_error: 34.5871 - val_loss: 6282.8770 - val_mean_squared_error: 6282.8770 - val_mean_absolute_error: 34.4608\n",
      "Epoch 228/1000\n",
      "5/5 [==============================] - 0s 9ms/step - loss: 6234.9032 - mean_squared_error: 6234.9032 - mean_absolute_error: 34.1027 - val_loss: 6270.4575 - val_mean_squared_error: 6270.4575 - val_mean_absolute_error: 34.4481\n",
      "Epoch 229/1000\n",
      "5/5 [==============================] - 0s 10ms/step - loss: 6172.6342 - mean_squared_error: 6172.6342 - mean_absolute_error: 34.0862 - val_loss: 6258.1870 - val_mean_squared_error: 6258.1870 - val_mean_absolute_error: 34.4357\n",
      "Epoch 230/1000\n",
      "5/5 [==============================] - 0s 9ms/step - loss: 5822.0487 - mean_squared_error: 5822.0487 - mean_absolute_error: 33.1145 - val_loss: 6245.3726 - val_mean_squared_error: 6245.3726 - val_mean_absolute_error: 34.4219\n",
      "Epoch 231/1000\n",
      "5/5 [==============================] - 0s 9ms/step - loss: 6329.8515 - mean_squared_error: 6329.8515 - mean_absolute_error: 34.3931 - val_loss: 6232.8970 - val_mean_squared_error: 6232.8970 - val_mean_absolute_error: 34.4090\n",
      "Epoch 232/1000\n",
      "5/5 [==============================] - 0s 9ms/step - loss: 6304.8254 - mean_squared_error: 6304.8254 - mean_absolute_error: 34.1904 - val_loss: 6220.3994 - val_mean_squared_error: 6220.3994 - val_mean_absolute_error: 34.3961\n",
      "Epoch 233/1000\n",
      "5/5 [==============================] - 0s 9ms/step - loss: 6173.3243 - mean_squared_error: 6173.3243 - mean_absolute_error: 34.2847 - val_loss: 6207.4536 - val_mean_squared_error: 6207.4536 - val_mean_absolute_error: 34.3821\n",
      "Epoch 234/1000\n",
      "5/5 [==============================] - 0s 9ms/step - loss: 5794.4893 - mean_squared_error: 5794.4893 - mean_absolute_error: 32.7546 - val_loss: 6195.0962 - val_mean_squared_error: 6195.0962 - val_mean_absolute_error: 34.3694\n",
      "Epoch 235/1000\n",
      "5/5 [==============================] - 0s 9ms/step - loss: 5975.8242 - mean_squared_error: 5975.8242 - mean_absolute_error: 33.4242 - val_loss: 6182.9282 - val_mean_squared_error: 6182.9282 - val_mean_absolute_error: 34.3572\n",
      "Epoch 236/1000\n",
      "5/5 [==============================] - 0s 9ms/step - loss: 6241.7834 - mean_squared_error: 6241.7834 - mean_absolute_error: 34.4313 - val_loss: 6170.2607 - val_mean_squared_error: 6170.2607 - val_mean_absolute_error: 34.3439\n",
      "Epoch 237/1000\n",
      "5/5 [==============================] - 0s 10ms/step - loss: 6179.3661 - mean_squared_error: 6179.3661 - mean_absolute_error: 34.5770 - val_loss: 6157.6768 - val_mean_squared_error: 6157.6768 - val_mean_absolute_error: 34.3306\n",
      "Epoch 238/1000\n",
      "5/5 [==============================] - 0s 9ms/step - loss: 6025.6417 - mean_squared_error: 6025.6417 - mean_absolute_error: 33.4973 - val_loss: 6145.1270 - val_mean_squared_error: 6145.1270 - val_mean_absolute_error: 34.3171\n",
      "Epoch 239/1000\n",
      "5/5 [==============================] - 0s 9ms/step - loss: 6251.5489 - mean_squared_error: 6251.5489 - mean_absolute_error: 34.0084 - val_loss: 6132.8379 - val_mean_squared_error: 6132.8379 - val_mean_absolute_error: 34.3045\n",
      "Epoch 240/1000\n",
      "5/5 [==============================] - 0s 10ms/step - loss: 6243.4500 - mean_squared_error: 6243.4500 - mean_absolute_error: 34.3483 - val_loss: 6120.5430 - val_mean_squared_error: 6120.5430 - val_mean_absolute_error: 34.2922\n",
      "Epoch 241/1000\n",
      "5/5 [==============================] - 0s 9ms/step - loss: 5991.8643 - mean_squared_error: 5991.8643 - mean_absolute_error: 33.6577 - val_loss: 6107.6978 - val_mean_squared_error: 6107.6978 - val_mean_absolute_error: 34.2784\n",
      "Epoch 242/1000\n",
      "5/5 [==============================] - 0s 9ms/step - loss: 5948.2511 - mean_squared_error: 5948.2511 - mean_absolute_error: 33.5547 - val_loss: 6095.5952 - val_mean_squared_error: 6095.5952 - val_mean_absolute_error: 34.2663\n",
      "Epoch 243/1000\n",
      "5/5 [==============================] - 0s 9ms/step - loss: 5604.1220 - mean_squared_error: 5604.1220 - mean_absolute_error: 32.5824 - val_loss: 6083.2764 - val_mean_squared_error: 6083.2764 - val_mean_absolute_error: 34.2536\n",
      "Epoch 244/1000\n",
      "5/5 [==============================] - 0s 10ms/step - loss: 5642.2501 - mean_squared_error: 5642.2501 - mean_absolute_error: 32.7517 - val_loss: 6070.8701 - val_mean_squared_error: 6070.8701 - val_mean_absolute_error: 34.2410\n",
      "Epoch 245/1000\n",
      "5/5 [==============================] - 0s 9ms/step - loss: 5735.6154 - mean_squared_error: 5735.6154 - mean_absolute_error: 32.9101 - val_loss: 6058.3174 - val_mean_squared_error: 6058.3174 - val_mean_absolute_error: 34.2284\n",
      "Epoch 246/1000\n",
      "5/5 [==============================] - 0s 9ms/step - loss: 5578.9591 - mean_squared_error: 5578.9591 - mean_absolute_error: 32.3511 - val_loss: 6046.1436 - val_mean_squared_error: 6046.1436 - val_mean_absolute_error: 34.2167\n",
      "Epoch 247/1000\n",
      "5/5 [==============================] - 0s 9ms/step - loss: 5743.7633 - mean_squared_error: 5743.7633 - mean_absolute_error: 32.8435 - val_loss: 6033.8784 - val_mean_squared_error: 6033.8784 - val_mean_absolute_error: 34.2051\n",
      "Epoch 248/1000\n",
      "5/5 [==============================] - 0s 10ms/step - loss: 6061.6489 - mean_squared_error: 6061.6489 - mean_absolute_error: 34.2203 - val_loss: 6021.4019 - val_mean_squared_error: 6021.4019 - val_mean_absolute_error: 34.1930\n",
      "Epoch 249/1000\n",
      "5/5 [==============================] - 0s 9ms/step - loss: 6002.8976 - mean_squared_error: 6002.8976 - mean_absolute_error: 33.8657 - val_loss: 6008.6855 - val_mean_squared_error: 6008.6855 - val_mean_absolute_error: 34.1802\n",
      "Epoch 250/1000\n",
      "5/5 [==============================] - 0s 9ms/step - loss: 5993.2694 - mean_squared_error: 5993.2694 - mean_absolute_error: 34.4445 - val_loss: 5996.2754 - val_mean_squared_error: 5996.2754 - val_mean_absolute_error: 34.1681\n",
      "Epoch 251/1000\n",
      "5/5 [==============================] - 0s 9ms/step - loss: 5913.5469 - mean_squared_error: 5913.5469 - mean_absolute_error: 33.9391 - val_loss: 5984.0703 - val_mean_squared_error: 5984.0703 - val_mean_absolute_error: 34.1562\n",
      "Epoch 252/1000\n",
      "5/5 [==============================] - 0s 9ms/step - loss: 5701.7105 - mean_squared_error: 5701.7105 - mean_absolute_error: 32.6657 - val_loss: 5971.9590 - val_mean_squared_error: 5971.9590 - val_mean_absolute_error: 34.1442\n",
      "Epoch 253/1000\n",
      "5/5 [==============================] - 0s 10ms/step - loss: 6000.6150 - mean_squared_error: 6000.6150 - mean_absolute_error: 33.9225 - val_loss: 5959.6245 - val_mean_squared_error: 5959.6245 - val_mean_absolute_error: 34.1319\n",
      "Epoch 254/1000\n",
      "5/5 [==============================] - 0s 10ms/step - loss: 5894.8918 - mean_squared_error: 5894.8918 - mean_absolute_error: 33.9469 - val_loss: 5947.2905 - val_mean_squared_error: 5947.2905 - val_mean_absolute_error: 34.1195\n",
      "Epoch 255/1000\n",
      "5/5 [==============================] - 0s 9ms/step - loss: 5567.4903 - mean_squared_error: 5567.4903 - mean_absolute_error: 32.7378 - val_loss: 5935.3091 - val_mean_squared_error: 5935.3091 - val_mean_absolute_error: 34.1077\n",
      "Epoch 256/1000\n",
      "5/5 [==============================] - 0s 9ms/step - loss: 5832.5464 - mean_squared_error: 5832.5464 - mean_absolute_error: 33.3895 - val_loss: 5923.1426 - val_mean_squared_error: 5923.1426 - val_mean_absolute_error: 34.0961\n",
      "Epoch 257/1000\n",
      "5/5 [==============================] - 0s 10ms/step - loss: 5629.9202 - mean_squared_error: 5629.9202 - mean_absolute_error: 32.9365 - val_loss: 5911.0737 - val_mean_squared_error: 5911.0737 - val_mean_absolute_error: 34.0846\n",
      "Epoch 258/1000\n",
      "5/5 [==============================] - 0s 9ms/step - loss: 5615.1526 - mean_squared_error: 5615.1526 - mean_absolute_error: 32.9814 - val_loss: 5899.1201 - val_mean_squared_error: 5899.1201 - val_mean_absolute_error: 34.0735\n",
      "Epoch 259/1000\n",
      "5/5 [==============================] - 0s 9ms/step - loss: 6131.1709 - mean_squared_error: 6131.1709 - mean_absolute_error: 34.8750 - val_loss: 5886.4653 - val_mean_squared_error: 5886.4653 - val_mean_absolute_error: 34.0613\n",
      "Epoch 260/1000\n",
      "5/5 [==============================] - 0s 9ms/step - loss: 5815.8080 - mean_squared_error: 5815.8080 - mean_absolute_error: 33.6490 - val_loss: 5874.3462 - val_mean_squared_error: 5874.3462 - val_mean_absolute_error: 34.0500\n",
      "Epoch 261/1000\n",
      "5/5 [==============================] - 0s 9ms/step - loss: 5360.5291 - mean_squared_error: 5360.5291 - mean_absolute_error: 32.4024 - val_loss: 5862.4609 - val_mean_squared_error: 5862.4609 - val_mean_absolute_error: 34.0393\n",
      "Epoch 262/1000\n",
      "5/5 [==============================] - 0s 9ms/step - loss: 5578.0972 - mean_squared_error: 5578.0974 - mean_absolute_error: 33.2163 - val_loss: 5850.3882 - val_mean_squared_error: 5850.3882 - val_mean_absolute_error: 34.0284\n",
      "Epoch 263/1000\n",
      "5/5 [==============================] - 0s 9ms/step - loss: 5590.5379 - mean_squared_error: 5590.5379 - mean_absolute_error: 33.1051 - val_loss: 5838.3540 - val_mean_squared_error: 5838.3540 - val_mean_absolute_error: 34.0176\n",
      "Epoch 264/1000\n",
      "5/5 [==============================] - 0s 9ms/step - loss: 5508.5581 - mean_squared_error: 5508.5581 - mean_absolute_error: 32.7382 - val_loss: 5826.6504 - val_mean_squared_error: 5826.6504 - val_mean_absolute_error: 34.0075\n",
      "Epoch 265/1000\n",
      "5/5 [==============================] - 0s 10ms/step - loss: 5691.1742 - mean_squared_error: 5691.1742 - mean_absolute_error: 33.5522 - val_loss: 5814.4707 - val_mean_squared_error: 5814.4707 - val_mean_absolute_error: 33.9968\n",
      "Epoch 266/1000\n",
      "5/5 [==============================] - 0s 10ms/step - loss: 5468.9667 - mean_squared_error: 5468.9667 - mean_absolute_error: 32.9956 - val_loss: 5802.3145 - val_mean_squared_error: 5802.3145 - val_mean_absolute_error: 33.9863\n",
      "Epoch 267/1000\n",
      "5/5 [==============================] - 0s 10ms/step - loss: 5647.3711 - mean_squared_error: 5647.3711 - mean_absolute_error: 33.4433 - val_loss: 5790.4243 - val_mean_squared_error: 5790.4243 - val_mean_absolute_error: 33.9767\n",
      "Epoch 268/1000\n",
      "5/5 [==============================] - 0s 10ms/step - loss: 5292.0459 - mean_squared_error: 5292.0459 - mean_absolute_error: 32.3016 - val_loss: 5778.5947 - val_mean_squared_error: 5778.5947 - val_mean_absolute_error: 33.9670\n",
      "Epoch 269/1000\n",
      "5/5 [==============================] - 0s 9ms/step - loss: 5454.4622 - mean_squared_error: 5454.4622 - mean_absolute_error: 33.1620 - val_loss: 5766.7637 - val_mean_squared_error: 5766.7637 - val_mean_absolute_error: 33.9575\n",
      "Epoch 270/1000\n",
      "5/5 [==============================] - 0s 9ms/step - loss: 5580.9174 - mean_squared_error: 5580.9174 - mean_absolute_error: 33.2844 - val_loss: 5754.6528 - val_mean_squared_error: 5754.6528 - val_mean_absolute_error: 33.9475\n",
      "Epoch 271/1000\n",
      "5/5 [==============================] - 0s 10ms/step - loss: 5793.0645 - mean_squared_error: 5793.0645 - mean_absolute_error: 34.2232 - val_loss: 5742.8125 - val_mean_squared_error: 5742.8125 - val_mean_absolute_error: 33.9383\n",
      "Epoch 272/1000\n",
      "5/5 [==============================] - 0s 10ms/step - loss: 5765.6083 - mean_squared_error: 5765.6083 - mean_absolute_error: 33.9621 - val_loss: 5731.0386 - val_mean_squared_error: 5731.0386 - val_mean_absolute_error: 33.9289\n",
      "Epoch 273/1000\n"
     ]
    },
    {
     "name": "stdout",
     "output_type": "stream",
     "text": [
      "5/5 [==============================] - 0s 10ms/step - loss: 5578.6150 - mean_squared_error: 5578.6152 - mean_absolute_error: 32.8890 - val_loss: 5719.4766 - val_mean_squared_error: 5719.4766 - val_mean_absolute_error: 33.9199\n",
      "Epoch 274/1000\n",
      "5/5 [==============================] - 0s 10ms/step - loss: 5582.1449 - mean_squared_error: 5582.1449 - mean_absolute_error: 33.1025 - val_loss: 5707.5249 - val_mean_squared_error: 5707.5249 - val_mean_absolute_error: 33.9099\n",
      "Epoch 275/1000\n",
      "5/5 [==============================] - 0s 9ms/step - loss: 5299.7152 - mean_squared_error: 5299.7152 - mean_absolute_error: 32.5767 - val_loss: 5695.5610 - val_mean_squared_error: 5695.5610 - val_mean_absolute_error: 33.8999\n",
      "Epoch 276/1000\n",
      "5/5 [==============================] - 0s 9ms/step - loss: 5552.9836 - mean_squared_error: 5552.9836 - mean_absolute_error: 33.3320 - val_loss: 5684.0078 - val_mean_squared_error: 5684.0078 - val_mean_absolute_error: 33.8909\n",
      "Epoch 277/1000\n",
      "5/5 [==============================] - 0s 10ms/step - loss: 5414.7495 - mean_squared_error: 5414.7495 - mean_absolute_error: 32.4751 - val_loss: 5672.3257 - val_mean_squared_error: 5672.3257 - val_mean_absolute_error: 33.8820\n",
      "Epoch 278/1000\n",
      "5/5 [==============================] - 0s 9ms/step - loss: 5394.7676 - mean_squared_error: 5394.7676 - mean_absolute_error: 32.7996 - val_loss: 5660.6562 - val_mean_squared_error: 5660.6562 - val_mean_absolute_error: 33.8734\n",
      "Epoch 279/1000\n",
      "5/5 [==============================] - 0s 9ms/step - loss: 5666.1897 - mean_squared_error: 5666.1897 - mean_absolute_error: 33.8331 - val_loss: 5648.9585 - val_mean_squared_error: 5648.9585 - val_mean_absolute_error: 33.8651\n",
      "Epoch 280/1000\n",
      "5/5 [==============================] - 0s 9ms/step - loss: 5507.3488 - mean_squared_error: 5507.3488 - mean_absolute_error: 32.8772 - val_loss: 5637.8022 - val_mean_squared_error: 5637.8022 - val_mean_absolute_error: 33.8576\n",
      "Epoch 281/1000\n",
      "5/5 [==============================] - 0s 10ms/step - loss: 5298.5462 - mean_squared_error: 5298.5462 - mean_absolute_error: 32.7297 - val_loss: 5626.2173 - val_mean_squared_error: 5626.2173 - val_mean_absolute_error: 33.8491\n",
      "Epoch 282/1000\n",
      "5/5 [==============================] - 0s 9ms/step - loss: 5549.6250 - mean_squared_error: 5549.6250 - mean_absolute_error: 33.2040 - val_loss: 5614.6431 - val_mean_squared_error: 5614.6431 - val_mean_absolute_error: 33.8409\n",
      "Epoch 283/1000\n",
      "5/5 [==============================] - 0s 10ms/step - loss: 5472.8463 - mean_squared_error: 5472.8463 - mean_absolute_error: 33.0690 - val_loss: 5602.9238 - val_mean_squared_error: 5602.9238 - val_mean_absolute_error: 33.8321\n",
      "Epoch 284/1000\n",
      "5/5 [==============================] - 0s 9ms/step - loss: 5312.2415 - mean_squared_error: 5312.2415 - mean_absolute_error: 32.5469 - val_loss: 5591.7661 - val_mean_squared_error: 5591.7661 - val_mean_absolute_error: 33.8243\n",
      "Epoch 285/1000\n",
      "5/5 [==============================] - 0s 10ms/step - loss: 5291.6507 - mean_squared_error: 5291.6507 - mean_absolute_error: 32.8269 - val_loss: 5580.0679 - val_mean_squared_error: 5580.0679 - val_mean_absolute_error: 33.8160\n",
      "Epoch 286/1000\n",
      "5/5 [==============================] - 0s 9ms/step - loss: 5436.7799 - mean_squared_error: 5436.7799 - mean_absolute_error: 33.0950 - val_loss: 5568.4941 - val_mean_squared_error: 5568.4941 - val_mean_absolute_error: 33.8079\n",
      "Epoch 287/1000\n",
      "5/5 [==============================] - 0s 9ms/step - loss: 5331.8931 - mean_squared_error: 5331.8931 - mean_absolute_error: 32.9697 - val_loss: 5557.1069 - val_mean_squared_error: 5557.1069 - val_mean_absolute_error: 33.8003\n",
      "Epoch 288/1000\n",
      "5/5 [==============================] - 0s 10ms/step - loss: 5286.3795 - mean_squared_error: 5286.3795 - mean_absolute_error: 32.8164 - val_loss: 5545.6665 - val_mean_squared_error: 5545.6665 - val_mean_absolute_error: 33.7922\n",
      "Epoch 289/1000\n",
      "5/5 [==============================] - 0s 9ms/step - loss: 5348.2655 - mean_squared_error: 5348.2655 - mean_absolute_error: 33.0357 - val_loss: 5534.3340 - val_mean_squared_error: 5534.3340 - val_mean_absolute_error: 33.7844\n",
      "Epoch 290/1000\n",
      "5/5 [==============================] - 0s 10ms/step - loss: 5559.6047 - mean_squared_error: 5559.6047 - mean_absolute_error: 33.6915 - val_loss: 5523.1836 - val_mean_squared_error: 5523.1836 - val_mean_absolute_error: 33.7773\n",
      "Epoch 291/1000\n",
      "5/5 [==============================] - 0s 9ms/step - loss: 5212.2886 - mean_squared_error: 5212.2886 - mean_absolute_error: 32.4261 - val_loss: 5511.9839 - val_mean_squared_error: 5511.9839 - val_mean_absolute_error: 33.7699\n",
      "Epoch 292/1000\n",
      "5/5 [==============================] - 0s 9ms/step - loss: 5351.7185 - mean_squared_error: 5351.7185 - mean_absolute_error: 33.0581 - val_loss: 5500.6426 - val_mean_squared_error: 5500.6426 - val_mean_absolute_error: 33.7620\n",
      "Epoch 293/1000\n",
      "5/5 [==============================] - 0s 9ms/step - loss: 5519.4240 - mean_squared_error: 5519.4240 - mean_absolute_error: 33.9189 - val_loss: 5489.4429 - val_mean_squared_error: 5489.4429 - val_mean_absolute_error: 33.7547\n",
      "Epoch 294/1000\n",
      "5/5 [==============================] - 0s 9ms/step - loss: 5002.4761 - mean_squared_error: 5002.4761 - mean_absolute_error: 32.2221 - val_loss: 5478.3115 - val_mean_squared_error: 5478.3115 - val_mean_absolute_error: 33.7474\n",
      "Epoch 295/1000\n",
      "5/5 [==============================] - 0s 9ms/step - loss: 5369.5990 - mean_squared_error: 5369.5990 - mean_absolute_error: 33.2263 - val_loss: 5467.1753 - val_mean_squared_error: 5467.1753 - val_mean_absolute_error: 33.7402\n",
      "Epoch 296/1000\n",
      "5/5 [==============================] - 0s 9ms/step - loss: 5214.3312 - mean_squared_error: 5214.3312 - mean_absolute_error: 33.0440 - val_loss: 5456.2422 - val_mean_squared_error: 5456.2422 - val_mean_absolute_error: 33.7332\n",
      "Epoch 297/1000\n",
      "5/5 [==============================] - 0s 9ms/step - loss: 5448.0139 - mean_squared_error: 5448.0139 - mean_absolute_error: 33.5255 - val_loss: 5445.1597 - val_mean_squared_error: 5445.1597 - val_mean_absolute_error: 33.7258\n",
      "Epoch 298/1000\n",
      "5/5 [==============================] - 0s 9ms/step - loss: 5305.9032 - mean_squared_error: 5305.9032 - mean_absolute_error: 32.9565 - val_loss: 5434.2661 - val_mean_squared_error: 5434.2661 - val_mean_absolute_error: 33.7189\n",
      "Epoch 299/1000\n",
      "5/5 [==============================] - 0s 9ms/step - loss: 5333.8670 - mean_squared_error: 5333.8670 - mean_absolute_error: 33.2451 - val_loss: 5423.0532 - val_mean_squared_error: 5423.0532 - val_mean_absolute_error: 33.7116\n",
      "Epoch 300/1000\n",
      "5/5 [==============================] - 0s 9ms/step - loss: 5250.9372 - mean_squared_error: 5250.9372 - mean_absolute_error: 32.6905 - val_loss: 5412.0581 - val_mean_squared_error: 5412.0581 - val_mean_absolute_error: 33.7045\n",
      "Epoch 301/1000\n",
      "5/5 [==============================] - 0s 9ms/step - loss: 5279.9821 - mean_squared_error: 5279.9821 - mean_absolute_error: 33.4841 - val_loss: 5401.0605 - val_mean_squared_error: 5401.0605 - val_mean_absolute_error: 33.6976\n",
      "Epoch 302/1000\n",
      "5/5 [==============================] - 0s 10ms/step - loss: 5314.4514 - mean_squared_error: 5314.4514 - mean_absolute_error: 33.2739 - val_loss: 5390.5698 - val_mean_squared_error: 5390.5698 - val_mean_absolute_error: 33.6915\n",
      "Epoch 303/1000\n",
      "5/5 [==============================] - 0s 9ms/step - loss: 5220.4290 - mean_squared_error: 5220.4290 - mean_absolute_error: 32.9258 - val_loss: 5379.6450 - val_mean_squared_error: 5379.6450 - val_mean_absolute_error: 33.6843\n",
      "Epoch 304/1000\n",
      "5/5 [==============================] - 0s 10ms/step - loss: 5236.9088 - mean_squared_error: 5236.9088 - mean_absolute_error: 32.9312 - val_loss: 5368.7383 - val_mean_squared_error: 5368.7383 - val_mean_absolute_error: 33.6772\n",
      "Epoch 305/1000\n",
      "5/5 [==============================] - 0s 9ms/step - loss: 5389.7004 - mean_squared_error: 5389.7004 - mean_absolute_error: 33.4767 - val_loss: 5357.8340 - val_mean_squared_error: 5357.8340 - val_mean_absolute_error: 33.6698\n",
      "Epoch 306/1000\n",
      "5/5 [==============================] - 0s 9ms/step - loss: 5318.4062 - mean_squared_error: 5318.4062 - mean_absolute_error: 33.0966 - val_loss: 5347.5742 - val_mean_squared_error: 5347.5742 - val_mean_absolute_error: 33.6639\n",
      "Epoch 307/1000\n",
      "5/5 [==============================] - 0s 10ms/step - loss: 4989.8449 - mean_squared_error: 4989.8449 - mean_absolute_error: 32.1948 - val_loss: 5336.8359 - val_mean_squared_error: 5336.8354 - val_mean_absolute_error: 33.6569\n",
      "Epoch 308/1000\n",
      "5/5 [==============================] - 0s 10ms/step - loss: 5148.8763 - mean_squared_error: 5148.8763 - mean_absolute_error: 32.8438 - val_loss: 5326.1733 - val_mean_squared_error: 5326.1733 - val_mean_absolute_error: 33.6505\n",
      "Epoch 309/1000\n",
      "5/5 [==============================] - 0s 10ms/step - loss: 5255.8586 - mean_squared_error: 5255.8586 - mean_absolute_error: 33.3649 - val_loss: 5315.3589 - val_mean_squared_error: 5315.3589 - val_mean_absolute_error: 33.6438\n",
      "Epoch 310/1000\n",
      "5/5 [==============================] - 0s 10ms/step - loss: 5128.5290 - mean_squared_error: 5128.5290 - mean_absolute_error: 32.5917 - val_loss: 5304.7896 - val_mean_squared_error: 5304.7896 - val_mean_absolute_error: 33.6373\n",
      "Epoch 311/1000\n",
      "5/5 [==============================] - 0s 10ms/step - loss: 5121.4981 - mean_squared_error: 5121.4981 - mean_absolute_error: 32.7256 - val_loss: 5294.3579 - val_mean_squared_error: 5294.3579 - val_mean_absolute_error: 33.6312\n",
      "Epoch 312/1000\n",
      "5/5 [==============================] - 0s 10ms/step - loss: 5115.5260 - mean_squared_error: 5115.5260 - mean_absolute_error: 32.7788 - val_loss: 5283.6919 - val_mean_squared_error: 5283.6924 - val_mean_absolute_error: 33.6248\n",
      "Epoch 313/1000\n",
      "5/5 [==============================] - 0s 10ms/step - loss: 4888.1174 - mean_squared_error: 4888.1174 - mean_absolute_error: 32.3018 - val_loss: 5273.4043 - val_mean_squared_error: 5273.4043 - val_mean_absolute_error: 33.6189\n",
      "Epoch 314/1000\n",
      "5/5 [==============================] - 0s 10ms/step - loss: 5168.7311 - mean_squared_error: 5168.7311 - mean_absolute_error: 32.7332 - val_loss: 5262.6753 - val_mean_squared_error: 5262.6753 - val_mean_absolute_error: 33.6126\n",
      "Epoch 315/1000\n",
      "5/5 [==============================] - 0s 10ms/step - loss: 4755.7570 - mean_squared_error: 4755.7570 - mean_absolute_error: 31.8205 - val_loss: 5252.8145 - val_mean_squared_error: 5252.8145 - val_mean_absolute_error: 33.6079\n",
      "Epoch 316/1000\n",
      "5/5 [==============================] - 0s 10ms/step - loss: 5039.7117 - mean_squared_error: 5039.7117 - mean_absolute_error: 32.7795 - val_loss: 5242.2153 - val_mean_squared_error: 5242.2153 - val_mean_absolute_error: 33.6020\n",
      "Epoch 317/1000\n",
      "5/5 [==============================] - 0s 9ms/step - loss: 5412.1221 - mean_squared_error: 5412.1221 - mean_absolute_error: 33.7516 - val_loss: 5231.7197 - val_mean_squared_error: 5231.7197 - val_mean_absolute_error: 33.5964\n",
      "Epoch 318/1000\n",
      "5/5 [==============================] - 0s 9ms/step - loss: 5190.8240 - mean_squared_error: 5190.8240 - mean_absolute_error: 33.2336 - val_loss: 5221.6338 - val_mean_squared_error: 5221.6338 - val_mean_absolute_error: 33.5913\n",
      "Epoch 319/1000\n",
      "5/5 [==============================] - 0s 9ms/step - loss: 5185.4023 - mean_squared_error: 5185.4023 - mean_absolute_error: 33.1185 - val_loss: 5211.1416 - val_mean_squared_error: 5211.1416 - val_mean_absolute_error: 33.5854\n",
      "Epoch 320/1000\n",
      "5/5 [==============================] - 0s 10ms/step - loss: 4980.3637 - mean_squared_error: 4980.3637 - mean_absolute_error: 32.9642 - val_loss: 5200.8223 - val_mean_squared_error: 5200.8223 - val_mean_absolute_error: 33.5798\n",
      "Epoch 321/1000\n",
      "5/5 [==============================] - 0s 9ms/step - loss: 5054.0300 - mean_squared_error: 5054.0300 - mean_absolute_error: 32.8093 - val_loss: 5190.8232 - val_mean_squared_error: 5190.8232 - val_mean_absolute_error: 33.5745\n",
      "Epoch 322/1000\n",
      "5/5 [==============================] - 0s 9ms/step - loss: 4916.0863 - mean_squared_error: 4916.0863 - mean_absolute_error: 32.7404 - val_loss: 5180.9268 - val_mean_squared_error: 5180.9268 - val_mean_absolute_error: 33.5692\n",
      "Epoch 323/1000\n",
      "5/5 [==============================] - 0s 9ms/step - loss: 4883.3926 - mean_squared_error: 4883.3926 - mean_absolute_error: 32.3720 - val_loss: 5170.8799 - val_mean_squared_error: 5170.8799 - val_mean_absolute_error: 33.5642\n",
      "Epoch 324/1000\n",
      "5/5 [==============================] - 0s 9ms/step - loss: 5095.3802 - mean_squared_error: 5095.3802 - mean_absolute_error: 33.4462 - val_loss: 5160.4766 - val_mean_squared_error: 5160.4766 - val_mean_absolute_error: 33.5589\n",
      "Epoch 325/1000\n",
      "5/5 [==============================] - 0s 10ms/step - loss: 4928.9282 - mean_squared_error: 4928.9282 - mean_absolute_error: 32.8735 - val_loss: 5150.4727 - val_mean_squared_error: 5150.4727 - val_mean_absolute_error: 33.5545\n",
      "Epoch 326/1000\n",
      "5/5 [==============================] - 0s 9ms/step - loss: 5033.6543 - mean_squared_error: 5033.6543 - mean_absolute_error: 33.0584 - val_loss: 5140.6245 - val_mean_squared_error: 5140.6250 - val_mean_absolute_error: 33.5503\n",
      "Epoch 327/1000\n",
      "5/5 [==============================] - 0s 9ms/step - loss: 4741.8547 - mean_squared_error: 4741.8547 - mean_absolute_error: 32.3830 - val_loss: 5130.7109 - val_mean_squared_error: 5130.7109 - val_mean_absolute_error: 33.5458\n",
      "Epoch 328/1000\n",
      "5/5 [==============================] - 0s 10ms/step - loss: 5166.0978 - mean_squared_error: 5166.0978 - mean_absolute_error: 33.3752 - val_loss: 5121.0405 - val_mean_squared_error: 5121.0405 - val_mean_absolute_error: 33.5417\n",
      "Epoch 329/1000\n",
      "5/5 [==============================] - 0s 9ms/step - loss: 4964.3175 - mean_squared_error: 4964.3175 - mean_absolute_error: 32.7031 - val_loss: 5111.0312 - val_mean_squared_error: 5111.0312 - val_mean_absolute_error: 33.5369\n",
      "Epoch 330/1000\n",
      "5/5 [==============================] - 0s 10ms/step - loss: 4818.7862 - mean_squared_error: 4818.7862 - mean_absolute_error: 32.2963 - val_loss: 5101.0273 - val_mean_squared_error: 5101.0273 - val_mean_absolute_error: 33.5320\n",
      "Epoch 331/1000\n",
      "5/5 [==============================] - 0s 9ms/step - loss: 4967.4500 - mean_squared_error: 4967.4500 - mean_absolute_error: 32.9785 - val_loss: 5091.5342 - val_mean_squared_error: 5091.5342 - val_mean_absolute_error: 33.5283\n",
      "Epoch 332/1000\n",
      "5/5 [==============================] - 0s 9ms/step - loss: 4837.9541 - mean_squared_error: 4837.9541 - mean_absolute_error: 32.6361 - val_loss: 5081.6372 - val_mean_squared_error: 5081.6372 - val_mean_absolute_error: 33.5236\n",
      "Epoch 333/1000\n",
      "5/5 [==============================] - 0s 9ms/step - loss: 4798.9945 - mean_squared_error: 4798.9945 - mean_absolute_error: 32.5553 - val_loss: 5071.8604 - val_mean_squared_error: 5071.8604 - val_mean_absolute_error: 33.5189\n",
      "Epoch 334/1000\n",
      "5/5 [==============================] - 0s 10ms/step - loss: 5047.6407 - mean_squared_error: 5047.6409 - mean_absolute_error: 33.4690 - val_loss: 5062.2417 - val_mean_squared_error: 5062.2417 - val_mean_absolute_error: 33.5149\n",
      "Epoch 335/1000\n",
      "5/5 [==============================] - 0s 10ms/step - loss: 4919.5876 - mean_squared_error: 4919.5876 - mean_absolute_error: 32.8089 - val_loss: 5052.8291 - val_mean_squared_error: 5052.8291 - val_mean_absolute_error: 33.5113\n",
      "Epoch 336/1000\n",
      "5/5 [==============================] - 0s 9ms/step - loss: 4677.9551 - mean_squared_error: 4677.9551 - mean_absolute_error: 32.2598 - val_loss: 5043.0522 - val_mean_squared_error: 5043.0522 - val_mean_absolute_error: 33.5071\n",
      "Epoch 337/1000\n",
      "5/5 [==============================] - 0s 9ms/step - loss: 4687.9277 - mean_squared_error: 4687.9277 - mean_absolute_error: 32.1802 - val_loss: 5033.6802 - val_mean_squared_error: 5033.6802 - val_mean_absolute_error: 33.5036\n",
      "Epoch 338/1000\n",
      "5/5 [==============================] - 0s 10ms/step - loss: 4977.6591 - mean_squared_error: 4977.6591 - mean_absolute_error: 33.2717 - val_loss: 5023.9468 - val_mean_squared_error: 5023.9468 - val_mean_absolute_error: 33.4999\n",
      "Epoch 339/1000\n",
      "5/5 [==============================] - 0s 10ms/step - loss: 4678.2834 - mean_squared_error: 4678.2834 - mean_absolute_error: 32.2909 - val_loss: 5015.0625 - val_mean_squared_error: 5015.0625 - val_mean_absolute_error: 33.4978\n",
      "Epoch 340/1000\n",
      "5/5 [==============================] - 0s 10ms/step - loss: 5022.8691 - mean_squared_error: 5022.8691 - mean_absolute_error: 33.2192 - val_loss: 5005.1401 - val_mean_squared_error: 5005.1401 - val_mean_absolute_error: 33.4939\n",
      "Epoch 341/1000\n"
     ]
    },
    {
     "name": "stdout",
     "output_type": "stream",
     "text": [
      "5/5 [==============================] - 0s 10ms/step - loss: 4914.3865 - mean_squared_error: 4914.3866 - mean_absolute_error: 33.0697 - val_loss: 4995.7852 - val_mean_squared_error: 4995.7852 - val_mean_absolute_error: 33.4906\n",
      "Epoch 342/1000\n",
      "5/5 [==============================] - 0s 9ms/step - loss: 4723.3995 - mean_squared_error: 4723.3995 - mean_absolute_error: 32.4283 - val_loss: 4986.1958 - val_mean_squared_error: 4986.1958 - val_mean_absolute_error: 33.4867\n",
      "Epoch 343/1000\n",
      "5/5 [==============================] - 0s 9ms/step - loss: 4707.7615 - mean_squared_error: 4707.7615 - mean_absolute_error: 32.4922 - val_loss: 4977.4233 - val_mean_squared_error: 4977.4233 - val_mean_absolute_error: 33.4847\n",
      "Epoch 344/1000\n",
      "5/5 [==============================] - 0s 9ms/step - loss: 4690.4007 - mean_squared_error: 4690.4007 - mean_absolute_error: 32.3830 - val_loss: 4968.1792 - val_mean_squared_error: 4968.1792 - val_mean_absolute_error: 33.4815\n",
      "Epoch 345/1000\n",
      "5/5 [==============================] - 0s 9ms/step - loss: 4835.2041 - mean_squared_error: 4835.2041 - mean_absolute_error: 32.8817 - val_loss: 4958.8350 - val_mean_squared_error: 4958.8350 - val_mean_absolute_error: 33.4785\n",
      "Epoch 346/1000\n",
      "5/5 [==============================] - 0s 10ms/step - loss: 4799.6564 - mean_squared_error: 4799.6564 - mean_absolute_error: 32.8472 - val_loss: 4949.8979 - val_mean_squared_error: 4949.8979 - val_mean_absolute_error: 33.4762\n",
      "Epoch 347/1000\n",
      "5/5 [==============================] - 0s 9ms/step - loss: 4780.9229 - mean_squared_error: 4780.9229 - mean_absolute_error: 32.7573 - val_loss: 4941.0415 - val_mean_squared_error: 4941.0415 - val_mean_absolute_error: 33.4739\n",
      "Epoch 348/1000\n",
      "5/5 [==============================] - 0s 9ms/step - loss: 4884.1375 - mean_squared_error: 4884.1375 - mean_absolute_error: 33.2627 - val_loss: 4931.4946 - val_mean_squared_error: 4931.4946 - val_mean_absolute_error: 33.4708\n",
      "Epoch 349/1000\n",
      "5/5 [==============================] - 0s 9ms/step - loss: 4792.2349 - mean_squared_error: 4792.2349 - mean_absolute_error: 32.8649 - val_loss: 4923.2520 - val_mean_squared_error: 4923.2520 - val_mean_absolute_error: 33.4697\n",
      "Epoch 350/1000\n",
      "5/5 [==============================] - 0s 9ms/step - loss: 4767.3061 - mean_squared_error: 4767.3061 - mean_absolute_error: 32.7116 - val_loss: 4913.9590 - val_mean_squared_error: 4913.9590 - val_mean_absolute_error: 33.4670\n",
      "Epoch 351/1000\n",
      "5/5 [==============================] - 0s 10ms/step - loss: 4636.4312 - mean_squared_error: 4636.4312 - mean_absolute_error: 32.2949 - val_loss: 4905.1709 - val_mean_squared_error: 4905.1709 - val_mean_absolute_error: 33.4651\n",
      "Epoch 352/1000\n",
      "5/5 [==============================] - 0s 9ms/step - loss: 4682.0549 - mean_squared_error: 4682.0549 - mean_absolute_error: 32.6922 - val_loss: 4896.3950 - val_mean_squared_error: 4896.3950 - val_mean_absolute_error: 33.4634\n",
      "Epoch 353/1000\n",
      "5/5 [==============================] - 0s 9ms/step - loss: 4669.6702 - mean_squared_error: 4669.6702 - mean_absolute_error: 32.2893 - val_loss: 4887.5952 - val_mean_squared_error: 4887.5952 - val_mean_absolute_error: 33.4615\n",
      "Epoch 354/1000\n",
      "5/5 [==============================] - 0s 9ms/step - loss: 4437.5498 - mean_squared_error: 4437.5498 - mean_absolute_error: 31.6592 - val_loss: 4878.5718 - val_mean_squared_error: 4878.5718 - val_mean_absolute_error: 33.4590\n",
      "Epoch 355/1000\n",
      "5/5 [==============================] - 0s 9ms/step - loss: 4653.8049 - mean_squared_error: 4653.8049 - mean_absolute_error: 32.5619 - val_loss: 4869.9165 - val_mean_squared_error: 4869.9165 - val_mean_absolute_error: 33.4574\n",
      "Epoch 356/1000\n",
      "5/5 [==============================] - 0s 9ms/step - loss: 4556.0448 - mean_squared_error: 4556.0448 - mean_absolute_error: 32.4153 - val_loss: 4861.0615 - val_mean_squared_error: 4861.0615 - val_mean_absolute_error: 33.4551\n",
      "Epoch 357/1000\n",
      "5/5 [==============================] - 0s 9ms/step - loss: 4615.2894 - mean_squared_error: 4615.2894 - mean_absolute_error: 32.2837 - val_loss: 4852.7588 - val_mean_squared_error: 4852.7588 - val_mean_absolute_error: 33.4538\n",
      "Epoch 358/1000\n",
      "5/5 [==============================] - 0s 10ms/step - loss: 4546.3032 - mean_squared_error: 4546.3032 - mean_absolute_error: 32.4336 - val_loss: 4843.8599 - val_mean_squared_error: 4843.8599 - val_mean_absolute_error: 33.4516\n",
      "Epoch 359/1000\n",
      "5/5 [==============================] - 0s 9ms/step - loss: 4522.6018 - mean_squared_error: 4522.6018 - mean_absolute_error: 32.0789 - val_loss: 4835.6885 - val_mean_squared_error: 4835.6885 - val_mean_absolute_error: 33.4504\n",
      "Epoch 360/1000\n",
      "5/5 [==============================] - 0s 9ms/step - loss: 4714.0483 - mean_squared_error: 4714.0483 - mean_absolute_error: 32.9545 - val_loss: 4826.9404 - val_mean_squared_error: 4826.9404 - val_mean_absolute_error: 33.4483\n",
      "Epoch 361/1000\n",
      "5/5 [==============================] - 0s 10ms/step - loss: 4616.1357 - mean_squared_error: 4616.1357 - mean_absolute_error: 32.9239 - val_loss: 4818.7329 - val_mean_squared_error: 4818.7329 - val_mean_absolute_error: 33.4470\n",
      "Epoch 362/1000\n",
      "5/5 [==============================] - 0s 9ms/step - loss: 4687.2239 - mean_squared_error: 4687.2239 - mean_absolute_error: 32.9417 - val_loss: 4810.1235 - val_mean_squared_error: 4810.1235 - val_mean_absolute_error: 33.4450\n",
      "Epoch 363/1000\n",
      "5/5 [==============================] - 0s 9ms/step - loss: 4261.0009 - mean_squared_error: 4261.0009 - mean_absolute_error: 31.3535 - val_loss: 4801.8677 - val_mean_squared_error: 4801.8677 - val_mean_absolute_error: 33.4431\n",
      "Epoch 364/1000\n",
      "5/5 [==============================] - 0s 9ms/step - loss: 4447.0626 - mean_squared_error: 4447.0626 - mean_absolute_error: 31.6875 - val_loss: 4793.3154 - val_mean_squared_error: 4793.3154 - val_mean_absolute_error: 33.4409\n",
      "Epoch 365/1000\n",
      "5/5 [==============================] - 0s 9ms/step - loss: 4589.0370 - mean_squared_error: 4589.0370 - mean_absolute_error: 32.8232 - val_loss: 4785.2520 - val_mean_squared_error: 4785.2520 - val_mean_absolute_error: 33.4398\n",
      "Epoch 366/1000\n",
      "5/5 [==============================] - 0s 9ms/step - loss: 4616.5907 - mean_squared_error: 4616.5907 - mean_absolute_error: 32.7418 - val_loss: 4776.4634 - val_mean_squared_error: 4776.4634 - val_mean_absolute_error: 33.4369\n",
      "Epoch 367/1000\n",
      "5/5 [==============================] - 0s 9ms/step - loss: 4718.7382 - mean_squared_error: 4718.7382 - mean_absolute_error: 33.3732 - val_loss: 4768.7520 - val_mean_squared_error: 4768.7520 - val_mean_absolute_error: 33.4364\n",
      "Epoch 368/1000\n",
      "5/5 [==============================] - 0s 9ms/step - loss: 4639.0129 - mean_squared_error: 4639.0129 - mean_absolute_error: 33.0396 - val_loss: 4759.9556 - val_mean_squared_error: 4759.9556 - val_mean_absolute_error: 33.4338\n",
      "Epoch 369/1000\n",
      "5/5 [==============================] - 0s 10ms/step - loss: 4619.9490 - mean_squared_error: 4619.9490 - mean_absolute_error: 32.8709 - val_loss: 4752.3501 - val_mean_squared_error: 4752.3501 - val_mean_absolute_error: 33.4332\n",
      "Epoch 370/1000\n",
      "5/5 [==============================] - 0s 9ms/step - loss: 4516.4282 - mean_squared_error: 4516.4282 - mean_absolute_error: 32.4232 - val_loss: 4744.1470 - val_mean_squared_error: 4744.1470 - val_mean_absolute_error: 33.4315\n",
      "Epoch 371/1000\n",
      "5/5 [==============================] - 0s 10ms/step - loss: 4748.7230 - mean_squared_error: 4748.7230 - mean_absolute_error: 33.0098 - val_loss: 4736.4502 - val_mean_squared_error: 4736.4502 - val_mean_absolute_error: 33.4310\n",
      "Epoch 372/1000\n",
      "5/5 [==============================] - 0s 10ms/step - loss: 4445.2611 - mean_squared_error: 4445.2611 - mean_absolute_error: 32.3964 - val_loss: 4728.5059 - val_mean_squared_error: 4728.5059 - val_mean_absolute_error: 33.4300\n",
      "Epoch 373/1000\n",
      "5/5 [==============================] - 0s 10ms/step - loss: 4482.6048 - mean_squared_error: 4482.6048 - mean_absolute_error: 32.3790 - val_loss: 4720.5488 - val_mean_squared_error: 4720.5488 - val_mean_absolute_error: 33.4291\n",
      "Epoch 374/1000\n",
      "5/5 [==============================] - 0s 10ms/step - loss: 4727.0847 - mean_squared_error: 4727.0847 - mean_absolute_error: 33.4455 - val_loss: 4712.5610 - val_mean_squared_error: 4712.5610 - val_mean_absolute_error: 33.4286\n",
      "Epoch 375/1000\n",
      "5/5 [==============================] - 0s 10ms/step - loss: 4378.1093 - mean_squared_error: 4378.1093 - mean_absolute_error: 32.2907 - val_loss: 4704.9570 - val_mean_squared_error: 4704.9570 - val_mean_absolute_error: 33.4282\n",
      "Epoch 376/1000\n",
      "5/5 [==============================] - 0s 11ms/step - loss: 4623.5873 - mean_squared_error: 4623.5873 - mean_absolute_error: 33.1391 - val_loss: 4696.9688 - val_mean_squared_error: 4696.9688 - val_mean_absolute_error: 33.4278\n",
      "Epoch 377/1000\n",
      "5/5 [==============================] - 0s 10ms/step - loss: 4482.7343 - mean_squared_error: 4482.7343 - mean_absolute_error: 32.4026 - val_loss: 4689.6470 - val_mean_squared_error: 4689.6470 - val_mean_absolute_error: 33.4279\n",
      "Epoch 378/1000\n",
      "5/5 [==============================] - 0s 10ms/step - loss: 4460.6524 - mean_squared_error: 4460.6524 - mean_absolute_error: 32.6092 - val_loss: 4681.3354 - val_mean_squared_error: 4681.3354 - val_mean_absolute_error: 33.4270\n",
      "Epoch 379/1000\n",
      "5/5 [==============================] - 0s 10ms/step - loss: 4426.2865 - mean_squared_error: 4426.2865 - mean_absolute_error: 32.7098 - val_loss: 4674.0801 - val_mean_squared_error: 4674.0801 - val_mean_absolute_error: 33.4279\n",
      "Epoch 380/1000\n",
      "5/5 [==============================] - 0s 10ms/step - loss: 4499.7600 - mean_squared_error: 4499.7600 - mean_absolute_error: 32.8307 - val_loss: 4666.1768 - val_mean_squared_error: 4666.1768 - val_mean_absolute_error: 33.4280\n",
      "Epoch 381/1000\n",
      "5/5 [==============================] - 0s 10ms/step - loss: 4209.9218 - mean_squared_error: 4209.9218 - mean_absolute_error: 31.9516 - val_loss: 4658.7876 - val_mean_squared_error: 4658.7876 - val_mean_absolute_error: 33.4284\n",
      "Epoch 382/1000\n",
      "5/5 [==============================] - 0s 10ms/step - loss: 4313.3413 - mean_squared_error: 4313.3413 - mean_absolute_error: 31.9985 - val_loss: 4651.1406 - val_mean_squared_error: 4651.1406 - val_mean_absolute_error: 33.4288\n",
      "Epoch 383/1000\n",
      "5/5 [==============================] - 0s 10ms/step - loss: 4550.0088 - mean_squared_error: 4550.0088 - mean_absolute_error: 33.0137 - val_loss: 4643.7236 - val_mean_squared_error: 4643.7236 - val_mean_absolute_error: 33.4301\n",
      "Epoch 384/1000\n",
      "5/5 [==============================] - 0s 10ms/step - loss: 4417.6401 - mean_squared_error: 4417.6401 - mean_absolute_error: 32.4361 - val_loss: 4636.2764 - val_mean_squared_error: 4636.2764 - val_mean_absolute_error: 33.4311\n",
      "Epoch 385/1000\n",
      "5/5 [==============================] - 0s 10ms/step - loss: 4420.8728 - mean_squared_error: 4420.8728 - mean_absolute_error: 32.4858 - val_loss: 4629.1714 - val_mean_squared_error: 4629.1714 - val_mean_absolute_error: 33.4320\n",
      "Epoch 386/1000\n",
      "5/5 [==============================] - 0s 10ms/step - loss: 4669.0061 - mean_squared_error: 4669.0061 - mean_absolute_error: 33.5408 - val_loss: 4621.8276 - val_mean_squared_error: 4621.8276 - val_mean_absolute_error: 33.4331\n",
      "Epoch 387/1000\n",
      "5/5 [==============================] - 0s 10ms/step - loss: 4364.8167 - mean_squared_error: 4364.8167 - mean_absolute_error: 32.3524 - val_loss: 4614.3125 - val_mean_squared_error: 4614.3125 - val_mean_absolute_error: 33.4335\n",
      "Epoch 388/1000\n",
      "5/5 [==============================] - 0s 11ms/step - loss: 4374.1148 - mean_squared_error: 4374.1150 - mean_absolute_error: 32.5536 - val_loss: 4607.3872 - val_mean_squared_error: 4607.3872 - val_mean_absolute_error: 33.4349\n",
      "Epoch 389/1000\n",
      "5/5 [==============================] - 0s 10ms/step - loss: 4417.8393 - mean_squared_error: 4417.8393 - mean_absolute_error: 32.5736 - val_loss: 4599.9087 - val_mean_squared_error: 4599.9087 - val_mean_absolute_error: 33.4357\n",
      "Epoch 390/1000\n",
      "5/5 [==============================] - 0s 9ms/step - loss: 4330.7434 - mean_squared_error: 4330.7434 - mean_absolute_error: 32.4863 - val_loss: 4592.7886 - val_mean_squared_error: 4592.7886 - val_mean_absolute_error: 33.4375\n",
      "Epoch 391/1000\n",
      "5/5 [==============================] - 0s 9ms/step - loss: 4476.2361 - mean_squared_error: 4476.2361 - mean_absolute_error: 32.6859 - val_loss: 4585.6846 - val_mean_squared_error: 4585.6846 - val_mean_absolute_error: 33.4397\n",
      "Epoch 392/1000\n",
      "5/5 [==============================] - 0s 9ms/step - loss: 4425.1149 - mean_squared_error: 4425.1149 - mean_absolute_error: 32.5907 - val_loss: 4578.6289 - val_mean_squared_error: 4578.6289 - val_mean_absolute_error: 33.4422\n",
      "Epoch 393/1000\n",
      "5/5 [==============================] - 0s 9ms/step - loss: 4381.5873 - mean_squared_error: 4381.5873 - mean_absolute_error: 32.8352 - val_loss: 4571.6323 - val_mean_squared_error: 4571.6323 - val_mean_absolute_error: 33.4452\n",
      "Epoch 394/1000\n",
      "5/5 [==============================] - 0s 9ms/step - loss: 4202.3075 - mean_squared_error: 4202.3075 - mean_absolute_error: 31.9919 - val_loss: 4564.6655 - val_mean_squared_error: 4564.6655 - val_mean_absolute_error: 33.4479\n",
      "Epoch 395/1000\n",
      "5/5 [==============================] - 0s 9ms/step - loss: 4629.4976 - mean_squared_error: 4629.4976 - mean_absolute_error: 33.5121 - val_loss: 4557.6875 - val_mean_squared_error: 4557.6875 - val_mean_absolute_error: 33.4513\n",
      "Epoch 396/1000\n",
      "5/5 [==============================] - 0s 9ms/step - loss: 4591.2196 - mean_squared_error: 4591.2196 - mean_absolute_error: 33.6300 - val_loss: 4551.2671 - val_mean_squared_error: 4551.2671 - val_mean_absolute_error: 33.4552\n",
      "Epoch 397/1000\n",
      "5/5 [==============================] - 0s 10ms/step - loss: 4410.8850 - mean_squared_error: 4410.8850 - mean_absolute_error: 32.6937 - val_loss: 4543.8315 - val_mean_squared_error: 4543.8315 - val_mean_absolute_error: 33.4579\n",
      "Epoch 398/1000\n",
      "5/5 [==============================] - 0s 9ms/step - loss: 4164.7988 - mean_squared_error: 4164.7988 - mean_absolute_error: 32.2642 - val_loss: 4537.4756 - val_mean_squared_error: 4537.4756 - val_mean_absolute_error: 33.4616\n",
      "Epoch 399/1000\n",
      "5/5 [==============================] - 0s 9ms/step - loss: 4149.8981 - mean_squared_error: 4149.8981 - mean_absolute_error: 31.5913 - val_loss: 4530.8076 - val_mean_squared_error: 4530.8076 - val_mean_absolute_error: 33.4649\n",
      "Epoch 400/1000\n",
      "5/5 [==============================] - 0s 9ms/step - loss: 4359.2788 - mean_squared_error: 4359.2788 - mean_absolute_error: 32.9647 - val_loss: 4523.8315 - val_mean_squared_error: 4523.8315 - val_mean_absolute_error: 33.4679\n",
      "Epoch 401/1000\n",
      "5/5 [==============================] - 0s 9ms/step - loss: 4329.4804 - mean_squared_error: 4329.4804 - mean_absolute_error: 32.6667 - val_loss: 4517.2090 - val_mean_squared_error: 4517.2085 - val_mean_absolute_error: 33.4710\n",
      "Epoch 402/1000\n",
      "5/5 [==============================] - 0s 10ms/step - loss: 4191.6763 - mean_squared_error: 4191.6763 - mean_absolute_error: 32.3255 - val_loss: 4511.0591 - val_mean_squared_error: 4511.0591 - val_mean_absolute_error: 33.4743\n",
      "Epoch 403/1000\n",
      "5/5 [==============================] - 0s 9ms/step - loss: 4313.2859 - mean_squared_error: 4313.2859 - mean_absolute_error: 32.9761 - val_loss: 4503.9771 - val_mean_squared_error: 4503.9771 - val_mean_absolute_error: 33.4769\n",
      "Epoch 404/1000\n",
      "5/5 [==============================] - 0s 10ms/step - loss: 4221.0318 - mean_squared_error: 4221.0318 - mean_absolute_error: 32.0320 - val_loss: 4497.5381 - val_mean_squared_error: 4497.5381 - val_mean_absolute_error: 33.4796\n",
      "Epoch 405/1000\n",
      "5/5 [==============================] - 0s 10ms/step - loss: 4214.9920 - mean_squared_error: 4214.9920 - mean_absolute_error: 32.5500 - val_loss: 4491.2080 - val_mean_squared_error: 4491.2080 - val_mean_absolute_error: 33.4822\n",
      "Epoch 406/1000\n",
      "5/5 [==============================] - 0s 10ms/step - loss: 4464.8791 - mean_squared_error: 4464.8791 - mean_absolute_error: 33.1975 - val_loss: 4484.4292 - val_mean_squared_error: 4484.4292 - val_mean_absolute_error: 33.4843\n",
      "Epoch 407/1000\n",
      "5/5 [==============================] - 0s 9ms/step - loss: 4412.4928 - mean_squared_error: 4412.4928 - mean_absolute_error: 33.2640 - val_loss: 4478.1089 - val_mean_squared_error: 4478.1089 - val_mean_absolute_error: 33.4865\n",
      "Epoch 408/1000\n",
      "5/5 [==============================] - 0s 9ms/step - loss: 4352.1857 - mean_squared_error: 4352.1857 - mean_absolute_error: 32.7581 - val_loss: 4471.8281 - val_mean_squared_error: 4471.8281 - val_mean_absolute_error: 33.4885\n",
      "Epoch 409/1000\n"
     ]
    },
    {
     "name": "stdout",
     "output_type": "stream",
     "text": [
      "5/5 [==============================] - 0s 10ms/step - loss: 4277.3050 - mean_squared_error: 4277.3050 - mean_absolute_error: 32.8633 - val_loss: 4465.2427 - val_mean_squared_error: 4465.2427 - val_mean_absolute_error: 33.4899\n",
      "Epoch 410/1000\n",
      "5/5 [==============================] - 0s 9ms/step - loss: 4400.7043 - mean_squared_error: 4400.7043 - mean_absolute_error: 33.1676 - val_loss: 4459.0273 - val_mean_squared_error: 4459.0273 - val_mean_absolute_error: 33.4923\n",
      "Epoch 411/1000\n",
      "5/5 [==============================] - 0s 10ms/step - loss: 4673.2122 - mean_squared_error: 4673.2122 - mean_absolute_error: 34.1276 - val_loss: 4453.0811 - val_mean_squared_error: 4453.0811 - val_mean_absolute_error: 33.4946\n",
      "Epoch 412/1000\n",
      "5/5 [==============================] - 0s 10ms/step - loss: 4245.9184 - mean_squared_error: 4245.9184 - mean_absolute_error: 32.6986 - val_loss: 4446.8042 - val_mean_squared_error: 4446.8042 - val_mean_absolute_error: 33.4959\n",
      "Epoch 413/1000\n",
      "5/5 [==============================] - 0s 9ms/step - loss: 4354.0373 - mean_squared_error: 4354.0373 - mean_absolute_error: 33.2360 - val_loss: 4440.5386 - val_mean_squared_error: 4440.5386 - val_mean_absolute_error: 33.4968\n",
      "Epoch 414/1000\n",
      "5/5 [==============================] - 0s 9ms/step - loss: 4265.9732 - mean_squared_error: 4265.9732 - mean_absolute_error: 32.9082 - val_loss: 4434.7578 - val_mean_squared_error: 4434.7578 - val_mean_absolute_error: 33.4986\n",
      "Epoch 415/1000\n",
      "5/5 [==============================] - 0s 9ms/step - loss: 4380.7287 - mean_squared_error: 4380.7287 - mean_absolute_error: 32.9604 - val_loss: 4428.7188 - val_mean_squared_error: 4428.7188 - val_mean_absolute_error: 33.5002\n",
      "Epoch 416/1000\n",
      "5/5 [==============================] - 0s 10ms/step - loss: 4257.5345 - mean_squared_error: 4257.5345 - mean_absolute_error: 32.5079 - val_loss: 4422.8193 - val_mean_squared_error: 4422.8193 - val_mean_absolute_error: 33.5009\n",
      "Epoch 417/1000\n",
      "5/5 [==============================] - 0s 10ms/step - loss: 4346.3318 - mean_squared_error: 4346.3318 - mean_absolute_error: 33.0057 - val_loss: 4416.6694 - val_mean_squared_error: 4416.6694 - val_mean_absolute_error: 33.5021\n",
      "Epoch 418/1000\n",
      "5/5 [==============================] - 0s 9ms/step - loss: 4176.0991 - mean_squared_error: 4176.0991 - mean_absolute_error: 32.4968 - val_loss: 4410.7944 - val_mean_squared_error: 4410.7944 - val_mean_absolute_error: 33.5035\n",
      "Epoch 419/1000\n",
      "5/5 [==============================] - 0s 9ms/step - loss: 4297.8682 - mean_squared_error: 4297.8682 - mean_absolute_error: 33.2644 - val_loss: 4404.8921 - val_mean_squared_error: 4404.8921 - val_mean_absolute_error: 33.5050\n",
      "Epoch 420/1000\n",
      "5/5 [==============================] - 0s 9ms/step - loss: 4285.3140 - mean_squared_error: 4285.3140 - mean_absolute_error: 32.6896 - val_loss: 4399.2207 - val_mean_squared_error: 4399.2207 - val_mean_absolute_error: 33.5064\n",
      "Epoch 421/1000\n",
      "5/5 [==============================] - 0s 9ms/step - loss: 4537.4171 - mean_squared_error: 4537.4171 - mean_absolute_error: 33.8861 - val_loss: 4393.3828 - val_mean_squared_error: 4393.3828 - val_mean_absolute_error: 33.5074\n",
      "Epoch 422/1000\n",
      "5/5 [==============================] - 0s 10ms/step - loss: 4072.4651 - mean_squared_error: 4072.4651 - mean_absolute_error: 32.0793 - val_loss: 4387.6514 - val_mean_squared_error: 4387.6514 - val_mean_absolute_error: 33.5068\n",
      "Epoch 423/1000\n",
      "5/5 [==============================] - 0s 9ms/step - loss: 4334.3506 - mean_squared_error: 4334.3506 - mean_absolute_error: 33.2371 - val_loss: 4381.6426 - val_mean_squared_error: 4381.6426 - val_mean_absolute_error: 33.5064\n",
      "Epoch 424/1000\n",
      "5/5 [==============================] - 0s 10ms/step - loss: 4279.0548 - mean_squared_error: 4279.0548 - mean_absolute_error: 33.2830 - val_loss: 4376.1270 - val_mean_squared_error: 4376.1270 - val_mean_absolute_error: 33.5054\n",
      "Epoch 425/1000\n",
      "5/5 [==============================] - 0s 10ms/step - loss: 4449.5380 - mean_squared_error: 4449.5380 - mean_absolute_error: 33.5103 - val_loss: 4370.6133 - val_mean_squared_error: 4370.6133 - val_mean_absolute_error: 33.5041\n",
      "Epoch 426/1000\n",
      "5/5 [==============================] - 0s 10ms/step - loss: 4209.0456 - mean_squared_error: 4209.0456 - mean_absolute_error: 32.9645 - val_loss: 4364.9761 - val_mean_squared_error: 4364.9761 - val_mean_absolute_error: 33.5027\n",
      "Epoch 427/1000\n",
      "5/5 [==============================] - 0s 10ms/step - loss: 4479.9203 - mean_squared_error: 4479.9203 - mean_absolute_error: 34.0494 - val_loss: 4359.3184 - val_mean_squared_error: 4359.3184 - val_mean_absolute_error: 33.5016\n",
      "Epoch 428/1000\n",
      "5/5 [==============================] - 0s 9ms/step - loss: 3955.8515 - mean_squared_error: 3955.8515 - mean_absolute_error: 31.8069 - val_loss: 4353.8110 - val_mean_squared_error: 4353.8110 - val_mean_absolute_error: 33.5012\n",
      "Epoch 429/1000\n",
      "5/5 [==============================] - 0s 10ms/step - loss: 4296.0253 - mean_squared_error: 4296.0253 - mean_absolute_error: 33.5543 - val_loss: 4348.0322 - val_mean_squared_error: 4348.0322 - val_mean_absolute_error: 33.5019\n",
      "Epoch 430/1000\n",
      "5/5 [==============================] - 0s 10ms/step - loss: 4116.9091 - mean_squared_error: 4116.9091 - mean_absolute_error: 32.5340 - val_loss: 4342.7280 - val_mean_squared_error: 4342.7280 - val_mean_absolute_error: 33.5024\n",
      "Epoch 431/1000\n",
      "5/5 [==============================] - 0s 10ms/step - loss: 4157.1495 - mean_squared_error: 4157.1499 - mean_absolute_error: 32.8513 - val_loss: 4337.4521 - val_mean_squared_error: 4337.4521 - val_mean_absolute_error: 33.5032\n",
      "Epoch 432/1000\n",
      "5/5 [==============================] - 0s 10ms/step - loss: 4033.9390 - mean_squared_error: 4033.9390 - mean_absolute_error: 32.6233 - val_loss: 4332.0146 - val_mean_squared_error: 4332.0146 - val_mean_absolute_error: 33.5046\n",
      "Epoch 433/1000\n",
      "5/5 [==============================] - 0s 10ms/step - loss: 4323.8718 - mean_squared_error: 4323.8718 - mean_absolute_error: 33.3314 - val_loss: 4326.7837 - val_mean_squared_error: 4326.7837 - val_mean_absolute_error: 33.5060\n",
      "Epoch 434/1000\n",
      "5/5 [==============================] - 0s 9ms/step - loss: 4174.3947 - mean_squared_error: 4174.3947 - mean_absolute_error: 32.6829 - val_loss: 4321.5884 - val_mean_squared_error: 4321.5884 - val_mean_absolute_error: 33.5063\n",
      "Epoch 435/1000\n",
      "5/5 [==============================] - 0s 9ms/step - loss: 4032.0517 - mean_squared_error: 4032.0517 - mean_absolute_error: 32.3852 - val_loss: 4316.4277 - val_mean_squared_error: 4316.4277 - val_mean_absolute_error: 33.5089\n",
      "Epoch 436/1000\n",
      "5/5 [==============================] - 0s 9ms/step - loss: 4249.2126 - mean_squared_error: 4249.2126 - mean_absolute_error: 33.1422 - val_loss: 4311.0791 - val_mean_squared_error: 4311.0791 - val_mean_absolute_error: 33.5157\n",
      "Epoch 437/1000\n",
      "5/5 [==============================] - 0s 9ms/step - loss: 4013.9471 - mean_squared_error: 4013.9471 - mean_absolute_error: 32.2763 - val_loss: 4305.8247 - val_mean_squared_error: 4305.8247 - val_mean_absolute_error: 33.5234\n",
      "Epoch 438/1000\n",
      "5/5 [==============================] - 0s 9ms/step - loss: 3995.4071 - mean_squared_error: 3995.4071 - mean_absolute_error: 32.6479 - val_loss: 4300.8052 - val_mean_squared_error: 4300.8052 - val_mean_absolute_error: 33.5310\n",
      "Epoch 439/1000\n",
      "5/5 [==============================] - 0s 9ms/step - loss: 3966.6658 - mean_squared_error: 3966.6658 - mean_absolute_error: 32.3771 - val_loss: 4295.7754 - val_mean_squared_error: 4295.7754 - val_mean_absolute_error: 33.5383\n",
      "Epoch 440/1000\n",
      "5/5 [==============================] - 0s 9ms/step - loss: 4195.7026 - mean_squared_error: 4195.7026 - mean_absolute_error: 33.2456 - val_loss: 4290.7529 - val_mean_squared_error: 4290.7529 - val_mean_absolute_error: 33.5485\n",
      "Epoch 441/1000\n",
      "5/5 [==============================] - 0s 9ms/step - loss: 4112.9606 - mean_squared_error: 4112.9606 - mean_absolute_error: 32.6277 - val_loss: 4285.5957 - val_mean_squared_error: 4285.5957 - val_mean_absolute_error: 33.5569\n",
      "Epoch 442/1000\n",
      "5/5 [==============================] - 0s 10ms/step - loss: 4014.2080 - mean_squared_error: 4014.2080 - mean_absolute_error: 32.3188 - val_loss: 4280.7202 - val_mean_squared_error: 4280.7202 - val_mean_absolute_error: 33.5660\n",
      "Epoch 443/1000\n",
      "5/5 [==============================] - 0s 9ms/step - loss: 4112.2458 - mean_squared_error: 4112.2458 - mean_absolute_error: 32.8092 - val_loss: 4275.8223 - val_mean_squared_error: 4275.8223 - val_mean_absolute_error: 33.5789\n",
      "Epoch 444/1000\n",
      "5/5 [==============================] - 0s 10ms/step - loss: 4108.9865 - mean_squared_error: 4108.9865 - mean_absolute_error: 32.8745 - val_loss: 4270.9692 - val_mean_squared_error: 4270.9692 - val_mean_absolute_error: 33.5919\n",
      "Epoch 445/1000\n",
      "5/5 [==============================] - 0s 10ms/step - loss: 4095.1003 - mean_squared_error: 4095.1002 - mean_absolute_error: 32.7715 - val_loss: 4266.1597 - val_mean_squared_error: 4266.1597 - val_mean_absolute_error: 33.6041\n",
      "Epoch 446/1000\n",
      "5/5 [==============================] - 0s 9ms/step - loss: 3943.0534 - mean_squared_error: 3943.0534 - mean_absolute_error: 32.2624 - val_loss: 4261.4517 - val_mean_squared_error: 4261.4517 - val_mean_absolute_error: 33.6155\n",
      "Epoch 447/1000\n",
      "5/5 [==============================] - 0s 9ms/step - loss: 4029.6028 - mean_squared_error: 4029.6028 - mean_absolute_error: 32.7459 - val_loss: 4256.7114 - val_mean_squared_error: 4256.7114 - val_mean_absolute_error: 33.6275\n",
      "Epoch 448/1000\n",
      "5/5 [==============================] - 0s 9ms/step - loss: 4048.7699 - mean_squared_error: 4048.7699 - mean_absolute_error: 32.6610 - val_loss: 4251.9824 - val_mean_squared_error: 4251.9824 - val_mean_absolute_error: 33.6403\n",
      "Epoch 449/1000\n",
      "5/5 [==============================] - 0s 9ms/step - loss: 4206.8608 - mean_squared_error: 4206.8608 - mean_absolute_error: 33.8639 - val_loss: 4247.5005 - val_mean_squared_error: 4247.5005 - val_mean_absolute_error: 33.6533\n",
      "Epoch 450/1000\n",
      "5/5 [==============================] - 0s 10ms/step - loss: 4086.6562 - mean_squared_error: 4086.6562 - mean_absolute_error: 32.9636 - val_loss: 4242.8711 - val_mean_squared_error: 4242.8711 - val_mean_absolute_error: 33.6638\n",
      "Epoch 451/1000\n",
      "5/5 [==============================] - 0s 9ms/step - loss: 4011.3564 - mean_squared_error: 4011.3564 - mean_absolute_error: 32.9714 - val_loss: 4238.3135 - val_mean_squared_error: 4238.3135 - val_mean_absolute_error: 33.6741\n",
      "Epoch 452/1000\n",
      "5/5 [==============================] - 0s 11ms/step - loss: 3973.5030 - mean_squared_error: 3973.5030 - mean_absolute_error: 33.0022 - val_loss: 4233.7427 - val_mean_squared_error: 4233.7427 - val_mean_absolute_error: 33.6832\n",
      "Epoch 453/1000\n",
      "5/5 [==============================] - 0s 9ms/step - loss: 4187.4521 - mean_squared_error: 4187.4521 - mean_absolute_error: 33.5713 - val_loss: 4229.3662 - val_mean_squared_error: 4229.3662 - val_mean_absolute_error: 33.6965\n",
      "Epoch 454/1000\n",
      "5/5 [==============================] - 0s 10ms/step - loss: 4031.3916 - mean_squared_error: 4031.3916 - mean_absolute_error: 32.8992 - val_loss: 4225.0610 - val_mean_squared_error: 4225.0610 - val_mean_absolute_error: 33.7090\n",
      "Epoch 455/1000\n",
      "5/5 [==============================] - 0s 10ms/step - loss: 4184.5627 - mean_squared_error: 4184.5627 - mean_absolute_error: 33.4603 - val_loss: 4220.5635 - val_mean_squared_error: 4220.5635 - val_mean_absolute_error: 33.7233\n",
      "Epoch 456/1000\n",
      "5/5 [==============================] - 0s 9ms/step - loss: 4067.2633 - mean_squared_error: 4067.2633 - mean_absolute_error: 32.9870 - val_loss: 4216.1553 - val_mean_squared_error: 4216.1553 - val_mean_absolute_error: 33.7307\n",
      "Epoch 457/1000\n",
      "5/5 [==============================] - 0s 10ms/step - loss: 4197.8620 - mean_squared_error: 4197.8620 - mean_absolute_error: 33.8393 - val_loss: 4211.7041 - val_mean_squared_error: 4211.7041 - val_mean_absolute_error: 33.7405\n",
      "Epoch 458/1000\n",
      "5/5 [==============================] - 0s 9ms/step - loss: 3882.4106 - mean_squared_error: 3882.4106 - mean_absolute_error: 32.7321 - val_loss: 4207.3276 - val_mean_squared_error: 4207.3276 - val_mean_absolute_error: 33.7520\n",
      "Epoch 459/1000\n",
      "5/5 [==============================] - 0s 10ms/step - loss: 3946.7422 - mean_squared_error: 3946.7422 - mean_absolute_error: 32.4726 - val_loss: 4203.1943 - val_mean_squared_error: 4203.1943 - val_mean_absolute_error: 33.7669\n",
      "Epoch 460/1000\n",
      "5/5 [==============================] - 0s 10ms/step - loss: 4120.0092 - mean_squared_error: 4120.0092 - mean_absolute_error: 33.6603 - val_loss: 4198.8447 - val_mean_squared_error: 4198.8447 - val_mean_absolute_error: 33.7848\n",
      "Epoch 461/1000\n",
      "5/5 [==============================] - 0s 10ms/step - loss: 3952.0112 - mean_squared_error: 3952.0112 - mean_absolute_error: 32.8870 - val_loss: 4194.5449 - val_mean_squared_error: 4194.5449 - val_mean_absolute_error: 33.8001\n",
      "Epoch 462/1000\n",
      "5/5 [==============================] - 0s 10ms/step - loss: 3923.2661 - mean_squared_error: 3923.2661 - mean_absolute_error: 33.2794 - val_loss: 4190.2773 - val_mean_squared_error: 4190.2773 - val_mean_absolute_error: 33.8147\n",
      "Epoch 463/1000\n",
      "5/5 [==============================] - 0s 9ms/step - loss: 3992.8655 - mean_squared_error: 3992.8655 - mean_absolute_error: 33.1418 - val_loss: 4186.3877 - val_mean_squared_error: 4186.3877 - val_mean_absolute_error: 33.8274\n",
      "Epoch 464/1000\n",
      "5/5 [==============================] - 0s 9ms/step - loss: 4128.4652 - mean_squared_error: 4128.4652 - mean_absolute_error: 33.6867 - val_loss: 4182.1523 - val_mean_squared_error: 4182.1523 - val_mean_absolute_error: 33.8405\n",
      "Epoch 465/1000\n",
      "5/5 [==============================] - 0s 9ms/step - loss: 4023.2684 - mean_squared_error: 4023.2684 - mean_absolute_error: 33.4083 - val_loss: 4178.0063 - val_mean_squared_error: 4178.0063 - val_mean_absolute_error: 33.8519\n",
      "Epoch 466/1000\n",
      "5/5 [==============================] - 0s 9ms/step - loss: 4008.6560 - mean_squared_error: 4008.6560 - mean_absolute_error: 32.9609 - val_loss: 4174.0312 - val_mean_squared_error: 4174.0312 - val_mean_absolute_error: 33.8633\n",
      "Epoch 467/1000\n",
      "5/5 [==============================] - 0s 9ms/step - loss: 4057.0190 - mean_squared_error: 4057.0190 - mean_absolute_error: 33.2924 - val_loss: 4170.0938 - val_mean_squared_error: 4170.0938 - val_mean_absolute_error: 33.8760\n",
      "Epoch 468/1000\n",
      "5/5 [==============================] - 0s 10ms/step - loss: 3967.2980 - mean_squared_error: 3967.2980 - mean_absolute_error: 33.1035 - val_loss: 4166.3135 - val_mean_squared_error: 4166.3135 - val_mean_absolute_error: 33.8851\n",
      "Epoch 469/1000\n",
      "5/5 [==============================] - 0s 9ms/step - loss: 3996.7192 - mean_squared_error: 3996.7192 - mean_absolute_error: 33.6120 - val_loss: 4162.4722 - val_mean_squared_error: 4162.4722 - val_mean_absolute_error: 33.8924\n",
      "Epoch 470/1000\n",
      "5/5 [==============================] - 0s 9ms/step - loss: 4082.8090 - mean_squared_error: 4082.8090 - mean_absolute_error: 33.6203 - val_loss: 4158.6016 - val_mean_squared_error: 4158.6016 - val_mean_absolute_error: 33.9003\n",
      "Epoch 471/1000\n",
      "5/5 [==============================] - 0s 9ms/step - loss: 4167.3041 - mean_squared_error: 4167.3041 - mean_absolute_error: 33.7736 - val_loss: 4154.7500 - val_mean_squared_error: 4154.7500 - val_mean_absolute_error: 33.9069\n",
      "Epoch 472/1000\n",
      "5/5 [==============================] - 0s 9ms/step - loss: 3908.5029 - mean_squared_error: 3908.5029 - mean_absolute_error: 32.8530 - val_loss: 4150.7554 - val_mean_squared_error: 4150.7554 - val_mean_absolute_error: 33.9111\n",
      "Epoch 473/1000\n",
      "5/5 [==============================] - 0s 10ms/step - loss: 4168.4040 - mean_squared_error: 4168.4040 - mean_absolute_error: 33.7752 - val_loss: 4146.7729 - val_mean_squared_error: 4146.7729 - val_mean_absolute_error: 33.9152\n",
      "Epoch 474/1000\n",
      "5/5 [==============================] - 0s 10ms/step - loss: 4009.3059 - mean_squared_error: 4009.3059 - mean_absolute_error: 33.5052 - val_loss: 4143.0527 - val_mean_squared_error: 4143.0527 - val_mean_absolute_error: 33.9198\n",
      "Epoch 475/1000\n",
      "5/5 [==============================] - 0s 9ms/step - loss: 3968.4720 - mean_squared_error: 3968.4720 - mean_absolute_error: 33.2029 - val_loss: 4139.5273 - val_mean_squared_error: 4139.5273 - val_mean_absolute_error: 33.9240\n",
      "Epoch 476/1000\n",
      "5/5 [==============================] - 0s 10ms/step - loss: 4011.0023 - mean_squared_error: 4011.0023 - mean_absolute_error: 33.5433 - val_loss: 4135.9902 - val_mean_squared_error: 4135.9902 - val_mean_absolute_error: 33.9324\n",
      "Epoch 477/1000\n"
     ]
    },
    {
     "name": "stdout",
     "output_type": "stream",
     "text": [
      "5/5 [==============================] - 0s 10ms/step - loss: 4090.4453 - mean_squared_error: 4090.4453 - mean_absolute_error: 33.8946 - val_loss: 4132.2793 - val_mean_squared_error: 4132.2793 - val_mean_absolute_error: 33.9402\n",
      "Epoch 478/1000\n",
      "5/5 [==============================] - 0s 10ms/step - loss: 3939.1828 - mean_squared_error: 3939.1828 - mean_absolute_error: 33.0240 - val_loss: 4128.4678 - val_mean_squared_error: 4128.4678 - val_mean_absolute_error: 33.9449\n",
      "Epoch 479/1000\n",
      "5/5 [==============================] - 0s 9ms/step - loss: 4098.1400 - mean_squared_error: 4098.1400 - mean_absolute_error: 33.7738 - val_loss: 4124.8608 - val_mean_squared_error: 4124.8608 - val_mean_absolute_error: 33.9498\n",
      "Epoch 480/1000\n",
      "5/5 [==============================] - 0s 9ms/step - loss: 4035.5758 - mean_squared_error: 4035.5758 - mean_absolute_error: 33.3921 - val_loss: 4121.4751 - val_mean_squared_error: 4121.4751 - val_mean_absolute_error: 33.9517\n",
      "Epoch 481/1000\n",
      "5/5 [==============================] - 0s 9ms/step - loss: 4063.3965 - mean_squared_error: 4063.3965 - mean_absolute_error: 33.8433 - val_loss: 4117.8789 - val_mean_squared_error: 4117.8789 - val_mean_absolute_error: 33.9517\n",
      "Epoch 482/1000\n",
      "5/5 [==============================] - 0s 10ms/step - loss: 3790.4378 - mean_squared_error: 3790.4378 - mean_absolute_error: 32.7662 - val_loss: 4114.6045 - val_mean_squared_error: 4114.6045 - val_mean_absolute_error: 33.9528\n",
      "Epoch 483/1000\n",
      "5/5 [==============================] - 0s 10ms/step - loss: 3964.1926 - mean_squared_error: 3964.1926 - mean_absolute_error: 33.2306 - val_loss: 4111.2817 - val_mean_squared_error: 4111.2817 - val_mean_absolute_error: 33.9644\n",
      "Epoch 484/1000\n",
      "5/5 [==============================] - 0s 9ms/step - loss: 3765.3557 - mean_squared_error: 3765.3558 - mean_absolute_error: 32.6188 - val_loss: 4107.8228 - val_mean_squared_error: 4107.8228 - val_mean_absolute_error: 33.9787\n",
      "Epoch 485/1000\n",
      "5/5 [==============================] - 0s 9ms/step - loss: 3882.7688 - mean_squared_error: 3882.7688 - mean_absolute_error: 33.1051 - val_loss: 4104.2300 - val_mean_squared_error: 4104.2300 - val_mean_absolute_error: 33.9868\n",
      "Epoch 486/1000\n",
      "5/5 [==============================] - 0s 9ms/step - loss: 3945.9626 - mean_squared_error: 3945.9629 - mean_absolute_error: 33.6381 - val_loss: 4101.1118 - val_mean_squared_error: 4101.1118 - val_mean_absolute_error: 33.9991\n",
      "Epoch 487/1000\n",
      "5/5 [==============================] - 0s 9ms/step - loss: 4009.8584 - mean_squared_error: 4009.8584 - mean_absolute_error: 33.9370 - val_loss: 4098.0415 - val_mean_squared_error: 4098.0415 - val_mean_absolute_error: 34.0117\n",
      "Epoch 488/1000\n",
      "5/5 [==============================] - 0s 10ms/step - loss: 3945.7653 - mean_squared_error: 3945.7653 - mean_absolute_error: 33.6121 - val_loss: 4094.5193 - val_mean_squared_error: 4094.5193 - val_mean_absolute_error: 34.0229\n",
      "Epoch 489/1000\n",
      "5/5 [==============================] - 0s 9ms/step - loss: 4130.2564 - mean_squared_error: 4130.2564 - mean_absolute_error: 33.9104 - val_loss: 4091.1707 - val_mean_squared_error: 4091.1707 - val_mean_absolute_error: 34.0377\n",
      "Epoch 490/1000\n",
      "5/5 [==============================] - 0s 9ms/step - loss: 3848.2962 - mean_squared_error: 3848.2962 - mean_absolute_error: 33.0891 - val_loss: 4088.2380 - val_mean_squared_error: 4088.2380 - val_mean_absolute_error: 34.0473\n",
      "Epoch 491/1000\n",
      "5/5 [==============================] - 0s 10ms/step - loss: 4068.0853 - mean_squared_error: 4068.0853 - mean_absolute_error: 33.8865 - val_loss: 4084.9424 - val_mean_squared_error: 4084.9424 - val_mean_absolute_error: 34.0597\n",
      "Epoch 492/1000\n",
      "5/5 [==============================] - 0s 9ms/step - loss: 3916.1512 - mean_squared_error: 3916.1512 - mean_absolute_error: 33.3453 - val_loss: 4081.8625 - val_mean_squared_error: 4081.8625 - val_mean_absolute_error: 34.0701\n",
      "Epoch 493/1000\n",
      "5/5 [==============================] - 0s 10ms/step - loss: 3800.0354 - mean_squared_error: 3800.0354 - mean_absolute_error: 32.8993 - val_loss: 4078.6584 - val_mean_squared_error: 4078.6584 - val_mean_absolute_error: 34.0791\n",
      "Epoch 494/1000\n",
      "5/5 [==============================] - 0s 9ms/step - loss: 3557.3808 - mean_squared_error: 3557.3808 - mean_absolute_error: 32.2500 - val_loss: 4075.8474 - val_mean_squared_error: 4075.8474 - val_mean_absolute_error: 34.0823\n",
      "Epoch 495/1000\n",
      "5/5 [==============================] - 0s 9ms/step - loss: 3700.7410 - mean_squared_error: 3700.7410 - mean_absolute_error: 32.9890 - val_loss: 4072.8545 - val_mean_squared_error: 4072.8545 - val_mean_absolute_error: 34.0896\n",
      "Epoch 496/1000\n",
      "5/5 [==============================] - 0s 9ms/step - loss: 4115.3409 - mean_squared_error: 4115.3409 - mean_absolute_error: 34.1953 - val_loss: 4069.6533 - val_mean_squared_error: 4069.6533 - val_mean_absolute_error: 34.1023\n",
      "Epoch 497/1000\n",
      "5/5 [==============================] - 0s 9ms/step - loss: 3937.1115 - mean_squared_error: 3937.1115 - mean_absolute_error: 33.6904 - val_loss: 4066.7014 - val_mean_squared_error: 4066.7014 - val_mean_absolute_error: 34.1107\n",
      "Epoch 498/1000\n",
      "5/5 [==============================] - 0s 10ms/step - loss: 3953.9209 - mean_squared_error: 3953.9209 - mean_absolute_error: 33.3515 - val_loss: 4063.7642 - val_mean_squared_error: 4063.7642 - val_mean_absolute_error: 34.1184\n",
      "Epoch 499/1000\n",
      "5/5 [==============================] - 0s 9ms/step - loss: 3729.6779 - mean_squared_error: 3729.6779 - mean_absolute_error: 33.0303 - val_loss: 4060.8789 - val_mean_squared_error: 4060.8789 - val_mean_absolute_error: 34.1257\n",
      "Epoch 500/1000\n",
      "5/5 [==============================] - 0s 9ms/step - loss: 4007.0840 - mean_squared_error: 4007.0840 - mean_absolute_error: 33.7300 - val_loss: 4057.9990 - val_mean_squared_error: 4057.9990 - val_mean_absolute_error: 34.1334\n",
      "Epoch 501/1000\n",
      "5/5 [==============================] - 0s 9ms/step - loss: 3826.4045 - mean_squared_error: 3826.4045 - mean_absolute_error: 33.4500 - val_loss: 4055.1560 - val_mean_squared_error: 4055.1560 - val_mean_absolute_error: 34.1399\n",
      "Epoch 502/1000\n",
      "5/5 [==============================] - 0s 9ms/step - loss: 3773.5974 - mean_squared_error: 3773.5974 - mean_absolute_error: 33.2574 - val_loss: 4052.3545 - val_mean_squared_error: 4052.3545 - val_mean_absolute_error: 34.1497\n",
      "Epoch 503/1000\n",
      "5/5 [==============================] - 0s 9ms/step - loss: 3887.5755 - mean_squared_error: 3887.5755 - mean_absolute_error: 33.7454 - val_loss: 4049.2844 - val_mean_squared_error: 4049.2844 - val_mean_absolute_error: 34.1679\n",
      "Epoch 504/1000\n",
      "5/5 [==============================] - 0s 9ms/step - loss: 3819.4275 - mean_squared_error: 3819.4275 - mean_absolute_error: 33.7087 - val_loss: 4046.6086 - val_mean_squared_error: 4046.6086 - val_mean_absolute_error: 34.1845\n",
      "Epoch 505/1000\n",
      "5/5 [==============================] - 0s 9ms/step - loss: 3770.1758 - mean_squared_error: 3770.1758 - mean_absolute_error: 33.3333 - val_loss: 4043.8381 - val_mean_squared_error: 4043.8381 - val_mean_absolute_error: 34.1970\n",
      "Epoch 506/1000\n",
      "5/5 [==============================] - 0s 11ms/step - loss: 3863.9018 - mean_squared_error: 3863.9018 - mean_absolute_error: 33.7832 - val_loss: 4041.0107 - val_mean_squared_error: 4041.0107 - val_mean_absolute_error: 34.2164\n",
      "Epoch 507/1000\n",
      "5/5 [==============================] - 0s 10ms/step - loss: 3671.8765 - mean_squared_error: 3671.8765 - mean_absolute_error: 32.7765 - val_loss: 4038.4614 - val_mean_squared_error: 4038.4614 - val_mean_absolute_error: 34.2298\n",
      "Epoch 508/1000\n",
      "5/5 [==============================] - 0s 9ms/step - loss: 3776.8324 - mean_squared_error: 3776.8324 - mean_absolute_error: 33.4577 - val_loss: 4035.7617 - val_mean_squared_error: 4035.7617 - val_mean_absolute_error: 34.2428\n",
      "Epoch 509/1000\n",
      "5/5 [==============================] - 0s 10ms/step - loss: 3906.2802 - mean_squared_error: 3906.2802 - mean_absolute_error: 33.6701 - val_loss: 4033.1777 - val_mean_squared_error: 4033.1777 - val_mean_absolute_error: 34.2575\n",
      "Epoch 510/1000\n",
      "5/5 [==============================] - 0s 9ms/step - loss: 3903.3348 - mean_squared_error: 3903.3348 - mean_absolute_error: 33.6780 - val_loss: 4030.4988 - val_mean_squared_error: 4030.4988 - val_mean_absolute_error: 34.2714\n",
      "Epoch 511/1000\n",
      "5/5 [==============================] - 0s 10ms/step - loss: 3772.3052 - mean_squared_error: 3772.3052 - mean_absolute_error: 32.8603 - val_loss: 4027.8604 - val_mean_squared_error: 4027.8604 - val_mean_absolute_error: 34.2845\n",
      "Epoch 512/1000\n",
      "5/5 [==============================] - 0s 9ms/step - loss: 3829.7987 - mean_squared_error: 3829.7987 - mean_absolute_error: 33.5642 - val_loss: 4025.3315 - val_mean_squared_error: 4025.3315 - val_mean_absolute_error: 34.2961\n",
      "Epoch 513/1000\n",
      "5/5 [==============================] - 0s 9ms/step - loss: 3866.9003 - mean_squared_error: 3866.9003 - mean_absolute_error: 33.6776 - val_loss: 4022.8474 - val_mean_squared_error: 4022.8474 - val_mean_absolute_error: 34.3073\n",
      "Epoch 514/1000\n",
      "5/5 [==============================] - 0s 9ms/step - loss: 3885.4505 - mean_squared_error: 3885.4505 - mean_absolute_error: 33.8642 - val_loss: 4020.2495 - val_mean_squared_error: 4020.2495 - val_mean_absolute_error: 34.3190\n",
      "Epoch 515/1000\n",
      "5/5 [==============================] - 0s 10ms/step - loss: 4148.4755 - mean_squared_error: 4148.4755 - mean_absolute_error: 34.6607 - val_loss: 4017.8281 - val_mean_squared_error: 4017.8281 - val_mean_absolute_error: 34.3297\n",
      "Epoch 516/1000\n",
      "5/5 [==============================] - 0s 9ms/step - loss: 3801.5754 - mean_squared_error: 3801.5754 - mean_absolute_error: 33.4476 - val_loss: 4015.1550 - val_mean_squared_error: 4015.1550 - val_mean_absolute_error: 34.3387\n",
      "Epoch 517/1000\n",
      "5/5 [==============================] - 0s 9ms/step - loss: 3939.1875 - mean_squared_error: 3939.1875 - mean_absolute_error: 34.1914 - val_loss: 4012.9106 - val_mean_squared_error: 4012.9106 - val_mean_absolute_error: 34.3443\n",
      "Epoch 518/1000\n",
      "5/5 [==============================] - 0s 10ms/step - loss: 3815.9391 - mean_squared_error: 3815.9391 - mean_absolute_error: 33.3129 - val_loss: 4010.4580 - val_mean_squared_error: 4010.4580 - val_mean_absolute_error: 34.3484\n",
      "Epoch 519/1000\n",
      "5/5 [==============================] - 0s 9ms/step - loss: 3805.0327 - mean_squared_error: 3805.0327 - mean_absolute_error: 33.4064 - val_loss: 4008.3010 - val_mean_squared_error: 4008.3010 - val_mean_absolute_error: 34.3551\n",
      "Epoch 520/1000\n",
      "5/5 [==============================] - 0s 9ms/step - loss: 3787.1728 - mean_squared_error: 3787.1728 - mean_absolute_error: 33.2172 - val_loss: 4005.8740 - val_mean_squared_error: 4005.8740 - val_mean_absolute_error: 34.3611\n",
      "Epoch 521/1000\n",
      "5/5 [==============================] - 0s 9ms/step - loss: 3821.3965 - mean_squared_error: 3821.3965 - mean_absolute_error: 33.3333 - val_loss: 4003.5813 - val_mean_squared_error: 4003.5813 - val_mean_absolute_error: 34.3697\n",
      "Epoch 522/1000\n",
      "5/5 [==============================] - 0s 9ms/step - loss: 3763.2740 - mean_squared_error: 3763.2740 - mean_absolute_error: 33.3650 - val_loss: 4001.3027 - val_mean_squared_error: 4001.3027 - val_mean_absolute_error: 34.3819\n",
      "Epoch 523/1000\n",
      "5/5 [==============================] - 0s 9ms/step - loss: 3847.5656 - mean_squared_error: 3847.5656 - mean_absolute_error: 33.8077 - val_loss: 3998.8721 - val_mean_squared_error: 3998.8721 - val_mean_absolute_error: 34.3943\n",
      "Epoch 524/1000\n",
      "5/5 [==============================] - 0s 9ms/step - loss: 3875.7958 - mean_squared_error: 3875.7958 - mean_absolute_error: 33.6695 - val_loss: 3996.6082 - val_mean_squared_error: 3996.6082 - val_mean_absolute_error: 34.4035\n",
      "Epoch 525/1000\n",
      "5/5 [==============================] - 0s 9ms/step - loss: 3743.0753 - mean_squared_error: 3743.0753 - mean_absolute_error: 33.6312 - val_loss: 3994.3914 - val_mean_squared_error: 3994.3914 - val_mean_absolute_error: 34.4134\n",
      "Epoch 526/1000\n",
      "5/5 [==============================] - 0s 10ms/step - loss: 4010.1937 - mean_squared_error: 4010.1937 - mean_absolute_error: 34.5592 - val_loss: 3992.0051 - val_mean_squared_error: 3992.0051 - val_mean_absolute_error: 34.4234\n",
      "Epoch 527/1000\n",
      "5/5 [==============================] - 0s 9ms/step - loss: 3949.4522 - mean_squared_error: 3949.4526 - mean_absolute_error: 34.3270 - val_loss: 3989.9231 - val_mean_squared_error: 3989.9231 - val_mean_absolute_error: 34.4348\n",
      "Epoch 528/1000\n",
      "5/5 [==============================] - 0s 9ms/step - loss: 3831.5743 - mean_squared_error: 3831.5743 - mean_absolute_error: 33.8012 - val_loss: 3987.6895 - val_mean_squared_error: 3987.6895 - val_mean_absolute_error: 34.4397\n",
      "Epoch 529/1000\n",
      "5/5 [==============================] - 0s 9ms/step - loss: 3785.5604 - mean_squared_error: 3785.5604 - mean_absolute_error: 33.8186 - val_loss: 3985.7598 - val_mean_squared_error: 3985.7598 - val_mean_absolute_error: 34.4527\n",
      "Epoch 530/1000\n",
      "5/5 [==============================] - 0s 10ms/step - loss: 3948.0532 - mean_squared_error: 3948.0532 - mean_absolute_error: 34.3171 - val_loss: 3983.3188 - val_mean_squared_error: 3983.3188 - val_mean_absolute_error: 34.4692\n",
      "Epoch 531/1000\n",
      "5/5 [==============================] - 0s 11ms/step - loss: 3887.1125 - mean_squared_error: 3887.1125 - mean_absolute_error: 33.8626 - val_loss: 3981.3655 - val_mean_squared_error: 3981.3655 - val_mean_absolute_error: 34.4859\n",
      "Epoch 532/1000\n",
      "5/5 [==============================] - 0s 12ms/step - loss: 3782.0101 - mean_squared_error: 3782.0101 - mean_absolute_error: 33.8567 - val_loss: 3979.0095 - val_mean_squared_error: 3979.0095 - val_mean_absolute_error: 34.4953\n",
      "Epoch 533/1000\n",
      "5/5 [==============================] - 0s 11ms/step - loss: 4033.5399 - mean_squared_error: 4033.5399 - mean_absolute_error: 34.6557 - val_loss: 3977.1250 - val_mean_squared_error: 3977.1250 - val_mean_absolute_error: 34.5105\n",
      "Epoch 534/1000\n",
      "5/5 [==============================] - 0s 13ms/step - loss: 3741.4064 - mean_squared_error: 3741.4064 - mean_absolute_error: 33.7777 - val_loss: 3974.8274 - val_mean_squared_error: 3974.8274 - val_mean_absolute_error: 34.5210\n",
      "Epoch 535/1000\n",
      "5/5 [==============================] - 0s 12ms/step - loss: 3977.5279 - mean_squared_error: 3977.5279 - mean_absolute_error: 34.4190 - val_loss: 3973.0532 - val_mean_squared_error: 3973.0532 - val_mean_absolute_error: 34.5324\n",
      "Epoch 536/1000\n",
      "5/5 [==============================] - 0s 9ms/step - loss: 3892.7391 - mean_squared_error: 3892.7391 - mean_absolute_error: 34.4085 - val_loss: 3970.8740 - val_mean_squared_error: 3970.8740 - val_mean_absolute_error: 34.5470\n",
      "Epoch 537/1000\n",
      "5/5 [==============================] - 0s 9ms/step - loss: 3967.3966 - mean_squared_error: 3967.3967 - mean_absolute_error: 34.1941 - val_loss: 3968.9451 - val_mean_squared_error: 3968.9451 - val_mean_absolute_error: 34.5629\n",
      "Epoch 538/1000\n",
      "5/5 [==============================] - 0s 10ms/step - loss: 3743.5997 - mean_squared_error: 3743.5997 - mean_absolute_error: 33.3995 - val_loss: 3966.9729 - val_mean_squared_error: 3966.9729 - val_mean_absolute_error: 34.5755\n",
      "Epoch 539/1000\n",
      "5/5 [==============================] - 0s 9ms/step - loss: 3962.0181 - mean_squared_error: 3962.0181 - mean_absolute_error: 34.3452 - val_loss: 3964.9795 - val_mean_squared_error: 3964.9795 - val_mean_absolute_error: 34.5881\n",
      "Epoch 540/1000\n",
      "5/5 [==============================] - 0s 9ms/step - loss: 3625.9855 - mean_squared_error: 3625.9855 - mean_absolute_error: 33.3476 - val_loss: 3963.1680 - val_mean_squared_error: 3963.1680 - val_mean_absolute_error: 34.6020\n",
      "Epoch 541/1000\n",
      "5/5 [==============================] - 0s 11ms/step - loss: 3741.5382 - mean_squared_error: 3741.5382 - mean_absolute_error: 33.9035 - val_loss: 3961.4304 - val_mean_squared_error: 3961.4304 - val_mean_absolute_error: 34.6178\n",
      "Epoch 542/1000\n",
      "5/5 [==============================] - 0s 9ms/step - loss: 3800.5476 - mean_squared_error: 3800.5476 - mean_absolute_error: 33.8887 - val_loss: 3959.2727 - val_mean_squared_error: 3959.2727 - val_mean_absolute_error: 34.6284\n",
      "Epoch 543/1000\n",
      "5/5 [==============================] - 0s 9ms/step - loss: 3811.0997 - mean_squared_error: 3811.0997 - mean_absolute_error: 34.1586 - val_loss: 3957.7166 - val_mean_squared_error: 3957.7166 - val_mean_absolute_error: 34.6393\n",
      "Epoch 544/1000\n",
      "5/5 [==============================] - 0s 9ms/step - loss: 3751.3446 - mean_squared_error: 3751.3446 - mean_absolute_error: 33.8233 - val_loss: 3955.8384 - val_mean_squared_error: 3955.8384 - val_mean_absolute_error: 34.6487\n",
      "Epoch 545/1000\n"
     ]
    },
    {
     "name": "stdout",
     "output_type": "stream",
     "text": [
      "5/5 [==============================] - 0s 9ms/step - loss: 3835.1285 - mean_squared_error: 3835.1285 - mean_absolute_error: 34.1540 - val_loss: 3953.9473 - val_mean_squared_error: 3953.9473 - val_mean_absolute_error: 34.6581\n",
      "Epoch 546/1000\n",
      "5/5 [==============================] - 0s 9ms/step - loss: 3832.3136 - mean_squared_error: 3832.3136 - mean_absolute_error: 34.3365 - val_loss: 3952.2122 - val_mean_squared_error: 3952.2122 - val_mean_absolute_error: 34.6666\n",
      "Epoch 547/1000\n",
      "5/5 [==============================] - 0s 10ms/step - loss: 3772.8211 - mean_squared_error: 3772.8211 - mean_absolute_error: 33.9039 - val_loss: 3950.3999 - val_mean_squared_error: 3950.3999 - val_mean_absolute_error: 34.6710\n",
      "Epoch 548/1000\n",
      "5/5 [==============================] - 0s 10ms/step - loss: 3931.1761 - mean_squared_error: 3931.1761 - mean_absolute_error: 34.3197 - val_loss: 3948.7869 - val_mean_squared_error: 3948.7869 - val_mean_absolute_error: 34.6783\n",
      "Epoch 549/1000\n",
      "5/5 [==============================] - 0s 10ms/step - loss: 3695.6818 - mean_squared_error: 3695.6818 - mean_absolute_error: 33.7520 - val_loss: 3947.0508 - val_mean_squared_error: 3947.0508 - val_mean_absolute_error: 34.6810\n",
      "Epoch 550/1000\n",
      "5/5 [==============================] - 0s 10ms/step - loss: 3762.5719 - mean_squared_error: 3762.5719 - mean_absolute_error: 33.9807 - val_loss: 3945.2527 - val_mean_squared_error: 3945.2527 - val_mean_absolute_error: 34.6876\n",
      "Epoch 551/1000\n",
      "5/5 [==============================] - 0s 9ms/step - loss: 3800.3938 - mean_squared_error: 3800.3938 - mean_absolute_error: 34.4477 - val_loss: 3943.7173 - val_mean_squared_error: 3943.7173 - val_mean_absolute_error: 34.6932\n",
      "Epoch 552/1000\n",
      "5/5 [==============================] - 0s 9ms/step - loss: 3800.1064 - mean_squared_error: 3800.1064 - mean_absolute_error: 34.3529 - val_loss: 3941.8982 - val_mean_squared_error: 3941.8982 - val_mean_absolute_error: 34.7061\n",
      "Epoch 553/1000\n",
      "5/5 [==============================] - 0s 10ms/step - loss: 3692.1793 - mean_squared_error: 3692.1793 - mean_absolute_error: 33.8008 - val_loss: 3940.2720 - val_mean_squared_error: 3940.2720 - val_mean_absolute_error: 34.7107\n",
      "Epoch 554/1000\n",
      "5/5 [==============================] - 0s 9ms/step - loss: 3790.5139 - mean_squared_error: 3790.5139 - mean_absolute_error: 34.6450 - val_loss: 3938.5103 - val_mean_squared_error: 3938.5103 - val_mean_absolute_error: 34.7135\n",
      "Epoch 555/1000\n",
      "5/5 [==============================] - 0s 10ms/step - loss: 3847.4118 - mean_squared_error: 3847.4118 - mean_absolute_error: 34.4738 - val_loss: 3937.1204 - val_mean_squared_error: 3937.1204 - val_mean_absolute_error: 34.7204\n",
      "Epoch 556/1000\n",
      "5/5 [==============================] - 0s 9ms/step - loss: 3818.6960 - mean_squared_error: 3818.6960 - mean_absolute_error: 34.3484 - val_loss: 3935.5232 - val_mean_squared_error: 3935.5232 - val_mean_absolute_error: 34.7264\n",
      "Epoch 557/1000\n",
      "5/5 [==============================] - 0s 10ms/step - loss: 3740.4906 - mean_squared_error: 3740.4906 - mean_absolute_error: 33.9606 - val_loss: 3933.7380 - val_mean_squared_error: 3933.7380 - val_mean_absolute_error: 34.7372\n",
      "Epoch 558/1000\n",
      "5/5 [==============================] - 0s 11ms/step - loss: 3722.2304 - mean_squared_error: 3722.2304 - mean_absolute_error: 33.9724 - val_loss: 3932.3875 - val_mean_squared_error: 3932.3875 - val_mean_absolute_error: 34.7468\n",
      "Epoch 559/1000\n",
      "5/5 [==============================] - 0s 11ms/step - loss: 3788.4335 - mean_squared_error: 3788.4335 - mean_absolute_error: 34.2245 - val_loss: 3930.8191 - val_mean_squared_error: 3930.8191 - val_mean_absolute_error: 34.7573\n",
      "Epoch 560/1000\n",
      "5/5 [==============================] - 0s 12ms/step - loss: 3811.0857 - mean_squared_error: 3811.0857 - mean_absolute_error: 34.1247 - val_loss: 3929.1006 - val_mean_squared_error: 3929.1006 - val_mean_absolute_error: 34.7746\n",
      "Epoch 561/1000\n",
      "5/5 [==============================] - 0s 11ms/step - loss: 3809.5490 - mean_squared_error: 3809.5490 - mean_absolute_error: 34.4125 - val_loss: 3927.6521 - val_mean_squared_error: 3927.6521 - val_mean_absolute_error: 34.7865\n",
      "Epoch 562/1000\n",
      "5/5 [==============================] - 0s 10ms/step - loss: 3734.9388 - mean_squared_error: 3734.9388 - mean_absolute_error: 34.1725 - val_loss: 3926.2280 - val_mean_squared_error: 3926.2280 - val_mean_absolute_error: 34.7979\n",
      "Epoch 563/1000\n",
      "5/5 [==============================] - 0s 10ms/step - loss: 3735.4596 - mean_squared_error: 3735.4596 - mean_absolute_error: 33.7823 - val_loss: 3924.6431 - val_mean_squared_error: 3924.6431 - val_mean_absolute_error: 34.8047\n",
      "Epoch 564/1000\n",
      "5/5 [==============================] - 0s 9ms/step - loss: 3626.4255 - mean_squared_error: 3626.4255 - mean_absolute_error: 33.4006 - val_loss: 3923.1494 - val_mean_squared_error: 3923.1494 - val_mean_absolute_error: 34.8146\n",
      "Epoch 565/1000\n",
      "5/5 [==============================] - 0s 9ms/step - loss: 3537.0010 - mean_squared_error: 3537.0010 - mean_absolute_error: 33.2581 - val_loss: 3921.8071 - val_mean_squared_error: 3921.8071 - val_mean_absolute_error: 34.8234\n",
      "Epoch 566/1000\n",
      "5/5 [==============================] - 0s 9ms/step - loss: 3631.8113 - mean_squared_error: 3631.8113 - mean_absolute_error: 33.9017 - val_loss: 3920.3010 - val_mean_squared_error: 3920.3010 - val_mean_absolute_error: 34.8386\n",
      "Epoch 567/1000\n",
      "5/5 [==============================] - 0s 9ms/step - loss: 3765.4060 - mean_squared_error: 3765.4060 - mean_absolute_error: 34.4184 - val_loss: 3918.8977 - val_mean_squared_error: 3918.8977 - val_mean_absolute_error: 34.8555\n",
      "Epoch 568/1000\n",
      "5/5 [==============================] - 0s 9ms/step - loss: 3913.3666 - mean_squared_error: 3913.3666 - mean_absolute_error: 34.4768 - val_loss: 3917.3101 - val_mean_squared_error: 3917.3101 - val_mean_absolute_error: 34.8705\n",
      "Epoch 569/1000\n",
      "5/5 [==============================] - 0s 9ms/step - loss: 3873.1549 - mean_squared_error: 3873.1549 - mean_absolute_error: 34.7304 - val_loss: 3915.8682 - val_mean_squared_error: 3915.8682 - val_mean_absolute_error: 34.8812\n",
      "Epoch 570/1000\n",
      "5/5 [==============================] - 0s 10ms/step - loss: 3810.8344 - mean_squared_error: 3810.8344 - mean_absolute_error: 34.1794 - val_loss: 3914.5413 - val_mean_squared_error: 3914.5413 - val_mean_absolute_error: 34.8885\n",
      "Epoch 571/1000\n",
      "5/5 [==============================] - 0s 9ms/step - loss: 3673.3137 - mean_squared_error: 3673.3137 - mean_absolute_error: 33.9896 - val_loss: 3913.1306 - val_mean_squared_error: 3913.1306 - val_mean_absolute_error: 34.8979\n",
      "Epoch 572/1000\n",
      "5/5 [==============================] - 0s 10ms/step - loss: 3750.3951 - mean_squared_error: 3750.3951 - mean_absolute_error: 34.1594 - val_loss: 3911.8083 - val_mean_squared_error: 3911.8083 - val_mean_absolute_error: 34.9086\n",
      "Epoch 573/1000\n",
      "5/5 [==============================] - 0s 10ms/step - loss: 3531.5564 - mean_squared_error: 3531.5564 - mean_absolute_error: 33.1002 - val_loss: 3910.4932 - val_mean_squared_error: 3910.4932 - val_mean_absolute_error: 34.9105\n",
      "Epoch 574/1000\n",
      "5/5 [==============================] - 0s 10ms/step - loss: 3649.1027 - mean_squared_error: 3649.1027 - mean_absolute_error: 34.1568 - val_loss: 3909.3145 - val_mean_squared_error: 3909.3145 - val_mean_absolute_error: 34.9197\n",
      "Epoch 575/1000\n",
      "5/5 [==============================] - 0s 10ms/step - loss: 3756.8193 - mean_squared_error: 3756.8193 - mean_absolute_error: 34.1697 - val_loss: 3907.8257 - val_mean_squared_error: 3907.8257 - val_mean_absolute_error: 34.9323\n",
      "Epoch 576/1000\n",
      "5/5 [==============================] - 0s 10ms/step - loss: 3743.1471 - mean_squared_error: 3743.1471 - mean_absolute_error: 34.1652 - val_loss: 3906.5476 - val_mean_squared_error: 3906.5476 - val_mean_absolute_error: 34.9454\n",
      "Epoch 577/1000\n",
      "5/5 [==============================] - 0s 10ms/step - loss: 3880.5219 - mean_squared_error: 3880.5219 - mean_absolute_error: 34.4762 - val_loss: 3905.1855 - val_mean_squared_error: 3905.1855 - val_mean_absolute_error: 34.9572\n",
      "Epoch 578/1000\n",
      "5/5 [==============================] - 0s 10ms/step - loss: 3953.8521 - mean_squared_error: 3953.8521 - mean_absolute_error: 35.7284 - val_loss: 3903.9077 - val_mean_squared_error: 3903.9077 - val_mean_absolute_error: 34.9720\n",
      "Epoch 579/1000\n",
      "5/5 [==============================] - 0s 10ms/step - loss: 3609.0213 - mean_squared_error: 3609.0213 - mean_absolute_error: 33.7451 - val_loss: 3902.5972 - val_mean_squared_error: 3902.5972 - val_mean_absolute_error: 34.9801\n",
      "Epoch 580/1000\n",
      "5/5 [==============================] - 0s 9ms/step - loss: 3728.9316 - mean_squared_error: 3728.9316 - mean_absolute_error: 33.9260 - val_loss: 3901.3801 - val_mean_squared_error: 3901.3801 - val_mean_absolute_error: 34.9911\n",
      "Epoch 581/1000\n",
      "5/5 [==============================] - 0s 9ms/step - loss: 3932.0984 - mean_squared_error: 3932.0984 - mean_absolute_error: 34.8321 - val_loss: 3900.1770 - val_mean_squared_error: 3900.1770 - val_mean_absolute_error: 35.0029\n",
      "Epoch 582/1000\n",
      "5/5 [==============================] - 0s 10ms/step - loss: 3681.0856 - mean_squared_error: 3681.0856 - mean_absolute_error: 34.1472 - val_loss: 3898.9128 - val_mean_squared_error: 3898.9128 - val_mean_absolute_error: 35.0114\n",
      "Epoch 583/1000\n",
      "5/5 [==============================] - 0s 10ms/step - loss: 3738.7294 - mean_squared_error: 3738.7294 - mean_absolute_error: 34.8275 - val_loss: 3897.8162 - val_mean_squared_error: 3897.8162 - val_mean_absolute_error: 35.0203\n",
      "Epoch 584/1000\n",
      "5/5 [==============================] - 0s 10ms/step - loss: 3818.4099 - mean_squared_error: 3818.4099 - mean_absolute_error: 34.7142 - val_loss: 3896.5571 - val_mean_squared_error: 3896.5571 - val_mean_absolute_error: 35.0286\n",
      "Epoch 585/1000\n",
      "5/5 [==============================] - 0s 11ms/step - loss: 3639.6577 - mean_squared_error: 3639.6577 - mean_absolute_error: 34.3305 - val_loss: 3895.3025 - val_mean_squared_error: 3895.3025 - val_mean_absolute_error: 35.0411\n",
      "Epoch 586/1000\n",
      "5/5 [==============================] - 0s 10ms/step - loss: 3717.7286 - mean_squared_error: 3717.7286 - mean_absolute_error: 34.3909 - val_loss: 3894.1538 - val_mean_squared_error: 3894.1538 - val_mean_absolute_error: 35.0539\n",
      "Epoch 587/1000\n",
      "5/5 [==============================] - 0s 10ms/step - loss: 3843.9320 - mean_squared_error: 3843.9320 - mean_absolute_error: 34.8835 - val_loss: 3893.1108 - val_mean_squared_error: 3893.1108 - val_mean_absolute_error: 35.0668\n",
      "Epoch 588/1000\n",
      "5/5 [==============================] - 0s 10ms/step - loss: 3583.6890 - mean_squared_error: 3583.6890 - mean_absolute_error: 33.5730 - val_loss: 3891.9841 - val_mean_squared_error: 3891.9841 - val_mean_absolute_error: 35.0747\n",
      "Epoch 589/1000\n",
      "5/5 [==============================] - 0s 9ms/step - loss: 3902.2670 - mean_squared_error: 3902.2670 - mean_absolute_error: 35.1005 - val_loss: 3890.8528 - val_mean_squared_error: 3890.8528 - val_mean_absolute_error: 35.0854\n",
      "Epoch 590/1000\n",
      "5/5 [==============================] - 0s 9ms/step - loss: 3800.3115 - mean_squared_error: 3800.3115 - mean_absolute_error: 34.7104 - val_loss: 3889.6792 - val_mean_squared_error: 3889.6792 - val_mean_absolute_error: 35.0938\n",
      "Epoch 591/1000\n",
      "5/5 [==============================] - 0s 10ms/step - loss: 3759.0359 - mean_squared_error: 3759.0359 - mean_absolute_error: 34.4353 - val_loss: 3888.5095 - val_mean_squared_error: 3888.5095 - val_mean_absolute_error: 35.1013\n",
      "Epoch 592/1000\n",
      "5/5 [==============================] - 0s 12ms/step - loss: 3740.6437 - mean_squared_error: 3740.6437 - mean_absolute_error: 34.4715 - val_loss: 3887.5171 - val_mean_squared_error: 3887.5171 - val_mean_absolute_error: 35.1097\n",
      "Epoch 593/1000\n",
      "5/5 [==============================] - 0s 10ms/step - loss: 3712.1999 - mean_squared_error: 3712.1999 - mean_absolute_error: 34.1285 - val_loss: 3886.5430 - val_mean_squared_error: 3886.5430 - val_mean_absolute_error: 35.1189\n",
      "Epoch 594/1000\n",
      "5/5 [==============================] - 0s 10ms/step - loss: 3841.1635 - mean_squared_error: 3841.1638 - mean_absolute_error: 34.6847 - val_loss: 3885.5691 - val_mean_squared_error: 3885.5691 - val_mean_absolute_error: 35.1298\n",
      "Epoch 595/1000\n",
      "5/5 [==============================] - 0s 10ms/step - loss: 3651.8186 - mean_squared_error: 3651.8186 - mean_absolute_error: 33.9937 - val_loss: 3884.5078 - val_mean_squared_error: 3884.5073 - val_mean_absolute_error: 35.1419\n",
      "Epoch 596/1000\n",
      "5/5 [==============================] - 0s 10ms/step - loss: 3606.6153 - mean_squared_error: 3606.6153 - mean_absolute_error: 34.0464 - val_loss: 3883.4666 - val_mean_squared_error: 3883.4666 - val_mean_absolute_error: 35.1536\n",
      "Epoch 597/1000\n",
      "5/5 [==============================] - 0s 10ms/step - loss: 3683.3429 - mean_squared_error: 3683.3429 - mean_absolute_error: 34.0806 - val_loss: 3882.4631 - val_mean_squared_error: 3882.4631 - val_mean_absolute_error: 35.1590\n",
      "Epoch 598/1000\n",
      "5/5 [==============================] - 0s 9ms/step - loss: 3801.3816 - mean_squared_error: 3801.3816 - mean_absolute_error: 35.1654 - val_loss: 3881.3772 - val_mean_squared_error: 3881.3772 - val_mean_absolute_error: 35.1667\n",
      "Epoch 599/1000\n",
      "5/5 [==============================] - 0s 10ms/step - loss: 3757.7568 - mean_squared_error: 3757.7568 - mean_absolute_error: 34.6658 - val_loss: 3880.4575 - val_mean_squared_error: 3880.4575 - val_mean_absolute_error: 35.1746\n",
      "Epoch 600/1000\n",
      "5/5 [==============================] - 0s 9ms/step - loss: 3721.4938 - mean_squared_error: 3721.4938 - mean_absolute_error: 34.5336 - val_loss: 3879.5452 - val_mean_squared_error: 3879.5452 - val_mean_absolute_error: 35.1826\n",
      "Epoch 601/1000\n",
      "5/5 [==============================] - 0s 9ms/step - loss: 3630.9646 - mean_squared_error: 3630.9646 - mean_absolute_error: 34.2181 - val_loss: 3878.6804 - val_mean_squared_error: 3878.6804 - val_mean_absolute_error: 35.1865\n",
      "Epoch 602/1000\n",
      "5/5 [==============================] - 0s 10ms/step - loss: 3689.1666 - mean_squared_error: 3689.1666 - mean_absolute_error: 34.6710 - val_loss: 3877.7822 - val_mean_squared_error: 3877.7822 - val_mean_absolute_error: 35.1948\n",
      "Epoch 603/1000\n",
      "5/5 [==============================] - 0s 10ms/step - loss: 3499.7356 - mean_squared_error: 3499.7356 - mean_absolute_error: 33.6607 - val_loss: 3876.6138 - val_mean_squared_error: 3876.6138 - val_mean_absolute_error: 35.2071\n",
      "Epoch 604/1000\n",
      "5/5 [==============================] - 0s 10ms/step - loss: 3754.3989 - mean_squared_error: 3754.3989 - mean_absolute_error: 34.6607 - val_loss: 3875.7393 - val_mean_squared_error: 3875.7393 - val_mean_absolute_error: 35.2136\n",
      "Epoch 605/1000\n",
      "5/5 [==============================] - 0s 10ms/step - loss: 3690.0613 - mean_squared_error: 3690.0613 - mean_absolute_error: 34.3800 - val_loss: 3874.8450 - val_mean_squared_error: 3874.8450 - val_mean_absolute_error: 35.2239\n",
      "Epoch 606/1000\n",
      "5/5 [==============================] - 0s 10ms/step - loss: 3696.1429 - mean_squared_error: 3696.1429 - mean_absolute_error: 34.5318 - val_loss: 3873.8794 - val_mean_squared_error: 3873.8794 - val_mean_absolute_error: 35.2335\n",
      "Epoch 607/1000\n",
      "5/5 [==============================] - 0s 10ms/step - loss: 3844.1539 - mean_squared_error: 3844.1539 - mean_absolute_error: 35.1019 - val_loss: 3872.9553 - val_mean_squared_error: 3872.9553 - val_mean_absolute_error: 35.2385\n",
      "Epoch 608/1000\n",
      "5/5 [==============================] - 0s 9ms/step - loss: 3706.5504 - mean_squared_error: 3706.5504 - mean_absolute_error: 34.4377 - val_loss: 3872.1504 - val_mean_squared_error: 3872.1504 - val_mean_absolute_error: 35.2390\n",
      "Epoch 609/1000\n",
      "5/5 [==============================] - 0s 9ms/step - loss: 3896.4402 - mean_squared_error: 3896.4402 - mean_absolute_error: 34.9339 - val_loss: 3871.3145 - val_mean_squared_error: 3871.3145 - val_mean_absolute_error: 35.2441\n",
      "Epoch 610/1000\n",
      "5/5 [==============================] - 0s 10ms/step - loss: 3775.5494 - mean_squared_error: 3775.5494 - mean_absolute_error: 34.8035 - val_loss: 3870.3750 - val_mean_squared_error: 3870.3750 - val_mean_absolute_error: 35.2532\n",
      "Epoch 611/1000\n",
      "5/5 [==============================] - 0s 10ms/step - loss: 3712.5966 - mean_squared_error: 3712.5966 - mean_absolute_error: 34.7281 - val_loss: 3869.5417 - val_mean_squared_error: 3869.5417 - val_mean_absolute_error: 35.2590\n",
      "Epoch 612/1000\n",
      "5/5 [==============================] - 0s 10ms/step - loss: 3766.8201 - mean_squared_error: 3766.8201 - mean_absolute_error: 34.7834 - val_loss: 3868.6375 - val_mean_squared_error: 3868.6375 - val_mean_absolute_error: 35.2663\n",
      "Epoch 613/1000\n"
     ]
    },
    {
     "name": "stdout",
     "output_type": "stream",
     "text": [
      "5/5 [==============================] - 0s 10ms/step - loss: 3665.0760 - mean_squared_error: 3665.0760 - mean_absolute_error: 34.5412 - val_loss: 3867.8225 - val_mean_squared_error: 3867.8230 - val_mean_absolute_error: 35.2746\n",
      "Epoch 614/1000\n",
      "5/5 [==============================] - 0s 10ms/step - loss: 3715.3336 - mean_squared_error: 3715.3336 - mean_absolute_error: 34.5082 - val_loss: 3866.9846 - val_mean_squared_error: 3866.9846 - val_mean_absolute_error: 35.2869\n",
      "Epoch 615/1000\n",
      "5/5 [==============================] - 0s 10ms/step - loss: 3864.4704 - mean_squared_error: 3864.4704 - mean_absolute_error: 35.1423 - val_loss: 3866.1580 - val_mean_squared_error: 3866.1580 - val_mean_absolute_error: 35.2998\n",
      "Epoch 616/1000\n",
      "5/5 [==============================] - 0s 10ms/step - loss: 3535.9089 - mean_squared_error: 3535.9089 - mean_absolute_error: 33.9195 - val_loss: 3865.4016 - val_mean_squared_error: 3865.4016 - val_mean_absolute_error: 35.3017\n",
      "Epoch 617/1000\n",
      "5/5 [==============================] - 0s 10ms/step - loss: 3872.2295 - mean_squared_error: 3872.2295 - mean_absolute_error: 35.1165 - val_loss: 3864.6204 - val_mean_squared_error: 3864.6199 - val_mean_absolute_error: 35.3084\n",
      "Epoch 618/1000\n",
      "5/5 [==============================] - 0s 10ms/step - loss: 3934.4911 - mean_squared_error: 3934.4911 - mean_absolute_error: 35.3565 - val_loss: 3863.8152 - val_mean_squared_error: 3863.8152 - val_mean_absolute_error: 35.3201\n",
      "Epoch 619/1000\n",
      "5/5 [==============================] - 0s 11ms/step - loss: 3708.7003 - mean_squared_error: 3708.7003 - mean_absolute_error: 34.5307 - val_loss: 3863.0349 - val_mean_squared_error: 3863.0349 - val_mean_absolute_error: 35.3288\n",
      "Epoch 620/1000\n",
      "5/5 [==============================] - 0s 10ms/step - loss: 3581.4283 - mean_squared_error: 3581.4283 - mean_absolute_error: 34.2601 - val_loss: 3862.2986 - val_mean_squared_error: 3862.2986 - val_mean_absolute_error: 35.3327\n",
      "Epoch 621/1000\n",
      "5/5 [==============================] - 0s 9ms/step - loss: 3634.1158 - mean_squared_error: 3634.1158 - mean_absolute_error: 34.7780 - val_loss: 3861.5571 - val_mean_squared_error: 3861.5571 - val_mean_absolute_error: 35.3385\n",
      "Epoch 622/1000\n",
      "5/5 [==============================] - 0s 9ms/step - loss: 3556.5932 - mean_squared_error: 3556.5932 - mean_absolute_error: 34.1756 - val_loss: 3860.8132 - val_mean_squared_error: 3860.8132 - val_mean_absolute_error: 35.3437\n",
      "Epoch 623/1000\n",
      "5/5 [==============================] - 0s 10ms/step - loss: 3718.1359 - mean_squared_error: 3718.1359 - mean_absolute_error: 34.9429 - val_loss: 3859.9739 - val_mean_squared_error: 3859.9739 - val_mean_absolute_error: 35.3559\n",
      "Epoch 624/1000\n",
      "5/5 [==============================] - 0s 10ms/step - loss: 3898.2368 - mean_squared_error: 3898.2368 - mean_absolute_error: 35.4087 - val_loss: 3859.2053 - val_mean_squared_error: 3859.2053 - val_mean_absolute_error: 35.3670\n",
      "Epoch 625/1000\n",
      "5/5 [==============================] - 0s 10ms/step - loss: 3589.7592 - mean_squared_error: 3589.7592 - mean_absolute_error: 34.5175 - val_loss: 3858.5146 - val_mean_squared_error: 3858.5146 - val_mean_absolute_error: 35.3676\n",
      "Epoch 626/1000\n",
      "5/5 [==============================] - 0s 10ms/step - loss: 3667.1669 - mean_squared_error: 3667.1669 - mean_absolute_error: 34.7734 - val_loss: 3857.7629 - val_mean_squared_error: 3857.7629 - val_mean_absolute_error: 35.3775\n",
      "Epoch 627/1000\n",
      "5/5 [==============================] - 0s 10ms/step - loss: 3710.9597 - mean_squared_error: 3710.9597 - mean_absolute_error: 34.9070 - val_loss: 3857.0576 - val_mean_squared_error: 3857.0576 - val_mean_absolute_error: 35.3831\n",
      "Epoch 628/1000\n",
      "5/5 [==============================] - 0s 10ms/step - loss: 3681.7853 - mean_squared_error: 3681.7855 - mean_absolute_error: 34.3950 - val_loss: 3856.3411 - val_mean_squared_error: 3856.3411 - val_mean_absolute_error: 35.3881\n",
      "Epoch 629/1000\n",
      "5/5 [==============================] - 0s 10ms/step - loss: 3756.3085 - mean_squared_error: 3756.3085 - mean_absolute_error: 35.0570 - val_loss: 3855.6177 - val_mean_squared_error: 3855.6177 - val_mean_absolute_error: 35.3949\n",
      "Epoch 630/1000\n",
      "5/5 [==============================] - 0s 10ms/step - loss: 3655.4901 - mean_squared_error: 3655.4901 - mean_absolute_error: 34.5468 - val_loss: 3854.9333 - val_mean_squared_error: 3854.9333 - val_mean_absolute_error: 35.3979\n",
      "Epoch 631/1000\n",
      "5/5 [==============================] - 0s 10ms/step - loss: 3754.1197 - mean_squared_error: 3754.1197 - mean_absolute_error: 34.8670 - val_loss: 3854.2268 - val_mean_squared_error: 3854.2268 - val_mean_absolute_error: 35.4063\n",
      "Epoch 632/1000\n",
      "5/5 [==============================] - 0s 9ms/step - loss: 3522.9942 - mean_squared_error: 3522.9940 - mean_absolute_error: 34.2555 - val_loss: 3853.5476 - val_mean_squared_error: 3853.5476 - val_mean_absolute_error: 35.4110\n",
      "Epoch 633/1000\n",
      "5/5 [==============================] - 0s 12ms/step - loss: 3647.2109 - mean_squared_error: 3647.2109 - mean_absolute_error: 34.6164 - val_loss: 3852.8367 - val_mean_squared_error: 3852.8367 - val_mean_absolute_error: 35.4208\n",
      "Epoch 634/1000\n",
      "5/5 [==============================] - 0s 10ms/step - loss: 3766.7924 - mean_squared_error: 3766.7924 - mean_absolute_error: 34.7182 - val_loss: 3852.1675 - val_mean_squared_error: 3852.1675 - val_mean_absolute_error: 35.4250\n",
      "Epoch 635/1000\n",
      "5/5 [==============================] - 0s 11ms/step - loss: 3609.4807 - mean_squared_error: 3609.4807 - mean_absolute_error: 34.4018 - val_loss: 3851.5872 - val_mean_squared_error: 3851.5872 - val_mean_absolute_error: 35.4261\n",
      "Epoch 636/1000\n",
      "5/5 [==============================] - 0s 9ms/step - loss: 3614.3713 - mean_squared_error: 3614.3713 - mean_absolute_error: 34.7876 - val_loss: 3851.0129 - val_mean_squared_error: 3851.0129 - val_mean_absolute_error: 35.4284\n",
      "Epoch 637/1000\n",
      "5/5 [==============================] - 0s 10ms/step - loss: 3781.6569 - mean_squared_error: 3781.6569 - mean_absolute_error: 34.6581 - val_loss: 3850.3604 - val_mean_squared_error: 3850.3604 - val_mean_absolute_error: 35.4322\n",
      "Epoch 638/1000\n",
      "5/5 [==============================] - 0s 10ms/step - loss: 3685.5586 - mean_squared_error: 3685.5586 - mean_absolute_error: 34.6599 - val_loss: 3849.7705 - val_mean_squared_error: 3849.7705 - val_mean_absolute_error: 35.4288\n",
      "Epoch 639/1000\n",
      "5/5 [==============================] - 0s 10ms/step - loss: 3629.4920 - mean_squared_error: 3629.4920 - mean_absolute_error: 34.4708 - val_loss: 3849.1272 - val_mean_squared_error: 3849.1272 - val_mean_absolute_error: 35.4330\n",
      "Epoch 640/1000\n",
      "5/5 [==============================] - 0s 10ms/step - loss: 3521.1633 - mean_squared_error: 3521.1633 - mean_absolute_error: 34.0470 - val_loss: 3848.5459 - val_mean_squared_error: 3848.5459 - val_mean_absolute_error: 35.4390\n",
      "Epoch 641/1000\n",
      "5/5 [==============================] - 0s 10ms/step - loss: 3731.6737 - mean_squared_error: 3731.6737 - mean_absolute_error: 34.5140 - val_loss: 3847.9597 - val_mean_squared_error: 3847.9597 - val_mean_absolute_error: 35.4444\n",
      "Epoch 642/1000\n",
      "5/5 [==============================] - 0s 9ms/step - loss: 3641.2196 - mean_squared_error: 3641.2196 - mean_absolute_error: 34.6268 - val_loss: 3847.2563 - val_mean_squared_error: 3847.2563 - val_mean_absolute_error: 35.4512\n",
      "Epoch 643/1000\n",
      "5/5 [==============================] - 0s 10ms/step - loss: 3718.0512 - mean_squared_error: 3718.0512 - mean_absolute_error: 34.8563 - val_loss: 3846.8347 - val_mean_squared_error: 3846.8347 - val_mean_absolute_error: 35.4528\n",
      "Epoch 644/1000\n",
      "5/5 [==============================] - 0s 9ms/step - loss: 3880.2859 - mean_squared_error: 3880.2859 - mean_absolute_error: 35.3778 - val_loss: 3846.0457 - val_mean_squared_error: 3846.0457 - val_mean_absolute_error: 35.4639\n",
      "Epoch 645/1000\n",
      "5/5 [==============================] - 0s 9ms/step - loss: 3935.9937 - mean_squared_error: 3935.9937 - mean_absolute_error: 35.3329 - val_loss: 3845.6787 - val_mean_squared_error: 3845.6787 - val_mean_absolute_error: 35.4672\n",
      "Epoch 646/1000\n",
      "5/5 [==============================] - 0s 9ms/step - loss: 3613.8785 - mean_squared_error: 3613.8785 - mean_absolute_error: 34.4878 - val_loss: 3845.0366 - val_mean_squared_error: 3845.0366 - val_mean_absolute_error: 35.4683\n",
      "Epoch 647/1000\n",
      "5/5 [==============================] - 0s 10ms/step - loss: 3540.0386 - mean_squared_error: 3540.0386 - mean_absolute_error: 33.9323 - val_loss: 3844.5164 - val_mean_squared_error: 3844.5164 - val_mean_absolute_error: 35.4702\n",
      "Epoch 648/1000\n",
      "5/5 [==============================] - 0s 10ms/step - loss: 3810.6648 - mean_squared_error: 3810.6648 - mean_absolute_error: 35.5645 - val_loss: 3843.9883 - val_mean_squared_error: 3843.9883 - val_mean_absolute_error: 35.4736\n",
      "Epoch 649/1000\n",
      "5/5 [==============================] - 0s 10ms/step - loss: 3735.3133 - mean_squared_error: 3735.3133 - mean_absolute_error: 34.3996 - val_loss: 3843.3523 - val_mean_squared_error: 3843.3523 - val_mean_absolute_error: 35.4758\n",
      "Epoch 650/1000\n",
      "5/5 [==============================] - 0s 9ms/step - loss: 3679.8708 - mean_squared_error: 3679.8708 - mean_absolute_error: 34.9383 - val_loss: 3842.8987 - val_mean_squared_error: 3842.8987 - val_mean_absolute_error: 35.4772\n",
      "Epoch 651/1000\n",
      "5/5 [==============================] - 0s 10ms/step - loss: 3821.4318 - mean_squared_error: 3821.4318 - mean_absolute_error: 35.2215 - val_loss: 3842.2917 - val_mean_squared_error: 3842.2917 - val_mean_absolute_error: 35.4827\n",
      "Epoch 652/1000\n",
      "5/5 [==============================] - 0s 10ms/step - loss: 3630.5539 - mean_squared_error: 3630.5539 - mean_absolute_error: 34.3371 - val_loss: 3841.8364 - val_mean_squared_error: 3841.8364 - val_mean_absolute_error: 35.4854\n",
      "Epoch 653/1000\n",
      "5/5 [==============================] - 0s 10ms/step - loss: 3721.2154 - mean_squared_error: 3721.2154 - mean_absolute_error: 35.1708 - val_loss: 3841.2131 - val_mean_squared_error: 3841.2131 - val_mean_absolute_error: 35.4882\n",
      "Epoch 654/1000\n",
      "5/5 [==============================] - 0s 11ms/step - loss: 3692.3446 - mean_squared_error: 3692.3446 - mean_absolute_error: 34.6750 - val_loss: 3840.7546 - val_mean_squared_error: 3840.7546 - val_mean_absolute_error: 35.4915\n",
      "Epoch 655/1000\n",
      "5/5 [==============================] - 0s 10ms/step - loss: 3593.6389 - mean_squared_error: 3593.6389 - mean_absolute_error: 34.2466 - val_loss: 3840.1116 - val_mean_squared_error: 3840.1116 - val_mean_absolute_error: 35.4969\n",
      "Epoch 656/1000\n",
      "5/5 [==============================] - 0s 10ms/step - loss: 3819.9275 - mean_squared_error: 3819.9275 - mean_absolute_error: 35.0900 - val_loss: 3839.5867 - val_mean_squared_error: 3839.5867 - val_mean_absolute_error: 35.5022\n",
      "Epoch 657/1000\n",
      "5/5 [==============================] - 0s 9ms/step - loss: 3711.5339 - mean_squared_error: 3711.5339 - mean_absolute_error: 34.7592 - val_loss: 3839.1436 - val_mean_squared_error: 3839.1436 - val_mean_absolute_error: 35.5047\n",
      "Epoch 658/1000\n",
      "5/5 [==============================] - 0s 9ms/step - loss: 3535.1084 - mean_squared_error: 3535.1084 - mean_absolute_error: 34.2017 - val_loss: 3838.6611 - val_mean_squared_error: 3838.6616 - val_mean_absolute_error: 35.5051\n",
      "Epoch 659/1000\n",
      "5/5 [==============================] - 0s 10ms/step - loss: 3762.0406 - mean_squared_error: 3762.0406 - mean_absolute_error: 34.8804 - val_loss: 3838.2080 - val_mean_squared_error: 3838.2080 - val_mean_absolute_error: 35.5091\n",
      "Epoch 660/1000\n",
      "5/5 [==============================] - 0s 9ms/step - loss: 3685.3823 - mean_squared_error: 3685.3823 - mean_absolute_error: 34.7294 - val_loss: 3837.5898 - val_mean_squared_error: 3837.5898 - val_mean_absolute_error: 35.5127\n",
      "Epoch 661/1000\n",
      "5/5 [==============================] - 0s 10ms/step - loss: 3563.1584 - mean_squared_error: 3563.1584 - mean_absolute_error: 34.4178 - val_loss: 3837.1228 - val_mean_squared_error: 3837.1228 - val_mean_absolute_error: 35.5119\n",
      "Epoch 662/1000\n",
      "5/5 [==============================] - 0s 10ms/step - loss: 3574.6975 - mean_squared_error: 3574.6975 - mean_absolute_error: 34.1924 - val_loss: 3836.6348 - val_mean_squared_error: 3836.6348 - val_mean_absolute_error: 35.5139\n",
      "Epoch 663/1000\n",
      "5/5 [==============================] - 0s 10ms/step - loss: 3553.8976 - mean_squared_error: 3553.8975 - mean_absolute_error: 34.1798 - val_loss: 3836.1577 - val_mean_squared_error: 3836.1577 - val_mean_absolute_error: 35.5157\n",
      "Epoch 664/1000\n",
      "5/5 [==============================] - 0s 9ms/step - loss: 3656.2118 - mean_squared_error: 3656.2118 - mean_absolute_error: 34.7675 - val_loss: 3835.7449 - val_mean_squared_error: 3835.7454 - val_mean_absolute_error: 35.5158\n",
      "Epoch 665/1000\n",
      "5/5 [==============================] - 0s 10ms/step - loss: 3714.7596 - mean_squared_error: 3714.7596 - mean_absolute_error: 34.9553 - val_loss: 3835.2256 - val_mean_squared_error: 3835.2256 - val_mean_absolute_error: 35.5152\n",
      "Epoch 666/1000\n",
      "5/5 [==============================] - 0s 11ms/step - loss: 3650.5789 - mean_squared_error: 3650.5789 - mean_absolute_error: 34.5881 - val_loss: 3834.7551 - val_mean_squared_error: 3834.7551 - val_mean_absolute_error: 35.5160\n",
      "Epoch 667/1000\n",
      "5/5 [==============================] - 0s 10ms/step - loss: 3731.8335 - mean_squared_error: 3731.8335 - mean_absolute_error: 34.7442 - val_loss: 3834.2688 - val_mean_squared_error: 3834.2688 - val_mean_absolute_error: 35.5192\n",
      "Epoch 668/1000\n",
      "5/5 [==============================] - 0s 10ms/step - loss: 3676.6554 - mean_squared_error: 3676.6554 - mean_absolute_error: 35.0187 - val_loss: 3833.7856 - val_mean_squared_error: 3833.7852 - val_mean_absolute_error: 35.5235\n",
      "Epoch 669/1000\n",
      "5/5 [==============================] - 0s 9ms/step - loss: 3620.1741 - mean_squared_error: 3620.1741 - mean_absolute_error: 34.6394 - val_loss: 3833.1799 - val_mean_squared_error: 3833.1799 - val_mean_absolute_error: 35.5317\n",
      "Epoch 670/1000\n",
      "5/5 [==============================] - 0s 9ms/step - loss: 3610.6217 - mean_squared_error: 3610.6217 - mean_absolute_error: 34.4056 - val_loss: 3832.8230 - val_mean_squared_error: 3832.8230 - val_mean_absolute_error: 35.5345\n",
      "Epoch 671/1000\n",
      "5/5 [==============================] - 0s 9ms/step - loss: 3747.1313 - mean_squared_error: 3747.1313 - mean_absolute_error: 35.2654 - val_loss: 3832.2544 - val_mean_squared_error: 3832.2546 - val_mean_absolute_error: 35.5371\n",
      "Epoch 672/1000\n",
      "5/5 [==============================] - 0s 10ms/step - loss: 3569.6560 - mean_squared_error: 3569.6560 - mean_absolute_error: 34.6609 - val_loss: 3831.9180 - val_mean_squared_error: 3831.9180 - val_mean_absolute_error: 35.5358\n",
      "Epoch 673/1000\n",
      "5/5 [==============================] - 0s 9ms/step - loss: 3577.8224 - mean_squared_error: 3577.8224 - mean_absolute_error: 34.3341 - val_loss: 3831.4756 - val_mean_squared_error: 3831.4756 - val_mean_absolute_error: 35.5362\n",
      "Epoch 674/1000\n",
      "5/5 [==============================] - 0s 9ms/step - loss: 3871.7780 - mean_squared_error: 3871.7780 - mean_absolute_error: 35.5067 - val_loss: 3830.9146 - val_mean_squared_error: 3830.9146 - val_mean_absolute_error: 35.5394\n",
      "Epoch 675/1000\n",
      "5/5 [==============================] - 0s 9ms/step - loss: 3621.5132 - mean_squared_error: 3621.5132 - mean_absolute_error: 34.5152 - val_loss: 3830.5222 - val_mean_squared_error: 3830.5222 - val_mean_absolute_error: 35.5414\n",
      "Epoch 676/1000\n",
      "5/5 [==============================] - 0s 9ms/step - loss: 3761.8477 - mean_squared_error: 3761.8477 - mean_absolute_error: 35.2096 - val_loss: 3830.0691 - val_mean_squared_error: 3830.0691 - val_mean_absolute_error: 35.5427\n",
      "Epoch 677/1000\n",
      "5/5 [==============================] - 0s 10ms/step - loss: 3776.4139 - mean_squared_error: 3776.4138 - mean_absolute_error: 35.2952 - val_loss: 3829.7224 - val_mean_squared_error: 3829.7224 - val_mean_absolute_error: 35.5441\n",
      "Epoch 678/1000\n",
      "5/5 [==============================] - 0s 9ms/step - loss: 3527.6493 - mean_squared_error: 3527.6493 - mean_absolute_error: 34.6659 - val_loss: 3829.3313 - val_mean_squared_error: 3829.3308 - val_mean_absolute_error: 35.5401\n",
      "Epoch 679/1000\n",
      "5/5 [==============================] - 0s 10ms/step - loss: 3660.3150 - mean_squared_error: 3660.3150 - mean_absolute_error: 34.8124 - val_loss: 3828.8389 - val_mean_squared_error: 3828.8389 - val_mean_absolute_error: 35.5436\n",
      "Epoch 680/1000\n",
      "5/5 [==============================] - 0s 10ms/step - loss: 3705.9709 - mean_squared_error: 3705.9709 - mean_absolute_error: 34.8317 - val_loss: 3828.3801 - val_mean_squared_error: 3828.3801 - val_mean_absolute_error: 35.5500\n",
      "Epoch 681/1000\n"
     ]
    },
    {
     "name": "stdout",
     "output_type": "stream",
     "text": [
      "5/5 [==============================] - 0s 9ms/step - loss: 3695.6127 - mean_squared_error: 3695.6127 - mean_absolute_error: 34.8934 - val_loss: 3827.8994 - val_mean_squared_error: 3827.8994 - val_mean_absolute_error: 35.5523\n",
      "Epoch 682/1000\n",
      "5/5 [==============================] - 0s 9ms/step - loss: 3620.8398 - mean_squared_error: 3620.8398 - mean_absolute_error: 34.4081 - val_loss: 3827.6204 - val_mean_squared_error: 3827.6204 - val_mean_absolute_error: 35.5518\n",
      "Epoch 683/1000\n",
      "5/5 [==============================] - 0s 10ms/step - loss: 3619.2524 - mean_squared_error: 3619.2524 - mean_absolute_error: 34.6083 - val_loss: 3827.2551 - val_mean_squared_error: 3827.2551 - val_mean_absolute_error: 35.5527\n",
      "Epoch 684/1000\n",
      "5/5 [==============================] - 0s 10ms/step - loss: 3826.7928 - mean_squared_error: 3826.7928 - mean_absolute_error: 35.3122 - val_loss: 3826.7234 - val_mean_squared_error: 3826.7234 - val_mean_absolute_error: 35.5569\n",
      "Epoch 685/1000\n",
      "5/5 [==============================] - 0s 9ms/step - loss: 3671.5315 - mean_squared_error: 3671.5315 - mean_absolute_error: 34.6930 - val_loss: 3826.3574 - val_mean_squared_error: 3826.3574 - val_mean_absolute_error: 35.5575\n",
      "Epoch 686/1000\n",
      "5/5 [==============================] - 0s 9ms/step - loss: 3560.5769 - mean_squared_error: 3560.5769 - mean_absolute_error: 34.3213 - val_loss: 3825.9741 - val_mean_squared_error: 3825.9741 - val_mean_absolute_error: 35.5519\n",
      "Epoch 687/1000\n",
      "5/5 [==============================] - 0s 10ms/step - loss: 3604.0378 - mean_squared_error: 3604.0378 - mean_absolute_error: 34.6738 - val_loss: 3825.6199 - val_mean_squared_error: 3825.6199 - val_mean_absolute_error: 35.5519\n",
      "Epoch 688/1000\n",
      "5/5 [==============================] - 0s 10ms/step - loss: 3438.7442 - mean_squared_error: 3438.7442 - mean_absolute_error: 33.7313 - val_loss: 3825.3259 - val_mean_squared_error: 3825.3259 - val_mean_absolute_error: 35.5477\n",
      "Epoch 689/1000\n",
      "5/5 [==============================] - 0s 9ms/step - loss: 3725.6522 - mean_squared_error: 3725.6522 - mean_absolute_error: 34.9720 - val_loss: 3824.7866 - val_mean_squared_error: 3824.7866 - val_mean_absolute_error: 35.5552\n",
      "Epoch 690/1000\n",
      "5/5 [==============================] - 0s 10ms/step - loss: 3482.7670 - mean_squared_error: 3482.7670 - mean_absolute_error: 33.9318 - val_loss: 3824.4133 - val_mean_squared_error: 3824.4133 - val_mean_absolute_error: 35.5586\n",
      "Epoch 691/1000\n",
      "5/5 [==============================] - 0s 9ms/step - loss: 3650.4019 - mean_squared_error: 3650.4019 - mean_absolute_error: 34.6097 - val_loss: 3824.0034 - val_mean_squared_error: 3824.0039 - val_mean_absolute_error: 35.5618\n",
      "Epoch 692/1000\n",
      "5/5 [==============================] - 0s 10ms/step - loss: 3717.2684 - mean_squared_error: 3717.2684 - mean_absolute_error: 34.9903 - val_loss: 3823.5928 - val_mean_squared_error: 3823.5928 - val_mean_absolute_error: 35.5641\n",
      "Epoch 693/1000\n",
      "5/5 [==============================] - 0s 11ms/step - loss: 3658.7347 - mean_squared_error: 3658.7347 - mean_absolute_error: 34.8527 - val_loss: 3823.2307 - val_mean_squared_error: 3823.2307 - val_mean_absolute_error: 35.5676\n",
      "Epoch 694/1000\n",
      "5/5 [==============================] - 0s 9ms/step - loss: 3616.6564 - mean_squared_error: 3616.6564 - mean_absolute_error: 34.3048 - val_loss: 3822.7817 - val_mean_squared_error: 3822.7817 - val_mean_absolute_error: 35.5680\n",
      "Epoch 695/1000\n",
      "5/5 [==============================] - 0s 10ms/step - loss: 3663.1926 - mean_squared_error: 3663.1926 - mean_absolute_error: 35.1874 - val_loss: 3822.4778 - val_mean_squared_error: 3822.4778 - val_mean_absolute_error: 35.5692\n",
      "Epoch 696/1000\n",
      "5/5 [==============================] - 0s 11ms/step - loss: 3572.0384 - mean_squared_error: 3572.0384 - mean_absolute_error: 34.3902 - val_loss: 3822.1770 - val_mean_squared_error: 3822.1770 - val_mean_absolute_error: 35.5685\n",
      "Epoch 697/1000\n",
      "5/5 [==============================] - 0s 9ms/step - loss: 3667.7578 - mean_squared_error: 3667.7578 - mean_absolute_error: 34.9032 - val_loss: 3821.6907 - val_mean_squared_error: 3821.6907 - val_mean_absolute_error: 35.5701\n",
      "Epoch 698/1000\n",
      "5/5 [==============================] - 0s 10ms/step - loss: 3550.6185 - mean_squared_error: 3550.6185 - mean_absolute_error: 34.2501 - val_loss: 3821.3008 - val_mean_squared_error: 3821.3008 - val_mean_absolute_error: 35.5704\n",
      "Epoch 699/1000\n",
      "5/5 [==============================] - 0s 9ms/step - loss: 3534.2791 - mean_squared_error: 3534.2791 - mean_absolute_error: 34.1918 - val_loss: 3820.9543 - val_mean_squared_error: 3820.9541 - val_mean_absolute_error: 35.5696\n",
      "Epoch 700/1000\n",
      "5/5 [==============================] - 0s 9ms/step - loss: 3815.4063 - mean_squared_error: 3815.4063 - mean_absolute_error: 35.2581 - val_loss: 3820.6555 - val_mean_squared_error: 3820.6555 - val_mean_absolute_error: 35.5697\n",
      "Epoch 701/1000\n",
      "5/5 [==============================] - 0s 9ms/step - loss: 3666.8452 - mean_squared_error: 3666.8452 - mean_absolute_error: 34.7873 - val_loss: 3820.2795 - val_mean_squared_error: 3820.2795 - val_mean_absolute_error: 35.5692\n",
      "Epoch 702/1000\n",
      "5/5 [==============================] - 0s 9ms/step - loss: 3533.6115 - mean_squared_error: 3533.6115 - mean_absolute_error: 34.6467 - val_loss: 3819.9136 - val_mean_squared_error: 3819.9136 - val_mean_absolute_error: 35.5672\n",
      "Epoch 703/1000\n",
      "5/5 [==============================] - 0s 9ms/step - loss: 3414.2775 - mean_squared_error: 3414.2775 - mean_absolute_error: 33.9941 - val_loss: 3819.6318 - val_mean_squared_error: 3819.6318 - val_mean_absolute_error: 35.5651\n",
      "Epoch 704/1000\n",
      "5/5 [==============================] - 0s 10ms/step - loss: 3791.2891 - mean_squared_error: 3791.2891 - mean_absolute_error: 35.2527 - val_loss: 3819.2366 - val_mean_squared_error: 3819.2366 - val_mean_absolute_error: 35.5688\n",
      "Epoch 705/1000\n",
      "5/5 [==============================] - 0s 9ms/step - loss: 3832.1613 - mean_squared_error: 3832.1613 - mean_absolute_error: 35.5628 - val_loss: 3818.8118 - val_mean_squared_error: 3818.8118 - val_mean_absolute_error: 35.5702\n",
      "Epoch 706/1000\n",
      "5/5 [==============================] - 0s 10ms/step - loss: 3798.4011 - mean_squared_error: 3798.4011 - mean_absolute_error: 35.5785 - val_loss: 3818.5713 - val_mean_squared_error: 3818.5713 - val_mean_absolute_error: 35.5695\n",
      "Epoch 707/1000\n",
      "5/5 [==============================] - 0s 9ms/step - loss: 3624.9118 - mean_squared_error: 3624.9118 - mean_absolute_error: 34.4446 - val_loss: 3818.1187 - val_mean_squared_error: 3818.1187 - val_mean_absolute_error: 35.5690\n",
      "Epoch 708/1000\n",
      "5/5 [==============================] - 0s 10ms/step - loss: 3575.3254 - mean_squared_error: 3575.3254 - mean_absolute_error: 34.2379 - val_loss: 3817.7930 - val_mean_squared_error: 3817.7930 - val_mean_absolute_error: 35.5677\n",
      "Epoch 709/1000\n",
      "5/5 [==============================] - 0s 10ms/step - loss: 3427.4506 - mean_squared_error: 3427.4506 - mean_absolute_error: 33.8694 - val_loss: 3817.5232 - val_mean_squared_error: 3817.5232 - val_mean_absolute_error: 35.5652\n",
      "Epoch 710/1000\n",
      "5/5 [==============================] - 0s 10ms/step - loss: 3746.2723 - mean_squared_error: 3746.2726 - mean_absolute_error: 34.8690 - val_loss: 3817.1509 - val_mean_squared_error: 3817.1509 - val_mean_absolute_error: 35.5656\n",
      "Epoch 711/1000\n",
      "5/5 [==============================] - 0s 9ms/step - loss: 3582.8387 - mean_squared_error: 3582.8387 - mean_absolute_error: 34.3353 - val_loss: 3816.7925 - val_mean_squared_error: 3816.7925 - val_mean_absolute_error: 35.5648\n",
      "Epoch 712/1000\n",
      "5/5 [==============================] - 0s 9ms/step - loss: 3607.5438 - mean_squared_error: 3607.5440 - mean_absolute_error: 34.7122 - val_loss: 3816.5312 - val_mean_squared_error: 3816.5312 - val_mean_absolute_error: 35.5602\n",
      "Epoch 713/1000\n",
      "5/5 [==============================] - 0s 10ms/step - loss: 3571.1593 - mean_squared_error: 3571.1593 - mean_absolute_error: 34.2977 - val_loss: 3816.2007 - val_mean_squared_error: 3816.2002 - val_mean_absolute_error: 35.5594\n",
      "Epoch 714/1000\n",
      "5/5 [==============================] - 0s 10ms/step - loss: 3731.6248 - mean_squared_error: 3731.6248 - mean_absolute_error: 34.7215 - val_loss: 3815.8474 - val_mean_squared_error: 3815.8474 - val_mean_absolute_error: 35.5572\n",
      "Epoch 715/1000\n",
      "5/5 [==============================] - 0s 9ms/step - loss: 3619.8164 - mean_squared_error: 3619.8164 - mean_absolute_error: 34.4183 - val_loss: 3815.5378 - val_mean_squared_error: 3815.5378 - val_mean_absolute_error: 35.5549\n",
      "Epoch 716/1000\n",
      "5/5 [==============================] - 0s 9ms/step - loss: 3729.3677 - mean_squared_error: 3729.3677 - mean_absolute_error: 35.1276 - val_loss: 3815.1775 - val_mean_squared_error: 3815.1777 - val_mean_absolute_error: 35.5532\n",
      "Epoch 717/1000\n",
      "5/5 [==============================] - 0s 9ms/step - loss: 3617.9402 - mean_squared_error: 3617.9402 - mean_absolute_error: 35.0035 - val_loss: 3814.9106 - val_mean_squared_error: 3814.9106 - val_mean_absolute_error: 35.5486\n",
      "Epoch 718/1000\n",
      "5/5 [==============================] - 0s 10ms/step - loss: 3590.8777 - mean_squared_error: 3590.8777 - mean_absolute_error: 34.4314 - val_loss: 3814.5979 - val_mean_squared_error: 3814.5979 - val_mean_absolute_error: 35.5494\n",
      "Epoch 719/1000\n",
      "5/5 [==============================] - 0s 10ms/step - loss: 3880.2114 - mean_squared_error: 3880.2114 - mean_absolute_error: 35.5126 - val_loss: 3814.1882 - val_mean_squared_error: 3814.1882 - val_mean_absolute_error: 35.5544\n",
      "Epoch 720/1000\n",
      "5/5 [==============================] - 0s 10ms/step - loss: 3785.6087 - mean_squared_error: 3785.6087 - mean_absolute_error: 35.4499 - val_loss: 3813.9175 - val_mean_squared_error: 3813.9175 - val_mean_absolute_error: 35.5509\n",
      "Epoch 721/1000\n",
      "5/5 [==============================] - 0s 9ms/step - loss: 3718.4238 - mean_squared_error: 3718.4238 - mean_absolute_error: 34.9528 - val_loss: 3813.5205 - val_mean_squared_error: 3813.5205 - val_mean_absolute_error: 35.5510\n",
      "Epoch 722/1000\n",
      "5/5 [==============================] - 0s 9ms/step - loss: 3813.4820 - mean_squared_error: 3813.4820 - mean_absolute_error: 35.3431 - val_loss: 3813.2590 - val_mean_squared_error: 3813.2590 - val_mean_absolute_error: 35.5492\n",
      "Epoch 723/1000\n",
      "5/5 [==============================] - 0s 9ms/step - loss: 3610.9011 - mean_squared_error: 3610.9011 - mean_absolute_error: 34.4619 - val_loss: 3812.9492 - val_mean_squared_error: 3812.9492 - val_mean_absolute_error: 35.5477\n",
      "Epoch 724/1000\n",
      "5/5 [==============================] - 0s 9ms/step - loss: 3608.8060 - mean_squared_error: 3608.8060 - mean_absolute_error: 34.4288 - val_loss: 3812.6113 - val_mean_squared_error: 3812.6113 - val_mean_absolute_error: 35.5438\n",
      "Epoch 725/1000\n",
      "5/5 [==============================] - 0s 9ms/step - loss: 3650.2745 - mean_squared_error: 3650.2745 - mean_absolute_error: 34.5683 - val_loss: 3812.3579 - val_mean_squared_error: 3812.3579 - val_mean_absolute_error: 35.5385\n",
      "Epoch 726/1000\n",
      "5/5 [==============================] - 0s 9ms/step - loss: 3698.5451 - mean_squared_error: 3698.5451 - mean_absolute_error: 34.9119 - val_loss: 3812.0503 - val_mean_squared_error: 3812.0503 - val_mean_absolute_error: 35.5390\n",
      "Epoch 727/1000\n",
      "5/5 [==============================] - 0s 10ms/step - loss: 3745.8132 - mean_squared_error: 3745.8133 - mean_absolute_error: 34.9973 - val_loss: 3811.7527 - val_mean_squared_error: 3811.7529 - val_mean_absolute_error: 35.5385\n",
      "Epoch 728/1000\n",
      "5/5 [==============================] - 0s 12ms/step - loss: 3704.8009 - mean_squared_error: 3704.8009 - mean_absolute_error: 35.3312 - val_loss: 3811.4553 - val_mean_squared_error: 3811.4553 - val_mean_absolute_error: 35.5365\n",
      "Epoch 729/1000\n",
      "5/5 [==============================] - 0s 11ms/step - loss: 3633.1965 - mean_squared_error: 3633.1965 - mean_absolute_error: 34.8676 - val_loss: 3811.1589 - val_mean_squared_error: 3811.1589 - val_mean_absolute_error: 35.5361\n",
      "Epoch 730/1000\n",
      "5/5 [==============================] - 0s 9ms/step - loss: 3676.1149 - mean_squared_error: 3676.1149 - mean_absolute_error: 35.1969 - val_loss: 3810.8699 - val_mean_squared_error: 3810.8699 - val_mean_absolute_error: 35.5339\n",
      "Epoch 731/1000\n",
      "5/5 [==============================] - 0s 9ms/step - loss: 3699.5658 - mean_squared_error: 3699.5658 - mean_absolute_error: 34.6731 - val_loss: 3810.5691 - val_mean_squared_error: 3810.5691 - val_mean_absolute_error: 35.5364\n",
      "Epoch 732/1000\n",
      "5/5 [==============================] - 0s 10ms/step - loss: 3515.9794 - mean_squared_error: 3515.9794 - mean_absolute_error: 34.0782 - val_loss: 3810.3467 - val_mean_squared_error: 3810.3467 - val_mean_absolute_error: 35.5377\n",
      "Epoch 733/1000\n",
      "5/5 [==============================] - 0s 10ms/step - loss: 3642.0455 - mean_squared_error: 3642.0455 - mean_absolute_error: 34.7399 - val_loss: 3809.9812 - val_mean_squared_error: 3809.9812 - val_mean_absolute_error: 35.5351\n",
      "Epoch 734/1000\n",
      "5/5 [==============================] - 0s 9ms/step - loss: 3607.7509 - mean_squared_error: 3607.7509 - mean_absolute_error: 34.7732 - val_loss: 3809.6792 - val_mean_squared_error: 3809.6792 - val_mean_absolute_error: 35.5385\n",
      "Epoch 735/1000\n",
      "5/5 [==============================] - 0s 9ms/step - loss: 3496.3272 - mean_squared_error: 3496.3272 - mean_absolute_error: 34.1353 - val_loss: 3809.4717 - val_mean_squared_error: 3809.4717 - val_mean_absolute_error: 35.5348\n",
      "Epoch 736/1000\n",
      "5/5 [==============================] - 0s 9ms/step - loss: 3643.4784 - mean_squared_error: 3643.4784 - mean_absolute_error: 34.8372 - val_loss: 3809.0713 - val_mean_squared_error: 3809.0718 - val_mean_absolute_error: 35.5348\n",
      "Epoch 737/1000\n",
      "5/5 [==============================] - 0s 10ms/step - loss: 3598.4185 - mean_squared_error: 3598.4185 - mean_absolute_error: 34.8156 - val_loss: 3808.9028 - val_mean_squared_error: 3808.9028 - val_mean_absolute_error: 35.5305\n",
      "Epoch 738/1000\n",
      "5/5 [==============================] - 0s 10ms/step - loss: 3555.1977 - mean_squared_error: 3555.1977 - mean_absolute_error: 34.4354 - val_loss: 3808.6040 - val_mean_squared_error: 3808.6040 - val_mean_absolute_error: 35.5336\n",
      "Epoch 739/1000\n",
      "5/5 [==============================] - 0s 10ms/step - loss: 3525.7565 - mean_squared_error: 3525.7565 - mean_absolute_error: 34.2928 - val_loss: 3808.3247 - val_mean_squared_error: 3808.3247 - val_mean_absolute_error: 35.5288\n",
      "Epoch 740/1000\n",
      "5/5 [==============================] - 0s 10ms/step - loss: 3626.9596 - mean_squared_error: 3626.9596 - mean_absolute_error: 34.9416 - val_loss: 3808.0361 - val_mean_squared_error: 3808.0366 - val_mean_absolute_error: 35.5294\n",
      "Epoch 741/1000\n",
      "5/5 [==============================] - 0s 10ms/step - loss: 3632.6275 - mean_squared_error: 3632.6275 - mean_absolute_error: 34.9478 - val_loss: 3807.7122 - val_mean_squared_error: 3807.7122 - val_mean_absolute_error: 35.5307\n",
      "Epoch 742/1000\n",
      "5/5 [==============================] - 0s 10ms/step - loss: 3629.7650 - mean_squared_error: 3629.7650 - mean_absolute_error: 34.5284 - val_loss: 3807.3772 - val_mean_squared_error: 3807.3772 - val_mean_absolute_error: 35.5323\n",
      "Epoch 743/1000\n",
      "5/5 [==============================] - 0s 10ms/step - loss: 3743.2161 - mean_squared_error: 3743.2161 - mean_absolute_error: 34.7232 - val_loss: 3807.1702 - val_mean_squared_error: 3807.1702 - val_mean_absolute_error: 35.5317\n",
      "Epoch 744/1000\n",
      "5/5 [==============================] - 0s 10ms/step - loss: 3553.1729 - mean_squared_error: 3553.1729 - mean_absolute_error: 34.3048 - val_loss: 3806.8528 - val_mean_squared_error: 3806.8528 - val_mean_absolute_error: 35.5317\n",
      "Epoch 745/1000\n",
      "5/5 [==============================] - 0s 10ms/step - loss: 3568.2426 - mean_squared_error: 3568.2426 - mean_absolute_error: 34.4754 - val_loss: 3806.6375 - val_mean_squared_error: 3806.6375 - val_mean_absolute_error: 35.5280\n",
      "Epoch 746/1000\n",
      "5/5 [==============================] - 0s 10ms/step - loss: 3526.8858 - mean_squared_error: 3526.8858 - mean_absolute_error: 34.2287 - val_loss: 3806.3293 - val_mean_squared_error: 3806.3293 - val_mean_absolute_error: 35.5234\n",
      "Epoch 747/1000\n",
      "5/5 [==============================] - 0s 10ms/step - loss: 3743.7441 - mean_squared_error: 3743.7441 - mean_absolute_error: 34.8582 - val_loss: 3806.0176 - val_mean_squared_error: 3806.0176 - val_mean_absolute_error: 35.5226\n",
      "Epoch 748/1000\n",
      "5/5 [==============================] - 0s 10ms/step - loss: 3789.9795 - mean_squared_error: 3789.9795 - mean_absolute_error: 35.3709 - val_loss: 3805.8428 - val_mean_squared_error: 3805.8423 - val_mean_absolute_error: 35.5201\n",
      "Epoch 749/1000\n"
     ]
    },
    {
     "name": "stdout",
     "output_type": "stream",
     "text": [
      "5/5 [==============================] - 0s 10ms/step - loss: 3714.5216 - mean_squared_error: 3714.5216 - mean_absolute_error: 34.8527 - val_loss: 3805.4954 - val_mean_squared_error: 3805.4954 - val_mean_absolute_error: 35.5169\n",
      "Epoch 750/1000\n",
      "5/5 [==============================] - 0s 9ms/step - loss: 3705.1116 - mean_squared_error: 3705.1116 - mean_absolute_error: 34.8829 - val_loss: 3805.3010 - val_mean_squared_error: 3805.3010 - val_mean_absolute_error: 35.5083\n",
      "Epoch 751/1000\n",
      "5/5 [==============================] - 0s 10ms/step - loss: 3689.0650 - mean_squared_error: 3689.0650 - mean_absolute_error: 35.0615 - val_loss: 3805.0220 - val_mean_squared_error: 3805.0215 - val_mean_absolute_error: 35.5057\n",
      "Epoch 752/1000\n",
      "5/5 [==============================] - 0s 10ms/step - loss: 3775.3243 - mean_squared_error: 3775.3243 - mean_absolute_error: 35.2602 - val_loss: 3804.7415 - val_mean_squared_error: 3804.7415 - val_mean_absolute_error: 35.5019\n",
      "Epoch 753/1000\n",
      "5/5 [==============================] - 0s 10ms/step - loss: 3665.0826 - mean_squared_error: 3665.0826 - mean_absolute_error: 35.1290 - val_loss: 3804.4717 - val_mean_squared_error: 3804.4717 - val_mean_absolute_error: 35.4996\n",
      "Epoch 754/1000\n",
      "5/5 [==============================] - 0s 9ms/step - loss: 3594.4779 - mean_squared_error: 3594.4779 - mean_absolute_error: 34.6319 - val_loss: 3804.2314 - val_mean_squared_error: 3804.2314 - val_mean_absolute_error: 35.4935\n",
      "Epoch 755/1000\n",
      "5/5 [==============================] - 0s 9ms/step - loss: 3433.4423 - mean_squared_error: 3433.4423 - mean_absolute_error: 34.0193 - val_loss: 3803.9553 - val_mean_squared_error: 3803.9553 - val_mean_absolute_error: 35.4906\n",
      "Epoch 756/1000\n",
      "5/5 [==============================] - 0s 9ms/step - loss: 3674.9579 - mean_squared_error: 3674.9579 - mean_absolute_error: 34.3040 - val_loss: 3803.6521 - val_mean_squared_error: 3803.6521 - val_mean_absolute_error: 35.4877\n",
      "Epoch 757/1000\n",
      "5/5 [==============================] - 0s 9ms/step - loss: 3432.9318 - mean_squared_error: 3432.9318 - mean_absolute_error: 34.0145 - val_loss: 3803.5220 - val_mean_squared_error: 3803.5220 - val_mean_absolute_error: 35.4774\n",
      "Epoch 758/1000\n",
      "5/5 [==============================] - 0s 10ms/step - loss: 3769.0003 - mean_squared_error: 3769.0003 - mean_absolute_error: 34.8637 - val_loss: 3803.2134 - val_mean_squared_error: 3803.2134 - val_mean_absolute_error: 35.4790\n",
      "Epoch 759/1000\n",
      "5/5 [==============================] - 0s 9ms/step - loss: 3602.6829 - mean_squared_error: 3602.6829 - mean_absolute_error: 34.4669 - val_loss: 3802.8789 - val_mean_squared_error: 3802.8789 - val_mean_absolute_error: 35.4743\n",
      "Epoch 760/1000\n",
      "5/5 [==============================] - 0s 11ms/step - loss: 3651.4688 - mean_squared_error: 3651.4688 - mean_absolute_error: 34.5320 - val_loss: 3802.7036 - val_mean_squared_error: 3802.7041 - val_mean_absolute_error: 35.4719\n",
      "Epoch 761/1000\n",
      "5/5 [==============================] - 0s 11ms/step - loss: 3681.4816 - mean_squared_error: 3681.4816 - mean_absolute_error: 34.9714 - val_loss: 3802.4417 - val_mean_squared_error: 3802.4417 - val_mean_absolute_error: 35.4660\n",
      "Epoch 762/1000\n",
      "5/5 [==============================] - 0s 11ms/step - loss: 3532.1387 - mean_squared_error: 3532.1387 - mean_absolute_error: 34.4065 - val_loss: 3802.1409 - val_mean_squared_error: 3802.1409 - val_mean_absolute_error: 35.4618\n",
      "Epoch 763/1000\n",
      "5/5 [==============================] - 0s 10ms/step - loss: 3732.0251 - mean_squared_error: 3732.0251 - mean_absolute_error: 34.9142 - val_loss: 3801.9028 - val_mean_squared_error: 3801.9028 - val_mean_absolute_error: 35.4584\n",
      "Epoch 764/1000\n",
      "5/5 [==============================] - 0s 11ms/step - loss: 3710.4404 - mean_squared_error: 3710.4404 - mean_absolute_error: 35.0837 - val_loss: 3801.6409 - val_mean_squared_error: 3801.6409 - val_mean_absolute_error: 35.4530\n",
      "Epoch 765/1000\n",
      "5/5 [==============================] - 0s 10ms/step - loss: 3655.2776 - mean_squared_error: 3655.2776 - mean_absolute_error: 34.7434 - val_loss: 3801.3367 - val_mean_squared_error: 3801.3372 - val_mean_absolute_error: 35.4524\n",
      "Epoch 766/1000\n",
      "5/5 [==============================] - 0s 9ms/step - loss: 3781.4827 - mean_squared_error: 3781.4827 - mean_absolute_error: 35.1683 - val_loss: 3801.1348 - val_mean_squared_error: 3801.1348 - val_mean_absolute_error: 35.4458\n",
      "Epoch 767/1000\n",
      "5/5 [==============================] - 0s 10ms/step - loss: 3610.9773 - mean_squared_error: 3610.9773 - mean_absolute_error: 34.0526 - val_loss: 3800.9106 - val_mean_squared_error: 3800.9106 - val_mean_absolute_error: 35.4394\n",
      "Epoch 768/1000\n",
      "5/5 [==============================] - 0s 14ms/step - loss: 3666.3860 - mean_squared_error: 3666.3860 - mean_absolute_error: 34.5954 - val_loss: 3800.6528 - val_mean_squared_error: 3800.6528 - val_mean_absolute_error: 35.4344\n",
      "Epoch 769/1000\n",
      "5/5 [==============================] - 0s 9ms/step - loss: 3596.8935 - mean_squared_error: 3596.8934 - mean_absolute_error: 34.4661 - val_loss: 3800.4287 - val_mean_squared_error: 3800.4287 - val_mean_absolute_error: 35.4218\n",
      "Epoch 770/1000\n",
      "5/5 [==============================] - 0s 9ms/step - loss: 3558.3239 - mean_squared_error: 3558.3239 - mean_absolute_error: 34.3528 - val_loss: 3800.1719 - val_mean_squared_error: 3800.1714 - val_mean_absolute_error: 35.4186\n",
      "Epoch 771/1000\n",
      "5/5 [==============================] - 0s 9ms/step - loss: 3690.5138 - mean_squared_error: 3690.5138 - mean_absolute_error: 34.7461 - val_loss: 3799.9451 - val_mean_squared_error: 3799.9456 - val_mean_absolute_error: 35.4154\n",
      "Epoch 772/1000\n",
      "5/5 [==============================] - 0s 10ms/step - loss: 3542.9373 - mean_squared_error: 3542.9373 - mean_absolute_error: 34.3438 - val_loss: 3799.6443 - val_mean_squared_error: 3799.6443 - val_mean_absolute_error: 35.4114\n",
      "Epoch 773/1000\n",
      "5/5 [==============================] - 0s 10ms/step - loss: 3688.3767 - mean_squared_error: 3688.3767 - mean_absolute_error: 34.6764 - val_loss: 3799.3831 - val_mean_squared_error: 3799.3828 - val_mean_absolute_error: 35.4116\n",
      "Epoch 774/1000\n",
      "5/5 [==============================] - 0s 9ms/step - loss: 3673.0844 - mean_squared_error: 3673.0844 - mean_absolute_error: 34.8172 - val_loss: 3799.1934 - val_mean_squared_error: 3799.1934 - val_mean_absolute_error: 35.4051\n",
      "Epoch 775/1000\n",
      "5/5 [==============================] - 0s 10ms/step - loss: 3514.3069 - mean_squared_error: 3514.3069 - mean_absolute_error: 34.0505 - val_loss: 3798.9656 - val_mean_squared_error: 3798.9656 - val_mean_absolute_error: 35.4001\n",
      "Epoch 776/1000\n",
      "5/5 [==============================] - 0s 9ms/step - loss: 3693.2650 - mean_squared_error: 3693.2650 - mean_absolute_error: 34.5915 - val_loss: 3798.6753 - val_mean_squared_error: 3798.6753 - val_mean_absolute_error: 35.3970\n",
      "Epoch 777/1000\n",
      "5/5 [==============================] - 0s 10ms/step - loss: 3801.9541 - mean_squared_error: 3801.9541 - mean_absolute_error: 35.2436 - val_loss: 3798.4509 - val_mean_squared_error: 3798.4514 - val_mean_absolute_error: 35.3922\n",
      "Epoch 778/1000\n",
      "5/5 [==============================] - 0s 10ms/step - loss: 3679.3826 - mean_squared_error: 3679.3826 - mean_absolute_error: 34.4022 - val_loss: 3798.2312 - val_mean_squared_error: 3798.2312 - val_mean_absolute_error: 35.3857\n",
      "Epoch 779/1000\n",
      "5/5 [==============================] - 0s 9ms/step - loss: 3795.9514 - mean_squared_error: 3795.9514 - mean_absolute_error: 34.9306 - val_loss: 3797.9670 - val_mean_squared_error: 3797.9670 - val_mean_absolute_error: 35.3820\n",
      "Epoch 780/1000\n",
      "5/5 [==============================] - 0s 9ms/step - loss: 3832.2688 - mean_squared_error: 3832.2688 - mean_absolute_error: 35.2149 - val_loss: 3797.7131 - val_mean_squared_error: 3797.7131 - val_mean_absolute_error: 35.3814\n",
      "Epoch 781/1000\n",
      "5/5 [==============================] - 0s 9ms/step - loss: 3550.7480 - mean_squared_error: 3550.7480 - mean_absolute_error: 33.9888 - val_loss: 3797.5188 - val_mean_squared_error: 3797.5188 - val_mean_absolute_error: 35.3720\n",
      "Epoch 782/1000\n",
      "5/5 [==============================] - 0s 10ms/step - loss: 3703.8575 - mean_squared_error: 3703.8575 - mean_absolute_error: 34.7210 - val_loss: 3797.3020 - val_mean_squared_error: 3797.3020 - val_mean_absolute_error: 35.3669\n",
      "Epoch 783/1000\n",
      "5/5 [==============================] - 0s 9ms/step - loss: 3614.7554 - mean_squared_error: 3614.7554 - mean_absolute_error: 34.2356 - val_loss: 3797.0078 - val_mean_squared_error: 3797.0078 - val_mean_absolute_error: 35.3615\n",
      "Epoch 784/1000\n",
      "5/5 [==============================] - 0s 10ms/step - loss: 3637.3274 - mean_squared_error: 3637.3274 - mean_absolute_error: 34.4076 - val_loss: 3796.7878 - val_mean_squared_error: 3796.7878 - val_mean_absolute_error: 35.3538\n",
      "Epoch 785/1000\n",
      "5/5 [==============================] - 0s 9ms/step - loss: 3638.9738 - mean_squared_error: 3638.9738 - mean_absolute_error: 34.3079 - val_loss: 3796.5718 - val_mean_squared_error: 3796.5718 - val_mean_absolute_error: 35.3485\n",
      "Epoch 786/1000\n",
      "5/5 [==============================] - 0s 9ms/step - loss: 3765.9506 - mean_squared_error: 3765.9506 - mean_absolute_error: 34.9722 - val_loss: 3796.2844 - val_mean_squared_error: 3796.2844 - val_mean_absolute_error: 35.3424\n",
      "Epoch 787/1000\n",
      "5/5 [==============================] - 0s 9ms/step - loss: 3577.7070 - mean_squared_error: 3577.7070 - mean_absolute_error: 34.0950 - val_loss: 3796.0991 - val_mean_squared_error: 3796.0991 - val_mean_absolute_error: 35.3336\n",
      "Epoch 788/1000\n",
      "5/5 [==============================] - 0s 9ms/step - loss: 3536.7493 - mean_squared_error: 3536.7493 - mean_absolute_error: 34.1987 - val_loss: 3795.8489 - val_mean_squared_error: 3795.8489 - val_mean_absolute_error: 35.3311\n",
      "Epoch 789/1000\n",
      "5/5 [==============================] - 0s 9ms/step - loss: 3637.3167 - mean_squared_error: 3637.3167 - mean_absolute_error: 34.5495 - val_loss: 3795.5562 - val_mean_squared_error: 3795.5562 - val_mean_absolute_error: 35.3313\n",
      "Epoch 790/1000\n",
      "5/5 [==============================] - 0s 9ms/step - loss: 3745.4543 - mean_squared_error: 3745.4543 - mean_absolute_error: 34.7488 - val_loss: 3795.3613 - val_mean_squared_error: 3795.3613 - val_mean_absolute_error: 35.3274\n",
      "Epoch 791/1000\n",
      "5/5 [==============================] - 0s 10ms/step - loss: 3512.7181 - mean_squared_error: 3512.7181 - mean_absolute_error: 33.8414 - val_loss: 3795.1189 - val_mean_squared_error: 3795.1189 - val_mean_absolute_error: 35.3193\n",
      "Epoch 792/1000\n",
      "5/5 [==============================] - 0s 10ms/step - loss: 3594.4604 - mean_squared_error: 3594.4604 - mean_absolute_error: 34.5079 - val_loss: 3794.9480 - val_mean_squared_error: 3794.9475 - val_mean_absolute_error: 35.3141\n",
      "Epoch 793/1000\n",
      "5/5 [==============================] - 0s 9ms/step - loss: 3551.1897 - mean_squared_error: 3551.1897 - mean_absolute_error: 34.0301 - val_loss: 3794.6045 - val_mean_squared_error: 3794.6045 - val_mean_absolute_error: 35.3116\n",
      "Epoch 794/1000\n",
      "5/5 [==============================] - 0s 10ms/step - loss: 3769.8151 - mean_squared_error: 3769.8151 - mean_absolute_error: 35.0384 - val_loss: 3794.3625 - val_mean_squared_error: 3794.3625 - val_mean_absolute_error: 35.3092\n",
      "Epoch 795/1000\n",
      "5/5 [==============================] - 0s 10ms/step - loss: 3415.8018 - mean_squared_error: 3415.8018 - mean_absolute_error: 33.7215 - val_loss: 3794.1917 - val_mean_squared_error: 3794.1917 - val_mean_absolute_error: 35.3002\n",
      "Epoch 796/1000\n",
      "5/5 [==============================] - 0s 10ms/step - loss: 3529.4045 - mean_squared_error: 3529.4045 - mean_absolute_error: 34.3675 - val_loss: 3793.8904 - val_mean_squared_error: 3793.8904 - val_mean_absolute_error: 35.2940\n",
      "Epoch 797/1000\n",
      "5/5 [==============================] - 0s 10ms/step - loss: 3497.3294 - mean_squared_error: 3497.3294 - mean_absolute_error: 33.6839 - val_loss: 3793.6951 - val_mean_squared_error: 3793.6951 - val_mean_absolute_error: 35.2879\n",
      "Epoch 798/1000\n",
      "5/5 [==============================] - 0s 10ms/step - loss: 3539.5471 - mean_squared_error: 3539.5468 - mean_absolute_error: 34.0886 - val_loss: 3793.4802 - val_mean_squared_error: 3793.4802 - val_mean_absolute_error: 35.2854\n",
      "Epoch 799/1000\n",
      "5/5 [==============================] - 0s 10ms/step - loss: 3475.5565 - mean_squared_error: 3475.5565 - mean_absolute_error: 33.9923 - val_loss: 3793.2603 - val_mean_squared_error: 3793.2598 - val_mean_absolute_error: 35.2807\n",
      "Epoch 800/1000\n",
      "5/5 [==============================] - 0s 10ms/step - loss: 3731.8984 - mean_squared_error: 3731.8984 - mean_absolute_error: 34.4909 - val_loss: 3792.9558 - val_mean_squared_error: 3792.9558 - val_mean_absolute_error: 35.2788\n",
      "Epoch 801/1000\n",
      "5/5 [==============================] - 0s 9ms/step - loss: 3712.8746 - mean_squared_error: 3712.8746 - mean_absolute_error: 34.8161 - val_loss: 3792.7612 - val_mean_squared_error: 3792.7612 - val_mean_absolute_error: 35.2770\n",
      "Epoch 802/1000\n",
      "5/5 [==============================] - 0s 9ms/step - loss: 3552.5638 - mean_squared_error: 3552.5638 - mean_absolute_error: 34.3691 - val_loss: 3792.5164 - val_mean_squared_error: 3792.5164 - val_mean_absolute_error: 35.2668\n",
      "Epoch 803/1000\n",
      "5/5 [==============================] - 0s 10ms/step - loss: 3557.8317 - mean_squared_error: 3557.8317 - mean_absolute_error: 34.2028 - val_loss: 3792.2173 - val_mean_squared_error: 3792.2173 - val_mean_absolute_error: 35.2651\n",
      "Epoch 804/1000\n",
      "5/5 [==============================] - 0s 9ms/step - loss: 3807.1442 - mean_squared_error: 3807.1442 - mean_absolute_error: 34.9340 - val_loss: 3792.0498 - val_mean_squared_error: 3792.0498 - val_mean_absolute_error: 35.2591\n",
      "Epoch 805/1000\n",
      "5/5 [==============================] - 0s 9ms/step - loss: 3630.6985 - mean_squared_error: 3630.6985 - mean_absolute_error: 34.3766 - val_loss: 3791.8118 - val_mean_squared_error: 3791.8118 - val_mean_absolute_error: 35.2507\n",
      "Epoch 806/1000\n",
      "5/5 [==============================] - 0s 9ms/step - loss: 3919.6705 - mean_squared_error: 3919.6705 - mean_absolute_error: 34.9235 - val_loss: 3791.6206 - val_mean_squared_error: 3791.6206 - val_mean_absolute_error: 35.2453\n",
      "Epoch 807/1000\n",
      "5/5 [==============================] - 0s 9ms/step - loss: 3559.9552 - mean_squared_error: 3559.9552 - mean_absolute_error: 34.2172 - val_loss: 3791.3474 - val_mean_squared_error: 3791.3474 - val_mean_absolute_error: 35.2376\n",
      "Epoch 808/1000\n",
      "5/5 [==============================] - 0s 10ms/step - loss: 3526.4682 - mean_squared_error: 3526.4682 - mean_absolute_error: 33.8832 - val_loss: 3791.1328 - val_mean_squared_error: 3791.1328 - val_mean_absolute_error: 35.2298\n",
      "Epoch 809/1000\n",
      "5/5 [==============================] - 0s 9ms/step - loss: 3679.1492 - mean_squared_error: 3679.1492 - mean_absolute_error: 34.6192 - val_loss: 3790.9458 - val_mean_squared_error: 3790.9458 - val_mean_absolute_error: 35.2224\n",
      "Epoch 810/1000\n",
      "5/5 [==============================] - 0s 10ms/step - loss: 3688.8337 - mean_squared_error: 3688.8337 - mean_absolute_error: 34.7178 - val_loss: 3790.6470 - val_mean_squared_error: 3790.6470 - val_mean_absolute_error: 35.2168\n",
      "Epoch 811/1000\n",
      "5/5 [==============================] - 0s 10ms/step - loss: 3726.3358 - mean_squared_error: 3726.3358 - mean_absolute_error: 34.7616 - val_loss: 3790.4622 - val_mean_squared_error: 3790.4626 - val_mean_absolute_error: 35.2099\n",
      "Epoch 812/1000\n",
      "5/5 [==============================] - 0s 10ms/step - loss: 3681.0496 - mean_squared_error: 3681.0496 - mean_absolute_error: 34.2895 - val_loss: 3790.2473 - val_mean_squared_error: 3790.2473 - val_mean_absolute_error: 35.2038\n",
      "Epoch 813/1000\n",
      "5/5 [==============================] - 0s 10ms/step - loss: 3660.3231 - mean_squared_error: 3660.3231 - mean_absolute_error: 34.1533 - val_loss: 3790.0334 - val_mean_squared_error: 3790.0334 - val_mean_absolute_error: 35.1987\n",
      "Epoch 814/1000\n",
      "5/5 [==============================] - 0s 10ms/step - loss: 3819.9500 - mean_squared_error: 3819.9500 - mean_absolute_error: 34.9838 - val_loss: 3789.7617 - val_mean_squared_error: 3789.7617 - val_mean_absolute_error: 35.1928\n",
      "Epoch 815/1000\n",
      "5/5 [==============================] - 0s 10ms/step - loss: 3531.1274 - mean_squared_error: 3531.1274 - mean_absolute_error: 34.0145 - val_loss: 3789.5769 - val_mean_squared_error: 3789.5769 - val_mean_absolute_error: 35.1827\n",
      "Epoch 816/1000\n",
      "5/5 [==============================] - 0s 10ms/step - loss: 3642.3205 - mean_squared_error: 3642.3205 - mean_absolute_error: 34.3363 - val_loss: 3789.3630 - val_mean_squared_error: 3789.3630 - val_mean_absolute_error: 35.1763\n",
      "Epoch 817/1000\n"
     ]
    },
    {
     "name": "stdout",
     "output_type": "stream",
     "text": [
      "5/5 [==============================] - 0s 10ms/step - loss: 3766.3811 - mean_squared_error: 3766.3811 - mean_absolute_error: 34.8203 - val_loss: 3789.0842 - val_mean_squared_error: 3789.0842 - val_mean_absolute_error: 35.1732\n",
      "Epoch 818/1000\n",
      "5/5 [==============================] - 0s 10ms/step - loss: 3718.2031 - mean_squared_error: 3718.2031 - mean_absolute_error: 34.5184 - val_loss: 3788.8784 - val_mean_squared_error: 3788.8784 - val_mean_absolute_error: 35.1668\n",
      "Epoch 819/1000\n",
      "5/5 [==============================] - 0s 10ms/step - loss: 3579.9145 - mean_squared_error: 3579.9145 - mean_absolute_error: 34.2142 - val_loss: 3788.6646 - val_mean_squared_error: 3788.6646 - val_mean_absolute_error: 35.1600\n",
      "Epoch 820/1000\n",
      "5/5 [==============================] - 0s 10ms/step - loss: 3536.1257 - mean_squared_error: 3536.1257 - mean_absolute_error: 33.9803 - val_loss: 3788.4832 - val_mean_squared_error: 3788.4832 - val_mean_absolute_error: 35.1520\n",
      "Epoch 821/1000\n",
      "5/5 [==============================] - 0s 9ms/step - loss: 3520.5206 - mean_squared_error: 3520.5206 - mean_absolute_error: 34.0115 - val_loss: 3788.1882 - val_mean_squared_error: 3788.1882 - val_mean_absolute_error: 35.1463\n",
      "Epoch 822/1000\n",
      "5/5 [==============================] - 0s 10ms/step - loss: 3838.9334 - mean_squared_error: 3838.9334 - mean_absolute_error: 35.0477 - val_loss: 3788.0090 - val_mean_squared_error: 3788.0090 - val_mean_absolute_error: 35.1412\n",
      "Epoch 823/1000\n",
      "5/5 [==============================] - 0s 10ms/step - loss: 3640.3813 - mean_squared_error: 3640.3813 - mean_absolute_error: 34.4114 - val_loss: 3787.7681 - val_mean_squared_error: 3787.7681 - val_mean_absolute_error: 35.1369\n",
      "Epoch 824/1000\n",
      "5/5 [==============================] - 0s 9ms/step - loss: 3543.8612 - mean_squared_error: 3543.8612 - mean_absolute_error: 34.0181 - val_loss: 3787.6147 - val_mean_squared_error: 3787.6143 - val_mean_absolute_error: 35.1251\n",
      "Epoch 825/1000\n",
      "5/5 [==============================] - 0s 9ms/step - loss: 3633.4311 - mean_squared_error: 3633.4311 - mean_absolute_error: 34.0955 - val_loss: 3787.3208 - val_mean_squared_error: 3787.3208 - val_mean_absolute_error: 35.1204\n",
      "Epoch 826/1000\n",
      "5/5 [==============================] - 0s 10ms/step - loss: 3793.7286 - mean_squared_error: 3793.7286 - mean_absolute_error: 34.9898 - val_loss: 3787.1414 - val_mean_squared_error: 3787.1418 - val_mean_absolute_error: 35.1123\n",
      "Epoch 827/1000\n",
      "5/5 [==============================] - 0s 10ms/step - loss: 3456.8475 - mean_squared_error: 3456.8475 - mean_absolute_error: 33.4352 - val_loss: 3786.9089 - val_mean_squared_error: 3786.9089 - val_mean_absolute_error: 35.1049\n",
      "Epoch 828/1000\n",
      "5/5 [==============================] - 0s 9ms/step - loss: 3588.5582 - mean_squared_error: 3588.5582 - mean_absolute_error: 34.4217 - val_loss: 3786.7563 - val_mean_squared_error: 3786.7563 - val_mean_absolute_error: 35.0935\n",
      "Epoch 829/1000\n",
      "5/5 [==============================] - 0s 9ms/step - loss: 3810.6164 - mean_squared_error: 3810.6164 - mean_absolute_error: 34.9206 - val_loss: 3786.4656 - val_mean_squared_error: 3786.4656 - val_mean_absolute_error: 35.0886\n",
      "Epoch 830/1000\n",
      "5/5 [==============================] - 0s 9ms/step - loss: 3836.8352 - mean_squared_error: 3836.8352 - mean_absolute_error: 35.2415 - val_loss: 3786.3115 - val_mean_squared_error: 3786.3115 - val_mean_absolute_error: 35.0824\n",
      "Epoch 831/1000\n",
      "5/5 [==============================] - 0s 9ms/step - loss: 3682.9146 - mean_squared_error: 3682.9146 - mean_absolute_error: 34.3643 - val_loss: 3786.0544 - val_mean_squared_error: 3786.0544 - val_mean_absolute_error: 35.0747\n",
      "Epoch 832/1000\n",
      "5/5 [==============================] - 0s 10ms/step - loss: 3737.9184 - mean_squared_error: 3737.9184 - mean_absolute_error: 34.7411 - val_loss: 3785.9060 - val_mean_squared_error: 3785.9060 - val_mean_absolute_error: 35.0640\n",
      "Epoch 833/1000\n",
      "5/5 [==============================] - 0s 10ms/step - loss: 3729.7782 - mean_squared_error: 3729.7782 - mean_absolute_error: 34.6656 - val_loss: 3785.6165 - val_mean_squared_error: 3785.6165 - val_mean_absolute_error: 35.0574\n",
      "Epoch 834/1000\n",
      "5/5 [==============================] - 0s 10ms/step - loss: 3811.4836 - mean_squared_error: 3811.4836 - mean_absolute_error: 34.4752 - val_loss: 3785.4656 - val_mean_squared_error: 3785.4656 - val_mean_absolute_error: 35.0492\n",
      "Epoch 835/1000\n",
      "5/5 [==============================] - 0s 10ms/step - loss: 3568.6838 - mean_squared_error: 3568.6838 - mean_absolute_error: 34.0709 - val_loss: 3785.2314 - val_mean_squared_error: 3785.2314 - val_mean_absolute_error: 35.0431\n",
      "Epoch 836/1000\n",
      "5/5 [==============================] - 0s 9ms/step - loss: 3423.8786 - mean_squared_error: 3423.8786 - mean_absolute_error: 33.2911 - val_loss: 3785.0022 - val_mean_squared_error: 3785.0022 - val_mean_absolute_error: 35.0359\n",
      "Epoch 837/1000\n",
      "5/5 [==============================] - 0s 9ms/step - loss: 3566.5131 - mean_squared_error: 3566.5131 - mean_absolute_error: 33.7660 - val_loss: 3784.7703 - val_mean_squared_error: 3784.7703 - val_mean_absolute_error: 35.0328\n",
      "Epoch 838/1000\n",
      "5/5 [==============================] - 0s 10ms/step - loss: 3579.0671 - mean_squared_error: 3579.0671 - mean_absolute_error: 34.1797 - val_loss: 3784.6177 - val_mean_squared_error: 3784.6182 - val_mean_absolute_error: 35.0248\n",
      "Epoch 839/1000\n",
      "5/5 [==============================] - 0s 9ms/step - loss: 3631.6634 - mean_squared_error: 3631.6634 - mean_absolute_error: 34.5395 - val_loss: 3784.3892 - val_mean_squared_error: 3784.3892 - val_mean_absolute_error: 35.0205\n",
      "Epoch 840/1000\n",
      "5/5 [==============================] - 0s 9ms/step - loss: 3767.5588 - mean_squared_error: 3767.5588 - mean_absolute_error: 34.4694 - val_loss: 3784.1577 - val_mean_squared_error: 3784.1577 - val_mean_absolute_error: 35.0172\n",
      "Epoch 841/1000\n",
      "5/5 [==============================] - 0s 9ms/step - loss: 3622.6512 - mean_squared_error: 3622.6512 - mean_absolute_error: 33.9648 - val_loss: 3783.9277 - val_mean_squared_error: 3783.9277 - val_mean_absolute_error: 35.0105\n",
      "Epoch 842/1000\n",
      "5/5 [==============================] - 0s 10ms/step - loss: 3560.2015 - mean_squared_error: 3560.2015 - mean_absolute_error: 33.5382 - val_loss: 3783.7810 - val_mean_squared_error: 3783.7810 - val_mean_absolute_error: 34.9974\n",
      "Epoch 843/1000\n",
      "5/5 [==============================] - 0s 10ms/step - loss: 3772.2108 - mean_squared_error: 3772.2108 - mean_absolute_error: 34.8863 - val_loss: 3783.5300 - val_mean_squared_error: 3783.5300 - val_mean_absolute_error: 34.9949\n",
      "Epoch 844/1000\n",
      "5/5 [==============================] - 0s 10ms/step - loss: 3633.0971 - mean_squared_error: 3633.0971 - mean_absolute_error: 34.2203 - val_loss: 3783.3491 - val_mean_squared_error: 3783.3491 - val_mean_absolute_error: 34.9832\n",
      "Epoch 845/1000\n",
      "5/5 [==============================] - 0s 9ms/step - loss: 3697.6504 - mean_squared_error: 3697.6504 - mean_absolute_error: 34.2698 - val_loss: 3783.0996 - val_mean_squared_error: 3783.0996 - val_mean_absolute_error: 34.9772\n",
      "Epoch 846/1000\n",
      "5/5 [==============================] - 0s 10ms/step - loss: 3574.3344 - mean_squared_error: 3574.3344 - mean_absolute_error: 34.0089 - val_loss: 3782.9231 - val_mean_squared_error: 3782.9231 - val_mean_absolute_error: 34.9745\n",
      "Epoch 847/1000\n",
      "5/5 [==============================] - 0s 10ms/step - loss: 3680.5021 - mean_squared_error: 3680.5021 - mean_absolute_error: 34.5646 - val_loss: 3782.6667 - val_mean_squared_error: 3782.6667 - val_mean_absolute_error: 34.9700\n",
      "Epoch 848/1000\n",
      "5/5 [==============================] - 0s 9ms/step - loss: 3724.3125 - mean_squared_error: 3724.3125 - mean_absolute_error: 34.8031 - val_loss: 3782.4417 - val_mean_squared_error: 3782.4417 - val_mean_absolute_error: 34.9639\n",
      "Epoch 849/1000\n",
      "5/5 [==============================] - 0s 10ms/step - loss: 3539.2227 - mean_squared_error: 3539.2227 - mean_absolute_error: 33.5073 - val_loss: 3782.2676 - val_mean_squared_error: 3782.2676 - val_mean_absolute_error: 34.9573\n",
      "Epoch 850/1000\n",
      "5/5 [==============================] - 0s 9ms/step - loss: 3629.2890 - mean_squared_error: 3629.2890 - mean_absolute_error: 34.1558 - val_loss: 3782.0989 - val_mean_squared_error: 3782.0989 - val_mean_absolute_error: 34.9474\n",
      "Epoch 851/1000\n",
      "5/5 [==============================] - 0s 9ms/step - loss: 3647.5257 - mean_squared_error: 3647.5257 - mean_absolute_error: 34.3243 - val_loss: 3781.8213 - val_mean_squared_error: 3781.8213 - val_mean_absolute_error: 34.9421\n",
      "Epoch 852/1000\n",
      "5/5 [==============================] - 0s 10ms/step - loss: 3666.9047 - mean_squared_error: 3666.9047 - mean_absolute_error: 34.2361 - val_loss: 3781.6182 - val_mean_squared_error: 3781.6182 - val_mean_absolute_error: 34.9359\n",
      "Epoch 853/1000\n",
      "5/5 [==============================] - 0s 11ms/step - loss: 3652.3725 - mean_squared_error: 3652.3725 - mean_absolute_error: 33.7309 - val_loss: 3781.4473 - val_mean_squared_error: 3781.4475 - val_mean_absolute_error: 34.9315\n",
      "Epoch 854/1000\n",
      "5/5 [==============================] - 0s 9ms/step - loss: 3738.0992 - mean_squared_error: 3738.0992 - mean_absolute_error: 34.4228 - val_loss: 3781.1499 - val_mean_squared_error: 3781.1499 - val_mean_absolute_error: 34.9247\n",
      "Epoch 855/1000\n",
      "5/5 [==============================] - 0s 10ms/step - loss: 3620.8101 - mean_squared_error: 3620.8101 - mean_absolute_error: 34.1781 - val_loss: 3781.0249 - val_mean_squared_error: 3781.0249 - val_mean_absolute_error: 34.9137\n",
      "Epoch 856/1000\n",
      "5/5 [==============================] - 0s 10ms/step - loss: 3536.1824 - mean_squared_error: 3536.1824 - mean_absolute_error: 33.5484 - val_loss: 3780.8059 - val_mean_squared_error: 3780.8059 - val_mean_absolute_error: 34.9071\n",
      "Epoch 857/1000\n",
      "5/5 [==============================] - 0s 9ms/step - loss: 3740.8601 - mean_squared_error: 3740.8601 - mean_absolute_error: 34.4900 - val_loss: 3780.6367 - val_mean_squared_error: 3780.6367 - val_mean_absolute_error: 34.9007\n",
      "Epoch 858/1000\n",
      "5/5 [==============================] - 0s 9ms/step - loss: 3722.1725 - mean_squared_error: 3722.1725 - mean_absolute_error: 34.2274 - val_loss: 3780.3875 - val_mean_squared_error: 3780.3875 - val_mean_absolute_error: 34.8930\n",
      "Epoch 859/1000\n",
      "5/5 [==============================] - 0s 10ms/step - loss: 3712.6285 - mean_squared_error: 3712.6285 - mean_absolute_error: 34.4743 - val_loss: 3780.1951 - val_mean_squared_error: 3780.1951 - val_mean_absolute_error: 34.8864\n",
      "Epoch 860/1000\n",
      "5/5 [==============================] - 0s 9ms/step - loss: 3646.0052 - mean_squared_error: 3646.0052 - mean_absolute_error: 34.3001 - val_loss: 3780.0220 - val_mean_squared_error: 3780.0220 - val_mean_absolute_error: 34.8783\n",
      "Epoch 861/1000\n",
      "5/5 [==============================] - 0s 10ms/step - loss: 3734.6591 - mean_squared_error: 3734.6591 - mean_absolute_error: 34.6125 - val_loss: 3779.8315 - val_mean_squared_error: 3779.8320 - val_mean_absolute_error: 34.8690\n",
      "Epoch 862/1000\n",
      "5/5 [==============================] - 0s 9ms/step - loss: 3561.0934 - mean_squared_error: 3561.0934 - mean_absolute_error: 33.6307 - val_loss: 3779.5833 - val_mean_squared_error: 3779.5830 - val_mean_absolute_error: 34.8623\n",
      "Epoch 863/1000\n",
      "5/5 [==============================] - 0s 9ms/step - loss: 3663.9880 - mean_squared_error: 3663.9880 - mean_absolute_error: 33.7093 - val_loss: 3779.4141 - val_mean_squared_error: 3779.4141 - val_mean_absolute_error: 34.8558\n",
      "Epoch 864/1000\n",
      "5/5 [==============================] - 0s 9ms/step - loss: 3642.6158 - mean_squared_error: 3642.6158 - mean_absolute_error: 34.1847 - val_loss: 3779.2007 - val_mean_squared_error: 3779.2007 - val_mean_absolute_error: 34.8478\n",
      "Epoch 865/1000\n",
      "5/5 [==============================] - 0s 10ms/step - loss: 3682.4018 - mean_squared_error: 3682.4018 - mean_absolute_error: 34.2678 - val_loss: 3779.0532 - val_mean_squared_error: 3779.0532 - val_mean_absolute_error: 34.8398\n",
      "Epoch 866/1000\n",
      "5/5 [==============================] - 0s 9ms/step - loss: 3819.8508 - mean_squared_error: 3819.8508 - mean_absolute_error: 34.6127 - val_loss: 3778.7869 - val_mean_squared_error: 3778.7866 - val_mean_absolute_error: 34.8344\n",
      "Epoch 867/1000\n",
      "5/5 [==============================] - 0s 9ms/step - loss: 3619.7473 - mean_squared_error: 3619.7473 - mean_absolute_error: 33.5694 - val_loss: 3778.6409 - val_mean_squared_error: 3778.6409 - val_mean_absolute_error: 34.8236\n",
      "Epoch 868/1000\n",
      "5/5 [==============================] - 0s 10ms/step - loss: 3649.6472 - mean_squared_error: 3649.6472 - mean_absolute_error: 34.2972 - val_loss: 3778.4563 - val_mean_squared_error: 3778.4563 - val_mean_absolute_error: 34.8147\n",
      "Epoch 869/1000\n",
      "5/5 [==============================] - 0s 9ms/step - loss: 3585.7572 - mean_squared_error: 3585.7572 - mean_absolute_error: 33.9115 - val_loss: 3778.2419 - val_mean_squared_error: 3778.2419 - val_mean_absolute_error: 34.8077\n",
      "Epoch 870/1000\n",
      "5/5 [==============================] - 0s 10ms/step - loss: 3584.3687 - mean_squared_error: 3584.3687 - mean_absolute_error: 33.9983 - val_loss: 3778.0481 - val_mean_squared_error: 3778.0481 - val_mean_absolute_error: 34.7989\n",
      "Epoch 871/1000\n",
      "5/5 [==============================] - 0s 10ms/step - loss: 3835.2793 - mean_squared_error: 3835.2793 - mean_absolute_error: 34.8015 - val_loss: 3777.8315 - val_mean_squared_error: 3777.8315 - val_mean_absolute_error: 34.7956\n",
      "Epoch 872/1000\n",
      "5/5 [==============================] - 0s 9ms/step - loss: 3545.5296 - mean_squared_error: 3545.5296 - mean_absolute_error: 33.7565 - val_loss: 3777.6929 - val_mean_squared_error: 3777.6929 - val_mean_absolute_error: 34.7858\n",
      "Epoch 873/1000\n",
      "5/5 [==============================] - 0s 10ms/step - loss: 3664.2227 - mean_squared_error: 3664.2227 - mean_absolute_error: 34.2958 - val_loss: 3777.4812 - val_mean_squared_error: 3777.4812 - val_mean_absolute_error: 34.7789\n",
      "Epoch 874/1000\n",
      "5/5 [==============================] - 0s 9ms/step - loss: 3647.3335 - mean_squared_error: 3647.3335 - mean_absolute_error: 34.1925 - val_loss: 3777.2471 - val_mean_squared_error: 3777.2471 - val_mean_absolute_error: 34.7714\n",
      "Epoch 875/1000\n",
      "5/5 [==============================] - 0s 10ms/step - loss: 3504.9045 - mean_squared_error: 3504.9045 - mean_absolute_error: 33.2169 - val_loss: 3777.0793 - val_mean_squared_error: 3777.0793 - val_mean_absolute_error: 34.7626\n",
      "Epoch 876/1000\n",
      "5/5 [==============================] - 0s 9ms/step - loss: 3447.5543 - mean_squared_error: 3447.5543 - mean_absolute_error: 33.2512 - val_loss: 3776.8965 - val_mean_squared_error: 3776.8960 - val_mean_absolute_error: 34.7538\n",
      "Epoch 877/1000\n",
      "5/5 [==============================] - 0s 9ms/step - loss: 3703.0983 - mean_squared_error: 3703.0983 - mean_absolute_error: 34.1892 - val_loss: 3776.7058 - val_mean_squared_error: 3776.7063 - val_mean_absolute_error: 34.7492\n",
      "Epoch 878/1000\n",
      "5/5 [==============================] - 0s 9ms/step - loss: 3809.4340 - mean_squared_error: 3809.4340 - mean_absolute_error: 34.8534 - val_loss: 3776.4932 - val_mean_squared_error: 3776.4932 - val_mean_absolute_error: 34.7461\n",
      "Epoch 879/1000\n",
      "5/5 [==============================] - 0s 10ms/step - loss: 3702.7434 - mean_squared_error: 3702.7434 - mean_absolute_error: 33.8795 - val_loss: 3776.2822 - val_mean_squared_error: 3776.2822 - val_mean_absolute_error: 34.7395\n",
      "Epoch 880/1000\n",
      "5/5 [==============================] - 0s 9ms/step - loss: 3647.3094 - mean_squared_error: 3647.3094 - mean_absolute_error: 33.6314 - val_loss: 3776.1418 - val_mean_squared_error: 3776.1418 - val_mean_absolute_error: 34.7301\n",
      "Epoch 881/1000\n",
      "5/5 [==============================] - 0s 10ms/step - loss: 3651.9441 - mean_squared_error: 3651.9441 - mean_absolute_error: 34.0893 - val_loss: 3775.8862 - val_mean_squared_error: 3775.8862 - val_mean_absolute_error: 34.7235\n",
      "Epoch 882/1000\n",
      "5/5 [==============================] - 0s 10ms/step - loss: 3897.6782 - mean_squared_error: 3897.6782 - mean_absolute_error: 34.7562 - val_loss: 3775.7070 - val_mean_squared_error: 3775.7070 - val_mean_absolute_error: 34.7184\n",
      "Epoch 883/1000\n",
      "5/5 [==============================] - 0s 10ms/step - loss: 3589.5767 - mean_squared_error: 3589.5767 - mean_absolute_error: 33.6054 - val_loss: 3775.5408 - val_mean_squared_error: 3775.5408 - val_mean_absolute_error: 34.7083\n",
      "Epoch 884/1000\n",
      "5/5 [==============================] - 0s 10ms/step - loss: 3594.3958 - mean_squared_error: 3594.3958 - mean_absolute_error: 33.9204 - val_loss: 3775.3608 - val_mean_squared_error: 3775.3608 - val_mean_absolute_error: 34.7017\n",
      "Epoch 885/1000\n"
     ]
    },
    {
     "name": "stdout",
     "output_type": "stream",
     "text": [
      "5/5 [==============================] - 0s 10ms/step - loss: 3468.8280 - mean_squared_error: 3468.8280 - mean_absolute_error: 33.3514 - val_loss: 3775.1702 - val_mean_squared_error: 3775.1702 - val_mean_absolute_error: 34.6931\n",
      "Epoch 886/1000\n",
      "5/5 [==============================] - 0s 10ms/step - loss: 3418.4980 - mean_squared_error: 3418.4980 - mean_absolute_error: 33.1382 - val_loss: 3774.9717 - val_mean_squared_error: 3774.9717 - val_mean_absolute_error: 34.6861\n",
      "Epoch 887/1000\n",
      "5/5 [==============================] - 0s 9ms/step - loss: 3639.1029 - mean_squared_error: 3639.1029 - mean_absolute_error: 33.9560 - val_loss: 3774.7651 - val_mean_squared_error: 3774.7646 - val_mean_absolute_error: 34.6847\n",
      "Epoch 888/1000\n",
      "5/5 [==============================] - 0s 9ms/step - loss: 3699.6043 - mean_squared_error: 3699.6043 - mean_absolute_error: 34.0154 - val_loss: 3774.6062 - val_mean_squared_error: 3774.6062 - val_mean_absolute_error: 34.6802\n",
      "Epoch 889/1000\n",
      "5/5 [==============================] - 0s 9ms/step - loss: 3651.5689 - mean_squared_error: 3651.5689 - mean_absolute_error: 33.9591 - val_loss: 3774.3547 - val_mean_squared_error: 3774.3547 - val_mean_absolute_error: 34.6738\n",
      "Epoch 890/1000\n",
      "5/5 [==============================] - 0s 9ms/step - loss: 3581.4156 - mean_squared_error: 3581.4156 - mean_absolute_error: 33.6982 - val_loss: 3774.2207 - val_mean_squared_error: 3774.2207 - val_mean_absolute_error: 34.6623\n",
      "Epoch 891/1000\n",
      "5/5 [==============================] - 0s 10ms/step - loss: 3696.8581 - mean_squared_error: 3696.8581 - mean_absolute_error: 34.2665 - val_loss: 3774.0164 - val_mean_squared_error: 3774.0164 - val_mean_absolute_error: 34.6584\n",
      "Epoch 892/1000\n",
      "5/5 [==============================] - 0s 9ms/step - loss: 3591.0000 - mean_squared_error: 3591.0000 - mean_absolute_error: 33.7788 - val_loss: 3773.8599 - val_mean_squared_error: 3773.8599 - val_mean_absolute_error: 34.6528\n",
      "Epoch 893/1000\n",
      "5/5 [==============================] - 0s 9ms/step - loss: 3850.7760 - mean_squared_error: 3850.7760 - mean_absolute_error: 34.6337 - val_loss: 3773.6099 - val_mean_squared_error: 3773.6099 - val_mean_absolute_error: 34.6502\n",
      "Epoch 894/1000\n",
      "5/5 [==============================] - 0s 10ms/step - loss: 3710.4292 - mean_squared_error: 3710.4292 - mean_absolute_error: 33.7808 - val_loss: 3773.4724 - val_mean_squared_error: 3773.4724 - val_mean_absolute_error: 34.6421\n",
      "Epoch 895/1000\n",
      "5/5 [==============================] - 0s 9ms/step - loss: 3394.5856 - mean_squared_error: 3394.5856 - mean_absolute_error: 33.1747 - val_loss: 3773.2544 - val_mean_squared_error: 3773.2544 - val_mean_absolute_error: 34.6352\n",
      "Epoch 896/1000\n",
      "5/5 [==============================] - 0s 9ms/step - loss: 3633.9602 - mean_squared_error: 3633.9602 - mean_absolute_error: 33.9002 - val_loss: 3773.1187 - val_mean_squared_error: 3773.1187 - val_mean_absolute_error: 34.6281\n",
      "Epoch 897/1000\n",
      "5/5 [==============================] - 0s 9ms/step - loss: 3363.8667 - mean_squared_error: 3363.8667 - mean_absolute_error: 32.6925 - val_loss: 3772.8704 - val_mean_squared_error: 3772.8704 - val_mean_absolute_error: 34.6228\n",
      "Epoch 898/1000\n",
      "5/5 [==============================] - 0s 9ms/step - loss: 3529.0986 - mean_squared_error: 3529.0986 - mean_absolute_error: 33.4692 - val_loss: 3772.7383 - val_mean_squared_error: 3772.7383 - val_mean_absolute_error: 34.6161\n",
      "Epoch 899/1000\n",
      "5/5 [==============================] - 0s 9ms/step - loss: 3586.4116 - mean_squared_error: 3586.4116 - mean_absolute_error: 33.8555 - val_loss: 3772.5193 - val_mean_squared_error: 3772.5193 - val_mean_absolute_error: 34.6110\n",
      "Epoch 900/1000\n",
      "5/5 [==============================] - 0s 9ms/step - loss: 3477.7114 - mean_squared_error: 3477.7114 - mean_absolute_error: 33.3650 - val_loss: 3772.3848 - val_mean_squared_error: 3772.3848 - val_mean_absolute_error: 34.6018\n",
      "Epoch 901/1000\n",
      "5/5 [==============================] - 0s 9ms/step - loss: 3663.6392 - mean_squared_error: 3663.6392 - mean_absolute_error: 33.8431 - val_loss: 3772.1436 - val_mean_squared_error: 3772.1436 - val_mean_absolute_error: 34.5978\n",
      "Epoch 902/1000\n",
      "5/5 [==============================] - 0s 9ms/step - loss: 3521.9989 - mean_squared_error: 3521.9989 - mean_absolute_error: 33.4563 - val_loss: 3772.0090 - val_mean_squared_error: 3772.0090 - val_mean_absolute_error: 34.5898\n",
      "Epoch 903/1000\n",
      "5/5 [==============================] - 0s 10ms/step - loss: 3471.5855 - mean_squared_error: 3471.5855 - mean_absolute_error: 32.8727 - val_loss: 3771.8135 - val_mean_squared_error: 3771.8135 - val_mean_absolute_error: 34.5833\n",
      "Epoch 904/1000\n",
      "5/5 [==============================] - 0s 10ms/step - loss: 3606.8082 - mean_squared_error: 3606.8082 - mean_absolute_error: 33.8840 - val_loss: 3771.6165 - val_mean_squared_error: 3771.6165 - val_mean_absolute_error: 34.5764\n",
      "Epoch 905/1000\n",
      "5/5 [==============================] - 0s 11ms/step - loss: 3611.6664 - mean_squared_error: 3611.6664 - mean_absolute_error: 33.7055 - val_loss: 3771.4402 - val_mean_squared_error: 3771.4402 - val_mean_absolute_error: 34.5709\n",
      "Epoch 906/1000\n",
      "5/5 [==============================] - 0s 10ms/step - loss: 3590.1043 - mean_squared_error: 3590.1043 - mean_absolute_error: 33.8057 - val_loss: 3771.2925 - val_mean_squared_error: 3771.2925 - val_mean_absolute_error: 34.5604\n",
      "Epoch 907/1000\n",
      "5/5 [==============================] - 0s 9ms/step - loss: 3757.2571 - mean_squared_error: 3757.2571 - mean_absolute_error: 34.4008 - val_loss: 3771.1160 - val_mean_squared_error: 3771.1160 - val_mean_absolute_error: 34.5531\n",
      "Epoch 908/1000\n",
      "5/5 [==============================] - 0s 9ms/step - loss: 3762.2194 - mean_squared_error: 3762.2194 - mean_absolute_error: 33.9448 - val_loss: 3770.9673 - val_mean_squared_error: 3770.9673 - val_mean_absolute_error: 34.5440\n",
      "Epoch 909/1000\n",
      "5/5 [==============================] - 0s 9ms/step - loss: 3520.1582 - mean_squared_error: 3520.1582 - mean_absolute_error: 33.1830 - val_loss: 3770.7295 - val_mean_squared_error: 3770.7290 - val_mean_absolute_error: 34.5398\n",
      "Epoch 910/1000\n",
      "5/5 [==============================] - 0s 9ms/step - loss: 3497.7650 - mean_squared_error: 3497.7650 - mean_absolute_error: 33.4753 - val_loss: 3770.5769 - val_mean_squared_error: 3770.5769 - val_mean_absolute_error: 34.5299\n",
      "Epoch 911/1000\n",
      "5/5 [==============================] - 0s 9ms/step - loss: 3572.4181 - mean_squared_error: 3572.4181 - mean_absolute_error: 33.6054 - val_loss: 3770.4502 - val_mean_squared_error: 3770.4502 - val_mean_absolute_error: 34.5210\n",
      "Epoch 912/1000\n",
      "5/5 [==============================] - 0s 9ms/step - loss: 3726.6602 - mean_squared_error: 3726.6602 - mean_absolute_error: 34.0774 - val_loss: 3770.2380 - val_mean_squared_error: 3770.2383 - val_mean_absolute_error: 34.5172\n",
      "Epoch 913/1000\n",
      "5/5 [==============================] - 0s 10ms/step - loss: 3596.9362 - mean_squared_error: 3596.9362 - mean_absolute_error: 33.6517 - val_loss: 3770.0464 - val_mean_squared_error: 3770.0464 - val_mean_absolute_error: 34.5107\n",
      "Epoch 914/1000\n",
      "5/5 [==============================] - 0s 10ms/step - loss: 3663.3746 - mean_squared_error: 3663.3746 - mean_absolute_error: 33.8233 - val_loss: 3769.8760 - val_mean_squared_error: 3769.8760 - val_mean_absolute_error: 34.5049\n",
      "Epoch 915/1000\n",
      "5/5 [==============================] - 0s 10ms/step - loss: 3636.1208 - mean_squared_error: 3636.1208 - mean_absolute_error: 33.4248 - val_loss: 3769.7466 - val_mean_squared_error: 3769.7466 - val_mean_absolute_error: 34.4948\n",
      "Epoch 916/1000\n",
      "5/5 [==============================] - 0s 9ms/step - loss: 3680.4680 - mean_squared_error: 3680.4680 - mean_absolute_error: 33.5116 - val_loss: 3769.5583 - val_mean_squared_error: 3769.5583 - val_mean_absolute_error: 34.4883\n",
      "Epoch 917/1000\n",
      "5/5 [==============================] - 0s 10ms/step - loss: 3505.5510 - mean_squared_error: 3505.5510 - mean_absolute_error: 33.4129 - val_loss: 3769.3682 - val_mean_squared_error: 3769.3682 - val_mean_absolute_error: 34.4807\n",
      "Epoch 918/1000\n",
      "5/5 [==============================] - 0s 10ms/step - loss: 3719.5398 - mean_squared_error: 3719.5398 - mean_absolute_error: 34.0127 - val_loss: 3769.2161 - val_mean_squared_error: 3769.2161 - val_mean_absolute_error: 34.4730\n",
      "Epoch 919/1000\n",
      "5/5 [==============================] - 0s 9ms/step - loss: 3536.6869 - mean_squared_error: 3536.6869 - mean_absolute_error: 33.4929 - val_loss: 3769.0537 - val_mean_squared_error: 3769.0537 - val_mean_absolute_error: 34.4649\n",
      "Epoch 920/1000\n",
      "5/5 [==============================] - 0s 10ms/step - loss: 3650.0763 - mean_squared_error: 3650.0763 - mean_absolute_error: 33.6207 - val_loss: 3768.8806 - val_mean_squared_error: 3768.8806 - val_mean_absolute_error: 34.4582\n",
      "Epoch 921/1000\n",
      "5/5 [==============================] - 0s 10ms/step - loss: 3618.4232 - mean_squared_error: 3618.4232 - mean_absolute_error: 33.6307 - val_loss: 3768.6958 - val_mean_squared_error: 3768.6958 - val_mean_absolute_error: 34.4503\n",
      "Epoch 922/1000\n",
      "5/5 [==============================] - 0s 9ms/step - loss: 3577.5188 - mean_squared_error: 3577.5191 - mean_absolute_error: 33.3101 - val_loss: 3768.5090 - val_mean_squared_error: 3768.5095 - val_mean_absolute_error: 34.4444\n",
      "Epoch 923/1000\n",
      "5/5 [==============================] - 0s 9ms/step - loss: 3575.6039 - mean_squared_error: 3575.6039 - mean_absolute_error: 33.4916 - val_loss: 3768.3813 - val_mean_squared_error: 3768.3813 - val_mean_absolute_error: 34.4362\n",
      "Epoch 924/1000\n",
      "5/5 [==============================] - 0s 10ms/step - loss: 3653.2684 - mean_squared_error: 3653.2684 - mean_absolute_error: 33.3600 - val_loss: 3768.2190 - val_mean_squared_error: 3768.2195 - val_mean_absolute_error: 34.4293\n",
      "Epoch 925/1000\n",
      "5/5 [==============================] - 0s 10ms/step - loss: 3601.8778 - mean_squared_error: 3601.8778 - mean_absolute_error: 33.3444 - val_loss: 3768.0095 - val_mean_squared_error: 3768.0095 - val_mean_absolute_error: 34.4208\n",
      "Epoch 926/1000\n",
      "5/5 [==============================] - 0s 10ms/step - loss: 3386.6001 - mean_squared_error: 3386.6001 - mean_absolute_error: 32.5538 - val_loss: 3767.8677 - val_mean_squared_error: 3767.8677 - val_mean_absolute_error: 34.4133\n",
      "Epoch 927/1000\n",
      "5/5 [==============================] - 0s 10ms/step - loss: 3714.0890 - mean_squared_error: 3714.0890 - mean_absolute_error: 33.9880 - val_loss: 3767.6992 - val_mean_squared_error: 3767.6992 - val_mean_absolute_error: 34.4065\n",
      "Epoch 928/1000\n",
      "5/5 [==============================] - 0s 9ms/step - loss: 3547.1902 - mean_squared_error: 3547.1902 - mean_absolute_error: 33.1552 - val_loss: 3767.5571 - val_mean_squared_error: 3767.5571 - val_mean_absolute_error: 34.4002\n",
      "Epoch 929/1000\n",
      "5/5 [==============================] - 0s 9ms/step - loss: 3472.5086 - mean_squared_error: 3472.5086 - mean_absolute_error: 32.6995 - val_loss: 3767.3496 - val_mean_squared_error: 3767.3496 - val_mean_absolute_error: 34.3917\n",
      "Epoch 930/1000\n",
      "5/5 [==============================] - 0s 9ms/step - loss: 3571.2896 - mean_squared_error: 3571.2896 - mean_absolute_error: 33.2926 - val_loss: 3767.2251 - val_mean_squared_error: 3767.2251 - val_mean_absolute_error: 34.3809\n",
      "Epoch 931/1000\n",
      "5/5 [==============================] - 0s 10ms/step - loss: 3697.4202 - mean_squared_error: 3697.4202 - mean_absolute_error: 33.9051 - val_loss: 3767.0430 - val_mean_squared_error: 3767.0430 - val_mean_absolute_error: 34.3750\n",
      "Epoch 932/1000\n",
      "5/5 [==============================] - 0s 9ms/step - loss: 3641.9949 - mean_squared_error: 3641.9949 - mean_absolute_error: 33.3391 - val_loss: 3766.8835 - val_mean_squared_error: 3766.8835 - val_mean_absolute_error: 34.3688\n",
      "Epoch 933/1000\n",
      "5/5 [==============================] - 0s 9ms/step - loss: 3674.6878 - mean_squared_error: 3674.6878 - mean_absolute_error: 33.9786 - val_loss: 3766.7634 - val_mean_squared_error: 3766.7634 - val_mean_absolute_error: 34.3579\n",
      "Epoch 934/1000\n",
      "5/5 [==============================] - 0s 10ms/step - loss: 3526.2924 - mean_squared_error: 3526.2924 - mean_absolute_error: 33.1479 - val_loss: 3766.5361 - val_mean_squared_error: 3766.5361 - val_mean_absolute_error: 34.3539\n",
      "Epoch 935/1000\n",
      "5/5 [==============================] - 0s 10ms/step - loss: 3734.8405 - mean_squared_error: 3734.8405 - mean_absolute_error: 34.0398 - val_loss: 3766.3943 - val_mean_squared_error: 3766.3943 - val_mean_absolute_error: 34.3489\n",
      "Epoch 936/1000\n",
      "5/5 [==============================] - 0s 9ms/step - loss: 3674.1181 - mean_squared_error: 3674.1181 - mean_absolute_error: 33.6141 - val_loss: 3766.2273 - val_mean_squared_error: 3766.2273 - val_mean_absolute_error: 34.3444\n",
      "Epoch 937/1000\n",
      "5/5 [==============================] - 0s 9ms/step - loss: 3544.4493 - mean_squared_error: 3544.4493 - mean_absolute_error: 33.2678 - val_loss: 3766.0713 - val_mean_squared_error: 3766.0713 - val_mean_absolute_error: 34.3362\n",
      "Epoch 938/1000\n",
      "5/5 [==============================] - 0s 9ms/step - loss: 3655.5635 - mean_squared_error: 3655.5635 - mean_absolute_error: 33.6992 - val_loss: 3765.8811 - val_mean_squared_error: 3765.8811 - val_mean_absolute_error: 34.3320\n",
      "Epoch 939/1000\n",
      "5/5 [==============================] - 0s 10ms/step - loss: 3670.9786 - mean_squared_error: 3670.9786 - mean_absolute_error: 33.5864 - val_loss: 3765.7273 - val_mean_squared_error: 3765.7273 - val_mean_absolute_error: 34.3279\n",
      "Epoch 940/1000\n",
      "5/5 [==============================] - 0s 9ms/step - loss: 3501.9781 - mean_squared_error: 3501.9781 - mean_absolute_error: 32.7472 - val_loss: 3765.5457 - val_mean_squared_error: 3765.5457 - val_mean_absolute_error: 34.3196\n",
      "Epoch 941/1000\n",
      "5/5 [==============================] - 0s 10ms/step - loss: 3690.1457 - mean_squared_error: 3690.1457 - mean_absolute_error: 33.6832 - val_loss: 3765.3433 - val_mean_squared_error: 3765.3433 - val_mean_absolute_error: 34.3201\n",
      "Epoch 942/1000\n",
      "5/5 [==============================] - 0s 10ms/step - loss: 3715.7085 - mean_squared_error: 3715.7085 - mean_absolute_error: 33.8581 - val_loss: 3765.2080 - val_mean_squared_error: 3765.2080 - val_mean_absolute_error: 34.3113\n",
      "Epoch 943/1000\n",
      "5/5 [==============================] - 0s 9ms/step - loss: 3663.1380 - mean_squared_error: 3663.1380 - mean_absolute_error: 33.6042 - val_loss: 3765.0532 - val_mean_squared_error: 3765.0532 - val_mean_absolute_error: 34.3066\n",
      "Epoch 944/1000\n",
      "5/5 [==============================] - 0s 9ms/step - loss: 3588.0718 - mean_squared_error: 3588.0718 - mean_absolute_error: 33.5094 - val_loss: 3764.9260 - val_mean_squared_error: 3764.9260 - val_mean_absolute_error: 34.2955\n",
      "Epoch 945/1000\n",
      "5/5 [==============================] - 0s 9ms/step - loss: 3424.3038 - mean_squared_error: 3424.3038 - mean_absolute_error: 32.6357 - val_loss: 3764.7573 - val_mean_squared_error: 3764.7573 - val_mean_absolute_error: 34.2887\n",
      "Epoch 946/1000\n",
      "5/5 [==============================] - 0s 9ms/step - loss: 3552.4717 - mean_squared_error: 3552.4717 - mean_absolute_error: 33.2314 - val_loss: 3764.5920 - val_mean_squared_error: 3764.5920 - val_mean_absolute_error: 34.2817\n",
      "Epoch 947/1000\n",
      "5/5 [==============================] - 0s 10ms/step - loss: 3608.3883 - mean_squared_error: 3608.3883 - mean_absolute_error: 33.5550 - val_loss: 3764.4224 - val_mean_squared_error: 3764.4224 - val_mean_absolute_error: 34.2748\n",
      "Epoch 948/1000\n",
      "5/5 [==============================] - 0s 9ms/step - loss: 3442.9896 - mean_squared_error: 3442.9896 - mean_absolute_error: 32.6416 - val_loss: 3764.2659 - val_mean_squared_error: 3764.2659 - val_mean_absolute_error: 34.2666\n",
      "Epoch 949/1000\n",
      "5/5 [==============================] - 0s 10ms/step - loss: 3462.8805 - mean_squared_error: 3462.8805 - mean_absolute_error: 32.8548 - val_loss: 3764.1301 - val_mean_squared_error: 3764.1301 - val_mean_absolute_error: 34.2594\n",
      "Epoch 950/1000\n",
      "5/5 [==============================] - 0s 9ms/step - loss: 3610.4237 - mean_squared_error: 3610.4237 - mean_absolute_error: 33.2485 - val_loss: 3763.9331 - val_mean_squared_error: 3763.9331 - val_mean_absolute_error: 34.2556\n",
      "Epoch 951/1000\n",
      "5/5 [==============================] - 0s 10ms/step - loss: 3669.1800 - mean_squared_error: 3669.1800 - mean_absolute_error: 33.3696 - val_loss: 3763.7852 - val_mean_squared_error: 3763.7852 - val_mean_absolute_error: 34.2498\n",
      "Epoch 952/1000\n",
      "5/5 [==============================] - 0s 9ms/step - loss: 3563.8142 - mean_squared_error: 3563.8142 - mean_absolute_error: 33.2368 - val_loss: 3763.6641 - val_mean_squared_error: 3763.6636 - val_mean_absolute_error: 34.2423\n",
      "Epoch 953/1000\n"
     ]
    },
    {
     "name": "stdout",
     "output_type": "stream",
     "text": [
      "5/5 [==============================] - 0s 9ms/step - loss: 3622.5367 - mean_squared_error: 3622.5367 - mean_absolute_error: 33.3120 - val_loss: 3763.4780 - val_mean_squared_error: 3763.4780 - val_mean_absolute_error: 34.2356\n",
      "Epoch 954/1000\n",
      "5/5 [==============================] - 0s 10ms/step - loss: 3465.7149 - mean_squared_error: 3465.7149 - mean_absolute_error: 32.5995 - val_loss: 3763.3394 - val_mean_squared_error: 3763.3394 - val_mean_absolute_error: 34.2257\n",
      "Epoch 955/1000\n",
      "5/5 [==============================] - 0s 10ms/step - loss: 3569.8715 - mean_squared_error: 3569.8715 - mean_absolute_error: 32.8288 - val_loss: 3763.1685 - val_mean_squared_error: 3763.1685 - val_mean_absolute_error: 34.2224\n",
      "Epoch 956/1000\n",
      "5/5 [==============================] - 0s 10ms/step - loss: 3944.8995 - mean_squared_error: 3944.8995 - mean_absolute_error: 34.3746 - val_loss: 3763.0369 - val_mean_squared_error: 3763.0369 - val_mean_absolute_error: 34.2154\n",
      "Epoch 957/1000\n",
      "5/5 [==============================] - 0s 10ms/step - loss: 3557.5335 - mean_squared_error: 3557.5335 - mean_absolute_error: 32.7696 - val_loss: 3762.8982 - val_mean_squared_error: 3762.8982 - val_mean_absolute_error: 34.2073\n",
      "Epoch 958/1000\n",
      "5/5 [==============================] - 0s 9ms/step - loss: 3573.0815 - mean_squared_error: 3573.0815 - mean_absolute_error: 33.2111 - val_loss: 3762.7346 - val_mean_squared_error: 3762.7346 - val_mean_absolute_error: 34.1975\n",
      "Epoch 959/1000\n",
      "5/5 [==============================] - 0s 9ms/step - loss: 3592.6787 - mean_squared_error: 3592.6787 - mean_absolute_error: 32.8122 - val_loss: 3762.5933 - val_mean_squared_error: 3762.5933 - val_mean_absolute_error: 34.1873\n",
      "Epoch 960/1000\n",
      "5/5 [==============================] - 0s 9ms/step - loss: 3739.5405 - mean_squared_error: 3739.5405 - mean_absolute_error: 33.8355 - val_loss: 3762.4275 - val_mean_squared_error: 3762.4275 - val_mean_absolute_error: 34.1786\n",
      "Epoch 961/1000\n",
      "5/5 [==============================] - 0s 9ms/step - loss: 3587.2380 - mean_squared_error: 3587.2380 - mean_absolute_error: 33.3171 - val_loss: 3762.3123 - val_mean_squared_error: 3762.3123 - val_mean_absolute_error: 34.1699\n",
      "Epoch 962/1000\n",
      "5/5 [==============================] - 0s 9ms/step - loss: 3651.6381 - mean_squared_error: 3651.6381 - mean_absolute_error: 33.3561 - val_loss: 3762.1611 - val_mean_squared_error: 3762.1611 - val_mean_absolute_error: 34.1641\n",
      "Epoch 963/1000\n",
      "5/5 [==============================] - 0s 9ms/step - loss: 3591.1568 - mean_squared_error: 3591.1568 - mean_absolute_error: 33.0911 - val_loss: 3762.0334 - val_mean_squared_error: 3762.0334 - val_mean_absolute_error: 34.1524\n",
      "Epoch 964/1000\n",
      "5/5 [==============================] - 0s 9ms/step - loss: 3528.6550 - mean_squared_error: 3528.6550 - mean_absolute_error: 32.6563 - val_loss: 3761.8625 - val_mean_squared_error: 3761.8625 - val_mean_absolute_error: 34.1458\n",
      "Epoch 965/1000\n",
      "5/5 [==============================] - 0s 10ms/step - loss: 3496.6762 - mean_squared_error: 3496.6762 - mean_absolute_error: 33.3801 - val_loss: 3761.7144 - val_mean_squared_error: 3761.7144 - val_mean_absolute_error: 34.1369\n",
      "Epoch 966/1000\n",
      "5/5 [==============================] - 0s 10ms/step - loss: 3651.5022 - mean_squared_error: 3651.5022 - mean_absolute_error: 33.0751 - val_loss: 3761.5825 - val_mean_squared_error: 3761.5825 - val_mean_absolute_error: 34.1319\n",
      "Epoch 967/1000\n",
      "5/5 [==============================] - 0s 9ms/step - loss: 3704.2049 - mean_squared_error: 3704.2049 - mean_absolute_error: 33.5923 - val_loss: 3761.4187 - val_mean_squared_error: 3761.4192 - val_mean_absolute_error: 34.1282\n",
      "Epoch 968/1000\n",
      "5/5 [==============================] - 0s 9ms/step - loss: 3604.6912 - mean_squared_error: 3604.6912 - mean_absolute_error: 32.9163 - val_loss: 3761.2703 - val_mean_squared_error: 3761.2703 - val_mean_absolute_error: 34.1181\n",
      "Epoch 969/1000\n",
      "5/5 [==============================] - 0s 9ms/step - loss: 3548.9341 - mean_squared_error: 3548.9341 - mean_absolute_error: 33.0491 - val_loss: 3761.1421 - val_mean_squared_error: 3761.1421 - val_mean_absolute_error: 34.1110\n",
      "Epoch 970/1000\n",
      "5/5 [==============================] - 0s 9ms/step - loss: 3532.8673 - mean_squared_error: 3532.8673 - mean_absolute_error: 32.6560 - val_loss: 3760.9778 - val_mean_squared_error: 3760.9778 - val_mean_absolute_error: 34.1045\n",
      "Epoch 971/1000\n",
      "5/5 [==============================] - 0s 10ms/step - loss: 3605.1883 - mean_squared_error: 3605.1883 - mean_absolute_error: 33.1746 - val_loss: 3760.8682 - val_mean_squared_error: 3760.8682 - val_mean_absolute_error: 34.0950\n",
      "Epoch 972/1000\n",
      "5/5 [==============================] - 0s 9ms/step - loss: 3704.3337 - mean_squared_error: 3704.3337 - mean_absolute_error: 33.5046 - val_loss: 3760.7278 - val_mean_squared_error: 3760.7278 - val_mean_absolute_error: 34.0843\n",
      "Epoch 973/1000\n",
      "5/5 [==============================] - 0s 9ms/step - loss: 3633.2481 - mean_squared_error: 3633.2481 - mean_absolute_error: 33.2687 - val_loss: 3760.5610 - val_mean_squared_error: 3760.5610 - val_mean_absolute_error: 34.0776\n",
      "Epoch 974/1000\n",
      "5/5 [==============================] - 0s 9ms/step - loss: 3627.7419 - mean_squared_error: 3627.7419 - mean_absolute_error: 33.0978 - val_loss: 3760.4543 - val_mean_squared_error: 3760.4543 - val_mean_absolute_error: 34.0705\n",
      "Epoch 975/1000\n",
      "5/5 [==============================] - 0s 10ms/step - loss: 3656.0662 - mean_squared_error: 3656.0662 - mean_absolute_error: 33.4952 - val_loss: 3760.2913 - val_mean_squared_error: 3760.2913 - val_mean_absolute_error: 34.0623\n",
      "Epoch 976/1000\n",
      "5/5 [==============================] - 0s 10ms/step - loss: 3655.2757 - mean_squared_error: 3655.2757 - mean_absolute_error: 33.1663 - val_loss: 3760.1670 - val_mean_squared_error: 3760.1670 - val_mean_absolute_error: 34.0555\n",
      "Epoch 977/1000\n",
      "5/5 [==============================] - 0s 9ms/step - loss: 3672.0385 - mean_squared_error: 3672.0385 - mean_absolute_error: 33.0998 - val_loss: 3759.9819 - val_mean_squared_error: 3759.9819 - val_mean_absolute_error: 34.0524\n",
      "Epoch 978/1000\n",
      "5/5 [==============================] - 0s 10ms/step - loss: 3504.7315 - mean_squared_error: 3504.7315 - mean_absolute_error: 32.7894 - val_loss: 3759.8574 - val_mean_squared_error: 3759.8574 - val_mean_absolute_error: 34.0442\n",
      "Epoch 979/1000\n",
      "5/5 [==============================] - 0s 10ms/step - loss: 3695.6749 - mean_squared_error: 3695.6749 - mean_absolute_error: 33.8234 - val_loss: 3759.7114 - val_mean_squared_error: 3759.7117 - val_mean_absolute_error: 34.0411\n",
      "Epoch 980/1000\n",
      "5/5 [==============================] - 0s 9ms/step - loss: 3511.1339 - mean_squared_error: 3511.1339 - mean_absolute_error: 32.5406 - val_loss: 3759.5718 - val_mean_squared_error: 3759.5723 - val_mean_absolute_error: 34.0351\n",
      "Epoch 981/1000\n",
      "5/5 [==============================] - 0s 10ms/step - loss: 3651.4069 - mean_squared_error: 3651.4069 - mean_absolute_error: 33.2198 - val_loss: 3759.4294 - val_mean_squared_error: 3759.4294 - val_mean_absolute_error: 34.0287\n",
      "Epoch 982/1000\n",
      "5/5 [==============================] - 0s 10ms/step - loss: 3764.1140 - mean_squared_error: 3764.1140 - mean_absolute_error: 33.9227 - val_loss: 3759.2698 - val_mean_squared_error: 3759.2693 - val_mean_absolute_error: 34.0219\n",
      "Epoch 983/1000\n",
      "5/5 [==============================] - 0s 9ms/step - loss: 3616.4345 - mean_squared_error: 3616.4345 - mean_absolute_error: 33.0015 - val_loss: 3759.1616 - val_mean_squared_error: 3759.1616 - val_mean_absolute_error: 34.0120\n",
      "Epoch 984/1000\n",
      "5/5 [==============================] - 0s 9ms/step - loss: 3572.8177 - mean_squared_error: 3572.8177 - mean_absolute_error: 32.7992 - val_loss: 3759.0271 - val_mean_squared_error: 3759.0266 - val_mean_absolute_error: 34.0029\n",
      "Epoch 985/1000\n",
      "5/5 [==============================] - 0s 10ms/step - loss: 3602.1192 - mean_squared_error: 3602.1192 - mean_absolute_error: 33.0848 - val_loss: 3758.9033 - val_mean_squared_error: 3758.9033 - val_mean_absolute_error: 33.9956\n",
      "Epoch 986/1000\n",
      "5/5 [==============================] - 0s 10ms/step - loss: 3650.8702 - mean_squared_error: 3650.8702 - mean_absolute_error: 33.2042 - val_loss: 3758.7239 - val_mean_squared_error: 3758.7241 - val_mean_absolute_error: 33.9907\n",
      "Epoch 987/1000\n",
      "5/5 [==============================] - 0s 10ms/step - loss: 3646.5256 - mean_squared_error: 3646.5256 - mean_absolute_error: 33.2933 - val_loss: 3758.5867 - val_mean_squared_error: 3758.5867 - val_mean_absolute_error: 33.9841\n",
      "Epoch 988/1000\n",
      "5/5 [==============================] - 0s 10ms/step - loss: 3538.1904 - mean_squared_error: 3538.1904 - mean_absolute_error: 32.8203 - val_loss: 3758.4666 - val_mean_squared_error: 3758.4661 - val_mean_absolute_error: 33.9773\n",
      "Epoch 989/1000\n",
      "5/5 [==============================] - 0s 9ms/step - loss: 3666.2280 - mean_squared_error: 3666.2280 - mean_absolute_error: 33.3084 - val_loss: 3758.3252 - val_mean_squared_error: 3758.3252 - val_mean_absolute_error: 33.9705\n",
      "Epoch 990/1000\n",
      "5/5 [==============================] - 0s 10ms/step - loss: 3675.2703 - mean_squared_error: 3675.2703 - mean_absolute_error: 33.5980 - val_loss: 3758.2026 - val_mean_squared_error: 3758.2026 - val_mean_absolute_error: 33.9654\n",
      "Epoch 991/1000\n",
      "5/5 [==============================] - 0s 9ms/step - loss: 3543.0668 - mean_squared_error: 3543.0668 - mean_absolute_error: 32.7961 - val_loss: 3758.0476 - val_mean_squared_error: 3758.0476 - val_mean_absolute_error: 33.9549\n",
      "Epoch 992/1000\n",
      "5/5 [==============================] - 0s 9ms/step - loss: 3533.3823 - mean_squared_error: 3533.3823 - mean_absolute_error: 32.8002 - val_loss: 3757.9253 - val_mean_squared_error: 3757.9253 - val_mean_absolute_error: 33.9495\n",
      "Epoch 993/1000\n",
      "5/5 [==============================] - 0s 9ms/step - loss: 3717.5563 - mean_squared_error: 3717.5563 - mean_absolute_error: 33.3271 - val_loss: 3757.7920 - val_mean_squared_error: 3757.7920 - val_mean_absolute_error: 33.9443\n",
      "Epoch 994/1000\n",
      "5/5 [==============================] - 0s 10ms/step - loss: 3517.3502 - mean_squared_error: 3517.3502 - mean_absolute_error: 32.3118 - val_loss: 3757.6521 - val_mean_squared_error: 3757.6521 - val_mean_absolute_error: 33.9403\n",
      "Epoch 995/1000\n",
      "5/5 [==============================] - 0s 9ms/step - loss: 3564.7327 - mean_squared_error: 3564.7327 - mean_absolute_error: 32.5350 - val_loss: 3757.4819 - val_mean_squared_error: 3757.4819 - val_mean_absolute_error: 33.9382\n",
      "Epoch 996/1000\n",
      "5/5 [==============================] - 0s 9ms/step - loss: 3742.1755 - mean_squared_error: 3742.1755 - mean_absolute_error: 33.2423 - val_loss: 3757.3433 - val_mean_squared_error: 3757.3433 - val_mean_absolute_error: 33.9346\n",
      "Epoch 997/1000\n",
      "5/5 [==============================] - 0s 9ms/step - loss: 3713.8469 - mean_squared_error: 3713.8469 - mean_absolute_error: 33.4972 - val_loss: 3757.2258 - val_mean_squared_error: 3757.2258 - val_mean_absolute_error: 33.9279\n",
      "Epoch 998/1000\n",
      "5/5 [==============================] - 0s 9ms/step - loss: 3601.1509 - mean_squared_error: 3601.1509 - mean_absolute_error: 33.0461 - val_loss: 3757.0884 - val_mean_squared_error: 3757.0881 - val_mean_absolute_error: 33.9207\n",
      "Epoch 999/1000\n",
      "5/5 [==============================] - 0s 10ms/step - loss: 3504.4698 - mean_squared_error: 3504.4698 - mean_absolute_error: 32.5503 - val_loss: 3756.9741 - val_mean_squared_error: 3756.9741 - val_mean_absolute_error: 33.9128\n",
      "Epoch 1000/1000\n",
      "5/5 [==============================] - 0s 10ms/step - loss: 3542.3754 - mean_squared_error: 3542.3754 - mean_absolute_error: 33.2498 - val_loss: 3756.8179 - val_mean_squared_error: 3756.8174 - val_mean_absolute_error: 33.9063\n"
     ]
    }
   ],
   "source": [
    "# This returns a tensor\n",
    "inputs = Input(shape=(X_train.shape[1],))\n",
    "\n",
    "# a layer instance is callable on a tensor, and returns a tensor\n",
    "x = Dense(20, activation='relu', kernel_regularizer=regularizers.l1_l2(l1=1e-5, l2=1e-4))(inputs)\n",
    "x = Dense(10, activation='relu')(inputs)\n",
    "x = Dropout(.2)(inputs)\n",
    "x = Dense(5, activation='relu')(inputs)\n",
    "predictions = Dense(1, activation='linear')(x)\n",
    "\n",
    "# This creates a model that includes\n",
    "# the Input layer and three Dense layers\n",
    "nn_model = Model(inputs=inputs, outputs=predictions)\n",
    "\n",
    "nn_model.compile(optimizer='adam',\n",
    "              loss='mean_squared_error',\n",
    "              metrics=['mean_squared_error', 'mean_absolute_error'])\n",
    "\n",
    "callback = EarlyStopping(monitor='loss', patience=3)\n",
    "\n",
    "history = nn_model.fit(X_train, y_train,\n",
    "              batch_size=1000,\n",
    "              epochs=1000,\n",
    "              verbose=1,\n",
    "              validation_data=(X_val, y_val),\n",
    "              callbacks=[callback])  # starts training"
   ]
  },
  {
   "cell_type": "code",
   "execution_count": 95,
   "metadata": {
    "run_control": {
     "marked": false
    },
    "scrolled": false
   },
   "outputs": [
    {
     "data": {
      "image/png": "[encoded data removed]",
      "text/plain": [
       "<Figure size 432x288 with 1 Axes>"
      ]
     },
     "metadata": {
      "needs_background": "light"
     },
     "output_type": "display_data"
    }
   ],
   "source": [
    "plt.plot(history.history[\"loss\"], label=\"Training Loss\")\n",
    "plt.plot(history.history[\"val_loss\"], label=\"Validation Loss\")\n",
    "plt.legend()\n",
    "plt.show()"
   ]
  },
  {
   "cell_type": "code",
   "execution_count": 96,
   "metadata": {
    "scrolled": true
   },
   "outputs": [
    {
     "name": "stdout",
     "output_type": "stream",
     "text": [
      "MAE:  32.95378106186409\n",
      "MSE:  3593.0673599645147\n",
      "R2:  0.474827603481776\n"
     ]
    }
   ],
   "source": [
    "eval_model(X_train, y_train, nn_model)"
   ]
  },
  {
   "cell_type": "code",
   "execution_count": 97,
   "metadata": {},
   "outputs": [
    {
     "name": "stdout",
     "output_type": "stream",
     "text": [
      "MAE:  33.90629041666083\n",
      "MSE:  3756.817427058938\n",
      "R2:  0.46300613779766275\n"
     ]
    }
   ],
   "source": [
    "eval_model(X_val, y_val, nn_model)"
   ]
  },
  {
   "cell_type": "code",
   "execution_count": 98,
   "metadata": {},
   "outputs": [
    {
     "name": "stdout",
     "output_type": "stream",
     "text": [
      "MAE:  33.5892600503611\n",
      "MSE:  3788.5789266217794\n",
      "R2:  0.4646894432364751\n"
     ]
    }
   ],
   "source": [
    "eval_model(X_test, y_test, nn_model)"
   ]
  },
  {
   "cell_type": "markdown",
   "metadata": {},
   "source": [
    "The model does not over or underfit but has a worse performance than the MLP Regressor, thus we use the MLP Regressor to fill in the missing values"
   ]
  },
  {
   "cell_type": "code",
   "execution_count": 99,
   "metadata": {},
   "outputs": [],
   "source": [
    "best_model = mlp"
   ]
  },
  {
   "cell_type": "markdown",
   "metadata": {},
   "source": [
    "# Filling in missing values\n",
    "\n",
    "We now fill in the missing values of snow using the MLPRegressor model.\n",
    "\n",
    "To ensure that the new values make sense, a short analysis will be done on the descriptive statistics of the features where there is a lot of snow. This will be compared to the filled in values."
   ]
  },
  {
   "cell_type": "code",
   "execution_count": 100,
   "metadata": {},
   "outputs": [
    {
     "data": {
      "text/html": [
       "<div>\n",
       "<style scoped>\n",
       "    .dataframe tbody tr th:only-of-type {\n",
       "        vertical-align: middle;\n",
       "    }\n",
       "\n",
       "    .dataframe tbody tr th {\n",
       "        vertical-align: top;\n",
       "    }\n",
       "\n",
       "    .dataframe thead th {\n",
       "        text-align: right;\n",
       "    }\n",
       "</style>\n",
       "<table border=\"1\" class=\"dataframe\">\n",
       "  <thead>\n",
       "    <tr style=\"text-align: right;\">\n",
       "      <th></th>\n",
       "      <th>tavg</th>\n",
       "      <th>tmin</th>\n",
       "      <th>tmax</th>\n",
       "      <th>prcp</th>\n",
       "      <th>snow</th>\n",
       "      <th>wspd</th>\n",
       "      <th>pres</th>\n",
       "    </tr>\n",
       "  </thead>\n",
       "  <tbody>\n",
       "    <tr>\n",
       "      <th>count</th>\n",
       "      <td>21228.000000</td>\n",
       "      <td>21230.000000</td>\n",
       "      <td>21230.000000</td>\n",
       "      <td>17976.000000</td>\n",
       "      <td>10530.000000</td>\n",
       "      <td>21070.000000</td>\n",
       "      <td>18704.000000</td>\n",
       "    </tr>\n",
       "    <tr>\n",
       "      <th>mean</th>\n",
       "      <td>2.264033</td>\n",
       "      <td>-2.488780</td>\n",
       "      <td>7.113457</td>\n",
       "      <td>1.681976</td>\n",
       "      <td>36.199715</td>\n",
       "      <td>13.322947</td>\n",
       "      <td>1019.968199</td>\n",
       "    </tr>\n",
       "    <tr>\n",
       "      <th>std</th>\n",
       "      <td>10.762083</td>\n",
       "      <td>11.131696</td>\n",
       "      <td>11.086798</td>\n",
       "      <td>5.922205</td>\n",
       "      <td>83.396319</td>\n",
       "      <td>7.434906</td>\n",
       "      <td>7.352371</td>\n",
       "    </tr>\n",
       "    <tr>\n",
       "      <th>min</th>\n",
       "      <td>-39.200000</td>\n",
       "      <td>-44.000000</td>\n",
       "      <td>-36.700000</td>\n",
       "      <td>0.000000</td>\n",
       "      <td>0.000000</td>\n",
       "      <td>0.000000</td>\n",
       "      <td>969.300000</td>\n",
       "    </tr>\n",
       "    <tr>\n",
       "      <th>25%</th>\n",
       "      <td>-3.900000</td>\n",
       "      <td>-8.800000</td>\n",
       "      <td>0.000000</td>\n",
       "      <td>0.000000</td>\n",
       "      <td>0.000000</td>\n",
       "      <td>7.800000</td>\n",
       "      <td>1016.000000</td>\n",
       "    </tr>\n",
       "    <tr>\n",
       "      <th>50%</th>\n",
       "      <td>2.200000</td>\n",
       "      <td>-2.100000</td>\n",
       "      <td>6.800000</td>\n",
       "      <td>0.000000</td>\n",
       "      <td>0.000000</td>\n",
       "      <td>12.100000</td>\n",
       "      <td>1020.450000</td>\n",
       "    </tr>\n",
       "    <tr>\n",
       "      <th>75%</th>\n",
       "      <td>9.400000</td>\n",
       "      <td>4.400000</td>\n",
       "      <td>15.200000</td>\n",
       "      <td>0.200000</td>\n",
       "      <td>30.000000</td>\n",
       "      <td>17.600000</td>\n",
       "      <td>1024.800000</td>\n",
       "    </tr>\n",
       "    <tr>\n",
       "      <th>max</th>\n",
       "      <td>30.200000</td>\n",
       "      <td>28.600000</td>\n",
       "      <td>32.800000</td>\n",
       "      <td>107.700000</td>\n",
       "      <td>640.000000</td>\n",
       "      <td>50.400000</td>\n",
       "      <td>1043.100000</td>\n",
       "    </tr>\n",
       "  </tbody>\n",
       "</table>\n",
       "</div>"
      ],
      "text/plain": [
       "               tavg          tmin          tmax          prcp          snow  \\\n",
       "count  21228.000000  21230.000000  21230.000000  17976.000000  10530.000000   \n",
       "mean       2.264033     -2.488780      7.113457      1.681976     36.199715   \n",
       "std       10.762083     11.131696     11.086798      5.922205     83.396319   \n",
       "min      -39.200000    -44.000000    -36.700000      0.000000      0.000000   \n",
       "25%       -3.900000     -8.800000      0.000000      0.000000      0.000000   \n",
       "50%        2.200000     -2.100000      6.800000      0.000000      0.000000   \n",
       "75%        9.400000      4.400000     15.200000      0.200000     30.000000   \n",
       "max       30.200000     28.600000     32.800000    107.700000    640.000000   \n",
       "\n",
       "               wspd          pres  \n",
       "count  21070.000000  18704.000000  \n",
       "mean      13.322947   1019.968199  \n",
       "std        7.434906      7.352371  \n",
       "min        0.000000    969.300000  \n",
       "25%        7.800000   1016.000000  \n",
       "50%       12.100000   1020.450000  \n",
       "75%       17.600000   1024.800000  \n",
       "max       50.400000   1043.100000  "
      ]
     },
     "execution_count": 100,
     "metadata": {},
     "output_type": "execute_result"
    }
   ],
   "source": [
    "stats_total = weather_df_total.describe()\n",
    "stats_total"
   ]
  },
  {
   "cell_type": "markdown",
   "metadata": {},
   "source": [
    "We narrow the data down to where there is more than 30 mm of snow"
   ]
  },
  {
   "cell_type": "code",
   "execution_count": 101,
   "metadata": {},
   "outputs": [
    {
     "data": {
      "text/html": [
       "<div>\n",
       "<style scoped>\n",
       "    .dataframe tbody tr th:only-of-type {\n",
       "        vertical-align: middle;\n",
       "    }\n",
       "\n",
       "    .dataframe tbody tr th {\n",
       "        vertical-align: top;\n",
       "    }\n",
       "\n",
       "    .dataframe thead th {\n",
       "        text-align: right;\n",
       "    }\n",
       "</style>\n",
       "<table border=\"1\" class=\"dataframe\">\n",
       "  <thead>\n",
       "    <tr style=\"text-align: right;\">\n",
       "      <th></th>\n",
       "      <th>tavg</th>\n",
       "      <th>tmin</th>\n",
       "      <th>tmax</th>\n",
       "      <th>prcp</th>\n",
       "      <th>snow</th>\n",
       "      <th>wspd</th>\n",
       "      <th>pres</th>\n",
       "    </tr>\n",
       "  </thead>\n",
       "  <tbody>\n",
       "    <tr>\n",
       "      <th>count</th>\n",
       "      <td>2168.000000</td>\n",
       "      <td>2170.000000</td>\n",
       "      <td>2170.000000</td>\n",
       "      <td>2170.000000</td>\n",
       "      <td>2170.000000</td>\n",
       "      <td>2170.000000</td>\n",
       "      <td>2060.000000</td>\n",
       "    </tr>\n",
       "    <tr>\n",
       "      <th>mean</th>\n",
       "      <td>-9.696587</td>\n",
       "      <td>-14.515945</td>\n",
       "      <td>-5.348433</td>\n",
       "      <td>2.030138</td>\n",
       "      <td>168.624147</td>\n",
       "      <td>14.857392</td>\n",
       "      <td>1019.969684</td>\n",
       "    </tr>\n",
       "    <tr>\n",
       "      <th>std</th>\n",
       "      <td>8.660996</td>\n",
       "      <td>9.627511</td>\n",
       "      <td>8.393271</td>\n",
       "      <td>5.078313</td>\n",
       "      <td>107.075759</td>\n",
       "      <td>8.289323</td>\n",
       "      <td>8.803566</td>\n",
       "    </tr>\n",
       "    <tr>\n",
       "      <th>min</th>\n",
       "      <td>-39.200000</td>\n",
       "      <td>-44.000000</td>\n",
       "      <td>-34.900000</td>\n",
       "      <td>0.000000</td>\n",
       "      <td>31.750000</td>\n",
       "      <td>0.000000</td>\n",
       "      <td>976.100000</td>\n",
       "    </tr>\n",
       "    <tr>\n",
       "      <th>25%</th>\n",
       "      <td>-15.400000</td>\n",
       "      <td>-20.600000</td>\n",
       "      <td>-10.600000</td>\n",
       "      <td>0.000000</td>\n",
       "      <td>80.000000</td>\n",
       "      <td>8.300000</td>\n",
       "      <td>1014.500000</td>\n",
       "    </tr>\n",
       "    <tr>\n",
       "      <th>50%</th>\n",
       "      <td>-8.450000</td>\n",
       "      <td>-13.800000</td>\n",
       "      <td>-3.200000</td>\n",
       "      <td>0.000000</td>\n",
       "      <td>130.000000</td>\n",
       "      <td>13.700000</td>\n",
       "      <td>1020.950000</td>\n",
       "    </tr>\n",
       "    <tr>\n",
       "      <th>75%</th>\n",
       "      <td>-2.700000</td>\n",
       "      <td>-7.000000</td>\n",
       "      <td>1.100000</td>\n",
       "      <td>1.400000</td>\n",
       "      <td>250.000000</td>\n",
       "      <td>20.300000</td>\n",
       "      <td>1026.500000</td>\n",
       "    </tr>\n",
       "    <tr>\n",
       "      <th>max</th>\n",
       "      <td>7.100000</td>\n",
       "      <td>5.000000</td>\n",
       "      <td>13.300000</td>\n",
       "      <td>63.200000</td>\n",
       "      <td>640.000000</td>\n",
       "      <td>41.800000</td>\n",
       "      <td>1037.700000</td>\n",
       "    </tr>\n",
       "  </tbody>\n",
       "</table>\n",
       "</div>"
      ],
      "text/plain": [
       "              tavg         tmin         tmax         prcp         snow  \\\n",
       "count  2168.000000  2170.000000  2170.000000  2170.000000  2170.000000   \n",
       "mean     -9.696587   -14.515945    -5.348433     2.030138   168.624147   \n",
       "std       8.660996     9.627511     8.393271     5.078313   107.075759   \n",
       "min     -39.200000   -44.000000   -34.900000     0.000000    31.750000   \n",
       "25%     -15.400000   -20.600000   -10.600000     0.000000    80.000000   \n",
       "50%      -8.450000   -13.800000    -3.200000     0.000000   130.000000   \n",
       "75%      -2.700000    -7.000000     1.100000     1.400000   250.000000   \n",
       "max       7.100000     5.000000    13.300000    63.200000   640.000000   \n",
       "\n",
       "              wspd         pres  \n",
       "count  2170.000000  2060.000000  \n",
       "mean     14.857392  1019.969684  \n",
       "std       8.289323     8.803566  \n",
       "min       0.000000   976.100000  \n",
       "25%       8.300000  1014.500000  \n",
       "50%      13.700000  1020.950000  \n",
       "75%      20.300000  1026.500000  \n",
       "max      41.800000  1037.700000  "
      ]
     },
     "execution_count": 101,
     "metadata": {},
     "output_type": "execute_result"
    }
   ],
   "source": [
    "weather_df_total.query('snow > 30').describe()"
   ]
  },
  {
   "cell_type": "markdown",
   "metadata": {},
   "source": [
    "We see that the average temperature has fallen to -9.7 and the same decrease in temperature is also seen in the other temperature columns. The other columns seem to not have changed a significant amount."
   ]
  },
  {
   "cell_type": "markdown",
   "metadata": {},
   "source": [
    "We now fill in the missing values. First for 2019 and then 2020"
   ]
  },
  {
   "cell_type": "markdown",
   "metadata": {},
   "source": [
    "## Fill for 2019"
   ]
  },
  {
   "cell_type": "code",
   "execution_count": 102,
   "metadata": {},
   "outputs": [],
   "source": [
    "col_nan_ix = weather_df_2019['snow'].isna()"
   ]
  },
  {
   "cell_type": "code",
   "execution_count": 103,
   "metadata": {},
   "outputs": [
    {
     "data": {
      "text/html": [
       "<div>\n",
       "<style scoped>\n",
       "    .dataframe tbody tr th:only-of-type {\n",
       "        vertical-align: middle;\n",
       "    }\n",
       "\n",
       "    .dataframe tbody tr th {\n",
       "        vertical-align: top;\n",
       "    }\n",
       "\n",
       "    .dataframe thead th {\n",
       "        text-align: right;\n",
       "    }\n",
       "</style>\n",
       "<table border=\"1\" class=\"dataframe\">\n",
       "  <thead>\n",
       "    <tr style=\"text-align: right;\">\n",
       "      <th></th>\n",
       "      <th>tmax</th>\n",
       "      <th>tavg</th>\n",
       "      <th>tmin</th>\n",
       "    </tr>\n",
       "  </thead>\n",
       "  <tbody>\n",
       "    <tr>\n",
       "      <th>62</th>\n",
       "      <td>5.7</td>\n",
       "      <td>2.1</td>\n",
       "      <td>-1.6</td>\n",
       "    </tr>\n",
       "    <tr>\n",
       "      <th>63</th>\n",
       "      <td>2.3</td>\n",
       "      <td>-0.1</td>\n",
       "      <td>-2.1</td>\n",
       "    </tr>\n",
       "    <tr>\n",
       "      <th>64</th>\n",
       "      <td>3.4</td>\n",
       "      <td>1.4</td>\n",
       "      <td>0.1</td>\n",
       "    </tr>\n",
       "    <tr>\n",
       "      <th>65</th>\n",
       "      <td>10.1</td>\n",
       "      <td>3.1</td>\n",
       "      <td>-1.0</td>\n",
       "    </tr>\n",
       "    <tr>\n",
       "      <th>66</th>\n",
       "      <td>10.7</td>\n",
       "      <td>4.0</td>\n",
       "      <td>-2.1</td>\n",
       "    </tr>\n",
       "    <tr>\n",
       "      <th>...</th>\n",
       "      <td>...</td>\n",
       "      <td>...</td>\n",
       "      <td>...</td>\n",
       "    </tr>\n",
       "    <tr>\n",
       "      <th>10690</th>\n",
       "      <td>5.0</td>\n",
       "      <td>-0.9</td>\n",
       "      <td>-4.3</td>\n",
       "    </tr>\n",
       "    <tr>\n",
       "      <th>10691</th>\n",
       "      <td>3.3</td>\n",
       "      <td>-1.6</td>\n",
       "      <td>-5.5</td>\n",
       "    </tr>\n",
       "    <tr>\n",
       "      <th>10692</th>\n",
       "      <td>2.8</td>\n",
       "      <td>-2.8</td>\n",
       "      <td>-6.6</td>\n",
       "    </tr>\n",
       "    <tr>\n",
       "      <th>10693</th>\n",
       "      <td>4.4</td>\n",
       "      <td>-3.2</td>\n",
       "      <td>-8.2</td>\n",
       "    </tr>\n",
       "    <tr>\n",
       "      <th>10694</th>\n",
       "      <td>6.7</td>\n",
       "      <td>-1.5</td>\n",
       "      <td>-6.0</td>\n",
       "    </tr>\n",
       "  </tbody>\n",
       "</table>\n",
       "<p>5461 rows × 3 columns</p>\n",
       "</div>"
      ],
      "text/plain": [
       "       tmax  tavg  tmin\n",
       "62      5.7   2.1  -1.6\n",
       "63      2.3  -0.1  -2.1\n",
       "64      3.4   1.4   0.1\n",
       "65     10.1   3.1  -1.0\n",
       "66     10.7   4.0  -2.1\n",
       "...     ...   ...   ...\n",
       "10690   5.0  -0.9  -4.3\n",
       "10691   3.3  -1.6  -5.5\n",
       "10692   2.8  -2.8  -6.6\n",
       "10693   4.4  -3.2  -8.2\n",
       "10694   6.7  -1.5  -6.0\n",
       "\n",
       "[5461 rows x 3 columns]"
      ]
     },
     "execution_count": 103,
     "metadata": {},
     "output_type": "execute_result"
    }
   ],
   "source": [
    "weather_no_snow = weather_df_2019[col_nan_ix][features]\n",
    "weather_no_snow"
   ]
  },
  {
   "cell_type": "code",
   "execution_count": 104,
   "metadata": {},
   "outputs": [
    {
     "data": {
      "text/plain": [
       "tmax    111\n",
       "tavg    111\n",
       "tmin    111\n",
       "dtype: int64"
      ]
     },
     "execution_count": 104,
     "metadata": {},
     "output_type": "execute_result"
    }
   ],
   "source": [
    "weather_no_snow.isna().sum()"
   ]
  },
  {
   "cell_type": "markdown",
   "metadata": {},
   "source": [
    "Unfortunately, we have some missing values in the features used to predict the snow values, so we will have to drop these and not be able to fill out all missing values for snow"
   ]
  },
  {
   "cell_type": "code",
   "execution_count": 105,
   "metadata": {},
   "outputs": [],
   "source": [
    "weather_no_snow = weather_no_snow.dropna()"
   ]
  },
  {
   "cell_type": "code",
   "execution_count": 106,
   "metadata": {},
   "outputs": [],
   "source": [
    "predictions = best_model.predict(weather_no_snow)"
   ]
  },
  {
   "cell_type": "code",
   "execution_count": 107,
   "metadata": {},
   "outputs": [],
   "source": [
    "predictions_series = pd.Series(predictions, name='snow', index=weather_no_snow.index)"
   ]
  },
  {
   "cell_type": "code",
   "execution_count": 108,
   "metadata": {
    "scrolled": true
   },
   "outputs": [
    {
     "data": {
      "text/plain": [
       "62        -0.194551\n",
       "63         6.034057\n",
       "64        -0.194551\n",
       "65        -0.194551\n",
       "66        -0.194551\n",
       "            ...    \n",
       "10690     23.312912\n",
       "10691    111.389561\n",
       "10692    202.360611\n",
       "10693    213.464935\n",
       "10694     45.327995\n",
       "Name: snow, Length: 5350, dtype: float64"
      ]
     },
     "execution_count": 108,
     "metadata": {},
     "output_type": "execute_result"
    }
   ],
   "source": [
    "predictions_series"
   ]
  },
  {
   "cell_type": "markdown",
   "metadata": {},
   "source": [
    "We remove negative values"
   ]
  },
  {
   "cell_type": "code",
   "execution_count": 109,
   "metadata": {},
   "outputs": [
    {
     "data": {
      "text/plain": [
       "62         0.000000\n",
       "63         6.034057\n",
       "64         0.000000\n",
       "65         0.000000\n",
       "66         0.000000\n",
       "            ...    \n",
       "10690     23.312912\n",
       "10691    111.389561\n",
       "10692    202.360611\n",
       "10693    213.464935\n",
       "10694     45.327995\n",
       "Name: snow, Length: 5350, dtype: float64"
      ]
     },
     "execution_count": 109,
     "metadata": {},
     "output_type": "execute_result"
    }
   ],
   "source": [
    "predictions_series[predictions_series < 0] = 0\n",
    "predictions_series"
   ]
  },
  {
   "cell_type": "markdown",
   "metadata": {},
   "source": [
    "Now the missing values can be replaced by their predicted values"
   ]
  },
  {
   "cell_type": "code",
   "execution_count": 110,
   "metadata": {},
   "outputs": [],
   "source": [
    "weather_df_2019_pred = weather_df_2019.copy()"
   ]
  },
  {
   "cell_type": "code",
   "execution_count": 111,
   "metadata": {},
   "outputs": [],
   "source": [
    "weather_df_2019_pred.loc[col_nan_ix, 'snow'] = predictions_series"
   ]
  },
  {
   "cell_type": "code",
   "execution_count": 112,
   "metadata": {},
   "outputs": [
    {
     "data": {
      "text/html": [
       "<div>\n",
       "<style scoped>\n",
       "    .dataframe tbody tr th:only-of-type {\n",
       "        vertical-align: middle;\n",
       "    }\n",
       "\n",
       "    .dataframe tbody tr th {\n",
       "        vertical-align: top;\n",
       "    }\n",
       "\n",
       "    .dataframe thead th {\n",
       "        text-align: right;\n",
       "    }\n",
       "</style>\n",
       "<table border=\"1\" class=\"dataframe\">\n",
       "  <thead>\n",
       "    <tr style=\"text-align: right;\">\n",
       "      <th></th>\n",
       "      <th>iata_code</th>\n",
       "      <th>DAY_OF_MONTH</th>\n",
       "      <th>tavg</th>\n",
       "      <th>tmin</th>\n",
       "      <th>tmax</th>\n",
       "      <th>prcp</th>\n",
       "      <th>snow</th>\n",
       "      <th>wspd</th>\n",
       "      <th>pres</th>\n",
       "    </tr>\n",
       "  </thead>\n",
       "  <tbody>\n",
       "    <tr>\n",
       "      <th>0</th>\n",
       "      <td>GNV</td>\n",
       "      <td>1</td>\n",
       "      <td>20.1</td>\n",
       "      <td>13.9</td>\n",
       "      <td>27.8</td>\n",
       "      <td>0.0</td>\n",
       "      <td>0.0</td>\n",
       "      <td>4.0</td>\n",
       "      <td>1021.9</td>\n",
       "    </tr>\n",
       "    <tr>\n",
       "      <th>1</th>\n",
       "      <td>GNV</td>\n",
       "      <td>2</td>\n",
       "      <td>19.8</td>\n",
       "      <td>14.4</td>\n",
       "      <td>27.2</td>\n",
       "      <td>0.0</td>\n",
       "      <td>0.0</td>\n",
       "      <td>2.2</td>\n",
       "      <td>1019.3</td>\n",
       "    </tr>\n",
       "    <tr>\n",
       "      <th>2</th>\n",
       "      <td>GNV</td>\n",
       "      <td>3</td>\n",
       "      <td>20.6</td>\n",
       "      <td>15.6</td>\n",
       "      <td>27.2</td>\n",
       "      <td>0.0</td>\n",
       "      <td>0.0</td>\n",
       "      <td>7.6</td>\n",
       "      <td>1016.7</td>\n",
       "    </tr>\n",
       "    <tr>\n",
       "      <th>3</th>\n",
       "      <td>GNV</td>\n",
       "      <td>4</td>\n",
       "      <td>20.3</td>\n",
       "      <td>14.4</td>\n",
       "      <td>27.2</td>\n",
       "      <td>14.7</td>\n",
       "      <td>0.0</td>\n",
       "      <td>14.4</td>\n",
       "      <td>1014.1</td>\n",
       "    </tr>\n",
       "    <tr>\n",
       "      <th>4</th>\n",
       "      <td>GNV</td>\n",
       "      <td>5</td>\n",
       "      <td>13.4</td>\n",
       "      <td>7.2</td>\n",
       "      <td>16.1</td>\n",
       "      <td>0.0</td>\n",
       "      <td>0.0</td>\n",
       "      <td>12.2</td>\n",
       "      <td>1017.6</td>\n",
       "    </tr>\n",
       "    <tr>\n",
       "      <th>...</th>\n",
       "      <td>...</td>\n",
       "      <td>...</td>\n",
       "      <td>...</td>\n",
       "      <td>...</td>\n",
       "      <td>...</td>\n",
       "      <td>...</td>\n",
       "      <td>...</td>\n",
       "      <td>...</td>\n",
       "      <td>...</td>\n",
       "    </tr>\n",
       "    <tr>\n",
       "      <th>10721</th>\n",
       "      <td>LYH</td>\n",
       "      <td>27</td>\n",
       "      <td>0.0</td>\n",
       "      <td>-6.6</td>\n",
       "      <td>9.4</td>\n",
       "      <td>0.0</td>\n",
       "      <td>0.0</td>\n",
       "      <td>5.4</td>\n",
       "      <td>1018.5</td>\n",
       "    </tr>\n",
       "    <tr>\n",
       "      <th>10722</th>\n",
       "      <td>LYH</td>\n",
       "      <td>28</td>\n",
       "      <td>2.8</td>\n",
       "      <td>-2.1</td>\n",
       "      <td>8.3</td>\n",
       "      <td>0.0</td>\n",
       "      <td>0.0</td>\n",
       "      <td>4.7</td>\n",
       "      <td>1015.6</td>\n",
       "    </tr>\n",
       "    <tr>\n",
       "      <th>10723</th>\n",
       "      <td>LYH</td>\n",
       "      <td>29</td>\n",
       "      <td>2.6</td>\n",
       "      <td>-5.5</td>\n",
       "      <td>6.7</td>\n",
       "      <td>1.3</td>\n",
       "      <td>0.0</td>\n",
       "      <td>6.1</td>\n",
       "      <td>1011.5</td>\n",
       "    </tr>\n",
       "    <tr>\n",
       "      <th>10724</th>\n",
       "      <td>LYH</td>\n",
       "      <td>30</td>\n",
       "      <td>-3.6</td>\n",
       "      <td>-9.9</td>\n",
       "      <td>2.8</td>\n",
       "      <td>0.0</td>\n",
       "      <td>0.0</td>\n",
       "      <td>14.4</td>\n",
       "      <td>1017.9</td>\n",
       "    </tr>\n",
       "    <tr>\n",
       "      <th>10725</th>\n",
       "      <td>LYH</td>\n",
       "      <td>31</td>\n",
       "      <td>-6.7</td>\n",
       "      <td>-11.0</td>\n",
       "      <td>0.0</td>\n",
       "      <td>0.0</td>\n",
       "      <td>0.0</td>\n",
       "      <td>8.3</td>\n",
       "      <td>1028.6</td>\n",
       "    </tr>\n",
       "  </tbody>\n",
       "</table>\n",
       "<p>10726 rows × 9 columns</p>\n",
       "</div>"
      ],
      "text/plain": [
       "      iata_code DAY_OF_MONTH  tavg  tmin  tmax  prcp  snow  wspd    pres\n",
       "0           GNV            1  20.1  13.9  27.8   0.0   0.0   4.0  1021.9\n",
       "1           GNV            2  19.8  14.4  27.2   0.0   0.0   2.2  1019.3\n",
       "2           GNV            3  20.6  15.6  27.2   0.0   0.0   7.6  1016.7\n",
       "3           GNV            4  20.3  14.4  27.2  14.7   0.0  14.4  1014.1\n",
       "4           GNV            5  13.4   7.2  16.1   0.0   0.0  12.2  1017.6\n",
       "...         ...          ...   ...   ...   ...   ...   ...   ...     ...\n",
       "10721       LYH           27   0.0  -6.6   9.4   0.0   0.0   5.4  1018.5\n",
       "10722       LYH           28   2.8  -2.1   8.3   0.0   0.0   4.7  1015.6\n",
       "10723       LYH           29   2.6  -5.5   6.7   1.3   0.0   6.1  1011.5\n",
       "10724       LYH           30  -3.6  -9.9   2.8   0.0   0.0  14.4  1017.9\n",
       "10725       LYH           31  -6.7 -11.0   0.0   0.0   0.0   8.3  1028.6\n",
       "\n",
       "[10726 rows x 9 columns]"
      ]
     },
     "execution_count": 112,
     "metadata": {},
     "output_type": "execute_result"
    }
   ],
   "source": [
    "weather_df_2019_pred"
   ]
  },
  {
   "cell_type": "code",
   "execution_count": 113,
   "metadata": {},
   "outputs": [
    {
     "data": {
      "text/plain": [
       "iata_code          0\n",
       "DAY_OF_MONTH       0\n",
       "tavg             112\n",
       "tmin             111\n",
       "tmax             111\n",
       "prcp            1738\n",
       "snow             111\n",
       "wspd             191\n",
       "pres            1374\n",
       "dtype: int64"
      ]
     },
     "execution_count": 113,
     "metadata": {},
     "output_type": "execute_result"
    }
   ],
   "source": [
    "weather_df_2019_pred.isna().sum()"
   ]
  },
  {
   "cell_type": "code",
   "execution_count": 114,
   "metadata": {},
   "outputs": [
    {
     "data": {
      "text/plain": [
       "iata_code          0\n",
       "DAY_OF_MONTH       0\n",
       "tavg             112\n",
       "tmin             111\n",
       "tmax             111\n",
       "prcp            1738\n",
       "snow            5461\n",
       "wspd             191\n",
       "pres            1374\n",
       "dtype: int64"
      ]
     },
     "execution_count": 114,
     "metadata": {},
     "output_type": "execute_result"
    }
   ],
   "source": [
    "weather_df_2019.isna().sum()"
   ]
  },
  {
   "cell_type": "markdown",
   "metadata": {},
   "source": [
    "We have managed to eliminate 5350 missing values of snow. The data is now merged again"
   ]
  },
  {
   "cell_type": "code",
   "execution_count": 115,
   "metadata": {},
   "outputs": [],
   "source": [
    "df19_weather = df19.merge(weather_df_2019_pred.rename(rename_map('ORIGIN'), axis=1), on=['ORIGIN', 'DAY_OF_MONTH'])\n",
    "df19_weather = df19_weather.merge(weather_df_2019_pred.rename(rename_map('DEST'), axis=1), on=['DEST', 'DAY_OF_MONTH'])"
   ]
  },
  {
   "cell_type": "code",
   "execution_count": 116,
   "metadata": {},
   "outputs": [
    {
     "data": {
      "text/plain": [
       "(583985, 35)"
      ]
     },
     "execution_count": 116,
     "metadata": {},
     "output_type": "execute_result"
    }
   ],
   "source": [
    "df19_weather.shape"
   ]
  },
  {
   "cell_type": "code",
   "execution_count": 117,
   "metadata": {},
   "outputs": [
    {
     "data": {
      "text/plain": [
       "DAY_OF_MONTH                 0\n",
       "DAY_OF_WEEK                  0\n",
       "OP_UNIQUE_CARRIER            0\n",
       "OP_CARRIER_AIRLINE_ID        0\n",
       "OP_CARRIER                   0\n",
       "TAIL_NUM                  2543\n",
       "OP_CARRIER_FL_NUM            0\n",
       "ORIGIN_AIRPORT_ID            0\n",
       "ORIGIN_AIRPORT_SEQ_ID        0\n",
       "ORIGIN                       0\n",
       "DEST_AIRPORT_ID              0\n",
       "DEST_AIRPORT_SEQ_ID          0\n",
       "DEST                         0\n",
       "DEP_TIME                 16352\n",
       "DEP_DEL15                16355\n",
       "DEP_TIME_BLK                 0\n",
       "ARR_TIME                 17061\n",
       "ARR_DEL15                18022\n",
       "CANCELLED                    0\n",
       "DIVERTED                     0\n",
       "DISTANCE                     0\n",
       "ORIGIN_tavg               2919\n",
       "ORIGIN_tmin               2912\n",
       "ORIGIN_tmax               2912\n",
       "ORIGIN_prcp              26856\n",
       "ORIGIN_snow               2912\n",
       "ORIGIN_wspd               3952\n",
       "ORIGIN_pres              24313\n",
       "DEST_tavg                 2923\n",
       "DEST_tmin                 2916\n",
       "DEST_tmax                 2916\n",
       "DEST_prcp                26875\n",
       "DEST_snow                 2916\n",
       "DEST_wspd                 3957\n",
       "DEST_pres                24335\n",
       "dtype: int64"
      ]
     },
     "execution_count": 117,
     "metadata": {},
     "output_type": "execute_result"
    }
   ],
   "source": [
    "df19_weather.isna().sum()"
   ]
  },
  {
   "cell_type": "markdown",
   "metadata": {},
   "source": [
    "We now have much less missing values in the snow column. We went from 180000 missing rows to 2900."
   ]
  },
  {
   "cell_type": "markdown",
   "metadata": {},
   "source": [
    "## Fill for 2020"
   ]
  },
  {
   "cell_type": "code",
   "execution_count": 118,
   "metadata": {},
   "outputs": [],
   "source": [
    "col_nan_ix = weather_df_2020['snow'].isna()"
   ]
  },
  {
   "cell_type": "code",
   "execution_count": 119,
   "metadata": {},
   "outputs": [
    {
     "data": {
      "text/html": [
       "<div>\n",
       "<style scoped>\n",
       "    .dataframe tbody tr th:only-of-type {\n",
       "        vertical-align: middle;\n",
       "    }\n",
       "\n",
       "    .dataframe tbody tr th {\n",
       "        vertical-align: top;\n",
       "    }\n",
       "\n",
       "    .dataframe thead th {\n",
       "        text-align: right;\n",
       "    }\n",
       "</style>\n",
       "<table border=\"1\" class=\"dataframe\">\n",
       "  <thead>\n",
       "    <tr style=\"text-align: right;\">\n",
       "      <th></th>\n",
       "      <th>tmax</th>\n",
       "      <th>tavg</th>\n",
       "      <th>tmin</th>\n",
       "    </tr>\n",
       "  </thead>\n",
       "  <tbody>\n",
       "    <tr>\n",
       "      <th>62</th>\n",
       "      <td>5.7</td>\n",
       "      <td>2.1</td>\n",
       "      <td>-1.6</td>\n",
       "    </tr>\n",
       "    <tr>\n",
       "      <th>63</th>\n",
       "      <td>2.3</td>\n",
       "      <td>-0.1</td>\n",
       "      <td>-2.1</td>\n",
       "    </tr>\n",
       "    <tr>\n",
       "      <th>64</th>\n",
       "      <td>3.4</td>\n",
       "      <td>1.4</td>\n",
       "      <td>0.1</td>\n",
       "    </tr>\n",
       "    <tr>\n",
       "      <th>65</th>\n",
       "      <td>10.1</td>\n",
       "      <td>3.1</td>\n",
       "      <td>-1.0</td>\n",
       "    </tr>\n",
       "    <tr>\n",
       "      <th>66</th>\n",
       "      <td>10.7</td>\n",
       "      <td>4.0</td>\n",
       "      <td>-2.1</td>\n",
       "    </tr>\n",
       "    <tr>\n",
       "      <th>...</th>\n",
       "      <td>...</td>\n",
       "      <td>...</td>\n",
       "      <td>...</td>\n",
       "    </tr>\n",
       "    <tr>\n",
       "      <th>10690</th>\n",
       "      <td>5.0</td>\n",
       "      <td>-0.9</td>\n",
       "      <td>-4.3</td>\n",
       "    </tr>\n",
       "    <tr>\n",
       "      <th>10691</th>\n",
       "      <td>3.3</td>\n",
       "      <td>-1.6</td>\n",
       "      <td>-5.5</td>\n",
       "    </tr>\n",
       "    <tr>\n",
       "      <th>10692</th>\n",
       "      <td>2.8</td>\n",
       "      <td>-2.8</td>\n",
       "      <td>-6.6</td>\n",
       "    </tr>\n",
       "    <tr>\n",
       "      <th>10693</th>\n",
       "      <td>4.4</td>\n",
       "      <td>-3.2</td>\n",
       "      <td>-8.2</td>\n",
       "    </tr>\n",
       "    <tr>\n",
       "      <th>10694</th>\n",
       "      <td>6.7</td>\n",
       "      <td>-1.5</td>\n",
       "      <td>-6.0</td>\n",
       "    </tr>\n",
       "  </tbody>\n",
       "</table>\n",
       "<p>5461 rows × 3 columns</p>\n",
       "</div>"
      ],
      "text/plain": [
       "       tmax  tavg  tmin\n",
       "62      5.7   2.1  -1.6\n",
       "63      2.3  -0.1  -2.1\n",
       "64      3.4   1.4   0.1\n",
       "65     10.1   3.1  -1.0\n",
       "66     10.7   4.0  -2.1\n",
       "...     ...   ...   ...\n",
       "10690   5.0  -0.9  -4.3\n",
       "10691   3.3  -1.6  -5.5\n",
       "10692   2.8  -2.8  -6.6\n",
       "10693   4.4  -3.2  -8.2\n",
       "10694   6.7  -1.5  -6.0\n",
       "\n",
       "[5461 rows x 3 columns]"
      ]
     },
     "execution_count": 119,
     "metadata": {},
     "output_type": "execute_result"
    }
   ],
   "source": [
    "weather_no_snow = weather_df_2020[col_nan_ix][features]\n",
    "weather_no_snow"
   ]
  },
  {
   "cell_type": "code",
   "execution_count": 120,
   "metadata": {},
   "outputs": [
    {
     "data": {
      "text/plain": [
       "tmax    111\n",
       "tavg    111\n",
       "tmin    111\n",
       "dtype: int64"
      ]
     },
     "execution_count": 120,
     "metadata": {},
     "output_type": "execute_result"
    }
   ],
   "source": [
    "weather_no_snow.isna().sum()"
   ]
  },
  {
   "cell_type": "markdown",
   "metadata": {},
   "source": [
    "Unfortunately, we have some missing values in the features used to predict the snow values, so we will have to drop these and not be able to fill out all missing values for snow"
   ]
  },
  {
   "cell_type": "code",
   "execution_count": 121,
   "metadata": {},
   "outputs": [],
   "source": [
    "weather_no_snow = weather_no_snow.dropna()"
   ]
  },
  {
   "cell_type": "code",
   "execution_count": 122,
   "metadata": {},
   "outputs": [],
   "source": [
    "predictions = best_model.predict(weather_no_snow)"
   ]
  },
  {
   "cell_type": "code",
   "execution_count": 123,
   "metadata": {},
   "outputs": [],
   "source": [
    "predictions_series = pd.Series(predictions, name='snow', index=weather_no_snow.index)"
   ]
  },
  {
   "cell_type": "code",
   "execution_count": 124,
   "metadata": {
    "scrolled": true
   },
   "outputs": [
    {
     "data": {
      "text/plain": [
       "62        -0.194551\n",
       "63         6.034057\n",
       "64        -0.194551\n",
       "65        -0.194551\n",
       "66        -0.194551\n",
       "            ...    \n",
       "10690     23.312912\n",
       "10691    111.389561\n",
       "10692    202.360611\n",
       "10693    213.464935\n",
       "10694     45.327995\n",
       "Name: snow, Length: 5350, dtype: float64"
      ]
     },
     "execution_count": 124,
     "metadata": {},
     "output_type": "execute_result"
    }
   ],
   "source": [
    "predictions_series"
   ]
  },
  {
   "cell_type": "markdown",
   "metadata": {},
   "source": [
    "We remove negative values"
   ]
  },
  {
   "cell_type": "code",
   "execution_count": 125,
   "metadata": {},
   "outputs": [
    {
     "data": {
      "text/plain": [
       "62         0.000000\n",
       "63         6.034057\n",
       "64         0.000000\n",
       "65         0.000000\n",
       "66         0.000000\n",
       "            ...    \n",
       "10690     23.312912\n",
       "10691    111.389561\n",
       "10692    202.360611\n",
       "10693    213.464935\n",
       "10694     45.327995\n",
       "Name: snow, Length: 5350, dtype: float64"
      ]
     },
     "execution_count": 125,
     "metadata": {},
     "output_type": "execute_result"
    }
   ],
   "source": [
    "predictions_series[predictions_series < 0] = 0\n",
    "predictions_series"
   ]
  },
  {
   "cell_type": "markdown",
   "metadata": {},
   "source": [
    "Now the missing values can be replaced by their predicted values"
   ]
  },
  {
   "cell_type": "code",
   "execution_count": 126,
   "metadata": {},
   "outputs": [],
   "source": [
    "weather_df_2020_pred = weather_df_2020.copy()"
   ]
  },
  {
   "cell_type": "code",
   "execution_count": 127,
   "metadata": {},
   "outputs": [],
   "source": [
    "weather_df_2020_pred.loc[col_nan_ix, 'snow'] = predictions_series"
   ]
  },
  {
   "cell_type": "code",
   "execution_count": 128,
   "metadata": {},
   "outputs": [
    {
     "data": {
      "text/html": [
       "<div>\n",
       "<style scoped>\n",
       "    .dataframe tbody tr th:only-of-type {\n",
       "        vertical-align: middle;\n",
       "    }\n",
       "\n",
       "    .dataframe tbody tr th {\n",
       "        vertical-align: top;\n",
       "    }\n",
       "\n",
       "    .dataframe thead th {\n",
       "        text-align: right;\n",
       "    }\n",
       "</style>\n",
       "<table border=\"1\" class=\"dataframe\">\n",
       "  <thead>\n",
       "    <tr style=\"text-align: right;\">\n",
       "      <th></th>\n",
       "      <th>iata_code</th>\n",
       "      <th>DAY_OF_MONTH</th>\n",
       "      <th>tavg</th>\n",
       "      <th>tmin</th>\n",
       "      <th>tmax</th>\n",
       "      <th>prcp</th>\n",
       "      <th>snow</th>\n",
       "      <th>wspd</th>\n",
       "      <th>pres</th>\n",
       "    </tr>\n",
       "  </thead>\n",
       "  <tbody>\n",
       "    <tr>\n",
       "      <th>0</th>\n",
       "      <td>GNV</td>\n",
       "      <td>1</td>\n",
       "      <td>20.1</td>\n",
       "      <td>13.9</td>\n",
       "      <td>27.8</td>\n",
       "      <td>0.0</td>\n",
       "      <td>0.0</td>\n",
       "      <td>4.0</td>\n",
       "      <td>1021.9</td>\n",
       "    </tr>\n",
       "    <tr>\n",
       "      <th>1</th>\n",
       "      <td>GNV</td>\n",
       "      <td>2</td>\n",
       "      <td>19.8</td>\n",
       "      <td>14.4</td>\n",
       "      <td>27.2</td>\n",
       "      <td>0.0</td>\n",
       "      <td>0.0</td>\n",
       "      <td>2.2</td>\n",
       "      <td>1019.3</td>\n",
       "    </tr>\n",
       "    <tr>\n",
       "      <th>2</th>\n",
       "      <td>GNV</td>\n",
       "      <td>3</td>\n",
       "      <td>20.6</td>\n",
       "      <td>15.6</td>\n",
       "      <td>27.2</td>\n",
       "      <td>0.0</td>\n",
       "      <td>0.0</td>\n",
       "      <td>7.6</td>\n",
       "      <td>1016.7</td>\n",
       "    </tr>\n",
       "    <tr>\n",
       "      <th>3</th>\n",
       "      <td>GNV</td>\n",
       "      <td>4</td>\n",
       "      <td>20.3</td>\n",
       "      <td>14.4</td>\n",
       "      <td>27.2</td>\n",
       "      <td>14.7</td>\n",
       "      <td>0.0</td>\n",
       "      <td>14.4</td>\n",
       "      <td>1014.1</td>\n",
       "    </tr>\n",
       "    <tr>\n",
       "      <th>4</th>\n",
       "      <td>GNV</td>\n",
       "      <td>5</td>\n",
       "      <td>13.4</td>\n",
       "      <td>7.2</td>\n",
       "      <td>16.1</td>\n",
       "      <td>0.0</td>\n",
       "      <td>0.0</td>\n",
       "      <td>12.2</td>\n",
       "      <td>1017.6</td>\n",
       "    </tr>\n",
       "    <tr>\n",
       "      <th>...</th>\n",
       "      <td>...</td>\n",
       "      <td>...</td>\n",
       "      <td>...</td>\n",
       "      <td>...</td>\n",
       "      <td>...</td>\n",
       "      <td>...</td>\n",
       "      <td>...</td>\n",
       "      <td>...</td>\n",
       "      <td>...</td>\n",
       "    </tr>\n",
       "    <tr>\n",
       "      <th>10721</th>\n",
       "      <td>LYH</td>\n",
       "      <td>27</td>\n",
       "      <td>0.0</td>\n",
       "      <td>-6.6</td>\n",
       "      <td>9.4</td>\n",
       "      <td>0.0</td>\n",
       "      <td>0.0</td>\n",
       "      <td>5.4</td>\n",
       "      <td>1018.5</td>\n",
       "    </tr>\n",
       "    <tr>\n",
       "      <th>10722</th>\n",
       "      <td>LYH</td>\n",
       "      <td>28</td>\n",
       "      <td>2.8</td>\n",
       "      <td>-2.1</td>\n",
       "      <td>8.3</td>\n",
       "      <td>0.0</td>\n",
       "      <td>0.0</td>\n",
       "      <td>4.7</td>\n",
       "      <td>1015.6</td>\n",
       "    </tr>\n",
       "    <tr>\n",
       "      <th>10723</th>\n",
       "      <td>LYH</td>\n",
       "      <td>29</td>\n",
       "      <td>2.6</td>\n",
       "      <td>-5.5</td>\n",
       "      <td>6.7</td>\n",
       "      <td>1.3</td>\n",
       "      <td>0.0</td>\n",
       "      <td>6.1</td>\n",
       "      <td>1011.5</td>\n",
       "    </tr>\n",
       "    <tr>\n",
       "      <th>10724</th>\n",
       "      <td>LYH</td>\n",
       "      <td>30</td>\n",
       "      <td>-3.6</td>\n",
       "      <td>-9.9</td>\n",
       "      <td>2.8</td>\n",
       "      <td>0.0</td>\n",
       "      <td>0.0</td>\n",
       "      <td>14.4</td>\n",
       "      <td>1017.9</td>\n",
       "    </tr>\n",
       "    <tr>\n",
       "      <th>10725</th>\n",
       "      <td>LYH</td>\n",
       "      <td>31</td>\n",
       "      <td>-6.7</td>\n",
       "      <td>-11.0</td>\n",
       "      <td>0.0</td>\n",
       "      <td>0.0</td>\n",
       "      <td>0.0</td>\n",
       "      <td>8.3</td>\n",
       "      <td>1028.6</td>\n",
       "    </tr>\n",
       "  </tbody>\n",
       "</table>\n",
       "<p>10726 rows × 9 columns</p>\n",
       "</div>"
      ],
      "text/plain": [
       "      iata_code DAY_OF_MONTH  tavg  tmin  tmax  prcp  snow  wspd    pres\n",
       "0           GNV            1  20.1  13.9  27.8   0.0   0.0   4.0  1021.9\n",
       "1           GNV            2  19.8  14.4  27.2   0.0   0.0   2.2  1019.3\n",
       "2           GNV            3  20.6  15.6  27.2   0.0   0.0   7.6  1016.7\n",
       "3           GNV            4  20.3  14.4  27.2  14.7   0.0  14.4  1014.1\n",
       "4           GNV            5  13.4   7.2  16.1   0.0   0.0  12.2  1017.6\n",
       "...         ...          ...   ...   ...   ...   ...   ...   ...     ...\n",
       "10721       LYH           27   0.0  -6.6   9.4   0.0   0.0   5.4  1018.5\n",
       "10722       LYH           28   2.8  -2.1   8.3   0.0   0.0   4.7  1015.6\n",
       "10723       LYH           29   2.6  -5.5   6.7   1.3   0.0   6.1  1011.5\n",
       "10724       LYH           30  -3.6  -9.9   2.8   0.0   0.0  14.4  1017.9\n",
       "10725       LYH           31  -6.7 -11.0   0.0   0.0   0.0   8.3  1028.6\n",
       "\n",
       "[10726 rows x 9 columns]"
      ]
     },
     "execution_count": 128,
     "metadata": {},
     "output_type": "execute_result"
    }
   ],
   "source": [
    "weather_df_2020_pred"
   ]
  },
  {
   "cell_type": "code",
   "execution_count": 129,
   "metadata": {},
   "outputs": [
    {
     "data": {
      "text/plain": [
       "iata_code          0\n",
       "DAY_OF_MONTH       0\n",
       "tavg             112\n",
       "tmin             111\n",
       "tmax             111\n",
       "prcp            1738\n",
       "snow             111\n",
       "wspd             191\n",
       "pres            1374\n",
       "dtype: int64"
      ]
     },
     "execution_count": 129,
     "metadata": {},
     "output_type": "execute_result"
    }
   ],
   "source": [
    "weather_df_2020_pred.isna().sum()"
   ]
  },
  {
   "cell_type": "code",
   "execution_count": 130,
   "metadata": {},
   "outputs": [
    {
     "data": {
      "text/plain": [
       "iata_code          0\n",
       "DAY_OF_MONTH       0\n",
       "tavg             112\n",
       "tmin             111\n",
       "tmax             111\n",
       "prcp            1738\n",
       "snow             111\n",
       "wspd             191\n",
       "pres            1374\n",
       "dtype: int64"
      ]
     },
     "execution_count": 130,
     "metadata": {},
     "output_type": "execute_result"
    }
   ],
   "source": [
    "weather_df_2020_pred.isna().sum()"
   ]
  },
  {
   "cell_type": "markdown",
   "metadata": {},
   "source": [
    "We have managed to eliminate 5350 missing values of snow. The data is now merged again"
   ]
  },
  {
   "cell_type": "code",
   "execution_count": 131,
   "metadata": {},
   "outputs": [],
   "source": [
    "df20_weather = df20.merge(weather_df_2020_pred.rename(rename_map('ORIGIN'), axis=1), on=['ORIGIN', 'DAY_OF_MONTH'])\n",
    "df20_weather = df20_weather.merge(weather_df_2020_pred.rename(rename_map('DEST'), axis=1), on=['DEST', 'DAY_OF_MONTH'])"
   ]
  },
  {
   "cell_type": "code",
   "execution_count": 132,
   "metadata": {},
   "outputs": [
    {
     "data": {
      "text/plain": [
       "(606497, 35)"
      ]
     },
     "execution_count": 132,
     "metadata": {},
     "output_type": "execute_result"
    }
   ],
   "source": [
    "df20_weather.shape"
   ]
  },
  {
   "cell_type": "code",
   "execution_count": 133,
   "metadata": {
    "scrolled": true
   },
   "outputs": [
    {
     "data": {
      "text/plain": [
       "DAY_OF_MONTH                 0\n",
       "DAY_OF_WEEK                  0\n",
       "OP_UNIQUE_CARRIER            0\n",
       "OP_CARRIER_AIRLINE_ID        0\n",
       "OP_CARRIER                   0\n",
       "TAIL_NUM                   698\n",
       "OP_CARRIER_FL_NUM            0\n",
       "ORIGIN_AIRPORT_ID            0\n",
       "ORIGIN_AIRPORT_SEQ_ID        0\n",
       "ORIGIN                       0\n",
       "DEST_AIRPORT_ID              0\n",
       "DEST_AIRPORT_SEQ_ID          0\n",
       "DEST                         0\n",
       "DEP_TIME                  6638\n",
       "DEP_DEL15                 6671\n",
       "DEP_TIME_BLK                 0\n",
       "ARR_TIME                  7046\n",
       "ARR_DEL15                 8043\n",
       "CANCELLED                    0\n",
       "DIVERTED                     0\n",
       "DISTANCE                     0\n",
       "ORIGIN_tavg               3232\n",
       "ORIGIN_tmin               3225\n",
       "ORIGIN_tmax               3225\n",
       "ORIGIN_prcp              28496\n",
       "ORIGIN_snow               3225\n",
       "ORIGIN_wspd               4337\n",
       "ORIGIN_pres              25972\n",
       "DEST_tavg                 3236\n",
       "DEST_tmin                 3229\n",
       "DEST_tmax                 3229\n",
       "DEST_prcp                28520\n",
       "DEST_snow                 3229\n",
       "DEST_wspd                 4341\n",
       "DEST_pres                25987\n",
       "dtype: int64"
      ]
     },
     "execution_count": 133,
     "metadata": {},
     "output_type": "execute_result"
    }
   ],
   "source": [
    "df20_weather.isna().sum()"
   ]
  },
  {
   "cell_type": "markdown",
   "metadata": {
    "run_control": {
     "marked": false
    }
   },
   "source": [
    "We now have much less missing values in the snow column. We went from 190000 missing rows to 3200."
   ]
  },
  {
   "cell_type": "markdown",
   "metadata": {},
   "source": [
    "## Validation\n",
    "\n",
    "We will now investigate how the descriptive statistics look with the imputed values"
   ]
  },
  {
   "cell_type": "code",
   "execution_count": 134,
   "metadata": {},
   "outputs": [],
   "source": [
    "weather_df_total_pred = pd.concat([weather_df_2019_pred, weather_df_2020_pred]).reset_index(drop=True)"
   ]
  },
  {
   "cell_type": "code",
   "execution_count": 135,
   "metadata": {},
   "outputs": [
    {
     "data": {
      "text/html": [
       "<div>\n",
       "<style scoped>\n",
       "    .dataframe tbody tr th:only-of-type {\n",
       "        vertical-align: middle;\n",
       "    }\n",
       "\n",
       "    .dataframe tbody tr th {\n",
       "        vertical-align: top;\n",
       "    }\n",
       "\n",
       "    .dataframe thead th {\n",
       "        text-align: right;\n",
       "    }\n",
       "</style>\n",
       "<table border=\"1\" class=\"dataframe\">\n",
       "  <thead>\n",
       "    <tr style=\"text-align: right;\">\n",
       "      <th></th>\n",
       "      <th>tavg</th>\n",
       "      <th>tmin</th>\n",
       "      <th>tmax</th>\n",
       "      <th>prcp</th>\n",
       "      <th>snow</th>\n",
       "      <th>wspd</th>\n",
       "      <th>pres</th>\n",
       "    </tr>\n",
       "  </thead>\n",
       "  <tbody>\n",
       "    <tr>\n",
       "      <th>count</th>\n",
       "      <td>6632.000000</td>\n",
       "      <td>6634.000000</td>\n",
       "      <td>6634.000000</td>\n",
       "      <td>5032.000000</td>\n",
       "      <td>6634.000000</td>\n",
       "      <td>6560.000000</td>\n",
       "      <td>5580.000000</td>\n",
       "    </tr>\n",
       "    <tr>\n",
       "      <th>mean</th>\n",
       "      <td>-8.511226</td>\n",
       "      <td>-13.337284</td>\n",
       "      <td>-3.987550</td>\n",
       "      <td>1.025037</td>\n",
       "      <td>616.197292</td>\n",
       "      <td>14.200768</td>\n",
       "      <td>1021.604408</td>\n",
       "    </tr>\n",
       "    <tr>\n",
       "      <th>std</th>\n",
       "      <td>7.554823</td>\n",
       "      <td>8.394080</td>\n",
       "      <td>7.453285</td>\n",
       "      <td>3.636202</td>\n",
       "      <td>659.104032</td>\n",
       "      <td>8.136214</td>\n",
       "      <td>8.385012</td>\n",
       "    </tr>\n",
       "    <tr>\n",
       "      <th>min</th>\n",
       "      <td>-39.200000</td>\n",
       "      <td>-44.000000</td>\n",
       "      <td>-36.700000</td>\n",
       "      <td>0.000000</td>\n",
       "      <td>30.188330</td>\n",
       "      <td>0.000000</td>\n",
       "      <td>972.900000</td>\n",
       "    </tr>\n",
       "    <tr>\n",
       "      <th>25%</th>\n",
       "      <td>-12.800000</td>\n",
       "      <td>-18.300000</td>\n",
       "      <td>-8.200000</td>\n",
       "      <td>0.000000</td>\n",
       "      <td>134.364977</td>\n",
       "      <td>8.000000</td>\n",
       "      <td>1017.000000</td>\n",
       "    </tr>\n",
       "    <tr>\n",
       "      <th>50%</th>\n",
       "      <td>-6.400000</td>\n",
       "      <td>-11.700000</td>\n",
       "      <td>-2.000000</td>\n",
       "      <td>0.000000</td>\n",
       "      <td>330.000000</td>\n",
       "      <td>13.000000</td>\n",
       "      <td>1022.700000</td>\n",
       "    </tr>\n",
       "    <tr>\n",
       "      <th>75%</th>\n",
       "      <td>-2.600000</td>\n",
       "      <td>-6.800000</td>\n",
       "      <td>1.100000</td>\n",
       "      <td>0.262500</td>\n",
       "      <td>905.554035</td>\n",
       "      <td>18.800000</td>\n",
       "      <td>1027.500000</td>\n",
       "    </tr>\n",
       "    <tr>\n",
       "      <th>max</th>\n",
       "      <td>7.100000</td>\n",
       "      <td>5.000000</td>\n",
       "      <td>13.300000</td>\n",
       "      <td>63.200000</td>\n",
       "      <td>3866.075868</td>\n",
       "      <td>49.000000</td>\n",
       "      <td>1043.100000</td>\n",
       "    </tr>\n",
       "  </tbody>\n",
       "</table>\n",
       "</div>"
      ],
      "text/plain": [
       "              tavg         tmin         tmax         prcp         snow  \\\n",
       "count  6632.000000  6634.000000  6634.000000  5032.000000  6634.000000   \n",
       "mean     -8.511226   -13.337284    -3.987550     1.025037   616.197292   \n",
       "std       7.554823     8.394080     7.453285     3.636202   659.104032   \n",
       "min     -39.200000   -44.000000   -36.700000     0.000000    30.188330   \n",
       "25%     -12.800000   -18.300000    -8.200000     0.000000   134.364977   \n",
       "50%      -6.400000   -11.700000    -2.000000     0.000000   330.000000   \n",
       "75%      -2.600000    -6.800000     1.100000     0.262500   905.554035   \n",
       "max       7.100000     5.000000    13.300000    63.200000  3866.075868   \n",
       "\n",
       "              wspd         pres  \n",
       "count  6560.000000  5580.000000  \n",
       "mean     14.200768  1021.604408  \n",
       "std       8.136214     8.385012  \n",
       "min       0.000000   972.900000  \n",
       "25%       8.000000  1017.000000  \n",
       "50%      13.000000  1022.700000  \n",
       "75%      18.800000  1027.500000  \n",
       "max      49.000000  1043.100000  "
      ]
     },
     "execution_count": 135,
     "metadata": {},
     "output_type": "execute_result"
    }
   ],
   "source": [
    "weather_df_total_pred.query('snow > 30').describe()"
   ]
  },
  {
   "cell_type": "markdown",
   "metadata": {},
   "source": [
    "The table shows a slight increase in mean of the three temperature columns, which indicates that the model predicts snow in hotter temperatures. However, observing the 75% quantiles, we see that this is not the case, as these values are very close to the values from the original dataset. \n",
    "\n",
    "We can therefore assume that the model makes good predictions on there being snow, and this will have a great benefit over replacing the snow column with the mean, as that would result in all the missing rows having ~36 mm of snow, even in 20 degrees celsius.\n"
   ]
  },
  {
   "cell_type": "markdown",
   "metadata": {},
   "source": [
    "We can now save the data"
   ]
  },
  {
   "cell_type": "code",
   "execution_count": 136,
   "metadata": {},
   "outputs": [],
   "source": [
    "df19_weather.to_csv('Jan_2019_ontime_weather_imputed.csv', index=False)\n",
    "df20_weather.to_csv('Jan_2020_ontime_weather_imputed.csv', index=False)"
   ]
  }
 ],
 "metadata": {
  "kernelspec": {
   "display_name": "Python 3",
   "language": "python",
   "name": "python3"
  },
  "language_info": {
   "codemirror_mode": {
    "name": "ipython",
    "version": 3
   },
   "file_extension": ".py",
   "mimetype": "text/x-python",
   "name": "python",
   "nbconvert_exporter": "python",
   "pygments_lexer": "ipython3",
   "version": "3.8.5"
  },
  "toc": {
   "base_numbering": 1,
   "nav_menu": {},
   "number_sections": true,
   "sideBar": true,
   "skip_h1_title": false,
   "title_cell": "Table of Contents",
   "title_sidebar": "Contents",
   "toc_cell": false,
   "toc_position": {
    "height": "calc(100% - 180px)",
    "left": "10px",
    "top": "150px",
    "width": "286px"
   },
   "toc_section_display": true,
   "toc_window_display": true
  },
  "varInspector": {
   "cols": {
    "lenName": 16,
    "lenType": 16,
    "lenVar": 40
   },
   "kernels_config": {
    "python": {
     "delete_cmd_postfix": "",
     "delete_cmd_prefix": "del ",
     "library": "var_list.py",
     "varRefreshCmd": "print(var_dic_list())"
    },
    "r": {
     "delete_cmd_postfix": ") ",
     "delete_cmd_prefix": "rm(",
     "library": "var_list.r",
     "varRefreshCmd": "cat(var_dic_list()) "
    }
   },
   "position": {
    "height": "350px",
    "left": "1323px",
    "right": "20px",
    "top": "213px",
    "width": "361px"
   },
   "types_to_exclude": [
    "module",
    "function",
    "builtin_function_or_method",
    "instance",
    "_Feature"
   ],
   "window_display": false
  }
 },
 "nbformat": 4,
 "nbformat_minor": 4
}
