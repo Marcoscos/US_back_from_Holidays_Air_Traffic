{
 "cells": [
  {
   "cell_type": "markdown",
   "metadata": {},
   "source": [
    "# Data Pre-Processing Notebook"
   ]
  },
  {
   "cell_type": "markdown",
   "metadata": {},
   "source": [
    "Commercial airlines play a crucial role in world transport and bring significant benefits to society by offering cheaper and easier long distance travel. After more than half a century of mainstream adoption (especially in the US), airline operations have seen major optimizations, and today function with excellent reliability even in the face of various engineering challenges. \n",
    "\n",
    "<br>Nonetheless, passengers occasionally experience inconveniences which occur in the form of flight delays or cancellations, disrupting an otherwise functioning system and causing significant inefficiencies. However, flight delays and cancellations are sometimes inevitable and play an important role in both profits and losses of airlines. A precise way of how to estimate flight delays and cancellations is thus critical for airlines, as the results of such a prediction could be applied to increase customer satisfaction and incomes of airlines. "
   ]
  },
  {
   "cell_type": "markdown",
   "metadata": {},
   "source": [
    "The data used in this project was collected from the Bureau of Transportation Statistics, Govt. of the USA. The [datasets](https://www.kaggle.com/divyansh22/flight-delay-prediction) used contain all the flights in the United States from January 2019 and January 2020. \n",
    "\n",
    "<br>The aim of this project is to investigate the main reasons and factors that contribute to flight delays and cancellations within the US during these months. We will establish research questions which will help us analyse the data provided from different angles, to gain a comprehensive overview of the problem. We will then focus on predictive analytics and try to predict what types of flights/airlines, which destinations and which days are most likely to be affected by delays and cancellations in the future."
   ]
  },
  {
   "cell_type": "markdown",
   "metadata": {},
   "source": [
    "After adding weather data to the initial raw [dataset](https://www.kaggle.com/divyansh22/flight-delay-prediction), this notebook provides the steps of data cleaning and pre-processing."
   ]
  },
  {
   "cell_type": "markdown",
   "metadata": {},
   "source": [
    "## Installations & Imports"
   ]
  },
  {
   "cell_type": "code",
   "execution_count": 1,
   "metadata": {},
   "outputs": [],
   "source": [
    "import pandas as pd"
   ]
  },
  {
   "cell_type": "markdown",
   "metadata": {},
   "source": [
    "## Loading data\n",
    "\n",
    "We first load the data into variables `df19_raw`and `df20_raw` which will be used throughtout the project."
   ]
  },
  {
   "cell_type": "code",
   "execution_count": 2,
   "metadata": {},
   "outputs": [],
   "source": [
    "df19_raw = pd.read_csv(\"Jan_2019_ontime_weather_imputed.csv\")\n",
    "df20_raw = pd.read_csv(\"Jan_2020_ontime_weather_imputed.csv\")"
   ]
  },
  {
   "cell_type": "code",
   "execution_count": 3,
   "metadata": {},
   "outputs": [
    {
     "data": {
      "text/plain": [
       "((583985, 35), (606497, 35))"
      ]
     },
     "execution_count": 3,
     "metadata": {},
     "output_type": "execute_result"
    }
   ],
   "source": [
    "df19_raw.shape, df20_raw.shape"
   ]
  },
  {
   "cell_type": "markdown",
   "metadata": {},
   "source": [
    "The amount of flights during both months were quite similar, with January 2020 having only slightly more overall flights.\n"
   ]
  },
  {
   "cell_type": "markdown",
   "metadata": {},
   "source": [
    "To make parts of the analysis easier to work with, we merge the two dataframes and add a YEAR column."
   ]
  },
  {
   "cell_type": "code",
   "execution_count": 4,
   "metadata": {},
   "outputs": [
    {
     "data": {
      "text/plain": [
       "(1190482, 36)"
      ]
     },
     "execution_count": 4,
     "metadata": {},
     "output_type": "execute_result"
    }
   ],
   "source": [
    "df19_raw['YEAR'] = 2019\n",
    "df20_raw['YEAR'] = 2020\n",
    "\n",
    "df = pd.concat([df19_raw, df20_raw]).reset_index(drop=True)\n",
    "df.shape"
   ]
  },
  {
   "cell_type": "code",
   "execution_count": 5,
   "metadata": {},
   "outputs": [
    {
     "data": {
      "text/plain": [
       "(583985, 36)"
      ]
     },
     "execution_count": 5,
     "metadata": {},
     "output_type": "execute_result"
    }
   ],
   "source": [
    "df[df.YEAR == 2019].shape"
   ]
  },
  {
   "cell_type": "code",
   "execution_count": 6,
   "metadata": {
    "scrolled": true
   },
   "outputs": [
    {
     "data": {
      "text/html": [
       "<div>\n",
       "<style scoped>\n",
       "    .dataframe tbody tr th:only-of-type {\n",
       "        vertical-align: middle;\n",
       "    }\n",
       "\n",
       "    .dataframe tbody tr th {\n",
       "        vertical-align: top;\n",
       "    }\n",
       "\n",
       "    .dataframe thead th {\n",
       "        text-align: right;\n",
       "    }\n",
       "</style>\n",
       "<table border=\"1\" class=\"dataframe\">\n",
       "  <thead>\n",
       "    <tr style=\"text-align: right;\">\n",
       "      <th></th>\n",
       "      <th>DAY_OF_MONTH</th>\n",
       "      <th>DAY_OF_WEEK</th>\n",
       "      <th>OP_UNIQUE_CARRIER</th>\n",
       "      <th>OP_CARRIER_AIRLINE_ID</th>\n",
       "      <th>OP_CARRIER</th>\n",
       "      <th>TAIL_NUM</th>\n",
       "      <th>OP_CARRIER_FL_NUM</th>\n",
       "      <th>ORIGIN_AIRPORT_ID</th>\n",
       "      <th>ORIGIN_AIRPORT_SEQ_ID</th>\n",
       "      <th>ORIGIN</th>\n",
       "      <th>...</th>\n",
       "      <th>ORIGIN_wspd</th>\n",
       "      <th>ORIGIN_pres</th>\n",
       "      <th>DEST_tavg</th>\n",
       "      <th>DEST_tmin</th>\n",
       "      <th>DEST_tmax</th>\n",
       "      <th>DEST_prcp</th>\n",
       "      <th>DEST_snow</th>\n",
       "      <th>DEST_wspd</th>\n",
       "      <th>DEST_pres</th>\n",
       "      <th>YEAR</th>\n",
       "    </tr>\n",
       "  </thead>\n",
       "  <tbody>\n",
       "    <tr>\n",
       "      <th>1101054</th>\n",
       "      <td>27</td>\n",
       "      <td>1</td>\n",
       "      <td>B6</td>\n",
       "      <td>20409</td>\n",
       "      <td>B6</td>\n",
       "      <td>N292JB</td>\n",
       "      <td>1646</td>\n",
       "      <td>11057</td>\n",
       "      <td>1105703</td>\n",
       "      <td>CLT</td>\n",
       "      <td>...</td>\n",
       "      <td>1.6</td>\n",
       "      <td>1019.2</td>\n",
       "      <td>1.7</td>\n",
       "      <td>-2.7</td>\n",
       "      <td>8.3</td>\n",
       "      <td>0.0</td>\n",
       "      <td>0.0</td>\n",
       "      <td>21.2</td>\n",
       "      <td>1018.6</td>\n",
       "      <td>2020</td>\n",
       "    </tr>\n",
       "  </tbody>\n",
       "</table>\n",
       "<p>1 rows × 36 columns</p>\n",
       "</div>"
      ],
      "text/plain": [
       "         DAY_OF_MONTH  DAY_OF_WEEK OP_UNIQUE_CARRIER  OP_CARRIER_AIRLINE_ID  \\\n",
       "1101054            27            1                B6                  20409   \n",
       "\n",
       "        OP_CARRIER TAIL_NUM  OP_CARRIER_FL_NUM  ORIGIN_AIRPORT_ID  \\\n",
       "1101054         B6   N292JB               1646              11057   \n",
       "\n",
       "         ORIGIN_AIRPORT_SEQ_ID ORIGIN  ...  ORIGIN_wspd  ORIGIN_pres  \\\n",
       "1101054                1105703    CLT  ...          1.6       1019.2   \n",
       "\n",
       "        DEST_tavg  DEST_tmin  DEST_tmax DEST_prcp  DEST_snow  DEST_wspd  \\\n",
       "1101054       1.7       -2.7        8.3       0.0        0.0       21.2   \n",
       "\n",
       "         DEST_pres  YEAR  \n",
       "1101054     1018.6  2020  \n",
       "\n",
       "[1 rows x 36 columns]"
      ]
     },
     "execution_count": 6,
     "metadata": {},
     "output_type": "execute_result"
    }
   ],
   "source": [
    "df.sample(1)"
   ]
  },
  {
   "cell_type": "markdown",
   "metadata": {},
   "source": [
    "Now we have a dataset including all the original columns, weather data, as well as a `YEAR` column. The next step is to perform some data pre-processing.\n"
   ]
  },
  {
   "cell_type": "markdown",
   "metadata": {},
   "source": [
    "## Data pre-processing"
   ]
  },
  {
   "cell_type": "markdown",
   "metadata": {},
   "source": [
    "Within data pre-processing, we first have to look at what data types each column has, as different datasets might use different data formats and we need to make sure that the data in each column has the right data type so that it can be used in our further analysis. In terms of data cleaning, we will mainly look at the missing data (NaN values)."
   ]
  },
  {
   "cell_type": "markdown",
   "metadata": {},
   "source": [
    "### Data types\n",
    "\n",
    "Let's look at data types for each of the columns to get a better idea of the dataset."
   ]
  },
  {
   "cell_type": "code",
   "execution_count": 7,
   "metadata": {},
   "outputs": [
    {
     "name": "stdout",
     "output_type": "stream",
     "text": [
      "<class 'pandas.core.frame.DataFrame'>\n",
      "RangeIndex: 1190482 entries, 0 to 1190481\n",
      "Data columns (total 36 columns):\n",
      " #   Column                 Non-Null Count    Dtype  \n",
      "---  ------                 --------------    -----  \n",
      " 0   DAY_OF_MONTH           1190482 non-null  int64  \n",
      " 1   DAY_OF_WEEK            1190482 non-null  int64  \n",
      " 2   OP_UNIQUE_CARRIER      1190482 non-null  object \n",
      " 3   OP_CARRIER_AIRLINE_ID  1190482 non-null  int64  \n",
      " 4   OP_CARRIER             1190482 non-null  object \n",
      " 5   TAIL_NUM               1187241 non-null  object \n",
      " 6   OP_CARRIER_FL_NUM      1190482 non-null  int64  \n",
      " 7   ORIGIN_AIRPORT_ID      1190482 non-null  int64  \n",
      " 8   ORIGIN_AIRPORT_SEQ_ID  1190482 non-null  int64  \n",
      " 9   ORIGIN                 1190482 non-null  object \n",
      " 10  DEST_AIRPORT_ID        1190482 non-null  int64  \n",
      " 11  DEST_AIRPORT_SEQ_ID    1190482 non-null  int64  \n",
      " 12  DEST                   1190482 non-null  object \n",
      " 13  DEP_TIME               1167492 non-null  float64\n",
      " 14  DEP_DEL15              1167456 non-null  float64\n",
      " 15  DEP_TIME_BLK           1190482 non-null  object \n",
      " 16  ARR_TIME               1166375 non-null  float64\n",
      " 17  ARR_DEL15              1164417 non-null  float64\n",
      " 18  CANCELLED              1190482 non-null  float64\n",
      " 19  DIVERTED               1190482 non-null  float64\n",
      " 20  DISTANCE               1190482 non-null  float64\n",
      " 21  ORIGIN_tavg            1184331 non-null  float64\n",
      " 22  ORIGIN_tmin            1184345 non-null  float64\n",
      " 23  ORIGIN_tmax            1184345 non-null  float64\n",
      " 24  ORIGIN_prcp            1135130 non-null  float64\n",
      " 25  ORIGIN_snow            1184345 non-null  float64\n",
      " 26  ORIGIN_wspd            1182193 non-null  float64\n",
      " 27  ORIGIN_pres            1140197 non-null  float64\n",
      " 28  DEST_tavg              1184323 non-null  float64\n",
      " 29  DEST_tmin              1184337 non-null  float64\n",
      " 30  DEST_tmax              1184337 non-null  float64\n",
      " 31  DEST_prcp              1135087 non-null  float64\n",
      " 32  DEST_snow              1184337 non-null  float64\n",
      " 33  DEST_wspd              1182184 non-null  float64\n",
      " 34  DEST_pres              1140160 non-null  float64\n",
      " 35  YEAR                   1190482 non-null  int64  \n",
      "dtypes: float64(21), int64(9), object(6)\n",
      "memory usage: 327.0+ MB\n"
     ]
    }
   ],
   "source": [
    "df.info()"
   ]
  },
  {
   "cell_type": "code",
   "execution_count": 8,
   "metadata": {},
   "outputs": [
    {
     "data": {
      "text/html": [
       "<div>\n",
       "<style scoped>\n",
       "    .dataframe tbody tr th:only-of-type {\n",
       "        vertical-align: middle;\n",
       "    }\n",
       "\n",
       "    .dataframe tbody tr th {\n",
       "        vertical-align: top;\n",
       "    }\n",
       "\n",
       "    .dataframe thead th {\n",
       "        text-align: right;\n",
       "    }\n",
       "</style>\n",
       "<table border=\"1\" class=\"dataframe\">\n",
       "  <thead>\n",
       "    <tr style=\"text-align: right;\">\n",
       "      <th></th>\n",
       "      <th>DAY_OF_MONTH</th>\n",
       "      <th>DAY_OF_WEEK</th>\n",
       "      <th>OP_UNIQUE_CARRIER</th>\n",
       "      <th>OP_CARRIER_AIRLINE_ID</th>\n",
       "      <th>OP_CARRIER</th>\n",
       "      <th>TAIL_NUM</th>\n",
       "      <th>OP_CARRIER_FL_NUM</th>\n",
       "      <th>ORIGIN_AIRPORT_ID</th>\n",
       "      <th>ORIGIN_AIRPORT_SEQ_ID</th>\n",
       "      <th>ORIGIN</th>\n",
       "      <th>...</th>\n",
       "      <th>ORIGIN_wspd</th>\n",
       "      <th>ORIGIN_pres</th>\n",
       "      <th>DEST_tavg</th>\n",
       "      <th>DEST_tmin</th>\n",
       "      <th>DEST_tmax</th>\n",
       "      <th>DEST_prcp</th>\n",
       "      <th>DEST_snow</th>\n",
       "      <th>DEST_wspd</th>\n",
       "      <th>DEST_pres</th>\n",
       "      <th>YEAR</th>\n",
       "    </tr>\n",
       "  </thead>\n",
       "  <tbody>\n",
       "    <tr>\n",
       "      <th>0</th>\n",
       "      <td>1</td>\n",
       "      <td>2</td>\n",
       "      <td>9E</td>\n",
       "      <td>20363</td>\n",
       "      <td>9E</td>\n",
       "      <td>N8688C</td>\n",
       "      <td>3280</td>\n",
       "      <td>11953</td>\n",
       "      <td>1195302</td>\n",
       "      <td>GNV</td>\n",
       "      <td>...</td>\n",
       "      <td>4.0</td>\n",
       "      <td>1021.9</td>\n",
       "      <td>15.9</td>\n",
       "      <td>12.9</td>\n",
       "      <td>17.9</td>\n",
       "      <td>NaN</td>\n",
       "      <td>0.000000</td>\n",
       "      <td>2.5</td>\n",
       "      <td>1016.6</td>\n",
       "      <td>2019</td>\n",
       "    </tr>\n",
       "    <tr>\n",
       "      <th>1</th>\n",
       "      <td>1</td>\n",
       "      <td>2</td>\n",
       "      <td>9E</td>\n",
       "      <td>20363</td>\n",
       "      <td>9E</td>\n",
       "      <td>N8928A</td>\n",
       "      <td>3301</td>\n",
       "      <td>11953</td>\n",
       "      <td>1195302</td>\n",
       "      <td>GNV</td>\n",
       "      <td>...</td>\n",
       "      <td>4.0</td>\n",
       "      <td>1021.9</td>\n",
       "      <td>15.9</td>\n",
       "      <td>12.9</td>\n",
       "      <td>17.9</td>\n",
       "      <td>NaN</td>\n",
       "      <td>0.000000</td>\n",
       "      <td>2.5</td>\n",
       "      <td>1016.6</td>\n",
       "      <td>2019</td>\n",
       "    </tr>\n",
       "    <tr>\n",
       "      <th>2</th>\n",
       "      <td>1</td>\n",
       "      <td>2</td>\n",
       "      <td>OO</td>\n",
       "      <td>20304</td>\n",
       "      <td>OO</td>\n",
       "      <td>N601XJ</td>\n",
       "      <td>3503</td>\n",
       "      <td>11953</td>\n",
       "      <td>1195302</td>\n",
       "      <td>GNV</td>\n",
       "      <td>...</td>\n",
       "      <td>4.0</td>\n",
       "      <td>1021.9</td>\n",
       "      <td>15.9</td>\n",
       "      <td>12.9</td>\n",
       "      <td>17.9</td>\n",
       "      <td>NaN</td>\n",
       "      <td>0.000000</td>\n",
       "      <td>2.5</td>\n",
       "      <td>1016.6</td>\n",
       "      <td>2019</td>\n",
       "    </tr>\n",
       "    <tr>\n",
       "      <th>3</th>\n",
       "      <td>1</td>\n",
       "      <td>2</td>\n",
       "      <td>9E</td>\n",
       "      <td>20363</td>\n",
       "      <td>9E</td>\n",
       "      <td>N181PQ</td>\n",
       "      <td>5016</td>\n",
       "      <td>11953</td>\n",
       "      <td>1195302</td>\n",
       "      <td>GNV</td>\n",
       "      <td>...</td>\n",
       "      <td>4.0</td>\n",
       "      <td>1021.9</td>\n",
       "      <td>15.9</td>\n",
       "      <td>12.9</td>\n",
       "      <td>17.9</td>\n",
       "      <td>NaN</td>\n",
       "      <td>0.000000</td>\n",
       "      <td>2.5</td>\n",
       "      <td>1016.6</td>\n",
       "      <td>2019</td>\n",
       "    </tr>\n",
       "    <tr>\n",
       "      <th>4</th>\n",
       "      <td>1</td>\n",
       "      <td>2</td>\n",
       "      <td>WN</td>\n",
       "      <td>19393</td>\n",
       "      <td>WN</td>\n",
       "      <td>N746SW</td>\n",
       "      <td>1272</td>\n",
       "      <td>13487</td>\n",
       "      <td>1348702</td>\n",
       "      <td>MSP</td>\n",
       "      <td>...</td>\n",
       "      <td>11.7</td>\n",
       "      <td>1030.6</td>\n",
       "      <td>15.9</td>\n",
       "      <td>12.9</td>\n",
       "      <td>17.9</td>\n",
       "      <td>NaN</td>\n",
       "      <td>0.000000</td>\n",
       "      <td>2.5</td>\n",
       "      <td>1016.6</td>\n",
       "      <td>2019</td>\n",
       "    </tr>\n",
       "    <tr>\n",
       "      <th>...</th>\n",
       "      <td>...</td>\n",
       "      <td>...</td>\n",
       "      <td>...</td>\n",
       "      <td>...</td>\n",
       "      <td>...</td>\n",
       "      <td>...</td>\n",
       "      <td>...</td>\n",
       "      <td>...</td>\n",
       "      <td>...</td>\n",
       "      <td>...</td>\n",
       "      <td>...</td>\n",
       "      <td>...</td>\n",
       "      <td>...</td>\n",
       "      <td>...</td>\n",
       "      <td>...</td>\n",
       "      <td>...</td>\n",
       "      <td>...</td>\n",
       "      <td>...</td>\n",
       "      <td>...</td>\n",
       "      <td>...</td>\n",
       "      <td>...</td>\n",
       "    </tr>\n",
       "    <tr>\n",
       "      <th>1190477</th>\n",
       "      <td>31</td>\n",
       "      <td>5</td>\n",
       "      <td>G4</td>\n",
       "      <td>20368</td>\n",
       "      <td>G4</td>\n",
       "      <td>311NV</td>\n",
       "      <td>2188</td>\n",
       "      <td>14761</td>\n",
       "      <td>1476107</td>\n",
       "      <td>SFB</td>\n",
       "      <td>...</td>\n",
       "      <td>15.3</td>\n",
       "      <td>1025.8</td>\n",
       "      <td>-13.8</td>\n",
       "      <td>-18.1</td>\n",
       "      <td>-9.5</td>\n",
       "      <td>NaN</td>\n",
       "      <td>1428.405327</td>\n",
       "      <td>18.8</td>\n",
       "      <td>1021.6</td>\n",
       "      <td>2020</td>\n",
       "    </tr>\n",
       "    <tr>\n",
       "      <th>1190478</th>\n",
       "      <td>31</td>\n",
       "      <td>5</td>\n",
       "      <td>G4</td>\n",
       "      <td>20368</td>\n",
       "      <td>G4</td>\n",
       "      <td>222NV</td>\n",
       "      <td>813</td>\n",
       "      <td>14112</td>\n",
       "      <td>1411206</td>\n",
       "      <td>PIE</td>\n",
       "      <td>...</td>\n",
       "      <td>17.4</td>\n",
       "      <td>1025.0</td>\n",
       "      <td>-12.4</td>\n",
       "      <td>-17.1</td>\n",
       "      <td>-4.9</td>\n",
       "      <td>0.0</td>\n",
       "      <td>0.000000</td>\n",
       "      <td>5.0</td>\n",
       "      <td>1011.9</td>\n",
       "      <td>2020</td>\n",
       "    </tr>\n",
       "    <tr>\n",
       "      <th>1190479</th>\n",
       "      <td>31</td>\n",
       "      <td>5</td>\n",
       "      <td>G4</td>\n",
       "      <td>20368</td>\n",
       "      <td>G4</td>\n",
       "      <td>241NV</td>\n",
       "      <td>484</td>\n",
       "      <td>14761</td>\n",
       "      <td>1476107</td>\n",
       "      <td>SFB</td>\n",
       "      <td>...</td>\n",
       "      <td>15.3</td>\n",
       "      <td>1025.8</td>\n",
       "      <td>-12.4</td>\n",
       "      <td>-17.1</td>\n",
       "      <td>-4.9</td>\n",
       "      <td>0.0</td>\n",
       "      <td>0.000000</td>\n",
       "      <td>5.0</td>\n",
       "      <td>1011.9</td>\n",
       "      <td>2020</td>\n",
       "    </tr>\n",
       "    <tr>\n",
       "      <th>1190480</th>\n",
       "      <td>31</td>\n",
       "      <td>5</td>\n",
       "      <td>G4</td>\n",
       "      <td>20368</td>\n",
       "      <td>G4</td>\n",
       "      <td>312NV</td>\n",
       "      <td>2393</td>\n",
       "      <td>14761</td>\n",
       "      <td>1476107</td>\n",
       "      <td>SFB</td>\n",
       "      <td>...</td>\n",
       "      <td>15.3</td>\n",
       "      <td>1025.8</td>\n",
       "      <td>-8.7</td>\n",
       "      <td>-13.9</td>\n",
       "      <td>-2.8</td>\n",
       "      <td>NaN</td>\n",
       "      <td>879.005178</td>\n",
       "      <td>10.3</td>\n",
       "      <td>1029.3</td>\n",
       "      <td>2020</td>\n",
       "    </tr>\n",
       "    <tr>\n",
       "      <th>1190481</th>\n",
       "      <td>31</td>\n",
       "      <td>5</td>\n",
       "      <td>G4</td>\n",
       "      <td>20368</td>\n",
       "      <td>G4</td>\n",
       "      <td>279NV</td>\n",
       "      <td>2199</td>\n",
       "      <td>14761</td>\n",
       "      <td>1476107</td>\n",
       "      <td>SFB</td>\n",
       "      <td>...</td>\n",
       "      <td>15.3</td>\n",
       "      <td>1025.8</td>\n",
       "      <td>-11.5</td>\n",
       "      <td>-15.6</td>\n",
       "      <td>-6.7</td>\n",
       "      <td>0.0</td>\n",
       "      <td>1163.972077</td>\n",
       "      <td>13.4</td>\n",
       "      <td>1030.6</td>\n",
       "      <td>2020</td>\n",
       "    </tr>\n",
       "  </tbody>\n",
       "</table>\n",
       "<p>1190482 rows × 36 columns</p>\n",
       "</div>"
      ],
      "text/plain": [
       "         DAY_OF_MONTH  DAY_OF_WEEK OP_UNIQUE_CARRIER  OP_CARRIER_AIRLINE_ID  \\\n",
       "0                   1            2                9E                  20363   \n",
       "1                   1            2                9E                  20363   \n",
       "2                   1            2                OO                  20304   \n",
       "3                   1            2                9E                  20363   \n",
       "4                   1            2                WN                  19393   \n",
       "...               ...          ...               ...                    ...   \n",
       "1190477            31            5                G4                  20368   \n",
       "1190478            31            5                G4                  20368   \n",
       "1190479            31            5                G4                  20368   \n",
       "1190480            31            5                G4                  20368   \n",
       "1190481            31            5                G4                  20368   \n",
       "\n",
       "        OP_CARRIER TAIL_NUM  OP_CARRIER_FL_NUM  ORIGIN_AIRPORT_ID  \\\n",
       "0               9E   N8688C               3280              11953   \n",
       "1               9E   N8928A               3301              11953   \n",
       "2               OO   N601XJ               3503              11953   \n",
       "3               9E   N181PQ               5016              11953   \n",
       "4               WN   N746SW               1272              13487   \n",
       "...            ...      ...                ...                ...   \n",
       "1190477         G4    311NV               2188              14761   \n",
       "1190478         G4    222NV                813              14112   \n",
       "1190479         G4    241NV                484              14761   \n",
       "1190480         G4    312NV               2393              14761   \n",
       "1190481         G4    279NV               2199              14761   \n",
       "\n",
       "         ORIGIN_AIRPORT_SEQ_ID ORIGIN  ...  ORIGIN_wspd  ORIGIN_pres  \\\n",
       "0                      1195302    GNV  ...          4.0       1021.9   \n",
       "1                      1195302    GNV  ...          4.0       1021.9   \n",
       "2                      1195302    GNV  ...          4.0       1021.9   \n",
       "3                      1195302    GNV  ...          4.0       1021.9   \n",
       "4                      1348702    MSP  ...         11.7       1030.6   \n",
       "...                        ...    ...  ...          ...          ...   \n",
       "1190477                1476107    SFB  ...         15.3       1025.8   \n",
       "1190478                1411206    PIE  ...         17.4       1025.0   \n",
       "1190479                1476107    SFB  ...         15.3       1025.8   \n",
       "1190480                1476107    SFB  ...         15.3       1025.8   \n",
       "1190481                1476107    SFB  ...         15.3       1025.8   \n",
       "\n",
       "        DEST_tavg  DEST_tmin  DEST_tmax DEST_prcp    DEST_snow  DEST_wspd  \\\n",
       "0            15.9       12.9       17.9       NaN     0.000000        2.5   \n",
       "1            15.9       12.9       17.9       NaN     0.000000        2.5   \n",
       "2            15.9       12.9       17.9       NaN     0.000000        2.5   \n",
       "3            15.9       12.9       17.9       NaN     0.000000        2.5   \n",
       "4            15.9       12.9       17.9       NaN     0.000000        2.5   \n",
       "...           ...        ...        ...       ...          ...        ...   \n",
       "1190477     -13.8      -18.1       -9.5       NaN  1428.405327       18.8   \n",
       "1190478     -12.4      -17.1       -4.9       0.0     0.000000        5.0   \n",
       "1190479     -12.4      -17.1       -4.9       0.0     0.000000        5.0   \n",
       "1190480      -8.7      -13.9       -2.8       NaN   879.005178       10.3   \n",
       "1190481     -11.5      -15.6       -6.7       0.0  1163.972077       13.4   \n",
       "\n",
       "         DEST_pres  YEAR  \n",
       "0           1016.6  2019  \n",
       "1           1016.6  2019  \n",
       "2           1016.6  2019  \n",
       "3           1016.6  2019  \n",
       "4           1016.6  2019  \n",
       "...            ...   ...  \n",
       "1190477     1021.6  2020  \n",
       "1190478     1011.9  2020  \n",
       "1190479     1011.9  2020  \n",
       "1190480     1029.3  2020  \n",
       "1190481     1030.6  2020  \n",
       "\n",
       "[1190482 rows x 36 columns]"
      ]
     },
     "execution_count": 8,
     "metadata": {},
     "output_type": "execute_result"
    }
   ],
   "source": [
    "df"
   ]
  },
  {
   "cell_type": "markdown",
   "metadata": {},
   "source": [
    "Instead of an object data type, we make the variables `OP_UNIQUE_CARRIER`, `OP_CARRIER`, `ORIGIN`, `DEST`, `DEP_TIME_BLK` categorical, as they represent a finite list of text values. "
   ]
  },
  {
   "cell_type": "code",
   "execution_count": 9,
   "metadata": {},
   "outputs": [],
   "source": [
    "categoricals = ['OP_UNIQUE_CARRIER', 'OP_CARRIER', 'ORIGIN', 'DEST', 'DEP_TIME_BLK']"
   ]
  },
  {
   "cell_type": "code",
   "execution_count": 10,
   "metadata": {
    "run_control": {
     "marked": false
    }
   },
   "outputs": [],
   "source": [
    "df[categoricals] = df[categoricals].astype('category')"
   ]
  },
  {
   "cell_type": "code",
   "execution_count": 11,
   "metadata": {},
   "outputs": [],
   "source": [
    "df['ORIGIN_factor'],origin_names = pd.factorize(df['ORIGIN'])\n",
    "df['DEST_factor'],destination_names = pd.factorize(df['DEST'])\n",
    "df['OP_CARRIER_factor'],op_carrier_names = pd.factorize(df['OP_CARRIER'])\n",
    "df['OP_UNIQUE_CARRIER_factor'],op_unique_carrier_names = pd.factorize(df['OP_UNIQUE_CARRIER'])"
   ]
  },
  {
   "cell_type": "markdown",
   "metadata": {},
   "source": [
    "Instead of a float data type, we make the variables `CANCELLED`, `DEP_DEL15` and `ARR_DEL15` integer."
   ]
  },
  {
   "cell_type": "code",
   "execution_count": 39,
   "metadata": {},
   "outputs": [],
   "source": [
    "df['CANCELLED'] = pd.to_numeric(df[\"CANCELLED\"], downcast=\"integer\")\n",
    "df['DEP_DEL15'] = pd.to_numeric(df[\"DEP_DEL15\"], downcast=\"integer\")\n",
    "df['ARR_DEL15'] = pd.to_numeric(df[\"ARR_DEL15\"], downcast=\"integer\")"
   ]
  },
  {
   "cell_type": "code",
   "execution_count": 40,
   "metadata": {},
   "outputs": [
    {
     "name": "stdout",
     "output_type": "stream",
     "text": [
      "<class 'pandas.core.frame.DataFrame'>\n",
      "RangeIndex: 1190482 entries, 0 to 1190481\n",
      "Data columns (total 40 columns):\n",
      " #   Column                    Non-Null Count    Dtype   \n",
      "---  ------                    --------------    -----   \n",
      " 0   DAY_OF_MONTH              1190482 non-null  int64   \n",
      " 1   DAY_OF_WEEK               1190482 non-null  int64   \n",
      " 2   OP_UNIQUE_CARRIER         1190482 non-null  category\n",
      " 3   OP_CARRIER_AIRLINE_ID     1190482 non-null  int64   \n",
      " 4   OP_CARRIER                1190482 non-null  category\n",
      " 5   TAIL_NUM                  1187241 non-null  object  \n",
      " 6   OP_CARRIER_FL_NUM         1190482 non-null  int64   \n",
      " 7   ORIGIN_AIRPORT_ID         1190482 non-null  int64   \n",
      " 8   ORIGIN_AIRPORT_SEQ_ID     1190482 non-null  int64   \n",
      " 9   ORIGIN                    1190482 non-null  category\n",
      " 10  DEST_AIRPORT_ID           1190482 non-null  int64   \n",
      " 11  DEST_AIRPORT_SEQ_ID       1190482 non-null  int64   \n",
      " 12  DEST                      1190482 non-null  category\n",
      " 13  DEP_TIME                  1167492 non-null  float64 \n",
      " 14  DEP_DEL15                 1167456 non-null  float64 \n",
      " 15  DEP_TIME_BLK              1190482 non-null  category\n",
      " 16  ARR_TIME                  1166375 non-null  float64 \n",
      " 17  ARR_DEL15                 1164417 non-null  float64 \n",
      " 18  CANCELLED                 1190482 non-null  int8    \n",
      " 19  DIVERTED                  1190482 non-null  float64 \n",
      " 20  DISTANCE                  1190482 non-null  float64 \n",
      " 21  ORIGIN_tavg               1184331 non-null  float64 \n",
      " 22  ORIGIN_tmin               1184345 non-null  float64 \n",
      " 23  ORIGIN_tmax               1184345 non-null  float64 \n",
      " 24  ORIGIN_prcp               1135130 non-null  float64 \n",
      " 25  ORIGIN_snow               1184345 non-null  float64 \n",
      " 26  ORIGIN_wspd               1182193 non-null  float64 \n",
      " 27  ORIGIN_pres               1140197 non-null  float64 \n",
      " 28  DEST_tavg                 1184323 non-null  float64 \n",
      " 29  DEST_tmin                 1184337 non-null  float64 \n",
      " 30  DEST_tmax                 1184337 non-null  float64 \n",
      " 31  DEST_prcp                 1135087 non-null  float64 \n",
      " 32  DEST_snow                 1184337 non-null  float64 \n",
      " 33  DEST_wspd                 1182184 non-null  float64 \n",
      " 34  DEST_pres                 1140160 non-null  float64 \n",
      " 35  YEAR                      1190482 non-null  int64   \n",
      " 36  ORIGIN_factor             1190482 non-null  int64   \n",
      " 37  DEST_factor               1190482 non-null  int64   \n",
      " 38  OP_CARRIER_factor         1190482 non-null  int64   \n",
      " 39  OP_UNIQUE_CARRIER_factor  1190482 non-null  int64   \n",
      "dtypes: category(5), float64(20), int64(13), int8(1), object(1)\n",
      "memory usage: 317.9+ MB\n"
     ]
    }
   ],
   "source": [
    "df.info()"
   ]
  },
  {
   "cell_type": "markdown",
   "metadata": {},
   "source": [
    "### Data cleaning\n",
    "\n",
    "In this part, we first look at how many missing values each column contains."
   ]
  },
  {
   "cell_type": "code",
   "execution_count": 41,
   "metadata": {},
   "outputs": [
    {
     "data": {
      "text/plain": [
       "DAY_OF_MONTH                    0\n",
       "DAY_OF_WEEK                     0\n",
       "OP_UNIQUE_CARRIER               0\n",
       "OP_CARRIER_AIRLINE_ID           0\n",
       "OP_CARRIER                      0\n",
       "TAIL_NUM                     3241\n",
       "OP_CARRIER_FL_NUM               0\n",
       "ORIGIN_AIRPORT_ID               0\n",
       "ORIGIN_AIRPORT_SEQ_ID           0\n",
       "ORIGIN                          0\n",
       "DEST_AIRPORT_ID                 0\n",
       "DEST_AIRPORT_SEQ_ID             0\n",
       "DEST                            0\n",
       "DEP_TIME                    22990\n",
       "DEP_DEL15                   23026\n",
       "DEP_TIME_BLK                    0\n",
       "ARR_TIME                    24107\n",
       "ARR_DEL15                   26065\n",
       "CANCELLED                       0\n",
       "DIVERTED                        0\n",
       "DISTANCE                        0\n",
       "ORIGIN_tavg                  6151\n",
       "ORIGIN_tmin                  6137\n",
       "ORIGIN_tmax                  6137\n",
       "ORIGIN_prcp                 55352\n",
       "ORIGIN_snow                  6137\n",
       "ORIGIN_wspd                  8289\n",
       "ORIGIN_pres                 50285\n",
       "DEST_tavg                    6159\n",
       "DEST_tmin                    6145\n",
       "DEST_tmax                    6145\n",
       "DEST_prcp                   55395\n",
       "DEST_snow                    6145\n",
       "DEST_wspd                    8298\n",
       "DEST_pres                   50322\n",
       "YEAR                            0\n",
       "ORIGIN_factor                   0\n",
       "DEST_factor                     0\n",
       "OP_CARRIER_factor               0\n",
       "OP_UNIQUE_CARRIER_factor        0\n",
       "dtype: int64"
      ]
     },
     "execution_count": 41,
     "metadata": {},
     "output_type": "execute_result"
    }
   ],
   "source": [
    "df.isna().sum()"
   ]
  },
  {
   "cell_type": "markdown",
   "metadata": {},
   "source": [
    "There are missing values, mostly among the weather data. However, there are also some NaN values related to departure and arrival times and delays, since in the case when a flight is cancelled, it cannot have a departure/arrivel time, as the flight itself did not happen. We inspect these times in the instances when a flight was cancelled. "
   ]
  },
  {
   "cell_type": "code",
   "execution_count": 42,
   "metadata": {
    "run_control": {
     "marked": false
    },
    "scrolled": false
   },
   "outputs": [
    {
     "data": {
      "text/html": [
       "<div>\n",
       "<style scoped>\n",
       "    .dataframe tbody tr th:only-of-type {\n",
       "        vertical-align: middle;\n",
       "    }\n",
       "\n",
       "    .dataframe tbody tr th {\n",
       "        vertical-align: top;\n",
       "    }\n",
       "\n",
       "    .dataframe thead th {\n",
       "        text-align: right;\n",
       "    }\n",
       "</style>\n",
       "<table border=\"1\" class=\"dataframe\">\n",
       "  <thead>\n",
       "    <tr style=\"text-align: right;\">\n",
       "      <th></th>\n",
       "      <th>DEP_TIME</th>\n",
       "      <th>ARR_TIME</th>\n",
       "      <th>CANCELLED</th>\n",
       "    </tr>\n",
       "  </thead>\n",
       "  <tbody>\n",
       "    <tr>\n",
       "      <th>949</th>\n",
       "      <td>NaN</td>\n",
       "      <td>NaN</td>\n",
       "      <td>1</td>\n",
       "    </tr>\n",
       "    <tr>\n",
       "      <th>1434</th>\n",
       "      <td>NaN</td>\n",
       "      <td>NaN</td>\n",
       "      <td>1</td>\n",
       "    </tr>\n",
       "    <tr>\n",
       "      <th>1441</th>\n",
       "      <td>NaN</td>\n",
       "      <td>NaN</td>\n",
       "      <td>1</td>\n",
       "    </tr>\n",
       "    <tr>\n",
       "      <th>1448</th>\n",
       "      <td>NaN</td>\n",
       "      <td>NaN</td>\n",
       "      <td>1</td>\n",
       "    </tr>\n",
       "    <tr>\n",
       "      <th>1487</th>\n",
       "      <td>NaN</td>\n",
       "      <td>NaN</td>\n",
       "      <td>1</td>\n",
       "    </tr>\n",
       "    <tr>\n",
       "      <th>...</th>\n",
       "      <td>...</td>\n",
       "      <td>...</td>\n",
       "      <td>...</td>\n",
       "    </tr>\n",
       "    <tr>\n",
       "      <th>1190340</th>\n",
       "      <td>911.0</td>\n",
       "      <td>NaN</td>\n",
       "      <td>1</td>\n",
       "    </tr>\n",
       "    <tr>\n",
       "      <th>1190377</th>\n",
       "      <td>NaN</td>\n",
       "      <td>NaN</td>\n",
       "      <td>1</td>\n",
       "    </tr>\n",
       "    <tr>\n",
       "      <th>1190402</th>\n",
       "      <td>NaN</td>\n",
       "      <td>NaN</td>\n",
       "      <td>1</td>\n",
       "    </tr>\n",
       "    <tr>\n",
       "      <th>1190452</th>\n",
       "      <td>NaN</td>\n",
       "      <td>NaN</td>\n",
       "      <td>1</td>\n",
       "    </tr>\n",
       "    <tr>\n",
       "      <th>1190460</th>\n",
       "      <td>NaN</td>\n",
       "      <td>NaN</td>\n",
       "      <td>1</td>\n",
       "    </tr>\n",
       "  </tbody>\n",
       "</table>\n",
       "<p>23625 rows × 3 columns</p>\n",
       "</div>"
      ],
      "text/plain": [
       "         DEP_TIME  ARR_TIME  CANCELLED\n",
       "949           NaN       NaN          1\n",
       "1434          NaN       NaN          1\n",
       "1441          NaN       NaN          1\n",
       "1448          NaN       NaN          1\n",
       "1487          NaN       NaN          1\n",
       "...           ...       ...        ...\n",
       "1190340     911.0       NaN          1\n",
       "1190377       NaN       NaN          1\n",
       "1190402       NaN       NaN          1\n",
       "1190452       NaN       NaN          1\n",
       "1190460       NaN       NaN          1\n",
       "\n",
       "[23625 rows x 3 columns]"
      ]
     },
     "execution_count": 42,
     "metadata": {},
     "output_type": "execute_result"
    }
   ],
   "source": [
    "df.loc[df.CANCELLED == 1, ['DEP_TIME', 'ARR_TIME', 'CANCELLED']]"
   ]
  },
  {
   "cell_type": "code",
   "execution_count": 43,
   "metadata": {},
   "outputs": [
    {
     "data": {
      "text/plain": [
       "23625"
      ]
     },
     "execution_count": 43,
     "metadata": {},
     "output_type": "execute_result"
    }
   ],
   "source": [
    "len(df.loc[df.CANCELLED == 1, ['DEP_TIME', 'ARR_TIME', 'CANCELLED']].loc[df.ARR_TIME.isnull()])"
   ]
  },
  {
   "cell_type": "markdown",
   "metadata": {},
   "source": [
    "We see that there are no arrival times for cancelled flights, which makes sense, but that might not be the case for departure times, as there could be the case that it can take off. We will use this information later for the predictive models, as we know that neither of these two columns will contribute to the predictions. One could encode a column with 'DEP_MISSING' or 'ARR_MISSING'. However, such columns are not available before the flight is cancelled, and will render the model useless in a real world setting."
   ]
  },
  {
   "cell_type": "markdown",
   "metadata": {},
   "source": [
    "Next we will inspect the missing values on weather data and to which extent dropping these will have an effect on the cancellations and delays."
   ]
  },
  {
   "cell_type": "code",
   "execution_count": 44,
   "metadata": {},
   "outputs": [],
   "source": [
    "org_weather = ['ORIGIN_tavg', 'ORIGIN_tmin', 'ORIGIN_tmax', 'ORIGIN_prcp', 'ORIGIN_snow', 'ORIGIN_wspd', 'ORIGIN_pres']\n",
    "dest_weather = ['DEST_tavg', 'DEST_tmin', 'DEST_tmax', 'DEST_prcp', 'DEST_snow', 'DEST_wspd', 'DEST_pres']"
   ]
  },
  {
   "cell_type": "code",
   "execution_count": 45,
   "metadata": {},
   "outputs": [],
   "source": [
    "df_clean_weather = df.dropna(subset=org_weather + dest_weather)"
   ]
  },
  {
   "cell_type": "code",
   "execution_count": 46,
   "metadata": {},
   "outputs": [
    {
     "data": {
      "text/plain": [
       "DAY_OF_MONTH                    0\n",
       "DAY_OF_WEEK                     0\n",
       "OP_UNIQUE_CARRIER               0\n",
       "OP_CARRIER_AIRLINE_ID           0\n",
       "OP_CARRIER                      0\n",
       "TAIL_NUM                     2823\n",
       "OP_CARRIER_FL_NUM               0\n",
       "ORIGIN_AIRPORT_ID               0\n",
       "ORIGIN_AIRPORT_SEQ_ID           0\n",
       "ORIGIN                          0\n",
       "DEST_AIRPORT_ID                 0\n",
       "DEST_AIRPORT_SEQ_ID             0\n",
       "DEST                            0\n",
       "DEP_TIME                    19842\n",
       "DEP_DEL15                   19873\n",
       "DEP_TIME_BLK                    0\n",
       "ARR_TIME                    20810\n",
       "ARR_DEL15                   22469\n",
       "CANCELLED                       0\n",
       "DIVERTED                        0\n",
       "DISTANCE                        0\n",
       "ORIGIN_tavg                     0\n",
       "ORIGIN_tmin                     0\n",
       "ORIGIN_tmax                     0\n",
       "ORIGIN_prcp                     0\n",
       "ORIGIN_snow                     0\n",
       "ORIGIN_wspd                     0\n",
       "ORIGIN_pres                     0\n",
       "DEST_tavg                       0\n",
       "DEST_tmin                       0\n",
       "DEST_tmax                       0\n",
       "DEST_prcp                       0\n",
       "DEST_snow                       0\n",
       "DEST_wspd                       0\n",
       "DEST_pres                       0\n",
       "YEAR                            0\n",
       "ORIGIN_factor                   0\n",
       "DEST_factor                     0\n",
       "OP_CARRIER_factor               0\n",
       "OP_UNIQUE_CARRIER_factor        0\n",
       "dtype: int64"
      ]
     },
     "execution_count": 46,
     "metadata": {},
     "output_type": "execute_result"
    }
   ],
   "source": [
    "df_clean_weather.isna().sum()"
   ]
  },
  {
   "cell_type": "code",
   "execution_count": 47,
   "metadata": {
    "scrolled": false
   },
   "outputs": [
    {
     "name": "stdout",
     "output_type": "stream",
     "text": [
      "=============== CANCELLED ===============\n",
      "Original values\n",
      "0    1166857\n",
      "1      23625\n",
      "Name: CANCELLED, dtype: int64\n",
      "\n",
      "With dropped rows\n",
      "0    1028560\n",
      "1      20397\n",
      "Name: CANCELLED, dtype: int64\n",
      "=============== CANCELLED ===============\n",
      "\n",
      "=============== ARR_DEL15 ===============\n",
      "Original values\n",
      "0.0    977089\n",
      "1.0    187328\n",
      "Name: ARR_DEL15, dtype: int64\n",
      "\n",
      "With dropped rows\n",
      "0.0    864604\n",
      "1.0    161884\n",
      "Name: ARR_DEL15, dtype: int64\n",
      "=============== ARR_DEL15 ===============\n",
      "\n",
      "=============== DEP_DEL15 ===============\n",
      "Original values\n",
      "0.0    986778\n",
      "1.0    180678\n",
      "Name: DEP_DEL15, dtype: int64\n",
      "\n",
      "With dropped rows\n",
      "0.0    873036\n",
      "1.0    156048\n",
      "Name: DEP_DEL15, dtype: int64\n",
      "=============== DEP_DEL15 ===============\n",
      "\n"
     ]
    }
   ],
   "source": [
    "for col in ['CANCELLED', 'ARR_DEL15', 'DEP_DEL15']:\n",
    "    print('=' * 15, col, '=' * 15)    \n",
    "    print('Original values')\n",
    "    print(df[col].value_counts())\n",
    "    \n",
    "    print('\\nWith dropped rows')\n",
    "    print(df_clean_weather[col].value_counts())\n",
    "    print('=' * 15, col, '=' * 15)    \n",
    "    print('')"
   ]
  },
  {
   "cell_type": "markdown",
   "metadata": {},
   "source": [
    "Dropping the values for weather data does not seem to change the proportions between cancellations and no cancellations, or delays and no delays. Thus we assume that it is safe to drop the missing values for weather data."
   ]
  },
  {
   "cell_type": "code",
   "execution_count": 48,
   "metadata": {},
   "outputs": [],
   "source": [
    "df = df_clean_weather"
   ]
  },
  {
   "cell_type": "code",
   "execution_count": 49,
   "metadata": {},
   "outputs": [],
   "source": [
    "df19 = df.query('YEAR == 2019')\n",
    "df20 = df.query('YEAR == 2020')"
   ]
  },
  {
   "cell_type": "code",
   "execution_count": 51,
   "metadata": {},
   "outputs": [],
   "source": [
    "df19.to_csv(\"Jan_2019_ontime_weather_imputed_clean.csv\", index=False)\n",
    "df20.to_csv(\"Jan_2020_ontime_weather_imputed_clean.csv\", index=False)"
   ]
  }
 ],
 "metadata": {
  "kernelspec": {
   "display_name": "Python 3",
   "language": "python",
   "name": "python3"
  },
  "language_info": {
   "codemirror_mode": {
    "name": "ipython",
    "version": 3
   },
   "file_extension": ".py",
   "mimetype": "text/x-python",
   "name": "python",
   "nbconvert_exporter": "python",
   "pygments_lexer": "ipython3",
   "version": "3.8.5"
  },
  "toc": {
   "base_numbering": 1,
   "nav_menu": {
    "height": "139px",
    "width": "289px"
   },
   "number_sections": true,
   "sideBar": true,
   "skip_h1_title": false,
   "title_cell": "Table of Contents",
   "title_sidebar": "Contents",
   "toc_cell": false,
   "toc_position": {
    "height": "calc(100% - 180px)",
    "left": "10px",
    "top": "150px",
    "width": "320.875px"
   },
   "toc_section_display": true,
   "toc_window_display": true
  },
  "varInspector": {
   "cols": {
    "lenName": 16,
    "lenType": 16,
    "lenVar": 40
   },
   "kernels_config": {
    "python": {
     "delete_cmd_postfix": "",
     "delete_cmd_prefix": "del ",
     "library": "var_list.py",
     "varRefreshCmd": "print(var_dic_list())"
    },
    "r": {
     "delete_cmd_postfix": ") ",
     "delete_cmd_prefix": "rm(",
     "library": "var_list.r",
     "varRefreshCmd": "cat(var_dic_list()) "
    }
   },
   "types_to_exclude": [
    "module",
    "function",
    "builtin_function_or_method",
    "instance",
    "_Feature"
   ],
   "window_display": false
  }
 },
 "nbformat": 4,
 "nbformat_minor": 4
}
