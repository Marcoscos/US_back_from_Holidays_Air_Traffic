{
 "cells": [
  {
   "cell_type": "markdown",
   "metadata": {},
   "source": [
    "# Adding geographical coordinates\n",
    "\n",
    "We will map an airport's geographical coordinates to weather data for the region using the 'Meteostat' library\n",
    "\n",
    "First we will install the meteostat library and do the usual imports"
   ]
  },
  {
   "cell_type": "code",
   "execution_count": 8,
   "metadata": {},
   "outputs": [],
   "source": [
    "# %pip install meteostat"
   ]
  },
  {
   "cell_type": "code",
   "execution_count": 1,
   "metadata": {
    "init_cell": true,
    "run_control": {
     "marked": false
    }
   },
   "outputs": [],
   "source": [
    "import pandas as pd\n",
    "import numpy as np\n",
    "from datetime import datetime\n",
    "from meteostat import Point, Daily, Hourly"
   ]
  },
  {
   "cell_type": "markdown",
   "metadata": {},
   "source": [
    "Get the current list of airports"
   ]
  },
  {
   "cell_type": "code",
   "execution_count": 2,
   "metadata": {
    "init_cell": true,
    "run_control": {
     "marked": false
    }
   },
   "outputs": [
    {
     "ename": "FileNotFoundError",
     "evalue": "[Errno 2] No such file or directory: '../Jan_2019_ontime.csv'",
     "output_type": "error",
     "traceback": [
      "\u001b[1;31m---------------------------------------------------------------------------\u001b[0m",
      "\u001b[1;31mFileNotFoundError\u001b[0m                         Traceback (most recent call last)",
      "\u001b[1;32m<ipython-input-2-1d3781aac2fe>\u001b[0m in \u001b[0;36m<module>\u001b[1;34m\u001b[0m\n\u001b[1;32m----> 1\u001b[1;33m \u001b[0mdf19\u001b[0m \u001b[1;33m=\u001b[0m \u001b[0mpd\u001b[0m\u001b[1;33m.\u001b[0m\u001b[0mread_csv\u001b[0m\u001b[1;33m(\u001b[0m\u001b[1;34m'../Jan_2019_ontime.csv'\u001b[0m\u001b[1;33m)\u001b[0m\u001b[1;33m\u001b[0m\u001b[1;33m\u001b[0m\u001b[0m\n\u001b[0m\u001b[0;32m      2\u001b[0m \u001b[0mdf20\u001b[0m \u001b[1;33m=\u001b[0m \u001b[0mpd\u001b[0m\u001b[1;33m.\u001b[0m\u001b[0mread_csv\u001b[0m\u001b[1;33m(\u001b[0m\u001b[1;34m'../Jan_2019_ontime.csv'\u001b[0m\u001b[1;33m)\u001b[0m\u001b[1;33m\u001b[0m\u001b[1;33m\u001b[0m\u001b[0m\n",
      "\u001b[1;32mC:\\ProgramData\\Anaconda3\\lib\\site-packages\\pandas\\io\\parsers.py\u001b[0m in \u001b[0;36mread_csv\u001b[1;34m(filepath_or_buffer, sep, delimiter, header, names, index_col, usecols, squeeze, prefix, mangle_dupe_cols, dtype, engine, converters, true_values, false_values, skipinitialspace, skiprows, skipfooter, nrows, na_values, keep_default_na, na_filter, verbose, skip_blank_lines, parse_dates, infer_datetime_format, keep_date_col, date_parser, dayfirst, cache_dates, iterator, chunksize, compression, thousands, decimal, lineterminator, quotechar, quoting, doublequote, escapechar, comment, encoding, dialect, error_bad_lines, warn_bad_lines, delim_whitespace, low_memory, memory_map, float_precision)\u001b[0m\n\u001b[0;32m    684\u001b[0m     )\n\u001b[0;32m    685\u001b[0m \u001b[1;33m\u001b[0m\u001b[0m\n\u001b[1;32m--> 686\u001b[1;33m     \u001b[1;32mreturn\u001b[0m \u001b[0m_read\u001b[0m\u001b[1;33m(\u001b[0m\u001b[0mfilepath_or_buffer\u001b[0m\u001b[1;33m,\u001b[0m \u001b[0mkwds\u001b[0m\u001b[1;33m)\u001b[0m\u001b[1;33m\u001b[0m\u001b[1;33m\u001b[0m\u001b[0m\n\u001b[0m\u001b[0;32m    687\u001b[0m \u001b[1;33m\u001b[0m\u001b[0m\n\u001b[0;32m    688\u001b[0m \u001b[1;33m\u001b[0m\u001b[0m\n",
      "\u001b[1;32mC:\\ProgramData\\Anaconda3\\lib\\site-packages\\pandas\\io\\parsers.py\u001b[0m in \u001b[0;36m_read\u001b[1;34m(filepath_or_buffer, kwds)\u001b[0m\n\u001b[0;32m    450\u001b[0m \u001b[1;33m\u001b[0m\u001b[0m\n\u001b[0;32m    451\u001b[0m     \u001b[1;31m# Create the parser.\u001b[0m\u001b[1;33m\u001b[0m\u001b[1;33m\u001b[0m\u001b[1;33m\u001b[0m\u001b[0m\n\u001b[1;32m--> 452\u001b[1;33m     \u001b[0mparser\u001b[0m \u001b[1;33m=\u001b[0m \u001b[0mTextFileReader\u001b[0m\u001b[1;33m(\u001b[0m\u001b[0mfp_or_buf\u001b[0m\u001b[1;33m,\u001b[0m \u001b[1;33m**\u001b[0m\u001b[0mkwds\u001b[0m\u001b[1;33m)\u001b[0m\u001b[1;33m\u001b[0m\u001b[1;33m\u001b[0m\u001b[0m\n\u001b[0m\u001b[0;32m    453\u001b[0m \u001b[1;33m\u001b[0m\u001b[0m\n\u001b[0;32m    454\u001b[0m     \u001b[1;32mif\u001b[0m \u001b[0mchunksize\u001b[0m \u001b[1;32mor\u001b[0m \u001b[0miterator\u001b[0m\u001b[1;33m:\u001b[0m\u001b[1;33m\u001b[0m\u001b[1;33m\u001b[0m\u001b[0m\n",
      "\u001b[1;32mC:\\ProgramData\\Anaconda3\\lib\\site-packages\\pandas\\io\\parsers.py\u001b[0m in \u001b[0;36m__init__\u001b[1;34m(self, f, engine, **kwds)\u001b[0m\n\u001b[0;32m    944\u001b[0m             \u001b[0mself\u001b[0m\u001b[1;33m.\u001b[0m\u001b[0moptions\u001b[0m\u001b[1;33m[\u001b[0m\u001b[1;34m\"has_index_names\"\u001b[0m\u001b[1;33m]\u001b[0m \u001b[1;33m=\u001b[0m \u001b[0mkwds\u001b[0m\u001b[1;33m[\u001b[0m\u001b[1;34m\"has_index_names\"\u001b[0m\u001b[1;33m]\u001b[0m\u001b[1;33m\u001b[0m\u001b[1;33m\u001b[0m\u001b[0m\n\u001b[0;32m    945\u001b[0m \u001b[1;33m\u001b[0m\u001b[0m\n\u001b[1;32m--> 946\u001b[1;33m         \u001b[0mself\u001b[0m\u001b[1;33m.\u001b[0m\u001b[0m_make_engine\u001b[0m\u001b[1;33m(\u001b[0m\u001b[0mself\u001b[0m\u001b[1;33m.\u001b[0m\u001b[0mengine\u001b[0m\u001b[1;33m)\u001b[0m\u001b[1;33m\u001b[0m\u001b[1;33m\u001b[0m\u001b[0m\n\u001b[0m\u001b[0;32m    947\u001b[0m \u001b[1;33m\u001b[0m\u001b[0m\n\u001b[0;32m    948\u001b[0m     \u001b[1;32mdef\u001b[0m \u001b[0mclose\u001b[0m\u001b[1;33m(\u001b[0m\u001b[0mself\u001b[0m\u001b[1;33m)\u001b[0m\u001b[1;33m:\u001b[0m\u001b[1;33m\u001b[0m\u001b[1;33m\u001b[0m\u001b[0m\n",
      "\u001b[1;32mC:\\ProgramData\\Anaconda3\\lib\\site-packages\\pandas\\io\\parsers.py\u001b[0m in \u001b[0;36m_make_engine\u001b[1;34m(self, engine)\u001b[0m\n\u001b[0;32m   1176\u001b[0m     \u001b[1;32mdef\u001b[0m \u001b[0m_make_engine\u001b[0m\u001b[1;33m(\u001b[0m\u001b[0mself\u001b[0m\u001b[1;33m,\u001b[0m \u001b[0mengine\u001b[0m\u001b[1;33m=\u001b[0m\u001b[1;34m\"c\"\u001b[0m\u001b[1;33m)\u001b[0m\u001b[1;33m:\u001b[0m\u001b[1;33m\u001b[0m\u001b[1;33m\u001b[0m\u001b[0m\n\u001b[0;32m   1177\u001b[0m         \u001b[1;32mif\u001b[0m \u001b[0mengine\u001b[0m \u001b[1;33m==\u001b[0m \u001b[1;34m\"c\"\u001b[0m\u001b[1;33m:\u001b[0m\u001b[1;33m\u001b[0m\u001b[1;33m\u001b[0m\u001b[0m\n\u001b[1;32m-> 1178\u001b[1;33m             \u001b[0mself\u001b[0m\u001b[1;33m.\u001b[0m\u001b[0m_engine\u001b[0m \u001b[1;33m=\u001b[0m \u001b[0mCParserWrapper\u001b[0m\u001b[1;33m(\u001b[0m\u001b[0mself\u001b[0m\u001b[1;33m.\u001b[0m\u001b[0mf\u001b[0m\u001b[1;33m,\u001b[0m \u001b[1;33m**\u001b[0m\u001b[0mself\u001b[0m\u001b[1;33m.\u001b[0m\u001b[0moptions\u001b[0m\u001b[1;33m)\u001b[0m\u001b[1;33m\u001b[0m\u001b[1;33m\u001b[0m\u001b[0m\n\u001b[0m\u001b[0;32m   1179\u001b[0m         \u001b[1;32melse\u001b[0m\u001b[1;33m:\u001b[0m\u001b[1;33m\u001b[0m\u001b[1;33m\u001b[0m\u001b[0m\n\u001b[0;32m   1180\u001b[0m             \u001b[1;32mif\u001b[0m \u001b[0mengine\u001b[0m \u001b[1;33m==\u001b[0m \u001b[1;34m\"python\"\u001b[0m\u001b[1;33m:\u001b[0m\u001b[1;33m\u001b[0m\u001b[1;33m\u001b[0m\u001b[0m\n",
      "\u001b[1;32mC:\\ProgramData\\Anaconda3\\lib\\site-packages\\pandas\\io\\parsers.py\u001b[0m in \u001b[0;36m__init__\u001b[1;34m(self, src, **kwds)\u001b[0m\n\u001b[0;32m   2006\u001b[0m         \u001b[0mkwds\u001b[0m\u001b[1;33m[\u001b[0m\u001b[1;34m\"usecols\"\u001b[0m\u001b[1;33m]\u001b[0m \u001b[1;33m=\u001b[0m \u001b[0mself\u001b[0m\u001b[1;33m.\u001b[0m\u001b[0musecols\u001b[0m\u001b[1;33m\u001b[0m\u001b[1;33m\u001b[0m\u001b[0m\n\u001b[0;32m   2007\u001b[0m \u001b[1;33m\u001b[0m\u001b[0m\n\u001b[1;32m-> 2008\u001b[1;33m         \u001b[0mself\u001b[0m\u001b[1;33m.\u001b[0m\u001b[0m_reader\u001b[0m \u001b[1;33m=\u001b[0m \u001b[0mparsers\u001b[0m\u001b[1;33m.\u001b[0m\u001b[0mTextReader\u001b[0m\u001b[1;33m(\u001b[0m\u001b[0msrc\u001b[0m\u001b[1;33m,\u001b[0m \u001b[1;33m**\u001b[0m\u001b[0mkwds\u001b[0m\u001b[1;33m)\u001b[0m\u001b[1;33m\u001b[0m\u001b[1;33m\u001b[0m\u001b[0m\n\u001b[0m\u001b[0;32m   2009\u001b[0m         \u001b[0mself\u001b[0m\u001b[1;33m.\u001b[0m\u001b[0munnamed_cols\u001b[0m \u001b[1;33m=\u001b[0m \u001b[0mself\u001b[0m\u001b[1;33m.\u001b[0m\u001b[0m_reader\u001b[0m\u001b[1;33m.\u001b[0m\u001b[0munnamed_cols\u001b[0m\u001b[1;33m\u001b[0m\u001b[1;33m\u001b[0m\u001b[0m\n\u001b[0;32m   2010\u001b[0m \u001b[1;33m\u001b[0m\u001b[0m\n",
      "\u001b[1;32mpandas\\_libs\\parsers.pyx\u001b[0m in \u001b[0;36mpandas._libs.parsers.TextReader.__cinit__\u001b[1;34m()\u001b[0m\n",
      "\u001b[1;32mpandas\\_libs\\parsers.pyx\u001b[0m in \u001b[0;36mpandas._libs.parsers.TextReader._setup_parser_source\u001b[1;34m()\u001b[0m\n",
      "\u001b[1;31mFileNotFoundError\u001b[0m: [Errno 2] No such file or directory: '../Jan_2019_ontime.csv'"
     ]
    }
   ],
   "source": [
    "df19 = pd.read_csv('../Jan_2019_ontime.csv')\n",
    "df20 = pd.read_csv('../Jan_2019_ontime.csv')"
   ]
  },
  {
   "cell_type": "markdown",
   "metadata": {},
   "source": [
    "Find the unique airports so we can identify their coordinates.\n",
    "\n",
    "It was previously checked that both 2019 and 2020 have the same airports.\n",
    "In addition, both the ORIGIN and DEST columns share the same airports. \n",
    "Thus we can assume that it is fine to use the ORIGIN column from the 2019 dataset"
   ]
  },
  {
   "cell_type": "code",
   "execution_count": 11,
   "metadata": {
    "run_control": {
     "marked": false
    }
   },
   "outputs": [],
   "source": [
    "# Get unique airports (The length of unique values in ORIGIN and DEST is the same)\n",
    "airports = pd.concat([df19.ORIGIN, df20.ORIGIN, df19.DEST, df20.DEST]).unique()"
   ]
  },
  {
   "cell_type": "markdown",
   "metadata": {},
   "source": [
    "Get data from https://datahub.io/core/airport-codes with the geographical location of airports"
   ]
  },
  {
   "cell_type": "code",
   "execution_count": 12,
   "metadata": {},
   "outputs": [],
   "source": [
    "# https://datahub.io/core/airport-codes\n",
    "df_geo = pd.read_csv('airport-codes.csv')  "
   ]
  },
  {
   "cell_type": "code",
   "execution_count": 13,
   "metadata": {
    "scrolled": true
   },
   "outputs": [
    {
     "data": {
      "text/html": [
       "<div>\n",
       "<style scoped>\n",
       "    .dataframe tbody tr th:only-of-type {\n",
       "        vertical-align: middle;\n",
       "    }\n",
       "\n",
       "    .dataframe tbody tr th {\n",
       "        vertical-align: top;\n",
       "    }\n",
       "\n",
       "    .dataframe thead th {\n",
       "        text-align: right;\n",
       "    }\n",
       "</style>\n",
       "<table border=\"1\" class=\"dataframe\">\n",
       "  <thead>\n",
       "    <tr style=\"text-align: right;\">\n",
       "      <th></th>\n",
       "      <th>ident</th>\n",
       "      <th>type</th>\n",
       "      <th>name</th>\n",
       "      <th>elevation_ft</th>\n",
       "      <th>continent</th>\n",
       "      <th>iso_country</th>\n",
       "      <th>iso_region</th>\n",
       "      <th>municipality</th>\n",
       "      <th>gps_code</th>\n",
       "      <th>iata_code</th>\n",
       "      <th>local_code</th>\n",
       "      <th>coordinates</th>\n",
       "    </tr>\n",
       "  </thead>\n",
       "  <tbody>\n",
       "    <tr>\n",
       "      <th>36974</th>\n",
       "      <td>MY97</td>\n",
       "      <td>small_airport</td>\n",
       "      <td>Nielsen's Airport</td>\n",
       "      <td>990.0</td>\n",
       "      <td>NaN</td>\n",
       "      <td>US</td>\n",
       "      <td>US-MN</td>\n",
       "      <td>Farmington</td>\n",
       "      <td>MY97</td>\n",
       "      <td>NaN</td>\n",
       "      <td>MY97</td>\n",
       "      <td>-93.12689971923828, 44.597999572753906</td>\n",
       "    </tr>\n",
       "  </tbody>\n",
       "</table>\n",
       "</div>"
      ],
      "text/plain": [
       "      ident           type               name  elevation_ft continent  \\\n",
       "36974  MY97  small_airport  Nielsen's Airport         990.0       NaN   \n",
       "\n",
       "      iso_country iso_region municipality gps_code iata_code local_code  \\\n",
       "36974          US      US-MN   Farmington     MY97       NaN       MY97   \n",
       "\n",
       "                                  coordinates  \n",
       "36974  -93.12689971923828, 44.597999572753906  "
      ]
     },
     "execution_count": 13,
     "metadata": {},
     "output_type": "execute_result"
    }
   ],
   "source": [
    "df_geo.sample(1)"
   ]
  },
  {
   "cell_type": "markdown",
   "metadata": {},
   "source": [
    "Now get the geographical location of all the airports in the 'df' dataset.\n",
    "\n",
    "Keep only the relevant columns:\n",
    "- iata_code\n",
    "- coordinates\n",
    "- elevation_ft"
   ]
  },
  {
   "cell_type": "code",
   "execution_count": 14,
   "metadata": {},
   "outputs": [],
   "source": [
    "# Get coordinates for the airports in the dataset\n",
    "coords = df_geo[df_geo.iata_code.isin(airports)][['iata_code', 'coordinates', 'elevation_ft']]"
   ]
  },
  {
   "cell_type": "markdown",
   "metadata": {},
   "source": [
    "We see that the coordinates are contained as a string and in the order of (longitude, latitude). So we will have to extract that information into two columns: __lng__ and __lat__. Moreover, the elevation is in feet, but the meteostat uses meters, so we will also convert this value and save it in the column __elevation_m__."
   ]
  },
  {
   "cell_type": "code",
   "execution_count": 15,
   "metadata": {
    "run_control": {
     "marked": false
    }
   },
   "outputs": [],
   "source": [
    "# Separate longitude and latitude and dtypes\n",
    "coords['lng'] = coords.coordinates.apply(lambda x: x.split(',')[0]).astype(float)\n",
    "coords['lat'] = coords.coordinates.apply(lambda x: x.split(',')[1]).astype(float)\n",
    "\n",
    "coords['elevation_m'] = coords.elevation_ft.astype(float) * 0.3048  # Conversion from feet to meters"
   ]
  },
  {
   "cell_type": "code",
   "execution_count": 16,
   "metadata": {},
   "outputs": [
    {
     "data": {
      "text/plain": [
       "Index(['iata_code', 'elevation_ft', 'lng', 'lat', 'elevation_m'], dtype='object')"
      ]
     },
     "execution_count": 16,
     "metadata": {},
     "output_type": "execute_result"
    }
   ],
   "source": [
    "# Drop old coordinate column\n",
    "coords = coords.drop('coordinates', axis=1)\n",
    "coords.columns"
   ]
  },
  {
   "cell_type": "markdown",
   "metadata": {},
   "source": [
    "Now we have the coordinates for each airport. From this we can find the weather information."
   ]
  },
  {
   "cell_type": "markdown",
   "metadata": {},
   "source": [
    "# Adding weather data\n",
    "\n",
    "In this section we will add the weather data for each airport and the finally merge it to our dataset.\n",
    "\n",
    "First we define a function which helps us find the nearest station of the geographical coordinates to increase weather data accuracy. The default radius parameter is 35km, but some stations are further away than this, and others are found closer.\n",
    "\n",
    "We set the minimum radius to 10km, as a lower radius would result in too many NaN values of the weather data. Then we increment by 1km if no data is found within the current radius.\n",
    "\n",
    "The acquired data is described at https://dev.meteostat.net/formats.html#time-format"
   ]
  },
  {
   "cell_type": "code",
   "execution_count": 20,
   "metadata": {},
   "outputs": [],
   "source": [
    "# Set time period\n",
    "start = datetime(2019, 1, 1)\n",
    "end = datetime(2019, 1, 31)\n",
    "\n",
    "# Find minimum radius for most accurate temperatures. Must be at least 10km from point, and snow can't be all nan\n",
    "def find_min_radius(lat, lng, alt=None):   \n",
    "    df = pd.DataFrame()\n",
    "    \n",
    "    step = 1000\n",
    "    radius = 10000\n",
    "    while True:\n",
    "        if radius % 10000 == 0:\n",
    "            print('Radius = ', radius)\n",
    "        \n",
    "        radius += step       \n",
    "        \n",
    "        point = Point(lat, lng, alt)\n",
    "        point.radius = radius\n",
    "        \n",
    "        try:\n",
    "            print(start)\n",
    "            data = Daily(point, start, end)\n",
    "            \n",
    "            # Fetch data\n",
    "            data = data.normalize()\n",
    "            data = data.interpolate()\n",
    "            df = data.fetch()\n",
    "            \n",
    "            # Stop if non-empty data\n",
    "            if (len(df) != 0) or radius >= 100000:  # Max 100 km range\n",
    "                radius = 10000\n",
    "                break;\n",
    "                \n",
    "        except Exception:\n",
    "            pass\n",
    "    \n",
    "    return df\n",
    "        "
   ]
  },
  {
   "cell_type": "code",
   "execution_count": 23,
   "metadata": {},
   "outputs": [],
   "source": [
    "# find_min_radius(42.74829864501953, -73.80169677734375, 0)"
   ]
  },
  {
   "cell_type": "markdown",
   "metadata": {},
   "source": [
    "Now we create a dictionary with each airport and it's corresponding weather data for January "
   ]
  },
  {
   "cell_type": "code",
   "execution_count": 19,
   "metadata": {},
   "outputs": [],
   "source": [
    "def create_weather_dict():\n",
    "    \"\"\"\n",
    "    Create a dictionary of weather data at airports for 2019 and 2020.\n",
    "    \"\"\"\n",
    "    #### 2019 ####\n",
    "\n",
    "    # Set time period\n",
    "    start = datetime(2019, 1, 1)\n",
    "    end = datetime(2019, 1, 31)\n",
    "\n",
    "    weather_dict = {}\n",
    "\n",
    "    for idx, row in coords.iterrows():\n",
    "        print('Finding weather data for', row.iata_code)\n",
    "        df = find_min_radius(row.lat, row.lng, row.elevation_m)\n",
    "        weather_dict[row.iata_code] = df\n",
    "\n",
    "    save_dict = {}\n",
    "\n",
    "    for key, val in weather_dict.items():\n",
    "        save_dict[key] = val.to_dict(orient='records')\n",
    "\n",
    "    with open('weather_dict2019.json', 'w') as outfile:\n",
    "        json.dump(save_dict, outfile)\n",
    "\n",
    "    #### 2020 ####\n",
    "    # Set time period\n",
    "    start = datetime(2020, 1, 1)\n",
    "    end = datetime(2020, 1, 31)\n",
    "\n",
    "    weather_dict = {}\n",
    "\n",
    "    for idx, row in coords.iterrows():\n",
    "        print('Finding weather data for', row.iata_code)\n",
    "        df = find_min_radius(row.lat, row.lng, row.elevation_m)\n",
    "        weather_dict[row.iata_code] = df\n",
    "\n",
    "    save_dict = {}\n",
    "\n",
    "    for key, val in weather_dict.items():\n",
    "        save_dict[key] = val.to_dict(orient='records')\n",
    "\n",
    "    with open('weather_dict2020.json', 'w') as outfile:\n",
    "        json.dump(save_dict, outfile)\n",
    "        "
   ]
  },
  {
   "cell_type": "code",
   "execution_count": 24,
   "metadata": {},
   "outputs": [
    {
     "name": "stdout",
     "output_type": "stream",
     "text": [
      "Wall time: 0 ns\n"
     ]
    }
   ],
   "source": [
    "%%time\n",
    "import json\n",
    "\n",
    "# ONLY UNCOMMENT IF YOU HATE YOUR LIFE\n",
    "# create_weather_dict()"
   ]
  },
  {
   "cell_type": "markdown",
   "metadata": {},
   "source": [
    "Load the json file"
   ]
  },
  {
   "cell_type": "code",
   "execution_count": 16,
   "metadata": {},
   "outputs": [],
   "source": [
    "def load_weather_dict(year):\n",
    "    out_dict = {}\n",
    "    \n",
    "    with open(f'weather_dict{year}.json', 'r') as infile:\n",
    "        data = json.load(infile)\n",
    "        \n",
    "        for key, val in data.items():\n",
    "            out_dict[key] = pd.DataFrame(val)\n",
    "            \n",
    "    return out_dict"
   ]
  },
  {
   "cell_type": "code",
   "execution_count": 17,
   "metadata": {},
   "outputs": [],
   "source": [
    "weather_2019 = load_weather_dict(2019)\n",
    "weather_2020 = load_weather_dict(2020)"
   ]
  },
  {
   "cell_type": "markdown",
   "metadata": {},
   "source": [
    "## Units and parameters\n",
    "\n",
    "We will shortly explain the parameters and units of the weather data https://dev.meteostat.net/formats.html#meteorological-parameters"
   ]
  },
  {
   "cell_type": "markdown",
   "metadata": {},
   "source": [
    "The parameters of the weather data are:\n",
    "\n",
    "| Code  | Meaning                |\n",
    "| ----- | ---------------------- |\n",
    "| TAVG  | Average Temperature    |\n",
    "| TMIN  | Minimum Temperature    |\n",
    "| TMAX  | Maximum Temperature    |\n",
    "| PRCP  | Total Precipitation    |\n",
    "| SNOW  | Snow Depth             |\n",
    "| WDIR  | Wind Direction         |\n",
    "| WSPD  | Wind Speed             |\n",
    "| WPGT  | Wind Peak Gust         |\n",
    "| PRES  | Sea-Level Air Pressure |\n",
    "| TSUN  | Total Sunshine Duration|\n",
    "\n",
    "The units of the weather data are:\n",
    "\n",
    "| Parameter(s) | Unit |\n",
    "| ------------ | ---- |\n",
    "| Temperature  |  °C  |\n",
    "| Precipitation| mm   |\n",
    "| Air pressure | hPa  |\n",
    "| Wind Speed   | km/h |\n",
    "| Sunshine duration   | Minutes, Hours |"
   ]
  },
  {
   "cell_type": "markdown",
   "metadata": {},
   "source": [
    "# Merge the data\n",
    "\n",
    "In this section, we will merge the weather data with the dataset"
   ]
  },
  {
   "cell_type": "code",
   "execution_count": 18,
   "metadata": {},
   "outputs": [],
   "source": [
    "df19 = pd.read_csv('../Jan_2019_ontime.csv').drop('Unnamed: 21', axis=1)\n",
    "df20 = pd.read_csv('../Jan_2020_ontime.csv').drop('Unnamed: 21', axis=1)"
   ]
  },
  {
   "cell_type": "markdown",
   "metadata": {},
   "source": [
    "Define helper functions to map the airport and the day to the corresponding weather data"
   ]
  },
  {
   "cell_type": "code",
   "execution_count": 19,
   "metadata": {},
   "outputs": [],
   "source": [
    "weather_columns = ['tavg', 'tmin', 'tmax', 'prcp', 'snow', 'wspd', 'pres']\n",
    "\n",
    "# Helper function to prefix column names\n",
    "def rename_map(column):  \n",
    "    out_dict = {'iata_code': column}\n",
    "    \n",
    "    for col in weather_columns:\n",
    "        out_dict[col] = f'{column}_{col}'\n",
    "    \n",
    "    return out_dict"
   ]
  },
  {
   "cell_type": "markdown",
   "metadata": {},
   "source": [
    "Create a dataframe for merging"
   ]
  },
  {
   "cell_type": "code",
   "execution_count": 20,
   "metadata": {
    "scrolled": true
   },
   "outputs": [],
   "source": [
    "def get_weather_df(weather_dict):\n",
    "    weather_df = pd.DataFrame(\n",
    "        columns=['iata_code', 'DAY_OF_MONTH', 'tavg', 'tmin', 'tmax', 'prcp', 'snow', 'wspd', 'pres']\n",
    "    )\n",
    "    for airport in airports:\n",
    "        temp_df = weather_2019[airport][weather_columns]\n",
    "        temp_df['iata_code'] = airport\n",
    "        temp_df = temp_df.reset_index()\n",
    "        temp_df = temp_df.rename({'index': 'DAY_OF_MONTH'}, axis=1)\n",
    "        temp_df['DAY_OF_MONTH'] += 1\n",
    "        weather_df = pd.concat([weather_df, temp_df])\n",
    "        \n",
    "    return weather_df.reset_index(drop=True)"
   ]
  },
  {
   "cell_type": "markdown",
   "metadata": {},
   "source": [
    "Merge the weather data with the original data on both the destination and origin airport"
   ]
  },
  {
   "cell_type": "code",
   "execution_count": 21,
   "metadata": {
    "scrolled": false
   },
   "outputs": [
    {
     "name": "stderr",
     "output_type": "stream",
     "text": [
      "<ipython-input-20-4d4314cfe007>:7: SettingWithCopyWarning: \n",
      "A value is trying to be set on a copy of a slice from a DataFrame.\n",
      "Try using .loc[row_indexer,col_indexer] = value instead\n",
      "\n",
      "See the caveats in the documentation: https://pandas.pydata.org/pandas-docs/stable/user_guide/indexing.html#returning-a-view-versus-a-copy\n",
      "  temp_df['iata_code'] = airport\n"
     ]
    }
   ],
   "source": [
    "weather_df_2019 = get_weather_df(weather_2019)"
   ]
  },
  {
   "cell_type": "code",
   "execution_count": 22,
   "metadata": {},
   "outputs": [],
   "source": [
    "df19_weather = df19.merge(weather_df_2019.rename(rename_map('ORIGIN'), axis=1), on=['ORIGIN', 'DAY_OF_MONTH'])\n",
    "df19_weather = df19_weather.merge(weather_df_2019.rename(rename_map('DEST'), axis=1), on=['DEST', 'DAY_OF_MONTH'])"
   ]
  },
  {
   "cell_type": "code",
   "execution_count": 23,
   "metadata": {},
   "outputs": [
    {
     "data": {
      "text/plain": [
       "(583985, 35)"
      ]
     },
     "execution_count": 23,
     "metadata": {},
     "output_type": "execute_result"
    }
   ],
   "source": [
    "df19_weather.shape"
   ]
  },
  {
   "cell_type": "code",
   "execution_count": 24,
   "metadata": {},
   "outputs": [
    {
     "data": {
      "text/plain": [
       "(583985, 21)"
      ]
     },
     "execution_count": 24,
     "metadata": {},
     "output_type": "execute_result"
    }
   ],
   "source": [
    "df19.shape"
   ]
  },
  {
   "cell_type": "markdown",
   "metadata": {},
   "source": [
    "The shapes add up, as there are no lost rows during the merge"
   ]
  },
  {
   "cell_type": "code",
   "execution_count": 25,
   "metadata": {},
   "outputs": [
    {
     "data": {
      "text/plain": [
       "DAY_OF_MONTH                  0\n",
       "DAY_OF_WEEK                   0\n",
       "OP_UNIQUE_CARRIER             0\n",
       "OP_CARRIER_AIRLINE_ID         0\n",
       "OP_CARRIER                    0\n",
       "TAIL_NUM                   2543\n",
       "OP_CARRIER_FL_NUM             0\n",
       "ORIGIN_AIRPORT_ID             0\n",
       "ORIGIN_AIRPORT_SEQ_ID         0\n",
       "ORIGIN                        0\n",
       "DEST_AIRPORT_ID               0\n",
       "DEST_AIRPORT_SEQ_ID           0\n",
       "DEST                          0\n",
       "DEP_TIME                  16352\n",
       "DEP_DEL15                 16355\n",
       "DEP_TIME_BLK                  0\n",
       "ARR_TIME                  17061\n",
       "ARR_DEL15                 18022\n",
       "CANCELLED                     0\n",
       "DIVERTED                      0\n",
       "DISTANCE                      0\n",
       "ORIGIN_tavg                2919\n",
       "ORIGIN_tmin                2912\n",
       "ORIGIN_tmax                2912\n",
       "ORIGIN_prcp               26856\n",
       "ORIGIN_snow              181307\n",
       "ORIGIN_wspd                3952\n",
       "ORIGIN_pres               24313\n",
       "DEST_tavg                  2923\n",
       "DEST_tmin                  2916\n",
       "DEST_tmax                  2916\n",
       "DEST_prcp                 26875\n",
       "DEST_snow                181290\n",
       "DEST_wspd                  3957\n",
       "DEST_pres                 24335\n",
       "dtype: int64"
      ]
     },
     "execution_count": 25,
     "metadata": {},
     "output_type": "execute_result"
    }
   ],
   "source": [
    "df19_weather.isna().sum()"
   ]
  },
  {
   "cell_type": "markdown",
   "metadata": {},
   "source": [
    "We see that there are A LOT of missing values, around 30% of the dataset is missing in the snow column!"
   ]
  },
  {
   "cell_type": "code",
   "execution_count": 26,
   "metadata": {},
   "outputs": [
    {
     "name": "stderr",
     "output_type": "stream",
     "text": [
      "<ipython-input-20-4d4314cfe007>:7: SettingWithCopyWarning: \n",
      "A value is trying to be set on a copy of a slice from a DataFrame.\n",
      "Try using .loc[row_indexer,col_indexer] = value instead\n",
      "\n",
      "See the caveats in the documentation: https://pandas.pydata.org/pandas-docs/stable/user_guide/indexing.html#returning-a-view-versus-a-copy\n",
      "  temp_df['iata_code'] = airport\n"
     ]
    }
   ],
   "source": [
    "weather_df_2020 = get_weather_df(weather_2020)"
   ]
  },
  {
   "cell_type": "code",
   "execution_count": 27,
   "metadata": {},
   "outputs": [],
   "source": [
    "df20_weather = df20.merge(weather_df_2020.rename(rename_map('ORIGIN'), axis=1), on=['ORIGIN', 'DAY_OF_MONTH'])\n",
    "df20_weather = df20_weather.merge(weather_df_2020.rename(rename_map('DEST'), axis=1), on=['DEST', 'DAY_OF_MONTH'])"
   ]
  },
  {
   "cell_type": "code",
   "execution_count": 28,
   "metadata": {},
   "outputs": [
    {
     "data": {
      "text/plain": [
       "(606497, 35)"
      ]
     },
     "execution_count": 28,
     "metadata": {},
     "output_type": "execute_result"
    }
   ],
   "source": [
    "df20_weather.shape"
   ]
  },
  {
   "cell_type": "code",
   "execution_count": 29,
   "metadata": {},
   "outputs": [
    {
     "data": {
      "text/plain": [
       "(607346, 21)"
      ]
     },
     "execution_count": 29,
     "metadata": {},
     "output_type": "execute_result"
    }
   ],
   "source": [
    "df20.shape"
   ]
  },
  {
   "cell_type": "markdown",
   "metadata": {},
   "source": [
    "Around 900 rows are lost in this merge. We will investigate the impact of these lost rows. First let's observe the total amount of delays and cancellations"
   ]
  },
  {
   "cell_type": "code",
   "execution_count": 30,
   "metadata": {},
   "outputs": [
    {
     "data": {
      "text/plain": [
       "CANCELLED     6928.0\n",
       "ARR_DEL15    82285.0\n",
       "DEP_DEL15    81884.0\n",
       "dtype: float64"
      ]
     },
     "execution_count": 30,
     "metadata": {},
     "output_type": "execute_result"
    }
   ],
   "source": [
    "df20.loc[:, ['CANCELLED', 'ARR_DEL15', 'DEP_DEL15']].sum()"
   ]
  },
  {
   "cell_type": "markdown",
   "metadata": {},
   "source": [
    "Relative to the total rows in the dataset, there are few cancellations but plenty of delayed flights"
   ]
  },
  {
   "cell_type": "code",
   "execution_count": 31,
   "metadata": {},
   "outputs": [
    {
     "data": {
      "text/plain": [
       "CANCELLED      0.0\n",
       "ARR_DEL15    108.0\n",
       "DEP_DEL15     86.0\n",
       "dtype: float64"
      ]
     },
     "execution_count": 31,
     "metadata": {},
     "output_type": "execute_result"
    }
   ],
   "source": [
    "df20.loc[~df20.index.isin(df20_weather.index), ['CANCELLED', 'ARR_DEL15', 'DEP_DEL15']].sum()"
   ]
  },
  {
   "cell_type": "markdown",
   "metadata": {},
   "source": [
    "In the lost rows we have no cancellations and only few delayed flights, thus we can see this as being negible for the overall problem."
   ]
  },
  {
   "cell_type": "code",
   "execution_count": 32,
   "metadata": {},
   "outputs": [
    {
     "data": {
      "text/plain": [
       "DAY_OF_MONTH                  0\n",
       "DAY_OF_WEEK                   0\n",
       "OP_UNIQUE_CARRIER             0\n",
       "OP_CARRIER_AIRLINE_ID         0\n",
       "OP_CARRIER                    0\n",
       "TAIL_NUM                    698\n",
       "OP_CARRIER_FL_NUM             0\n",
       "ORIGIN_AIRPORT_ID             0\n",
       "ORIGIN_AIRPORT_SEQ_ID         0\n",
       "ORIGIN                        0\n",
       "DEST_AIRPORT_ID               0\n",
       "DEST_AIRPORT_SEQ_ID           0\n",
       "DEST                          0\n",
       "DEP_TIME                   6638\n",
       "DEP_DEL15                  6671\n",
       "DEP_TIME_BLK                  0\n",
       "ARR_TIME                   7046\n",
       "ARR_DEL15                  8043\n",
       "CANCELLED                     0\n",
       "DIVERTED                      0\n",
       "DISTANCE                      0\n",
       "ORIGIN_tavg                3232\n",
       "ORIGIN_tmin                3225\n",
       "ORIGIN_tmax                3225\n",
       "ORIGIN_prcp               28496\n",
       "ORIGIN_snow              192121\n",
       "ORIGIN_wspd                4337\n",
       "ORIGIN_pres               25972\n",
       "DEST_tavg                  3236\n",
       "DEST_tmin                  3229\n",
       "DEST_tmax                  3229\n",
       "DEST_prcp                 28520\n",
       "DEST_snow                192104\n",
       "DEST_wspd                  4341\n",
       "DEST_pres                 25987\n",
       "dtype: int64"
      ]
     },
     "execution_count": 32,
     "metadata": {},
     "output_type": "execute_result"
    }
   ],
   "source": [
    "df20_weather.isna().sum()"
   ]
  },
  {
   "cell_type": "markdown",
   "metadata": {},
   "source": [
    "Again there are many missing values..."
   ]
  },
  {
   "cell_type": "markdown",
   "metadata": {},
   "source": [
    "## Verification\n",
    "\n",
    "We now check that the data after merging is correct"
   ]
  },
  {
   "cell_type": "code",
   "execution_count": 33,
   "metadata": {
    "run_control": {
     "marked": false
    },
    "scrolled": true
   },
   "outputs": [
    {
     "data": {
      "text/html": [
       "<div>\n",
       "<style scoped>\n",
       "    .dataframe tbody tr th:only-of-type {\n",
       "        vertical-align: middle;\n",
       "    }\n",
       "\n",
       "    .dataframe tbody tr th {\n",
       "        vertical-align: top;\n",
       "    }\n",
       "\n",
       "    .dataframe thead th {\n",
       "        text-align: right;\n",
       "    }\n",
       "</style>\n",
       "<table border=\"1\" class=\"dataframe\">\n",
       "  <thead>\n",
       "    <tr style=\"text-align: right;\">\n",
       "      <th></th>\n",
       "      <th>DAY_OF_MONTH</th>\n",
       "      <th>ORIGIN</th>\n",
       "      <th>DEST</th>\n",
       "      <th>ORIGIN_tavg</th>\n",
       "      <th>DEST_tavg</th>\n",
       "    </tr>\n",
       "  </thead>\n",
       "  <tbody>\n",
       "    <tr>\n",
       "      <th>0</th>\n",
       "      <td>1</td>\n",
       "      <td>GNV</td>\n",
       "      <td>ATL</td>\n",
       "      <td>20.1</td>\n",
       "      <td>15.9</td>\n",
       "    </tr>\n",
       "    <tr>\n",
       "      <th>1</th>\n",
       "      <td>1</td>\n",
       "      <td>GNV</td>\n",
       "      <td>ATL</td>\n",
       "      <td>20.1</td>\n",
       "      <td>15.9</td>\n",
       "    </tr>\n",
       "    <tr>\n",
       "      <th>2</th>\n",
       "      <td>1</td>\n",
       "      <td>GNV</td>\n",
       "      <td>ATL</td>\n",
       "      <td>20.1</td>\n",
       "      <td>15.9</td>\n",
       "    </tr>\n",
       "    <tr>\n",
       "      <th>3</th>\n",
       "      <td>1</td>\n",
       "      <td>GNV</td>\n",
       "      <td>ATL</td>\n",
       "      <td>20.1</td>\n",
       "      <td>15.9</td>\n",
       "    </tr>\n",
       "    <tr>\n",
       "      <th>4</th>\n",
       "      <td>1</td>\n",
       "      <td>MSP</td>\n",
       "      <td>ATL</td>\n",
       "      <td>-14.1</td>\n",
       "      <td>15.9</td>\n",
       "    </tr>\n",
       "    <tr>\n",
       "      <th>...</th>\n",
       "      <td>...</td>\n",
       "      <td>...</td>\n",
       "      <td>...</td>\n",
       "      <td>...</td>\n",
       "      <td>...</td>\n",
       "    </tr>\n",
       "    <tr>\n",
       "      <th>583980</th>\n",
       "      <td>31</td>\n",
       "      <td>WRG</td>\n",
       "      <td>PSG</td>\n",
       "      <td>3.3</td>\n",
       "      <td>NaN</td>\n",
       "    </tr>\n",
       "    <tr>\n",
       "      <th>583981</th>\n",
       "      <td>31</td>\n",
       "      <td>KTN</td>\n",
       "      <td>WRG</td>\n",
       "      <td>5.3</td>\n",
       "      <td>3.3</td>\n",
       "    </tr>\n",
       "    <tr>\n",
       "      <th>583982</th>\n",
       "      <td>31</td>\n",
       "      <td>PSG</td>\n",
       "      <td>WRG</td>\n",
       "      <td>NaN</td>\n",
       "      <td>3.3</td>\n",
       "    </tr>\n",
       "    <tr>\n",
       "      <th>583983</th>\n",
       "      <td>31</td>\n",
       "      <td>GUM</td>\n",
       "      <td>SPN</td>\n",
       "      <td>26.3</td>\n",
       "      <td>25.6</td>\n",
       "    </tr>\n",
       "    <tr>\n",
       "      <th>583984</th>\n",
       "      <td>31</td>\n",
       "      <td>GUM</td>\n",
       "      <td>SPN</td>\n",
       "      <td>26.3</td>\n",
       "      <td>25.6</td>\n",
       "    </tr>\n",
       "  </tbody>\n",
       "</table>\n",
       "<p>583985 rows × 5 columns</p>\n",
       "</div>"
      ],
      "text/plain": [
       "       DAY_OF_MONTH ORIGIN DEST  ORIGIN_tavg  DEST_tavg\n",
       "0                 1    GNV  ATL         20.1       15.9\n",
       "1                 1    GNV  ATL         20.1       15.9\n",
       "2                 1    GNV  ATL         20.1       15.9\n",
       "3                 1    GNV  ATL         20.1       15.9\n",
       "4                 1    MSP  ATL        -14.1       15.9\n",
       "...             ...    ...  ...          ...        ...\n",
       "583980           31    WRG  PSG          3.3        NaN\n",
       "583981           31    KTN  WRG          5.3        3.3\n",
       "583982           31    PSG  WRG          NaN        3.3\n",
       "583983           31    GUM  SPN         26.3       25.6\n",
       "583984           31    GUM  SPN         26.3       25.6\n",
       "\n",
       "[583985 rows x 5 columns]"
      ]
     },
     "execution_count": 33,
     "metadata": {},
     "output_type": "execute_result"
    }
   ],
   "source": [
    "df19_weather[['DAY_OF_MONTH', 'ORIGIN', 'DEST', 'ORIGIN_tavg', 'DEST_tavg']]"
   ]
  },
  {
   "cell_type": "markdown",
   "metadata": {},
   "source": [
    "We see that for the GNV airport, the average temperature is 20.1 C, and for ATL the temperature was 15.9 C"
   ]
  },
  {
   "cell_type": "code",
   "execution_count": 34,
   "metadata": {
    "scrolled": true
   },
   "outputs": [
    {
     "data": {
      "text/plain": [
       "tavg      20.1\n",
       "tmin      13.9\n",
       "tmax      27.8\n",
       "prcp       0.0\n",
       "snow       0.0\n",
       "wdir     206.4\n",
       "wspd       4.0\n",
       "wpgt       NaN\n",
       "pres    1021.9\n",
       "tsun       NaN\n",
       "Name: 0, dtype: float64"
      ]
     },
     "execution_count": 34,
     "metadata": {},
     "output_type": "execute_result"
    }
   ],
   "source": [
    "weather_2019['GNV'].loc[0]"
   ]
  },
  {
   "cell_type": "code",
   "execution_count": 35,
   "metadata": {},
   "outputs": [
    {
     "data": {
      "text/plain": [
       "tavg      15.9\n",
       "tmin      12.9\n",
       "tmax      17.9\n",
       "prcp       NaN\n",
       "snow       NaN\n",
       "wdir       NaN\n",
       "wspd       2.5\n",
       "wpgt       NaN\n",
       "pres    1016.6\n",
       "tsun       NaN\n",
       "Name: 0, dtype: float64"
      ]
     },
     "execution_count": 35,
     "metadata": {},
     "output_type": "execute_result"
    }
   ],
   "source": [
    "weather_2019['ATL'].loc[0]"
   ]
  },
  {
   "cell_type": "markdown",
   "metadata": {},
   "source": [
    "It adds up"
   ]
  },
  {
   "cell_type": "markdown",
   "metadata": {},
   "source": [
    "# Modelling missing values\n",
    "\n",
    "Based on previous exploratory analysis, it is clear that weather data might have a significant impact on the flight delays and cancellations\n",
    "\n",
    "Therefore, an attempt at predicting the missing values is done to increase the quality of the dataset and hopefully improve the performance of the predictive models"
   ]
  },
  {
   "cell_type": "code",
   "execution_count": 37,
   "metadata": {},
   "outputs": [],
   "source": [
    "from sklearn.model_selection import train_test_split\n",
    "from sklearn.metrics import mean_absolute_error, mean_squared_error, r2_score\n",
    "\n",
    "import seaborn as sns\n",
    "import matplotlib.pyplot as plt"
   ]
  },
  {
   "cell_type": "markdown",
   "metadata": {},
   "source": [
    "As snow is one of the main reasons why planes cannot land or take off, and it is the column with most missing values, the models will try to predict the amount of snow based on other columns. "
   ]
  },
  {
   "cell_type": "code",
   "execution_count": 38,
   "metadata": {},
   "outputs": [],
   "source": [
    "target = ['snow']"
   ]
  },
  {
   "cell_type": "markdown",
   "metadata": {},
   "source": [
    "Initially we choose a set of features based on intuition and common knowledge on which columns could explain the presence of snow"
   ]
  },
  {
   "cell_type": "code",
   "execution_count": 39,
   "metadata": {},
   "outputs": [],
   "source": [
    "features = ['tavg', 'tmin', 'tmax', 'wspd', 'prcp', 'pres']"
   ]
  },
  {
   "cell_type": "markdown",
   "metadata": {},
   "source": [
    "We will use both 2019 and 2020 data, so we concatenate the two dataframes"
   ]
  },
  {
   "cell_type": "code",
   "execution_count": 40,
   "metadata": {},
   "outputs": [
    {
     "data": {
      "text/plain": [
       "(21452, 9)"
      ]
     },
     "execution_count": 40,
     "metadata": {},
     "output_type": "execute_result"
    }
   ],
   "source": [
    "weather_df_total = pd.concat([weather_df_2019, weather_df_2020]).reset_index(drop=True)\n",
    "weather_df_total.shape"
   ]
  },
  {
   "cell_type": "markdown",
   "metadata": {},
   "source": [
    "We quickly inspect the distributions of the features"
   ]
  },
  {
   "cell_type": "code",
   "execution_count": 41,
   "metadata": {},
   "outputs": [
    {
     "data": {
      "image/png": "[encoded data removed]",
      "text/plain": [
       "<Figure size 1080x1080 with 9 Axes>"
      ]
     },
     "metadata": {
      "needs_background": "light"
     },
     "output_type": "display_data"
    }
   ],
   "source": [
    "fig, axs = plt.subplots(3, 3, figsize=(15, 15))\n",
    "\n",
    "sns.histplot(weather_df_total, x='tavg', ax=axs[0,0])\n",
    "sns.histplot(weather_df_total, x='tmin', ax=axs[0,1])\n",
    "sns.histplot(weather_df_total, x='tmax', ax=axs[0,2])\n",
    "sns.histplot(weather_df_total, x='prcp', ax=axs[1,0])\n",
    "sns.histplot(weather_df_total, x='snow', ax=axs[1,1])\n",
    "sns.histplot(weather_df_total, x='wspd', ax=axs[1,2])\n",
    "sns.histplot(weather_df_total, x='pres', ax=axs[2,0])\n",
    "\n",
    "plt.show()"
   ]
  },
  {
   "cell_type": "code",
   "execution_count": 42,
   "metadata": {},
   "outputs": [
    {
     "data": {
      "text/plain": [
       "<AxesSubplot:>"
      ]
     },
     "execution_count": 42,
     "metadata": {},
     "output_type": "execute_result"
    },
    {
     "data": {
      "image/png": "[encoded data removed]",
      "text/plain": [
       "<Figure size 432x288 with 1 Axes>"
      ]
     },
     "metadata": {
      "needs_background": "light"
     },
     "output_type": "display_data"
    }
   ],
   "source": [
    "weather_df_total['prcp'].hist(bins=40)"
   ]
  },
  {
   "cell_type": "markdown",
   "metadata": {},
   "source": [
    "They seem to roughly follow a normal distribution, with the exception of precipitation having a lot of 0 values."
   ]
  },
  {
   "cell_type": "markdown",
   "metadata": {},
   "source": [
    "We know that there are missing values, as some weather stations do not record all data. To predict the snow values, we have to remove these missing values. To avoid making assumptions on the features, we drop the missing rows, as predicting the values of snow in itself is a large assumption"
   ]
  },
  {
   "cell_type": "code",
   "execution_count": 43,
   "metadata": {},
   "outputs": [
    {
     "data": {
      "text/plain": [
       "(9966, 7)"
      ]
     },
     "execution_count": 43,
     "metadata": {},
     "output_type": "execute_result"
    }
   ],
   "source": [
    "clean_df = weather_df_total[features + target].dropna()\n",
    "clean_df.shape"
   ]
  },
  {
   "cell_type": "code",
   "execution_count": 44,
   "metadata": {
    "run_control": {
     "marked": false
    }
   },
   "outputs": [],
   "source": [
    "X = clean_df[features].to_numpy()\n",
    "y = clean_df[target].to_numpy()"
   ]
  },
  {
   "cell_type": "markdown",
   "metadata": {},
   "source": [
    "## Feature selection\n",
    "\n",
    "To select some relevant features for filling out the missing snow values, we use the Shapley values to see the importance of each feature. Initially we choose a larger set of features that would make sense."
   ]
  },
  {
   "cell_type": "code",
   "execution_count": 45,
   "metadata": {},
   "outputs": [],
   "source": [
    "import xgboost as xgb\n",
    "import shap"
   ]
  },
  {
   "cell_type": "code",
   "execution_count": 46,
   "metadata": {
    "run_control": {
     "marked": false
    }
   },
   "outputs": [],
   "source": [
    "xgb_model = xgb.XGBRegressor().fit(X, y)  # Using default parameters"
   ]
  },
  {
   "cell_type": "code",
   "execution_count": 47,
   "metadata": {},
   "outputs": [
    {
     "name": "stderr",
     "output_type": "stream",
     "text": [
      " 98%|===================| 9752/9966 [00:19<00:00]        "
     ]
    }
   ],
   "source": [
    "explainer = shap.Explainer(xgb_model, X, feature_names=features)\n",
    "shap_values = explainer(X)"
   ]
  },
  {
   "cell_type": "code",
   "execution_count": 48,
   "metadata": {
    "scrolled": false
   },
   "outputs": [
    {
     "data": {
      "image/png": "[encoded data removed]",
      "text/plain": [
       "<Figure size 576x324 with 3 Axes>"
      ]
     },
     "metadata": {},
     "output_type": "display_data"
    }
   ],
   "source": [
    "shap.plots.waterfall(shap_values[0])"
   ]
  },
  {
   "cell_type": "markdown",
   "metadata": {},
   "source": [
    "From this we can now define the most relevant features"
   ]
  },
  {
   "cell_type": "code",
   "execution_count": 49,
   "metadata": {},
   "outputs": [],
   "source": [
    "features = ['tmax', 'tavg', 'tmin']\n",
    "target = ['snow']"
   ]
  },
  {
   "cell_type": "markdown",
   "metadata": {},
   "source": [
    "And redefine X and y"
   ]
  },
  {
   "cell_type": "code",
   "execution_count": 50,
   "metadata": {},
   "outputs": [],
   "source": [
    "clean_df2 = weather_df_total[features + target].dropna()\n",
    "\n",
    "X = clean_df2[features].to_numpy()\n",
    "y = clean_df2[target].to_numpy()"
   ]
  },
  {
   "cell_type": "code",
   "execution_count": 51,
   "metadata": {
    "run_control": {
     "marked": false
    }
   },
   "outputs": [],
   "source": [
    "X_train, X_test, y_train, y_test = train_test_split(X, y, test_size=0.33, random_state=42)\n",
    "\n",
    "X_train, X_val, y_train, y_val = train_test_split(X_train, y_train, test_size=0.33, random_state=42)"
   ]
  },
  {
   "cell_type": "markdown",
   "metadata": {},
   "source": [
    "## Scaling\n",
    "\n",
    "To have equal importance for all features, we standardize the data"
   ]
  },
  {
   "cell_type": "code",
   "execution_count": 52,
   "metadata": {},
   "outputs": [],
   "source": [
    "from sklearn.preprocessing import StandardScaler"
   ]
  },
  {
   "cell_type": "markdown",
   "metadata": {},
   "source": [
    "We only scale on the test set to avoid information leaking to the validation or test set"
   ]
  },
  {
   "cell_type": "code",
   "execution_count": 53,
   "metadata": {},
   "outputs": [],
   "source": [
    "sc = StandardScaler().fit(X_train)"
   ]
  },
  {
   "cell_type": "code",
   "execution_count": 54,
   "metadata": {},
   "outputs": [],
   "source": [
    "X_train = sc.transform(X_train)\n",
    "X_val = sc.transform(X_val)\n",
    "X_test = sc.transform(X_test)"
   ]
  },
  {
   "cell_type": "code",
   "execution_count": 55,
   "metadata": {},
   "outputs": [
    {
     "data": {
      "text/plain": [
       "(1.9749829833472978e-16, 1.0)"
      ]
     },
     "execution_count": 55,
     "metadata": {},
     "output_type": "execute_result"
    }
   ],
   "source": [
    "X_train.mean(), X_train.std()"
   ]
  },
  {
   "cell_type": "code",
   "execution_count": 56,
   "metadata": {},
   "outputs": [
    {
     "data": {
      "text/plain": [
       "(-0.015162456219813682, 0.9900294159709723)"
      ]
     },
     "execution_count": 56,
     "metadata": {},
     "output_type": "execute_result"
    }
   ],
   "source": [
    "X_val.mean(), X_val.std()"
   ]
  },
  {
   "cell_type": "markdown",
   "metadata": {},
   "source": [
    "We define a function to evaluate models"
   ]
  },
  {
   "cell_type": "code",
   "execution_count": 57,
   "metadata": {},
   "outputs": [],
   "source": [
    "def eval_model(X, y, model):\n",
    "    y_pred = model.predict(X)\n",
    "    \n",
    "    print('MAE: ', mean_absolute_error(y, y_pred))\n",
    "    print(\"MSE: \", mean_squared_error(y, y_pred))\n",
    "    print(\"R2: \", r2_score(y, y_pred))"
   ]
  },
  {
   "cell_type": "markdown",
   "metadata": {},
   "source": [
    "## Linear regression\n",
    "\n",
    "We will try with a simple linear regression"
   ]
  },
  {
   "cell_type": "code",
   "execution_count": 58,
   "metadata": {
    "scrolled": true
   },
   "outputs": [],
   "source": [
    "from sklearn.linear_model import LinearRegression"
   ]
  },
  {
   "cell_type": "code",
   "execution_count": 59,
   "metadata": {},
   "outputs": [],
   "source": [
    "lr = LinearRegression().fit(X_train, y_train)"
   ]
  },
  {
   "cell_type": "code",
   "execution_count": 60,
   "metadata": {
    "scrolled": true
   },
   "outputs": [
    {
     "name": "stdout",
     "output_type": "stream",
     "text": [
      "MAE:  45.5739693494986\n",
      "MSE:  4429.961476705218\n",
      "R2:  0.3525049067747881\n"
     ]
    }
   ],
   "source": [
    "eval_model(X_train, y_train, lr)"
   ]
  },
  {
   "cell_type": "code",
   "execution_count": 61,
   "metadata": {},
   "outputs": [
    {
     "name": "stdout",
     "output_type": "stream",
     "text": [
      "MAE:  46.03849994508904\n",
      "MSE:  4570.380017769114\n",
      "R2:  0.34671671830601314\n"
     ]
    }
   ],
   "source": [
    "eval_model(X_val, y_val, lr)"
   ]
  },
  {
   "cell_type": "code",
   "execution_count": 62,
   "metadata": {},
   "outputs": [
    {
     "name": "stdout",
     "output_type": "stream",
     "text": [
      "MAE:  45.976249548709625\n",
      "MSE:  4579.340863534511\n",
      "R2:  0.35295804713392354\n"
     ]
    }
   ],
   "source": [
    "eval_model(X_test, y_test, lr)"
   ]
  },
  {
   "cell_type": "markdown",
   "metadata": {},
   "source": [
    "Generally the performance is not great from the linear model, it shows poor performance and probably underfits the data"
   ]
  },
  {
   "cell_type": "code",
   "execution_count": 63,
   "metadata": {},
   "outputs": [
    {
     "data": {
      "text/plain": [
       "36.181895896656535"
      ]
     },
     "execution_count": 63,
     "metadata": {},
     "output_type": "execute_result"
    }
   ],
   "source": [
    "y.mean()"
   ]
  },
  {
   "cell_type": "markdown",
   "metadata": {},
   "source": [
    "The mean of the target is 36.2 and the absolute error of the model is greater than this. It is probably not a good idea to use this model for filling in the missing values"
   ]
  },
  {
   "cell_type": "markdown",
   "metadata": {
    "run_control": {
     "marked": true
    }
   },
   "source": [
    "## MLP Regressor\n",
    "\n",
    "Next we extend the problem to try with the MLP regressor"
   ]
  },
  {
   "cell_type": "code",
   "execution_count": 64,
   "metadata": {},
   "outputs": [],
   "source": [
    "from sklearn.neural_network import MLPRegressor"
   ]
  },
  {
   "cell_type": "code",
   "execution_count": 65,
   "metadata": {},
   "outputs": [],
   "source": [
    "params = {\n",
    "    'hidden_layer_sizes': (20, 10, 5), \n",
    "    'activation': 'relu', \n",
    "    'solver': 'adam', \n",
    "    'max_iter': 5000, \n",
    "    'alpha': 0.00010\n",
    "}"
   ]
  },
  {
   "cell_type": "code",
   "execution_count": 66,
   "metadata": {
    "scrolled": true
   },
   "outputs": [
    {
     "data": {
      "text/plain": [
       "MLPRegressor(hidden_layer_sizes=(20, 10, 5), max_iter=5000)"
      ]
     },
     "execution_count": 66,
     "metadata": {},
     "output_type": "execute_result"
    }
   ],
   "source": [
    "mlp = MLPRegressor(**params)\n",
    "mlp.fit(X_train, y_train.ravel())"
   ]
  },
  {
   "cell_type": "code",
   "execution_count": 67,
   "metadata": {
    "scrolled": true
   },
   "outputs": [
    {
     "name": "stdout",
     "output_type": "stream",
     "text": [
      "MAE:  29.24756068212208\n",
      "MSE:  3391.3392402666764\n",
      "R2:  0.5043127284330309\n"
     ]
    }
   ],
   "source": [
    "eval_model(X_train, y_train, mlp)"
   ]
  },
  {
   "cell_type": "code",
   "execution_count": 68,
   "metadata": {},
   "outputs": [
    {
     "name": "stdout",
     "output_type": "stream",
     "text": [
      "MAE:  30.561724882093607\n",
      "MSE:  3627.2983027058704\n",
      "R2:  0.48151940765061574\n"
     ]
    }
   ],
   "source": [
    "eval_model(X_val, y_val, mlp)"
   ]
  },
  {
   "cell_type": "code",
   "execution_count": 69,
   "metadata": {},
   "outputs": [
    {
     "name": "stdout",
     "output_type": "stream",
     "text": [
      "MAE:  30.093827943458454\n",
      "MSE:  3645.125469591688\n",
      "R2:  0.48495882429986625\n"
     ]
    }
   ],
   "source": [
    "eval_model(X_test, y_test, mlp)"
   ]
  },
  {
   "cell_type": "markdown",
   "metadata": {},
   "source": [
    "The absolute error is surely smaller, however the model shows small signs of overfitting, but nothing too significant.\n",
    "\n",
    "This model could definitely be a candidate for filling out the missing values."
   ]
  },
  {
   "cell_type": "markdown",
   "metadata": {},
   "source": [
    "## Neural net\n",
    "\n",
    "Finally, we will try building our own neural net using the keras library."
   ]
  },
  {
   "cell_type": "code",
   "execution_count": 70,
   "metadata": {},
   "outputs": [],
   "source": [
    "from keras.layers import Input, Dense, Dropout\n",
    "from keras.models import Model\n",
    "from keras.callbacks import EarlyStopping\n",
    "from keras import regularizers\n",
    "\n",
    "import matplotlib.pyplot as plt"
   ]
  },
  {
   "cell_type": "markdown",
   "metadata": {},
   "source": [
    "The architecture was created by training the model on the train data and testing the results on the validation data."
   ]
  },
  {
   "cell_type": "code",
   "execution_count": 71,
   "metadata": {
    "scrolled": true
   },
   "outputs": [
    {
     "name": "stdout",
     "output_type": "stream",
     "text": [
      "Epoch 1/1000\n",
      "5/5 [==============================] - 3s 197ms/step - loss: 7980.6199 - mean_squared_error: 7980.6199 - mean_absolute_error: 35.3077 - val_loss: 8417.8984 - val_mean_squared_error: 8417.8984 - val_mean_absolute_error: 37.0800\n",
      "Epoch 2/1000\n",
      "5/5 [==============================] - 0s 10ms/step - loss: 8412.1330 - mean_squared_error: 8412.1331 - mean_absolute_error: 36.7309 - val_loss: 8412.0967 - val_mean_squared_error: 8412.0967 - val_mean_absolute_error: 37.0540\n",
      "Epoch 3/1000\n",
      "5/5 [==============================] - 0s 10ms/step - loss: 8366.0060 - mean_squared_error: 8366.0060 - mean_absolute_error: 36.6535 - val_loss: 8406.4668 - val_mean_squared_error: 8406.4668 - val_mean_absolute_error: 37.0291\n",
      "Epoch 4/1000\n",
      "5/5 [==============================] - 0s 11ms/step - loss: 7925.2758 - mean_squared_error: 7925.2758 - mean_absolute_error: 35.8761 - val_loss: 8401.0137 - val_mean_squared_error: 8401.0137 - val_mean_absolute_error: 37.0056\n",
      "Epoch 5/1000\n",
      "5/5 [==============================] - 0s 10ms/step - loss: 8584.2396 - mean_squared_error: 8584.2396 - mean_absolute_error: 36.6087 - val_loss: 8395.7295 - val_mean_squared_error: 8395.7295 - val_mean_absolute_error: 36.9832\n",
      "Epoch 6/1000\n",
      "5/5 [==============================] - 0s 10ms/step - loss: 7889.6471 - mean_squared_error: 7889.6471 - mean_absolute_error: 35.1297 - val_loss: 8390.6865 - val_mean_squared_error: 8390.6865 - val_mean_absolute_error: 36.9625\n",
      "Epoch 7/1000\n",
      "5/5 [==============================] - 0s 10ms/step - loss: 8113.7629 - mean_squared_error: 8113.7629 - mean_absolute_error: 35.9180 - val_loss: 8385.8174 - val_mean_squared_error: 8385.8174 - val_mean_absolute_error: 36.9427\n",
      "Epoch 8/1000\n",
      "5/5 [==============================] - 0s 10ms/step - loss: 8147.3464 - mean_squared_error: 8147.3466 - mean_absolute_error: 36.0261 - val_loss: 8381.2314 - val_mean_squared_error: 8381.2314 - val_mean_absolute_error: 36.9242\n",
      "Epoch 9/1000\n",
      "5/5 [==============================] - 0s 10ms/step - loss: 8024.6021 - mean_squared_error: 8024.6021 - mean_absolute_error: 35.9698 - val_loss: 8376.8467 - val_mean_squared_error: 8376.8467 - val_mean_absolute_error: 36.9070\n",
      "Epoch 10/1000\n",
      "5/5 [==============================] - 0s 10ms/step - loss: 7737.2361 - mean_squared_error: 7737.2361 - mean_absolute_error: 34.7966 - val_loss: 8372.6748 - val_mean_squared_error: 8372.6748 - val_mean_absolute_error: 36.8912\n",
      "Epoch 11/1000\n",
      "5/5 [==============================] - 0s 10ms/step - loss: 8069.5882 - mean_squared_error: 8069.5882 - mean_absolute_error: 35.7019 - val_loss: 8368.7109 - val_mean_squared_error: 8368.7109 - val_mean_absolute_error: 36.8761\n",
      "Epoch 12/1000\n",
      "5/5 [==============================] - 0s 10ms/step - loss: 8050.5029 - mean_squared_error: 8050.5029 - mean_absolute_error: 36.0206 - val_loss: 8364.8770 - val_mean_squared_error: 8364.8770 - val_mean_absolute_error: 36.8618\n",
      "Epoch 13/1000\n",
      "5/5 [==============================] - 0s 10ms/step - loss: 7944.2961 - mean_squared_error: 7944.2961 - mean_absolute_error: 35.3376 - val_loss: 8361.2676 - val_mean_squared_error: 8361.2676 - val_mean_absolute_error: 36.8489\n",
      "Epoch 14/1000\n",
      "5/5 [==============================] - 0s 10ms/step - loss: 7889.2161 - mean_squared_error: 7889.2161 - mean_absolute_error: 35.4536 - val_loss: 8357.7607 - val_mean_squared_error: 8357.7607 - val_mean_absolute_error: 36.8373\n",
      "Epoch 15/1000\n",
      "5/5 [==============================] - 0s 10ms/step - loss: 7989.9056 - mean_squared_error: 7989.9056 - mean_absolute_error: 35.6715 - val_loss: 8354.3984 - val_mean_squared_error: 8354.3984 - val_mean_absolute_error: 36.8269\n",
      "Epoch 16/1000\n",
      "5/5 [==============================] - 0s 9ms/step - loss: 8110.0995 - mean_squared_error: 8110.0995 - mean_absolute_error: 35.9604 - val_loss: 8351.1992 - val_mean_squared_error: 8351.1992 - val_mean_absolute_error: 36.8174\n",
      "Epoch 17/1000\n",
      "5/5 [==============================] - 0s 10ms/step - loss: 8021.5225 - mean_squared_error: 8021.5225 - mean_absolute_error: 35.8418 - val_loss: 8348.1133 - val_mean_squared_error: 8348.1133 - val_mean_absolute_error: 36.8088\n",
      "Epoch 18/1000\n",
      "5/5 [==============================] - 0s 9ms/step - loss: 8335.9819 - mean_squared_error: 8335.9819 - mean_absolute_error: 36.2979 - val_loss: 8345.1426 - val_mean_squared_error: 8345.1426 - val_mean_absolute_error: 36.8011\n",
      "Epoch 19/1000\n",
      "5/5 [==============================] - 0s 10ms/step - loss: 8254.9835 - mean_squared_error: 8254.9835 - mean_absolute_error: 36.4229 - val_loss: 8342.2734 - val_mean_squared_error: 8342.2734 - val_mean_absolute_error: 36.7940\n",
      "Epoch 20/1000\n",
      "5/5 [==============================] - 0s 10ms/step - loss: 8322.2630 - mean_squared_error: 8322.2630 - mean_absolute_error: 36.5102 - val_loss: 8339.5312 - val_mean_squared_error: 8339.5312 - val_mean_absolute_error: 36.7877\n",
      "Epoch 21/1000\n",
      "5/5 [==============================] - 0s 10ms/step - loss: 8403.2186 - mean_squared_error: 8403.2186 - mean_absolute_error: 36.8185 - val_loss: 8336.8984 - val_mean_squared_error: 8336.8984 - val_mean_absolute_error: 36.7818\n",
      "Epoch 22/1000\n",
      "5/5 [==============================] - 0s 9ms/step - loss: 8262.0671 - mean_squared_error: 8262.0671 - mean_absolute_error: 36.1010 - val_loss: 8334.4551 - val_mean_squared_error: 8334.4551 - val_mean_absolute_error: 36.7770\n",
      "Epoch 23/1000\n",
      "5/5 [==============================] - 0s 9ms/step - loss: 8100.1323 - mean_squared_error: 8100.1322 - mean_absolute_error: 35.7659 - val_loss: 8332.0840 - val_mean_squared_error: 8332.0840 - val_mean_absolute_error: 36.7727\n",
      "Epoch 24/1000\n",
      "5/5 [==============================] - 0s 10ms/step - loss: 8068.4732 - mean_squared_error: 8068.4732 - mean_absolute_error: 35.8458 - val_loss: 8329.7949 - val_mean_squared_error: 8329.7949 - val_mean_absolute_error: 36.7690\n",
      "Epoch 25/1000\n",
      "5/5 [==============================] - 0s 10ms/step - loss: 8053.2850 - mean_squared_error: 8053.2850 - mean_absolute_error: 35.9003 - val_loss: 8327.6406 - val_mean_squared_error: 8327.6406 - val_mean_absolute_error: 36.7657\n",
      "Epoch 26/1000\n",
      "5/5 [==============================] - 0s 10ms/step - loss: 8104.5521 - mean_squared_error: 8104.5523 - mean_absolute_error: 36.0856 - val_loss: 8325.6494 - val_mean_squared_error: 8325.6494 - val_mean_absolute_error: 36.7626\n",
      "Epoch 27/1000\n",
      "5/5 [==============================] - 0s 9ms/step - loss: 8134.8901 - mean_squared_error: 8134.8901 - mean_absolute_error: 36.1345 - val_loss: 8323.7539 - val_mean_squared_error: 8323.7539 - val_mean_absolute_error: 36.7598\n",
      "Epoch 28/1000\n",
      "5/5 [==============================] - 0s 9ms/step - loss: 8059.4192 - mean_squared_error: 8059.4192 - mean_absolute_error: 36.3317 - val_loss: 8321.9180 - val_mean_squared_error: 8321.9180 - val_mean_absolute_error: 36.7571\n",
      "Epoch 29/1000\n",
      "5/5 [==============================] - 0s 9ms/step - loss: 8021.6870 - mean_squared_error: 8021.6870 - mean_absolute_error: 35.8892 - val_loss: 8320.1641 - val_mean_squared_error: 8320.1641 - val_mean_absolute_error: 36.7549\n",
      "Epoch 30/1000\n",
      "5/5 [==============================] - 0s 9ms/step - loss: 7781.7520 - mean_squared_error: 7781.7520 - mean_absolute_error: 35.1104 - val_loss: 8318.4375 - val_mean_squared_error: 8318.4375 - val_mean_absolute_error: 36.7520\n",
      "Epoch 31/1000\n",
      "5/5 [==============================] - 0s 9ms/step - loss: 8230.6473 - mean_squared_error: 8230.6473 - mean_absolute_error: 36.5980 - val_loss: 8316.7383 - val_mean_squared_error: 8316.7383 - val_mean_absolute_error: 36.7497\n",
      "Epoch 32/1000\n",
      "5/5 [==============================] - 0s 9ms/step - loss: 8103.2459 - mean_squared_error: 8103.2459 - mean_absolute_error: 35.9210 - val_loss: 8315.0684 - val_mean_squared_error: 8315.0684 - val_mean_absolute_error: 36.7473\n",
      "Epoch 33/1000\n",
      "5/5 [==============================] - 0s 9ms/step - loss: 8054.1753 - mean_squared_error: 8054.1753 - mean_absolute_error: 35.5174 - val_loss: 8313.3926 - val_mean_squared_error: 8313.3926 - val_mean_absolute_error: 36.7447\n",
      "Epoch 34/1000\n",
      "5/5 [==============================] - 0s 10ms/step - loss: 8259.1836 - mean_squared_error: 8259.1836 - mean_absolute_error: 36.7793 - val_loss: 8311.6895 - val_mean_squared_error: 8311.6895 - val_mean_absolute_error: 36.7425\n",
      "Epoch 35/1000\n",
      "5/5 [==============================] - 0s 9ms/step - loss: 8097.5566 - mean_squared_error: 8097.5566 - mean_absolute_error: 35.7134 - val_loss: 8309.9678 - val_mean_squared_error: 8309.9678 - val_mean_absolute_error: 36.7401\n",
      "Epoch 36/1000\n",
      "5/5 [==============================] - 0s 9ms/step - loss: 7669.9006 - mean_squared_error: 7669.9006 - mean_absolute_error: 33.9813 - val_loss: 8308.2275 - val_mean_squared_error: 8308.2275 - val_mean_absolute_error: 36.7372\n",
      "Epoch 37/1000\n",
      "5/5 [==============================] - 0s 9ms/step - loss: 8282.1554 - mean_squared_error: 8282.1554 - mean_absolute_error: 36.5734 - val_loss: 8306.4033 - val_mean_squared_error: 8306.4033 - val_mean_absolute_error: 36.7344\n",
      "Epoch 38/1000\n",
      "5/5 [==============================] - 0s 10ms/step - loss: 8046.2297 - mean_squared_error: 8046.2297 - mean_absolute_error: 35.6619 - val_loss: 8304.5107 - val_mean_squared_error: 8304.5107 - val_mean_absolute_error: 36.7311\n",
      "Epoch 39/1000\n",
      "5/5 [==============================] - 0s 10ms/step - loss: 7755.9872 - mean_squared_error: 7755.9872 - mean_absolute_error: 35.0076 - val_loss: 8302.4590 - val_mean_squared_error: 8302.4590 - val_mean_absolute_error: 36.7271\n",
      "Epoch 40/1000\n",
      "5/5 [==============================] - 0s 10ms/step - loss: 8050.6138 - mean_squared_error: 8050.6138 - mean_absolute_error: 36.0037 - val_loss: 8300.1553 - val_mean_squared_error: 8300.1553 - val_mean_absolute_error: 36.7222\n",
      "Epoch 41/1000\n",
      "5/5 [==============================] - 0s 11ms/step - loss: 8120.0278 - mean_squared_error: 8120.0278 - mean_absolute_error: 36.3285 - val_loss: 8297.5684 - val_mean_squared_error: 8297.5684 - val_mean_absolute_error: 36.7164\n",
      "Epoch 42/1000\n",
      "5/5 [==============================] - 0s 11ms/step - loss: 8338.2940 - mean_squared_error: 8338.2940 - mean_absolute_error: 36.6743 - val_loss: 8294.5039 - val_mean_squared_error: 8294.5039 - val_mean_absolute_error: 36.7092\n",
      "Epoch 43/1000\n",
      "5/5 [==============================] - 0s 10ms/step - loss: 8030.4194 - mean_squared_error: 8030.4193 - mean_absolute_error: 35.9152 - val_loss: 8290.7246 - val_mean_squared_error: 8290.7246 - val_mean_absolute_error: 36.7002\n",
      "Epoch 44/1000\n",
      "5/5 [==============================] - 0s 9ms/step - loss: 8190.1506 - mean_squared_error: 8190.1506 - mean_absolute_error: 36.2195 - val_loss: 8286.1699 - val_mean_squared_error: 8286.1699 - val_mean_absolute_error: 36.6898\n",
      "Epoch 45/1000\n",
      "5/5 [==============================] - 0s 9ms/step - loss: 8232.6031 - mean_squared_error: 8232.6031 - mean_absolute_error: 36.5976 - val_loss: 8280.7148 - val_mean_squared_error: 8280.7148 - val_mean_absolute_error: 36.6777\n",
      "Epoch 46/1000\n",
      "5/5 [==============================] - 0s 9ms/step - loss: 8136.9933 - mean_squared_error: 8136.9938 - mean_absolute_error: 36.0304 - val_loss: 8274.4453 - val_mean_squared_error: 8274.4443 - val_mean_absolute_error: 36.6639\n",
      "Epoch 47/1000\n",
      "5/5 [==============================] - 0s 10ms/step - loss: 7878.9513 - mean_squared_error: 7878.9513 - mean_absolute_error: 35.3058 - val_loss: 8267.5137 - val_mean_squared_error: 8267.5137 - val_mean_absolute_error: 36.6492\n",
      "Epoch 48/1000\n",
      "5/5 [==============================] - 0s 10ms/step - loss: 7940.2933 - mean_squared_error: 7940.2933 - mean_absolute_error: 35.5289 - val_loss: 8260.2881 - val_mean_squared_error: 8260.2881 - val_mean_absolute_error: 36.6344\n",
      "Epoch 49/1000\n",
      "5/5 [==============================] - 0s 10ms/step - loss: 8168.9237 - mean_squared_error: 8168.9237 - mean_absolute_error: 36.2599 - val_loss: 8252.6943 - val_mean_squared_error: 8252.6934 - val_mean_absolute_error: 36.6193\n",
      "Epoch 50/1000\n",
      "5/5 [==============================] - 0s 10ms/step - loss: 8150.4731 - mean_squared_error: 8150.4731 - mean_absolute_error: 35.9596 - val_loss: 8245.1826 - val_mean_squared_error: 8245.1826 - val_mean_absolute_error: 36.6050\n",
      "Epoch 51/1000\n",
      "5/5 [==============================] - 0s 9ms/step - loss: 8001.0548 - mean_squared_error: 8001.0548 - mean_absolute_error: 35.6662 - val_loss: 8237.6934 - val_mean_squared_error: 8237.6934 - val_mean_absolute_error: 36.5913\n",
      "Epoch 52/1000\n",
      "5/5 [==============================] - 0s 9ms/step - loss: 8288.5889 - mean_squared_error: 8288.5889 - mean_absolute_error: 36.6971 - val_loss: 8230.2578 - val_mean_squared_error: 8230.2578 - val_mean_absolute_error: 36.5784\n",
      "Epoch 53/1000\n",
      "5/5 [==============================] - 0s 9ms/step - loss: 7737.0028 - mean_squared_error: 7737.0028 - mean_absolute_error: 34.9175 - val_loss: 8222.9717 - val_mean_squared_error: 8222.9717 - val_mean_absolute_error: 36.5667\n",
      "Epoch 54/1000\n",
      "5/5 [==============================] - 0s 10ms/step - loss: 8132.9076 - mean_squared_error: 8132.9076 - mean_absolute_error: 36.1400 - val_loss: 8215.6084 - val_mean_squared_error: 8215.6084 - val_mean_absolute_error: 36.5561\n",
      "Epoch 55/1000\n",
      "5/5 [==============================] - 0s 10ms/step - loss: 8170.8296 - mean_squared_error: 8170.8296 - mean_absolute_error: 35.9843 - val_loss: 8208.3271 - val_mean_squared_error: 8208.3271 - val_mean_absolute_error: 36.5472\n",
      "Epoch 56/1000\n",
      "5/5 [==============================] - 0s 10ms/step - loss: 8374.7826 - mean_squared_error: 8374.7826 - mean_absolute_error: 36.5601 - val_loss: 8201.1143 - val_mean_squared_error: 8201.1143 - val_mean_absolute_error: 36.5391\n",
      "Epoch 57/1000\n",
      "5/5 [==============================] - 0s 9ms/step - loss: 7983.3138 - mean_squared_error: 7983.3138 - mean_absolute_error: 35.5426 - val_loss: 8193.9727 - val_mean_squared_error: 8193.9727 - val_mean_absolute_error: 36.5316\n",
      "Epoch 58/1000\n",
      "5/5 [==============================] - 0s 10ms/step - loss: 7876.9921 - mean_squared_error: 7876.9917 - mean_absolute_error: 35.3176 - val_loss: 8186.7974 - val_mean_squared_error: 8186.7974 - val_mean_absolute_error: 36.5241\n",
      "Epoch 59/1000\n",
      "5/5 [==============================] - 0s 10ms/step - loss: 7834.8446 - mean_squared_error: 7834.8446 - mean_absolute_error: 35.0336 - val_loss: 8179.6650 - val_mean_squared_error: 8179.6650 - val_mean_absolute_error: 36.5168\n",
      "Epoch 60/1000\n",
      "5/5 [==============================] - 0s 10ms/step - loss: 8209.7783 - mean_squared_error: 8209.7783 - mean_absolute_error: 36.3511 - val_loss: 8172.4663 - val_mean_squared_error: 8172.4663 - val_mean_absolute_error: 36.5097\n",
      "Epoch 61/1000\n",
      "5/5 [==============================] - 0s 9ms/step - loss: 7904.9024 - mean_squared_error: 7904.9024 - mean_absolute_error: 35.2351 - val_loss: 8165.2588 - val_mean_squared_error: 8165.2588 - val_mean_absolute_error: 36.5026\n",
      "Epoch 62/1000\n",
      "5/5 [==============================] - 0s 9ms/step - loss: 7754.5216 - mean_squared_error: 7754.5216 - mean_absolute_error: 35.1931 - val_loss: 8158.0620 - val_mean_squared_error: 8158.0620 - val_mean_absolute_error: 36.4957\n",
      "Epoch 63/1000\n",
      "5/5 [==============================] - 0s 9ms/step - loss: 8021.5451 - mean_squared_error: 8021.5451 - mean_absolute_error: 35.9161 - val_loss: 8150.7837 - val_mean_squared_error: 8150.7837 - val_mean_absolute_error: 36.4887\n",
      "Epoch 64/1000\n",
      "5/5 [==============================] - 0s 9ms/step - loss: 8004.9714 - mean_squared_error: 8004.9707 - mean_absolute_error: 35.6137 - val_loss: 8143.4912 - val_mean_squared_error: 8143.4912 - val_mean_absolute_error: 36.4818\n",
      "Epoch 65/1000\n",
      "5/5 [==============================] - 0s 10ms/step - loss: 7587.6640 - mean_squared_error: 7587.6640 - mean_absolute_error: 34.8089 - val_loss: 8136.2017 - val_mean_squared_error: 8136.2017 - val_mean_absolute_error: 36.4750\n",
      "Epoch 66/1000\n",
      "5/5 [==============================] - 0s 9ms/step - loss: 7884.2563 - mean_squared_error: 7884.2563 - mean_absolute_error: 35.2460 - val_loss: 8128.7852 - val_mean_squared_error: 8128.7852 - val_mean_absolute_error: 36.4682\n",
      "Epoch 67/1000\n",
      "5/5 [==============================] - 0s 9ms/step - loss: 7969.5750 - mean_squared_error: 7969.5748 - mean_absolute_error: 35.6372 - val_loss: 8121.2612 - val_mean_squared_error: 8121.2612 - val_mean_absolute_error: 36.4613\n",
      "Epoch 68/1000\n",
      "5/5 [==============================] - 0s 10ms/step - loss: 7673.4089 - mean_squared_error: 7673.4089 - mean_absolute_error: 35.0488 - val_loss: 8113.7422 - val_mean_squared_error: 8113.7422 - val_mean_absolute_error: 36.4545\n",
      "Epoch 69/1000\n"
     ]
    },
    {
     "name": "stdout",
     "output_type": "stream",
     "text": [
      "5/5 [==============================] - 0s 9ms/step - loss: 7957.0379 - mean_squared_error: 7957.0379 - mean_absolute_error: 35.3000 - val_loss: 8106.0444 - val_mean_squared_error: 8106.0444 - val_mean_absolute_error: 36.4475\n",
      "Epoch 70/1000\n",
      "5/5 [==============================] - 0s 9ms/step - loss: 7549.2747 - mean_squared_error: 7549.2747 - mean_absolute_error: 35.0623 - val_loss: 8098.3608 - val_mean_squared_error: 8098.3608 - val_mean_absolute_error: 36.4406\n",
      "Epoch 71/1000\n",
      "5/5 [==============================] - 0s 10ms/step - loss: 8126.0824 - mean_squared_error: 8126.0824 - mean_absolute_error: 36.1465 - val_loss: 8090.6450 - val_mean_squared_error: 8090.6450 - val_mean_absolute_error: 36.4338\n",
      "Epoch 72/1000\n",
      "5/5 [==============================] - 0s 9ms/step - loss: 7773.6003 - mean_squared_error: 7773.6001 - mean_absolute_error: 35.2997 - val_loss: 8082.8052 - val_mean_squared_error: 8082.8052 - val_mean_absolute_error: 36.4268\n",
      "Epoch 73/1000\n",
      "5/5 [==============================] - 0s 9ms/step - loss: 7575.4597 - mean_squared_error: 7575.4597 - mean_absolute_error: 34.8291 - val_loss: 8075.0293 - val_mean_squared_error: 8075.0293 - val_mean_absolute_error: 36.4200\n",
      "Epoch 74/1000\n",
      "5/5 [==============================] - 0s 9ms/step - loss: 8348.3896 - mean_squared_error: 8348.3896 - mean_absolute_error: 37.0700 - val_loss: 8066.9199 - val_mean_squared_error: 8066.9199 - val_mean_absolute_error: 36.4128\n",
      "Epoch 75/1000\n",
      "5/5 [==============================] - 0s 10ms/step - loss: 7814.9283 - mean_squared_error: 7814.9283 - mean_absolute_error: 35.3149 - val_loss: 8058.9897 - val_mean_squared_error: 8058.9897 - val_mean_absolute_error: 36.4060\n",
      "Epoch 76/1000\n",
      "5/5 [==============================] - 0s 10ms/step - loss: 8037.5040 - mean_squared_error: 8037.5040 - mean_absolute_error: 36.1296 - val_loss: 8050.9131 - val_mean_squared_error: 8050.9131 - val_mean_absolute_error: 36.3989\n",
      "Epoch 77/1000\n",
      "5/5 [==============================] - 0s 10ms/step - loss: 7872.2395 - mean_squared_error: 7872.2395 - mean_absolute_error: 35.7645 - val_loss: 8042.5894 - val_mean_squared_error: 8042.5894 - val_mean_absolute_error: 36.3916\n",
      "Epoch 78/1000\n",
      "5/5 [==============================] - 0s 10ms/step - loss: 7828.9716 - mean_squared_error: 7828.9716 - mean_absolute_error: 35.5319 - val_loss: 8034.3232 - val_mean_squared_error: 8034.3232 - val_mean_absolute_error: 36.3844\n",
      "Epoch 79/1000\n",
      "5/5 [==============================] - 0s 10ms/step - loss: 7739.5645 - mean_squared_error: 7739.5645 - mean_absolute_error: 35.0214 - val_loss: 8026.0576 - val_mean_squared_error: 8026.0576 - val_mean_absolute_error: 36.3771\n",
      "Epoch 80/1000\n",
      "5/5 [==============================] - 0s 9ms/step - loss: 8170.6614 - mean_squared_error: 8170.6614 - mean_absolute_error: 36.3155 - val_loss: 8017.5737 - val_mean_squared_error: 8017.5737 - val_mean_absolute_error: 36.3696\n",
      "Epoch 81/1000\n",
      "5/5 [==============================] - 0s 9ms/step - loss: 8099.7502 - mean_squared_error: 8099.7502 - mean_absolute_error: 36.5170 - val_loss: 8009.0396 - val_mean_squared_error: 8009.0396 - val_mean_absolute_error: 36.3621\n",
      "Epoch 82/1000\n",
      "5/5 [==============================] - 0s 9ms/step - loss: 7864.1976 - mean_squared_error: 7864.1976 - mean_absolute_error: 35.9778 - val_loss: 8000.4922 - val_mean_squared_error: 8000.4922 - val_mean_absolute_error: 36.3544\n",
      "Epoch 83/1000\n",
      "5/5 [==============================] - 0s 10ms/step - loss: 7914.2213 - mean_squared_error: 7914.2213 - mean_absolute_error: 35.8863 - val_loss: 7991.8413 - val_mean_squared_error: 7991.8413 - val_mean_absolute_error: 36.3467\n",
      "Epoch 84/1000\n",
      "5/5 [==============================] - 0s 10ms/step - loss: 7799.5975 - mean_squared_error: 7799.5975 - mean_absolute_error: 35.8565 - val_loss: 7983.0947 - val_mean_squared_error: 7983.0947 - val_mean_absolute_error: 36.3388\n",
      "Epoch 85/1000\n",
      "5/5 [==============================] - 0s 10ms/step - loss: 7705.9790 - mean_squared_error: 7705.9790 - mean_absolute_error: 35.3358 - val_loss: 7974.4365 - val_mean_squared_error: 7974.4365 - val_mean_absolute_error: 36.3312\n",
      "Epoch 86/1000\n",
      "5/5 [==============================] - 0s 9ms/step - loss: 7552.8183 - mean_squared_error: 7552.8180 - mean_absolute_error: 34.8295 - val_loss: 7965.5747 - val_mean_squared_error: 7965.5747 - val_mean_absolute_error: 36.3232\n",
      "Epoch 87/1000\n",
      "5/5 [==============================] - 0s 10ms/step - loss: 7951.2217 - mean_squared_error: 7951.2217 - mean_absolute_error: 36.1754 - val_loss: 7956.5850 - val_mean_squared_error: 7956.5850 - val_mean_absolute_error: 36.3150\n",
      "Epoch 88/1000\n",
      "5/5 [==============================] - 0s 9ms/step - loss: 7597.9225 - mean_squared_error: 7597.9225 - mean_absolute_error: 34.9629 - val_loss: 7947.5088 - val_mean_squared_error: 7947.5088 - val_mean_absolute_error: 36.3067\n",
      "Epoch 89/1000\n",
      "5/5 [==============================] - 0s 9ms/step - loss: 7551.5601 - mean_squared_error: 7551.5601 - mean_absolute_error: 35.1016 - val_loss: 7938.5444 - val_mean_squared_error: 7938.5444 - val_mean_absolute_error: 36.2987\n",
      "Epoch 90/1000\n",
      "5/5 [==============================] - 0s 10ms/step - loss: 7931.9106 - mean_squared_error: 7931.9106 - mean_absolute_error: 36.0059 - val_loss: 7929.3213 - val_mean_squared_error: 7929.3213 - val_mean_absolute_error: 36.2902\n",
      "Epoch 91/1000\n",
      "5/5 [==============================] - 0s 10ms/step - loss: 7383.8564 - mean_squared_error: 7383.8564 - mean_absolute_error: 34.1222 - val_loss: 7920.0103 - val_mean_squared_error: 7920.0103 - val_mean_absolute_error: 36.2816\n",
      "Epoch 92/1000\n",
      "5/5 [==============================] - 0s 10ms/step - loss: 7306.0308 - mean_squared_error: 7306.0308 - mean_absolute_error: 34.3270 - val_loss: 7910.7896 - val_mean_squared_error: 7910.7896 - val_mean_absolute_error: 36.2733\n",
      "Epoch 93/1000\n",
      "5/5 [==============================] - 0s 9ms/step - loss: 7705.3505 - mean_squared_error: 7705.3505 - mean_absolute_error: 35.3004 - val_loss: 7901.2266 - val_mean_squared_error: 7901.2266 - val_mean_absolute_error: 36.2643\n",
      "Epoch 94/1000\n",
      "5/5 [==============================] - 0s 10ms/step - loss: 7552.5053 - mean_squared_error: 7552.5053 - mean_absolute_error: 35.3543 - val_loss: 7891.8530 - val_mean_squared_error: 7891.8530 - val_mean_absolute_error: 36.2558\n",
      "Epoch 95/1000\n",
      "5/5 [==============================] - 0s 9ms/step - loss: 7781.5861 - mean_squared_error: 7781.5861 - mean_absolute_error: 35.7915 - val_loss: 7882.1597 - val_mean_squared_error: 7882.1597 - val_mean_absolute_error: 36.2465\n",
      "Epoch 96/1000\n",
      "5/5 [==============================] - 0s 9ms/step - loss: 7660.2293 - mean_squared_error: 7660.2293 - mean_absolute_error: 34.8694 - val_loss: 7872.6650 - val_mean_squared_error: 7872.6650 - val_mean_absolute_error: 36.2378\n",
      "Epoch 97/1000\n",
      "5/5 [==============================] - 0s 9ms/step - loss: 7642.5171 - mean_squared_error: 7642.5171 - mean_absolute_error: 35.1789 - val_loss: 7862.9604 - val_mean_squared_error: 7862.9604 - val_mean_absolute_error: 36.2286\n",
      "Epoch 98/1000\n",
      "5/5 [==============================] - 0s 9ms/step - loss: 7823.5522 - mean_squared_error: 7823.5522 - mean_absolute_error: 35.8893 - val_loss: 7853.2905 - val_mean_squared_error: 7853.2905 - val_mean_absolute_error: 36.2196\n",
      "Epoch 99/1000\n",
      "5/5 [==============================] - 0s 9ms/step - loss: 7845.5662 - mean_squared_error: 7845.5663 - mean_absolute_error: 36.0798 - val_loss: 7843.3765 - val_mean_squared_error: 7843.3765 - val_mean_absolute_error: 36.2102\n",
      "Epoch 100/1000\n",
      "5/5 [==============================] - 0s 9ms/step - loss: 7448.2395 - mean_squared_error: 7448.2395 - mean_absolute_error: 34.6846 - val_loss: 7833.6504 - val_mean_squared_error: 7833.6504 - val_mean_absolute_error: 36.2011\n",
      "Epoch 101/1000\n",
      "5/5 [==============================] - 0s 10ms/step - loss: 7575.4475 - mean_squared_error: 7575.4475 - mean_absolute_error: 35.4598 - val_loss: 7823.7422 - val_mean_squared_error: 7823.7422 - val_mean_absolute_error: 36.1918\n",
      "Epoch 102/1000\n",
      "5/5 [==============================] - 0s 9ms/step - loss: 7855.1631 - mean_squared_error: 7855.1631 - mean_absolute_error: 35.7926 - val_loss: 7813.5850 - val_mean_squared_error: 7813.5850 - val_mean_absolute_error: 36.1820\n",
      "Epoch 103/1000\n",
      "5/5 [==============================] - 0s 10ms/step - loss: 7575.0821 - mean_squared_error: 7575.0821 - mean_absolute_error: 35.1791 - val_loss: 7803.5566 - val_mean_squared_error: 7803.5566 - val_mean_absolute_error: 36.1724\n",
      "Epoch 104/1000\n",
      "5/5 [==============================] - 0s 9ms/step - loss: 7633.2646 - mean_squared_error: 7633.2646 - mean_absolute_error: 34.8380 - val_loss: 7793.4912 - val_mean_squared_error: 7793.4912 - val_mean_absolute_error: 36.1628\n",
      "Epoch 105/1000\n",
      "5/5 [==============================] - 0s 9ms/step - loss: 7613.4758 - mean_squared_error: 7613.4758 - mean_absolute_error: 35.6330 - val_loss: 7783.0610 - val_mean_squared_error: 7783.0610 - val_mean_absolute_error: 36.1527\n",
      "Epoch 106/1000\n",
      "5/5 [==============================] - 0s 10ms/step - loss: 7541.4643 - mean_squared_error: 7541.4643 - mean_absolute_error: 35.4418 - val_loss: 7772.7773 - val_mean_squared_error: 7772.7773 - val_mean_absolute_error: 36.1427\n",
      "Epoch 107/1000\n",
      "5/5 [==============================] - 0s 10ms/step - loss: 7843.6445 - mean_squared_error: 7843.6445 - mean_absolute_error: 36.3280 - val_loss: 7762.4004 - val_mean_squared_error: 7762.4004 - val_mean_absolute_error: 36.1327\n",
      "Epoch 108/1000\n",
      "5/5 [==============================] - 0s 10ms/step - loss: 7608.7608 - mean_squared_error: 7608.7608 - mean_absolute_error: 35.7435 - val_loss: 7752.0225 - val_mean_squared_error: 7752.0225 - val_mean_absolute_error: 36.1227\n",
      "Epoch 109/1000\n",
      "5/5 [==============================] - 0s 9ms/step - loss: 7631.5586 - mean_squared_error: 7631.5586 - mean_absolute_error: 35.2339 - val_loss: 7741.4375 - val_mean_squared_error: 7741.4375 - val_mean_absolute_error: 36.1122\n",
      "Epoch 110/1000\n",
      "5/5 [==============================] - 0s 9ms/step - loss: 7832.4493 - mean_squared_error: 7832.4493 - mean_absolute_error: 36.1546 - val_loss: 7730.9517 - val_mean_squared_error: 7730.9517 - val_mean_absolute_error: 36.1019\n",
      "Epoch 111/1000\n",
      "5/5 [==============================] - 0s 9ms/step - loss: 7204.0072 - mean_squared_error: 7204.0072 - mean_absolute_error: 34.0817 - val_loss: 7720.4844 - val_mean_squared_error: 7720.4844 - val_mean_absolute_error: 36.0917\n",
      "Epoch 112/1000\n",
      "5/5 [==============================] - 0s 9ms/step - loss: 7485.1751 - mean_squared_error: 7485.1751 - mean_absolute_error: 34.9572 - val_loss: 7709.8770 - val_mean_squared_error: 7709.8770 - val_mean_absolute_error: 36.0813\n",
      "Epoch 113/1000\n",
      "5/5 [==============================] - 0s 10ms/step - loss: 7484.1281 - mean_squared_error: 7484.1281 - mean_absolute_error: 35.3055 - val_loss: 7699.1924 - val_mean_squared_error: 7699.1924 - val_mean_absolute_error: 36.0707\n",
      "Epoch 114/1000\n",
      "5/5 [==============================] - 0s 12ms/step - loss: 7632.5136 - mean_squared_error: 7632.5136 - mean_absolute_error: 35.6481 - val_loss: 7688.4346 - val_mean_squared_error: 7688.4346 - val_mean_absolute_error: 36.0600\n",
      "Epoch 115/1000\n",
      "5/5 [==============================] - 0s 10ms/step - loss: 7976.4958 - mean_squared_error: 7976.4958 - mean_absolute_error: 36.6692 - val_loss: 7677.6089 - val_mean_squared_error: 7677.6089 - val_mean_absolute_error: 36.0493\n",
      "Epoch 116/1000\n",
      "5/5 [==============================] - 0s 11ms/step - loss: 7411.4806 - mean_squared_error: 7411.4806 - mean_absolute_error: 34.7006 - val_loss: 7666.8335 - val_mean_squared_error: 7666.8335 - val_mean_absolute_error: 36.0385\n",
      "Epoch 117/1000\n",
      "5/5 [==============================] - 0s 10ms/step - loss: 7261.5514 - mean_squared_error: 7261.5514 - mean_absolute_error: 34.6322 - val_loss: 7655.9639 - val_mean_squared_error: 7655.9639 - val_mean_absolute_error: 36.0276\n",
      "Epoch 118/1000\n",
      "5/5 [==============================] - 0s 10ms/step - loss: 7243.2343 - mean_squared_error: 7243.2343 - mean_absolute_error: 34.5803 - val_loss: 7644.7769 - val_mean_squared_error: 7644.7769 - val_mean_absolute_error: 36.0161\n",
      "Epoch 119/1000\n",
      "5/5 [==============================] - 0s 11ms/step - loss: 7529.4583 - mean_squared_error: 7529.4583 - mean_absolute_error: 35.0755 - val_loss: 7633.7261 - val_mean_squared_error: 7633.7261 - val_mean_absolute_error: 36.0050\n",
      "Epoch 120/1000\n",
      "5/5 [==============================] - 0s 10ms/step - loss: 7903.4053 - mean_squared_error: 7903.4053 - mean_absolute_error: 36.4776 - val_loss: 7622.5093 - val_mean_squared_error: 7622.5093 - val_mean_absolute_error: 35.9936\n",
      "Epoch 121/1000\n",
      "5/5 [==============================] - 0s 10ms/step - loss: 7546.0046 - mean_squared_error: 7546.0046 - mean_absolute_error: 35.4304 - val_loss: 7611.3848 - val_mean_squared_error: 7611.3848 - val_mean_absolute_error: 35.9823\n",
      "Epoch 122/1000\n",
      "5/5 [==============================] - 0s 10ms/step - loss: 7397.4456 - mean_squared_error: 7397.4456 - mean_absolute_error: 35.4513 - val_loss: 7600.1958 - val_mean_squared_error: 7600.1958 - val_mean_absolute_error: 35.9708\n",
      "Epoch 123/1000\n",
      "5/5 [==============================] - 0s 9ms/step - loss: 7588.5651 - mean_squared_error: 7588.5651 - mean_absolute_error: 35.7145 - val_loss: 7588.9658 - val_mean_squared_error: 7588.9658 - val_mean_absolute_error: 35.9594\n",
      "Epoch 124/1000\n",
      "5/5 [==============================] - 0s 10ms/step - loss: 7727.9670 - mean_squared_error: 7727.9670 - mean_absolute_error: 36.0379 - val_loss: 7577.5928 - val_mean_squared_error: 7577.5928 - val_mean_absolute_error: 35.9476\n",
      "Epoch 125/1000\n",
      "5/5 [==============================] - 0s 10ms/step - loss: 7181.3240 - mean_squared_error: 7181.3240 - mean_absolute_error: 34.5878 - val_loss: 7566.3428 - val_mean_squared_error: 7566.3428 - val_mean_absolute_error: 35.9361\n",
      "Epoch 126/1000\n",
      "5/5 [==============================] - 0s 10ms/step - loss: 7183.1951 - mean_squared_error: 7183.1951 - mean_absolute_error: 34.7808 - val_loss: 7554.8745 - val_mean_squared_error: 7554.8745 - val_mean_absolute_error: 35.9242\n",
      "Epoch 127/1000\n",
      "5/5 [==============================] - 0s 10ms/step - loss: 7293.6976 - mean_squared_error: 7293.6976 - mean_absolute_error: 34.9513 - val_loss: 7543.6812 - val_mean_squared_error: 7543.6812 - val_mean_absolute_error: 35.9128\n",
      "Epoch 128/1000\n",
      "5/5 [==============================] - 0s 10ms/step - loss: 7314.6056 - mean_squared_error: 7314.6056 - mean_absolute_error: 35.1322 - val_loss: 7532.1616 - val_mean_squared_error: 7532.1616 - val_mean_absolute_error: 35.9008\n",
      "Epoch 129/1000\n",
      "5/5 [==============================] - 0s 10ms/step - loss: 7222.8428 - mean_squared_error: 7222.8428 - mean_absolute_error: 34.6123 - val_loss: 7520.6479 - val_mean_squared_error: 7520.6479 - val_mean_absolute_error: 35.8889\n",
      "Epoch 130/1000\n",
      "5/5 [==============================] - 0s 10ms/step - loss: 7256.8255 - mean_squared_error: 7256.8255 - mean_absolute_error: 34.6767 - val_loss: 7509.0522 - val_mean_squared_error: 7509.0522 - val_mean_absolute_error: 35.8768\n",
      "Epoch 131/1000\n",
      "5/5 [==============================] - 0s 9ms/step - loss: 7171.4445 - mean_squared_error: 7171.4445 - mean_absolute_error: 34.4510 - val_loss: 7497.2964 - val_mean_squared_error: 7497.2964 - val_mean_absolute_error: 35.8644\n",
      "Epoch 132/1000\n",
      "5/5 [==============================] - 0s 10ms/step - loss: 6936.4366 - mean_squared_error: 6936.4366 - mean_absolute_error: 33.8382 - val_loss: 7485.5703 - val_mean_squared_error: 7485.5703 - val_mean_absolute_error: 35.8520\n",
      "Epoch 133/1000\n",
      "5/5 [==============================] - 0s 9ms/step - loss: 7962.4357 - mean_squared_error: 7962.4357 - mean_absolute_error: 36.6879 - val_loss: 7473.6968 - val_mean_squared_error: 7473.6968 - val_mean_absolute_error: 35.8395\n",
      "Epoch 134/1000\n",
      "5/5 [==============================] - 0s 9ms/step - loss: 7401.0046 - mean_squared_error: 7401.0046 - mean_absolute_error: 35.5134 - val_loss: 7461.9795 - val_mean_squared_error: 7461.9795 - val_mean_absolute_error: 35.8271\n",
      "Epoch 135/1000\n",
      "5/5 [==============================] - 0s 10ms/step - loss: 7452.2594 - mean_squared_error: 7452.2594 - mean_absolute_error: 35.1997 - val_loss: 7450.1890 - val_mean_squared_error: 7450.1890 - val_mean_absolute_error: 35.8146\n",
      "Epoch 136/1000\n",
      "5/5 [==============================] - 0s 10ms/step - loss: 7311.3567 - mean_squared_error: 7311.3567 - mean_absolute_error: 35.4311 - val_loss: 7438.4331 - val_mean_squared_error: 7438.4331 - val_mean_absolute_error: 35.8022\n",
      "Epoch 137/1000\n"
     ]
    },
    {
     "name": "stdout",
     "output_type": "stream",
     "text": [
      "5/5 [==============================] - 0s 10ms/step - loss: 7301.8306 - mean_squared_error: 7301.8306 - mean_absolute_error: 35.1618 - val_loss: 7426.5566 - val_mean_squared_error: 7426.5566 - val_mean_absolute_error: 35.7895\n",
      "Epoch 138/1000\n",
      "5/5 [==============================] - 0s 10ms/step - loss: 7555.6922 - mean_squared_error: 7555.6922 - mean_absolute_error: 35.8635 - val_loss: 7414.6733 - val_mean_squared_error: 7414.6733 - val_mean_absolute_error: 35.7768\n",
      "Epoch 139/1000\n",
      "5/5 [==============================] - 0s 10ms/step - loss: 6898.5182 - mean_squared_error: 6898.5182 - mean_absolute_error: 33.8879 - val_loss: 7402.8267 - val_mean_squared_error: 7402.8267 - val_mean_absolute_error: 35.7640\n",
      "Epoch 140/1000\n",
      "5/5 [==============================] - 0s 9ms/step - loss: 7298.7306 - mean_squared_error: 7298.7306 - mean_absolute_error: 34.9948 - val_loss: 7390.8306 - val_mean_squared_error: 7390.8306 - val_mean_absolute_error: 35.7512\n",
      "Epoch 141/1000\n",
      "5/5 [==============================] - 0s 9ms/step - loss: 7441.8991 - mean_squared_error: 7441.8991 - mean_absolute_error: 35.8848 - val_loss: 7378.9380 - val_mean_squared_error: 7378.9380 - val_mean_absolute_error: 35.7385\n",
      "Epoch 142/1000\n",
      "5/5 [==============================] - 0s 9ms/step - loss: 6805.6761 - mean_squared_error: 6805.6761 - mean_absolute_error: 33.8547 - val_loss: 7366.9399 - val_mean_squared_error: 7366.9399 - val_mean_absolute_error: 35.7255\n",
      "Epoch 143/1000\n",
      "5/5 [==============================] - 0s 10ms/step - loss: 7353.3890 - mean_squared_error: 7353.3890 - mean_absolute_error: 35.4418 - val_loss: 7354.7734 - val_mean_squared_error: 7354.7734 - val_mean_absolute_error: 35.7123\n",
      "Epoch 144/1000\n",
      "5/5 [==============================] - 0s 10ms/step - loss: 7150.4591 - mean_squared_error: 7150.4591 - mean_absolute_error: 34.9227 - val_loss: 7342.5020 - val_mean_squared_error: 7342.5020 - val_mean_absolute_error: 35.6989\n",
      "Epoch 145/1000\n",
      "5/5 [==============================] - 0s 10ms/step - loss: 7053.2982 - mean_squared_error: 7053.2982 - mean_absolute_error: 34.5838 - val_loss: 7330.4624 - val_mean_squared_error: 7330.4624 - val_mean_absolute_error: 35.6858\n",
      "Epoch 146/1000\n",
      "5/5 [==============================] - 0s 11ms/step - loss: 6994.7360 - mean_squared_error: 6994.7360 - mean_absolute_error: 34.6468 - val_loss: 7318.0986 - val_mean_squared_error: 7318.0986 - val_mean_absolute_error: 35.6722\n",
      "Epoch 147/1000\n",
      "5/5 [==============================] - 0s 10ms/step - loss: 7326.9794 - mean_squared_error: 7326.9794 - mean_absolute_error: 35.7132 - val_loss: 7305.7534 - val_mean_squared_error: 7305.7534 - val_mean_absolute_error: 35.6586\n",
      "Epoch 148/1000\n",
      "5/5 [==============================] - 0s 10ms/step - loss: 7033.3233 - mean_squared_error: 7033.3233 - mean_absolute_error: 34.7673 - val_loss: 7293.3755 - val_mean_squared_error: 7293.3755 - val_mean_absolute_error: 35.6449\n",
      "Epoch 149/1000\n",
      "5/5 [==============================] - 0s 10ms/step - loss: 6939.0220 - mean_squared_error: 6939.0220 - mean_absolute_error: 34.3128 - val_loss: 7281.1719 - val_mean_squared_error: 7281.1719 - val_mean_absolute_error: 35.6315\n",
      "Epoch 150/1000\n",
      "5/5 [==============================] - 0s 9ms/step - loss: 7044.4342 - mean_squared_error: 7044.4342 - mean_absolute_error: 34.6091 - val_loss: 7268.7612 - val_mean_squared_error: 7268.7612 - val_mean_absolute_error: 35.6178\n",
      "Epoch 151/1000\n",
      "5/5 [==============================] - 0s 9ms/step - loss: 7321.3234 - mean_squared_error: 7321.3234 - mean_absolute_error: 35.4568 - val_loss: 7256.2544 - val_mean_squared_error: 7256.2544 - val_mean_absolute_error: 35.6038\n",
      "Epoch 152/1000\n",
      "5/5 [==============================] - 0s 10ms/step - loss: 7074.4074 - mean_squared_error: 7074.4074 - mean_absolute_error: 34.6989 - val_loss: 7244.0464 - val_mean_squared_error: 7244.0464 - val_mean_absolute_error: 35.5904\n",
      "Epoch 153/1000\n",
      "5/5 [==============================] - 0s 10ms/step - loss: 7546.1297 - mean_squared_error: 7546.1297 - mean_absolute_error: 36.4373 - val_loss: 7231.5679 - val_mean_squared_error: 7231.5679 - val_mean_absolute_error: 35.5765\n",
      "Epoch 154/1000\n",
      "5/5 [==============================] - 0s 11ms/step - loss: 6891.7983 - mean_squared_error: 6891.7983 - mean_absolute_error: 34.3981 - val_loss: 7219.0127 - val_mean_squared_error: 7219.0127 - val_mean_absolute_error: 35.5622\n",
      "Epoch 155/1000\n",
      "5/5 [==============================] - 0s 10ms/step - loss: 7208.4960 - mean_squared_error: 7208.4960 - mean_absolute_error: 35.3144 - val_loss: 7206.7148 - val_mean_squared_error: 7206.7148 - val_mean_absolute_error: 35.5486\n",
      "Epoch 156/1000\n",
      "5/5 [==============================] - 0s 10ms/step - loss: 6844.9654 - mean_squared_error: 6844.9654 - mean_absolute_error: 33.7763 - val_loss: 7194.2129 - val_mean_squared_error: 7194.2129 - val_mean_absolute_error: 35.5344\n",
      "Epoch 157/1000\n",
      "5/5 [==============================] - 0s 10ms/step - loss: 6567.4589 - mean_squared_error: 6567.4589 - mean_absolute_error: 33.3887 - val_loss: 7181.8589 - val_mean_squared_error: 7181.8589 - val_mean_absolute_error: 35.5206\n",
      "Epoch 158/1000\n",
      "5/5 [==============================] - 0s 10ms/step - loss: 7163.0279 - mean_squared_error: 7163.0279 - mean_absolute_error: 35.1710 - val_loss: 7169.0601 - val_mean_squared_error: 7169.0601 - val_mean_absolute_error: 35.5058\n",
      "Epoch 159/1000\n",
      "5/5 [==============================] - 0s 9ms/step - loss: 6700.6263 - mean_squared_error: 6700.6263 - mean_absolute_error: 33.7102 - val_loss: 7156.4302 - val_mean_squared_error: 7156.4302 - val_mean_absolute_error: 35.4914\n",
      "Epoch 160/1000\n",
      "5/5 [==============================] - 0s 9ms/step - loss: 7067.9577 - mean_squared_error: 7067.9577 - mean_absolute_error: 35.1466 - val_loss: 7143.8652 - val_mean_squared_error: 7143.8652 - val_mean_absolute_error: 35.4772\n",
      "Epoch 161/1000\n",
      "5/5 [==============================] - 0s 9ms/step - loss: 6878.4063 - mean_squared_error: 6878.4063 - mean_absolute_error: 34.5472 - val_loss: 7131.0859 - val_mean_squared_error: 7131.0859 - val_mean_absolute_error: 35.4624\n",
      "Epoch 162/1000\n",
      "5/5 [==============================] - 0s 10ms/step - loss: 6801.9532 - mean_squared_error: 6801.9532 - mean_absolute_error: 34.2840 - val_loss: 7118.5444 - val_mean_squared_error: 7118.5444 - val_mean_absolute_error: 35.4481\n",
      "Epoch 163/1000\n",
      "5/5 [==============================] - 0s 9ms/step - loss: 6572.0971 - mean_squared_error: 6572.0971 - mean_absolute_error: 33.8849 - val_loss: 7105.7427 - val_mean_squared_error: 7105.7427 - val_mean_absolute_error: 35.4333\n",
      "Epoch 164/1000\n",
      "5/5 [==============================] - 0s 9ms/step - loss: 7245.4390 - mean_squared_error: 7245.4390 - mean_absolute_error: 35.3663 - val_loss: 7093.1001 - val_mean_squared_error: 7093.1001 - val_mean_absolute_error: 35.4188\n",
      "Epoch 165/1000\n",
      "5/5 [==============================] - 0s 10ms/step - loss: 6953.7142 - mean_squared_error: 6953.7142 - mean_absolute_error: 35.0059 - val_loss: 7080.3589 - val_mean_squared_error: 7080.3589 - val_mean_absolute_error: 35.4041\n",
      "Epoch 166/1000\n",
      "5/5 [==============================] - 0s 10ms/step - loss: 6740.4014 - mean_squared_error: 6740.4014 - mean_absolute_error: 33.8330 - val_loss: 7067.5557 - val_mean_squared_error: 7067.5557 - val_mean_absolute_error: 35.3891\n",
      "Epoch 167/1000\n",
      "5/5 [==============================] - 0s 10ms/step - loss: 6997.3163 - mean_squared_error: 6997.3163 - mean_absolute_error: 34.8974 - val_loss: 7054.9287 - val_mean_squared_error: 7054.9287 - val_mean_absolute_error: 35.3745\n",
      "Epoch 168/1000\n",
      "5/5 [==============================] - 0s 10ms/step - loss: 6626.6794 - mean_squared_error: 6626.6794 - mean_absolute_error: 34.2834 - val_loss: 7041.9741 - val_mean_squared_error: 7041.9741 - val_mean_absolute_error: 35.3592\n",
      "Epoch 169/1000\n",
      "5/5 [==============================] - 0s 9ms/step - loss: 6496.4578 - mean_squared_error: 6496.4578 - mean_absolute_error: 33.6623 - val_loss: 7029.3984 - val_mean_squared_error: 7029.3984 - val_mean_absolute_error: 35.3447\n",
      "Epoch 170/1000\n",
      "5/5 [==============================] - 0s 10ms/step - loss: 6749.1399 - mean_squared_error: 6749.1399 - mean_absolute_error: 34.4883 - val_loss: 7016.3472 - val_mean_squared_error: 7016.3472 - val_mean_absolute_error: 35.3292\n",
      "Epoch 171/1000\n",
      "5/5 [==============================] - 0s 9ms/step - loss: 6915.0111 - mean_squared_error: 6915.0111 - mean_absolute_error: 34.8259 - val_loss: 7003.6924 - val_mean_squared_error: 7003.6924 - val_mean_absolute_error: 35.3144\n",
      "Epoch 172/1000\n",
      "5/5 [==============================] - 0s 9ms/step - loss: 6674.1607 - mean_squared_error: 6674.1607 - mean_absolute_error: 34.2094 - val_loss: 6990.5918 - val_mean_squared_error: 6990.5918 - val_mean_absolute_error: 35.2987\n",
      "Epoch 173/1000\n",
      "5/5 [==============================] - 0s 9ms/step - loss: 7055.0326 - mean_squared_error: 7055.0320 - mean_absolute_error: 35.0578 - val_loss: 6977.8711 - val_mean_squared_error: 6977.8711 - val_mean_absolute_error: 35.2838\n",
      "Epoch 174/1000\n",
      "5/5 [==============================] - 0s 10ms/step - loss: 7025.2083 - mean_squared_error: 7025.2083 - mean_absolute_error: 35.3238 - val_loss: 6964.6616 - val_mean_squared_error: 6964.6616 - val_mean_absolute_error: 35.2681\n",
      "Epoch 175/1000\n",
      "5/5 [==============================] - 0s 10ms/step - loss: 6786.7771 - mean_squared_error: 6786.7771 - mean_absolute_error: 34.4882 - val_loss: 6951.9683 - val_mean_squared_error: 6951.9683 - val_mean_absolute_error: 35.2536\n",
      "Epoch 176/1000\n",
      "5/5 [==============================] - 0s 10ms/step - loss: 6761.3957 - mean_squared_error: 6761.3957 - mean_absolute_error: 34.8694 - val_loss: 6939.0259 - val_mean_squared_error: 6939.0259 - val_mean_absolute_error: 35.2387\n",
      "Epoch 177/1000\n",
      "5/5 [==============================] - 0s 9ms/step - loss: 6372.5367 - mean_squared_error: 6372.5367 - mean_absolute_error: 33.0281 - val_loss: 6926.1162 - val_mean_squared_error: 6926.1162 - val_mean_absolute_error: 35.2237\n",
      "Epoch 178/1000\n",
      "5/5 [==============================] - 0s 10ms/step - loss: 6709.9067 - mean_squared_error: 6709.9067 - mean_absolute_error: 34.4731 - val_loss: 6913.2549 - val_mean_squared_error: 6913.2549 - val_mean_absolute_error: 35.2089\n",
      "Epoch 179/1000\n",
      "5/5 [==============================] - 0s 10ms/step - loss: 6822.2870 - mean_squared_error: 6822.2870 - mean_absolute_error: 35.0897 - val_loss: 6899.9424 - val_mean_squared_error: 6899.9424 - val_mean_absolute_error: 35.1931\n",
      "Epoch 180/1000\n",
      "5/5 [==============================] - 0s 9ms/step - loss: 6797.5889 - mean_squared_error: 6797.5889 - mean_absolute_error: 34.7693 - val_loss: 6887.1768 - val_mean_squared_error: 6887.1768 - val_mean_absolute_error: 35.1784\n",
      "Epoch 181/1000\n",
      "5/5 [==============================] - 0s 10ms/step - loss: 6711.9062 - mean_squared_error: 6711.9062 - mean_absolute_error: 34.5364 - val_loss: 6874.3086 - val_mean_squared_error: 6874.3086 - val_mean_absolute_error: 35.1635\n",
      "Epoch 182/1000\n",
      "5/5 [==============================] - 0s 10ms/step - loss: 6489.6616 - mean_squared_error: 6489.6616 - mean_absolute_error: 34.0071 - val_loss: 6861.0669 - val_mean_squared_error: 6861.0669 - val_mean_absolute_error: 35.1479\n",
      "Epoch 183/1000\n",
      "5/5 [==============================] - 0s 9ms/step - loss: 6895.2746 - mean_squared_error: 6895.2746 - mean_absolute_error: 34.9651 - val_loss: 6847.9609 - val_mean_squared_error: 6847.9609 - val_mean_absolute_error: 35.1328\n",
      "Epoch 184/1000\n",
      "5/5 [==============================] - 0s 9ms/step - loss: 6703.7489 - mean_squared_error: 6703.7489 - mean_absolute_error: 34.2103 - val_loss: 6834.9116 - val_mean_squared_error: 6834.9116 - val_mean_absolute_error: 35.1175\n",
      "Epoch 185/1000\n",
      "5/5 [==============================] - 0s 10ms/step - loss: 6582.3375 - mean_squared_error: 6582.3375 - mean_absolute_error: 34.7901 - val_loss: 6822.0967 - val_mean_squared_error: 6822.0967 - val_mean_absolute_error: 35.1028\n",
      "Epoch 186/1000\n",
      "5/5 [==============================] - 0s 10ms/step - loss: 6641.6624 - mean_squared_error: 6641.6624 - mean_absolute_error: 34.5286 - val_loss: 6808.9341 - val_mean_squared_error: 6808.9341 - val_mean_absolute_error: 35.0873\n",
      "Epoch 187/1000\n",
      "5/5 [==============================] - 0s 9ms/step - loss: 6484.8606 - mean_squared_error: 6484.8606 - mean_absolute_error: 33.7739 - val_loss: 6795.7681 - val_mean_squared_error: 6795.7681 - val_mean_absolute_error: 35.0718\n",
      "Epoch 188/1000\n",
      "5/5 [==============================] - 0s 10ms/step - loss: 6367.1624 - mean_squared_error: 6367.1624 - mean_absolute_error: 33.4940 - val_loss: 6782.8750 - val_mean_squared_error: 6782.8750 - val_mean_absolute_error: 35.0571\n",
      "Epoch 189/1000\n",
      "5/5 [==============================] - 0s 9ms/step - loss: 6639.6297 - mean_squared_error: 6639.6297 - mean_absolute_error: 34.0791 - val_loss: 6769.7935 - val_mean_squared_error: 6769.7935 - val_mean_absolute_error: 35.0418\n",
      "Epoch 190/1000\n",
      "5/5 [==============================] - 0s 9ms/step - loss: 6435.1104 - mean_squared_error: 6435.1104 - mean_absolute_error: 34.2578 - val_loss: 6756.6108 - val_mean_squared_error: 6756.6108 - val_mean_absolute_error: 35.0265\n",
      "Epoch 191/1000\n",
      "5/5 [==============================] - 0s 10ms/step - loss: 6547.3839 - mean_squared_error: 6547.3839 - mean_absolute_error: 34.2923 - val_loss: 6743.4248 - val_mean_squared_error: 6743.4248 - val_mean_absolute_error: 35.0110\n",
      "Epoch 192/1000\n",
      "5/5 [==============================] - 0s 9ms/step - loss: 6696.3653 - mean_squared_error: 6696.3653 - mean_absolute_error: 34.7232 - val_loss: 6730.2373 - val_mean_squared_error: 6730.2373 - val_mean_absolute_error: 34.9959\n",
      "Epoch 193/1000\n",
      "5/5 [==============================] - 0s 9ms/step - loss: 6633.4864 - mean_squared_error: 6633.4864 - mean_absolute_error: 34.1984 - val_loss: 6716.9707 - val_mean_squared_error: 6716.9707 - val_mean_absolute_error: 34.9802\n",
      "Epoch 194/1000\n",
      "5/5 [==============================] - 0s 9ms/step - loss: 6695.2571 - mean_squared_error: 6695.2571 - mean_absolute_error: 34.8475 - val_loss: 6703.7939 - val_mean_squared_error: 6703.7939 - val_mean_absolute_error: 34.9650\n",
      "Epoch 195/1000\n",
      "5/5 [==============================] - 0s 9ms/step - loss: 6763.0472 - mean_squared_error: 6763.0472 - mean_absolute_error: 35.1360 - val_loss: 6690.7290 - val_mean_squared_error: 6690.7290 - val_mean_absolute_error: 34.9500\n",
      "Epoch 196/1000\n",
      "5/5 [==============================] - 0s 9ms/step - loss: 6423.0688 - mean_squared_error: 6423.0688 - mean_absolute_error: 33.8259 - val_loss: 6677.5273 - val_mean_squared_error: 6677.5273 - val_mean_absolute_error: 34.9344\n",
      "Epoch 197/1000\n",
      "5/5 [==============================] - 0s 10ms/step - loss: 6451.0477 - mean_squared_error: 6451.0477 - mean_absolute_error: 34.0410 - val_loss: 6664.4409 - val_mean_squared_error: 6664.4409 - val_mean_absolute_error: 34.9191\n",
      "Epoch 198/1000\n",
      "5/5 [==============================] - 0s 10ms/step - loss: 6454.2287 - mean_squared_error: 6454.2287 - mean_absolute_error: 34.1830 - val_loss: 6651.3862 - val_mean_squared_error: 6651.3862 - val_mean_absolute_error: 34.9037\n",
      "Epoch 199/1000\n",
      "5/5 [==============================] - 0s 9ms/step - loss: 6579.4452 - mean_squared_error: 6579.4452 - mean_absolute_error: 34.3837 - val_loss: 6638.3330 - val_mean_squared_error: 6638.3330 - val_mean_absolute_error: 34.8884\n",
      "Epoch 200/1000\n",
      "5/5 [==============================] - 0s 10ms/step - loss: 6230.9200 - mean_squared_error: 6230.9200 - mean_absolute_error: 33.3886 - val_loss: 6625.0552 - val_mean_squared_error: 6625.0552 - val_mean_absolute_error: 34.8727\n",
      "Epoch 201/1000\n",
      "5/5 [==============================] - 0s 10ms/step - loss: 6300.3316 - mean_squared_error: 6300.3316 - mean_absolute_error: 33.5115 - val_loss: 6612.0610 - val_mean_squared_error: 6612.0610 - val_mean_absolute_error: 34.8578\n",
      "Epoch 202/1000\n",
      "5/5 [==============================] - 0s 9ms/step - loss: 6157.5634 - mean_squared_error: 6157.5634 - mean_absolute_error: 33.2796 - val_loss: 6599.0474 - val_mean_squared_error: 6599.0474 - val_mean_absolute_error: 34.8425\n",
      "Epoch 203/1000\n",
      "5/5 [==============================] - 0s 9ms/step - loss: 6514.1843 - mean_squared_error: 6514.1843 - mean_absolute_error: 34.1653 - val_loss: 6585.8843 - val_mean_squared_error: 6585.8843 - val_mean_absolute_error: 34.8275\n",
      "Epoch 204/1000\n",
      "5/5 [==============================] - 0s 10ms/step - loss: 6468.0809 - mean_squared_error: 6468.0809 - mean_absolute_error: 34.3221 - val_loss: 6572.7158 - val_mean_squared_error: 6572.7158 - val_mean_absolute_error: 34.8125\n",
      "Epoch 205/1000\n"
     ]
    },
    {
     "name": "stdout",
     "output_type": "stream",
     "text": [
      "5/5 [==============================] - 0s 10ms/step - loss: 6507.2743 - mean_squared_error: 6507.2743 - mean_absolute_error: 34.5826 - val_loss: 6559.4614 - val_mean_squared_error: 6559.4614 - val_mean_absolute_error: 34.7971\n",
      "Epoch 206/1000\n",
      "5/5 [==============================] - 0s 9ms/step - loss: 6310.2949 - mean_squared_error: 6310.2949 - mean_absolute_error: 33.9642 - val_loss: 6546.4434 - val_mean_squared_error: 6546.4434 - val_mean_absolute_error: 34.7821\n",
      "Epoch 207/1000\n",
      "5/5 [==============================] - 0s 9ms/step - loss: 6570.4948 - mean_squared_error: 6570.4948 - mean_absolute_error: 34.4948 - val_loss: 6533.2520 - val_mean_squared_error: 6533.2520 - val_mean_absolute_error: 34.7670\n",
      "Epoch 208/1000\n",
      "5/5 [==============================] - 0s 10ms/step - loss: 6274.7477 - mean_squared_error: 6274.7477 - mean_absolute_error: 33.6388 - val_loss: 6520.2876 - val_mean_squared_error: 6520.2876 - val_mean_absolute_error: 34.7524\n",
      "Epoch 209/1000\n",
      "5/5 [==============================] - 0s 9ms/step - loss: 6518.4350 - mean_squared_error: 6518.4350 - mean_absolute_error: 34.3026 - val_loss: 6507.1743 - val_mean_squared_error: 6507.1743 - val_mean_absolute_error: 34.7376\n",
      "Epoch 210/1000\n",
      "5/5 [==============================] - 0s 10ms/step - loss: 6339.7851 - mean_squared_error: 6339.7851 - mean_absolute_error: 34.1449 - val_loss: 6494.0596 - val_mean_squared_error: 6494.0596 - val_mean_absolute_error: 34.7229\n",
      "Epoch 211/1000\n",
      "5/5 [==============================] - 0s 9ms/step - loss: 5904.1227 - mean_squared_error: 5904.1227 - mean_absolute_error: 32.6595 - val_loss: 6481.0283 - val_mean_squared_error: 6481.0283 - val_mean_absolute_error: 34.7083\n",
      "Epoch 212/1000\n",
      "5/5 [==============================] - 0s 10ms/step - loss: 6430.5560 - mean_squared_error: 6430.5560 - mean_absolute_error: 34.2197 - val_loss: 6467.6641 - val_mean_squared_error: 6467.6641 - val_mean_absolute_error: 34.6934\n",
      "Epoch 213/1000\n",
      "5/5 [==============================] - 0s 9ms/step - loss: 6126.1666 - mean_squared_error: 6126.1666 - mean_absolute_error: 33.7816 - val_loss: 6454.3755 - val_mean_squared_error: 6454.3755 - val_mean_absolute_error: 34.6786\n",
      "Epoch 214/1000\n",
      "5/5 [==============================] - 0s 9ms/step - loss: 6216.9213 - mean_squared_error: 6216.9213 - mean_absolute_error: 34.1246 - val_loss: 6441.2256 - val_mean_squared_error: 6441.2256 - val_mean_absolute_error: 34.6641\n",
      "Epoch 215/1000\n",
      "5/5 [==============================] - 0s 9ms/step - loss: 5937.7792 - mean_squared_error: 5937.7792 - mean_absolute_error: 33.2625 - val_loss: 6428.2222 - val_mean_squared_error: 6428.2222 - val_mean_absolute_error: 34.6498\n",
      "Epoch 216/1000\n",
      "5/5 [==============================] - 0s 9ms/step - loss: 6385.1595 - mean_squared_error: 6385.1595 - mean_absolute_error: 34.3183 - val_loss: 6415.0483 - val_mean_squared_error: 6415.0483 - val_mean_absolute_error: 34.6352\n",
      "Epoch 217/1000\n",
      "5/5 [==============================] - 0s 9ms/step - loss: 5965.0510 - mean_squared_error: 5965.0510 - mean_absolute_error: 33.2903 - val_loss: 6402.0435 - val_mean_squared_error: 6402.0435 - val_mean_absolute_error: 34.6210\n",
      "Epoch 218/1000\n",
      "5/5 [==============================] - 0s 10ms/step - loss: 6063.7207 - mean_squared_error: 6063.7207 - mean_absolute_error: 33.6136 - val_loss: 6388.9658 - val_mean_squared_error: 6388.9653 - val_mean_absolute_error: 34.6068\n",
      "Epoch 219/1000\n",
      "5/5 [==============================] - 0s 10ms/step - loss: 5922.0911 - mean_squared_error: 5922.0911 - mean_absolute_error: 33.0264 - val_loss: 6375.6406 - val_mean_squared_error: 6375.6406 - val_mean_absolute_error: 34.5920\n",
      "Epoch 220/1000\n",
      "5/5 [==============================] - 0s 10ms/step - loss: 6283.0493 - mean_squared_error: 6283.0493 - mean_absolute_error: 33.6419 - val_loss: 6362.4946 - val_mean_squared_error: 6362.4946 - val_mean_absolute_error: 34.5775\n",
      "Epoch 221/1000\n",
      "5/5 [==============================] - 0s 10ms/step - loss: 6297.7131 - mean_squared_error: 6297.7131 - mean_absolute_error: 34.3180 - val_loss: 6349.5444 - val_mean_squared_error: 6349.5444 - val_mean_absolute_error: 34.5637\n",
      "Epoch 222/1000\n",
      "5/5 [==============================] - 0s 10ms/step - loss: 5877.1096 - mean_squared_error: 5877.1096 - mean_absolute_error: 33.0957 - val_loss: 6336.6445 - val_mean_squared_error: 6336.6445 - val_mean_absolute_error: 34.5500\n",
      "Epoch 223/1000\n",
      "5/5 [==============================] - 0s 10ms/step - loss: 6417.3875 - mean_squared_error: 6417.3875 - mean_absolute_error: 34.8892 - val_loss: 6323.5459 - val_mean_squared_error: 6323.5459 - val_mean_absolute_error: 34.5362\n",
      "Epoch 224/1000\n",
      "5/5 [==============================] - 0s 9ms/step - loss: 6081.5498 - mean_squared_error: 6081.5498 - mean_absolute_error: 33.7437 - val_loss: 6310.5249 - val_mean_squared_error: 6310.5249 - val_mean_absolute_error: 34.5230\n",
      "Epoch 225/1000\n",
      "5/5 [==============================] - 0s 9ms/step - loss: 5877.9324 - mean_squared_error: 5877.9324 - mean_absolute_error: 32.8599 - val_loss: 6297.4434 - val_mean_squared_error: 6297.4434 - val_mean_absolute_error: 34.5096\n",
      "Epoch 226/1000\n",
      "5/5 [==============================] - 0s 9ms/step - loss: 6379.6283 - mean_squared_error: 6379.6283 - mean_absolute_error: 34.8013 - val_loss: 6284.3374 - val_mean_squared_error: 6284.3374 - val_mean_absolute_error: 34.4962\n",
      "Epoch 227/1000\n",
      "5/5 [==============================] - 0s 10ms/step - loss: 6185.1188 - mean_squared_error: 6185.1188 - mean_absolute_error: 34.0605 - val_loss: 6271.2803 - val_mean_squared_error: 6271.2803 - val_mean_absolute_error: 34.4827\n",
      "Epoch 228/1000\n",
      "5/5 [==============================] - 0s 11ms/step - loss: 5962.4544 - mean_squared_error: 5962.4544 - mean_absolute_error: 33.2261 - val_loss: 6258.4644 - val_mean_squared_error: 6258.4644 - val_mean_absolute_error: 34.4697\n",
      "Epoch 229/1000\n",
      "5/5 [==============================] - 0s 10ms/step - loss: 6048.4823 - mean_squared_error: 6048.4823 - mean_absolute_error: 33.3459 - val_loss: 6245.3242 - val_mean_squared_error: 6245.3242 - val_mean_absolute_error: 34.4558\n",
      "Epoch 230/1000\n",
      "5/5 [==============================] - 0s 11ms/step - loss: 5813.3523 - mean_squared_error: 5813.3523 - mean_absolute_error: 32.7550 - val_loss: 6232.4365 - val_mean_squared_error: 6232.4365 - val_mean_absolute_error: 34.4424\n",
      "Epoch 231/1000\n",
      "5/5 [==============================] - 0s 10ms/step - loss: 5764.0868 - mean_squared_error: 5764.0868 - mean_absolute_error: 32.8278 - val_loss: 6219.6172 - val_mean_squared_error: 6219.6172 - val_mean_absolute_error: 34.4292\n",
      "Epoch 232/1000\n",
      "5/5 [==============================] - 0s 9ms/step - loss: 5808.3523 - mean_squared_error: 5808.3523 - mean_absolute_error: 32.8581 - val_loss: 6206.6055 - val_mean_squared_error: 6206.6055 - val_mean_absolute_error: 34.4153\n",
      "Epoch 233/1000\n",
      "5/5 [==============================] - 0s 9ms/step - loss: 6331.2214 - mean_squared_error: 6331.2214 - mean_absolute_error: 34.6262 - val_loss: 6193.5063 - val_mean_squared_error: 6193.5063 - val_mean_absolute_error: 34.4016\n",
      "Epoch 234/1000\n",
      "5/5 [==============================] - 0s 10ms/step - loss: 5974.0359 - mean_squared_error: 5974.0359 - mean_absolute_error: 33.7950 - val_loss: 6180.5093 - val_mean_squared_error: 6180.5093 - val_mean_absolute_error: 34.3881\n",
      "Epoch 235/1000\n",
      "5/5 [==============================] - 0s 10ms/step - loss: 6149.1766 - mean_squared_error: 6149.1766 - mean_absolute_error: 33.8014 - val_loss: 6167.8203 - val_mean_squared_error: 6167.8203 - val_mean_absolute_error: 34.3752\n",
      "Epoch 236/1000\n",
      "5/5 [==============================] - 0s 9ms/step - loss: 5980.4411 - mean_squared_error: 5980.4411 - mean_absolute_error: 33.4481 - val_loss: 6154.7119 - val_mean_squared_error: 6154.7119 - val_mean_absolute_error: 34.3620\n",
      "Epoch 237/1000\n",
      "5/5 [==============================] - 0s 10ms/step - loss: 5618.1705 - mean_squared_error: 5618.1705 - mean_absolute_error: 32.5118 - val_loss: 6142.1099 - val_mean_squared_error: 6142.1099 - val_mean_absolute_error: 34.3495\n",
      "Epoch 238/1000\n",
      "5/5 [==============================] - 0s 9ms/step - loss: 5679.3866 - mean_squared_error: 5679.3866 - mean_absolute_error: 32.7967 - val_loss: 6129.3555 - val_mean_squared_error: 6129.3555 - val_mean_absolute_error: 34.3368\n",
      "Epoch 239/1000\n",
      "5/5 [==============================] - 0s 10ms/step - loss: 5962.5324 - mean_squared_error: 5962.5324 - mean_absolute_error: 33.6067 - val_loss: 6116.5684 - val_mean_squared_error: 6116.5684 - val_mean_absolute_error: 34.3242\n",
      "Epoch 240/1000\n",
      "5/5 [==============================] - 0s 10ms/step - loss: 5641.5836 - mean_squared_error: 5641.5836 - mean_absolute_error: 32.6014 - val_loss: 6103.9878 - val_mean_squared_error: 6103.9878 - val_mean_absolute_error: 34.3118\n",
      "Epoch 241/1000\n",
      "5/5 [==============================] - 0s 10ms/step - loss: 5971.8649 - mean_squared_error: 5971.8649 - mean_absolute_error: 33.7430 - val_loss: 6091.2954 - val_mean_squared_error: 6091.2954 - val_mean_absolute_error: 34.2995\n",
      "Epoch 242/1000\n",
      "5/5 [==============================] - 0s 10ms/step - loss: 5832.6479 - mean_squared_error: 5832.6479 - mean_absolute_error: 33.6282 - val_loss: 6078.1787 - val_mean_squared_error: 6078.1787 - val_mean_absolute_error: 34.2866\n",
      "Epoch 243/1000\n",
      "5/5 [==============================] - 0s 9ms/step - loss: 5694.6820 - mean_squared_error: 5694.6820 - mean_absolute_error: 32.8329 - val_loss: 6065.5786 - val_mean_squared_error: 6065.5786 - val_mean_absolute_error: 34.2745\n",
      "Epoch 244/1000\n",
      "5/5 [==============================] - 0s 9ms/step - loss: 5932.9235 - mean_squared_error: 5932.9235 - mean_absolute_error: 33.7338 - val_loss: 6052.6709 - val_mean_squared_error: 6052.6709 - val_mean_absolute_error: 34.2622\n",
      "Epoch 245/1000\n",
      "5/5 [==============================] - 0s 10ms/step - loss: 5668.6663 - mean_squared_error: 5668.6663 - mean_absolute_error: 32.8289 - val_loss: 6039.7441 - val_mean_squared_error: 6039.7441 - val_mean_absolute_error: 34.2497\n",
      "Epoch 246/1000\n",
      "5/5 [==============================] - 0s 9ms/step - loss: 5758.2075 - mean_squared_error: 5758.2075 - mean_absolute_error: 33.0107 - val_loss: 6026.9961 - val_mean_squared_error: 6026.9961 - val_mean_absolute_error: 34.2376\n",
      "Epoch 247/1000\n",
      "5/5 [==============================] - 0s 10ms/step - loss: 5607.6407 - mean_squared_error: 5607.6407 - mean_absolute_error: 33.0891 - val_loss: 6014.5518 - val_mean_squared_error: 6014.5518 - val_mean_absolute_error: 34.2262\n",
      "Epoch 248/1000\n",
      "5/5 [==============================] - 0s 10ms/step - loss: 5844.3774 - mean_squared_error: 5844.3774 - mean_absolute_error: 33.7528 - val_loss: 6001.6694 - val_mean_squared_error: 6001.6694 - val_mean_absolute_error: 34.2138\n",
      "Epoch 249/1000\n",
      "5/5 [==============================] - 0s 9ms/step - loss: 5645.9268 - mean_squared_error: 5645.9268 - mean_absolute_error: 32.9831 - val_loss: 5988.9937 - val_mean_squared_error: 5988.9937 - val_mean_absolute_error: 34.2014\n",
      "Epoch 250/1000\n",
      "5/5 [==============================] - 0s 12ms/step - loss: 5732.2998 - mean_squared_error: 5732.2998 - mean_absolute_error: 33.3967 - val_loss: 5976.1870 - val_mean_squared_error: 5976.1870 - val_mean_absolute_error: 34.1889\n",
      "Epoch 251/1000\n",
      "5/5 [==============================] - 0s 12ms/step - loss: 6142.1474 - mean_squared_error: 6142.1474 - mean_absolute_error: 34.4341 - val_loss: 5963.4829 - val_mean_squared_error: 5963.4829 - val_mean_absolute_error: 34.1765\n",
      "Epoch 252/1000\n",
      "5/5 [==============================] - 0s 10ms/step - loss: 5377.1703 - mean_squared_error: 5377.1703 - mean_absolute_error: 32.4003 - val_loss: 5951.5566 - val_mean_squared_error: 5951.5566 - val_mean_absolute_error: 34.1656\n",
      "Epoch 253/1000\n",
      "5/5 [==============================] - 0s 9ms/step - loss: 5609.3376 - mean_squared_error: 5609.3376 - mean_absolute_error: 32.7644 - val_loss: 5939.0332 - val_mean_squared_error: 5939.0332 - val_mean_absolute_error: 34.1534\n",
      "Epoch 254/1000\n",
      "5/5 [==============================] - 0s 10ms/step - loss: 5675.1982 - mean_squared_error: 5675.1982 - mean_absolute_error: 33.0037 - val_loss: 5926.3130 - val_mean_squared_error: 5926.3130 - val_mean_absolute_error: 34.1407\n",
      "Epoch 255/1000\n",
      "5/5 [==============================] - 0s 9ms/step - loss: 5675.7927 - mean_squared_error: 5675.7927 - mean_absolute_error: 33.3766 - val_loss: 5913.5840 - val_mean_squared_error: 5913.5840 - val_mean_absolute_error: 34.1283\n",
      "Epoch 256/1000\n",
      "5/5 [==============================] - 0s 9ms/step - loss: 5677.5199 - mean_squared_error: 5677.5199 - mean_absolute_error: 33.2503 - val_loss: 5901.0337 - val_mean_squared_error: 5901.0337 - val_mean_absolute_error: 34.1164\n",
      "Epoch 257/1000\n",
      "5/5 [==============================] - 0s 9ms/step - loss: 5569.0275 - mean_squared_error: 5569.0275 - mean_absolute_error: 33.0248 - val_loss: 5888.7227 - val_mean_squared_error: 5888.7227 - val_mean_absolute_error: 34.1053\n",
      "Epoch 258/1000\n",
      "5/5 [==============================] - 0s 9ms/step - loss: 5536.6364 - mean_squared_error: 5536.6364 - mean_absolute_error: 32.8332 - val_loss: 5876.1084 - val_mean_squared_error: 5876.1084 - val_mean_absolute_error: 34.0936\n",
      "Epoch 259/1000\n",
      "5/5 [==============================] - 0s 10ms/step - loss: 5771.0942 - mean_squared_error: 5771.0942 - mean_absolute_error: 34.0008 - val_loss: 5863.3535 - val_mean_squared_error: 5863.3535 - val_mean_absolute_error: 34.0819\n",
      "Epoch 260/1000\n",
      "5/5 [==============================] - 0s 10ms/step - loss: 5609.5647 - mean_squared_error: 5609.5647 - mean_absolute_error: 33.1174 - val_loss: 5851.5303 - val_mean_squared_error: 5851.5303 - val_mean_absolute_error: 34.0717\n",
      "Epoch 261/1000\n",
      "5/5 [==============================] - 0s 9ms/step - loss: 5614.7732 - mean_squared_error: 5614.7732 - mean_absolute_error: 33.2885 - val_loss: 5839.0874 - val_mean_squared_error: 5839.0874 - val_mean_absolute_error: 34.0606\n",
      "Epoch 262/1000\n",
      "5/5 [==============================] - 0s 9ms/step - loss: 6033.9750 - mean_squared_error: 6033.9750 - mean_absolute_error: 34.6787 - val_loss: 5826.5679 - val_mean_squared_error: 5826.5684 - val_mean_absolute_error: 34.0499\n",
      "Epoch 263/1000\n",
      "5/5 [==============================] - 0s 10ms/step - loss: 5823.0352 - mean_squared_error: 5823.0352 - mean_absolute_error: 33.7306 - val_loss: 5813.9707 - val_mean_squared_error: 5813.9707 - val_mean_absolute_error: 34.0390\n",
      "Epoch 264/1000\n",
      "5/5 [==============================] - 0s 10ms/step - loss: 5673.0933 - mean_squared_error: 5673.0933 - mean_absolute_error: 33.3453 - val_loss: 5802.0254 - val_mean_squared_error: 5802.0254 - val_mean_absolute_error: 34.0296\n",
      "Epoch 265/1000\n",
      "5/5 [==============================] - 0s 10ms/step - loss: 5689.2371 - mean_squared_error: 5689.2371 - mean_absolute_error: 33.3069 - val_loss: 5789.4282 - val_mean_squared_error: 5789.4282 - val_mean_absolute_error: 34.0189\n",
      "Epoch 266/1000\n",
      "5/5 [==============================] - 0s 13ms/step - loss: 5582.7329 - mean_squared_error: 5582.7329 - mean_absolute_error: 33.2159 - val_loss: 5777.1030 - val_mean_squared_error: 5777.1030 - val_mean_absolute_error: 34.0088\n",
      "Epoch 267/1000\n",
      "5/5 [==============================] - 0s 9ms/step - loss: 5430.2001 - mean_squared_error: 5430.2001 - mean_absolute_error: 33.0867 - val_loss: 5765.4775 - val_mean_squared_error: 5765.4775 - val_mean_absolute_error: 34.0001\n",
      "Epoch 268/1000\n",
      "5/5 [==============================] - 0s 9ms/step - loss: 5600.9535 - mean_squared_error: 5600.9535 - mean_absolute_error: 33.1422 - val_loss: 5753.2090 - val_mean_squared_error: 5753.2090 - val_mean_absolute_error: 33.9898\n",
      "Epoch 269/1000\n",
      "5/5 [==============================] - 0s 9ms/step - loss: 5902.0706 - mean_squared_error: 5902.0706 - mean_absolute_error: 34.4604 - val_loss: 5740.8364 - val_mean_squared_error: 5740.8364 - val_mean_absolute_error: 33.9797\n",
      "Epoch 270/1000\n",
      "5/5 [==============================] - 0s 9ms/step - loss: 5396.6959 - mean_squared_error: 5396.6959 - mean_absolute_error: 32.6375 - val_loss: 5728.9331 - val_mean_squared_error: 5728.9331 - val_mean_absolute_error: 33.9701\n",
      "Epoch 271/1000\n",
      "5/5 [==============================] - 0s 10ms/step - loss: 5667.4460 - mean_squared_error: 5667.4460 - mean_absolute_error: 33.7575 - val_loss: 5716.6440 - val_mean_squared_error: 5716.6440 - val_mean_absolute_error: 33.9599\n",
      "Epoch 272/1000\n",
      "5/5 [==============================] - 0s 10ms/step - loss: 5585.5133 - mean_squared_error: 5585.5133 - mean_absolute_error: 33.2450 - val_loss: 5705.0874 - val_mean_squared_error: 5705.0874 - val_mean_absolute_error: 33.9512\n",
      "Epoch 273/1000\n"
     ]
    },
    {
     "name": "stdout",
     "output_type": "stream",
     "text": [
      "5/5 [==============================] - 0s 10ms/step - loss: 5399.4565 - mean_squared_error: 5399.4565 - mean_absolute_error: 32.8630 - val_loss: 5692.9775 - val_mean_squared_error: 5692.9775 - val_mean_absolute_error: 33.9415\n",
      "Epoch 274/1000\n",
      "5/5 [==============================] - 0s 10ms/step - loss: 5290.1912 - mean_squared_error: 5290.1912 - mean_absolute_error: 32.6725 - val_loss: 5681.2969 - val_mean_squared_error: 5681.2969 - val_mean_absolute_error: 33.9329\n",
      "Epoch 275/1000\n",
      "5/5 [==============================] - 0s 10ms/step - loss: 5419.4957 - mean_squared_error: 5419.4957 - mean_absolute_error: 33.0045 - val_loss: 5669.0688 - val_mean_squared_error: 5669.0688 - val_mean_absolute_error: 33.9233\n",
      "Epoch 276/1000\n",
      "5/5 [==============================] - 0s 9ms/step - loss: 5398.6481 - mean_squared_error: 5398.6481 - mean_absolute_error: 32.7367 - val_loss: 5657.6104 - val_mean_squared_error: 5657.6104 - val_mean_absolute_error: 33.9152\n",
      "Epoch 277/1000\n",
      "5/5 [==============================] - 0s 10ms/step - loss: 5434.1379 - mean_squared_error: 5434.1379 - mean_absolute_error: 33.0547 - val_loss: 5645.4766 - val_mean_squared_error: 5645.4766 - val_mean_absolute_error: 33.9059\n",
      "Epoch 278/1000\n",
      "5/5 [==============================] - 0s 10ms/step - loss: 5366.4239 - mean_squared_error: 5366.4239 - mean_absolute_error: 32.9393 - val_loss: 5633.6250 - val_mean_squared_error: 5633.6250 - val_mean_absolute_error: 33.8972\n",
      "Epoch 279/1000\n",
      "5/5 [==============================] - 0s 10ms/step - loss: 5379.5160 - mean_squared_error: 5379.5160 - mean_absolute_error: 32.8885 - val_loss: 5621.5781 - val_mean_squared_error: 5621.5781 - val_mean_absolute_error: 33.8883\n",
      "Epoch 280/1000\n",
      "5/5 [==============================] - 0s 11ms/step - loss: 5309.7594 - mean_squared_error: 5309.7594 - mean_absolute_error: 32.7956 - val_loss: 5609.5981 - val_mean_squared_error: 5609.5981 - val_mean_absolute_error: 33.8792\n",
      "Epoch 281/1000\n",
      "5/5 [==============================] - 0s 11ms/step - loss: 5455.2769 - mean_squared_error: 5455.2769 - mean_absolute_error: 32.9776 - val_loss: 5597.9868 - val_mean_squared_error: 5597.9868 - val_mean_absolute_error: 33.8713\n",
      "Epoch 282/1000\n",
      "5/5 [==============================] - 0s 10ms/step - loss: 5415.7096 - mean_squared_error: 5415.7096 - mean_absolute_error: 33.1509 - val_loss: 5586.1689 - val_mean_squared_error: 5586.1689 - val_mean_absolute_error: 33.8630\n",
      "Epoch 283/1000\n",
      "5/5 [==============================] - 0s 9ms/step - loss: 5391.1509 - mean_squared_error: 5391.1509 - mean_absolute_error: 32.9267 - val_loss: 5574.4468 - val_mean_squared_error: 5574.4468 - val_mean_absolute_error: 33.8554\n",
      "Epoch 284/1000\n",
      "5/5 [==============================] - 0s 9ms/step - loss: 5595.4666 - mean_squared_error: 5595.4666 - mean_absolute_error: 33.9127 - val_loss: 5562.3413 - val_mean_squared_error: 5562.3413 - val_mean_absolute_error: 33.8469\n",
      "Epoch 285/1000\n",
      "5/5 [==============================] - 0s 9ms/step - loss: 5465.6431 - mean_squared_error: 5465.6431 - mean_absolute_error: 33.6700 - val_loss: 5551.3838 - val_mean_squared_error: 5551.3838 - val_mean_absolute_error: 33.8405\n",
      "Epoch 286/1000\n",
      "5/5 [==============================] - 0s 9ms/step - loss: 5393.7275 - mean_squared_error: 5393.7275 - mean_absolute_error: 33.0873 - val_loss: 5539.5972 - val_mean_squared_error: 5539.5972 - val_mean_absolute_error: 33.8321\n",
      "Epoch 287/1000\n",
      "5/5 [==============================] - 0s 9ms/step - loss: 5404.0481 - mean_squared_error: 5404.0481 - mean_absolute_error: 33.1693 - val_loss: 5527.9297 - val_mean_squared_error: 5527.9297 - val_mean_absolute_error: 33.8242\n",
      "Epoch 288/1000\n",
      "5/5 [==============================] - 0s 9ms/step - loss: 5398.4683 - mean_squared_error: 5398.4683 - mean_absolute_error: 32.8202 - val_loss: 5516.9487 - val_mean_squared_error: 5516.9487 - val_mean_absolute_error: 33.8174\n",
      "Epoch 289/1000\n",
      "5/5 [==============================] - 0s 9ms/step - loss: 5454.1012 - mean_squared_error: 5454.1012 - mean_absolute_error: 33.7300 - val_loss: 5505.0020 - val_mean_squared_error: 5505.0020 - val_mean_absolute_error: 33.8086\n",
      "Epoch 290/1000\n",
      "5/5 [==============================] - 0s 10ms/step - loss: 5218.6001 - mean_squared_error: 5218.6001 - mean_absolute_error: 32.6198 - val_loss: 5493.8179 - val_mean_squared_error: 5493.8179 - val_mean_absolute_error: 33.8017\n",
      "Epoch 291/1000\n",
      "5/5 [==============================] - 0s 9ms/step - loss: 5666.9943 - mean_squared_error: 5666.9943 - mean_absolute_error: 34.2164 - val_loss: 5482.0562 - val_mean_squared_error: 5482.0562 - val_mean_absolute_error: 33.7939\n",
      "Epoch 292/1000\n",
      "5/5 [==============================] - 0s 9ms/step - loss: 5192.0121 - mean_squared_error: 5192.0121 - mean_absolute_error: 32.7371 - val_loss: 5471.1055 - val_mean_squared_error: 5471.1055 - val_mean_absolute_error: 33.7874\n",
      "Epoch 293/1000\n",
      "5/5 [==============================] - 0s 9ms/step - loss: 5381.7914 - mean_squared_error: 5381.7914 - mean_absolute_error: 32.9353 - val_loss: 5459.6948 - val_mean_squared_error: 5459.6948 - val_mean_absolute_error: 33.7799\n",
      "Epoch 294/1000\n",
      "5/5 [==============================] - 0s 10ms/step - loss: 5472.1632 - mean_squared_error: 5472.1632 - mean_absolute_error: 33.5963 - val_loss: 5448.2090 - val_mean_squared_error: 5448.2090 - val_mean_absolute_error: 33.7725\n",
      "Epoch 295/1000\n",
      "5/5 [==============================] - 0s 10ms/step - loss: 5429.1998 - mean_squared_error: 5429.1998 - mean_absolute_error: 33.5404 - val_loss: 5437.1665 - val_mean_squared_error: 5437.1665 - val_mean_absolute_error: 33.7659\n",
      "Epoch 296/1000\n",
      "5/5 [==============================] - 0s 9ms/step - loss: 4933.7699 - mean_squared_error: 4933.7699 - mean_absolute_error: 31.5194 - val_loss: 5425.9858 - val_mean_squared_error: 5425.9858 - val_mean_absolute_error: 33.7589\n",
      "Epoch 297/1000\n",
      "5/5 [==============================] - 0s 9ms/step - loss: 5320.9212 - mean_squared_error: 5320.9212 - mean_absolute_error: 33.1922 - val_loss: 5414.5063 - val_mean_squared_error: 5414.5063 - val_mean_absolute_error: 33.7516\n",
      "Epoch 298/1000\n",
      "5/5 [==============================] - 0s 11ms/step - loss: 5410.2359 - mean_squared_error: 5410.2359 - mean_absolute_error: 33.6286 - val_loss: 5403.5747 - val_mean_squared_error: 5403.5747 - val_mean_absolute_error: 33.7453\n",
      "Epoch 299/1000\n",
      "5/5 [==============================] - 0s 11ms/step - loss: 5483.7620 - mean_squared_error: 5483.7620 - mean_absolute_error: 34.0435 - val_loss: 5392.1777 - val_mean_squared_error: 5392.1777 - val_mean_absolute_error: 33.7380\n",
      "Epoch 300/1000\n",
      "5/5 [==============================] - 0s 11ms/step - loss: 5359.4923 - mean_squared_error: 5359.4923 - mean_absolute_error: 33.5535 - val_loss: 5381.0732 - val_mean_squared_error: 5381.0732 - val_mean_absolute_error: 33.7309\n",
      "Epoch 301/1000\n",
      "5/5 [==============================] - 0s 11ms/step - loss: 5257.6170 - mean_squared_error: 5257.6170 - mean_absolute_error: 33.0823 - val_loss: 5370.5762 - val_mean_squared_error: 5370.5762 - val_mean_absolute_error: 33.7251\n",
      "Epoch 302/1000\n",
      "5/5 [==============================] - 0s 10ms/step - loss: 5244.1137 - mean_squared_error: 5244.1137 - mean_absolute_error: 33.2120 - val_loss: 5359.4941 - val_mean_squared_error: 5359.4941 - val_mean_absolute_error: 33.7179\n",
      "Epoch 303/1000\n",
      "5/5 [==============================] - 0s 10ms/step - loss: 5270.9310 - mean_squared_error: 5270.9310 - mean_absolute_error: 33.0852 - val_loss: 5348.6621 - val_mean_squared_error: 5348.6621 - val_mean_absolute_error: 33.7111\n",
      "Epoch 304/1000\n",
      "5/5 [==============================] - 0s 9ms/step - loss: 5190.8542 - mean_squared_error: 5190.8542 - mean_absolute_error: 33.0208 - val_loss: 5337.6553 - val_mean_squared_error: 5337.6553 - val_mean_absolute_error: 33.7043\n",
      "Epoch 305/1000\n",
      "5/5 [==============================] - 0s 10ms/step - loss: 5215.6355 - mean_squared_error: 5215.6355 - mean_absolute_error: 33.2889 - val_loss: 5326.7109 - val_mean_squared_error: 5326.7109 - val_mean_absolute_error: 33.6979\n",
      "Epoch 306/1000\n",
      "5/5 [==============================] - 0s 9ms/step - loss: 5116.6621 - mean_squared_error: 5116.6621 - mean_absolute_error: 33.0328 - val_loss: 5316.2852 - val_mean_squared_error: 5316.2852 - val_mean_absolute_error: 33.6926\n",
      "Epoch 307/1000\n",
      "5/5 [==============================] - 0s 10ms/step - loss: 4884.3970 - mean_squared_error: 4884.3970 - mean_absolute_error: 31.9864 - val_loss: 5305.3994 - val_mean_squared_error: 5305.3994 - val_mean_absolute_error: 33.6864\n",
      "Epoch 308/1000\n",
      "5/5 [==============================] - 0s 9ms/step - loss: 5182.6397 - mean_squared_error: 5182.6397 - mean_absolute_error: 33.5950 - val_loss: 5294.4028 - val_mean_squared_error: 5294.4028 - val_mean_absolute_error: 33.6804\n",
      "Epoch 309/1000\n",
      "5/5 [==============================] - 0s 10ms/step - loss: 5177.9783 - mean_squared_error: 5177.9783 - mean_absolute_error: 33.3555 - val_loss: 5283.6104 - val_mean_squared_error: 5283.6104 - val_mean_absolute_error: 33.6748\n",
      "Epoch 310/1000\n",
      "5/5 [==============================] - 0s 9ms/step - loss: 5177.4531 - mean_squared_error: 5177.4531 - mean_absolute_error: 33.0576 - val_loss: 5272.7324 - val_mean_squared_error: 5272.7324 - val_mean_absolute_error: 33.6691\n",
      "Epoch 311/1000\n",
      "5/5 [==============================] - 0s 9ms/step - loss: 4961.4134 - mean_squared_error: 4961.4134 - mean_absolute_error: 32.5082 - val_loss: 5262.2983 - val_mean_squared_error: 5262.2983 - val_mean_absolute_error: 33.6639\n",
      "Epoch 312/1000\n",
      "5/5 [==============================] - 0s 10ms/step - loss: 5089.7184 - mean_squared_error: 5089.7184 - mean_absolute_error: 33.0421 - val_loss: 5251.7432 - val_mean_squared_error: 5251.7432 - val_mean_absolute_error: 33.6584\n",
      "Epoch 313/1000\n",
      "5/5 [==============================] - 0s 9ms/step - loss: 5159.3017 - mean_squared_error: 5159.3017 - mean_absolute_error: 33.0928 - val_loss: 5241.2168 - val_mean_squared_error: 5241.2168 - val_mean_absolute_error: 33.6530\n",
      "Epoch 314/1000\n",
      "5/5 [==============================] - 0s 9ms/step - loss: 4996.6091 - mean_squared_error: 4996.6091 - mean_absolute_error: 32.4112 - val_loss: 5231.0669 - val_mean_squared_error: 5231.0669 - val_mean_absolute_error: 33.6481\n",
      "Epoch 315/1000\n",
      "5/5 [==============================] - 0s 10ms/step - loss: 5308.7601 - mean_squared_error: 5308.7601 - mean_absolute_error: 33.8236 - val_loss: 5220.3779 - val_mean_squared_error: 5220.3779 - val_mean_absolute_error: 33.6423\n",
      "Epoch 316/1000\n",
      "5/5 [==============================] - 0s 9ms/step - loss: 4862.9712 - mean_squared_error: 4862.9712 - mean_absolute_error: 32.2510 - val_loss: 5210.3506 - val_mean_squared_error: 5210.3506 - val_mean_absolute_error: 33.6377\n",
      "Epoch 317/1000\n",
      "5/5 [==============================] - 0s 9ms/step - loss: 5293.8666 - mean_squared_error: 5293.8666 - mean_absolute_error: 33.4626 - val_loss: 5199.6533 - val_mean_squared_error: 5199.6533 - val_mean_absolute_error: 33.6323\n",
      "Epoch 318/1000\n",
      "5/5 [==============================] - 0s 9ms/step - loss: 5024.9076 - mean_squared_error: 5024.9076 - mean_absolute_error: 32.9936 - val_loss: 5189.6089 - val_mean_squared_error: 5189.6089 - val_mean_absolute_error: 33.6279\n",
      "Epoch 319/1000\n",
      "5/5 [==============================] - 0s 9ms/step - loss: 4836.2756 - mean_squared_error: 4836.2756 - mean_absolute_error: 32.5558 - val_loss: 5179.0986 - val_mean_squared_error: 5179.0986 - val_mean_absolute_error: 33.6232\n",
      "Epoch 320/1000\n",
      "5/5 [==============================] - 0s 10ms/step - loss: 4942.3791 - mean_squared_error: 4942.3791 - mean_absolute_error: 32.6138 - val_loss: 5168.9019 - val_mean_squared_error: 5168.9019 - val_mean_absolute_error: 33.6189\n",
      "Epoch 321/1000\n",
      "5/5 [==============================] - 0s 10ms/step - loss: 4925.2265 - mean_squared_error: 4925.2265 - mean_absolute_error: 32.4043 - val_loss: 5158.5996 - val_mean_squared_error: 5158.5996 - val_mean_absolute_error: 33.6145\n",
      "Epoch 322/1000\n",
      "5/5 [==============================] - 0s 9ms/step - loss: 5118.9526 - mean_squared_error: 5118.9526 - mean_absolute_error: 33.4654 - val_loss: 5148.3306 - val_mean_squared_error: 5148.3306 - val_mean_absolute_error: 33.6102\n",
      "Epoch 323/1000\n",
      "5/5 [==============================] - 0s 9ms/step - loss: 4957.9472 - mean_squared_error: 4957.9470 - mean_absolute_error: 32.7620 - val_loss: 5138.2173 - val_mean_squared_error: 5138.2173 - val_mean_absolute_error: 33.6061\n",
      "Epoch 324/1000\n",
      "5/5 [==============================] - 0s 10ms/step - loss: 4899.9351 - mean_squared_error: 4899.9351 - mean_absolute_error: 32.8938 - val_loss: 5128.0283 - val_mean_squared_error: 5128.0283 - val_mean_absolute_error: 33.6017\n",
      "Epoch 325/1000\n",
      "5/5 [==============================] - 0s 9ms/step - loss: 4974.7793 - mean_squared_error: 4974.7793 - mean_absolute_error: 32.9881 - val_loss: 5118.2002 - val_mean_squared_error: 5118.2002 - val_mean_absolute_error: 33.5981\n",
      "Epoch 326/1000\n",
      "5/5 [==============================] - 0s 10ms/step - loss: 5160.6383 - mean_squared_error: 5160.6383 - mean_absolute_error: 33.2278 - val_loss: 5108.0591 - val_mean_squared_error: 5108.0591 - val_mean_absolute_error: 33.5936\n",
      "Epoch 327/1000\n",
      "5/5 [==============================] - 0s 10ms/step - loss: 4977.9309 - mean_squared_error: 4977.9309 - mean_absolute_error: 32.9875 - val_loss: 5098.3218 - val_mean_squared_error: 5098.3218 - val_mean_absolute_error: 33.5898\n",
      "Epoch 328/1000\n",
      "5/5 [==============================] - 0s 9ms/step - loss: 5005.0159 - mean_squared_error: 5005.0159 - mean_absolute_error: 33.1801 - val_loss: 5088.2373 - val_mean_squared_error: 5088.2373 - val_mean_absolute_error: 33.5857\n",
      "Epoch 329/1000\n",
      "5/5 [==============================] - 0s 10ms/step - loss: 4885.7670 - mean_squared_error: 4885.7670 - mean_absolute_error: 32.1709 - val_loss: 5078.6230 - val_mean_squared_error: 5078.6230 - val_mean_absolute_error: 33.5820\n",
      "Epoch 330/1000\n",
      "5/5 [==============================] - 0s 9ms/step - loss: 4607.6475 - mean_squared_error: 4607.6475 - mean_absolute_error: 31.6496 - val_loss: 5068.6553 - val_mean_squared_error: 5068.6553 - val_mean_absolute_error: 33.5777\n",
      "Epoch 331/1000\n",
      "5/5 [==============================] - 0s 9ms/step - loss: 5099.9902 - mean_squared_error: 5099.9902 - mean_absolute_error: 33.6145 - val_loss: 5058.9878 - val_mean_squared_error: 5058.9878 - val_mean_absolute_error: 33.5743\n",
      "Epoch 332/1000\n",
      "5/5 [==============================] - 0s 10ms/step - loss: 5010.3123 - mean_squared_error: 5010.3123 - mean_absolute_error: 33.0955 - val_loss: 5049.0308 - val_mean_squared_error: 5049.0308 - val_mean_absolute_error: 33.5708\n",
      "Epoch 333/1000\n",
      "5/5 [==============================] - 0s 10ms/step - loss: 5083.1539 - mean_squared_error: 5083.1539 - mean_absolute_error: 33.6576 - val_loss: 5039.6528 - val_mean_squared_error: 5039.6528 - val_mean_absolute_error: 33.5681\n",
      "Epoch 334/1000\n",
      "5/5 [==============================] - 0s 10ms/step - loss: 4995.4055 - mean_squared_error: 4995.4055 - mean_absolute_error: 33.3739 - val_loss: 5029.7632 - val_mean_squared_error: 5029.7632 - val_mean_absolute_error: 33.5646\n",
      "Epoch 335/1000\n",
      "5/5 [==============================] - 0s 9ms/step - loss: 4909.7839 - mean_squared_error: 4909.7839 - mean_absolute_error: 33.1085 - val_loss: 5020.2778 - val_mean_squared_error: 5020.2778 - val_mean_absolute_error: 33.5618\n",
      "Epoch 336/1000\n",
      "5/5 [==============================] - 0s 10ms/step - loss: 4656.5951 - mean_squared_error: 4656.5951 - mean_absolute_error: 32.3229 - val_loss: 5011.1079 - val_mean_squared_error: 5011.1079 - val_mean_absolute_error: 33.5595\n",
      "Epoch 337/1000\n",
      "5/5 [==============================] - 0s 10ms/step - loss: 4852.8097 - mean_squared_error: 4852.8097 - mean_absolute_error: 32.9338 - val_loss: 5001.3115 - val_mean_squared_error: 5001.3115 - val_mean_absolute_error: 33.5564\n",
      "Epoch 338/1000\n",
      "5/5 [==============================] - 0s 10ms/step - loss: 5198.4963 - mean_squared_error: 5198.4963 - mean_absolute_error: 33.7388 - val_loss: 4991.8472 - val_mean_squared_error: 4991.8472 - val_mean_absolute_error: 33.5543\n",
      "Epoch 339/1000\n",
      "5/5 [==============================] - 0s 9ms/step - loss: 5088.8643 - mean_squared_error: 5088.8643 - mean_absolute_error: 34.0052 - val_loss: 4982.3091 - val_mean_squared_error: 4982.3091 - val_mean_absolute_error: 33.5519\n",
      "Epoch 340/1000\n",
      "5/5 [==============================] - 0s 10ms/step - loss: 4981.3403 - mean_squared_error: 4981.3403 - mean_absolute_error: 33.3839 - val_loss: 4973.1445 - val_mean_squared_error: 4973.1445 - val_mean_absolute_error: 33.5502\n",
      "Epoch 341/1000\n"
     ]
    },
    {
     "name": "stdout",
     "output_type": "stream",
     "text": [
      "5/5 [==============================] - 0s 10ms/step - loss: 4803.1784 - mean_squared_error: 4803.1785 - mean_absolute_error: 32.8535 - val_loss: 4963.5327 - val_mean_squared_error: 4963.5327 - val_mean_absolute_error: 33.5477\n",
      "Epoch 342/1000\n",
      "5/5 [==============================] - 0s 10ms/step - loss: 4626.6877 - mean_squared_error: 4626.6877 - mean_absolute_error: 32.4469 - val_loss: 4954.4292 - val_mean_squared_error: 4954.4292 - val_mean_absolute_error: 33.5465\n",
      "Epoch 343/1000\n",
      "5/5 [==============================] - 0s 10ms/step - loss: 4811.5531 - mean_squared_error: 4811.5531 - mean_absolute_error: 32.9310 - val_loss: 4944.8267 - val_mean_squared_error: 4944.8267 - val_mean_absolute_error: 33.5445\n",
      "Epoch 344/1000\n",
      "5/5 [==============================] - 0s 9ms/step - loss: 4691.1646 - mean_squared_error: 4691.1646 - mean_absolute_error: 32.6559 - val_loss: 4935.6328 - val_mean_squared_error: 4935.6328 - val_mean_absolute_error: 33.5430\n",
      "Epoch 345/1000\n",
      "5/5 [==============================] - 0s 10ms/step - loss: 4381.7768 - mean_squared_error: 4381.7769 - mean_absolute_error: 31.6556 - val_loss: 4926.5454 - val_mean_squared_error: 4926.5454 - val_mean_absolute_error: 33.5419\n",
      "Epoch 346/1000\n",
      "5/5 [==============================] - 0s 10ms/step - loss: 4713.4338 - mean_squared_error: 4713.4340 - mean_absolute_error: 32.8877 - val_loss: 4917.0234 - val_mean_squared_error: 4917.0234 - val_mean_absolute_error: 33.5401\n",
      "Epoch 347/1000\n",
      "5/5 [==============================] - 0s 10ms/step - loss: 4682.4637 - mean_squared_error: 4682.4637 - mean_absolute_error: 32.3137 - val_loss: 4908.1309 - val_mean_squared_error: 4908.1309 - val_mean_absolute_error: 33.5394\n",
      "Epoch 348/1000\n",
      "5/5 [==============================] - 0s 10ms/step - loss: 4571.9964 - mean_squared_error: 4571.9964 - mean_absolute_error: 32.0360 - val_loss: 4899.1226 - val_mean_squared_error: 4899.1230 - val_mean_absolute_error: 33.5386\n",
      "Epoch 349/1000\n",
      "5/5 [==============================] - 0s 10ms/step - loss: 4604.0690 - mean_squared_error: 4604.0690 - mean_absolute_error: 32.4642 - val_loss: 4890.3921 - val_mean_squared_error: 4890.3921 - val_mean_absolute_error: 33.5382\n",
      "Epoch 350/1000\n",
      "5/5 [==============================] - 0s 10ms/step - loss: 4772.7858 - mean_squared_error: 4772.7858 - mean_absolute_error: 33.1101 - val_loss: 4881.0356 - val_mean_squared_error: 4881.0356 - val_mean_absolute_error: 33.5367\n",
      "Epoch 351/1000\n",
      "5/5 [==============================] - 0s 10ms/step - loss: 4740.5364 - mean_squared_error: 4740.5365 - mean_absolute_error: 32.9281 - val_loss: 4872.0659 - val_mean_squared_error: 4872.0659 - val_mean_absolute_error: 33.5358\n",
      "Epoch 352/1000\n",
      "5/5 [==============================] - 0s 9ms/step - loss: 4933.4712 - mean_squared_error: 4933.4712 - mean_absolute_error: 33.2444 - val_loss: 4863.1050 - val_mean_squared_error: 4863.1050 - val_mean_absolute_error: 33.5349\n",
      "Epoch 353/1000\n",
      "5/5 [==============================] - 0s 10ms/step - loss: 4671.8612 - mean_squared_error: 4671.8612 - mean_absolute_error: 32.7146 - val_loss: 4853.9331 - val_mean_squared_error: 4853.9331 - val_mean_absolute_error: 33.5333\n",
      "Epoch 354/1000\n",
      "5/5 [==============================] - 0s 10ms/step - loss: 4721.6323 - mean_squared_error: 4721.6323 - mean_absolute_error: 32.7039 - val_loss: 4845.6157 - val_mean_squared_error: 4845.6157 - val_mean_absolute_error: 33.5330\n",
      "Epoch 355/1000\n",
      "5/5 [==============================] - 0s 9ms/step - loss: 4417.7682 - mean_squared_error: 4417.7682 - mean_absolute_error: 31.6577 - val_loss: 4837.3188 - val_mean_squared_error: 4837.3188 - val_mean_absolute_error: 33.5324\n",
      "Epoch 356/1000\n",
      "5/5 [==============================] - 0s 9ms/step - loss: 4775.5697 - mean_squared_error: 4775.5697 - mean_absolute_error: 32.7757 - val_loss: 4828.2124 - val_mean_squared_error: 4828.2124 - val_mean_absolute_error: 33.5307\n",
      "Epoch 357/1000\n",
      "5/5 [==============================] - 0s 9ms/step - loss: 4781.7993 - mean_squared_error: 4781.7993 - mean_absolute_error: 33.0631 - val_loss: 4819.7876 - val_mean_squared_error: 4819.7876 - val_mean_absolute_error: 33.5303\n",
      "Epoch 358/1000\n",
      "5/5 [==============================] - 0s 9ms/step - loss: 4635.7585 - mean_squared_error: 4635.7585 - mean_absolute_error: 32.7445 - val_loss: 4810.7695 - val_mean_squared_error: 4810.7695 - val_mean_absolute_error: 33.5285\n",
      "Epoch 359/1000\n",
      "5/5 [==============================] - 0s 10ms/step - loss: 4551.7221 - mean_squared_error: 4551.7221 - mean_absolute_error: 32.3407 - val_loss: 4802.0820 - val_mean_squared_error: 4802.0820 - val_mean_absolute_error: 33.5274\n",
      "Epoch 360/1000\n",
      "5/5 [==============================] - 0s 10ms/step - loss: 4627.4058 - mean_squared_error: 4627.4058 - mean_absolute_error: 32.8823 - val_loss: 4793.6362 - val_mean_squared_error: 4793.6362 - val_mean_absolute_error: 33.5268\n",
      "Epoch 361/1000\n",
      "5/5 [==============================] - 0s 9ms/step - loss: 4615.0211 - mean_squared_error: 4615.0211 - mean_absolute_error: 32.7423 - val_loss: 4785.4678 - val_mean_squared_error: 4785.4678 - val_mean_absolute_error: 33.5268\n",
      "Epoch 362/1000\n",
      "5/5 [==============================] - 0s 10ms/step - loss: 4497.3951 - mean_squared_error: 4497.3951 - mean_absolute_error: 32.7755 - val_loss: 4776.9219 - val_mean_squared_error: 4776.9219 - val_mean_absolute_error: 33.5260\n",
      "Epoch 363/1000\n",
      "5/5 [==============================] - 0s 9ms/step - loss: 4580.3322 - mean_squared_error: 4580.3322 - mean_absolute_error: 32.5578 - val_loss: 4768.4111 - val_mean_squared_error: 4768.4111 - val_mean_absolute_error: 33.5252\n",
      "Epoch 364/1000\n",
      "5/5 [==============================] - 0s 10ms/step - loss: 4599.6426 - mean_squared_error: 4599.6426 - mean_absolute_error: 32.9911 - val_loss: 4760.1660 - val_mean_squared_error: 4760.1660 - val_mean_absolute_error: 33.5250\n",
      "Epoch 365/1000\n",
      "5/5 [==============================] - 0s 9ms/step - loss: 4674.1120 - mean_squared_error: 4674.1120 - mean_absolute_error: 33.0287 - val_loss: 4752.1680 - val_mean_squared_error: 4752.1680 - val_mean_absolute_error: 33.5249\n",
      "Epoch 366/1000\n",
      "5/5 [==============================] - 0s 9ms/step - loss: 4589.5037 - mean_squared_error: 4589.5037 - mean_absolute_error: 32.6243 - val_loss: 4743.9463 - val_mean_squared_error: 4743.9463 - val_mean_absolute_error: 33.5245\n",
      "Epoch 367/1000\n",
      "5/5 [==============================] - 0s 10ms/step - loss: 4688.3208 - mean_squared_error: 4688.3208 - mean_absolute_error: 32.8670 - val_loss: 4735.4731 - val_mean_squared_error: 4735.4731 - val_mean_absolute_error: 33.5236\n",
      "Epoch 368/1000\n",
      "5/5 [==============================] - 0s 10ms/step - loss: 4399.2131 - mean_squared_error: 4399.2131 - mean_absolute_error: 32.0484 - val_loss: 4727.7441 - val_mean_squared_error: 4727.7441 - val_mean_absolute_error: 33.5238\n",
      "Epoch 369/1000\n",
      "5/5 [==============================] - 0s 10ms/step - loss: 4578.1542 - mean_squared_error: 4578.1542 - mean_absolute_error: 32.8581 - val_loss: 4719.8506 - val_mean_squared_error: 4719.8506 - val_mean_absolute_error: 33.5238\n",
      "Epoch 370/1000\n",
      "5/5 [==============================] - 0s 10ms/step - loss: 4633.7267 - mean_squared_error: 4633.7267 - mean_absolute_error: 32.8640 - val_loss: 4711.5894 - val_mean_squared_error: 4711.5894 - val_mean_absolute_error: 33.5233\n",
      "Epoch 371/1000\n",
      "5/5 [==============================] - 0s 10ms/step - loss: 4651.5965 - mean_squared_error: 4651.5965 - mean_absolute_error: 33.3536 - val_loss: 4703.5732 - val_mean_squared_error: 4703.5732 - val_mean_absolute_error: 33.5233\n",
      "Epoch 372/1000\n",
      "5/5 [==============================] - 0s 10ms/step - loss: 4353.1469 - mean_squared_error: 4353.1468 - mean_absolute_error: 32.3485 - val_loss: 4695.8140 - val_mean_squared_error: 4695.8140 - val_mean_absolute_error: 33.5234\n",
      "Epoch 373/1000\n",
      "5/5 [==============================] - 0s 9ms/step - loss: 4551.9795 - mean_squared_error: 4551.9795 - mean_absolute_error: 33.0201 - val_loss: 4688.0269 - val_mean_squared_error: 4688.0273 - val_mean_absolute_error: 33.5237\n",
      "Epoch 374/1000\n",
      "5/5 [==============================] - 0s 9ms/step - loss: 4802.4787 - mean_squared_error: 4802.4787 - mean_absolute_error: 33.3523 - val_loss: 4679.5977 - val_mean_squared_error: 4679.5977 - val_mean_absolute_error: 33.5230\n",
      "Epoch 375/1000\n",
      "5/5 [==============================] - 0s 10ms/step - loss: 4675.5556 - mean_squared_error: 4675.5556 - mean_absolute_error: 32.9514 - val_loss: 4672.3447 - val_mean_squared_error: 4672.3447 - val_mean_absolute_error: 33.5240\n",
      "Epoch 376/1000\n",
      "5/5 [==============================] - 0s 10ms/step - loss: 4617.1846 - mean_squared_error: 4617.1846 - mean_absolute_error: 33.2294 - val_loss: 4664.4980 - val_mean_squared_error: 4664.4980 - val_mean_absolute_error: 33.5246\n",
      "Epoch 377/1000\n",
      "5/5 [==============================] - 0s 9ms/step - loss: 4350.8210 - mean_squared_error: 4350.8210 - mean_absolute_error: 32.2563 - val_loss: 4657.1060 - val_mean_squared_error: 4657.1060 - val_mean_absolute_error: 33.5258\n",
      "Epoch 378/1000\n",
      "5/5 [==============================] - 0s 9ms/step - loss: 4520.5602 - mean_squared_error: 4520.5602 - mean_absolute_error: 33.0128 - val_loss: 4649.5278 - val_mean_squared_error: 4649.5278 - val_mean_absolute_error: 33.5269\n",
      "Epoch 379/1000\n",
      "5/5 [==============================] - 0s 10ms/step - loss: 4440.4126 - mean_squared_error: 4440.4126 - mean_absolute_error: 32.5351 - val_loss: 4641.4644 - val_mean_squared_error: 4641.4644 - val_mean_absolute_error: 33.5274\n",
      "Epoch 380/1000\n",
      "5/5 [==============================] - 0s 9ms/step - loss: 4571.7863 - mean_squared_error: 4571.7863 - mean_absolute_error: 33.2799 - val_loss: 4633.7344 - val_mean_squared_error: 4633.7344 - val_mean_absolute_error: 33.5286\n",
      "Epoch 381/1000\n",
      "5/5 [==============================] - 0s 10ms/step - loss: 4511.2940 - mean_squared_error: 4511.2940 - mean_absolute_error: 33.0041 - val_loss: 4626.6333 - val_mean_squared_error: 4626.6333 - val_mean_absolute_error: 33.5308\n",
      "Epoch 382/1000\n",
      "5/5 [==============================] - 0s 10ms/step - loss: 4708.7183 - mean_squared_error: 4708.7183 - mean_absolute_error: 33.5680 - val_loss: 4619.0420 - val_mean_squared_error: 4619.0420 - val_mean_absolute_error: 33.5323\n",
      "Epoch 383/1000\n",
      "5/5 [==============================] - 0s 10ms/step - loss: 4486.1108 - mean_squared_error: 4486.1108 - mean_absolute_error: 33.3566 - val_loss: 4611.6982 - val_mean_squared_error: 4611.6982 - val_mean_absolute_error: 33.5344\n",
      "Epoch 384/1000\n",
      "5/5 [==============================] - 0s 9ms/step - loss: 4637.4060 - mean_squared_error: 4637.4060 - mean_absolute_error: 33.2715 - val_loss: 4604.3584 - val_mean_squared_error: 4604.3584 - val_mean_absolute_error: 33.5370\n",
      "Epoch 385/1000\n",
      "5/5 [==============================] - 0s 10ms/step - loss: 4391.1628 - mean_squared_error: 4391.1628 - mean_absolute_error: 32.7841 - val_loss: 4596.9248 - val_mean_squared_error: 4596.9248 - val_mean_absolute_error: 33.5390\n",
      "Epoch 386/1000\n",
      "5/5 [==============================] - 0s 10ms/step - loss: 4648.8423 - mean_squared_error: 4648.8423 - mean_absolute_error: 33.5476 - val_loss: 4589.9937 - val_mean_squared_error: 4589.9937 - val_mean_absolute_error: 33.5420\n",
      "Epoch 387/1000\n",
      "5/5 [==============================] - 0s 10ms/step - loss: 4215.2065 - mean_squared_error: 4215.2065 - mean_absolute_error: 32.2585 - val_loss: 4582.7974 - val_mean_squared_error: 4582.7974 - val_mean_absolute_error: 33.5444\n",
      "Epoch 388/1000\n",
      "5/5 [==============================] - 0s 10ms/step - loss: 4527.6258 - mean_squared_error: 4527.6258 - mean_absolute_error: 33.1318 - val_loss: 4575.4585 - val_mean_squared_error: 4575.4585 - val_mean_absolute_error: 33.5477\n",
      "Epoch 389/1000\n",
      "5/5 [==============================] - 0s 10ms/step - loss: 4250.5824 - mean_squared_error: 4250.5824 - mean_absolute_error: 32.3336 - val_loss: 4568.3657 - val_mean_squared_error: 4568.3657 - val_mean_absolute_error: 33.5512\n",
      "Epoch 390/1000\n",
      "5/5 [==============================] - 0s 10ms/step - loss: 4412.9726 - mean_squared_error: 4412.9726 - mean_absolute_error: 33.0322 - val_loss: 4561.5488 - val_mean_squared_error: 4561.5488 - val_mean_absolute_error: 33.5553\n",
      "Epoch 391/1000\n",
      "5/5 [==============================] - 0s 10ms/step - loss: 4305.5765 - mean_squared_error: 4305.5765 - mean_absolute_error: 32.5001 - val_loss: 4554.4590 - val_mean_squared_error: 4554.4590 - val_mean_absolute_error: 33.5595\n",
      "Epoch 392/1000\n",
      "5/5 [==============================] - 0s 10ms/step - loss: 4144.7965 - mean_squared_error: 4144.7965 - mean_absolute_error: 32.0484 - val_loss: 4547.2632 - val_mean_squared_error: 4547.2632 - val_mean_absolute_error: 33.5633\n",
      "Epoch 393/1000\n",
      "5/5 [==============================] - 0s 10ms/step - loss: 4450.3118 - mean_squared_error: 4450.3119 - mean_absolute_error: 32.7573 - val_loss: 4540.7373 - val_mean_squared_error: 4540.7373 - val_mean_absolute_error: 33.5685\n",
      "Epoch 394/1000\n",
      "5/5 [==============================] - 0s 10ms/step - loss: 4587.0666 - mean_squared_error: 4587.0666 - mean_absolute_error: 33.2719 - val_loss: 4533.2427 - val_mean_squared_error: 4533.2427 - val_mean_absolute_error: 33.5729\n",
      "Epoch 395/1000\n",
      "5/5 [==============================] - 0s 10ms/step - loss: 4152.2270 - mean_squared_error: 4152.2268 - mean_absolute_error: 31.8667 - val_loss: 4526.8901 - val_mean_squared_error: 4526.8901 - val_mean_absolute_error: 33.5785\n",
      "Epoch 396/1000\n",
      "5/5 [==============================] - 0s 9ms/step - loss: 4321.1143 - mean_squared_error: 4321.1143 - mean_absolute_error: 32.7064 - val_loss: 4519.7788 - val_mean_squared_error: 4519.7788 - val_mean_absolute_error: 33.5840\n",
      "Epoch 397/1000\n",
      "5/5 [==============================] - 0s 10ms/step - loss: 4340.6238 - mean_squared_error: 4340.6238 - mean_absolute_error: 32.8682 - val_loss: 4513.2529 - val_mean_squared_error: 4513.2529 - val_mean_absolute_error: 33.5898\n",
      "Epoch 398/1000\n",
      "5/5 [==============================] - 0s 10ms/step - loss: 4135.3872 - mean_squared_error: 4135.3872 - mean_absolute_error: 32.0443 - val_loss: 4506.4619 - val_mean_squared_error: 4506.4619 - val_mean_absolute_error: 33.5952\n",
      "Epoch 399/1000\n",
      "5/5 [==============================] - 0s 9ms/step - loss: 4227.4603 - mean_squared_error: 4227.4603 - mean_absolute_error: 32.5783 - val_loss: 4500.0327 - val_mean_squared_error: 4500.0327 - val_mean_absolute_error: 33.6012\n",
      "Epoch 400/1000\n",
      "5/5 [==============================] - 0s 10ms/step - loss: 4461.7981 - mean_squared_error: 4461.7981 - mean_absolute_error: 33.4112 - val_loss: 4493.2354 - val_mean_squared_error: 4493.2354 - val_mean_absolute_error: 33.6072\n",
      "Epoch 401/1000\n",
      "5/5 [==============================] - 0s 10ms/step - loss: 4417.5994 - mean_squared_error: 4417.5994 - mean_absolute_error: 32.2471 - val_loss: 4486.8677 - val_mean_squared_error: 4486.8677 - val_mean_absolute_error: 33.6131\n",
      "Epoch 402/1000\n",
      "5/5 [==============================] - 0s 10ms/step - loss: 4403.2356 - mean_squared_error: 4403.2356 - mean_absolute_error: 33.2201 - val_loss: 4480.3413 - val_mean_squared_error: 4480.3413 - val_mean_absolute_error: 33.6192\n",
      "Epoch 403/1000\n",
      "5/5 [==============================] - 0s 10ms/step - loss: 4163.0465 - mean_squared_error: 4163.0465 - mean_absolute_error: 32.3396 - val_loss: 4473.8467 - val_mean_squared_error: 4473.8467 - val_mean_absolute_error: 33.6247\n",
      "Epoch 404/1000\n",
      "5/5 [==============================] - 0s 9ms/step - loss: 4612.9820 - mean_squared_error: 4612.9817 - mean_absolute_error: 34.0431 - val_loss: 4466.9839 - val_mean_squared_error: 4466.9839 - val_mean_absolute_error: 33.6306\n",
      "Epoch 405/1000\n",
      "5/5 [==============================] - 0s 10ms/step - loss: 4159.0500 - mean_squared_error: 4159.0500 - mean_absolute_error: 32.3600 - val_loss: 4460.9824 - val_mean_squared_error: 4460.9824 - val_mean_absolute_error: 33.6364\n",
      "Epoch 406/1000\n",
      "5/5 [==============================] - 0s 9ms/step - loss: 4235.3676 - mean_squared_error: 4235.3675 - mean_absolute_error: 32.6787 - val_loss: 4454.6523 - val_mean_squared_error: 4454.6523 - val_mean_absolute_error: 33.6422\n",
      "Epoch 407/1000\n",
      "5/5 [==============================] - 0s 10ms/step - loss: 4694.7645 - mean_squared_error: 4694.7645 - mean_absolute_error: 34.1076 - val_loss: 4448.4526 - val_mean_squared_error: 4448.4531 - val_mean_absolute_error: 33.6484\n",
      "Epoch 408/1000\n",
      "5/5 [==============================] - 0s 10ms/step - loss: 4212.3683 - mean_squared_error: 4212.3683 - mean_absolute_error: 32.6495 - val_loss: 4442.3809 - val_mean_squared_error: 4442.3809 - val_mean_absolute_error: 33.6546\n",
      "Epoch 409/1000\n"
     ]
    },
    {
     "name": "stdout",
     "output_type": "stream",
     "text": [
      "5/5 [==============================] - 0s 10ms/step - loss: 4216.0465 - mean_squared_error: 4216.0465 - mean_absolute_error: 32.8192 - val_loss: 4436.1123 - val_mean_squared_error: 4436.1123 - val_mean_absolute_error: 33.6608\n",
      "Epoch 410/1000\n",
      "5/5 [==============================] - 0s 10ms/step - loss: 4574.1451 - mean_squared_error: 4574.1451 - mean_absolute_error: 34.0292 - val_loss: 4430.0273 - val_mean_squared_error: 4430.0273 - val_mean_absolute_error: 33.6674\n",
      "Epoch 411/1000\n",
      "5/5 [==============================] - 0s 10ms/step - loss: 4255.0020 - mean_squared_error: 4255.0020 - mean_absolute_error: 32.8663 - val_loss: 4423.7236 - val_mean_squared_error: 4423.7236 - val_mean_absolute_error: 33.6733\n",
      "Epoch 412/1000\n",
      "5/5 [==============================] - 0s 9ms/step - loss: 4022.8453 - mean_squared_error: 4022.8453 - mean_absolute_error: 31.9165 - val_loss: 4417.9766 - val_mean_squared_error: 4417.9766 - val_mean_absolute_error: 33.6798\n",
      "Epoch 413/1000\n",
      "5/5 [==============================] - 0s 10ms/step - loss: 4244.4566 - mean_squared_error: 4244.4566 - mean_absolute_error: 33.0139 - val_loss: 4411.6948 - val_mean_squared_error: 4411.6948 - val_mean_absolute_error: 33.6862\n",
      "Epoch 414/1000\n",
      "5/5 [==============================] - 0s 10ms/step - loss: 4157.0861 - mean_squared_error: 4157.0861 - mean_absolute_error: 32.8740 - val_loss: 4405.7944 - val_mean_squared_error: 4405.7944 - val_mean_absolute_error: 33.6927\n",
      "Epoch 415/1000\n",
      "5/5 [==============================] - 0s 10ms/step - loss: 4385.4782 - mean_squared_error: 4385.4782 - mean_absolute_error: 33.5331 - val_loss: 4399.9448 - val_mean_squared_error: 4399.9448 - val_mean_absolute_error: 33.6992\n",
      "Epoch 416/1000\n",
      "5/5 [==============================] - 0s 10ms/step - loss: 4261.7216 - mean_squared_error: 4261.7216 - mean_absolute_error: 33.1537 - val_loss: 4394.1440 - val_mean_squared_error: 4394.1440 - val_mean_absolute_error: 33.7054\n",
      "Epoch 417/1000\n",
      "5/5 [==============================] - 0s 10ms/step - loss: 4419.0130 - mean_squared_error: 4419.0130 - mean_absolute_error: 33.5942 - val_loss: 4388.3271 - val_mean_squared_error: 4388.3271 - val_mean_absolute_error: 33.7120\n",
      "Epoch 418/1000\n",
      "5/5 [==============================] - 0s 10ms/step - loss: 4314.1508 - mean_squared_error: 4314.1510 - mean_absolute_error: 33.2811 - val_loss: 4382.5918 - val_mean_squared_error: 4382.5918 - val_mean_absolute_error: 33.7181\n",
      "Epoch 419/1000\n",
      "5/5 [==============================] - 0s 10ms/step - loss: 4088.4665 - mean_squared_error: 4088.4665 - mean_absolute_error: 32.4565 - val_loss: 4376.7881 - val_mean_squared_error: 4376.7881 - val_mean_absolute_error: 33.7239\n",
      "Epoch 420/1000\n",
      "5/5 [==============================] - 0s 10ms/step - loss: 4189.3609 - mean_squared_error: 4189.3609 - mean_absolute_error: 32.8009 - val_loss: 4371.2871 - val_mean_squared_error: 4371.2871 - val_mean_absolute_error: 33.7302\n",
      "Epoch 421/1000\n",
      "5/5 [==============================] - 0s 10ms/step - loss: 4072.2879 - mean_squared_error: 4072.2879 - mean_absolute_error: 32.7554 - val_loss: 4365.6313 - val_mean_squared_error: 4365.6313 - val_mean_absolute_error: 33.7364\n",
      "Epoch 422/1000\n",
      "5/5 [==============================] - 0s 10ms/step - loss: 4306.3516 - mean_squared_error: 4306.3516 - mean_absolute_error: 33.1478 - val_loss: 4359.8413 - val_mean_squared_error: 4359.8413 - val_mean_absolute_error: 33.7425\n",
      "Epoch 423/1000\n",
      "5/5 [==============================] - 0s 9ms/step - loss: 4209.4080 - mean_squared_error: 4209.4080 - mean_absolute_error: 33.0293 - val_loss: 4354.7524 - val_mean_squared_error: 4354.7524 - val_mean_absolute_error: 33.7490\n",
      "Epoch 424/1000\n",
      "5/5 [==============================] - 0s 10ms/step - loss: 4126.3898 - mean_squared_error: 4126.3898 - mean_absolute_error: 32.9766 - val_loss: 4349.2397 - val_mean_squared_error: 4349.2397 - val_mean_absolute_error: 33.7547\n",
      "Epoch 425/1000\n",
      "5/5 [==============================] - 0s 10ms/step - loss: 4159.3083 - mean_squared_error: 4159.3083 - mean_absolute_error: 33.1470 - val_loss: 4343.7173 - val_mean_squared_error: 4343.7173 - val_mean_absolute_error: 33.7609\n",
      "Epoch 426/1000\n",
      "5/5 [==============================] - 0s 9ms/step - loss: 4287.4716 - mean_squared_error: 4287.4716 - mean_absolute_error: 33.8185 - val_loss: 4338.2256 - val_mean_squared_error: 4338.2256 - val_mean_absolute_error: 33.7673\n",
      "Epoch 427/1000\n",
      "5/5 [==============================] - 0s 10ms/step - loss: 4294.6554 - mean_squared_error: 4294.6554 - mean_absolute_error: 33.5806 - val_loss: 4332.7759 - val_mean_squared_error: 4332.7759 - val_mean_absolute_error: 33.7735\n",
      "Epoch 428/1000\n",
      "5/5 [==============================] - 0s 10ms/step - loss: 3973.3042 - mean_squared_error: 3973.3042 - mean_absolute_error: 32.5502 - val_loss: 4327.4297 - val_mean_squared_error: 4327.4302 - val_mean_absolute_error: 33.7794\n",
      "Epoch 429/1000\n",
      "5/5 [==============================] - 0s 10ms/step - loss: 4097.3698 - mean_squared_error: 4097.3699 - mean_absolute_error: 32.9363 - val_loss: 4322.0537 - val_mean_squared_error: 4322.0537 - val_mean_absolute_error: 33.7855\n",
      "Epoch 430/1000\n",
      "5/5 [==============================] - 0s 9ms/step - loss: 4495.6538 - mean_squared_error: 4495.6538 - mean_absolute_error: 34.1404 - val_loss: 4316.8936 - val_mean_squared_error: 4316.8936 - val_mean_absolute_error: 33.7917\n",
      "Epoch 431/1000\n",
      "5/5 [==============================] - 0s 10ms/step - loss: 4201.1930 - mean_squared_error: 4201.1930 - mean_absolute_error: 33.2572 - val_loss: 4311.7329 - val_mean_squared_error: 4311.7334 - val_mean_absolute_error: 33.7979\n",
      "Epoch 432/1000\n",
      "5/5 [==============================] - 0s 9ms/step - loss: 4221.5766 - mean_squared_error: 4221.5766 - mean_absolute_error: 33.1475 - val_loss: 4306.5269 - val_mean_squared_error: 4306.5269 - val_mean_absolute_error: 33.8038\n",
      "Epoch 433/1000\n",
      "5/5 [==============================] - 0s 10ms/step - loss: 4096.4176 - mean_squared_error: 4096.4176 - mean_absolute_error: 32.9900 - val_loss: 4301.4497 - val_mean_squared_error: 4301.4497 - val_mean_absolute_error: 33.8102\n",
      "Epoch 434/1000\n",
      "5/5 [==============================] - 0s 10ms/step - loss: 4025.2273 - mean_squared_error: 4025.2273 - mean_absolute_error: 32.9152 - val_loss: 4296.6987 - val_mean_squared_error: 4296.6987 - val_mean_absolute_error: 33.8163\n",
      "Epoch 435/1000\n",
      "5/5 [==============================] - 0s 10ms/step - loss: 4381.1973 - mean_squared_error: 4381.1973 - mean_absolute_error: 33.6305 - val_loss: 4291.4946 - val_mean_squared_error: 4291.4946 - val_mean_absolute_error: 33.8226\n",
      "Epoch 436/1000\n",
      "5/5 [==============================] - 0s 9ms/step - loss: 3971.7233 - mean_squared_error: 3971.7233 - mean_absolute_error: 32.3002 - val_loss: 4286.5410 - val_mean_squared_error: 4286.5410 - val_mean_absolute_error: 33.8285\n",
      "Epoch 437/1000\n",
      "5/5 [==============================] - 0s 9ms/step - loss: 4149.5081 - mean_squared_error: 4149.5081 - mean_absolute_error: 32.9315 - val_loss: 4281.6304 - val_mean_squared_error: 4281.6299 - val_mean_absolute_error: 33.8347\n",
      "Epoch 438/1000\n",
      "5/5 [==============================] - 0s 9ms/step - loss: 4059.4757 - mean_squared_error: 4059.4757 - mean_absolute_error: 32.9369 - val_loss: 4276.7075 - val_mean_squared_error: 4276.7075 - val_mean_absolute_error: 33.8406\n",
      "Epoch 439/1000\n",
      "5/5 [==============================] - 0s 9ms/step - loss: 3890.5623 - mean_squared_error: 3890.5623 - mean_absolute_error: 32.2645 - val_loss: 4271.7261 - val_mean_squared_error: 4271.7261 - val_mean_absolute_error: 33.8463\n",
      "Epoch 440/1000\n",
      "5/5 [==============================] - 0s 9ms/step - loss: 4120.4623 - mean_squared_error: 4120.4623 - mean_absolute_error: 33.0228 - val_loss: 4266.9946 - val_mean_squared_error: 4266.9946 - val_mean_absolute_error: 33.8525\n",
      "Epoch 441/1000\n",
      "5/5 [==============================] - 0s 9ms/step - loss: 3965.8604 - mean_squared_error: 3965.8604 - mean_absolute_error: 32.4290 - val_loss: 4262.1016 - val_mean_squared_error: 4262.1011 - val_mean_absolute_error: 33.8579\n",
      "Epoch 442/1000\n",
      "5/5 [==============================] - 0s 9ms/step - loss: 3974.8590 - mean_squared_error: 3974.8590 - mean_absolute_error: 32.7304 - val_loss: 4257.6855 - val_mean_squared_error: 4257.6855 - val_mean_absolute_error: 33.8641\n",
      "Epoch 443/1000\n",
      "5/5 [==============================] - 0s 10ms/step - loss: 3955.4733 - mean_squared_error: 3955.4733 - mean_absolute_error: 32.4338 - val_loss: 4252.9390 - val_mean_squared_error: 4252.9390 - val_mean_absolute_error: 33.8700\n",
      "Epoch 444/1000\n",
      "5/5 [==============================] - 0s 10ms/step - loss: 4040.8855 - mean_squared_error: 4040.8855 - mean_absolute_error: 32.9773 - val_loss: 4248.0630 - val_mean_squared_error: 4248.0630 - val_mean_absolute_error: 33.8756\n",
      "Epoch 445/1000\n",
      "5/5 [==============================] - 0s 10ms/step - loss: 4061.4483 - mean_squared_error: 4061.4483 - mean_absolute_error: 32.9266 - val_loss: 4243.5498 - val_mean_squared_error: 4243.5498 - val_mean_absolute_error: 33.8818\n",
      "Epoch 446/1000\n",
      "5/5 [==============================] - 0s 9ms/step - loss: 4046.3215 - mean_squared_error: 4046.3216 - mean_absolute_error: 33.2287 - val_loss: 4238.7510 - val_mean_squared_error: 4238.7510 - val_mean_absolute_error: 33.8876\n",
      "Epoch 447/1000\n",
      "5/5 [==============================] - 0s 9ms/step - loss: 4169.5581 - mean_squared_error: 4169.5581 - mean_absolute_error: 33.4545 - val_loss: 4234.2314 - val_mean_squared_error: 4234.2314 - val_mean_absolute_error: 33.8937\n",
      "Epoch 448/1000\n",
      "5/5 [==============================] - 0s 9ms/step - loss: 4104.5848 - mean_squared_error: 4104.5848 - mean_absolute_error: 33.2290 - val_loss: 4229.6621 - val_mean_squared_error: 4229.6621 - val_mean_absolute_error: 33.8996\n",
      "Epoch 449/1000\n",
      "5/5 [==============================] - 0s 10ms/step - loss: 4216.5029 - mean_squared_error: 4216.5029 - mean_absolute_error: 33.6332 - val_loss: 4225.3398 - val_mean_squared_error: 4225.3398 - val_mean_absolute_error: 33.9055\n",
      "Epoch 450/1000\n",
      "5/5 [==============================] - 0s 10ms/step - loss: 3671.8494 - mean_squared_error: 3671.8494 - mean_absolute_error: 31.8948 - val_loss: 4220.7441 - val_mean_squared_error: 4220.7441 - val_mean_absolute_error: 33.9107\n",
      "Epoch 451/1000\n",
      "5/5 [==============================] - 0s 10ms/step - loss: 3935.0007 - mean_squared_error: 3935.0007 - mean_absolute_error: 33.0076 - val_loss: 4216.5020 - val_mean_squared_error: 4216.5020 - val_mean_absolute_error: 33.9167\n",
      "Epoch 452/1000\n",
      "5/5 [==============================] - 0s 10ms/step - loss: 4049.9983 - mean_squared_error: 4049.9982 - mean_absolute_error: 32.8327 - val_loss: 4212.0225 - val_mean_squared_error: 4212.0225 - val_mean_absolute_error: 33.9223\n",
      "Epoch 453/1000\n",
      "5/5 [==============================] - 0s 10ms/step - loss: 4266.5514 - mean_squared_error: 4266.5514 - mean_absolute_error: 33.8851 - val_loss: 4207.5889 - val_mean_squared_error: 4207.5889 - val_mean_absolute_error: 33.9282\n",
      "Epoch 454/1000\n",
      "5/5 [==============================] - 0s 9ms/step - loss: 4069.5545 - mean_squared_error: 4069.5546 - mean_absolute_error: 33.2123 - val_loss: 4203.3857 - val_mean_squared_error: 4203.3857 - val_mean_absolute_error: 33.9337\n",
      "Epoch 455/1000\n",
      "5/5 [==============================] - 0s 10ms/step - loss: 3883.9784 - mean_squared_error: 3883.9784 - mean_absolute_error: 32.8160 - val_loss: 4199.3564 - val_mean_squared_error: 4199.3564 - val_mean_absolute_error: 33.9389\n",
      "Epoch 456/1000\n",
      "5/5 [==============================] - 0s 10ms/step - loss: 4151.5141 - mean_squared_error: 4151.5141 - mean_absolute_error: 33.7717 - val_loss: 4195.2729 - val_mean_squared_error: 4195.2729 - val_mean_absolute_error: 33.9451\n",
      "Epoch 457/1000\n",
      "5/5 [==============================] - 0s 10ms/step - loss: 4009.6457 - mean_squared_error: 4009.6457 - mean_absolute_error: 33.2951 - val_loss: 4191.2856 - val_mean_squared_error: 4191.2856 - val_mean_absolute_error: 33.9505\n",
      "Epoch 458/1000\n",
      "5/5 [==============================] - 0s 9ms/step - loss: 3949.2851 - mean_squared_error: 3949.2851 - mean_absolute_error: 33.1060 - val_loss: 4187.0801 - val_mean_squared_error: 4187.0801 - val_mean_absolute_error: 33.9560\n",
      "Epoch 459/1000\n",
      "5/5 [==============================] - 0s 9ms/step - loss: 4070.0046 - mean_squared_error: 4070.0046 - mean_absolute_error: 33.2461 - val_loss: 4183.1123 - val_mean_squared_error: 4183.1123 - val_mean_absolute_error: 33.9614\n",
      "Epoch 460/1000\n",
      "5/5 [==============================] - 0s 9ms/step - loss: 3965.5417 - mean_squared_error: 3965.5417 - mean_absolute_error: 32.8474 - val_loss: 4178.8809 - val_mean_squared_error: 4178.8809 - val_mean_absolute_error: 33.9671\n",
      "Epoch 461/1000\n",
      "5/5 [==============================] - 0s 10ms/step - loss: 4038.9191 - mean_squared_error: 4038.9191 - mean_absolute_error: 33.1518 - val_loss: 4174.7734 - val_mean_squared_error: 4174.7734 - val_mean_absolute_error: 33.9724\n",
      "Epoch 462/1000\n",
      "5/5 [==============================] - 0s 10ms/step - loss: 3749.9267 - mean_squared_error: 3749.9267 - mean_absolute_error: 32.4254 - val_loss: 4170.9141 - val_mean_squared_error: 4170.9141 - val_mean_absolute_error: 33.9784\n",
      "Epoch 463/1000\n",
      "5/5 [==============================] - 0s 10ms/step - loss: 4152.5666 - mean_squared_error: 4152.5666 - mean_absolute_error: 33.4356 - val_loss: 4167.2583 - val_mean_squared_error: 4167.2583 - val_mean_absolute_error: 33.9846\n",
      "Epoch 464/1000\n",
      "5/5 [==============================] - 0s 9ms/step - loss: 3939.1220 - mean_squared_error: 3939.1220 - mean_absolute_error: 32.9960 - val_loss: 4163.2422 - val_mean_squared_error: 4163.2422 - val_mean_absolute_error: 33.9900\n",
      "Epoch 465/1000\n",
      "5/5 [==============================] - 0s 10ms/step - loss: 4159.5019 - mean_squared_error: 4159.5019 - mean_absolute_error: 33.6568 - val_loss: 4159.4331 - val_mean_squared_error: 4159.4331 - val_mean_absolute_error: 33.9961\n",
      "Epoch 466/1000\n",
      "5/5 [==============================] - 0s 10ms/step - loss: 4044.3201 - mean_squared_error: 4044.3201 - mean_absolute_error: 33.2747 - val_loss: 4155.7388 - val_mean_squared_error: 4155.7388 - val_mean_absolute_error: 34.0012\n",
      "Epoch 467/1000\n",
      "5/5 [==============================] - 0s 10ms/step - loss: 3983.0863 - mean_squared_error: 3983.0863 - mean_absolute_error: 33.1350 - val_loss: 4151.9897 - val_mean_squared_error: 4151.9897 - val_mean_absolute_error: 34.0071\n",
      "Epoch 468/1000\n",
      "5/5 [==============================] - 0s 10ms/step - loss: 3834.3389 - mean_squared_error: 3834.3389 - mean_absolute_error: 32.9701 - val_loss: 4148.1377 - val_mean_squared_error: 4148.1377 - val_mean_absolute_error: 34.0121\n",
      "Epoch 469/1000\n",
      "5/5 [==============================] - 0s 9ms/step - loss: 4076.8950 - mean_squared_error: 4076.8950 - mean_absolute_error: 33.4721 - val_loss: 4144.4561 - val_mean_squared_error: 4144.4561 - val_mean_absolute_error: 34.0182\n",
      "Epoch 470/1000\n",
      "5/5 [==============================] - 0s 9ms/step - loss: 3854.5564 - mean_squared_error: 3854.5565 - mean_absolute_error: 32.9041 - val_loss: 4141.0361 - val_mean_squared_error: 4141.0361 - val_mean_absolute_error: 34.0237\n",
      "Epoch 471/1000\n",
      "5/5 [==============================] - 0s 10ms/step - loss: 4029.8219 - mean_squared_error: 4029.8219 - mean_absolute_error: 33.7222 - val_loss: 4137.1870 - val_mean_squared_error: 4137.1870 - val_mean_absolute_error: 34.0292\n",
      "Epoch 472/1000\n",
      "5/5 [==============================] - 0s 9ms/step - loss: 3994.7059 - mean_squared_error: 3994.7059 - mean_absolute_error: 33.2536 - val_loss: 4133.7642 - val_mean_squared_error: 4133.7642 - val_mean_absolute_error: 34.0349\n",
      "Epoch 473/1000\n",
      "5/5 [==============================] - 0s 9ms/step - loss: 4021.2167 - mean_squared_error: 4021.2167 - mean_absolute_error: 33.6065 - val_loss: 4130.3901 - val_mean_squared_error: 4130.3901 - val_mean_absolute_error: 34.0411\n",
      "Epoch 474/1000\n",
      "5/5 [==============================] - 0s 10ms/step - loss: 4013.2552 - mean_squared_error: 4013.2552 - mean_absolute_error: 33.5284 - val_loss: 4126.6797 - val_mean_squared_error: 4126.6797 - val_mean_absolute_error: 34.0469\n",
      "Epoch 475/1000\n",
      "5/5 [==============================] - 0s 9ms/step - loss: 4019.4672 - mean_squared_error: 4019.4672 - mean_absolute_error: 33.7335 - val_loss: 4123.3447 - val_mean_squared_error: 4123.3447 - val_mean_absolute_error: 34.0532\n",
      "Epoch 476/1000\n",
      "5/5 [==============================] - 0s 9ms/step - loss: 3956.5800 - mean_squared_error: 3956.5800 - mean_absolute_error: 33.1858 - val_loss: 4120.1372 - val_mean_squared_error: 4120.1372 - val_mean_absolute_error: 34.0584\n",
      "Epoch 477/1000\n"
     ]
    },
    {
     "name": "stdout",
     "output_type": "stream",
     "text": [
      "5/5 [==============================] - 0s 9ms/step - loss: 3984.9285 - mean_squared_error: 3984.9285 - mean_absolute_error: 33.4722 - val_loss: 4116.5405 - val_mean_squared_error: 4116.5405 - val_mean_absolute_error: 34.0640\n",
      "Epoch 478/1000\n",
      "5/5 [==============================] - 0s 9ms/step - loss: 3913.8223 - mean_squared_error: 3913.8223 - mean_absolute_error: 33.4195 - val_loss: 4113.5259 - val_mean_squared_error: 4113.5259 - val_mean_absolute_error: 34.0697\n",
      "Epoch 479/1000\n",
      "5/5 [==============================] - 0s 9ms/step - loss: 3885.7421 - mean_squared_error: 3885.7421 - mean_absolute_error: 32.9721 - val_loss: 4109.9663 - val_mean_squared_error: 4109.9663 - val_mean_absolute_error: 34.0753\n",
      "Epoch 480/1000\n",
      "5/5 [==============================] - 0s 10ms/step - loss: 3909.6940 - mean_squared_error: 3909.6940 - mean_absolute_error: 33.3548 - val_loss: 4106.6631 - val_mean_squared_error: 4106.6631 - val_mean_absolute_error: 34.0805\n",
      "Epoch 481/1000\n",
      "5/5 [==============================] - 0s 9ms/step - loss: 4080.4128 - mean_squared_error: 4080.4128 - mean_absolute_error: 33.8374 - val_loss: 4103.4819 - val_mean_squared_error: 4103.4819 - val_mean_absolute_error: 34.0868\n",
      "Epoch 482/1000\n",
      "5/5 [==============================] - 0s 10ms/step - loss: 3917.2722 - mean_squared_error: 3917.2720 - mean_absolute_error: 33.0063 - val_loss: 4100.1328 - val_mean_squared_error: 4100.1328 - val_mean_absolute_error: 34.0924\n",
      "Epoch 483/1000\n",
      "5/5 [==============================] - 0s 10ms/step - loss: 4058.3816 - mean_squared_error: 4058.3816 - mean_absolute_error: 33.4328 - val_loss: 4097.1948 - val_mean_squared_error: 4097.1948 - val_mean_absolute_error: 34.0986\n",
      "Epoch 484/1000\n",
      "5/5 [==============================] - 0s 10ms/step - loss: 4020.9740 - mean_squared_error: 4020.9740 - mean_absolute_error: 33.8841 - val_loss: 4093.9712 - val_mean_squared_error: 4093.9712 - val_mean_absolute_error: 34.1048\n",
      "Epoch 485/1000\n",
      "5/5 [==============================] - 0s 10ms/step - loss: 3890.3824 - mean_squared_error: 3890.3824 - mean_absolute_error: 32.9265 - val_loss: 4090.9102 - val_mean_squared_error: 4090.9102 - val_mean_absolute_error: 34.1112\n",
      "Epoch 486/1000\n",
      "5/5 [==============================] - 0s 10ms/step - loss: 4104.8298 - mean_squared_error: 4104.8298 - mean_absolute_error: 33.9512 - val_loss: 4087.8574 - val_mean_squared_error: 4087.8574 - val_mean_absolute_error: 34.1183\n",
      "Epoch 487/1000\n",
      "5/5 [==============================] - 0s 10ms/step - loss: 3870.9744 - mean_squared_error: 3870.9744 - mean_absolute_error: 33.6234 - val_loss: 4084.5369 - val_mean_squared_error: 4084.5369 - val_mean_absolute_error: 34.1245\n",
      "Epoch 488/1000\n",
      "5/5 [==============================] - 0s 10ms/step - loss: 4045.3619 - mean_squared_error: 4045.3619 - mean_absolute_error: 33.7105 - val_loss: 4081.7432 - val_mean_squared_error: 4081.7432 - val_mean_absolute_error: 34.1318\n",
      "Epoch 489/1000\n",
      "5/5 [==============================] - 0s 10ms/step - loss: 4044.2107 - mean_squared_error: 4044.2107 - mean_absolute_error: 33.9497 - val_loss: 4078.5684 - val_mean_squared_error: 4078.5684 - val_mean_absolute_error: 34.1384\n",
      "Epoch 490/1000\n",
      "5/5 [==============================] - 0s 10ms/step - loss: 3967.4823 - mean_squared_error: 3967.4823 - mean_absolute_error: 33.1154 - val_loss: 4075.6096 - val_mean_squared_error: 4075.6096 - val_mean_absolute_error: 34.1454\n",
      "Epoch 491/1000\n",
      "5/5 [==============================] - 0s 9ms/step - loss: 4045.2699 - mean_squared_error: 4045.2699 - mean_absolute_error: 34.1623 - val_loss: 4072.7456 - val_mean_squared_error: 4072.7456 - val_mean_absolute_error: 34.1520\n",
      "Epoch 492/1000\n",
      "5/5 [==============================] - 0s 10ms/step - loss: 3949.4610 - mean_squared_error: 3949.4610 - mean_absolute_error: 33.3293 - val_loss: 4069.6633 - val_mean_squared_error: 4069.6633 - val_mean_absolute_error: 34.1588\n",
      "Epoch 493/1000\n",
      "5/5 [==============================] - 0s 10ms/step - loss: 3895.5601 - mean_squared_error: 3895.5601 - mean_absolute_error: 33.1913 - val_loss: 4067.0481 - val_mean_squared_error: 4067.0481 - val_mean_absolute_error: 34.1652\n",
      "Epoch 494/1000\n",
      "5/5 [==============================] - 0s 10ms/step - loss: 3897.8714 - mean_squared_error: 3897.8714 - mean_absolute_error: 33.7930 - val_loss: 4063.8879 - val_mean_squared_error: 4063.8879 - val_mean_absolute_error: 34.1719\n",
      "Epoch 495/1000\n",
      "5/5 [==============================] - 0s 10ms/step - loss: 3974.3184 - mean_squared_error: 3974.3184 - mean_absolute_error: 33.6921 - val_loss: 4061.5271 - val_mean_squared_error: 4061.5271 - val_mean_absolute_error: 34.1786\n",
      "Epoch 496/1000\n",
      "5/5 [==============================] - 0s 10ms/step - loss: 3977.4507 - mean_squared_error: 3977.4507 - mean_absolute_error: 33.8951 - val_loss: 4058.4316 - val_mean_squared_error: 4058.4316 - val_mean_absolute_error: 34.1849\n",
      "Epoch 497/1000\n",
      "5/5 [==============================] - 0s 9ms/step - loss: 3954.3652 - mean_squared_error: 3954.3652 - mean_absolute_error: 33.6910 - val_loss: 4056.0090 - val_mean_squared_error: 4056.0090 - val_mean_absolute_error: 34.1912\n",
      "Epoch 498/1000\n",
      "5/5 [==============================] - 0s 10ms/step - loss: 4019.5238 - mean_squared_error: 4019.5238 - mean_absolute_error: 34.3780 - val_loss: 4052.9326 - val_mean_squared_error: 4052.9326 - val_mean_absolute_error: 34.1978\n",
      "Epoch 499/1000\n",
      "5/5 [==============================] - 0s 9ms/step - loss: 3730.2234 - mean_squared_error: 3730.2234 - mean_absolute_error: 33.1460 - val_loss: 4050.5640 - val_mean_squared_error: 4050.5640 - val_mean_absolute_error: 34.2042\n",
      "Epoch 500/1000\n",
      "5/5 [==============================] - 0s 10ms/step - loss: 4060.5359 - mean_squared_error: 4060.5359 - mean_absolute_error: 34.0643 - val_loss: 4047.6594 - val_mean_squared_error: 4047.6594 - val_mean_absolute_error: 34.2107\n",
      "Epoch 501/1000\n",
      "5/5 [==============================] - 0s 10ms/step - loss: 3778.8230 - mean_squared_error: 3778.8230 - mean_absolute_error: 33.0975 - val_loss: 4045.2026 - val_mean_squared_error: 4045.2026 - val_mean_absolute_error: 34.2173\n",
      "Epoch 502/1000\n",
      "5/5 [==============================] - 0s 9ms/step - loss: 3819.5955 - mean_squared_error: 3819.5955 - mean_absolute_error: 33.0538 - val_loss: 4042.3745 - val_mean_squared_error: 4042.3745 - val_mean_absolute_error: 34.2237\n",
      "Epoch 503/1000\n",
      "5/5 [==============================] - 0s 10ms/step - loss: 4015.6235 - mean_squared_error: 4015.6235 - mean_absolute_error: 34.1851 - val_loss: 4040.0598 - val_mean_squared_error: 4040.0598 - val_mean_absolute_error: 34.2304\n",
      "Epoch 504/1000\n",
      "5/5 [==============================] - 0s 9ms/step - loss: 3914.4763 - mean_squared_error: 3914.4763 - mean_absolute_error: 33.4440 - val_loss: 4037.2173 - val_mean_squared_error: 4037.2173 - val_mean_absolute_error: 34.2370\n",
      "Epoch 505/1000\n",
      "5/5 [==============================] - 0s 10ms/step - loss: 3966.2712 - mean_squared_error: 3966.2712 - mean_absolute_error: 33.5904 - val_loss: 4034.8381 - val_mean_squared_error: 4034.8381 - val_mean_absolute_error: 34.2437\n",
      "Epoch 506/1000\n",
      "5/5 [==============================] - 0s 10ms/step - loss: 3877.6484 - mean_squared_error: 3877.6484 - mean_absolute_error: 33.4982 - val_loss: 4032.1318 - val_mean_squared_error: 4032.1318 - val_mean_absolute_error: 34.2498\n",
      "Epoch 507/1000\n",
      "5/5 [==============================] - 0s 10ms/step - loss: 3950.5515 - mean_squared_error: 3950.5515 - mean_absolute_error: 34.0922 - val_loss: 4029.9377 - val_mean_squared_error: 4029.9377 - val_mean_absolute_error: 34.2559\n",
      "Epoch 508/1000\n",
      "5/5 [==============================] - 0s 10ms/step - loss: 3753.6486 - mean_squared_error: 3753.6486 - mean_absolute_error: 33.5296 - val_loss: 4027.4116 - val_mean_squared_error: 4027.4116 - val_mean_absolute_error: 34.2619\n",
      "Epoch 509/1000\n",
      "5/5 [==============================] - 0s 10ms/step - loss: 3928.7756 - mean_squared_error: 3928.7756 - mean_absolute_error: 34.0336 - val_loss: 4025.0747 - val_mean_squared_error: 4025.0747 - val_mean_absolute_error: 34.2681\n",
      "Epoch 510/1000\n",
      "5/5 [==============================] - 0s 10ms/step - loss: 3926.6865 - mean_squared_error: 3926.6865 - mean_absolute_error: 33.6807 - val_loss: 4022.5979 - val_mean_squared_error: 4022.5979 - val_mean_absolute_error: 34.2743\n",
      "Epoch 511/1000\n",
      "5/5 [==============================] - 0s 10ms/step - loss: 3889.9430 - mean_squared_error: 3889.9430 - mean_absolute_error: 33.7088 - val_loss: 4020.2522 - val_mean_squared_error: 4020.2522 - val_mean_absolute_error: 34.2808\n",
      "Epoch 512/1000\n",
      "5/5 [==============================] - 0s 10ms/step - loss: 3843.4513 - mean_squared_error: 3843.4513 - mean_absolute_error: 33.7435 - val_loss: 4017.7080 - val_mean_squared_error: 4017.7080 - val_mean_absolute_error: 34.2871\n",
      "Epoch 513/1000\n",
      "5/5 [==============================] - 0s 10ms/step - loss: 3961.7826 - mean_squared_error: 3961.7826 - mean_absolute_error: 33.7052 - val_loss: 4015.5769 - val_mean_squared_error: 4015.5769 - val_mean_absolute_error: 34.2930\n",
      "Epoch 514/1000\n",
      "5/5 [==============================] - 0s 9ms/step - loss: 3866.8037 - mean_squared_error: 3866.8037 - mean_absolute_error: 33.5170 - val_loss: 4013.4939 - val_mean_squared_error: 4013.4939 - val_mean_absolute_error: 34.2990\n",
      "Epoch 515/1000\n",
      "5/5 [==============================] - 0s 10ms/step - loss: 3774.9786 - mean_squared_error: 3774.9786 - mean_absolute_error: 33.1782 - val_loss: 4011.0164 - val_mean_squared_error: 4011.0164 - val_mean_absolute_error: 34.3051\n",
      "Epoch 516/1000\n",
      "5/5 [==============================] - 0s 10ms/step - loss: 3840.0277 - mean_squared_error: 3840.0277 - mean_absolute_error: 33.1932 - val_loss: 4008.8918 - val_mean_squared_error: 4008.8918 - val_mean_absolute_error: 34.3116\n",
      "Epoch 517/1000\n",
      "5/5 [==============================] - 0s 10ms/step - loss: 3701.9018 - mean_squared_error: 3701.9018 - mean_absolute_error: 33.1508 - val_loss: 4006.5498 - val_mean_squared_error: 4006.5498 - val_mean_absolute_error: 34.3176\n",
      "Epoch 518/1000\n",
      "5/5 [==============================] - 0s 9ms/step - loss: 3841.7856 - mean_squared_error: 3841.7856 - mean_absolute_error: 33.4914 - val_loss: 4004.2637 - val_mean_squared_error: 4004.2637 - val_mean_absolute_error: 34.3240\n",
      "Epoch 519/1000\n",
      "5/5 [==============================] - 0s 10ms/step - loss: 3963.5938 - mean_squared_error: 3963.5938 - mean_absolute_error: 34.0221 - val_loss: 4002.0566 - val_mean_squared_error: 4002.0566 - val_mean_absolute_error: 34.3303\n",
      "Epoch 520/1000\n",
      "5/5 [==============================] - 0s 10ms/step - loss: 3854.0553 - mean_squared_error: 3854.0553 - mean_absolute_error: 33.6800 - val_loss: 3999.9080 - val_mean_squared_error: 3999.9080 - val_mean_absolute_error: 34.3364\n",
      "Epoch 521/1000\n",
      "5/5 [==============================] - 0s 9ms/step - loss: 3650.0148 - mean_squared_error: 3650.0148 - mean_absolute_error: 32.6753 - val_loss: 3997.8831 - val_mean_squared_error: 3997.8831 - val_mean_absolute_error: 34.3418\n",
      "Epoch 522/1000\n",
      "5/5 [==============================] - 0s 10ms/step - loss: 3904.3407 - mean_squared_error: 3904.3407 - mean_absolute_error: 33.8148 - val_loss: 3995.7827 - val_mean_squared_error: 3995.7827 - val_mean_absolute_error: 34.3474\n",
      "Epoch 523/1000\n",
      "5/5 [==============================] - 0s 9ms/step - loss: 3615.6261 - mean_squared_error: 3615.6261 - mean_absolute_error: 32.4305 - val_loss: 3993.7397 - val_mean_squared_error: 3993.7397 - val_mean_absolute_error: 34.3523\n",
      "Epoch 524/1000\n",
      "5/5 [==============================] - 0s 10ms/step - loss: 3894.4913 - mean_squared_error: 3894.4913 - mean_absolute_error: 34.0730 - val_loss: 3991.9509 - val_mean_squared_error: 3991.9509 - val_mean_absolute_error: 34.3578\n",
      "Epoch 525/1000\n",
      "5/5 [==============================] - 0s 10ms/step - loss: 3830.2853 - mean_squared_error: 3830.2853 - mean_absolute_error: 33.4697 - val_loss: 3989.7822 - val_mean_squared_error: 3989.7822 - val_mean_absolute_error: 34.3630\n",
      "Epoch 526/1000\n",
      "5/5 [==============================] - 0s 10ms/step - loss: 3810.1904 - mean_squared_error: 3810.1904 - mean_absolute_error: 33.3079 - val_loss: 3987.7947 - val_mean_squared_error: 3987.7947 - val_mean_absolute_error: 34.3685\n",
      "Epoch 527/1000\n",
      "5/5 [==============================] - 0s 10ms/step - loss: 4049.6156 - mean_squared_error: 4049.6156 - mean_absolute_error: 34.4466 - val_loss: 3985.6357 - val_mean_squared_error: 3985.6357 - val_mean_absolute_error: 34.3747\n",
      "Epoch 528/1000\n",
      "5/5 [==============================] - 0s 10ms/step - loss: 3766.7971 - mean_squared_error: 3766.7971 - mean_absolute_error: 33.2719 - val_loss: 3983.8247 - val_mean_squared_error: 3983.8247 - val_mean_absolute_error: 34.3798\n",
      "Epoch 529/1000\n",
      "5/5 [==============================] - 0s 9ms/step - loss: 3774.2616 - mean_squared_error: 3774.2616 - mean_absolute_error: 33.5903 - val_loss: 3981.9883 - val_mean_squared_error: 3981.9883 - val_mean_absolute_error: 34.3849\n",
      "Epoch 530/1000\n",
      "5/5 [==============================] - 0s 9ms/step - loss: 3779.2970 - mean_squared_error: 3779.2970 - mean_absolute_error: 33.1293 - val_loss: 3979.9304 - val_mean_squared_error: 3979.9304 - val_mean_absolute_error: 34.3900\n",
      "Epoch 531/1000\n",
      "5/5 [==============================] - 0s 9ms/step - loss: 3779.8023 - mean_squared_error: 3779.8023 - mean_absolute_error: 33.3727 - val_loss: 3978.2834 - val_mean_squared_error: 3978.2834 - val_mean_absolute_error: 34.3944\n",
      "Epoch 532/1000\n",
      "5/5 [==============================] - 0s 10ms/step - loss: 3992.1887 - mean_squared_error: 3992.1887 - mean_absolute_error: 34.3356 - val_loss: 3976.3574 - val_mean_squared_error: 3976.3574 - val_mean_absolute_error: 34.3998\n",
      "Epoch 533/1000\n",
      "5/5 [==============================] - 0s 10ms/step - loss: 3805.2840 - mean_squared_error: 3805.2840 - mean_absolute_error: 33.4849 - val_loss: 3974.3423 - val_mean_squared_error: 3974.3423 - val_mean_absolute_error: 34.4044\n",
      "Epoch 534/1000\n",
      "5/5 [==============================] - 0s 10ms/step - loss: 3766.7160 - mean_squared_error: 3766.7160 - mean_absolute_error: 33.3325 - val_loss: 3972.7410 - val_mean_squared_error: 3972.7410 - val_mean_absolute_error: 34.4090\n",
      "Epoch 535/1000\n",
      "5/5 [==============================] - 0s 10ms/step - loss: 3462.7132 - mean_squared_error: 3462.7132 - mean_absolute_error: 32.2821 - val_loss: 3971.0850 - val_mean_squared_error: 3971.0850 - val_mean_absolute_error: 34.4132\n",
      "Epoch 536/1000\n",
      "5/5 [==============================] - 0s 9ms/step - loss: 4006.8225 - mean_squared_error: 4006.8225 - mean_absolute_error: 34.5114 - val_loss: 3969.2190 - val_mean_squared_error: 3969.2190 - val_mean_absolute_error: 34.4186\n",
      "Epoch 537/1000\n",
      "5/5 [==============================] - 0s 9ms/step - loss: 3877.9831 - mean_squared_error: 3877.9831 - mean_absolute_error: 33.9484 - val_loss: 3967.3523 - val_mean_squared_error: 3967.3523 - val_mean_absolute_error: 34.4232\n",
      "Epoch 538/1000\n",
      "5/5 [==============================] - 0s 9ms/step - loss: 3851.9151 - mean_squared_error: 3851.9151 - mean_absolute_error: 34.0381 - val_loss: 3965.6902 - val_mean_squared_error: 3965.6902 - val_mean_absolute_error: 34.4277\n",
      "Epoch 539/1000\n",
      "5/5 [==============================] - 0s 10ms/step - loss: 3787.5680 - mean_squared_error: 3787.5680 - mean_absolute_error: 33.6095 - val_loss: 3964.1392 - val_mean_squared_error: 3964.1392 - val_mean_absolute_error: 34.4316\n",
      "Epoch 540/1000\n",
      "5/5 [==============================] - 0s 9ms/step - loss: 3702.6735 - mean_squared_error: 3702.6735 - mean_absolute_error: 33.2490 - val_loss: 3962.1152 - val_mean_squared_error: 3962.1152 - val_mean_absolute_error: 34.4362\n",
      "Epoch 541/1000\n",
      "5/5 [==============================] - 0s 9ms/step - loss: 3858.2330 - mean_squared_error: 3858.2330 - mean_absolute_error: 33.6162 - val_loss: 3960.5825 - val_mean_squared_error: 3960.5825 - val_mean_absolute_error: 34.4402\n",
      "Epoch 542/1000\n",
      "5/5 [==============================] - 0s 9ms/step - loss: 3709.6930 - mean_squared_error: 3709.6930 - mean_absolute_error: 33.6340 - val_loss: 3958.9871 - val_mean_squared_error: 3958.9871 - val_mean_absolute_error: 34.4441\n",
      "Epoch 543/1000\n",
      "5/5 [==============================] - 0s 10ms/step - loss: 3780.1860 - mean_squared_error: 3780.1860 - mean_absolute_error: 33.5993 - val_loss: 3957.4971 - val_mean_squared_error: 3957.4971 - val_mean_absolute_error: 34.4476\n",
      "Epoch 544/1000\n",
      "5/5 [==============================] - 0s 10ms/step - loss: 3807.1206 - mean_squared_error: 3807.1206 - mean_absolute_error: 33.6225 - val_loss: 3955.6472 - val_mean_squared_error: 3955.6472 - val_mean_absolute_error: 34.4516\n",
      "Epoch 545/1000\n"
     ]
    },
    {
     "name": "stdout",
     "output_type": "stream",
     "text": [
      "5/5 [==============================] - 0s 10ms/step - loss: 3929.3358 - mean_squared_error: 3929.3358 - mean_absolute_error: 33.8334 - val_loss: 3954.0813 - val_mean_squared_error: 3954.0813 - val_mean_absolute_error: 34.4557\n",
      "Epoch 546/1000\n",
      "5/5 [==============================] - 0s 10ms/step - loss: 3615.1615 - mean_squared_error: 3615.1615 - mean_absolute_error: 33.2577 - val_loss: 3952.6335 - val_mean_squared_error: 3952.6335 - val_mean_absolute_error: 34.4592\n",
      "Epoch 547/1000\n",
      "5/5 [==============================] - 0s 10ms/step - loss: 3889.2951 - mean_squared_error: 3889.2949 - mean_absolute_error: 33.8689 - val_loss: 3951.0950 - val_mean_squared_error: 3951.0950 - val_mean_absolute_error: 34.4631\n",
      "Epoch 548/1000\n",
      "5/5 [==============================] - 0s 10ms/step - loss: 3765.2036 - mean_squared_error: 3765.2036 - mean_absolute_error: 33.9163 - val_loss: 3949.3767 - val_mean_squared_error: 3949.3767 - val_mean_absolute_error: 34.4671\n",
      "Epoch 549/1000\n",
      "5/5 [==============================] - 0s 9ms/step - loss: 3733.5378 - mean_squared_error: 3733.5378 - mean_absolute_error: 33.5386 - val_loss: 3947.8987 - val_mean_squared_error: 3947.8987 - val_mean_absolute_error: 34.4704\n",
      "Epoch 550/1000\n",
      "5/5 [==============================] - 0s 12ms/step - loss: 3702.0378 - mean_squared_error: 3702.0378 - mean_absolute_error: 33.3210 - val_loss: 3946.5203 - val_mean_squared_error: 3946.5203 - val_mean_absolute_error: 34.4735\n",
      "Epoch 551/1000\n",
      "5/5 [==============================] - 0s 10ms/step - loss: 4000.1633 - mean_squared_error: 4000.1633 - mean_absolute_error: 34.7535 - val_loss: 3945.0349 - val_mean_squared_error: 3945.0349 - val_mean_absolute_error: 34.4776\n",
      "Epoch 552/1000\n",
      "5/5 [==============================] - 0s 10ms/step - loss: 3779.4603 - mean_squared_error: 3779.4603 - mean_absolute_error: 33.5734 - val_loss: 3943.6782 - val_mean_squared_error: 3943.6782 - val_mean_absolute_error: 34.4803\n",
      "Epoch 553/1000\n",
      "5/5 [==============================] - 0s 9ms/step - loss: 3715.0658 - mean_squared_error: 3715.0658 - mean_absolute_error: 33.5267 - val_loss: 3942.1992 - val_mean_squared_error: 3942.1992 - val_mean_absolute_error: 34.4828\n",
      "Epoch 554/1000\n",
      "5/5 [==============================] - 0s 10ms/step - loss: 3930.6731 - mean_squared_error: 3930.6731 - mean_absolute_error: 33.9052 - val_loss: 3940.5527 - val_mean_squared_error: 3940.5527 - val_mean_absolute_error: 34.4865\n",
      "Epoch 555/1000\n",
      "5/5 [==============================] - 0s 9ms/step - loss: 3962.8872 - mean_squared_error: 3962.8872 - mean_absolute_error: 34.5776 - val_loss: 3939.3027 - val_mean_squared_error: 3939.3027 - val_mean_absolute_error: 34.4893\n",
      "Epoch 556/1000\n",
      "5/5 [==============================] - 0s 10ms/step - loss: 3857.6979 - mean_squared_error: 3857.6979 - mean_absolute_error: 34.1530 - val_loss: 3938.0095 - val_mean_squared_error: 3938.0095 - val_mean_absolute_error: 34.4921\n",
      "Epoch 557/1000\n",
      "5/5 [==============================] - 0s 9ms/step - loss: 3760.6137 - mean_squared_error: 3760.6137 - mean_absolute_error: 33.8633 - val_loss: 3936.6204 - val_mean_squared_error: 3936.6204 - val_mean_absolute_error: 34.4950\n",
      "Epoch 558/1000\n",
      "5/5 [==============================] - 0s 10ms/step - loss: 3714.1772 - mean_squared_error: 3714.1772 - mean_absolute_error: 33.3568 - val_loss: 3935.2903 - val_mean_squared_error: 3935.2903 - val_mean_absolute_error: 34.4979\n",
      "Epoch 559/1000\n",
      "5/5 [==============================] - 0s 10ms/step - loss: 3859.8871 - mean_squared_error: 3859.8868 - mean_absolute_error: 34.0326 - val_loss: 3933.7783 - val_mean_squared_error: 3933.7783 - val_mean_absolute_error: 34.5017\n",
      "Epoch 560/1000\n",
      "5/5 [==============================] - 0s 10ms/step - loss: 3805.3601 - mean_squared_error: 3805.3601 - mean_absolute_error: 33.7394 - val_loss: 3932.3909 - val_mean_squared_error: 3932.3909 - val_mean_absolute_error: 34.5043\n",
      "Epoch 561/1000\n",
      "5/5 [==============================] - 0s 10ms/step - loss: 3818.4026 - mean_squared_error: 3818.4027 - mean_absolute_error: 33.8006 - val_loss: 3931.1912 - val_mean_squared_error: 3931.1912 - val_mean_absolute_error: 34.5068\n",
      "Epoch 562/1000\n",
      "5/5 [==============================] - 0s 10ms/step - loss: 3765.3794 - mean_squared_error: 3765.3796 - mean_absolute_error: 33.7529 - val_loss: 3929.7698 - val_mean_squared_error: 3929.7698 - val_mean_absolute_error: 34.5097\n",
      "Epoch 563/1000\n",
      "5/5 [==============================] - 0s 10ms/step - loss: 3688.0358 - mean_squared_error: 3688.0358 - mean_absolute_error: 33.2206 - val_loss: 3928.6182 - val_mean_squared_error: 3928.6182 - val_mean_absolute_error: 34.5116\n",
      "Epoch 564/1000\n",
      "5/5 [==============================] - 0s 9ms/step - loss: 3733.9178 - mean_squared_error: 3733.9178 - mean_absolute_error: 33.4680 - val_loss: 3927.2625 - val_mean_squared_error: 3927.2625 - val_mean_absolute_error: 34.5147\n",
      "Epoch 565/1000\n",
      "5/5 [==============================] - 0s 10ms/step - loss: 3750.1503 - mean_squared_error: 3750.1503 - mean_absolute_error: 33.9472 - val_loss: 3925.8652 - val_mean_squared_error: 3925.8652 - val_mean_absolute_error: 34.5175\n",
      "Epoch 566/1000\n",
      "5/5 [==============================] - 0s 10ms/step - loss: 3715.5577 - mean_squared_error: 3715.5577 - mean_absolute_error: 33.5746 - val_loss: 3924.7544 - val_mean_squared_error: 3924.7544 - val_mean_absolute_error: 34.5194\n",
      "Epoch 567/1000\n",
      "5/5 [==============================] - 0s 10ms/step - loss: 3651.4503 - mean_squared_error: 3651.4503 - mean_absolute_error: 33.8742 - val_loss: 3923.4609 - val_mean_squared_error: 3923.4609 - val_mean_absolute_error: 34.5223\n",
      "Epoch 568/1000\n",
      "5/5 [==============================] - 0s 10ms/step - loss: 3887.7392 - mean_squared_error: 3887.7392 - mean_absolute_error: 34.2945 - val_loss: 3922.1702 - val_mean_squared_error: 3922.1702 - val_mean_absolute_error: 34.5259\n",
      "Epoch 569/1000\n",
      "5/5 [==============================] - 0s 10ms/step - loss: 3742.8694 - mean_squared_error: 3742.8694 - mean_absolute_error: 33.9636 - val_loss: 3921.0989 - val_mean_squared_error: 3921.0989 - val_mean_absolute_error: 34.5277\n",
      "Epoch 570/1000\n",
      "5/5 [==============================] - 0s 10ms/step - loss: 3873.1668 - mean_squared_error: 3873.1668 - mean_absolute_error: 34.1915 - val_loss: 3919.9377 - val_mean_squared_error: 3919.9377 - val_mean_absolute_error: 34.5301\n",
      "Epoch 571/1000\n",
      "5/5 [==============================] - 0s 10ms/step - loss: 3972.5671 - mean_squared_error: 3972.5671 - mean_absolute_error: 34.9186 - val_loss: 3918.7676 - val_mean_squared_error: 3918.7676 - val_mean_absolute_error: 34.5329\n",
      "Epoch 572/1000\n",
      "5/5 [==============================] - 0s 10ms/step - loss: 3931.9289 - mean_squared_error: 3931.9289 - mean_absolute_error: 34.2538 - val_loss: 3917.5129 - val_mean_squared_error: 3917.5129 - val_mean_absolute_error: 34.5348\n",
      "Epoch 573/1000\n",
      "5/5 [==============================] - 0s 10ms/step - loss: 3784.9303 - mean_squared_error: 3784.9303 - mean_absolute_error: 34.1486 - val_loss: 3916.3523 - val_mean_squared_error: 3916.3523 - val_mean_absolute_error: 34.5370\n",
      "Epoch 574/1000\n",
      "5/5 [==============================] - 0s 10ms/step - loss: 3701.4299 - mean_squared_error: 3701.4299 - mean_absolute_error: 33.5217 - val_loss: 3915.1443 - val_mean_squared_error: 3915.1443 - val_mean_absolute_error: 34.5394\n",
      "Epoch 575/1000\n",
      "5/5 [==============================] - 0s 10ms/step - loss: 3634.3582 - mean_squared_error: 3634.3583 - mean_absolute_error: 33.5082 - val_loss: 3914.0481 - val_mean_squared_error: 3914.0481 - val_mean_absolute_error: 34.5412\n",
      "Epoch 576/1000\n",
      "5/5 [==============================] - 0s 9ms/step - loss: 3645.5992 - mean_squared_error: 3645.5992 - mean_absolute_error: 33.4912 - val_loss: 3913.0383 - val_mean_squared_error: 3913.0383 - val_mean_absolute_error: 34.5424\n",
      "Epoch 577/1000\n",
      "5/5 [==============================] - 0s 9ms/step - loss: 3787.3309 - mean_squared_error: 3787.3308 - mean_absolute_error: 33.8435 - val_loss: 3911.9519 - val_mean_squared_error: 3911.9519 - val_mean_absolute_error: 34.5440\n",
      "Epoch 578/1000\n",
      "5/5 [==============================] - 0s 10ms/step - loss: 4005.8792 - mean_squared_error: 4005.8792 - mean_absolute_error: 34.6307 - val_loss: 3910.8562 - val_mean_squared_error: 3910.8562 - val_mean_absolute_error: 34.5463\n",
      "Epoch 579/1000\n",
      "5/5 [==============================] - 0s 10ms/step - loss: 3802.7257 - mean_squared_error: 3802.7257 - mean_absolute_error: 34.0427 - val_loss: 3909.8665 - val_mean_squared_error: 3909.8665 - val_mean_absolute_error: 34.5476\n",
      "Epoch 580/1000\n",
      "5/5 [==============================] - 0s 11ms/step - loss: 3611.8312 - mean_squared_error: 3611.8312 - mean_absolute_error: 33.2503 - val_loss: 3908.8218 - val_mean_squared_error: 3908.8218 - val_mean_absolute_error: 34.5483\n",
      "Epoch 581/1000\n",
      "5/5 [==============================] - 0s 10ms/step - loss: 3856.0052 - mean_squared_error: 3856.0052 - mean_absolute_error: 34.3823 - val_loss: 3907.6687 - val_mean_squared_error: 3907.6687 - val_mean_absolute_error: 34.5501\n",
      "Epoch 582/1000\n",
      "5/5 [==============================] - 0s 9ms/step - loss: 3682.2713 - mean_squared_error: 3682.2715 - mean_absolute_error: 33.7140 - val_loss: 3906.6082 - val_mean_squared_error: 3906.6082 - val_mean_absolute_error: 34.5518\n",
      "Epoch 583/1000\n",
      "5/5 [==============================] - 0s 9ms/step - loss: 3803.6113 - mean_squared_error: 3803.6113 - mean_absolute_error: 33.8064 - val_loss: 3905.6169 - val_mean_squared_error: 3905.6169 - val_mean_absolute_error: 34.5534\n",
      "Epoch 584/1000\n",
      "5/5 [==============================] - 0s 10ms/step - loss: 3759.9854 - mean_squared_error: 3759.9854 - mean_absolute_error: 33.6594 - val_loss: 3904.5894 - val_mean_squared_error: 3904.5889 - val_mean_absolute_error: 34.5548\n",
      "Epoch 585/1000\n",
      "5/5 [==============================] - 0s 10ms/step - loss: 3689.4128 - mean_squared_error: 3689.4128 - mean_absolute_error: 33.5898 - val_loss: 3903.3547 - val_mean_squared_error: 3903.3552 - val_mean_absolute_error: 34.5569\n",
      "Epoch 586/1000\n",
      "5/5 [==============================] - 0s 10ms/step - loss: 3767.5885 - mean_squared_error: 3767.5885 - mean_absolute_error: 33.9711 - val_loss: 3902.3416 - val_mean_squared_error: 3902.3416 - val_mean_absolute_error: 34.5581\n",
      "Epoch 587/1000\n",
      "5/5 [==============================] - 0s 10ms/step - loss: 3745.1371 - mean_squared_error: 3745.1371 - mean_absolute_error: 33.9254 - val_loss: 3901.3921 - val_mean_squared_error: 3901.3921 - val_mean_absolute_error: 34.5591\n",
      "Epoch 588/1000\n",
      "5/5 [==============================] - 0s 9ms/step - loss: 3607.5662 - mean_squared_error: 3607.5665 - mean_absolute_error: 33.4554 - val_loss: 3900.4915 - val_mean_squared_error: 3900.4915 - val_mean_absolute_error: 34.5592\n",
      "Epoch 589/1000\n",
      "5/5 [==============================] - 0s 9ms/step - loss: 3573.6799 - mean_squared_error: 3573.6799 - mean_absolute_error: 33.0258 - val_loss: 3899.4331 - val_mean_squared_error: 3899.4331 - val_mean_absolute_error: 34.5606\n",
      "Epoch 590/1000\n",
      "5/5 [==============================] - 0s 9ms/step - loss: 3799.1425 - mean_squared_error: 3799.1425 - mean_absolute_error: 34.0942 - val_loss: 3898.5078 - val_mean_squared_error: 3898.5078 - val_mean_absolute_error: 34.5620\n",
      "Epoch 591/1000\n",
      "5/5 [==============================] - 0s 10ms/step - loss: 3655.8206 - mean_squared_error: 3655.8206 - mean_absolute_error: 33.8229 - val_loss: 3897.5300 - val_mean_squared_error: 3897.5300 - val_mean_absolute_error: 34.5634\n",
      "Epoch 592/1000\n",
      "5/5 [==============================] - 0s 10ms/step - loss: 3849.4452 - mean_squared_error: 3849.4452 - mean_absolute_error: 34.1272 - val_loss: 3896.6294 - val_mean_squared_error: 3896.6294 - val_mean_absolute_error: 34.5642\n",
      "Epoch 593/1000\n",
      "5/5 [==============================] - 0s 10ms/step - loss: 3660.0776 - mean_squared_error: 3660.0776 - mean_absolute_error: 33.2707 - val_loss: 3895.7539 - val_mean_squared_error: 3895.7539 - val_mean_absolute_error: 34.5638\n",
      "Epoch 594/1000\n",
      "5/5 [==============================] - 0s 10ms/step - loss: 3893.9766 - mean_squared_error: 3893.9766 - mean_absolute_error: 34.5033 - val_loss: 3894.8083 - val_mean_squared_error: 3894.8083 - val_mean_absolute_error: 34.5642\n",
      "Epoch 595/1000\n",
      "5/5 [==============================] - 0s 10ms/step - loss: 3679.8792 - mean_squared_error: 3679.8792 - mean_absolute_error: 33.9094 - val_loss: 3893.9524 - val_mean_squared_error: 3893.9524 - val_mean_absolute_error: 34.5636\n",
      "Epoch 596/1000\n",
      "5/5 [==============================] - 0s 9ms/step - loss: 3756.3105 - mean_squared_error: 3756.3105 - mean_absolute_error: 33.9463 - val_loss: 3892.9468 - val_mean_squared_error: 3892.9468 - val_mean_absolute_error: 34.5642\n",
      "Epoch 597/1000\n",
      "5/5 [==============================] - 0s 10ms/step - loss: 3821.7286 - mean_squared_error: 3821.7286 - mean_absolute_error: 34.0745 - val_loss: 3892.1375 - val_mean_squared_error: 3892.1370 - val_mean_absolute_error: 34.5642\n",
      "Epoch 598/1000\n",
      "5/5 [==============================] - 0s 10ms/step - loss: 3713.5484 - mean_squared_error: 3713.5484 - mean_absolute_error: 33.7440 - val_loss: 3891.2173 - val_mean_squared_error: 3891.2170 - val_mean_absolute_error: 34.5646\n",
      "Epoch 599/1000\n",
      "5/5 [==============================] - 0s 10ms/step - loss: 3797.9885 - mean_squared_error: 3797.9885 - mean_absolute_error: 34.1233 - val_loss: 3890.3044 - val_mean_squared_error: 3890.3044 - val_mean_absolute_error: 34.5645\n",
      "Epoch 600/1000\n",
      "5/5 [==============================] - 0s 10ms/step - loss: 3864.0648 - mean_squared_error: 3864.0648 - mean_absolute_error: 34.1386 - val_loss: 3889.4631 - val_mean_squared_error: 3889.4631 - val_mean_absolute_error: 34.5647\n",
      "Epoch 601/1000\n",
      "5/5 [==============================] - 0s 9ms/step - loss: 3720.4729 - mean_squared_error: 3720.4729 - mean_absolute_error: 33.8999 - val_loss: 3888.5759 - val_mean_squared_error: 3888.5759 - val_mean_absolute_error: 34.5646\n",
      "Epoch 602/1000\n",
      "5/5 [==============================] - 0s 10ms/step - loss: 3695.5358 - mean_squared_error: 3695.5358 - mean_absolute_error: 33.6667 - val_loss: 3887.7263 - val_mean_squared_error: 3887.7263 - val_mean_absolute_error: 34.5650\n",
      "Epoch 603/1000\n",
      "5/5 [==============================] - 0s 10ms/step - loss: 3794.4331 - mean_squared_error: 3794.4331 - mean_absolute_error: 33.9339 - val_loss: 3886.8438 - val_mean_squared_error: 3886.8438 - val_mean_absolute_error: 34.5650\n",
      "Epoch 604/1000\n",
      "5/5 [==============================] - 0s 10ms/step - loss: 3710.3590 - mean_squared_error: 3710.3590 - mean_absolute_error: 34.0774 - val_loss: 3886.1890 - val_mean_squared_error: 3886.1890 - val_mean_absolute_error: 34.5631\n",
      "Epoch 605/1000\n",
      "5/5 [==============================] - 0s 9ms/step - loss: 3720.3670 - mean_squared_error: 3720.3671 - mean_absolute_error: 33.7571 - val_loss: 3885.3152 - val_mean_squared_error: 3885.3152 - val_mean_absolute_error: 34.5633\n",
      "Epoch 606/1000\n",
      "5/5 [==============================] - 0s 9ms/step - loss: 3579.9730 - mean_squared_error: 3579.9730 - mean_absolute_error: 32.8452 - val_loss: 3884.4634 - val_mean_squared_error: 3884.4634 - val_mean_absolute_error: 34.5625\n",
      "Epoch 607/1000\n",
      "5/5 [==============================] - 0s 9ms/step - loss: 3824.7226 - mean_squared_error: 3824.7226 - mean_absolute_error: 34.1869 - val_loss: 3883.6619 - val_mean_squared_error: 3883.6619 - val_mean_absolute_error: 34.5623\n",
      "Epoch 608/1000\n",
      "5/5 [==============================] - 0s 9ms/step - loss: 3541.5480 - mean_squared_error: 3541.5480 - mean_absolute_error: 32.9221 - val_loss: 3883.0027 - val_mean_squared_error: 3883.0029 - val_mean_absolute_error: 34.5608\n",
      "Epoch 609/1000\n",
      "5/5 [==============================] - 0s 9ms/step - loss: 3608.9012 - mean_squared_error: 3608.9012 - mean_absolute_error: 33.5801 - val_loss: 3882.2793 - val_mean_squared_error: 3882.2793 - val_mean_absolute_error: 34.5601\n",
      "Epoch 610/1000\n",
      "5/5 [==============================] - 0s 9ms/step - loss: 3720.4709 - mean_squared_error: 3720.4710 - mean_absolute_error: 33.9149 - val_loss: 3881.3740 - val_mean_squared_error: 3881.3740 - val_mean_absolute_error: 34.5599\n",
      "Epoch 611/1000\n",
      "5/5 [==============================] - 0s 9ms/step - loss: 3516.9223 - mean_squared_error: 3516.9223 - mean_absolute_error: 32.5387 - val_loss: 3880.6606 - val_mean_squared_error: 3880.6606 - val_mean_absolute_error: 34.5590\n",
      "Epoch 612/1000\n",
      "5/5 [==============================] - 0s 9ms/step - loss: 3872.4418 - mean_squared_error: 3872.4418 - mean_absolute_error: 34.3379 - val_loss: 3879.8184 - val_mean_squared_error: 3879.8184 - val_mean_absolute_error: 34.5601\n",
      "Epoch 613/1000\n"
     ]
    },
    {
     "name": "stdout",
     "output_type": "stream",
     "text": [
      "5/5 [==============================] - 0s 10ms/step - loss: 3717.2553 - mean_squared_error: 3717.2553 - mean_absolute_error: 33.9838 - val_loss: 3879.1238 - val_mean_squared_error: 3879.1238 - val_mean_absolute_error: 34.5589\n",
      "Epoch 614/1000\n",
      "5/5 [==============================] - 0s 10ms/step - loss: 3677.8875 - mean_squared_error: 3677.8875 - mean_absolute_error: 33.7540 - val_loss: 3878.3179 - val_mean_squared_error: 3878.3179 - val_mean_absolute_error: 34.5579\n",
      "Epoch 615/1000\n",
      "5/5 [==============================] - 0s 10ms/step - loss: 3683.2068 - mean_squared_error: 3683.2068 - mean_absolute_error: 34.0214 - val_loss: 3877.7083 - val_mean_squared_error: 3877.7083 - val_mean_absolute_error: 34.5555\n",
      "Epoch 616/1000\n",
      "5/5 [==============================] - 0s 10ms/step - loss: 3597.7559 - mean_squared_error: 3597.7559 - mean_absolute_error: 33.3208 - val_loss: 3876.9111 - val_mean_squared_error: 3876.9111 - val_mean_absolute_error: 34.5541\n",
      "Epoch 617/1000\n",
      "5/5 [==============================] - 0s 10ms/step - loss: 3916.5803 - mean_squared_error: 3916.5800 - mean_absolute_error: 34.5378 - val_loss: 3876.2070 - val_mean_squared_error: 3876.2070 - val_mean_absolute_error: 34.5527\n",
      "Epoch 618/1000\n",
      "5/5 [==============================] - 0s 9ms/step - loss: 3932.8339 - mean_squared_error: 3932.8339 - mean_absolute_error: 34.5994 - val_loss: 3875.3489 - val_mean_squared_error: 3875.3489 - val_mean_absolute_error: 34.5522\n",
      "Epoch 619/1000\n",
      "5/5 [==============================] - 0s 10ms/step - loss: 3830.2681 - mean_squared_error: 3830.2681 - mean_absolute_error: 33.9840 - val_loss: 3874.6770 - val_mean_squared_error: 3874.6770 - val_mean_absolute_error: 34.5498\n",
      "Epoch 620/1000\n",
      "5/5 [==============================] - 0s 9ms/step - loss: 3658.4987 - mean_squared_error: 3658.4987 - mean_absolute_error: 33.4264 - val_loss: 3873.9829 - val_mean_squared_error: 3873.9829 - val_mean_absolute_error: 34.5475\n",
      "Epoch 621/1000\n",
      "5/5 [==============================] - 0s 10ms/step - loss: 3602.3218 - mean_squared_error: 3602.3218 - mean_absolute_error: 33.3982 - val_loss: 3873.4033 - val_mean_squared_error: 3873.4033 - val_mean_absolute_error: 34.5439\n",
      "Epoch 622/1000\n",
      "5/5 [==============================] - 0s 9ms/step - loss: 3742.8172 - mean_squared_error: 3742.8172 - mean_absolute_error: 33.8073 - val_loss: 3872.6204 - val_mean_squared_error: 3872.6204 - val_mean_absolute_error: 34.5425\n",
      "Epoch 623/1000\n",
      "5/5 [==============================] - 0s 10ms/step - loss: 3923.2259 - mean_squared_error: 3923.2259 - mean_absolute_error: 34.4476 - val_loss: 3872.0344 - val_mean_squared_error: 3872.0344 - val_mean_absolute_error: 34.5392\n",
      "Epoch 624/1000\n",
      "5/5 [==============================] - 0s 9ms/step - loss: 3783.8954 - mean_squared_error: 3783.8954 - mean_absolute_error: 34.0979 - val_loss: 3871.2722 - val_mean_squared_error: 3871.2722 - val_mean_absolute_error: 34.5369\n",
      "Epoch 625/1000\n",
      "5/5 [==============================] - 0s 9ms/step - loss: 3769.8698 - mean_squared_error: 3769.8698 - mean_absolute_error: 33.9947 - val_loss: 3870.6086 - val_mean_squared_error: 3870.6091 - val_mean_absolute_error: 34.5349\n",
      "Epoch 626/1000\n",
      "5/5 [==============================] - 0s 9ms/step - loss: 3507.5104 - mean_squared_error: 3507.5104 - mean_absolute_error: 32.9403 - val_loss: 3869.8582 - val_mean_squared_error: 3869.8582 - val_mean_absolute_error: 34.5322\n",
      "Epoch 627/1000\n",
      "5/5 [==============================] - 0s 9ms/step - loss: 3646.2666 - mean_squared_error: 3646.2666 - mean_absolute_error: 33.7522 - val_loss: 3869.3015 - val_mean_squared_error: 3869.3015 - val_mean_absolute_error: 34.5286\n",
      "Epoch 628/1000\n",
      "5/5 [==============================] - 0s 10ms/step - loss: 3851.6133 - mean_squared_error: 3851.6133 - mean_absolute_error: 34.1760 - val_loss: 3868.5322 - val_mean_squared_error: 3868.5322 - val_mean_absolute_error: 34.5270\n",
      "Epoch 629/1000\n",
      "5/5 [==============================] - 0s 10ms/step - loss: 3806.2699 - mean_squared_error: 3806.2699 - mean_absolute_error: 33.9034 - val_loss: 3868.0159 - val_mean_squared_error: 3868.0159 - val_mean_absolute_error: 34.5222\n",
      "Epoch 630/1000\n",
      "5/5 [==============================] - 0s 10ms/step - loss: 3657.5529 - mean_squared_error: 3657.5529 - mean_absolute_error: 33.3764 - val_loss: 3867.2710 - val_mean_squared_error: 3867.2710 - val_mean_absolute_error: 34.5186\n",
      "Epoch 631/1000\n",
      "5/5 [==============================] - 0s 10ms/step - loss: 3738.2211 - mean_squared_error: 3738.2212 - mean_absolute_error: 33.7447 - val_loss: 3866.6152 - val_mean_squared_error: 3866.6152 - val_mean_absolute_error: 34.5141\n",
      "Epoch 632/1000\n",
      "5/5 [==============================] - 0s 10ms/step - loss: 3686.8603 - mean_squared_error: 3686.8603 - mean_absolute_error: 33.6892 - val_loss: 3865.8506 - val_mean_squared_error: 3865.8506 - val_mean_absolute_error: 34.5102\n",
      "Epoch 633/1000\n",
      "5/5 [==============================] - 0s 10ms/step - loss: 3830.4876 - mean_squared_error: 3830.4876 - mean_absolute_error: 34.0742 - val_loss: 3865.1838 - val_mean_squared_error: 3865.1838 - val_mean_absolute_error: 34.5062\n",
      "Epoch 634/1000\n",
      "5/5 [==============================] - 0s 10ms/step - loss: 3893.8754 - mean_squared_error: 3893.8754 - mean_absolute_error: 34.4847 - val_loss: 3864.5679 - val_mean_squared_error: 3864.5679 - val_mean_absolute_error: 34.5011\n",
      "Epoch 635/1000\n",
      "5/5 [==============================] - 0s 9ms/step - loss: 3536.4665 - mean_squared_error: 3536.4665 - mean_absolute_error: 33.2422 - val_loss: 3863.9570 - val_mean_squared_error: 3863.9570 - val_mean_absolute_error: 34.4941\n",
      "Epoch 636/1000\n",
      "5/5 [==============================] - 0s 9ms/step - loss: 3754.4147 - mean_squared_error: 3754.4147 - mean_absolute_error: 33.8591 - val_loss: 3863.1799 - val_mean_squared_error: 3863.1799 - val_mean_absolute_error: 34.4889\n",
      "Epoch 637/1000\n",
      "5/5 [==============================] - 0s 10ms/step - loss: 3715.2633 - mean_squared_error: 3715.2633 - mean_absolute_error: 33.5947 - val_loss: 3862.4973 - val_mean_squared_error: 3862.4973 - val_mean_absolute_error: 34.4828\n",
      "Epoch 638/1000\n",
      "5/5 [==============================] - 0s 9ms/step - loss: 3592.3939 - mean_squared_error: 3592.3939 - mean_absolute_error: 33.1316 - val_loss: 3861.7148 - val_mean_squared_error: 3861.7148 - val_mean_absolute_error: 34.4773\n",
      "Epoch 639/1000\n",
      "5/5 [==============================] - 0s 10ms/step - loss: 3595.2975 - mean_squared_error: 3595.2975 - mean_absolute_error: 32.8034 - val_loss: 3861.1775 - val_mean_squared_error: 3861.1775 - val_mean_absolute_error: 34.4701\n",
      "Epoch 640/1000\n",
      "5/5 [==============================] - 0s 9ms/step - loss: 3722.6875 - mean_squared_error: 3722.6875 - mean_absolute_error: 33.7760 - val_loss: 3860.4458 - val_mean_squared_error: 3860.4458 - val_mean_absolute_error: 34.4633\n",
      "Epoch 641/1000\n",
      "5/5 [==============================] - 0s 10ms/step - loss: 3572.0771 - mean_squared_error: 3572.0772 - mean_absolute_error: 33.1178 - val_loss: 3859.7290 - val_mean_squared_error: 3859.7290 - val_mean_absolute_error: 34.4562\n",
      "Epoch 642/1000\n",
      "5/5 [==============================] - 0s 10ms/step - loss: 3628.8777 - mean_squared_error: 3628.8777 - mean_absolute_error: 33.3748 - val_loss: 3859.0657 - val_mean_squared_error: 3859.0657 - val_mean_absolute_error: 34.4486\n",
      "Epoch 643/1000\n",
      "5/5 [==============================] - 0s 10ms/step - loss: 3711.8883 - mean_squared_error: 3711.8883 - mean_absolute_error: 33.7305 - val_loss: 3858.1809 - val_mean_squared_error: 3858.1809 - val_mean_absolute_error: 34.4424\n",
      "Epoch 644/1000\n",
      "5/5 [==============================] - 0s 10ms/step - loss: 3649.1052 - mean_squared_error: 3649.1052 - mean_absolute_error: 33.6437 - val_loss: 3857.5408 - val_mean_squared_error: 3857.5408 - val_mean_absolute_error: 34.4323\n",
      "Epoch 645/1000\n",
      "5/5 [==============================] - 0s 9ms/step - loss: 3961.5212 - mean_squared_error: 3961.5212 - mean_absolute_error: 34.3334 - val_loss: 3856.6318 - val_mean_squared_error: 3856.6318 - val_mean_absolute_error: 34.4252\n",
      "Epoch 646/1000\n",
      "5/5 [==============================] - 0s 9ms/step - loss: 3672.2711 - mean_squared_error: 3672.2711 - mean_absolute_error: 33.4542 - val_loss: 3855.9626 - val_mean_squared_error: 3855.9626 - val_mean_absolute_error: 34.4140\n",
      "Epoch 647/1000\n",
      "5/5 [==============================] - 0s 9ms/step - loss: 3697.8651 - mean_squared_error: 3697.8651 - mean_absolute_error: 33.6703 - val_loss: 3855.1160 - val_mean_squared_error: 3855.1160 - val_mean_absolute_error: 34.4027\n",
      "Epoch 648/1000\n",
      "5/5 [==============================] - 0s 9ms/step - loss: 3644.6770 - mean_squared_error: 3644.6770 - mean_absolute_error: 33.5228 - val_loss: 3854.3411 - val_mean_squared_error: 3854.3411 - val_mean_absolute_error: 34.3892\n",
      "Epoch 649/1000\n",
      "5/5 [==============================] - 0s 9ms/step - loss: 3858.3395 - mean_squared_error: 3858.3395 - mean_absolute_error: 33.9145 - val_loss: 3853.3582 - val_mean_squared_error: 3853.3582 - val_mean_absolute_error: 34.3763\n",
      "Epoch 650/1000\n",
      "5/5 [==============================] - 0s 10ms/step - loss: 3540.4084 - mean_squared_error: 3540.4084 - mean_absolute_error: 33.1811 - val_loss: 3852.4700 - val_mean_squared_error: 3852.4705 - val_mean_absolute_error: 34.3592\n",
      "Epoch 651/1000\n",
      "5/5 [==============================] - 0s 10ms/step - loss: 3803.7619 - mean_squared_error: 3803.7619 - mean_absolute_error: 33.9283 - val_loss: 3851.4666 - val_mean_squared_error: 3851.4666 - val_mean_absolute_error: 34.3440\n",
      "Epoch 652/1000\n",
      "5/5 [==============================] - 0s 9ms/step - loss: 3585.6299 - mean_squared_error: 3585.6299 - mean_absolute_error: 33.0177 - val_loss: 3850.4277 - val_mean_squared_error: 3850.4277 - val_mean_absolute_error: 34.3259\n",
      "Epoch 653/1000\n",
      "5/5 [==============================] - 0s 10ms/step - loss: 3697.9652 - mean_squared_error: 3697.9652 - mean_absolute_error: 33.6266 - val_loss: 3849.4243 - val_mean_squared_error: 3849.4243 - val_mean_absolute_error: 34.3064\n",
      "Epoch 654/1000\n",
      "5/5 [==============================] - 0s 10ms/step - loss: 3700.6390 - mean_squared_error: 3700.6390 - mean_absolute_error: 33.4587 - val_loss: 3848.2715 - val_mean_squared_error: 3848.2715 - val_mean_absolute_error: 34.2856\n",
      "Epoch 655/1000\n",
      "5/5 [==============================] - 0s 11ms/step - loss: 3776.9768 - mean_squared_error: 3776.9768 - mean_absolute_error: 33.7443 - val_loss: 3847.1262 - val_mean_squared_error: 3847.1262 - val_mean_absolute_error: 34.2622\n",
      "Epoch 656/1000\n",
      "5/5 [==============================] - 0s 10ms/step - loss: 3608.6789 - mean_squared_error: 3608.6789 - mean_absolute_error: 32.9892 - val_loss: 3845.9739 - val_mean_squared_error: 3845.9739 - val_mean_absolute_error: 34.2365\n",
      "Epoch 657/1000\n",
      "5/5 [==============================] - 0s 10ms/step - loss: 3703.9563 - mean_squared_error: 3703.9563 - mean_absolute_error: 33.7274 - val_loss: 3844.7581 - val_mean_squared_error: 3844.7578 - val_mean_absolute_error: 34.2096\n",
      "Epoch 658/1000\n",
      "5/5 [==============================] - 0s 10ms/step - loss: 3746.8733 - mean_squared_error: 3746.8733 - mean_absolute_error: 33.6376 - val_loss: 3843.5095 - val_mean_squared_error: 3843.5095 - val_mean_absolute_error: 34.1819\n",
      "Epoch 659/1000\n",
      "5/5 [==============================] - 0s 10ms/step - loss: 3704.4000 - mean_squared_error: 3704.4000 - mean_absolute_error: 33.2408 - val_loss: 3842.6465 - val_mean_squared_error: 3842.6465 - val_mean_absolute_error: 34.1554\n",
      "Epoch 660/1000\n",
      "5/5 [==============================] - 0s 10ms/step - loss: 3688.4022 - mean_squared_error: 3688.4022 - mean_absolute_error: 33.4613 - val_loss: 3841.6453 - val_mean_squared_error: 3841.6448 - val_mean_absolute_error: 34.1333\n",
      "Epoch 661/1000\n",
      "5/5 [==============================] - 0s 9ms/step - loss: 3577.1958 - mean_squared_error: 3577.1958 - mean_absolute_error: 33.0881 - val_loss: 3840.9592 - val_mean_squared_error: 3840.9592 - val_mean_absolute_error: 34.1119\n",
      "Epoch 662/1000\n",
      "5/5 [==============================] - 0s 9ms/step - loss: 3682.3579 - mean_squared_error: 3682.3579 - mean_absolute_error: 33.2272 - val_loss: 3840.1958 - val_mean_squared_error: 3840.1958 - val_mean_absolute_error: 34.1000\n",
      "Epoch 663/1000\n",
      "5/5 [==============================] - 0s 9ms/step - loss: 3736.4138 - mean_squared_error: 3736.4138 - mean_absolute_error: 33.2796 - val_loss: 3839.4312 - val_mean_squared_error: 3839.4312 - val_mean_absolute_error: 34.0936\n",
      "Epoch 664/1000\n",
      "5/5 [==============================] - 0s 10ms/step - loss: 3820.9664 - mean_squared_error: 3820.9664 - mean_absolute_error: 33.8083 - val_loss: 3838.7671 - val_mean_squared_error: 3838.7671 - val_mean_absolute_error: 34.0927\n",
      "Epoch 665/1000\n",
      "5/5 [==============================] - 0s 9ms/step - loss: 3506.2795 - mean_squared_error: 3506.2795 - mean_absolute_error: 32.3356 - val_loss: 3837.9690 - val_mean_squared_error: 3837.9690 - val_mean_absolute_error: 34.0947\n",
      "Epoch 666/1000\n",
      "5/5 [==============================] - 0s 10ms/step - loss: 3895.8518 - mean_squared_error: 3895.8518 - mean_absolute_error: 33.8379 - val_loss: 3837.2131 - val_mean_squared_error: 3837.2131 - val_mean_absolute_error: 34.1032\n",
      "Epoch 667/1000\n",
      "5/5 [==============================] - 0s 10ms/step - loss: 3513.1829 - mean_squared_error: 3513.1829 - mean_absolute_error: 32.7636 - val_loss: 3836.4575 - val_mean_squared_error: 3836.4575 - val_mean_absolute_error: 34.1051\n",
      "Epoch 668/1000\n",
      "5/5 [==============================] - 0s 10ms/step - loss: 3779.0834 - mean_squared_error: 3779.0834 - mean_absolute_error: 33.2795 - val_loss: 3835.7800 - val_mean_squared_error: 3835.7800 - val_mean_absolute_error: 34.1106\n",
      "Epoch 669/1000\n",
      "5/5 [==============================] - 0s 11ms/step - loss: 3565.0775 - mean_squared_error: 3565.0775 - mean_absolute_error: 32.9263 - val_loss: 3835.1562 - val_mean_squared_error: 3835.1562 - val_mean_absolute_error: 34.1099\n",
      "Epoch 670/1000\n",
      "5/5 [==============================] - 0s 10ms/step - loss: 3640.6136 - mean_squared_error: 3640.6136 - mean_absolute_error: 33.3139 - val_loss: 3834.3364 - val_mean_squared_error: 3834.3364 - val_mean_absolute_error: 34.1168\n",
      "Epoch 671/1000\n",
      "5/5 [==============================] - 0s 10ms/step - loss: 3896.1511 - mean_squared_error: 3896.1511 - mean_absolute_error: 34.0719 - val_loss: 3833.7461 - val_mean_squared_error: 3833.7461 - val_mean_absolute_error: 34.1224\n",
      "Epoch 672/1000\n",
      "5/5 [==============================] - 0s 10ms/step - loss: 3492.2844 - mean_squared_error: 3492.2844 - mean_absolute_error: 32.8012 - val_loss: 3832.9480 - val_mean_squared_error: 3832.9480 - val_mean_absolute_error: 34.1278\n",
      "Epoch 673/1000\n",
      "5/5 [==============================] - 0s 9ms/step - loss: 3723.3344 - mean_squared_error: 3723.3344 - mean_absolute_error: 33.4191 - val_loss: 3832.3445 - val_mean_squared_error: 3832.3445 - val_mean_absolute_error: 34.1353\n",
      "Epoch 674/1000\n",
      "5/5 [==============================] - 0s 10ms/step - loss: 3643.5964 - mean_squared_error: 3643.5964 - mean_absolute_error: 33.0900 - val_loss: 3831.5640 - val_mean_squared_error: 3831.5645 - val_mean_absolute_error: 34.1420\n",
      "Epoch 675/1000\n",
      "5/5 [==============================] - 0s 10ms/step - loss: 3597.2654 - mean_squared_error: 3597.2654 - mean_absolute_error: 33.1116 - val_loss: 3830.9922 - val_mean_squared_error: 3830.9922 - val_mean_absolute_error: 34.1463\n",
      "Epoch 676/1000\n",
      "5/5 [==============================] - 0s 10ms/step - loss: 3602.4320 - mean_squared_error: 3602.4320 - mean_absolute_error: 33.4503 - val_loss: 3830.3008 - val_mean_squared_error: 3830.3008 - val_mean_absolute_error: 34.1514\n",
      "Epoch 677/1000\n",
      "5/5 [==============================] - 0s 9ms/step - loss: 3397.3171 - mean_squared_error: 3397.3171 - mean_absolute_error: 32.4002 - val_loss: 3829.5979 - val_mean_squared_error: 3829.5979 - val_mean_absolute_error: 34.1537\n",
      "Epoch 678/1000\n",
      "5/5 [==============================] - 0s 10ms/step - loss: 3753.0841 - mean_squared_error: 3753.0841 - mean_absolute_error: 33.1957 - val_loss: 3828.9282 - val_mean_squared_error: 3828.9282 - val_mean_absolute_error: 34.1606\n",
      "Epoch 679/1000\n",
      "5/5 [==============================] - 0s 10ms/step - loss: 3707.6995 - mean_squared_error: 3707.6995 - mean_absolute_error: 33.5286 - val_loss: 3828.2349 - val_mean_squared_error: 3828.2349 - val_mean_absolute_error: 34.1670\n",
      "Epoch 680/1000\n",
      "5/5 [==============================] - 0s 10ms/step - loss: 3723.4580 - mean_squared_error: 3723.4580 - mean_absolute_error: 33.7539 - val_loss: 3827.6340 - val_mean_squared_error: 3827.6340 - val_mean_absolute_error: 34.1716\n",
      "Epoch 681/1000\n"
     ]
    },
    {
     "name": "stdout",
     "output_type": "stream",
     "text": [
      "5/5 [==============================] - 0s 10ms/step - loss: 3622.3549 - mean_squared_error: 3622.3549 - mean_absolute_error: 33.3121 - val_loss: 3826.9417 - val_mean_squared_error: 3826.9417 - val_mean_absolute_error: 34.1731\n",
      "Epoch 682/1000\n",
      "5/5 [==============================] - 0s 9ms/step - loss: 3782.4983 - mean_squared_error: 3782.4983 - mean_absolute_error: 33.4803 - val_loss: 3826.4429 - val_mean_squared_error: 3826.4429 - val_mean_absolute_error: 34.1798\n",
      "Epoch 683/1000\n",
      "5/5 [==============================] - 0s 10ms/step - loss: 3709.6128 - mean_squared_error: 3709.6128 - mean_absolute_error: 33.2777 - val_loss: 3825.8625 - val_mean_squared_error: 3825.8625 - val_mean_absolute_error: 34.1832\n",
      "Epoch 684/1000\n",
      "5/5 [==============================] - 0s 10ms/step - loss: 3633.5158 - mean_squared_error: 3633.5158 - mean_absolute_error: 33.7232 - val_loss: 3825.1357 - val_mean_squared_error: 3825.1357 - val_mean_absolute_error: 34.1884\n",
      "Epoch 685/1000\n",
      "5/5 [==============================] - 0s 10ms/step - loss: 3601.8116 - mean_squared_error: 3601.8116 - mean_absolute_error: 33.4012 - val_loss: 3824.4983 - val_mean_squared_error: 3824.4983 - val_mean_absolute_error: 34.1922\n",
      "Epoch 686/1000\n",
      "5/5 [==============================] - 0s 10ms/step - loss: 3507.9258 - mean_squared_error: 3507.9258 - mean_absolute_error: 33.1258 - val_loss: 3823.8845 - val_mean_squared_error: 3823.8845 - val_mean_absolute_error: 34.2000\n",
      "Epoch 687/1000\n",
      "5/5 [==============================] - 0s 9ms/step - loss: 3539.4835 - mean_squared_error: 3539.4834 - mean_absolute_error: 32.7570 - val_loss: 3823.3020 - val_mean_squared_error: 3823.3020 - val_mean_absolute_error: 34.2094\n",
      "Epoch 688/1000\n",
      "5/5 [==============================] - 0s 10ms/step - loss: 3607.7437 - mean_squared_error: 3607.7437 - mean_absolute_error: 33.0834 - val_loss: 3822.6816 - val_mean_squared_error: 3822.6816 - val_mean_absolute_error: 34.2151\n",
      "Epoch 689/1000\n",
      "5/5 [==============================] - 0s 10ms/step - loss: 3755.1417 - mean_squared_error: 3755.1417 - mean_absolute_error: 33.7324 - val_loss: 3822.0830 - val_mean_squared_error: 3822.0830 - val_mean_absolute_error: 34.2203\n",
      "Epoch 690/1000\n",
      "5/5 [==============================] - 0s 9ms/step - loss: 3747.9017 - mean_squared_error: 3747.9017 - mean_absolute_error: 33.6174 - val_loss: 3821.5657 - val_mean_squared_error: 3821.5657 - val_mean_absolute_error: 34.2254\n",
      "Epoch 691/1000\n",
      "5/5 [==============================] - 0s 10ms/step - loss: 3702.2836 - mean_squared_error: 3702.2836 - mean_absolute_error: 33.6112 - val_loss: 3820.9395 - val_mean_squared_error: 3820.9399 - val_mean_absolute_error: 34.2326\n",
      "Epoch 692/1000\n",
      "5/5 [==============================] - 0s 10ms/step - loss: 3700.0361 - mean_squared_error: 3700.0361 - mean_absolute_error: 33.8492 - val_loss: 3820.3467 - val_mean_squared_error: 3820.3472 - val_mean_absolute_error: 34.2342\n",
      "Epoch 693/1000\n",
      "5/5 [==============================] - 0s 10ms/step - loss: 3552.5316 - mean_squared_error: 3552.5316 - mean_absolute_error: 32.9402 - val_loss: 3819.7329 - val_mean_squared_error: 3819.7329 - val_mean_absolute_error: 34.2376\n",
      "Epoch 694/1000\n",
      "5/5 [==============================] - 0s 9ms/step - loss: 3699.4052 - mean_squared_error: 3699.4052 - mean_absolute_error: 33.6938 - val_loss: 3819.2620 - val_mean_squared_error: 3819.2620 - val_mean_absolute_error: 34.2395\n",
      "Epoch 695/1000\n",
      "5/5 [==============================] - 0s 10ms/step - loss: 3715.9514 - mean_squared_error: 3715.9514 - mean_absolute_error: 33.3482 - val_loss: 3818.6799 - val_mean_squared_error: 3818.6799 - val_mean_absolute_error: 34.2456\n",
      "Epoch 696/1000\n",
      "5/5 [==============================] - 0s 10ms/step - loss: 3684.1222 - mean_squared_error: 3684.1222 - mean_absolute_error: 33.7641 - val_loss: 3818.1194 - val_mean_squared_error: 3818.1194 - val_mean_absolute_error: 34.2514\n",
      "Epoch 697/1000\n",
      "5/5 [==============================] - 0s 10ms/step - loss: 3709.9062 - mean_squared_error: 3709.9062 - mean_absolute_error: 33.4181 - val_loss: 3817.5725 - val_mean_squared_error: 3817.5725 - val_mean_absolute_error: 34.2602\n",
      "Epoch 698/1000\n",
      "5/5 [==============================] - 0s 10ms/step - loss: 3849.3842 - mean_squared_error: 3849.3842 - mean_absolute_error: 34.1711 - val_loss: 3817.0300 - val_mean_squared_error: 3817.0300 - val_mean_absolute_error: 34.2668\n",
      "Epoch 699/1000\n",
      "5/5 [==============================] - 0s 9ms/step - loss: 3730.2045 - mean_squared_error: 3730.2046 - mean_absolute_error: 33.8847 - val_loss: 3816.5249 - val_mean_squared_error: 3816.5249 - val_mean_absolute_error: 34.2678\n",
      "Epoch 700/1000\n",
      "5/5 [==============================] - 0s 10ms/step - loss: 3638.7006 - mean_squared_error: 3638.7006 - mean_absolute_error: 33.6152 - val_loss: 3816.0310 - val_mean_squared_error: 3816.0310 - val_mean_absolute_error: 34.2679\n",
      "Epoch 701/1000\n",
      "5/5 [==============================] - 0s 10ms/step - loss: 3559.0650 - mean_squared_error: 3559.0650 - mean_absolute_error: 32.9836 - val_loss: 3815.5452 - val_mean_squared_error: 3815.5452 - val_mean_absolute_error: 34.2691\n",
      "Epoch 702/1000\n",
      "5/5 [==============================] - 0s 10ms/step - loss: 3872.1360 - mean_squared_error: 3872.1360 - mean_absolute_error: 34.3612 - val_loss: 3815.0181 - val_mean_squared_error: 3815.0181 - val_mean_absolute_error: 34.2730\n",
      "Epoch 703/1000\n",
      "5/5 [==============================] - 0s 10ms/step - loss: 3620.7373 - mean_squared_error: 3620.7373 - mean_absolute_error: 32.9806 - val_loss: 3814.5369 - val_mean_squared_error: 3814.5369 - val_mean_absolute_error: 34.2746\n",
      "Epoch 704/1000\n",
      "5/5 [==============================] - 0s 10ms/step - loss: 3562.2577 - mean_squared_error: 3562.2577 - mean_absolute_error: 33.4194 - val_loss: 3814.0259 - val_mean_squared_error: 3814.0259 - val_mean_absolute_error: 34.2762\n",
      "Epoch 705/1000\n",
      "5/5 [==============================] - 0s 10ms/step - loss: 3621.2549 - mean_squared_error: 3621.2549 - mean_absolute_error: 33.1359 - val_loss: 3813.4797 - val_mean_squared_error: 3813.4802 - val_mean_absolute_error: 34.2822\n",
      "Epoch 706/1000\n",
      "5/5 [==============================] - 0s 10ms/step - loss: 3589.7167 - mean_squared_error: 3589.7167 - mean_absolute_error: 33.0531 - val_loss: 3812.9814 - val_mean_squared_error: 3812.9814 - val_mean_absolute_error: 34.2834\n",
      "Epoch 707/1000\n",
      "5/5 [==============================] - 0s 10ms/step - loss: 3564.3985 - mean_squared_error: 3564.3985 - mean_absolute_error: 33.2274 - val_loss: 3812.5562 - val_mean_squared_error: 3812.5562 - val_mean_absolute_error: 34.2845\n",
      "Epoch 708/1000\n",
      "5/5 [==============================] - 0s 10ms/step - loss: 3670.2969 - mean_squared_error: 3670.2969 - mean_absolute_error: 33.9467 - val_loss: 3812.0649 - val_mean_squared_error: 3812.0652 - val_mean_absolute_error: 34.2881\n",
      "Epoch 709/1000\n",
      "5/5 [==============================] - 0s 9ms/step - loss: 3752.9458 - mean_squared_error: 3752.9458 - mean_absolute_error: 33.8239 - val_loss: 3811.5261 - val_mean_squared_error: 3811.5261 - val_mean_absolute_error: 34.2943\n",
      "Epoch 710/1000\n",
      "5/5 [==============================] - 0s 9ms/step - loss: 3760.9291 - mean_squared_error: 3760.9291 - mean_absolute_error: 34.1649 - val_loss: 3811.1426 - val_mean_squared_error: 3811.1426 - val_mean_absolute_error: 34.2971\n",
      "Epoch 711/1000\n",
      "5/5 [==============================] - 0s 10ms/step - loss: 3684.2838 - mean_squared_error: 3684.2838 - mean_absolute_error: 33.3581 - val_loss: 3810.6228 - val_mean_squared_error: 3810.6228 - val_mean_absolute_error: 34.3031\n",
      "Epoch 712/1000\n",
      "5/5 [==============================] - 0s 9ms/step - loss: 3726.2287 - mean_squared_error: 3726.2287 - mean_absolute_error: 33.7240 - val_loss: 3810.0923 - val_mean_squared_error: 3810.0923 - val_mean_absolute_error: 34.3093\n",
      "Epoch 713/1000\n",
      "5/5 [==============================] - 0s 10ms/step - loss: 3646.1154 - mean_squared_error: 3646.1154 - mean_absolute_error: 33.4083 - val_loss: 3809.6675 - val_mean_squared_error: 3809.6675 - val_mean_absolute_error: 34.3108\n",
      "Epoch 714/1000\n",
      "5/5 [==============================] - 0s 10ms/step - loss: 3728.9321 - mean_squared_error: 3728.9321 - mean_absolute_error: 33.7661 - val_loss: 3809.1353 - val_mean_squared_error: 3809.1348 - val_mean_absolute_error: 34.3177\n",
      "Epoch 715/1000\n",
      "5/5 [==============================] - 0s 10ms/step - loss: 3689.4997 - mean_squared_error: 3689.4997 - mean_absolute_error: 33.3449 - val_loss: 3808.7844 - val_mean_squared_error: 3808.7844 - val_mean_absolute_error: 34.3203\n",
      "Epoch 716/1000\n",
      "5/5 [==============================] - 0s 10ms/step - loss: 3592.1926 - mean_squared_error: 3592.1926 - mean_absolute_error: 33.2024 - val_loss: 3808.2930 - val_mean_squared_error: 3808.2930 - val_mean_absolute_error: 34.3236\n",
      "Epoch 717/1000\n",
      "5/5 [==============================] - 0s 10ms/step - loss: 3651.1881 - mean_squared_error: 3651.1881 - mean_absolute_error: 33.5653 - val_loss: 3807.7800 - val_mean_squared_error: 3807.7800 - val_mean_absolute_error: 34.3269\n",
      "Epoch 718/1000\n",
      "5/5 [==============================] - 0s 9ms/step - loss: 3656.8145 - mean_squared_error: 3656.8145 - mean_absolute_error: 33.3347 - val_loss: 3807.3857 - val_mean_squared_error: 3807.3857 - val_mean_absolute_error: 34.3316\n",
      "Epoch 719/1000\n",
      "5/5 [==============================] - 0s 10ms/step - loss: 3706.6609 - mean_squared_error: 3706.6609 - mean_absolute_error: 33.7252 - val_loss: 3806.8613 - val_mean_squared_error: 3806.8608 - val_mean_absolute_error: 34.3376\n",
      "Epoch 720/1000\n",
      "5/5 [==============================] - 0s 10ms/step - loss: 3660.5289 - mean_squared_error: 3660.5289 - mean_absolute_error: 33.7168 - val_loss: 3806.4519 - val_mean_squared_error: 3806.4519 - val_mean_absolute_error: 34.3415\n",
      "Epoch 721/1000\n",
      "5/5 [==============================] - 0s 10ms/step - loss: 3486.6880 - mean_squared_error: 3486.6880 - mean_absolute_error: 32.6657 - val_loss: 3806.0854 - val_mean_squared_error: 3806.0850 - val_mean_absolute_error: 34.3419\n",
      "Epoch 722/1000\n",
      "5/5 [==============================] - 0s 10ms/step - loss: 3663.2048 - mean_squared_error: 3663.2048 - mean_absolute_error: 33.3344 - val_loss: 3805.5369 - val_mean_squared_error: 3805.5369 - val_mean_absolute_error: 34.3497\n",
      "Epoch 723/1000\n",
      "5/5 [==============================] - 0s 10ms/step - loss: 3683.2846 - mean_squared_error: 3683.2846 - mean_absolute_error: 33.8736 - val_loss: 3805.1018 - val_mean_squared_error: 3805.1018 - val_mean_absolute_error: 34.3538\n",
      "Epoch 724/1000\n",
      "5/5 [==============================] - 0s 10ms/step - loss: 3587.2598 - mean_squared_error: 3587.2598 - mean_absolute_error: 33.3509 - val_loss: 3804.7957 - val_mean_squared_error: 3804.7957 - val_mean_absolute_error: 34.3572\n",
      "Epoch 725/1000\n",
      "5/5 [==============================] - 0s 10ms/step - loss: 3718.2205 - mean_squared_error: 3718.2205 - mean_absolute_error: 33.4164 - val_loss: 3804.2642 - val_mean_squared_error: 3804.2642 - val_mean_absolute_error: 34.3640\n",
      "Epoch 726/1000\n",
      "5/5 [==============================] - 0s 9ms/step - loss: 3536.5415 - mean_squared_error: 3536.5415 - mean_absolute_error: 33.2701 - val_loss: 3803.9597 - val_mean_squared_error: 3803.9592 - val_mean_absolute_error: 34.3636\n",
      "Epoch 727/1000\n",
      "5/5 [==============================] - 0s 10ms/step - loss: 3594.4591 - mean_squared_error: 3594.4591 - mean_absolute_error: 33.4395 - val_loss: 3803.5027 - val_mean_squared_error: 3803.5027 - val_mean_absolute_error: 34.3690\n",
      "Epoch 728/1000\n",
      "5/5 [==============================] - 0s 10ms/step - loss: 3708.8078 - mean_squared_error: 3708.8078 - mean_absolute_error: 33.8262 - val_loss: 3803.0317 - val_mean_squared_error: 3803.0317 - val_mean_absolute_error: 34.3735\n",
      "Epoch 729/1000\n",
      "5/5 [==============================] - 0s 10ms/step - loss: 3815.1174 - mean_squared_error: 3815.1174 - mean_absolute_error: 33.8918 - val_loss: 3802.7483 - val_mean_squared_error: 3802.7483 - val_mean_absolute_error: 34.3778\n",
      "Epoch 730/1000\n",
      "5/5 [==============================] - 0s 10ms/step - loss: 3478.6584 - mean_squared_error: 3478.6584 - mean_absolute_error: 32.5336 - val_loss: 3802.2556 - val_mean_squared_error: 3802.2556 - val_mean_absolute_error: 34.3813\n",
      "Epoch 731/1000\n",
      "5/5 [==============================] - 0s 10ms/step - loss: 3769.3699 - mean_squared_error: 3769.3699 - mean_absolute_error: 34.1352 - val_loss: 3801.8660 - val_mean_squared_error: 3801.8660 - val_mean_absolute_error: 34.3823\n",
      "Epoch 732/1000\n",
      "5/5 [==============================] - 0s 10ms/step - loss: 3657.0569 - mean_squared_error: 3657.0569 - mean_absolute_error: 33.9089 - val_loss: 3801.5576 - val_mean_squared_error: 3801.5576 - val_mean_absolute_error: 34.3825\n",
      "Epoch 733/1000\n",
      "5/5 [==============================] - 0s 10ms/step - loss: 3690.5849 - mean_squared_error: 3690.5849 - mean_absolute_error: 33.5117 - val_loss: 3801.0962 - val_mean_squared_error: 3801.0962 - val_mean_absolute_error: 34.3857\n",
      "Epoch 734/1000\n",
      "5/5 [==============================] - 0s 10ms/step - loss: 3480.4746 - mean_squared_error: 3480.4746 - mean_absolute_error: 32.7728 - val_loss: 3800.7607 - val_mean_squared_error: 3800.7607 - val_mean_absolute_error: 34.3867\n",
      "Epoch 735/1000\n",
      "5/5 [==============================] - 0s 10ms/step - loss: 3573.3157 - mean_squared_error: 3573.3156 - mean_absolute_error: 33.3931 - val_loss: 3800.4309 - val_mean_squared_error: 3800.4309 - val_mean_absolute_error: 34.3850\n",
      "Epoch 736/1000\n",
      "5/5 [==============================] - 0s 10ms/step - loss: 3661.2395 - mean_squared_error: 3661.2395 - mean_absolute_error: 33.0990 - val_loss: 3799.9773 - val_mean_squared_error: 3799.9773 - val_mean_absolute_error: 34.3937\n",
      "Epoch 737/1000\n",
      "5/5 [==============================] - 0s 10ms/step - loss: 3519.4882 - mean_squared_error: 3519.4882 - mean_absolute_error: 32.6821 - val_loss: 3799.6357 - val_mean_squared_error: 3799.6357 - val_mean_absolute_error: 34.3947\n",
      "Epoch 738/1000\n",
      "5/5 [==============================] - 0s 9ms/step - loss: 3587.4876 - mean_squared_error: 3587.4876 - mean_absolute_error: 33.2036 - val_loss: 3799.2422 - val_mean_squared_error: 3799.2422 - val_mean_absolute_error: 34.4031\n",
      "Epoch 739/1000\n",
      "5/5 [==============================] - 0s 9ms/step - loss: 3496.3944 - mean_squared_error: 3496.3944 - mean_absolute_error: 33.2595 - val_loss: 3798.8977 - val_mean_squared_error: 3798.8982 - val_mean_absolute_error: 34.4044\n",
      "Epoch 740/1000\n",
      "5/5 [==============================] - 0s 10ms/step - loss: 3571.1670 - mean_squared_error: 3571.1670 - mean_absolute_error: 33.6209 - val_loss: 3798.4971 - val_mean_squared_error: 3798.4971 - val_mean_absolute_error: 34.4064\n",
      "Epoch 741/1000\n",
      "5/5 [==============================] - 0s 10ms/step - loss: 3714.3575 - mean_squared_error: 3714.3575 - mean_absolute_error: 34.0924 - val_loss: 3798.1636 - val_mean_squared_error: 3798.1636 - val_mean_absolute_error: 34.4114\n",
      "Epoch 742/1000\n",
      "5/5 [==============================] - 0s 10ms/step - loss: 3746.4304 - mean_squared_error: 3746.4304 - mean_absolute_error: 34.3334 - val_loss: 3797.7754 - val_mean_squared_error: 3797.7749 - val_mean_absolute_error: 34.4170\n",
      "Epoch 743/1000\n",
      "5/5 [==============================] - 0s 10ms/step - loss: 3772.8129 - mean_squared_error: 3772.8129 - mean_absolute_error: 33.7329 - val_loss: 3797.4441 - val_mean_squared_error: 3797.4441 - val_mean_absolute_error: 34.4205\n",
      "Epoch 744/1000\n",
      "5/5 [==============================] - 0s 10ms/step - loss: 3693.7129 - mean_squared_error: 3693.7129 - mean_absolute_error: 33.9835 - val_loss: 3797.0833 - val_mean_squared_error: 3797.0833 - val_mean_absolute_error: 34.4227\n",
      "Epoch 745/1000\n",
      "5/5 [==============================] - 0s 10ms/step - loss: 3704.3720 - mean_squared_error: 3704.3720 - mean_absolute_error: 33.8934 - val_loss: 3796.6812 - val_mean_squared_error: 3796.6809 - val_mean_absolute_error: 34.4263\n",
      "Epoch 746/1000\n",
      "5/5 [==============================] - 0s 10ms/step - loss: 3685.6710 - mean_squared_error: 3685.6710 - mean_absolute_error: 33.2811 - val_loss: 3796.3921 - val_mean_squared_error: 3796.3921 - val_mean_absolute_error: 34.4296\n",
      "Epoch 747/1000\n",
      "5/5 [==============================] - 0s 10ms/step - loss: 3412.3765 - mean_squared_error: 3412.3765 - mean_absolute_error: 32.6293 - val_loss: 3796.0813 - val_mean_squared_error: 3796.0813 - val_mean_absolute_error: 34.4320\n",
      "Epoch 748/1000\n",
      "5/5 [==============================] - 0s 10ms/step - loss: 3724.6434 - mean_squared_error: 3724.6434 - mean_absolute_error: 33.6522 - val_loss: 3795.6851 - val_mean_squared_error: 3795.6851 - val_mean_absolute_error: 34.4362\n",
      "Epoch 749/1000\n"
     ]
    },
    {
     "name": "stdout",
     "output_type": "stream",
     "text": [
      "5/5 [==============================] - 0s 10ms/step - loss: 3622.8969 - mean_squared_error: 3622.8969 - mean_absolute_error: 33.6908 - val_loss: 3795.3315 - val_mean_squared_error: 3795.3315 - val_mean_absolute_error: 34.4397\n",
      "Epoch 750/1000\n",
      "5/5 [==============================] - 0s 11ms/step - loss: 3424.1105 - mean_squared_error: 3424.1105 - mean_absolute_error: 32.6493 - val_loss: 3795.0962 - val_mean_squared_error: 3795.0962 - val_mean_absolute_error: 34.4402\n",
      "Epoch 751/1000\n",
      "5/5 [==============================] - 0s 11ms/step - loss: 3661.8517 - mean_squared_error: 3661.8517 - mean_absolute_error: 33.6703 - val_loss: 3794.6687 - val_mean_squared_error: 3794.6692 - val_mean_absolute_error: 34.4435\n",
      "Epoch 752/1000\n",
      "5/5 [==============================] - 0s 10ms/step - loss: 3635.5531 - mean_squared_error: 3635.5531 - mean_absolute_error: 33.8926 - val_loss: 3794.3728 - val_mean_squared_error: 3794.3728 - val_mean_absolute_error: 34.4487\n",
      "Epoch 753/1000\n",
      "5/5 [==============================] - 0s 10ms/step - loss: 3643.5782 - mean_squared_error: 3643.5782 - mean_absolute_error: 33.8613 - val_loss: 3793.9849 - val_mean_squared_error: 3793.9849 - val_mean_absolute_error: 34.4547\n",
      "Epoch 754/1000\n",
      "5/5 [==============================] - 0s 10ms/step - loss: 3779.0153 - mean_squared_error: 3779.0153 - mean_absolute_error: 34.1298 - val_loss: 3793.7166 - val_mean_squared_error: 3793.7166 - val_mean_absolute_error: 34.4567\n",
      "Epoch 755/1000\n",
      "5/5 [==============================] - 0s 9ms/step - loss: 3583.5251 - mean_squared_error: 3583.5251 - mean_absolute_error: 33.4387 - val_loss: 3793.4402 - val_mean_squared_error: 3793.4402 - val_mean_absolute_error: 34.4558\n",
      "Epoch 756/1000\n",
      "5/5 [==============================] - 0s 9ms/step - loss: 3651.2096 - mean_squared_error: 3651.2096 - mean_absolute_error: 33.8695 - val_loss: 3793.1160 - val_mean_squared_error: 3793.1160 - val_mean_absolute_error: 34.4549\n",
      "Epoch 757/1000\n",
      "5/5 [==============================] - 0s 10ms/step - loss: 3590.7813 - mean_squared_error: 3590.7813 - mean_absolute_error: 33.3741 - val_loss: 3792.8450 - val_mean_squared_error: 3792.8450 - val_mean_absolute_error: 34.4562\n",
      "Epoch 758/1000\n",
      "5/5 [==============================] - 0s 10ms/step - loss: 3725.2327 - mean_squared_error: 3725.2327 - mean_absolute_error: 34.0424 - val_loss: 3792.4854 - val_mean_squared_error: 3792.4854 - val_mean_absolute_error: 34.4596\n",
      "Epoch 759/1000\n",
      "5/5 [==============================] - 0s 10ms/step - loss: 3594.5783 - mean_squared_error: 3594.5783 - mean_absolute_error: 33.7610 - val_loss: 3792.2473 - val_mean_squared_error: 3792.2473 - val_mean_absolute_error: 34.4585\n",
      "Epoch 760/1000\n",
      "5/5 [==============================] - 0s 10ms/step - loss: 3702.5475 - mean_squared_error: 3702.5474 - mean_absolute_error: 34.0080 - val_loss: 3791.8840 - val_mean_squared_error: 3791.8840 - val_mean_absolute_error: 34.4594\n",
      "Epoch 761/1000\n",
      "5/5 [==============================] - 0s 10ms/step - loss: 3702.7044 - mean_squared_error: 3702.7044 - mean_absolute_error: 33.9217 - val_loss: 3791.6414 - val_mean_squared_error: 3791.6414 - val_mean_absolute_error: 34.4603\n",
      "Epoch 762/1000\n",
      "5/5 [==============================] - 0s 9ms/step - loss: 3600.5000 - mean_squared_error: 3600.5000 - mean_absolute_error: 33.4918 - val_loss: 3791.3308 - val_mean_squared_error: 3791.3303 - val_mean_absolute_error: 34.4626\n",
      "Epoch 763/1000\n",
      "5/5 [==============================] - 0s 10ms/step - loss: 3519.3772 - mean_squared_error: 3519.3772 - mean_absolute_error: 33.3341 - val_loss: 3790.9678 - val_mean_squared_error: 3790.9678 - val_mean_absolute_error: 34.4645\n",
      "Epoch 764/1000\n",
      "5/5 [==============================] - 0s 9ms/step - loss: 3784.9255 - mean_squared_error: 3784.9255 - mean_absolute_error: 34.1301 - val_loss: 3790.7659 - val_mean_squared_error: 3790.7659 - val_mean_absolute_error: 34.4644\n",
      "Epoch 765/1000\n",
      "5/5 [==============================] - 0s 9ms/step - loss: 3651.4240 - mean_squared_error: 3651.4240 - mean_absolute_error: 33.6027 - val_loss: 3790.4587 - val_mean_squared_error: 3790.4587 - val_mean_absolute_error: 34.4653\n",
      "Epoch 766/1000\n",
      "5/5 [==============================] - 0s 10ms/step - loss: 3641.0608 - mean_squared_error: 3641.0608 - mean_absolute_error: 33.6347 - val_loss: 3790.1616 - val_mean_squared_error: 3790.1616 - val_mean_absolute_error: 34.4648\n",
      "Epoch 767/1000\n",
      "5/5 [==============================] - 0s 10ms/step - loss: 3666.7878 - mean_squared_error: 3666.7878 - mean_absolute_error: 33.8035 - val_loss: 3789.8582 - val_mean_squared_error: 3789.8582 - val_mean_absolute_error: 34.4687\n",
      "Epoch 768/1000\n",
      "5/5 [==============================] - 0s 10ms/step - loss: 3666.3655 - mean_squared_error: 3666.3655 - mean_absolute_error: 34.2515 - val_loss: 3789.6511 - val_mean_squared_error: 3789.6511 - val_mean_absolute_error: 34.4716\n",
      "Epoch 769/1000\n",
      "5/5 [==============================] - 0s 10ms/step - loss: 3574.0529 - mean_squared_error: 3574.0529 - mean_absolute_error: 33.4092 - val_loss: 3789.3157 - val_mean_squared_error: 3789.3157 - val_mean_absolute_error: 34.4718\n",
      "Epoch 770/1000\n",
      "5/5 [==============================] - 0s 9ms/step - loss: 3447.1362 - mean_squared_error: 3447.1362 - mean_absolute_error: 32.9719 - val_loss: 3789.0691 - val_mean_squared_error: 3789.0691 - val_mean_absolute_error: 34.4736\n",
      "Epoch 771/1000\n",
      "5/5 [==============================] - 0s 10ms/step - loss: 3685.9913 - mean_squared_error: 3685.9913 - mean_absolute_error: 33.6312 - val_loss: 3788.7935 - val_mean_squared_error: 3788.7935 - val_mean_absolute_error: 34.4775\n",
      "Epoch 772/1000\n",
      "5/5 [==============================] - 0s 10ms/step - loss: 3567.8234 - mean_squared_error: 3567.8234 - mean_absolute_error: 33.6650 - val_loss: 3788.5945 - val_mean_squared_error: 3788.5950 - val_mean_absolute_error: 34.4742\n",
      "Epoch 773/1000\n",
      "5/5 [==============================] - 0s 10ms/step - loss: 3503.1379 - mean_squared_error: 3503.1379 - mean_absolute_error: 33.0194 - val_loss: 3788.2212 - val_mean_squared_error: 3788.2212 - val_mean_absolute_error: 34.4792\n",
      "Epoch 774/1000\n",
      "5/5 [==============================] - 0s 10ms/step - loss: 3604.6954 - mean_squared_error: 3604.6954 - mean_absolute_error: 33.5075 - val_loss: 3788.0386 - val_mean_squared_error: 3788.0386 - val_mean_absolute_error: 34.4852\n",
      "Epoch 775/1000\n",
      "5/5 [==============================] - 0s 10ms/step - loss: 3541.8331 - mean_squared_error: 3541.8331 - mean_absolute_error: 33.1008 - val_loss: 3787.7148 - val_mean_squared_error: 3787.7148 - val_mean_absolute_error: 34.4907\n",
      "Epoch 776/1000\n",
      "5/5 [==============================] - 0s 10ms/step - loss: 3717.3496 - mean_squared_error: 3717.3496 - mean_absolute_error: 33.7751 - val_loss: 3787.3879 - val_mean_squared_error: 3787.3879 - val_mean_absolute_error: 34.4944\n",
      "Epoch 777/1000\n",
      "5/5 [==============================] - 0s 9ms/step - loss: 3645.3787 - mean_squared_error: 3645.3787 - mean_absolute_error: 33.7325 - val_loss: 3787.1753 - val_mean_squared_error: 3787.1753 - val_mean_absolute_error: 34.4965\n",
      "Epoch 778/1000\n",
      "5/5 [==============================] - 0s 9ms/step - loss: 3641.9760 - mean_squared_error: 3641.9760 - mean_absolute_error: 33.6100 - val_loss: 3786.9185 - val_mean_squared_error: 3786.9185 - val_mean_absolute_error: 34.4987\n",
      "Epoch 779/1000\n",
      "5/5 [==============================] - 0s 10ms/step - loss: 3752.7058 - mean_squared_error: 3752.7058 - mean_absolute_error: 33.8103 - val_loss: 3786.6345 - val_mean_squared_error: 3786.6345 - val_mean_absolute_error: 34.5007\n",
      "Epoch 780/1000\n",
      "5/5 [==============================] - 0s 10ms/step - loss: 3476.3094 - mean_squared_error: 3476.3094 - mean_absolute_error: 33.1116 - val_loss: 3786.3862 - val_mean_squared_error: 3786.3862 - val_mean_absolute_error: 34.5000\n",
      "Epoch 781/1000\n",
      "5/5 [==============================] - 0s 10ms/step - loss: 3638.8061 - mean_squared_error: 3638.8061 - mean_absolute_error: 34.0180 - val_loss: 3786.1392 - val_mean_squared_error: 3786.1392 - val_mean_absolute_error: 34.5021\n",
      "Epoch 782/1000\n",
      "5/5 [==============================] - 0s 9ms/step - loss: 3541.0295 - mean_squared_error: 3541.0295 - mean_absolute_error: 33.2630 - val_loss: 3785.8423 - val_mean_squared_error: 3785.8423 - val_mean_absolute_error: 34.5064\n",
      "Epoch 783/1000\n",
      "5/5 [==============================] - 0s 10ms/step - loss: 3796.7585 - mean_squared_error: 3796.7585 - mean_absolute_error: 34.2437 - val_loss: 3785.6091 - val_mean_squared_error: 3785.6091 - val_mean_absolute_error: 34.5095\n",
      "Epoch 784/1000\n",
      "5/5 [==============================] - 0s 10ms/step - loss: 3602.1944 - mean_squared_error: 3602.1944 - mean_absolute_error: 33.5025 - val_loss: 3785.3694 - val_mean_squared_error: 3785.3694 - val_mean_absolute_error: 34.5056\n",
      "Epoch 785/1000\n",
      "5/5 [==============================] - 0s 10ms/step - loss: 3665.9622 - mean_squared_error: 3665.9622 - mean_absolute_error: 33.9331 - val_loss: 3785.1680 - val_mean_squared_error: 3785.1680 - val_mean_absolute_error: 34.5061\n",
      "Epoch 786/1000\n",
      "5/5 [==============================] - 0s 10ms/step - loss: 3710.2269 - mean_squared_error: 3710.2269 - mean_absolute_error: 33.8577 - val_loss: 3784.8491 - val_mean_squared_error: 3784.8491 - val_mean_absolute_error: 34.5078\n",
      "Epoch 787/1000\n",
      "5/5 [==============================] - 0s 10ms/step - loss: 3592.6218 - mean_squared_error: 3592.6218 - mean_absolute_error: 33.9863 - val_loss: 3784.6692 - val_mean_squared_error: 3784.6692 - val_mean_absolute_error: 34.5061\n",
      "Epoch 788/1000\n",
      "5/5 [==============================] - 0s 12ms/step - loss: 3633.3579 - mean_squared_error: 3633.3579 - mean_absolute_error: 33.5383 - val_loss: 3784.4089 - val_mean_squared_error: 3784.4089 - val_mean_absolute_error: 34.5060\n",
      "Epoch 789/1000\n",
      "5/5 [==============================] - 0s 10ms/step - loss: 3588.9960 - mean_squared_error: 3588.9960 - mean_absolute_error: 33.5210 - val_loss: 3784.1436 - val_mean_squared_error: 3784.1431 - val_mean_absolute_error: 34.5053\n",
      "Epoch 790/1000\n",
      "5/5 [==============================] - 0s 10ms/step - loss: 3631.2872 - mean_squared_error: 3631.2872 - mean_absolute_error: 33.6401 - val_loss: 3783.9333 - val_mean_squared_error: 3783.9333 - val_mean_absolute_error: 34.5047\n",
      "Epoch 791/1000\n",
      "5/5 [==============================] - 0s 10ms/step - loss: 3540.2155 - mean_squared_error: 3540.2155 - mean_absolute_error: 33.1726 - val_loss: 3783.7104 - val_mean_squared_error: 3783.7104 - val_mean_absolute_error: 34.5046\n",
      "Epoch 792/1000\n",
      "5/5 [==============================] - 0s 10ms/step - loss: 3795.5647 - mean_squared_error: 3795.5647 - mean_absolute_error: 33.9794 - val_loss: 3783.4846 - val_mean_squared_error: 3783.4846 - val_mean_absolute_error: 34.5053\n",
      "Epoch 793/1000\n",
      "5/5 [==============================] - 0s 10ms/step - loss: 3504.8721 - mean_squared_error: 3504.8721 - mean_absolute_error: 33.1671 - val_loss: 3783.2375 - val_mean_squared_error: 3783.2375 - val_mean_absolute_error: 34.5062\n",
      "Epoch 794/1000\n",
      "5/5 [==============================] - 0s 10ms/step - loss: 3629.3098 - mean_squared_error: 3629.3098 - mean_absolute_error: 33.6197 - val_loss: 3782.9832 - val_mean_squared_error: 3782.9832 - val_mean_absolute_error: 34.5063\n",
      "Epoch 795/1000\n",
      "5/5 [==============================] - 0s 10ms/step - loss: 3663.1691 - mean_squared_error: 3663.1691 - mean_absolute_error: 33.8032 - val_loss: 3782.7947 - val_mean_squared_error: 3782.7952 - val_mean_absolute_error: 34.5054\n",
      "Epoch 796/1000\n",
      "5/5 [==============================] - 0s 10ms/step - loss: 3667.4194 - mean_squared_error: 3667.4194 - mean_absolute_error: 33.8438 - val_loss: 3782.5193 - val_mean_squared_error: 3782.5193 - val_mean_absolute_error: 34.5064\n",
      "Epoch 797/1000\n",
      "5/5 [==============================] - 0s 10ms/step - loss: 3673.9033 - mean_squared_error: 3673.9033 - mean_absolute_error: 33.6381 - val_loss: 3782.3367 - val_mean_squared_error: 3782.3367 - val_mean_absolute_error: 34.5029\n",
      "Epoch 798/1000\n",
      "5/5 [==============================] - 0s 10ms/step - loss: 3533.3734 - mean_squared_error: 3533.3734 - mean_absolute_error: 33.1229 - val_loss: 3782.1169 - val_mean_squared_error: 3782.1169 - val_mean_absolute_error: 34.4990\n",
      "Epoch 799/1000\n",
      "5/5 [==============================] - 0s 10ms/step - loss: 3608.3583 - mean_squared_error: 3608.3583 - mean_absolute_error: 33.8480 - val_loss: 3781.8723 - val_mean_squared_error: 3781.8723 - val_mean_absolute_error: 34.5007\n",
      "Epoch 800/1000\n",
      "5/5 [==============================] - 0s 10ms/step - loss: 3730.7952 - mean_squared_error: 3730.7952 - mean_absolute_error: 34.0027 - val_loss: 3781.6421 - val_mean_squared_error: 3781.6421 - val_mean_absolute_error: 34.5011\n",
      "Epoch 801/1000\n",
      "5/5 [==============================] - 0s 10ms/step - loss: 3454.8733 - mean_squared_error: 3454.8733 - mean_absolute_error: 32.8743 - val_loss: 3781.4231 - val_mean_squared_error: 3781.4231 - val_mean_absolute_error: 34.5013\n",
      "Epoch 802/1000\n",
      "5/5 [==============================] - 0s 10ms/step - loss: 3485.0988 - mean_squared_error: 3485.0988 - mean_absolute_error: 32.7842 - val_loss: 3781.2371 - val_mean_squared_error: 3781.2371 - val_mean_absolute_error: 34.5006\n",
      "Epoch 803/1000\n",
      "5/5 [==============================] - 0s 10ms/step - loss: 3602.0015 - mean_squared_error: 3602.0015 - mean_absolute_error: 33.6778 - val_loss: 3780.9688 - val_mean_squared_error: 3780.9683 - val_mean_absolute_error: 34.4997\n",
      "Epoch 804/1000\n",
      "5/5 [==============================] - 0s 9ms/step - loss: 3579.1983 - mean_squared_error: 3579.1983 - mean_absolute_error: 33.3298 - val_loss: 3780.8049 - val_mean_squared_error: 3780.8049 - val_mean_absolute_error: 34.4965\n",
      "Epoch 805/1000\n",
      "5/5 [==============================] - 0s 9ms/step - loss: 3667.0825 - mean_squared_error: 3667.0825 - mean_absolute_error: 33.8390 - val_loss: 3780.6040 - val_mean_squared_error: 3780.6035 - val_mean_absolute_error: 34.4955\n",
      "Epoch 806/1000\n",
      "5/5 [==============================] - 0s 10ms/step - loss: 3544.3774 - mean_squared_error: 3544.3774 - mean_absolute_error: 33.1881 - val_loss: 3780.3630 - val_mean_squared_error: 3780.3630 - val_mean_absolute_error: 34.4962\n",
      "Epoch 807/1000\n",
      "5/5 [==============================] - 0s 10ms/step - loss: 3580.3333 - mean_squared_error: 3580.3333 - mean_absolute_error: 33.3671 - val_loss: 3780.1641 - val_mean_squared_error: 3780.1641 - val_mean_absolute_error: 34.4955\n",
      "Epoch 808/1000\n",
      "5/5 [==============================] - 0s 10ms/step - loss: 3708.2540 - mean_squared_error: 3708.2540 - mean_absolute_error: 33.9821 - val_loss: 3779.9226 - val_mean_squared_error: 3779.9226 - val_mean_absolute_error: 34.4977\n",
      "Epoch 809/1000\n",
      "5/5 [==============================] - 0s 10ms/step - loss: 3628.6587 - mean_squared_error: 3628.6587 - mean_absolute_error: 33.7256 - val_loss: 3779.7456 - val_mean_squared_error: 3779.7456 - val_mean_absolute_error: 34.4972\n",
      "Epoch 810/1000\n",
      "5/5 [==============================] - 0s 10ms/step - loss: 3699.0372 - mean_squared_error: 3699.0372 - mean_absolute_error: 33.8802 - val_loss: 3779.4604 - val_mean_squared_error: 3779.4604 - val_mean_absolute_error: 34.4961\n",
      "Epoch 811/1000\n",
      "5/5 [==============================] - 0s 10ms/step - loss: 3536.8129 - mean_squared_error: 3536.8129 - mean_absolute_error: 33.0575 - val_loss: 3779.3169 - val_mean_squared_error: 3779.3169 - val_mean_absolute_error: 34.4887\n",
      "Epoch 812/1000\n",
      "5/5 [==============================] - 0s 9ms/step - loss: 3754.6086 - mean_squared_error: 3754.6086 - mean_absolute_error: 34.0368 - val_loss: 3779.0730 - val_mean_squared_error: 3779.0730 - val_mean_absolute_error: 34.4896\n",
      "Epoch 813/1000\n",
      "5/5 [==============================] - 0s 10ms/step - loss: 3700.2820 - mean_squared_error: 3700.2820 - mean_absolute_error: 33.7026 - val_loss: 3778.9038 - val_mean_squared_error: 3778.9038 - val_mean_absolute_error: 34.4863\n",
      "Epoch 814/1000\n",
      "5/5 [==============================] - 0s 10ms/step - loss: 3529.9080 - mean_squared_error: 3529.9080 - mean_absolute_error: 33.1351 - val_loss: 3778.6633 - val_mean_squared_error: 3778.6633 - val_mean_absolute_error: 34.4850\n",
      "Epoch 815/1000\n",
      "5/5 [==============================] - 0s 10ms/step - loss: 3799.9112 - mean_squared_error: 3799.9112 - mean_absolute_error: 33.9641 - val_loss: 3778.4863 - val_mean_squared_error: 3778.4863 - val_mean_absolute_error: 34.4813\n",
      "Epoch 816/1000\n",
      "5/5 [==============================] - 0s 9ms/step - loss: 3681.8263 - mean_squared_error: 3681.8263 - mean_absolute_error: 34.0638 - val_loss: 3778.3152 - val_mean_squared_error: 3778.3152 - val_mean_absolute_error: 34.4779\n",
      "Epoch 817/1000\n"
     ]
    },
    {
     "name": "stdout",
     "output_type": "stream",
     "text": [
      "5/5 [==============================] - 0s 9ms/step - loss: 3593.6869 - mean_squared_error: 3593.6869 - mean_absolute_error: 33.3860 - val_loss: 3778.0776 - val_mean_squared_error: 3778.0774 - val_mean_absolute_error: 34.4804\n",
      "Epoch 818/1000\n",
      "5/5 [==============================] - 0s 10ms/step - loss: 3533.1560 - mean_squared_error: 3533.1560 - mean_absolute_error: 33.2905 - val_loss: 3777.8621 - val_mean_squared_error: 3777.8621 - val_mean_absolute_error: 34.4799\n",
      "Epoch 819/1000\n",
      "5/5 [==============================] - 0s 9ms/step - loss: 3592.1176 - mean_squared_error: 3592.1176 - mean_absolute_error: 33.2380 - val_loss: 3777.6616 - val_mean_squared_error: 3777.6616 - val_mean_absolute_error: 34.4756\n",
      "Epoch 820/1000\n",
      "5/5 [==============================] - 0s 10ms/step - loss: 3665.9401 - mean_squared_error: 3665.9401 - mean_absolute_error: 33.5956 - val_loss: 3777.4705 - val_mean_squared_error: 3777.4705 - val_mean_absolute_error: 34.4733\n",
      "Epoch 821/1000\n",
      "5/5 [==============================] - 0s 10ms/step - loss: 3690.6471 - mean_squared_error: 3690.6471 - mean_absolute_error: 34.0697 - val_loss: 3777.2512 - val_mean_squared_error: 3777.2512 - val_mean_absolute_error: 34.4730\n",
      "Epoch 822/1000\n",
      "5/5 [==============================] - 0s 10ms/step - loss: 3678.1674 - mean_squared_error: 3678.1674 - mean_absolute_error: 33.9376 - val_loss: 3777.0623 - val_mean_squared_error: 3777.0627 - val_mean_absolute_error: 34.4689\n",
      "Epoch 823/1000\n",
      "5/5 [==============================] - 0s 10ms/step - loss: 3525.1870 - mean_squared_error: 3525.1870 - mean_absolute_error: 32.8982 - val_loss: 3776.8811 - val_mean_squared_error: 3776.8811 - val_mean_absolute_error: 34.4651\n",
      "Epoch 824/1000\n",
      "5/5 [==============================] - 0s 10ms/step - loss: 3765.9537 - mean_squared_error: 3765.9537 - mean_absolute_error: 34.2290 - val_loss: 3776.6929 - val_mean_squared_error: 3776.6929 - val_mean_absolute_error: 34.4642\n",
      "Epoch 825/1000\n",
      "5/5 [==============================] - 0s 10ms/step - loss: 3556.1781 - mean_squared_error: 3556.1781 - mean_absolute_error: 33.6240 - val_loss: 3776.4575 - val_mean_squared_error: 3776.4575 - val_mean_absolute_error: 34.4580\n",
      "Epoch 826/1000\n",
      "5/5 [==============================] - 0s 10ms/step - loss: 3751.5273 - mean_squared_error: 3751.5273 - mean_absolute_error: 34.2475 - val_loss: 3776.2861 - val_mean_squared_error: 3776.2861 - val_mean_absolute_error: 34.4566\n",
      "Epoch 827/1000\n",
      "5/5 [==============================] - 0s 11ms/step - loss: 3636.0289 - mean_squared_error: 3636.0289 - mean_absolute_error: 33.1320 - val_loss: 3776.0679 - val_mean_squared_error: 3776.0679 - val_mean_absolute_error: 34.4548\n",
      "Epoch 828/1000\n",
      "5/5 [==============================] - 0s 10ms/step - loss: 3608.2230 - mean_squared_error: 3608.2230 - mean_absolute_error: 33.6783 - val_loss: 3775.9045 - val_mean_squared_error: 3775.9045 - val_mean_absolute_error: 34.4494\n",
      "Epoch 829/1000\n",
      "5/5 [==============================] - 0s 10ms/step - loss: 3567.4219 - mean_squared_error: 3567.4219 - mean_absolute_error: 33.2297 - val_loss: 3775.7280 - val_mean_squared_error: 3775.7280 - val_mean_absolute_error: 34.4410\n",
      "Epoch 830/1000\n",
      "5/5 [==============================] - 0s 11ms/step - loss: 3439.9815 - mean_squared_error: 3439.9815 - mean_absolute_error: 32.9277 - val_loss: 3775.5098 - val_mean_squared_error: 3775.5098 - val_mean_absolute_error: 34.4380\n",
      "Epoch 831/1000\n",
      "5/5 [==============================] - 0s 10ms/step - loss: 3482.1943 - mean_squared_error: 3482.1943 - mean_absolute_error: 33.0094 - val_loss: 3775.3450 - val_mean_squared_error: 3775.3450 - val_mean_absolute_error: 34.4342\n",
      "Epoch 832/1000\n",
      "5/5 [==============================] - 0s 10ms/step - loss: 3749.4589 - mean_squared_error: 3749.4589 - mean_absolute_error: 33.8234 - val_loss: 3775.1504 - val_mean_squared_error: 3775.1504 - val_mean_absolute_error: 34.4341\n",
      "Epoch 833/1000\n",
      "5/5 [==============================] - 0s 10ms/step - loss: 3687.0166 - mean_squared_error: 3687.0166 - mean_absolute_error: 33.6501 - val_loss: 3774.9260 - val_mean_squared_error: 3774.9260 - val_mean_absolute_error: 34.4301\n",
      "Epoch 834/1000\n",
      "5/5 [==============================] - 0s 10ms/step - loss: 3620.0948 - mean_squared_error: 3620.0948 - mean_absolute_error: 33.2326 - val_loss: 3774.7776 - val_mean_squared_error: 3774.7776 - val_mean_absolute_error: 34.4226\n",
      "Epoch 835/1000\n",
      "5/5 [==============================] - 0s 9ms/step - loss: 3581.0106 - mean_squared_error: 3581.0106 - mean_absolute_error: 33.3722 - val_loss: 3774.5688 - val_mean_squared_error: 3774.5688 - val_mean_absolute_error: 34.4151\n",
      "Epoch 836/1000\n",
      "5/5 [==============================] - 0s 9ms/step - loss: 3587.9407 - mean_squared_error: 3587.9407 - mean_absolute_error: 33.2420 - val_loss: 3774.4150 - val_mean_squared_error: 3774.4150 - val_mean_absolute_error: 34.4105\n",
      "Epoch 837/1000\n",
      "5/5 [==============================] - 0s 9ms/step - loss: 3695.2003 - mean_squared_error: 3695.2001 - mean_absolute_error: 34.1337 - val_loss: 3774.1670 - val_mean_squared_error: 3774.1670 - val_mean_absolute_error: 34.4099\n",
      "Epoch 838/1000\n",
      "5/5 [==============================] - 0s 10ms/step - loss: 3555.8903 - mean_squared_error: 3555.8903 - mean_absolute_error: 32.8923 - val_loss: 3774.0378 - val_mean_squared_error: 3774.0378 - val_mean_absolute_error: 34.4002\n",
      "Epoch 839/1000\n",
      "5/5 [==============================] - 0s 10ms/step - loss: 3748.6801 - mean_squared_error: 3748.6801 - mean_absolute_error: 34.1692 - val_loss: 3773.8420 - val_mean_squared_error: 3773.8420 - val_mean_absolute_error: 34.3956\n",
      "Epoch 840/1000\n",
      "5/5 [==============================] - 0s 10ms/step - loss: 3774.9018 - mean_squared_error: 3774.9018 - mean_absolute_error: 34.2270 - val_loss: 3773.6799 - val_mean_squared_error: 3773.6799 - val_mean_absolute_error: 34.3927\n",
      "Epoch 841/1000\n",
      "5/5 [==============================] - 0s 10ms/step - loss: 3621.2192 - mean_squared_error: 3621.2192 - mean_absolute_error: 33.5280 - val_loss: 3773.4492 - val_mean_squared_error: 3773.4492 - val_mean_absolute_error: 34.3861\n",
      "Epoch 842/1000\n",
      "5/5 [==============================] - 0s 10ms/step - loss: 3706.2237 - mean_squared_error: 3706.2237 - mean_absolute_error: 33.6459 - val_loss: 3773.2698 - val_mean_squared_error: 3773.2698 - val_mean_absolute_error: 34.3821\n",
      "Epoch 843/1000\n",
      "5/5 [==============================] - 0s 9ms/step - loss: 3594.5938 - mean_squared_error: 3594.5938 - mean_absolute_error: 32.8510 - val_loss: 3773.0867 - val_mean_squared_error: 3773.0867 - val_mean_absolute_error: 34.3760\n",
      "Epoch 844/1000\n",
      "5/5 [==============================] - 0s 9ms/step - loss: 3772.5484 - mean_squared_error: 3772.5484 - mean_absolute_error: 33.9158 - val_loss: 3772.9219 - val_mean_squared_error: 3772.9219 - val_mean_absolute_error: 34.3732\n",
      "Epoch 845/1000\n",
      "5/5 [==============================] - 0s 9ms/step - loss: 3518.3441 - mean_squared_error: 3518.3441 - mean_absolute_error: 33.1029 - val_loss: 3772.6973 - val_mean_squared_error: 3772.6973 - val_mean_absolute_error: 34.3703\n",
      "Epoch 846/1000\n",
      "5/5 [==============================] - 0s 10ms/step - loss: 3534.5430 - mean_squared_error: 3534.5430 - mean_absolute_error: 33.2888 - val_loss: 3772.5627 - val_mean_squared_error: 3772.5627 - val_mean_absolute_error: 34.3642\n",
      "Epoch 847/1000\n",
      "5/5 [==============================] - 0s 9ms/step - loss: 3681.1504 - mean_squared_error: 3681.1504 - mean_absolute_error: 33.7743 - val_loss: 3772.3552 - val_mean_squared_error: 3772.3552 - val_mean_absolute_error: 34.3589\n",
      "Epoch 848/1000\n",
      "5/5 [==============================] - 0s 10ms/step - loss: 3656.0168 - mean_squared_error: 3656.0168 - mean_absolute_error: 33.5911 - val_loss: 3772.2007 - val_mean_squared_error: 3772.2007 - val_mean_absolute_error: 34.3552\n",
      "Epoch 849/1000\n",
      "5/5 [==============================] - 0s 10ms/step - loss: 3568.3001 - mean_squared_error: 3568.3001 - mean_absolute_error: 33.3735 - val_loss: 3771.9988 - val_mean_squared_error: 3771.9988 - val_mean_absolute_error: 34.3523\n",
      "Epoch 850/1000\n",
      "5/5 [==============================] - 0s 9ms/step - loss: 3612.1361 - mean_squared_error: 3612.1361 - mean_absolute_error: 33.6610 - val_loss: 3771.8157 - val_mean_squared_error: 3771.8157 - val_mean_absolute_error: 34.3498\n",
      "Epoch 851/1000\n",
      "5/5 [==============================] - 0s 9ms/step - loss: 3543.1967 - mean_squared_error: 3543.1967 - mean_absolute_error: 32.9299 - val_loss: 3771.6370 - val_mean_squared_error: 3771.6370 - val_mean_absolute_error: 34.3442\n",
      "Epoch 852/1000\n",
      "5/5 [==============================] - 0s 10ms/step - loss: 3646.0308 - mean_squared_error: 3646.0308 - mean_absolute_error: 33.3626 - val_loss: 3771.4077 - val_mean_squared_error: 3771.4077 - val_mean_absolute_error: 34.3456\n",
      "Epoch 853/1000\n",
      "5/5 [==============================] - 0s 9ms/step - loss: 3778.8501 - mean_squared_error: 3778.8501 - mean_absolute_error: 33.9457 - val_loss: 3771.2007 - val_mean_squared_error: 3771.2007 - val_mean_absolute_error: 34.3441\n",
      "Epoch 854/1000\n",
      "5/5 [==============================] - 0s 9ms/step - loss: 3369.1075 - mean_squared_error: 3369.1075 - mean_absolute_error: 32.5401 - val_loss: 3771.0481 - val_mean_squared_error: 3771.0481 - val_mean_absolute_error: 34.3387\n",
      "Epoch 855/1000\n",
      "5/5 [==============================] - 0s 10ms/step - loss: 3596.1138 - mean_squared_error: 3596.1138 - mean_absolute_error: 33.5391 - val_loss: 3770.8892 - val_mean_squared_error: 3770.8892 - val_mean_absolute_error: 34.3340\n",
      "Epoch 856/1000\n",
      "5/5 [==============================] - 0s 9ms/step - loss: 3571.4579 - mean_squared_error: 3571.4579 - mean_absolute_error: 33.1514 - val_loss: 3770.6743 - val_mean_squared_error: 3770.6748 - val_mean_absolute_error: 34.3303\n",
      "Epoch 857/1000\n",
      "5/5 [==============================] - 0s 10ms/step - loss: 3503.7880 - mean_squared_error: 3503.7880 - mean_absolute_error: 33.1882 - val_loss: 3770.5403 - val_mean_squared_error: 3770.5403 - val_mean_absolute_error: 34.3223\n",
      "Epoch 858/1000\n",
      "5/5 [==============================] - 0s 10ms/step - loss: 3521.9383 - mean_squared_error: 3521.9383 - mean_absolute_error: 32.8142 - val_loss: 3770.3367 - val_mean_squared_error: 3770.3367 - val_mean_absolute_error: 34.3170\n",
      "Epoch 859/1000\n",
      "5/5 [==============================] - 0s 9ms/step - loss: 3646.8387 - mean_squared_error: 3646.8387 - mean_absolute_error: 34.0065 - val_loss: 3770.1873 - val_mean_squared_error: 3770.1873 - val_mean_absolute_error: 34.3132\n",
      "Epoch 860/1000\n",
      "5/5 [==============================] - 0s 10ms/step - loss: 3588.2531 - mean_squared_error: 3588.2531 - mean_absolute_error: 33.8504 - val_loss: 3769.9429 - val_mean_squared_error: 3769.9429 - val_mean_absolute_error: 34.3122\n",
      "Epoch 861/1000\n",
      "5/5 [==============================] - 0s 10ms/step - loss: 3840.9311 - mean_squared_error: 3840.9311 - mean_absolute_error: 34.0300 - val_loss: 3769.8162 - val_mean_squared_error: 3769.8162 - val_mean_absolute_error: 34.3073\n",
      "Epoch 862/1000\n",
      "5/5 [==============================] - 0s 9ms/step - loss: 3570.9765 - mean_squared_error: 3570.9765 - mean_absolute_error: 33.3310 - val_loss: 3769.5901 - val_mean_squared_error: 3769.5901 - val_mean_absolute_error: 34.3079\n",
      "Epoch 863/1000\n",
      "5/5 [==============================] - 0s 10ms/step - loss: 3596.9283 - mean_squared_error: 3596.9283 - mean_absolute_error: 33.1577 - val_loss: 3769.4072 - val_mean_squared_error: 3769.4072 - val_mean_absolute_error: 34.3049\n",
      "Epoch 864/1000\n",
      "5/5 [==============================] - 0s 10ms/step - loss: 3784.1147 - mean_squared_error: 3784.1147 - mean_absolute_error: 34.0909 - val_loss: 3769.2251 - val_mean_squared_error: 3769.2251 - val_mean_absolute_error: 34.3003\n",
      "Epoch 865/1000\n",
      "5/5 [==============================] - 0s 9ms/step - loss: 3649.2452 - mean_squared_error: 3649.2452 - mean_absolute_error: 33.4419 - val_loss: 3769.0525 - val_mean_squared_error: 3769.0525 - val_mean_absolute_error: 34.2946\n",
      "Epoch 866/1000\n",
      "5/5 [==============================] - 0s 10ms/step - loss: 3713.1366 - mean_squared_error: 3713.1366 - mean_absolute_error: 34.2967 - val_loss: 3768.8896 - val_mean_squared_error: 3768.8896 - val_mean_absolute_error: 34.2861\n",
      "Epoch 867/1000\n",
      "5/5 [==============================] - 0s 10ms/step - loss: 3486.1923 - mean_squared_error: 3486.1923 - mean_absolute_error: 32.6338 - val_loss: 3768.7422 - val_mean_squared_error: 3768.7422 - val_mean_absolute_error: 34.2766\n",
      "Epoch 868/1000\n",
      "5/5 [==============================] - 0s 9ms/step - loss: 3656.6995 - mean_squared_error: 3656.6995 - mean_absolute_error: 33.7730 - val_loss: 3768.5798 - val_mean_squared_error: 3768.5793 - val_mean_absolute_error: 34.2681\n",
      "Epoch 869/1000\n",
      "5/5 [==============================] - 0s 10ms/step - loss: 3655.8280 - mean_squared_error: 3655.8280 - mean_absolute_error: 33.5262 - val_loss: 3768.3823 - val_mean_squared_error: 3768.3823 - val_mean_absolute_error: 34.2628\n",
      "Epoch 870/1000\n",
      "5/5 [==============================] - 0s 10ms/step - loss: 3792.3494 - mean_squared_error: 3792.3494 - mean_absolute_error: 33.7404 - val_loss: 3768.2363 - val_mean_squared_error: 3768.2363 - val_mean_absolute_error: 34.2565\n",
      "Epoch 871/1000\n",
      "5/5 [==============================] - 0s 10ms/step - loss: 3606.8695 - mean_squared_error: 3606.8695 - mean_absolute_error: 33.4048 - val_loss: 3768.0525 - val_mean_squared_error: 3768.0525 - val_mean_absolute_error: 34.2529\n",
      "Epoch 872/1000\n",
      "5/5 [==============================] - 0s 10ms/step - loss: 3701.3913 - mean_squared_error: 3701.3913 - mean_absolute_error: 33.6795 - val_loss: 3767.8716 - val_mean_squared_error: 3767.8711 - val_mean_absolute_error: 34.2461\n",
      "Epoch 873/1000\n",
      "5/5 [==============================] - 0s 10ms/step - loss: 3679.5608 - mean_squared_error: 3679.5608 - mean_absolute_error: 33.1190 - val_loss: 3767.7405 - val_mean_squared_error: 3767.7405 - val_mean_absolute_error: 34.2393\n",
      "Epoch 874/1000\n",
      "5/5 [==============================] - 0s 9ms/step - loss: 3681.8887 - mean_squared_error: 3681.8887 - mean_absolute_error: 33.4219 - val_loss: 3767.5430 - val_mean_squared_error: 3767.5430 - val_mean_absolute_error: 34.2346\n",
      "Epoch 875/1000\n",
      "5/5 [==============================] - 0s 9ms/step - loss: 3659.0906 - mean_squared_error: 3659.0906 - mean_absolute_error: 33.4254 - val_loss: 3767.4011 - val_mean_squared_error: 3767.4011 - val_mean_absolute_error: 34.2265\n",
      "Epoch 876/1000\n",
      "5/5 [==============================] - 0s 9ms/step - loss: 3655.6420 - mean_squared_error: 3655.6420 - mean_absolute_error: 33.4460 - val_loss: 3767.2114 - val_mean_squared_error: 3767.2114 - val_mean_absolute_error: 34.2197\n",
      "Epoch 877/1000\n",
      "5/5 [==============================] - 0s 9ms/step - loss: 3465.6226 - mean_squared_error: 3465.6226 - mean_absolute_error: 32.5648 - val_loss: 3767.0437 - val_mean_squared_error: 3767.0437 - val_mean_absolute_error: 34.2137\n",
      "Epoch 878/1000\n",
      "5/5 [==============================] - 0s 9ms/step - loss: 3546.3537 - mean_squared_error: 3546.3537 - mean_absolute_error: 33.1901 - val_loss: 3766.8875 - val_mean_squared_error: 3766.8875 - val_mean_absolute_error: 34.2076\n",
      "Epoch 879/1000\n",
      "5/5 [==============================] - 0s 10ms/step - loss: 3668.2034 - mean_squared_error: 3668.2034 - mean_absolute_error: 33.4410 - val_loss: 3766.7024 - val_mean_squared_error: 3766.7026 - val_mean_absolute_error: 34.2031\n",
      "Epoch 880/1000\n",
      "5/5 [==============================] - 0s 10ms/step - loss: 3536.7926 - mean_squared_error: 3536.7926 - mean_absolute_error: 32.7754 - val_loss: 3766.5498 - val_mean_squared_error: 3766.5503 - val_mean_absolute_error: 34.1973\n",
      "Epoch 881/1000\n",
      "5/5 [==============================] - 0s 10ms/step - loss: 3460.2083 - mean_squared_error: 3460.2083 - mean_absolute_error: 32.4920 - val_loss: 3766.3523 - val_mean_squared_error: 3766.3523 - val_mean_absolute_error: 34.1910\n",
      "Epoch 882/1000\n",
      "5/5 [==============================] - 0s 10ms/step - loss: 3518.3503 - mean_squared_error: 3518.3503 - mean_absolute_error: 32.9385 - val_loss: 3766.2324 - val_mean_squared_error: 3766.2324 - val_mean_absolute_error: 34.1828\n",
      "Epoch 883/1000\n",
      "5/5 [==============================] - 0s 10ms/step - loss: 3673.9860 - mean_squared_error: 3673.9860 - mean_absolute_error: 33.6107 - val_loss: 3766.0562 - val_mean_squared_error: 3766.0562 - val_mean_absolute_error: 34.1798\n",
      "Epoch 884/1000\n",
      "5/5 [==============================] - 0s 10ms/step - loss: 3380.1555 - mean_squared_error: 3380.1555 - mean_absolute_error: 32.4134 - val_loss: 3765.8813 - val_mean_squared_error: 3765.8813 - val_mean_absolute_error: 34.1736\n",
      "Epoch 885/1000\n"
     ]
    },
    {
     "name": "stdout",
     "output_type": "stream",
     "text": [
      "5/5 [==============================] - 0s 10ms/step - loss: 3533.1969 - mean_squared_error: 3533.1969 - mean_absolute_error: 33.3036 - val_loss: 3765.6941 - val_mean_squared_error: 3765.6941 - val_mean_absolute_error: 34.1679\n",
      "Epoch 886/1000\n",
      "5/5 [==============================] - 0s 10ms/step - loss: 3715.7788 - mean_squared_error: 3715.7788 - mean_absolute_error: 33.6898 - val_loss: 3765.5669 - val_mean_squared_error: 3765.5669 - val_mean_absolute_error: 34.1647\n",
      "Epoch 887/1000\n",
      "5/5 [==============================] - 0s 10ms/step - loss: 3536.8531 - mean_squared_error: 3536.8531 - mean_absolute_error: 33.0173 - val_loss: 3765.4077 - val_mean_squared_error: 3765.4077 - val_mean_absolute_error: 34.1601\n",
      "Epoch 888/1000\n",
      "5/5 [==============================] - 0s 9ms/step - loss: 3526.0776 - mean_squared_error: 3526.0776 - mean_absolute_error: 32.9912 - val_loss: 3765.2063 - val_mean_squared_error: 3765.2063 - val_mean_absolute_error: 34.1552\n",
      "Epoch 889/1000\n",
      "5/5 [==============================] - 0s 9ms/step - loss: 3555.9110 - mean_squared_error: 3555.9110 - mean_absolute_error: 33.3389 - val_loss: 3765.0583 - val_mean_squared_error: 3765.0583 - val_mean_absolute_error: 34.1516\n",
      "Epoch 890/1000\n",
      "5/5 [==============================] - 0s 9ms/step - loss: 3599.2250 - mean_squared_error: 3599.2250 - mean_absolute_error: 33.2853 - val_loss: 3764.9136 - val_mean_squared_error: 3764.9136 - val_mean_absolute_error: 34.1458\n",
      "Epoch 891/1000\n",
      "5/5 [==============================] - 0s 9ms/step - loss: 3617.7830 - mean_squared_error: 3617.7830 - mean_absolute_error: 33.4484 - val_loss: 3764.7488 - val_mean_squared_error: 3764.7488 - val_mean_absolute_error: 34.1391\n",
      "Epoch 892/1000\n",
      "5/5 [==============================] - 0s 9ms/step - loss: 3642.0146 - mean_squared_error: 3642.0146 - mean_absolute_error: 33.6476 - val_loss: 3764.5706 - val_mean_squared_error: 3764.5706 - val_mean_absolute_error: 34.1350\n",
      "Epoch 893/1000\n",
      "5/5 [==============================] - 0s 10ms/step - loss: 3660.2162 - mean_squared_error: 3660.2162 - mean_absolute_error: 33.6323 - val_loss: 3764.3926 - val_mean_squared_error: 3764.3926 - val_mean_absolute_error: 34.1297\n",
      "Epoch 894/1000\n",
      "5/5 [==============================] - 0s 9ms/step - loss: 3719.4116 - mean_squared_error: 3719.4116 - mean_absolute_error: 33.6089 - val_loss: 3764.2224 - val_mean_squared_error: 3764.2224 - val_mean_absolute_error: 34.1290\n",
      "Epoch 895/1000\n",
      "5/5 [==============================] - 0s 9ms/step - loss: 3860.3551 - mean_squared_error: 3860.3551 - mean_absolute_error: 34.4304 - val_loss: 3764.0815 - val_mean_squared_error: 3764.0815 - val_mean_absolute_error: 34.1218\n",
      "Epoch 896/1000\n",
      "5/5 [==============================] - 0s 9ms/step - loss: 3728.0691 - mean_squared_error: 3728.0691 - mean_absolute_error: 33.5639 - val_loss: 3763.8682 - val_mean_squared_error: 3763.8687 - val_mean_absolute_error: 34.1177\n",
      "Epoch 897/1000\n",
      "5/5 [==============================] - 0s 10ms/step - loss: 3462.2550 - mean_squared_error: 3462.2550 - mean_absolute_error: 32.6915 - val_loss: 3763.7634 - val_mean_squared_error: 3763.7634 - val_mean_absolute_error: 34.1094\n",
      "Epoch 898/1000\n",
      "5/5 [==============================] - 0s 10ms/step - loss: 3506.5579 - mean_squared_error: 3506.5579 - mean_absolute_error: 32.7850 - val_loss: 3763.5872 - val_mean_squared_error: 3763.5872 - val_mean_absolute_error: 34.1036\n",
      "Epoch 899/1000\n",
      "5/5 [==============================] - 0s 9ms/step - loss: 3587.0144 - mean_squared_error: 3587.0144 - mean_absolute_error: 33.1510 - val_loss: 3763.4583 - val_mean_squared_error: 3763.4583 - val_mean_absolute_error: 34.0960\n",
      "Epoch 900/1000\n",
      "5/5 [==============================] - 0s 9ms/step - loss: 3616.5732 - mean_squared_error: 3616.5732 - mean_absolute_error: 33.1683 - val_loss: 3763.2527 - val_mean_squared_error: 3763.2527 - val_mean_absolute_error: 34.0934\n",
      "Epoch 901/1000\n",
      "5/5 [==============================] - 0s 10ms/step - loss: 3583.1326 - mean_squared_error: 3583.1326 - mean_absolute_error: 32.8168 - val_loss: 3763.1113 - val_mean_squared_error: 3763.1113 - val_mean_absolute_error: 34.0871\n",
      "Epoch 902/1000\n",
      "5/5 [==============================] - 0s 9ms/step - loss: 3663.3896 - mean_squared_error: 3663.3896 - mean_absolute_error: 33.2189 - val_loss: 3762.9707 - val_mean_squared_error: 3762.9712 - val_mean_absolute_error: 34.0798\n",
      "Epoch 903/1000\n",
      "5/5 [==============================] - 0s 10ms/step - loss: 3516.4064 - mean_squared_error: 3516.4064 - mean_absolute_error: 33.1355 - val_loss: 3762.8333 - val_mean_squared_error: 3762.8333 - val_mean_absolute_error: 34.0726\n",
      "Epoch 904/1000\n",
      "5/5 [==============================] - 0s 10ms/step - loss: 3500.4579 - mean_squared_error: 3500.4579 - mean_absolute_error: 32.4132 - val_loss: 3762.6370 - val_mean_squared_error: 3762.6367 - val_mean_absolute_error: 34.0683\n",
      "Epoch 905/1000\n",
      "5/5 [==============================] - 0s 9ms/step - loss: 3628.2898 - mean_squared_error: 3628.2898 - mean_absolute_error: 33.1263 - val_loss: 3762.5034 - val_mean_squared_error: 3762.5034 - val_mean_absolute_error: 34.0606\n",
      "Epoch 906/1000\n",
      "5/5 [==============================] - 0s 10ms/step - loss: 3603.3656 - mean_squared_error: 3603.3656 - mean_absolute_error: 33.4646 - val_loss: 3762.3259 - val_mean_squared_error: 3762.3259 - val_mean_absolute_error: 34.0554\n",
      "Epoch 907/1000\n",
      "5/5 [==============================] - 0s 9ms/step - loss: 3440.4851 - mean_squared_error: 3440.4851 - mean_absolute_error: 32.5762 - val_loss: 3762.2258 - val_mean_squared_error: 3762.2258 - val_mean_absolute_error: 34.0462\n",
      "Epoch 908/1000\n",
      "5/5 [==============================] - 0s 9ms/step - loss: 3717.9136 - mean_squared_error: 3717.9136 - mean_absolute_error: 33.5351 - val_loss: 3762.0437 - val_mean_squared_error: 3762.0437 - val_mean_absolute_error: 34.0422\n",
      "Epoch 909/1000\n",
      "5/5 [==============================] - 0s 10ms/step - loss: 3583.4612 - mean_squared_error: 3583.4612 - mean_absolute_error: 33.1525 - val_loss: 3761.9004 - val_mean_squared_error: 3761.9004 - val_mean_absolute_error: 34.0335\n",
      "Epoch 910/1000\n",
      "5/5 [==============================] - 0s 9ms/step - loss: 3611.0961 - mean_squared_error: 3611.0961 - mean_absolute_error: 33.5137 - val_loss: 3761.7483 - val_mean_squared_error: 3761.7483 - val_mean_absolute_error: 34.0293\n",
      "Epoch 911/1000\n",
      "5/5 [==============================] - 0s 10ms/step - loss: 3499.7847 - mean_squared_error: 3499.7847 - mean_absolute_error: 32.4766 - val_loss: 3761.5898 - val_mean_squared_error: 3761.5894 - val_mean_absolute_error: 34.0237\n",
      "Epoch 912/1000\n",
      "5/5 [==============================] - 0s 10ms/step - loss: 3553.6670 - mean_squared_error: 3553.6670 - mean_absolute_error: 33.1245 - val_loss: 3761.4739 - val_mean_squared_error: 3761.4739 - val_mean_absolute_error: 34.0144\n",
      "Epoch 913/1000\n",
      "5/5 [==============================] - 0s 10ms/step - loss: 3646.0880 - mean_squared_error: 3646.0880 - mean_absolute_error: 33.0831 - val_loss: 3761.2937 - val_mean_squared_error: 3761.2937 - val_mean_absolute_error: 34.0084\n",
      "Epoch 914/1000\n",
      "5/5 [==============================] - 0s 10ms/step - loss: 3549.6748 - mean_squared_error: 3549.6748 - mean_absolute_error: 33.0542 - val_loss: 3761.1526 - val_mean_squared_error: 3761.1526 - val_mean_absolute_error: 34.0038\n",
      "Epoch 915/1000\n",
      "5/5 [==============================] - 0s 10ms/step - loss: 3619.3645 - mean_squared_error: 3619.3645 - mean_absolute_error: 32.8772 - val_loss: 3761.0034 - val_mean_squared_error: 3761.0034 - val_mean_absolute_error: 33.9996\n",
      "Epoch 916/1000\n",
      "5/5 [==============================] - 0s 9ms/step - loss: 3581.3724 - mean_squared_error: 3581.3724 - mean_absolute_error: 33.1188 - val_loss: 3760.8467 - val_mean_squared_error: 3760.8467 - val_mean_absolute_error: 33.9948\n",
      "Epoch 917/1000\n",
      "5/5 [==============================] - 0s 9ms/step - loss: 3721.0020 - mean_squared_error: 3721.0020 - mean_absolute_error: 33.6518 - val_loss: 3760.7026 - val_mean_squared_error: 3760.7026 - val_mean_absolute_error: 33.9898\n",
      "Epoch 918/1000\n",
      "5/5 [==============================] - 0s 9ms/step - loss: 3503.5355 - mean_squared_error: 3503.5355 - mean_absolute_error: 32.3575 - val_loss: 3760.5095 - val_mean_squared_error: 3760.5095 - val_mean_absolute_error: 33.9864\n",
      "Epoch 919/1000\n",
      "5/5 [==============================] - 0s 9ms/step - loss: 3536.0440 - mean_squared_error: 3536.0440 - mean_absolute_error: 32.9814 - val_loss: 3760.3999 - val_mean_squared_error: 3760.3999 - val_mean_absolute_error: 33.9769\n",
      "Epoch 920/1000\n",
      "5/5 [==============================] - 0s 9ms/step - loss: 3673.2643 - mean_squared_error: 3673.2643 - mean_absolute_error: 33.2598 - val_loss: 3760.2495 - val_mean_squared_error: 3760.2495 - val_mean_absolute_error: 33.9715\n",
      "Epoch 921/1000\n",
      "5/5 [==============================] - 0s 9ms/step - loss: 3667.8035 - mean_squared_error: 3667.8035 - mean_absolute_error: 33.1406 - val_loss: 3760.0872 - val_mean_squared_error: 3760.0872 - val_mean_absolute_error: 33.9645\n",
      "Epoch 922/1000\n",
      "5/5 [==============================] - 0s 9ms/step - loss: 3589.7408 - mean_squared_error: 3589.7408 - mean_absolute_error: 33.3158 - val_loss: 3759.9734 - val_mean_squared_error: 3759.9734 - val_mean_absolute_error: 33.9545\n",
      "Epoch 923/1000\n",
      "5/5 [==============================] - 0s 9ms/step - loss: 3637.5048 - mean_squared_error: 3637.5048 - mean_absolute_error: 33.5308 - val_loss: 3759.8008 - val_mean_squared_error: 3759.8008 - val_mean_absolute_error: 33.9491\n",
      "Epoch 924/1000\n",
      "5/5 [==============================] - 0s 10ms/step - loss: 3524.9958 - mean_squared_error: 3524.9958 - mean_absolute_error: 32.4094 - val_loss: 3759.6873 - val_mean_squared_error: 3759.6873 - val_mean_absolute_error: 33.9435\n",
      "Epoch 925/1000\n",
      "5/5 [==============================] - 0s 9ms/step - loss: 3538.3339 - mean_squared_error: 3538.3339 - mean_absolute_error: 32.5804 - val_loss: 3759.4866 - val_mean_squared_error: 3759.4866 - val_mean_absolute_error: 33.9410\n",
      "Epoch 926/1000\n",
      "5/5 [==============================] - 0s 9ms/step - loss: 3746.6242 - mean_squared_error: 3746.6242 - mean_absolute_error: 33.7032 - val_loss: 3759.3633 - val_mean_squared_error: 3759.3633 - val_mean_absolute_error: 33.9333\n",
      "Epoch 927/1000\n",
      "5/5 [==============================] - 0s 9ms/step - loss: 3754.1717 - mean_squared_error: 3754.1717 - mean_absolute_error: 33.2772 - val_loss: 3759.2329 - val_mean_squared_error: 3759.2329 - val_mean_absolute_error: 33.9299\n",
      "Epoch 928/1000\n",
      "5/5 [==============================] - 0s 10ms/step - loss: 3721.0163 - mean_squared_error: 3721.0163 - mean_absolute_error: 33.4276 - val_loss: 3759.0808 - val_mean_squared_error: 3759.0808 - val_mean_absolute_error: 33.9227\n",
      "Epoch 929/1000\n",
      "5/5 [==============================] - 0s 9ms/step - loss: 3560.2406 - mean_squared_error: 3560.2406 - mean_absolute_error: 32.7071 - val_loss: 3758.9587 - val_mean_squared_error: 3758.9587 - val_mean_absolute_error: 33.9119\n",
      "Epoch 930/1000\n",
      "5/5 [==============================] - 0s 9ms/step - loss: 3507.4643 - mean_squared_error: 3507.4643 - mean_absolute_error: 32.3879 - val_loss: 3758.8188 - val_mean_squared_error: 3758.8188 - val_mean_absolute_error: 33.9067\n",
      "Epoch 931/1000\n",
      "5/5 [==============================] - 0s 10ms/step - loss: 3369.8394 - mean_squared_error: 3369.8394 - mean_absolute_error: 32.1131 - val_loss: 3758.6526 - val_mean_squared_error: 3758.6526 - val_mean_absolute_error: 33.8951\n",
      "Epoch 932/1000\n",
      "5/5 [==============================] - 0s 10ms/step - loss: 3534.8620 - mean_squared_error: 3534.8620 - mean_absolute_error: 32.7155 - val_loss: 3758.5420 - val_mean_squared_error: 3758.5420 - val_mean_absolute_error: 33.8893\n",
      "Epoch 933/1000\n",
      "5/5 [==============================] - 0s 10ms/step - loss: 3690.4973 - mean_squared_error: 3690.4973 - mean_absolute_error: 32.9885 - val_loss: 3758.3733 - val_mean_squared_error: 3758.3733 - val_mean_absolute_error: 33.8869\n",
      "Epoch 934/1000\n",
      "5/5 [==============================] - 0s 10ms/step - loss: 3573.7878 - mean_squared_error: 3573.7878 - mean_absolute_error: 32.5882 - val_loss: 3758.2207 - val_mean_squared_error: 3758.2207 - val_mean_absolute_error: 33.8843\n",
      "Epoch 935/1000\n",
      "5/5 [==============================] - 0s 10ms/step - loss: 3550.1425 - mean_squared_error: 3550.1425 - mean_absolute_error: 32.6454 - val_loss: 3758.0667 - val_mean_squared_error: 3758.0667 - val_mean_absolute_error: 33.8801\n",
      "Epoch 936/1000\n",
      "5/5 [==============================] - 0s 10ms/step - loss: 3493.7423 - mean_squared_error: 3493.7423 - mean_absolute_error: 32.7378 - val_loss: 3757.9417 - val_mean_squared_error: 3757.9417 - val_mean_absolute_error: 33.8729\n",
      "Epoch 937/1000\n",
      "5/5 [==============================] - 0s 10ms/step - loss: 3509.9831 - mean_squared_error: 3509.9831 - mean_absolute_error: 32.7648 - val_loss: 3757.8169 - val_mean_squared_error: 3757.8169 - val_mean_absolute_error: 33.8651\n",
      "Epoch 938/1000\n",
      "5/5 [==============================] - 0s 10ms/step - loss: 3534.7643 - mean_squared_error: 3534.7643 - mean_absolute_error: 32.5106 - val_loss: 3757.6404 - val_mean_squared_error: 3757.6404 - val_mean_absolute_error: 33.8589\n",
      "Epoch 939/1000\n",
      "5/5 [==============================] - 0s 10ms/step - loss: 3497.7178 - mean_squared_error: 3497.7178 - mean_absolute_error: 32.5860 - val_loss: 3757.5151 - val_mean_squared_error: 3757.5151 - val_mean_absolute_error: 33.8520\n",
      "Epoch 940/1000\n",
      "5/5 [==============================] - 0s 10ms/step - loss: 3587.3542 - mean_squared_error: 3587.3542 - mean_absolute_error: 33.0753 - val_loss: 3757.3867 - val_mean_squared_error: 3757.3867 - val_mean_absolute_error: 33.8477\n",
      "Epoch 941/1000\n",
      "5/5 [==============================] - 0s 9ms/step - loss: 3618.6072 - mean_squared_error: 3618.6072 - mean_absolute_error: 33.4326 - val_loss: 3757.2295 - val_mean_squared_error: 3757.2295 - val_mean_absolute_error: 33.8431\n",
      "Epoch 942/1000\n",
      "5/5 [==============================] - 0s 10ms/step - loss: 3595.7253 - mean_squared_error: 3595.7253 - mean_absolute_error: 32.5467 - val_loss: 3757.1125 - val_mean_squared_error: 3757.1125 - val_mean_absolute_error: 33.8363\n",
      "Epoch 943/1000\n",
      "5/5 [==============================] - 0s 9ms/step - loss: 3581.9193 - mean_squared_error: 3581.9193 - mean_absolute_error: 33.0297 - val_loss: 3756.9507 - val_mean_squared_error: 3756.9507 - val_mean_absolute_error: 33.8292\n",
      "Epoch 944/1000\n",
      "5/5 [==============================] - 0s 10ms/step - loss: 3616.5260 - mean_squared_error: 3616.5260 - mean_absolute_error: 32.9830 - val_loss: 3756.8308 - val_mean_squared_error: 3756.8308 - val_mean_absolute_error: 33.8233\n",
      "Epoch 945/1000\n",
      "5/5 [==============================] - 0s 10ms/step - loss: 3725.7512 - mean_squared_error: 3725.7512 - mean_absolute_error: 33.3067 - val_loss: 3756.7251 - val_mean_squared_error: 3756.7251 - val_mean_absolute_error: 33.8145\n",
      "Epoch 946/1000\n",
      "5/5 [==============================] - 0s 10ms/step - loss: 3655.7197 - mean_squared_error: 3655.7197 - mean_absolute_error: 33.3820 - val_loss: 3756.5632 - val_mean_squared_error: 3756.5635 - val_mean_absolute_error: 33.8094\n",
      "Epoch 947/1000\n",
      "5/5 [==============================] - 0s 9ms/step - loss: 3580.6386 - mean_squared_error: 3580.6386 - mean_absolute_error: 32.3369 - val_loss: 3756.4294 - val_mean_squared_error: 3756.4294 - val_mean_absolute_error: 33.8058\n",
      "Epoch 948/1000\n",
      "5/5 [==============================] - 0s 9ms/step - loss: 3397.8247 - mean_squared_error: 3397.8247 - mean_absolute_error: 32.0565 - val_loss: 3756.2886 - val_mean_squared_error: 3756.2886 - val_mean_absolute_error: 33.7952\n",
      "Epoch 949/1000\n",
      "5/5 [==============================] - 0s 9ms/step - loss: 3573.8713 - mean_squared_error: 3573.8713 - mean_absolute_error: 32.6481 - val_loss: 3756.1633 - val_mean_squared_error: 3756.1633 - val_mean_absolute_error: 33.7901\n",
      "Epoch 950/1000\n",
      "5/5 [==============================] - 0s 9ms/step - loss: 3717.1149 - mean_squared_error: 3717.1149 - mean_absolute_error: 33.4108 - val_loss: 3756.0481 - val_mean_squared_error: 3756.0481 - val_mean_absolute_error: 33.7848\n",
      "Epoch 951/1000\n",
      "5/5 [==============================] - 0s 10ms/step - loss: 3776.6833 - mean_squared_error: 3776.6833 - mean_absolute_error: 33.6178 - val_loss: 3755.8621 - val_mean_squared_error: 3755.8621 - val_mean_absolute_error: 33.7807\n",
      "Epoch 952/1000\n",
      "5/5 [==============================] - 0s 10ms/step - loss: 3733.4058 - mean_squared_error: 3733.4058 - mean_absolute_error: 33.5202 - val_loss: 3755.7568 - val_mean_squared_error: 3755.7568 - val_mean_absolute_error: 33.7738\n",
      "Epoch 953/1000\n"
     ]
    },
    {
     "name": "stdout",
     "output_type": "stream",
     "text": [
      "5/5 [==============================] - 0s 10ms/step - loss: 3682.5398 - mean_squared_error: 3682.5398 - mean_absolute_error: 33.1974 - val_loss: 3755.6187 - val_mean_squared_error: 3755.6187 - val_mean_absolute_error: 33.7660\n",
      "Epoch 954/1000\n",
      "5/5 [==============================] - 0s 10ms/step - loss: 3689.0959 - mean_squared_error: 3689.0959 - mean_absolute_error: 33.1201 - val_loss: 3755.4954 - val_mean_squared_error: 3755.4954 - val_mean_absolute_error: 33.7597\n",
      "Epoch 955/1000\n",
      "5/5 [==============================] - 0s 10ms/step - loss: 3616.2834 - mean_squared_error: 3616.2834 - mean_absolute_error: 32.7945 - val_loss: 3755.3806 - val_mean_squared_error: 3755.3806 - val_mean_absolute_error: 33.7532\n",
      "Epoch 956/1000\n",
      "5/5 [==============================] - 0s 9ms/step - loss: 3644.0998 - mean_squared_error: 3644.0998 - mean_absolute_error: 32.8532 - val_loss: 3755.2166 - val_mean_squared_error: 3755.2166 - val_mean_absolute_error: 33.7482\n",
      "Epoch 957/1000\n",
      "5/5 [==============================] - 0s 10ms/step - loss: 3443.9455 - mean_squared_error: 3443.9455 - mean_absolute_error: 32.5604 - val_loss: 3755.0984 - val_mean_squared_error: 3755.0984 - val_mean_absolute_error: 33.7417\n",
      "Epoch 958/1000\n",
      "5/5 [==============================] - 0s 9ms/step - loss: 3734.2651 - mean_squared_error: 3734.2651 - mean_absolute_error: 33.2628 - val_loss: 3754.9575 - val_mean_squared_error: 3754.9575 - val_mean_absolute_error: 33.7402\n",
      "Epoch 959/1000\n",
      "5/5 [==============================] - 0s 10ms/step - loss: 3784.4716 - mean_squared_error: 3784.4716 - mean_absolute_error: 33.5424 - val_loss: 3754.8264 - val_mean_squared_error: 3754.8264 - val_mean_absolute_error: 33.7344\n",
      "Epoch 960/1000\n",
      "5/5 [==============================] - 0s 10ms/step - loss: 3540.4971 - mean_squared_error: 3540.4971 - mean_absolute_error: 32.6004 - val_loss: 3754.6980 - val_mean_squared_error: 3754.6980 - val_mean_absolute_error: 33.7279\n",
      "Epoch 961/1000\n",
      "5/5 [==============================] - 0s 9ms/step - loss: 3359.9707 - mean_squared_error: 3359.9707 - mean_absolute_error: 31.8695 - val_loss: 3754.5645 - val_mean_squared_error: 3754.5645 - val_mean_absolute_error: 33.7184\n",
      "Epoch 962/1000\n",
      "5/5 [==============================] - 0s 9ms/step - loss: 3781.9145 - mean_squared_error: 3781.9145 - mean_absolute_error: 33.2762 - val_loss: 3754.4656 - val_mean_squared_error: 3754.4656 - val_mean_absolute_error: 33.7104\n",
      "Epoch 963/1000\n",
      "5/5 [==============================] - 0s 9ms/step - loss: 3575.8758 - mean_squared_error: 3575.8758 - mean_absolute_error: 32.6800 - val_loss: 3754.3118 - val_mean_squared_error: 3754.3118 - val_mean_absolute_error: 33.7059\n",
      "Epoch 964/1000\n",
      "5/5 [==============================] - 0s 9ms/step - loss: 3567.1804 - mean_squared_error: 3567.1804 - mean_absolute_error: 32.4100 - val_loss: 3754.2290 - val_mean_squared_error: 3754.2290 - val_mean_absolute_error: 33.6979\n",
      "Epoch 965/1000\n",
      "5/5 [==============================] - 0s 9ms/step - loss: 3461.8435 - mean_squared_error: 3461.8435 - mean_absolute_error: 32.3972 - val_loss: 3754.0542 - val_mean_squared_error: 3754.0542 - val_mean_absolute_error: 33.6956\n",
      "Epoch 966/1000\n",
      "5/5 [==============================] - 0s 10ms/step - loss: 3526.4252 - mean_squared_error: 3526.4252 - mean_absolute_error: 32.6284 - val_loss: 3753.9377 - val_mean_squared_error: 3753.9377 - val_mean_absolute_error: 33.6894\n",
      "Epoch 967/1000\n",
      "5/5 [==============================] - 0s 10ms/step - loss: 3802.6955 - mean_squared_error: 3802.6955 - mean_absolute_error: 33.9602 - val_loss: 3753.8062 - val_mean_squared_error: 3753.8062 - val_mean_absolute_error: 33.6831\n",
      "Epoch 968/1000\n",
      "5/5 [==============================] - 0s 9ms/step - loss: 3614.7786 - mean_squared_error: 3614.7786 - mean_absolute_error: 32.8183 - val_loss: 3753.7122 - val_mean_squared_error: 3753.7122 - val_mean_absolute_error: 33.6719\n",
      "Epoch 969/1000\n",
      "5/5 [==============================] - 0s 10ms/step - loss: 3576.0014 - mean_squared_error: 3576.0014 - mean_absolute_error: 32.2861 - val_loss: 3753.5474 - val_mean_squared_error: 3753.5469 - val_mean_absolute_error: 33.6712\n",
      "Epoch 970/1000\n",
      "5/5 [==============================] - 0s 9ms/step - loss: 3467.0498 - mean_squared_error: 3467.0498 - mean_absolute_error: 32.0709 - val_loss: 3753.4365 - val_mean_squared_error: 3753.4365 - val_mean_absolute_error: 33.6643\n",
      "Epoch 971/1000\n",
      "5/5 [==============================] - 0s 9ms/step - loss: 3387.8868 - mean_squared_error: 3387.8868 - mean_absolute_error: 31.6826 - val_loss: 3753.3059 - val_mean_squared_error: 3753.3059 - val_mean_absolute_error: 33.6590\n",
      "Epoch 972/1000\n",
      "5/5 [==============================] - 0s 9ms/step - loss: 3608.0848 - mean_squared_error: 3608.0848 - mean_absolute_error: 32.9426 - val_loss: 3753.1912 - val_mean_squared_error: 3753.1912 - val_mean_absolute_error: 33.6531\n",
      "Epoch 973/1000\n",
      "5/5 [==============================] - 0s 10ms/step - loss: 3515.0420 - mean_squared_error: 3515.0420 - mean_absolute_error: 32.6053 - val_loss: 3753.0825 - val_mean_squared_error: 3753.0825 - val_mean_absolute_error: 33.6463\n",
      "Epoch 974/1000\n",
      "5/5 [==============================] - 0s 9ms/step - loss: 3529.5154 - mean_squared_error: 3529.5154 - mean_absolute_error: 32.3613 - val_loss: 3752.9390 - val_mean_squared_error: 3752.9390 - val_mean_absolute_error: 33.6422\n",
      "Epoch 975/1000\n",
      "5/5 [==============================] - 0s 10ms/step - loss: 3597.3444 - mean_squared_error: 3597.3444 - mean_absolute_error: 32.6321 - val_loss: 3752.8123 - val_mean_squared_error: 3752.8123 - val_mean_absolute_error: 33.6377\n",
      "Epoch 976/1000\n",
      "5/5 [==============================] - 0s 10ms/step - loss: 3560.4220 - mean_squared_error: 3560.4220 - mean_absolute_error: 32.8231 - val_loss: 3752.6670 - val_mean_squared_error: 3752.6670 - val_mean_absolute_error: 33.6324\n",
      "Epoch 977/1000\n",
      "5/5 [==============================] - 0s 10ms/step - loss: 3557.6187 - mean_squared_error: 3557.6187 - mean_absolute_error: 32.3998 - val_loss: 3752.5867 - val_mean_squared_error: 3752.5867 - val_mean_absolute_error: 33.6256\n",
      "Epoch 978/1000\n",
      "5/5 [==============================] - 0s 10ms/step - loss: 3616.3711 - mean_squared_error: 3616.3711 - mean_absolute_error: 32.8016 - val_loss: 3752.4253 - val_mean_squared_error: 3752.4253 - val_mean_absolute_error: 33.6234\n",
      "Epoch 979/1000\n",
      "5/5 [==============================] - 0s 11ms/step - loss: 3579.2177 - mean_squared_error: 3579.2177 - mean_absolute_error: 33.0391 - val_loss: 3752.3218 - val_mean_squared_error: 3752.3218 - val_mean_absolute_error: 33.6151\n",
      "Epoch 980/1000\n",
      "5/5 [==============================] - 0s 10ms/step - loss: 3595.0492 - mean_squared_error: 3595.0492 - mean_absolute_error: 32.6891 - val_loss: 3752.1809 - val_mean_squared_error: 3752.1804 - val_mean_absolute_error: 33.6141\n",
      "Epoch 981/1000\n",
      "5/5 [==============================] - 0s 10ms/step - loss: 3650.6625 - mean_squared_error: 3650.6625 - mean_absolute_error: 33.0122 - val_loss: 3752.0808 - val_mean_squared_error: 3752.0803 - val_mean_absolute_error: 33.6082\n",
      "Epoch 982/1000\n",
      "5/5 [==============================] - 0s 9ms/step - loss: 3501.0140 - mean_squared_error: 3501.0140 - mean_absolute_error: 32.6425 - val_loss: 3751.9089 - val_mean_squared_error: 3751.9089 - val_mean_absolute_error: 33.6044\n",
      "Epoch 983/1000\n",
      "5/5 [==============================] - 0s 9ms/step - loss: 3551.3911 - mean_squared_error: 3551.3911 - mean_absolute_error: 32.5644 - val_loss: 3751.8076 - val_mean_squared_error: 3751.8081 - val_mean_absolute_error: 33.5974\n",
      "Epoch 984/1000\n",
      "5/5 [==============================] - 0s 9ms/step - loss: 3586.3714 - mean_squared_error: 3586.3714 - mean_absolute_error: 32.2226 - val_loss: 3751.6956 - val_mean_squared_error: 3751.6956 - val_mean_absolute_error: 33.5909\n",
      "Epoch 985/1000\n",
      "5/5 [==============================] - 0s 9ms/step - loss: 3770.7310 - mean_squared_error: 3770.7310 - mean_absolute_error: 33.1041 - val_loss: 3751.5808 - val_mean_squared_error: 3751.5808 - val_mean_absolute_error: 33.5838\n",
      "Epoch 986/1000\n",
      "5/5 [==============================] - 0s 10ms/step - loss: 3865.6976 - mean_squared_error: 3865.6976 - mean_absolute_error: 33.7181 - val_loss: 3751.4688 - val_mean_squared_error: 3751.4688 - val_mean_absolute_error: 33.5759\n",
      "Epoch 987/1000\n",
      "5/5 [==============================] - 0s 10ms/step - loss: 3644.0367 - mean_squared_error: 3644.0367 - mean_absolute_error: 32.3009 - val_loss: 3751.3506 - val_mean_squared_error: 3751.3506 - val_mean_absolute_error: 33.5684\n",
      "Epoch 988/1000\n",
      "5/5 [==============================] - 0s 11ms/step - loss: 3738.2734 - mean_squared_error: 3738.2734 - mean_absolute_error: 33.2280 - val_loss: 3751.2581 - val_mean_squared_error: 3751.2581 - val_mean_absolute_error: 33.5589\n",
      "Epoch 989/1000\n",
      "5/5 [==============================] - 0s 10ms/step - loss: 3628.7358 - mean_squared_error: 3628.7358 - mean_absolute_error: 32.8211 - val_loss: 3751.1455 - val_mean_squared_error: 3751.1455 - val_mean_absolute_error: 33.5501\n",
      "Epoch 990/1000\n",
      "5/5 [==============================] - 0s 10ms/step - loss: 3586.3340 - mean_squared_error: 3586.3340 - mean_absolute_error: 32.7906 - val_loss: 3751.0344 - val_mean_squared_error: 3751.0344 - val_mean_absolute_error: 33.5402\n",
      "Epoch 991/1000\n",
      "5/5 [==============================] - 0s 10ms/step - loss: 3626.9065 - mean_squared_error: 3626.9065 - mean_absolute_error: 33.0085 - val_loss: 3750.9441 - val_mean_squared_error: 3750.9438 - val_mean_absolute_error: 33.5312\n",
      "Epoch 992/1000\n",
      "5/5 [==============================] - 0s 9ms/step - loss: 3565.0739 - mean_squared_error: 3565.0739 - mean_absolute_error: 32.4013 - val_loss: 3750.8350 - val_mean_squared_error: 3750.8350 - val_mean_absolute_error: 33.5264\n",
      "Epoch 993/1000\n",
      "5/5 [==============================] - 0s 10ms/step - loss: 3477.8299 - mean_squared_error: 3477.8299 - mean_absolute_error: 32.3735 - val_loss: 3750.6826 - val_mean_squared_error: 3750.6826 - val_mean_absolute_error: 33.5195\n",
      "Epoch 994/1000\n",
      "5/5 [==============================] - 0s 10ms/step - loss: 3519.1171 - mean_squared_error: 3519.1171 - mean_absolute_error: 32.1592 - val_loss: 3750.6045 - val_mean_squared_error: 3750.6045 - val_mean_absolute_error: 33.5143\n",
      "Epoch 995/1000\n",
      "5/5 [==============================] - 0s 10ms/step - loss: 3605.1272 - mean_squared_error: 3605.1272 - mean_absolute_error: 32.2780 - val_loss: 3750.4807 - val_mean_squared_error: 3750.4807 - val_mean_absolute_error: 33.5111\n",
      "Epoch 996/1000\n",
      "5/5 [==============================] - 0s 10ms/step - loss: 3594.2730 - mean_squared_error: 3594.2730 - mean_absolute_error: 32.6805 - val_loss: 3750.3879 - val_mean_squared_error: 3750.3879 - val_mean_absolute_error: 33.5021\n",
      "Epoch 997/1000\n",
      "5/5 [==============================] - 0s 10ms/step - loss: 3601.4915 - mean_squared_error: 3601.4915 - mean_absolute_error: 32.3077 - val_loss: 3750.2212 - val_mean_squared_error: 3750.2212 - val_mean_absolute_error: 33.5024\n",
      "Epoch 998/1000\n",
      "5/5 [==============================] - 0s 10ms/step - loss: 3739.1340 - mean_squared_error: 3739.1340 - mean_absolute_error: 32.7025 - val_loss: 3750.1279 - val_mean_squared_error: 3750.1279 - val_mean_absolute_error: 33.4946\n",
      "Epoch 999/1000\n",
      "5/5 [==============================] - 0s 10ms/step - loss: 3482.5507 - mean_squared_error: 3482.5507 - mean_absolute_error: 31.9374 - val_loss: 3750.0259 - val_mean_squared_error: 3750.0259 - val_mean_absolute_error: 33.4881\n",
      "Epoch 1000/1000\n",
      "5/5 [==============================] - 0s 10ms/step - loss: 3713.0840 - mean_squared_error: 3713.0840 - mean_absolute_error: 33.1848 - val_loss: 3749.9150 - val_mean_squared_error: 3749.9150 - val_mean_absolute_error: 33.4833\n"
     ]
    }
   ],
   "source": [
    "# This returns a tensor\n",
    "inputs = Input(shape=(X_train.shape[1],))\n",
    "\n",
    "# a layer instance is callable on a tensor, and returns a tensor\n",
    "x = Dense(20, activation='relu', kernel_regularizer=regularizers.l1_l2(l1=1e-5, l2=1e-4))(inputs)\n",
    "x = Dense(10, activation='relu')(inputs)\n",
    "x = Dropout(.2)(inputs)\n",
    "x = Dense(5, activation='relu')(inputs)\n",
    "predictions = Dense(1, activation='linear')(x)\n",
    "\n",
    "# This creates a model that includes\n",
    "# the Input layer and three Dense layers\n",
    "nn_model = Model(inputs=inputs, outputs=predictions)\n",
    "\n",
    "nn_model.compile(optimizer='adam',\n",
    "              loss='mean_squared_error',\n",
    "              metrics=['mean_squared_error', 'mean_absolute_error'])\n",
    "\n",
    "callback = EarlyStopping(monitor='loss', patience=3)\n",
    "\n",
    "history = nn_model.fit(X_train, y_train,\n",
    "              batch_size=1000,\n",
    "              epochs=1000,\n",
    "              verbose=1,\n",
    "              validation_data=(X_val, y_val),\n",
    "              callbacks=[callback])  # starts training"
   ]
  },
  {
   "cell_type": "code",
   "execution_count": 72,
   "metadata": {
    "run_control": {
     "marked": false
    },
    "scrolled": false
   },
   "outputs": [
    {
     "data": {
      "image/png": "[encoded data removed]",
      "text/plain": [
       "<Figure size 432x288 with 1 Axes>"
      ]
     },
     "metadata": {
      "needs_background": "light"
     },
     "output_type": "display_data"
    }
   ],
   "source": [
    "plt.plot(history.history[\"loss\"], label=\"Training Loss\")\n",
    "plt.plot(history.history[\"val_loss\"], label=\"Validation Loss\")\n",
    "plt.legend()\n",
    "plt.show()"
   ]
  },
  {
   "cell_type": "code",
   "execution_count": 73,
   "metadata": {
    "scrolled": true
   },
   "outputs": [
    {
     "name": "stdout",
     "output_type": "stream",
     "text": [
      "MAE:  32.49041032809839\n",
      "MSE:  3582.9916519087046\n",
      "R2:  0.47630029609122937\n"
     ]
    }
   ],
   "source": [
    "eval_model(X_train, y_train, nn_model)"
   ]
  },
  {
   "cell_type": "code",
   "execution_count": 74,
   "metadata": {},
   "outputs": [
    {
     "name": "stdout",
     "output_type": "stream",
     "text": [
      "MAE:  33.4833146060769\n",
      "MSE:  3749.914882000526\n",
      "R2:  0.4639927772609608\n"
     ]
    }
   ],
   "source": [
    "eval_model(X_val, y_val, nn_model)"
   ]
  },
  {
   "cell_type": "code",
   "execution_count": 75,
   "metadata": {},
   "outputs": [
    {
     "name": "stdout",
     "output_type": "stream",
     "text": [
      "MAE:  33.14402131175222\n",
      "MSE:  3780.4895238346085\n",
      "R2:  0.4658324424437652\n"
     ]
    }
   ],
   "source": [
    "eval_model(X_test, y_test, nn_model)"
   ]
  },
  {
   "cell_type": "markdown",
   "metadata": {},
   "source": [
    "The model does not over or underfit but has a worse performance than the MLP Regressor, thus we use the MLP Regressor to fill in the missing values"
   ]
  },
  {
   "cell_type": "code",
   "execution_count": 76,
   "metadata": {},
   "outputs": [],
   "source": [
    "best_model = mlp"
   ]
  },
  {
   "cell_type": "markdown",
   "metadata": {},
   "source": [
    "# Filling in missing values\n",
    "\n",
    "We now fill in the missing values of snow using the MLPRegressor model.\n",
    "\n",
    "To ensure that the new values make sense, a short analysis will be done on the descriptive statistics of the features where there is a lot of snow. This will be compared to the filled in values."
   ]
  },
  {
   "cell_type": "code",
   "execution_count": 77,
   "metadata": {},
   "outputs": [
    {
     "data": {
      "text/html": [
       "<div>\n",
       "<style scoped>\n",
       "    .dataframe tbody tr th:only-of-type {\n",
       "        vertical-align: middle;\n",
       "    }\n",
       "\n",
       "    .dataframe tbody tr th {\n",
       "        vertical-align: top;\n",
       "    }\n",
       "\n",
       "    .dataframe thead th {\n",
       "        text-align: right;\n",
       "    }\n",
       "</style>\n",
       "<table border=\"1\" class=\"dataframe\">\n",
       "  <thead>\n",
       "    <tr style=\"text-align: right;\">\n",
       "      <th></th>\n",
       "      <th>tavg</th>\n",
       "      <th>tmin</th>\n",
       "      <th>tmax</th>\n",
       "      <th>prcp</th>\n",
       "      <th>snow</th>\n",
       "      <th>wspd</th>\n",
       "      <th>pres</th>\n",
       "    </tr>\n",
       "  </thead>\n",
       "  <tbody>\n",
       "    <tr>\n",
       "      <th>count</th>\n",
       "      <td>21228.000000</td>\n",
       "      <td>21230.000000</td>\n",
       "      <td>21230.000000</td>\n",
       "      <td>17976.000000</td>\n",
       "      <td>10530.000000</td>\n",
       "      <td>21070.000000</td>\n",
       "      <td>18704.000000</td>\n",
       "    </tr>\n",
       "    <tr>\n",
       "      <th>mean</th>\n",
       "      <td>2.264033</td>\n",
       "      <td>-2.488780</td>\n",
       "      <td>7.113457</td>\n",
       "      <td>1.681976</td>\n",
       "      <td>36.199715</td>\n",
       "      <td>13.322947</td>\n",
       "      <td>1019.968199</td>\n",
       "    </tr>\n",
       "    <tr>\n",
       "      <th>std</th>\n",
       "      <td>10.762083</td>\n",
       "      <td>11.131696</td>\n",
       "      <td>11.086798</td>\n",
       "      <td>5.922205</td>\n",
       "      <td>83.396319</td>\n",
       "      <td>7.434906</td>\n",
       "      <td>7.352371</td>\n",
       "    </tr>\n",
       "    <tr>\n",
       "      <th>min</th>\n",
       "      <td>-39.200000</td>\n",
       "      <td>-44.000000</td>\n",
       "      <td>-36.700000</td>\n",
       "      <td>0.000000</td>\n",
       "      <td>0.000000</td>\n",
       "      <td>0.000000</td>\n",
       "      <td>969.300000</td>\n",
       "    </tr>\n",
       "    <tr>\n",
       "      <th>25%</th>\n",
       "      <td>-3.900000</td>\n",
       "      <td>-8.800000</td>\n",
       "      <td>0.000000</td>\n",
       "      <td>0.000000</td>\n",
       "      <td>0.000000</td>\n",
       "      <td>7.800000</td>\n",
       "      <td>1016.000000</td>\n",
       "    </tr>\n",
       "    <tr>\n",
       "      <th>50%</th>\n",
       "      <td>2.200000</td>\n",
       "      <td>-2.100000</td>\n",
       "      <td>6.800000</td>\n",
       "      <td>0.000000</td>\n",
       "      <td>0.000000</td>\n",
       "      <td>12.100000</td>\n",
       "      <td>1020.450000</td>\n",
       "    </tr>\n",
       "    <tr>\n",
       "      <th>75%</th>\n",
       "      <td>9.400000</td>\n",
       "      <td>4.400000</td>\n",
       "      <td>15.200000</td>\n",
       "      <td>0.200000</td>\n",
       "      <td>30.000000</td>\n",
       "      <td>17.600000</td>\n",
       "      <td>1024.800000</td>\n",
       "    </tr>\n",
       "    <tr>\n",
       "      <th>max</th>\n",
       "      <td>30.200000</td>\n",
       "      <td>28.600000</td>\n",
       "      <td>32.800000</td>\n",
       "      <td>107.700000</td>\n",
       "      <td>640.000000</td>\n",
       "      <td>50.400000</td>\n",
       "      <td>1043.100000</td>\n",
       "    </tr>\n",
       "  </tbody>\n",
       "</table>\n",
       "</div>"
      ],
      "text/plain": [
       "               tavg          tmin          tmax          prcp          snow  \\\n",
       "count  21228.000000  21230.000000  21230.000000  17976.000000  10530.000000   \n",
       "mean       2.264033     -2.488780      7.113457      1.681976     36.199715   \n",
       "std       10.762083     11.131696     11.086798      5.922205     83.396319   \n",
       "min      -39.200000    -44.000000    -36.700000      0.000000      0.000000   \n",
       "25%       -3.900000     -8.800000      0.000000      0.000000      0.000000   \n",
       "50%        2.200000     -2.100000      6.800000      0.000000      0.000000   \n",
       "75%        9.400000      4.400000     15.200000      0.200000     30.000000   \n",
       "max       30.200000     28.600000     32.800000    107.700000    640.000000   \n",
       "\n",
       "               wspd          pres  \n",
       "count  21070.000000  18704.000000  \n",
       "mean      13.322947   1019.968199  \n",
       "std        7.434906      7.352371  \n",
       "min        0.000000    969.300000  \n",
       "25%        7.800000   1016.000000  \n",
       "50%       12.100000   1020.450000  \n",
       "75%       17.600000   1024.800000  \n",
       "max       50.400000   1043.100000  "
      ]
     },
     "execution_count": 77,
     "metadata": {},
     "output_type": "execute_result"
    }
   ],
   "source": [
    "stats_total = weather_df_total.describe()\n",
    "stats_total"
   ]
  },
  {
   "cell_type": "markdown",
   "metadata": {},
   "source": [
    "We narrow the data down to where there is more than 30 mm of snow"
   ]
  },
  {
   "cell_type": "code",
   "execution_count": 78,
   "metadata": {},
   "outputs": [
    {
     "data": {
      "text/html": [
       "<div>\n",
       "<style scoped>\n",
       "    .dataframe tbody tr th:only-of-type {\n",
       "        vertical-align: middle;\n",
       "    }\n",
       "\n",
       "    .dataframe tbody tr th {\n",
       "        vertical-align: top;\n",
       "    }\n",
       "\n",
       "    .dataframe thead th {\n",
       "        text-align: right;\n",
       "    }\n",
       "</style>\n",
       "<table border=\"1\" class=\"dataframe\">\n",
       "  <thead>\n",
       "    <tr style=\"text-align: right;\">\n",
       "      <th></th>\n",
       "      <th>tavg</th>\n",
       "      <th>tmin</th>\n",
       "      <th>tmax</th>\n",
       "      <th>prcp</th>\n",
       "      <th>snow</th>\n",
       "      <th>wspd</th>\n",
       "      <th>pres</th>\n",
       "    </tr>\n",
       "  </thead>\n",
       "  <tbody>\n",
       "    <tr>\n",
       "      <th>count</th>\n",
       "      <td>2168.000000</td>\n",
       "      <td>2170.000000</td>\n",
       "      <td>2170.000000</td>\n",
       "      <td>2170.000000</td>\n",
       "      <td>2170.000000</td>\n",
       "      <td>2170.000000</td>\n",
       "      <td>2060.000000</td>\n",
       "    </tr>\n",
       "    <tr>\n",
       "      <th>mean</th>\n",
       "      <td>-9.696587</td>\n",
       "      <td>-14.515945</td>\n",
       "      <td>-5.348433</td>\n",
       "      <td>2.030138</td>\n",
       "      <td>168.624147</td>\n",
       "      <td>14.857392</td>\n",
       "      <td>1019.969684</td>\n",
       "    </tr>\n",
       "    <tr>\n",
       "      <th>std</th>\n",
       "      <td>8.660996</td>\n",
       "      <td>9.627511</td>\n",
       "      <td>8.393271</td>\n",
       "      <td>5.078313</td>\n",
       "      <td>107.075759</td>\n",
       "      <td>8.289323</td>\n",
       "      <td>8.803566</td>\n",
       "    </tr>\n",
       "    <tr>\n",
       "      <th>min</th>\n",
       "      <td>-39.200000</td>\n",
       "      <td>-44.000000</td>\n",
       "      <td>-34.900000</td>\n",
       "      <td>0.000000</td>\n",
       "      <td>31.750000</td>\n",
       "      <td>0.000000</td>\n",
       "      <td>976.100000</td>\n",
       "    </tr>\n",
       "    <tr>\n",
       "      <th>25%</th>\n",
       "      <td>-15.400000</td>\n",
       "      <td>-20.600000</td>\n",
       "      <td>-10.600000</td>\n",
       "      <td>0.000000</td>\n",
       "      <td>80.000000</td>\n",
       "      <td>8.300000</td>\n",
       "      <td>1014.500000</td>\n",
       "    </tr>\n",
       "    <tr>\n",
       "      <th>50%</th>\n",
       "      <td>-8.450000</td>\n",
       "      <td>-13.800000</td>\n",
       "      <td>-3.200000</td>\n",
       "      <td>0.000000</td>\n",
       "      <td>130.000000</td>\n",
       "      <td>13.700000</td>\n",
       "      <td>1020.950000</td>\n",
       "    </tr>\n",
       "    <tr>\n",
       "      <th>75%</th>\n",
       "      <td>-2.700000</td>\n",
       "      <td>-7.000000</td>\n",
       "      <td>1.100000</td>\n",
       "      <td>1.400000</td>\n",
       "      <td>250.000000</td>\n",
       "      <td>20.300000</td>\n",
       "      <td>1026.500000</td>\n",
       "    </tr>\n",
       "    <tr>\n",
       "      <th>max</th>\n",
       "      <td>7.100000</td>\n",
       "      <td>5.000000</td>\n",
       "      <td>13.300000</td>\n",
       "      <td>63.200000</td>\n",
       "      <td>640.000000</td>\n",
       "      <td>41.800000</td>\n",
       "      <td>1037.700000</td>\n",
       "    </tr>\n",
       "  </tbody>\n",
       "</table>\n",
       "</div>"
      ],
      "text/plain": [
       "              tavg         tmin         tmax         prcp         snow  \\\n",
       "count  2168.000000  2170.000000  2170.000000  2170.000000  2170.000000   \n",
       "mean     -9.696587   -14.515945    -5.348433     2.030138   168.624147   \n",
       "std       8.660996     9.627511     8.393271     5.078313   107.075759   \n",
       "min     -39.200000   -44.000000   -34.900000     0.000000    31.750000   \n",
       "25%     -15.400000   -20.600000   -10.600000     0.000000    80.000000   \n",
       "50%      -8.450000   -13.800000    -3.200000     0.000000   130.000000   \n",
       "75%      -2.700000    -7.000000     1.100000     1.400000   250.000000   \n",
       "max       7.100000     5.000000    13.300000    63.200000   640.000000   \n",
       "\n",
       "              wspd         pres  \n",
       "count  2170.000000  2060.000000  \n",
       "mean     14.857392  1019.969684  \n",
       "std       8.289323     8.803566  \n",
       "min       0.000000   976.100000  \n",
       "25%       8.300000  1014.500000  \n",
       "50%      13.700000  1020.950000  \n",
       "75%      20.300000  1026.500000  \n",
       "max      41.800000  1037.700000  "
      ]
     },
     "execution_count": 78,
     "metadata": {},
     "output_type": "execute_result"
    }
   ],
   "source": [
    "weather_df_total.query('snow > 30').describe()"
   ]
  },
  {
   "cell_type": "markdown",
   "metadata": {},
   "source": [
    "We see that the average temperature has fallen to -9.7 and the same decrease in temperature is also seen in the other temperature columns. The other columns seem to not have changed a significant amount."
   ]
  },
  {
   "cell_type": "markdown",
   "metadata": {},
   "source": [
    "We now fill in the missing values. First for 2019 and then 2020"
   ]
  },
  {
   "cell_type": "markdown",
   "metadata": {},
   "source": [
    "## Fill for 2019"
   ]
  },
  {
   "cell_type": "code",
   "execution_count": 79,
   "metadata": {},
   "outputs": [],
   "source": [
    "col_nan_ix = weather_df_2019['snow'].isna()"
   ]
  },
  {
   "cell_type": "code",
   "execution_count": 80,
   "metadata": {},
   "outputs": [
    {
     "data": {
      "text/html": [
       "<div>\n",
       "<style scoped>\n",
       "    .dataframe tbody tr th:only-of-type {\n",
       "        vertical-align: middle;\n",
       "    }\n",
       "\n",
       "    .dataframe tbody tr th {\n",
       "        vertical-align: top;\n",
       "    }\n",
       "\n",
       "    .dataframe thead th {\n",
       "        text-align: right;\n",
       "    }\n",
       "</style>\n",
       "<table border=\"1\" class=\"dataframe\">\n",
       "  <thead>\n",
       "    <tr style=\"text-align: right;\">\n",
       "      <th></th>\n",
       "      <th>tmax</th>\n",
       "      <th>tavg</th>\n",
       "      <th>tmin</th>\n",
       "    </tr>\n",
       "  </thead>\n",
       "  <tbody>\n",
       "    <tr>\n",
       "      <th>62</th>\n",
       "      <td>5.7</td>\n",
       "      <td>2.1</td>\n",
       "      <td>-1.6</td>\n",
       "    </tr>\n",
       "    <tr>\n",
       "      <th>63</th>\n",
       "      <td>2.3</td>\n",
       "      <td>-0.1</td>\n",
       "      <td>-2.1</td>\n",
       "    </tr>\n",
       "    <tr>\n",
       "      <th>64</th>\n",
       "      <td>3.4</td>\n",
       "      <td>1.4</td>\n",
       "      <td>0.1</td>\n",
       "    </tr>\n",
       "    <tr>\n",
       "      <th>65</th>\n",
       "      <td>10.1</td>\n",
       "      <td>3.1</td>\n",
       "      <td>-1.0</td>\n",
       "    </tr>\n",
       "    <tr>\n",
       "      <th>66</th>\n",
       "      <td>10.7</td>\n",
       "      <td>4.0</td>\n",
       "      <td>-2.1</td>\n",
       "    </tr>\n",
       "    <tr>\n",
       "      <th>...</th>\n",
       "      <td>...</td>\n",
       "      <td>...</td>\n",
       "      <td>...</td>\n",
       "    </tr>\n",
       "    <tr>\n",
       "      <th>10690</th>\n",
       "      <td>5.0</td>\n",
       "      <td>-0.9</td>\n",
       "      <td>-4.3</td>\n",
       "    </tr>\n",
       "    <tr>\n",
       "      <th>10691</th>\n",
       "      <td>3.3</td>\n",
       "      <td>-1.6</td>\n",
       "      <td>-5.5</td>\n",
       "    </tr>\n",
       "    <tr>\n",
       "      <th>10692</th>\n",
       "      <td>2.8</td>\n",
       "      <td>-2.8</td>\n",
       "      <td>-6.6</td>\n",
       "    </tr>\n",
       "    <tr>\n",
       "      <th>10693</th>\n",
       "      <td>4.4</td>\n",
       "      <td>-3.2</td>\n",
       "      <td>-8.2</td>\n",
       "    </tr>\n",
       "    <tr>\n",
       "      <th>10694</th>\n",
       "      <td>6.7</td>\n",
       "      <td>-1.5</td>\n",
       "      <td>-6.0</td>\n",
       "    </tr>\n",
       "  </tbody>\n",
       "</table>\n",
       "<p>5461 rows × 3 columns</p>\n",
       "</div>"
      ],
      "text/plain": [
       "       tmax  tavg  tmin\n",
       "62      5.7   2.1  -1.6\n",
       "63      2.3  -0.1  -2.1\n",
       "64      3.4   1.4   0.1\n",
       "65     10.1   3.1  -1.0\n",
       "66     10.7   4.0  -2.1\n",
       "...     ...   ...   ...\n",
       "10690   5.0  -0.9  -4.3\n",
       "10691   3.3  -1.6  -5.5\n",
       "10692   2.8  -2.8  -6.6\n",
       "10693   4.4  -3.2  -8.2\n",
       "10694   6.7  -1.5  -6.0\n",
       "\n",
       "[5461 rows x 3 columns]"
      ]
     },
     "execution_count": 80,
     "metadata": {},
     "output_type": "execute_result"
    }
   ],
   "source": [
    "weather_no_snow = weather_df_2019[col_nan_ix][features]\n",
    "weather_no_snow"
   ]
  },
  {
   "cell_type": "code",
   "execution_count": 81,
   "metadata": {},
   "outputs": [
    {
     "data": {
      "text/plain": [
       "tmax    111\n",
       "tavg    111\n",
       "tmin    111\n",
       "dtype: int64"
      ]
     },
     "execution_count": 81,
     "metadata": {},
     "output_type": "execute_result"
    }
   ],
   "source": [
    "weather_no_snow.isna().sum()"
   ]
  },
  {
   "cell_type": "markdown",
   "metadata": {},
   "source": [
    "Unfortunately, we have some missing values in the features used to predict the snow values, so we will have to drop these and not be able to fill out all missing values for snow"
   ]
  },
  {
   "cell_type": "code",
   "execution_count": 82,
   "metadata": {},
   "outputs": [],
   "source": [
    "weather_no_snow = weather_no_snow.dropna()"
   ]
  },
  {
   "cell_type": "code",
   "execution_count": 83,
   "metadata": {},
   "outputs": [],
   "source": [
    "predictions = best_model.predict(weather_no_snow)"
   ]
  },
  {
   "cell_type": "code",
   "execution_count": 84,
   "metadata": {},
   "outputs": [],
   "source": [
    "predictions_series = pd.Series(predictions, name='snow', index=weather_no_snow.index)"
   ]
  },
  {
   "cell_type": "code",
   "execution_count": 85,
   "metadata": {
    "scrolled": true
   },
   "outputs": [
    {
     "data": {
      "text/plain": [
       "62       -0.819755\n",
       "63        0.977929\n",
       "64       -0.819755\n",
       "65       -0.819755\n",
       "66       -0.819755\n",
       "           ...    \n",
       "10690    -0.540848\n",
       "10691    -0.819755\n",
       "10692    47.115279\n",
       "10693    11.007853\n",
       "10694    -0.819755\n",
       "Name: snow, Length: 5350, dtype: float64"
      ]
     },
     "execution_count": 85,
     "metadata": {},
     "output_type": "execute_result"
    }
   ],
   "source": [
    "predictions_series"
   ]
  },
  {
   "cell_type": "markdown",
   "metadata": {},
   "source": [
    "We remove negative values"
   ]
  },
  {
   "cell_type": "code",
   "execution_count": 86,
   "metadata": {},
   "outputs": [
    {
     "data": {
      "text/plain": [
       "62        0.000000\n",
       "63        0.977929\n",
       "64        0.000000\n",
       "65        0.000000\n",
       "66        0.000000\n",
       "           ...    \n",
       "10690     0.000000\n",
       "10691     0.000000\n",
       "10692    47.115279\n",
       "10693    11.007853\n",
       "10694     0.000000\n",
       "Name: snow, Length: 5350, dtype: float64"
      ]
     },
     "execution_count": 86,
     "metadata": {},
     "output_type": "execute_result"
    }
   ],
   "source": [
    "predictions_series[predictions_series < 0] = 0\n",
    "predictions_series"
   ]
  },
  {
   "cell_type": "markdown",
   "metadata": {},
   "source": [
    "Now the missing values can be replaced by their predicted values"
   ]
  },
  {
   "cell_type": "code",
   "execution_count": 87,
   "metadata": {},
   "outputs": [],
   "source": [
    "weather_df_2019_pred = weather_df_2019.copy()"
   ]
  },
  {
   "cell_type": "code",
   "execution_count": 88,
   "metadata": {},
   "outputs": [],
   "source": [
    "weather_df_2019_pred.loc[col_nan_ix, 'snow'] = predictions_series"
   ]
  },
  {
   "cell_type": "code",
   "execution_count": 89,
   "metadata": {},
   "outputs": [
    {
     "data": {
      "text/html": [
       "<div>\n",
       "<style scoped>\n",
       "    .dataframe tbody tr th:only-of-type {\n",
       "        vertical-align: middle;\n",
       "    }\n",
       "\n",
       "    .dataframe tbody tr th {\n",
       "        vertical-align: top;\n",
       "    }\n",
       "\n",
       "    .dataframe thead th {\n",
       "        text-align: right;\n",
       "    }\n",
       "</style>\n",
       "<table border=\"1\" class=\"dataframe\">\n",
       "  <thead>\n",
       "    <tr style=\"text-align: right;\">\n",
       "      <th></th>\n",
       "      <th>iata_code</th>\n",
       "      <th>DAY_OF_MONTH</th>\n",
       "      <th>tavg</th>\n",
       "      <th>tmin</th>\n",
       "      <th>tmax</th>\n",
       "      <th>prcp</th>\n",
       "      <th>snow</th>\n",
       "      <th>wspd</th>\n",
       "      <th>pres</th>\n",
       "    </tr>\n",
       "  </thead>\n",
       "  <tbody>\n",
       "    <tr>\n",
       "      <th>0</th>\n",
       "      <td>GNV</td>\n",
       "      <td>1</td>\n",
       "      <td>20.1</td>\n",
       "      <td>13.9</td>\n",
       "      <td>27.8</td>\n",
       "      <td>0.0</td>\n",
       "      <td>0.0</td>\n",
       "      <td>4.0</td>\n",
       "      <td>1021.9</td>\n",
       "    </tr>\n",
       "    <tr>\n",
       "      <th>1</th>\n",
       "      <td>GNV</td>\n",
       "      <td>2</td>\n",
       "      <td>19.8</td>\n",
       "      <td>14.4</td>\n",
       "      <td>27.2</td>\n",
       "      <td>0.0</td>\n",
       "      <td>0.0</td>\n",
       "      <td>2.2</td>\n",
       "      <td>1019.3</td>\n",
       "    </tr>\n",
       "    <tr>\n",
       "      <th>2</th>\n",
       "      <td>GNV</td>\n",
       "      <td>3</td>\n",
       "      <td>20.6</td>\n",
       "      <td>15.6</td>\n",
       "      <td>27.2</td>\n",
       "      <td>0.0</td>\n",
       "      <td>0.0</td>\n",
       "      <td>7.6</td>\n",
       "      <td>1016.7</td>\n",
       "    </tr>\n",
       "    <tr>\n",
       "      <th>3</th>\n",
       "      <td>GNV</td>\n",
       "      <td>4</td>\n",
       "      <td>20.3</td>\n",
       "      <td>14.4</td>\n",
       "      <td>27.2</td>\n",
       "      <td>14.7</td>\n",
       "      <td>0.0</td>\n",
       "      <td>14.4</td>\n",
       "      <td>1014.1</td>\n",
       "    </tr>\n",
       "    <tr>\n",
       "      <th>4</th>\n",
       "      <td>GNV</td>\n",
       "      <td>5</td>\n",
       "      <td>13.4</td>\n",
       "      <td>7.2</td>\n",
       "      <td>16.1</td>\n",
       "      <td>0.0</td>\n",
       "      <td>0.0</td>\n",
       "      <td>12.2</td>\n",
       "      <td>1017.6</td>\n",
       "    </tr>\n",
       "    <tr>\n",
       "      <th>...</th>\n",
       "      <td>...</td>\n",
       "      <td>...</td>\n",
       "      <td>...</td>\n",
       "      <td>...</td>\n",
       "      <td>...</td>\n",
       "      <td>...</td>\n",
       "      <td>...</td>\n",
       "      <td>...</td>\n",
       "      <td>...</td>\n",
       "    </tr>\n",
       "    <tr>\n",
       "      <th>10721</th>\n",
       "      <td>LYH</td>\n",
       "      <td>27</td>\n",
       "      <td>0.0</td>\n",
       "      <td>-6.6</td>\n",
       "      <td>9.4</td>\n",
       "      <td>0.0</td>\n",
       "      <td>0.0</td>\n",
       "      <td>5.4</td>\n",
       "      <td>1018.5</td>\n",
       "    </tr>\n",
       "    <tr>\n",
       "      <th>10722</th>\n",
       "      <td>LYH</td>\n",
       "      <td>28</td>\n",
       "      <td>2.8</td>\n",
       "      <td>-2.1</td>\n",
       "      <td>8.3</td>\n",
       "      <td>0.0</td>\n",
       "      <td>0.0</td>\n",
       "      <td>4.7</td>\n",
       "      <td>1015.6</td>\n",
       "    </tr>\n",
       "    <tr>\n",
       "      <th>10723</th>\n",
       "      <td>LYH</td>\n",
       "      <td>29</td>\n",
       "      <td>2.6</td>\n",
       "      <td>-5.5</td>\n",
       "      <td>6.7</td>\n",
       "      <td>1.3</td>\n",
       "      <td>0.0</td>\n",
       "      <td>6.1</td>\n",
       "      <td>1011.5</td>\n",
       "    </tr>\n",
       "    <tr>\n",
       "      <th>10724</th>\n",
       "      <td>LYH</td>\n",
       "      <td>30</td>\n",
       "      <td>-3.6</td>\n",
       "      <td>-9.9</td>\n",
       "      <td>2.8</td>\n",
       "      <td>0.0</td>\n",
       "      <td>0.0</td>\n",
       "      <td>14.4</td>\n",
       "      <td>1017.9</td>\n",
       "    </tr>\n",
       "    <tr>\n",
       "      <th>10725</th>\n",
       "      <td>LYH</td>\n",
       "      <td>31</td>\n",
       "      <td>-6.7</td>\n",
       "      <td>-11.0</td>\n",
       "      <td>0.0</td>\n",
       "      <td>0.0</td>\n",
       "      <td>0.0</td>\n",
       "      <td>8.3</td>\n",
       "      <td>1028.6</td>\n",
       "    </tr>\n",
       "  </tbody>\n",
       "</table>\n",
       "<p>10726 rows × 9 columns</p>\n",
       "</div>"
      ],
      "text/plain": [
       "      iata_code DAY_OF_MONTH  tavg  tmin  tmax  prcp  snow  wspd    pres\n",
       "0           GNV            1  20.1  13.9  27.8   0.0   0.0   4.0  1021.9\n",
       "1           GNV            2  19.8  14.4  27.2   0.0   0.0   2.2  1019.3\n",
       "2           GNV            3  20.6  15.6  27.2   0.0   0.0   7.6  1016.7\n",
       "3           GNV            4  20.3  14.4  27.2  14.7   0.0  14.4  1014.1\n",
       "4           GNV            5  13.4   7.2  16.1   0.0   0.0  12.2  1017.6\n",
       "...         ...          ...   ...   ...   ...   ...   ...   ...     ...\n",
       "10721       LYH           27   0.0  -6.6   9.4   0.0   0.0   5.4  1018.5\n",
       "10722       LYH           28   2.8  -2.1   8.3   0.0   0.0   4.7  1015.6\n",
       "10723       LYH           29   2.6  -5.5   6.7   1.3   0.0   6.1  1011.5\n",
       "10724       LYH           30  -3.6  -9.9   2.8   0.0   0.0  14.4  1017.9\n",
       "10725       LYH           31  -6.7 -11.0   0.0   0.0   0.0   8.3  1028.6\n",
       "\n",
       "[10726 rows x 9 columns]"
      ]
     },
     "execution_count": 89,
     "metadata": {},
     "output_type": "execute_result"
    }
   ],
   "source": [
    "weather_df_2019_pred"
   ]
  },
  {
   "cell_type": "code",
   "execution_count": 90,
   "metadata": {},
   "outputs": [
    {
     "data": {
      "text/plain": [
       "iata_code          0\n",
       "DAY_OF_MONTH       0\n",
       "tavg             112\n",
       "tmin             111\n",
       "tmax             111\n",
       "prcp            1738\n",
       "snow             111\n",
       "wspd             191\n",
       "pres            1374\n",
       "dtype: int64"
      ]
     },
     "execution_count": 90,
     "metadata": {},
     "output_type": "execute_result"
    }
   ],
   "source": [
    "weather_df_2019_pred.isna().sum()"
   ]
  },
  {
   "cell_type": "code",
   "execution_count": 91,
   "metadata": {},
   "outputs": [
    {
     "data": {
      "text/plain": [
       "iata_code          0\n",
       "DAY_OF_MONTH       0\n",
       "tavg             112\n",
       "tmin             111\n",
       "tmax             111\n",
       "prcp            1738\n",
       "snow            5461\n",
       "wspd             191\n",
       "pres            1374\n",
       "dtype: int64"
      ]
     },
     "execution_count": 91,
     "metadata": {},
     "output_type": "execute_result"
    }
   ],
   "source": [
    "weather_df_2019.isna().sum()"
   ]
  },
  {
   "cell_type": "markdown",
   "metadata": {},
   "source": [
    "We have managed to eliminate 5350 missing values of snow. The data is now merged again"
   ]
  },
  {
   "cell_type": "code",
   "execution_count": 92,
   "metadata": {},
   "outputs": [],
   "source": [
    "df19_weather = df19.merge(weather_df_2019_pred.rename(rename_map('ORIGIN'), axis=1), on=['ORIGIN', 'DAY_OF_MONTH'])\n",
    "df19_weather = df19_weather.merge(weather_df_2019_pred.rename(rename_map('DEST'), axis=1), on=['DEST', 'DAY_OF_MONTH'])"
   ]
  },
  {
   "cell_type": "code",
   "execution_count": 93,
   "metadata": {},
   "outputs": [
    {
     "data": {
      "text/plain": [
       "(583985, 35)"
      ]
     },
     "execution_count": 93,
     "metadata": {},
     "output_type": "execute_result"
    }
   ],
   "source": [
    "df19_weather.shape"
   ]
  },
  {
   "cell_type": "code",
   "execution_count": 94,
   "metadata": {},
   "outputs": [
    {
     "data": {
      "text/plain": [
       "DAY_OF_MONTH                 0\n",
       "DAY_OF_WEEK                  0\n",
       "OP_UNIQUE_CARRIER            0\n",
       "OP_CARRIER_AIRLINE_ID        0\n",
       "OP_CARRIER                   0\n",
       "TAIL_NUM                  2543\n",
       "OP_CARRIER_FL_NUM            0\n",
       "ORIGIN_AIRPORT_ID            0\n",
       "ORIGIN_AIRPORT_SEQ_ID        0\n",
       "ORIGIN                       0\n",
       "DEST_AIRPORT_ID              0\n",
       "DEST_AIRPORT_SEQ_ID          0\n",
       "DEST                         0\n",
       "DEP_TIME                 16352\n",
       "DEP_DEL15                16355\n",
       "DEP_TIME_BLK                 0\n",
       "ARR_TIME                 17061\n",
       "ARR_DEL15                18022\n",
       "CANCELLED                    0\n",
       "DIVERTED                     0\n",
       "DISTANCE                     0\n",
       "ORIGIN_tavg               2919\n",
       "ORIGIN_tmin               2912\n",
       "ORIGIN_tmax               2912\n",
       "ORIGIN_prcp              26856\n",
       "ORIGIN_snow               2912\n",
       "ORIGIN_wspd               3952\n",
       "ORIGIN_pres              24313\n",
       "DEST_tavg                 2923\n",
       "DEST_tmin                 2916\n",
       "DEST_tmax                 2916\n",
       "DEST_prcp                26875\n",
       "DEST_snow                 2916\n",
       "DEST_wspd                 3957\n",
       "DEST_pres                24335\n",
       "dtype: int64"
      ]
     },
     "execution_count": 94,
     "metadata": {},
     "output_type": "execute_result"
    }
   ],
   "source": [
    "df19_weather.isna().sum()"
   ]
  },
  {
   "cell_type": "markdown",
   "metadata": {},
   "source": [
    "We now have much less missing values in the snow column. We went from 180000 missing rows to 2900."
   ]
  },
  {
   "cell_type": "markdown",
   "metadata": {},
   "source": [
    "## Fill for 2020"
   ]
  },
  {
   "cell_type": "code",
   "execution_count": 95,
   "metadata": {},
   "outputs": [],
   "source": [
    "col_nan_ix = weather_df_2020['snow'].isna()"
   ]
  },
  {
   "cell_type": "code",
   "execution_count": 96,
   "metadata": {},
   "outputs": [
    {
     "data": {
      "text/html": [
       "<div>\n",
       "<style scoped>\n",
       "    .dataframe tbody tr th:only-of-type {\n",
       "        vertical-align: middle;\n",
       "    }\n",
       "\n",
       "    .dataframe tbody tr th {\n",
       "        vertical-align: top;\n",
       "    }\n",
       "\n",
       "    .dataframe thead th {\n",
       "        text-align: right;\n",
       "    }\n",
       "</style>\n",
       "<table border=\"1\" class=\"dataframe\">\n",
       "  <thead>\n",
       "    <tr style=\"text-align: right;\">\n",
       "      <th></th>\n",
       "      <th>tmax</th>\n",
       "      <th>tavg</th>\n",
       "      <th>tmin</th>\n",
       "    </tr>\n",
       "  </thead>\n",
       "  <tbody>\n",
       "    <tr>\n",
       "      <th>62</th>\n",
       "      <td>5.7</td>\n",
       "      <td>2.1</td>\n",
       "      <td>-1.6</td>\n",
       "    </tr>\n",
       "    <tr>\n",
       "      <th>63</th>\n",
       "      <td>2.3</td>\n",
       "      <td>-0.1</td>\n",
       "      <td>-2.1</td>\n",
       "    </tr>\n",
       "    <tr>\n",
       "      <th>64</th>\n",
       "      <td>3.4</td>\n",
       "      <td>1.4</td>\n",
       "      <td>0.1</td>\n",
       "    </tr>\n",
       "    <tr>\n",
       "      <th>65</th>\n",
       "      <td>10.1</td>\n",
       "      <td>3.1</td>\n",
       "      <td>-1.0</td>\n",
       "    </tr>\n",
       "    <tr>\n",
       "      <th>66</th>\n",
       "      <td>10.7</td>\n",
       "      <td>4.0</td>\n",
       "      <td>-2.1</td>\n",
       "    </tr>\n",
       "    <tr>\n",
       "      <th>...</th>\n",
       "      <td>...</td>\n",
       "      <td>...</td>\n",
       "      <td>...</td>\n",
       "    </tr>\n",
       "    <tr>\n",
       "      <th>10690</th>\n",
       "      <td>5.0</td>\n",
       "      <td>-0.9</td>\n",
       "      <td>-4.3</td>\n",
       "    </tr>\n",
       "    <tr>\n",
       "      <th>10691</th>\n",
       "      <td>3.3</td>\n",
       "      <td>-1.6</td>\n",
       "      <td>-5.5</td>\n",
       "    </tr>\n",
       "    <tr>\n",
       "      <th>10692</th>\n",
       "      <td>2.8</td>\n",
       "      <td>-2.8</td>\n",
       "      <td>-6.6</td>\n",
       "    </tr>\n",
       "    <tr>\n",
       "      <th>10693</th>\n",
       "      <td>4.4</td>\n",
       "      <td>-3.2</td>\n",
       "      <td>-8.2</td>\n",
       "    </tr>\n",
       "    <tr>\n",
       "      <th>10694</th>\n",
       "      <td>6.7</td>\n",
       "      <td>-1.5</td>\n",
       "      <td>-6.0</td>\n",
       "    </tr>\n",
       "  </tbody>\n",
       "</table>\n",
       "<p>5461 rows × 3 columns</p>\n",
       "</div>"
      ],
      "text/plain": [
       "       tmax  tavg  tmin\n",
       "62      5.7   2.1  -1.6\n",
       "63      2.3  -0.1  -2.1\n",
       "64      3.4   1.4   0.1\n",
       "65     10.1   3.1  -1.0\n",
       "66     10.7   4.0  -2.1\n",
       "...     ...   ...   ...\n",
       "10690   5.0  -0.9  -4.3\n",
       "10691   3.3  -1.6  -5.5\n",
       "10692   2.8  -2.8  -6.6\n",
       "10693   4.4  -3.2  -8.2\n",
       "10694   6.7  -1.5  -6.0\n",
       "\n",
       "[5461 rows x 3 columns]"
      ]
     },
     "execution_count": 96,
     "metadata": {},
     "output_type": "execute_result"
    }
   ],
   "source": [
    "weather_no_snow = weather_df_2020[col_nan_ix][features]\n",
    "weather_no_snow"
   ]
  },
  {
   "cell_type": "code",
   "execution_count": 97,
   "metadata": {},
   "outputs": [
    {
     "data": {
      "text/plain": [
       "tmax    111\n",
       "tavg    111\n",
       "tmin    111\n",
       "dtype: int64"
      ]
     },
     "execution_count": 97,
     "metadata": {},
     "output_type": "execute_result"
    }
   ],
   "source": [
    "weather_no_snow.isna().sum()"
   ]
  },
  {
   "cell_type": "markdown",
   "metadata": {},
   "source": [
    "Unfortunately, we have some missing values in the features used to predict the snow values, so we will have to drop these and not be able to fill out all missing values for snow"
   ]
  },
  {
   "cell_type": "code",
   "execution_count": 98,
   "metadata": {},
   "outputs": [],
   "source": [
    "weather_no_snow = weather_no_snow.dropna()"
   ]
  },
  {
   "cell_type": "code",
   "execution_count": 99,
   "metadata": {},
   "outputs": [],
   "source": [
    "predictions = best_model.predict(weather_no_snow)"
   ]
  },
  {
   "cell_type": "code",
   "execution_count": 100,
   "metadata": {},
   "outputs": [],
   "source": [
    "predictions_series = pd.Series(predictions, name='snow', index=weather_no_snow.index)"
   ]
  },
  {
   "cell_type": "code",
   "execution_count": 101,
   "metadata": {
    "scrolled": true
   },
   "outputs": [
    {
     "data": {
      "text/plain": [
       "62       -0.819755\n",
       "63        0.977929\n",
       "64       -0.819755\n",
       "65       -0.819755\n",
       "66       -0.819755\n",
       "           ...    \n",
       "10690    -0.540848\n",
       "10691    -0.819755\n",
       "10692    47.115279\n",
       "10693    11.007853\n",
       "10694    -0.819755\n",
       "Name: snow, Length: 5350, dtype: float64"
      ]
     },
     "execution_count": 101,
     "metadata": {},
     "output_type": "execute_result"
    }
   ],
   "source": [
    "predictions_series"
   ]
  },
  {
   "cell_type": "markdown",
   "metadata": {},
   "source": [
    "We remove negative values"
   ]
  },
  {
   "cell_type": "code",
   "execution_count": 102,
   "metadata": {},
   "outputs": [
    {
     "data": {
      "text/plain": [
       "62        0.000000\n",
       "63        0.977929\n",
       "64        0.000000\n",
       "65        0.000000\n",
       "66        0.000000\n",
       "           ...    \n",
       "10690     0.000000\n",
       "10691     0.000000\n",
       "10692    47.115279\n",
       "10693    11.007853\n",
       "10694     0.000000\n",
       "Name: snow, Length: 5350, dtype: float64"
      ]
     },
     "execution_count": 102,
     "metadata": {},
     "output_type": "execute_result"
    }
   ],
   "source": [
    "predictions_series[predictions_series < 0] = 0\n",
    "predictions_series"
   ]
  },
  {
   "cell_type": "markdown",
   "metadata": {},
   "source": [
    "Now the missing values can be replaced by their predicted values"
   ]
  },
  {
   "cell_type": "code",
   "execution_count": 103,
   "metadata": {},
   "outputs": [],
   "source": [
    "weather_df_2020_pred = weather_df_2020.copy()"
   ]
  },
  {
   "cell_type": "code",
   "execution_count": 104,
   "metadata": {},
   "outputs": [],
   "source": [
    "weather_df_2020_pred.loc[col_nan_ix, 'snow'] = predictions_series"
   ]
  },
  {
   "cell_type": "code",
   "execution_count": 105,
   "metadata": {},
   "outputs": [
    {
     "data": {
      "text/html": [
       "<div>\n",
       "<style scoped>\n",
       "    .dataframe tbody tr th:only-of-type {\n",
       "        vertical-align: middle;\n",
       "    }\n",
       "\n",
       "    .dataframe tbody tr th {\n",
       "        vertical-align: top;\n",
       "    }\n",
       "\n",
       "    .dataframe thead th {\n",
       "        text-align: right;\n",
       "    }\n",
       "</style>\n",
       "<table border=\"1\" class=\"dataframe\">\n",
       "  <thead>\n",
       "    <tr style=\"text-align: right;\">\n",
       "      <th></th>\n",
       "      <th>iata_code</th>\n",
       "      <th>DAY_OF_MONTH</th>\n",
       "      <th>tavg</th>\n",
       "      <th>tmin</th>\n",
       "      <th>tmax</th>\n",
       "      <th>prcp</th>\n",
       "      <th>snow</th>\n",
       "      <th>wspd</th>\n",
       "      <th>pres</th>\n",
       "    </tr>\n",
       "  </thead>\n",
       "  <tbody>\n",
       "    <tr>\n",
       "      <th>0</th>\n",
       "      <td>GNV</td>\n",
       "      <td>1</td>\n",
       "      <td>20.1</td>\n",
       "      <td>13.9</td>\n",
       "      <td>27.8</td>\n",
       "      <td>0.0</td>\n",
       "      <td>0.0</td>\n",
       "      <td>4.0</td>\n",
       "      <td>1021.9</td>\n",
       "    </tr>\n",
       "    <tr>\n",
       "      <th>1</th>\n",
       "      <td>GNV</td>\n",
       "      <td>2</td>\n",
       "      <td>19.8</td>\n",
       "      <td>14.4</td>\n",
       "      <td>27.2</td>\n",
       "      <td>0.0</td>\n",
       "      <td>0.0</td>\n",
       "      <td>2.2</td>\n",
       "      <td>1019.3</td>\n",
       "    </tr>\n",
       "    <tr>\n",
       "      <th>2</th>\n",
       "      <td>GNV</td>\n",
       "      <td>3</td>\n",
       "      <td>20.6</td>\n",
       "      <td>15.6</td>\n",
       "      <td>27.2</td>\n",
       "      <td>0.0</td>\n",
       "      <td>0.0</td>\n",
       "      <td>7.6</td>\n",
       "      <td>1016.7</td>\n",
       "    </tr>\n",
       "    <tr>\n",
       "      <th>3</th>\n",
       "      <td>GNV</td>\n",
       "      <td>4</td>\n",
       "      <td>20.3</td>\n",
       "      <td>14.4</td>\n",
       "      <td>27.2</td>\n",
       "      <td>14.7</td>\n",
       "      <td>0.0</td>\n",
       "      <td>14.4</td>\n",
       "      <td>1014.1</td>\n",
       "    </tr>\n",
       "    <tr>\n",
       "      <th>4</th>\n",
       "      <td>GNV</td>\n",
       "      <td>5</td>\n",
       "      <td>13.4</td>\n",
       "      <td>7.2</td>\n",
       "      <td>16.1</td>\n",
       "      <td>0.0</td>\n",
       "      <td>0.0</td>\n",
       "      <td>12.2</td>\n",
       "      <td>1017.6</td>\n",
       "    </tr>\n",
       "    <tr>\n",
       "      <th>...</th>\n",
       "      <td>...</td>\n",
       "      <td>...</td>\n",
       "      <td>...</td>\n",
       "      <td>...</td>\n",
       "      <td>...</td>\n",
       "      <td>...</td>\n",
       "      <td>...</td>\n",
       "      <td>...</td>\n",
       "      <td>...</td>\n",
       "    </tr>\n",
       "    <tr>\n",
       "      <th>10721</th>\n",
       "      <td>LYH</td>\n",
       "      <td>27</td>\n",
       "      <td>0.0</td>\n",
       "      <td>-6.6</td>\n",
       "      <td>9.4</td>\n",
       "      <td>0.0</td>\n",
       "      <td>0.0</td>\n",
       "      <td>5.4</td>\n",
       "      <td>1018.5</td>\n",
       "    </tr>\n",
       "    <tr>\n",
       "      <th>10722</th>\n",
       "      <td>LYH</td>\n",
       "      <td>28</td>\n",
       "      <td>2.8</td>\n",
       "      <td>-2.1</td>\n",
       "      <td>8.3</td>\n",
       "      <td>0.0</td>\n",
       "      <td>0.0</td>\n",
       "      <td>4.7</td>\n",
       "      <td>1015.6</td>\n",
       "    </tr>\n",
       "    <tr>\n",
       "      <th>10723</th>\n",
       "      <td>LYH</td>\n",
       "      <td>29</td>\n",
       "      <td>2.6</td>\n",
       "      <td>-5.5</td>\n",
       "      <td>6.7</td>\n",
       "      <td>1.3</td>\n",
       "      <td>0.0</td>\n",
       "      <td>6.1</td>\n",
       "      <td>1011.5</td>\n",
       "    </tr>\n",
       "    <tr>\n",
       "      <th>10724</th>\n",
       "      <td>LYH</td>\n",
       "      <td>30</td>\n",
       "      <td>-3.6</td>\n",
       "      <td>-9.9</td>\n",
       "      <td>2.8</td>\n",
       "      <td>0.0</td>\n",
       "      <td>0.0</td>\n",
       "      <td>14.4</td>\n",
       "      <td>1017.9</td>\n",
       "    </tr>\n",
       "    <tr>\n",
       "      <th>10725</th>\n",
       "      <td>LYH</td>\n",
       "      <td>31</td>\n",
       "      <td>-6.7</td>\n",
       "      <td>-11.0</td>\n",
       "      <td>0.0</td>\n",
       "      <td>0.0</td>\n",
       "      <td>0.0</td>\n",
       "      <td>8.3</td>\n",
       "      <td>1028.6</td>\n",
       "    </tr>\n",
       "  </tbody>\n",
       "</table>\n",
       "<p>10726 rows × 9 columns</p>\n",
       "</div>"
      ],
      "text/plain": [
       "      iata_code DAY_OF_MONTH  tavg  tmin  tmax  prcp  snow  wspd    pres\n",
       "0           GNV            1  20.1  13.9  27.8   0.0   0.0   4.0  1021.9\n",
       "1           GNV            2  19.8  14.4  27.2   0.0   0.0   2.2  1019.3\n",
       "2           GNV            3  20.6  15.6  27.2   0.0   0.0   7.6  1016.7\n",
       "3           GNV            4  20.3  14.4  27.2  14.7   0.0  14.4  1014.1\n",
       "4           GNV            5  13.4   7.2  16.1   0.0   0.0  12.2  1017.6\n",
       "...         ...          ...   ...   ...   ...   ...   ...   ...     ...\n",
       "10721       LYH           27   0.0  -6.6   9.4   0.0   0.0   5.4  1018.5\n",
       "10722       LYH           28   2.8  -2.1   8.3   0.0   0.0   4.7  1015.6\n",
       "10723       LYH           29   2.6  -5.5   6.7   1.3   0.0   6.1  1011.5\n",
       "10724       LYH           30  -3.6  -9.9   2.8   0.0   0.0  14.4  1017.9\n",
       "10725       LYH           31  -6.7 -11.0   0.0   0.0   0.0   8.3  1028.6\n",
       "\n",
       "[10726 rows x 9 columns]"
      ]
     },
     "execution_count": 105,
     "metadata": {},
     "output_type": "execute_result"
    }
   ],
   "source": [
    "weather_df_2020_pred"
   ]
  },
  {
   "cell_type": "code",
   "execution_count": 106,
   "metadata": {},
   "outputs": [
    {
     "data": {
      "text/plain": [
       "iata_code          0\n",
       "DAY_OF_MONTH       0\n",
       "tavg             112\n",
       "tmin             111\n",
       "tmax             111\n",
       "prcp            1738\n",
       "snow             111\n",
       "wspd             191\n",
       "pres            1374\n",
       "dtype: int64"
      ]
     },
     "execution_count": 106,
     "metadata": {},
     "output_type": "execute_result"
    }
   ],
   "source": [
    "weather_df_2020_pred.isna().sum()"
   ]
  },
  {
   "cell_type": "code",
   "execution_count": 107,
   "metadata": {},
   "outputs": [
    {
     "data": {
      "text/plain": [
       "iata_code          0\n",
       "DAY_OF_MONTH       0\n",
       "tavg             112\n",
       "tmin             111\n",
       "tmax             111\n",
       "prcp            1738\n",
       "snow             111\n",
       "wspd             191\n",
       "pres            1374\n",
       "dtype: int64"
      ]
     },
     "execution_count": 107,
     "metadata": {},
     "output_type": "execute_result"
    }
   ],
   "source": [
    "weather_df_2020_pred.isna().sum()"
   ]
  },
  {
   "cell_type": "markdown",
   "metadata": {},
   "source": [
    "We have managed to eliminate 5350 missing values of snow. The data is now merged again"
   ]
  },
  {
   "cell_type": "code",
   "execution_count": 108,
   "metadata": {},
   "outputs": [],
   "source": [
    "df20_weather = df20.merge(weather_df_2020_pred.rename(rename_map('ORIGIN'), axis=1), on=['ORIGIN', 'DAY_OF_MONTH'])\n",
    "df20_weather = df20_weather.merge(weather_df_2020_pred.rename(rename_map('DEST'), axis=1), on=['DEST', 'DAY_OF_MONTH'])"
   ]
  },
  {
   "cell_type": "code",
   "execution_count": 109,
   "metadata": {},
   "outputs": [
    {
     "data": {
      "text/plain": [
       "(606497, 35)"
      ]
     },
     "execution_count": 109,
     "metadata": {},
     "output_type": "execute_result"
    }
   ],
   "source": [
    "df20_weather.shape"
   ]
  },
  {
   "cell_type": "code",
   "execution_count": 110,
   "metadata": {
    "scrolled": true
   },
   "outputs": [
    {
     "data": {
      "text/plain": [
       "DAY_OF_MONTH                 0\n",
       "DAY_OF_WEEK                  0\n",
       "OP_UNIQUE_CARRIER            0\n",
       "OP_CARRIER_AIRLINE_ID        0\n",
       "OP_CARRIER                   0\n",
       "TAIL_NUM                   698\n",
       "OP_CARRIER_FL_NUM            0\n",
       "ORIGIN_AIRPORT_ID            0\n",
       "ORIGIN_AIRPORT_SEQ_ID        0\n",
       "ORIGIN                       0\n",
       "DEST_AIRPORT_ID              0\n",
       "DEST_AIRPORT_SEQ_ID          0\n",
       "DEST                         0\n",
       "DEP_TIME                  6638\n",
       "DEP_DEL15                 6671\n",
       "DEP_TIME_BLK                 0\n",
       "ARR_TIME                  7046\n",
       "ARR_DEL15                 8043\n",
       "CANCELLED                    0\n",
       "DIVERTED                     0\n",
       "DISTANCE                     0\n",
       "ORIGIN_tavg               3232\n",
       "ORIGIN_tmin               3225\n",
       "ORIGIN_tmax               3225\n",
       "ORIGIN_prcp              28496\n",
       "ORIGIN_snow               3225\n",
       "ORIGIN_wspd               4337\n",
       "ORIGIN_pres              25972\n",
       "DEST_tavg                 3236\n",
       "DEST_tmin                 3229\n",
       "DEST_tmax                 3229\n",
       "DEST_prcp                28520\n",
       "DEST_snow                 3229\n",
       "DEST_wspd                 4341\n",
       "DEST_pres                25987\n",
       "dtype: int64"
      ]
     },
     "execution_count": 110,
     "metadata": {},
     "output_type": "execute_result"
    }
   ],
   "source": [
    "df20_weather.isna().sum()"
   ]
  },
  {
   "cell_type": "markdown",
   "metadata": {
    "run_control": {
     "marked": false
    }
   },
   "source": [
    "We now have much less missing values in the snow column. We went from 190000 missing rows to 3200."
   ]
  },
  {
   "cell_type": "markdown",
   "metadata": {},
   "source": [
    "## Validation\n",
    "\n",
    "We will now investigate how the descriptive statistics look with the imputed values"
   ]
  },
  {
   "cell_type": "code",
   "execution_count": 111,
   "metadata": {},
   "outputs": [],
   "source": [
    "weather_df_total_pred = pd.concat([weather_df_2019_pred, weather_df_2020_pred]).reset_index(drop=True)"
   ]
  },
  {
   "cell_type": "code",
   "execution_count": 112,
   "metadata": {},
   "outputs": [
    {
     "data": {
      "text/html": [
       "<div>\n",
       "<style scoped>\n",
       "    .dataframe tbody tr th:only-of-type {\n",
       "        vertical-align: middle;\n",
       "    }\n",
       "\n",
       "    .dataframe tbody tr th {\n",
       "        vertical-align: top;\n",
       "    }\n",
       "\n",
       "    .dataframe thead th {\n",
       "        text-align: right;\n",
       "    }\n",
       "</style>\n",
       "<table border=\"1\" class=\"dataframe\">\n",
       "  <thead>\n",
       "    <tr style=\"text-align: right;\">\n",
       "      <th></th>\n",
       "      <th>tavg</th>\n",
       "      <th>tmin</th>\n",
       "      <th>tmax</th>\n",
       "      <th>prcp</th>\n",
       "      <th>snow</th>\n",
       "      <th>wspd</th>\n",
       "      <th>pres</th>\n",
       "    </tr>\n",
       "  </thead>\n",
       "  <tbody>\n",
       "    <tr>\n",
       "      <th>count</th>\n",
       "      <td>5966.000000</td>\n",
       "      <td>5968.000000</td>\n",
       "      <td>5968.000000</td>\n",
       "      <td>4582.000000</td>\n",
       "      <td>5968.000000</td>\n",
       "      <td>5894.000000</td>\n",
       "      <td>5048.000000</td>\n",
       "    </tr>\n",
       "    <tr>\n",
       "      <th>mean</th>\n",
       "      <td>-9.326311</td>\n",
       "      <td>-14.104431</td>\n",
       "      <td>-4.906013</td>\n",
       "      <td>1.103939</td>\n",
       "      <td>656.582063</td>\n",
       "      <td>14.270946</td>\n",
       "      <td>1021.870443</td>\n",
       "    </tr>\n",
       "    <tr>\n",
       "      <th>std</th>\n",
       "      <td>7.530732</td>\n",
       "      <td>8.468860</td>\n",
       "      <td>7.268721</td>\n",
       "      <td>3.784094</td>\n",
       "      <td>684.256536</td>\n",
       "      <td>8.204766</td>\n",
       "      <td>8.379000</td>\n",
       "    </tr>\n",
       "    <tr>\n",
       "      <th>min</th>\n",
       "      <td>-39.200000</td>\n",
       "      <td>-44.000000</td>\n",
       "      <td>-36.700000</td>\n",
       "      <td>0.000000</td>\n",
       "      <td>30.305417</td>\n",
       "      <td>0.000000</td>\n",
       "      <td>972.900000</td>\n",
       "    </tr>\n",
       "    <tr>\n",
       "      <th>25%</th>\n",
       "      <td>-13.600000</td>\n",
       "      <td>-19.300000</td>\n",
       "      <td>-8.900000</td>\n",
       "      <td>0.000000</td>\n",
       "      <td>150.000000</td>\n",
       "      <td>8.100000</td>\n",
       "      <td>1017.300000</td>\n",
       "    </tr>\n",
       "    <tr>\n",
       "      <th>50%</th>\n",
       "      <td>-7.500000</td>\n",
       "      <td>-12.900000</td>\n",
       "      <td>-2.800000</td>\n",
       "      <td>0.000000</td>\n",
       "      <td>367.381828</td>\n",
       "      <td>13.000000</td>\n",
       "      <td>1023.100000</td>\n",
       "    </tr>\n",
       "    <tr>\n",
       "      <th>75%</th>\n",
       "      <td>-3.600000</td>\n",
       "      <td>-7.700000</td>\n",
       "      <td>0.100000</td>\n",
       "      <td>0.300000</td>\n",
       "      <td>977.219531</td>\n",
       "      <td>19.100000</td>\n",
       "      <td>1027.700000</td>\n",
       "    </tr>\n",
       "    <tr>\n",
       "      <th>max</th>\n",
       "      <td>7.100000</td>\n",
       "      <td>5.000000</td>\n",
       "      <td>13.300000</td>\n",
       "      <td>63.200000</td>\n",
       "      <td>3985.025517</td>\n",
       "      <td>49.000000</td>\n",
       "      <td>1043.100000</td>\n",
       "    </tr>\n",
       "  </tbody>\n",
       "</table>\n",
       "</div>"
      ],
      "text/plain": [
       "              tavg         tmin         tmax         prcp         snow  \\\n",
       "count  5966.000000  5968.000000  5968.000000  4582.000000  5968.000000   \n",
       "mean     -9.326311   -14.104431    -4.906013     1.103939   656.582063   \n",
       "std       7.530732     8.468860     7.268721     3.784094   684.256536   \n",
       "min     -39.200000   -44.000000   -36.700000     0.000000    30.305417   \n",
       "25%     -13.600000   -19.300000    -8.900000     0.000000   150.000000   \n",
       "50%      -7.500000   -12.900000    -2.800000     0.000000   367.381828   \n",
       "75%      -3.600000    -7.700000     0.100000     0.300000   977.219531   \n",
       "max       7.100000     5.000000    13.300000    63.200000  3985.025517   \n",
       "\n",
       "              wspd         pres  \n",
       "count  5894.000000  5048.000000  \n",
       "mean     14.270946  1021.870443  \n",
       "std       8.204766     8.379000  \n",
       "min       0.000000   972.900000  \n",
       "25%       8.100000  1017.300000  \n",
       "50%      13.000000  1023.100000  \n",
       "75%      19.100000  1027.700000  \n",
       "max      49.000000  1043.100000  "
      ]
     },
     "execution_count": 112,
     "metadata": {},
     "output_type": "execute_result"
    }
   ],
   "source": [
    "weather_df_total_pred.query('snow > 30').describe()"
   ]
  },
  {
   "cell_type": "markdown",
   "metadata": {},
   "source": [
    "The table shows a slight increase in mean of the three temperature columns, which indicates that the model predicts snow in hotter temperatures. However, observing the 75% quantiles, we see that this is not the case, as these values are very close to the values from the original dataset. \n",
    "\n",
    "We can therefore assume that the model makes good predictions on there being snow, and this will have a great benefit over replacing the snow column with the mean, as that would result in all the missing rows having ~36 mm of snow, even in 20 degrees celsius.\n"
   ]
  },
  {
   "cell_type": "markdown",
   "metadata": {},
   "source": [
    "We can now save the data"
   ]
  },
  {
   "cell_type": "code",
   "execution_count": 113,
   "metadata": {},
   "outputs": [],
   "source": [
    "df19_weather.to_csv('Jan_2019_ontime_weather_imputed.csv', index=False)\n",
    "df20_weather.to_csv('Jan_2020_ontime_weather_imputed.csv', index=False)"
   ]
  }
 ],
 "metadata": {
  "kernelspec": {
   "display_name": "Python 3",
   "language": "python",
   "name": "python3"
  },
  "language_info": {
   "codemirror_mode": {
    "name": "ipython",
    "version": 3
   },
   "file_extension": ".py",
   "mimetype": "text/x-python",
   "name": "python",
   "nbconvert_exporter": "python",
   "pygments_lexer": "ipython3",
   "version": "3.8.5"
  },
  "toc": {
   "base_numbering": 1,
   "nav_menu": {},
   "number_sections": true,
   "sideBar": true,
   "skip_h1_title": false,
   "title_cell": "Table of Contents",
   "title_sidebar": "Contents",
   "toc_cell": false,
   "toc_position": {
    "height": "calc(100% - 180px)",
    "left": "10px",
    "top": "150px",
    "width": "286px"
   },
   "toc_section_display": true,
   "toc_window_display": true
  },
  "varInspector": {
   "cols": {
    "lenName": 16,
    "lenType": 16,
    "lenVar": 40
   },
   "kernels_config": {
    "python": {
     "delete_cmd_postfix": "",
     "delete_cmd_prefix": "del ",
     "library": "var_list.py",
     "varRefreshCmd": "print(var_dic_list())"
    },
    "r": {
     "delete_cmd_postfix": ") ",
     "delete_cmd_prefix": "rm(",
     "library": "var_list.r",
     "varRefreshCmd": "cat(var_dic_list()) "
    }
   },
   "position": {
    "height": "350px",
    "left": "1323px",
    "right": "20px",
    "top": "213px",
    "width": "361px"
   },
   "types_to_exclude": [
    "module",
    "function",
    "builtin_function_or_method",
    "instance",
    "_Feature"
   ],
   "window_display": false
  }
 },
 "nbformat": 4,
 "nbformat_minor": 4
}
