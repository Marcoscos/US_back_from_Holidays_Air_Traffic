{
 "cells": [
  {
   "cell_type": "markdown",
   "metadata": {
    "id": "6e__rnuC0AoX"
   },
   "source": [
    "This notebook is to test out the different meteorogical data querying, but also my imagination on how to get myself killed."
   ]
  },
  {
   "cell_type": "markdown",
   "metadata": {
    "heading_collapsed": true,
    "id": "8kBqglHbsPNm"
   },
   "source": [
    "# Wunderground API\n",
    "\n",
    "\n",
    "\n",
    "\n"
   ]
  },
  {
   "cell_type": "markdown",
   "metadata": {
    "hidden": true,
    "id": "X4EclCmbwXYW"
   },
   "source": [
    "The first one, and the one I thought could be used by us is this one from\n",
    "\n",
    "http://oco-carbon.com/coding/wunderground-data-to-csv/"
   ]
  },
  {
   "cell_type": "code",
   "execution_count": 1,
   "metadata": {
    "hidden": true,
    "id": "dmf7v26ez55E"
   },
   "outputs": [],
   "source": [
    "import csv\n",
    "import datetime\n",
    "import os\n",
    "import requests # this library makes html requests much simpler\n",
    "import json"
   ]
  },
  {
   "cell_type": "code",
   "execution_count": null,
   "metadata": {
    "hidden": true,
    "id": "p0kMWu010bzR"
   },
   "outputs": [],
   "source": [
    "#Adding the required info\n",
    "\n",
    "# add your API key (from wunderground) here\n",
    "api_key = \"1e35c91c4bb74f61b5c91c4bb7ff617d\"\n",
    "station_ids = [\"KJFK\",\"KSFO\"] # add more stations here if required"
   ]
  },
  {
   "cell_type": "code",
   "execution_count": null,
   "metadata": {
    "colab": {
     "base_uri": "https://localhost:8080/",
     "height": 443
    },
    "hidden": true,
    "id": "NrHFSzpF0ci8",
    "outputId": "2889107a-a083-4931-9404-5254ccc1e581"
   },
   "outputs": [
    {
     "name": "stdout",
     "output_type": "stream",
     "text": [
      "Fetching data for station ID: KJFK\n"
     ]
    },
    {
     "ename": "TypeError",
     "evalue": "ignored",
     "output_type": "error",
     "traceback": [
      "\u001b[0;31m---------------------------------------------------------------------------\u001b[0m",
      "\u001b[0;31mJSONDecodeError\u001b[0m                           Traceback (most recent call last)",
      "\u001b[0;32m<ipython-input-61-2d7cf50fd708>\u001b[0m in \u001b[0;36m<module>\u001b[0;34m()\u001b[0m\n\u001b[1;32m     25\u001b[0m                             \u001b[0;31m# make the request and parse json\u001b[0m\u001b[0;34m\u001b[0m\u001b[0;34m\u001b[0m\u001b[0;34m\u001b[0m\u001b[0m\n\u001b[0;32m---> 26\u001b[0;31m                             \u001b[0mdata\u001b[0m \u001b[0;34m=\u001b[0m \u001b[0mrequests\u001b[0m\u001b[0;34m.\u001b[0m\u001b[0mget\u001b[0m\u001b[0;34m(\u001b[0m\u001b[0murl\u001b[0m\u001b[0;34m)\u001b[0m\u001b[0;34m.\u001b[0m\u001b[0mjson\u001b[0m\u001b[0;34m(\u001b[0m\u001b[0;34m)\u001b[0m \u001b[0;31m###this is where the program stops working\u001b[0m\u001b[0;34m\u001b[0m\u001b[0;34m\u001b[0m\u001b[0m\n\u001b[0m\u001b[1;32m     27\u001b[0m                             \u001b[0;31m# print(data)\u001b[0m\u001b[0;34m\u001b[0m\u001b[0;34m\u001b[0m\u001b[0;34m\u001b[0m\u001b[0m\n",
      "\u001b[0;32m/usr/local/lib/python3.7/dist-packages/requests/models.py\u001b[0m in \u001b[0;36mjson\u001b[0;34m(self, **kwargs)\u001b[0m\n\u001b[1;32m    897\u001b[0m                     \u001b[0;32mpass\u001b[0m\u001b[0;34m\u001b[0m\u001b[0;34m\u001b[0m\u001b[0m\n\u001b[0;32m--> 898\u001b[0;31m         \u001b[0;32mreturn\u001b[0m \u001b[0mcomplexjson\u001b[0m\u001b[0;34m.\u001b[0m\u001b[0mloads\u001b[0m\u001b[0;34m(\u001b[0m\u001b[0mself\u001b[0m\u001b[0;34m.\u001b[0m\u001b[0mtext\u001b[0m\u001b[0;34m,\u001b[0m \u001b[0;34m**\u001b[0m\u001b[0mkwargs\u001b[0m\u001b[0;34m)\u001b[0m\u001b[0;34m\u001b[0m\u001b[0;34m\u001b[0m\u001b[0m\n\u001b[0m\u001b[1;32m    899\u001b[0m \u001b[0;34m\u001b[0m\u001b[0m\n",
      "\u001b[0;32m/usr/lib/python3.7/json/__init__.py\u001b[0m in \u001b[0;36mloads\u001b[0;34m(s, encoding, cls, object_hook, parse_float, parse_int, parse_constant, object_pairs_hook, **kw)\u001b[0m\n\u001b[1;32m    347\u001b[0m             parse_constant is None and object_pairs_hook is None and not kw):\n\u001b[0;32m--> 348\u001b[0;31m         \u001b[0;32mreturn\u001b[0m \u001b[0m_default_decoder\u001b[0m\u001b[0;34m.\u001b[0m\u001b[0mdecode\u001b[0m\u001b[0;34m(\u001b[0m\u001b[0ms\u001b[0m\u001b[0;34m)\u001b[0m\u001b[0;34m\u001b[0m\u001b[0;34m\u001b[0m\u001b[0m\n\u001b[0m\u001b[1;32m    349\u001b[0m     \u001b[0;32mif\u001b[0m \u001b[0mcls\u001b[0m \u001b[0;32mis\u001b[0m \u001b[0;32mNone\u001b[0m\u001b[0;34m:\u001b[0m\u001b[0;34m\u001b[0m\u001b[0;34m\u001b[0m\u001b[0m\n",
      "\u001b[0;32m/usr/lib/python3.7/json/decoder.py\u001b[0m in \u001b[0;36mdecode\u001b[0;34m(self, s, _w)\u001b[0m\n\u001b[1;32m    336\u001b[0m         \"\"\"\n\u001b[0;32m--> 337\u001b[0;31m         \u001b[0mobj\u001b[0m\u001b[0;34m,\u001b[0m \u001b[0mend\u001b[0m \u001b[0;34m=\u001b[0m \u001b[0mself\u001b[0m\u001b[0;34m.\u001b[0m\u001b[0mraw_decode\u001b[0m\u001b[0;34m(\u001b[0m\u001b[0ms\u001b[0m\u001b[0;34m,\u001b[0m \u001b[0midx\u001b[0m\u001b[0;34m=\u001b[0m\u001b[0m_w\u001b[0m\u001b[0;34m(\u001b[0m\u001b[0ms\u001b[0m\u001b[0;34m,\u001b[0m \u001b[0;36m0\u001b[0m\u001b[0;34m)\u001b[0m\u001b[0;34m.\u001b[0m\u001b[0mend\u001b[0m\u001b[0;34m(\u001b[0m\u001b[0;34m)\u001b[0m\u001b[0;34m)\u001b[0m\u001b[0;34m\u001b[0m\u001b[0;34m\u001b[0m\u001b[0m\n\u001b[0m\u001b[1;32m    338\u001b[0m         \u001b[0mend\u001b[0m \u001b[0;34m=\u001b[0m \u001b[0m_w\u001b[0m\u001b[0;34m(\u001b[0m\u001b[0ms\u001b[0m\u001b[0;34m,\u001b[0m \u001b[0mend\u001b[0m\u001b[0;34m)\u001b[0m\u001b[0;34m.\u001b[0m\u001b[0mend\u001b[0m\u001b[0;34m(\u001b[0m\u001b[0;34m)\u001b[0m\u001b[0;34m\u001b[0m\u001b[0;34m\u001b[0m\u001b[0m\n",
      "\u001b[0;32m/usr/lib/python3.7/json/decoder.py\u001b[0m in \u001b[0;36mraw_decode\u001b[0;34m(self, s, idx)\u001b[0m\n\u001b[1;32m    354\u001b[0m         \u001b[0;32mexcept\u001b[0m \u001b[0mStopIteration\u001b[0m \u001b[0;32mas\u001b[0m \u001b[0merr\u001b[0m\u001b[0;34m:\u001b[0m\u001b[0;34m\u001b[0m\u001b[0;34m\u001b[0m\u001b[0m\n\u001b[0;32m--> 355\u001b[0;31m             \u001b[0;32mraise\u001b[0m \u001b[0mJSONDecodeError\u001b[0m\u001b[0;34m(\u001b[0m\u001b[0;34m\"Expecting value\"\u001b[0m\u001b[0;34m,\u001b[0m \u001b[0ms\u001b[0m\u001b[0;34m,\u001b[0m \u001b[0merr\u001b[0m\u001b[0;34m.\u001b[0m\u001b[0mvalue\u001b[0m\u001b[0;34m)\u001b[0m \u001b[0;32mfrom\u001b[0m \u001b[0;32mNone\u001b[0m\u001b[0;34m\u001b[0m\u001b[0;34m\u001b[0m\u001b[0m\n\u001b[0m\u001b[1;32m    356\u001b[0m         \u001b[0;32mreturn\u001b[0m \u001b[0mobj\u001b[0m\u001b[0;34m,\u001b[0m \u001b[0mend\u001b[0m\u001b[0;34m\u001b[0m\u001b[0;34m\u001b[0m\u001b[0m\n",
      "\u001b[0;31mJSONDecodeError\u001b[0m: Expecting value: line 1 column 1 (char 0)",
      "\nDuring handling of the above exception, another exception occurred:\n",
      "\u001b[0;31mTypeError\u001b[0m                                 Traceback (most recent call last)",
      "\u001b[0;32m<ipython-input-61-2d7cf50fd708>\u001b[0m in \u001b[0;36m<module>\u001b[0;34m()\u001b[0m\n\u001b[1;32m     37\u001b[0m         \u001b[0;32mexcept\u001b[0m \u001b[0mException\u001b[0m\u001b[0;34m:\u001b[0m\u001b[0;34m\u001b[0m\u001b[0;34m\u001b[0m\u001b[0m\n\u001b[1;32m     38\u001b[0m                 \u001b[0;31m# tidy up\u001b[0m\u001b[0;34m\u001b[0m\u001b[0;34m\u001b[0m\u001b[0;34m\u001b[0m\u001b[0m\n\u001b[0;32m---> 39\u001b[0;31m                 \u001b[0mos\u001b[0m\u001b[0;34m.\u001b[0m\u001b[0mremove\u001b[0m\u001b[0;34m(\u001b[0m\u001b[0moutfile\u001b[0m\u001b[0;34m)\u001b[0m\u001b[0;34m\u001b[0m\u001b[0;34m\u001b[0m\u001b[0m\n\u001b[0m\u001b[1;32m     40\u001b[0m \u001b[0;34m\u001b[0m\u001b[0m\n\u001b[1;32m     41\u001b[0m \u001b[0mprint\u001b[0m\u001b[0;34m(\u001b[0m\u001b[0;34m\"Done!\"\u001b[0m\u001b[0;34m)\u001b[0m\u001b[0;34m\u001b[0m\u001b[0;34m\u001b[0m\u001b[0m\n",
      "\u001b[0;31mTypeError\u001b[0m: remove: path should be string, bytes or os.PathLike, not _io.TextIOWrapper"
     ]
    }
   ],
   "source": [
    "#Now we do create the csv file\n",
    "\n",
    "for station_id in station_ids:\n",
    "\tprint(\"Fetching data for station ID: %s\" % station_id)\n",
    "\ttry:\n",
    "\t\t# initialise your csv file\n",
    "\t\twith open('%s.csv' % station_id, 'w', newline = '') as outfile:\n",
    "\t\t\twriter = csv.writer(outfile, delimiter=',', quoting=csv.QUOTE_MINIMAL)\n",
    "\t\t\theaders = ['date','Dry-Bulb Temperature','Atmospheric Pressure','Dew-Point Temperature','Relative Humidity','wind speed','wind direction','Precip','Visibility','Solar Condition'] # edit these as required\n",
    "\t\t\tunits = ['','C','hpa','C','%','km/h','Degrees','mm','km','']\n",
    "\t\t\tkeys = ['tempm','pressurem','dewptm','hum','wspdm','wdird','precipm','vism','conds']\n",
    "\t\t\twriter.writerow(headers)\n",
    "\t\t\twriter.writerow(units)\n",
    "\n",
    "\t\t\t# enter the first and last day required here\n",
    "\t\t\tstart_date = datetime.date(2019,1,1)\n",
    "\t\t\tend_date = datetime.date(2019,1,31)\n",
    "\n",
    "\t\t\tdate = start_date\n",
    "\t\t\twhile date <= end_date:\n",
    "                            # format the date as YYYYMMDD\n",
    "                            date_string = date.strftime('%Y%m%d')\n",
    "                            # build the url\n",
    "                            url = (\"http://api.wunderground.com/api/%s/history_%s/q/%s.json\" %(api_key, date_string, station_id))\n",
    "                            # make the request and parse json\n",
    "                            data = requests.get(url).json() ###this is where the program stops working\n",
    "                            # print(data)\n",
    "                            # build your row\n",
    "                            for history in data['history']['observations']:\n",
    "                                row = []\n",
    "                                row.append(str(history['date']['pretty']))\n",
    "                                for k in keys:\n",
    "                                    row.append(str(history[k]))\n",
    "                                writer.writerow(row)\n",
    "                            # increment the day by one\n",
    "                            date += datetime.timedelta(days=1)\n",
    "\texcept Exception:\n",
    "\t\t# tidy up\n",
    "\t\tos.remove(outfile)\n",
    "\n",
    "print(\"Done!\")"
   ]
  },
  {
   "cell_type": "markdown",
   "metadata": {
    "hidden": true,
    "id": "azX6a4RNwm7C"
   },
   "source": [
    "It was fairly easy to understand, and that's why I spent quite a lot of hours trying to fix something that wouldnt work. After few Google search, I found out that from 2019 Weather Underground changed their API policies, and the requests to historical data throught their API is denied, unless it is your own PWS (personal weahter station)."
   ]
  },
  {
   "cell_type": "code",
   "execution_count": null,
   "metadata": {
    "hidden": true,
    "id": "F0PTELm21HnL"
   },
   "outputs": [],
   "source": [
    "#trying out something different\n",
    "#!pip install WunderWeather\n",
    "#import WunderWeather as wunder"
   ]
  },
  {
   "cell_type": "code",
   "execution_count": null,
   "metadata": {
    "hidden": true,
    "id": "0J7tHqx8OSXu"
   },
   "outputs": [],
   "source": [
    "#Now we try to get the data\n",
    "#from WunderWeather import weather\n",
    "#extractor = weather.Extract(api_key)\n",
    "#[location,current] = extractor.features(\"MA/Boston\",(('geolookup',''),('now','')))\n",
    "#print(\"Current Temperature in %s is: %s\" %(location.data.city,current.temp_f))\n",
    "\n",
    "##THIS DOES NOT WORK"
   ]
  },
  {
   "cell_type": "markdown",
   "metadata": {
    "hidden": true,
    "id": "7rWygI_JhHCG"
   },
   "source": [
    "The thing of looking at old pieces of scripts, that you might find that whatever they were using is not online anymore."
   ]
  },
  {
   "cell_type": "code",
   "execution_count": null,
   "metadata": {
    "colab": {
     "base_uri": "https://localhost:8080/"
    },
    "hidden": true,
    "id": "Tpmn7UaSTgt5",
    "outputId": "ffb51b51-c8b4-42f6-b19e-476e34021bc0"
   },
   "outputs": [
    {
     "name": "stdout",
     "output_type": "stream",
     "text": [
      "http://api.wunderground.com/api/1e35c91c4bb74f61b5c91c4bb7ff617d/history_20190101/q/KJFK.json\n"
     ]
    }
   ],
   "source": [
    "print(url)"
   ]
  },
  {
   "cell_type": "markdown",
   "metadata": {
    "hidden": true,
    "id": "PrNNJHe9g98n"
   },
   "source": [
    "Testing different url with the v2 API, it seems that the historical data is restricted, as we get denied access."
   ]
  },
  {
   "cell_type": "code",
   "execution_count": null,
   "metadata": {
    "hidden": true,
    "id": "OGooGER5bfJM"
   },
   "outputs": [],
   "source": [
    " #https://api.weather.com/v2/pws/observations/current?stationId=KJFK&format=json&units=e&apiKey=1e35c91c4bb74f61b5c91c4bb7ff617d"
   ]
  },
  {
   "cell_type": "code",
   "execution_count": null,
   "metadata": {
    "hidden": true,
    "id": "JEgTfjNHcuNK"
   },
   "outputs": [],
   "source": [
    "#https://api.weather.com/v2/pws/observations/history_20190101?stationId=KCTWESTH45&format=json&units=e&apiKey=6532d6454b8aa370768e63d6ba5a832e"
   ]
  },
  {
   "cell_type": "markdown",
   "metadata": {
    "hidden": true,
    "id": "Ds8uUdoOheae"
   },
   "source": [
    "This API is using JAVA, and I dont know how could we translate that to python"
   ]
  },
  {
   "cell_type": "code",
   "execution_count": null,
   "metadata": {
    "hidden": true,
    "id": "Rhudzq1gdxsW"
   },
   "outputs": [],
   "source": [
    "#curl --header \"x-api-key: {key}\" \"https://api.meteostat.net/v2/stations/meta?id=10637\""
   ]
  },
  {
   "cell_type": "markdown",
   "metadata": {
    "hidden": true,
    "id": "ek_-okqLhxhC"
   },
   "source": [
    "This in theory could provide us with different weather historical data for free, although it seems that we need to provide it with loc and lat data, as I cant code in Java, I will just use the python library; please see below."
   ]
  },
  {
   "cell_type": "markdown",
   "metadata": {
    "id": "SSuJE904scQA"
   },
   "source": [
    "# Meteostat library"
   ]
  },
  {
   "cell_type": "markdown",
   "metadata": {
    "id": "F_EDjRMns577"
   },
   "source": [
    "It is a library in python which allows us to fetch historical data, either way in hourly or daily basis of almost all airports in the worl. It is quite important to remark that this API is mostly focused on historical data, which for us makes sense."
   ]
  },
  {
   "cell_type": "code",
   "execution_count": 3,
   "metadata": {
    "colab": {
     "base_uri": "https://localhost:8080/"
    },
    "id": "zvByDSA8jKBh",
    "outputId": "cffaad15-d445-4304-ed42-daebbeeda851"
   },
   "outputs": [
    {
     "name": "stdout",
     "output_type": "stream",
     "text": [
      "Collecting meteostat\n",
      "  Downloading meteostat-1.2.2.tar.gz (11 kB)\n",
      "Requirement already satisfied: pandas>=1.1 in c:\\users\\ivorr\\anaconda3\\lib\\site-packages (from meteostat) (1.1.3)\n",
      "Requirement already satisfied: pytz in c:\\users\\ivorr\\anaconda3\\lib\\site-packages (from meteostat) (2020.1)\n",
      "Requirement already satisfied: numpy in c:\\users\\ivorr\\anaconda3\\lib\\site-packages (from meteostat) (1.19.2)\n",
      "Requirement already satisfied: python-dateutil>=2.7.3 in c:\\users\\ivorr\\anaconda3\\lib\\site-packages (from pandas>=1.1->meteostat) (2.8.1)\n",
      "Requirement already satisfied: six>=1.5 in c:\\users\\ivorr\\anaconda3\\lib\\site-packages (from python-dateutil>=2.7.3->pandas>=1.1->meteostat) (1.15.0)\n",
      "Building wheels for collected packages: meteostat\n",
      "  Building wheel for meteostat (setup.py): started\n",
      "  Building wheel for meteostat (setup.py): finished with status 'done'\n",
      "  Created wheel for meteostat: filename=meteostat-1.2.2-py3-none-any.whl size=15695 sha256=71cad4d7b0cfb840525f2e5b6c7c4e1eed9f8627ae58f6029fab2bce0b91d4d7\n",
      "  Stored in directory: c:\\users\\ivorr\\appdata\\local\\pip\\cache\\wheels\\80\\59\\70\\e944ab08ebc5fd1a2439be28a4befa4d40eaf3d8c9e567ba47\n",
      "Successfully built meteostat\n",
      "Installing collected packages: meteostat\n",
      "Successfully installed meteostat-1.2.2\n"
     ]
    }
   ],
   "source": [
    "!pip install meteostat"
   ]
  },
  {
   "cell_type": "code",
   "execution_count": 4,
   "metadata": {
    "colab": {
     "base_uri": "https://localhost:8080/",
     "height": 314
    },
    "id": "yESHPwQjh6RU",
    "outputId": "5b128010-2158-4ebb-c529-f9922494d6d2",
    "slideshow": {
     "slide_type": "-"
    }
   },
   "outputs": [],
   "source": [
    "# Import Meteostat library and dependencies\n",
    "from datetime import datetime\n",
    "import matplotlib.pyplot as plt\n",
    "from meteostat import Point, Daily\n",
    "\n",
    "# Set time period\n",
    "start = datetime(2019, 1, 1)\n",
    "end = datetime(2019, 1, 31)\n",
    "\n",
    "# Create Point for JFK International Airport\n",
    "JFK = Point(40.639722, -73.778889, 70)\n",
    "\n",
    "# Get daily data for 2018\n",
    "data = Daily(JFK, start, end)\n",
    "data = data.fetch()"
   ]
  },
  {
   "cell_type": "code",
   "execution_count": 5,
   "metadata": {},
   "outputs": [
    {
     "data": {
      "text/html": [
       "<div>\n",
       "<style scoped>\n",
       "    .dataframe tbody tr th:only-of-type {\n",
       "        vertical-align: middle;\n",
       "    }\n",
       "\n",
       "    .dataframe tbody tr th {\n",
       "        vertical-align: top;\n",
       "    }\n",
       "\n",
       "    .dataframe thead th {\n",
       "        text-align: right;\n",
       "    }\n",
       "</style>\n",
       "<table border=\"1\" class=\"dataframe\">\n",
       "  <thead>\n",
       "    <tr style=\"text-align: right;\">\n",
       "      <th></th>\n",
       "      <th>tavg</th>\n",
       "      <th>tmin</th>\n",
       "      <th>tmax</th>\n",
       "      <th>prcp</th>\n",
       "      <th>snow</th>\n",
       "      <th>wdir</th>\n",
       "      <th>wspd</th>\n",
       "      <th>wpgt</th>\n",
       "      <th>pres</th>\n",
       "      <th>tsun</th>\n",
       "    </tr>\n",
       "    <tr>\n",
       "      <th>time</th>\n",
       "      <th></th>\n",
       "      <th></th>\n",
       "      <th></th>\n",
       "      <th></th>\n",
       "      <th></th>\n",
       "      <th></th>\n",
       "      <th></th>\n",
       "      <th></th>\n",
       "      <th></th>\n",
       "      <th></th>\n",
       "    </tr>\n",
       "  </thead>\n",
       "  <tbody>\n",
       "    <tr>\n",
       "      <th>2019-01-01</th>\n",
       "      <td>10.0</td>\n",
       "      <td>4.3</td>\n",
       "      <td>14.1</td>\n",
       "      <td>2.4</td>\n",
       "      <td>0.0</td>\n",
       "      <td>280.0</td>\n",
       "      <td>24.1</td>\n",
       "      <td>NaN</td>\n",
       "      <td>1010.8</td>\n",
       "      <td>NaN</td>\n",
       "    </tr>\n",
       "    <tr>\n",
       "      <th>2019-01-02</th>\n",
       "      <td>3.2</td>\n",
       "      <td>1.2</td>\n",
       "      <td>4.7</td>\n",
       "      <td>0.0</td>\n",
       "      <td>0.0</td>\n",
       "      <td>44.6</td>\n",
       "      <td>11.7</td>\n",
       "      <td>NaN</td>\n",
       "      <td>1024.8</td>\n",
       "      <td>NaN</td>\n",
       "    </tr>\n",
       "    <tr>\n",
       "      <th>2019-01-03</th>\n",
       "      <td>4.7</td>\n",
       "      <td>0.7</td>\n",
       "      <td>7.1</td>\n",
       "      <td>0.0</td>\n",
       "      <td>0.0</td>\n",
       "      <td>276.0</td>\n",
       "      <td>14.7</td>\n",
       "      <td>NaN</td>\n",
       "      <td>1014.8</td>\n",
       "      <td>NaN</td>\n",
       "    </tr>\n",
       "    <tr>\n",
       "      <th>2019-01-04</th>\n",
       "      <td>3.1</td>\n",
       "      <td>-0.4</td>\n",
       "      <td>7.0</td>\n",
       "      <td>0.0</td>\n",
       "      <td>0.0</td>\n",
       "      <td>227.2</td>\n",
       "      <td>14.7</td>\n",
       "      <td>NaN</td>\n",
       "      <td>1014.4</td>\n",
       "      <td>NaN</td>\n",
       "    </tr>\n",
       "    <tr>\n",
       "      <th>2019-01-05</th>\n",
       "      <td>6.4</td>\n",
       "      <td>4.8</td>\n",
       "      <td>7.6</td>\n",
       "      <td>13.1</td>\n",
       "      <td>0.0</td>\n",
       "      <td>19.9</td>\n",
       "      <td>17.0</td>\n",
       "      <td>NaN</td>\n",
       "      <td>1001.2</td>\n",
       "      <td>NaN</td>\n",
       "    </tr>\n",
       "    <tr>\n",
       "      <th>2019-01-06</th>\n",
       "      <td>6.1</td>\n",
       "      <td>-0.5</td>\n",
       "      <td>10.1</td>\n",
       "      <td>0.0</td>\n",
       "      <td>0.0</td>\n",
       "      <td>296.6</td>\n",
       "      <td>23.2</td>\n",
       "      <td>NaN</td>\n",
       "      <td>1014.2</td>\n",
       "      <td>NaN</td>\n",
       "    </tr>\n",
       "    <tr>\n",
       "      <th>2019-01-07</th>\n",
       "      <td>-1.1</td>\n",
       "      <td>-3.9</td>\n",
       "      <td>1.1</td>\n",
       "      <td>0.0</td>\n",
       "      <td>0.0</td>\n",
       "      <td>8.6</td>\n",
       "      <td>14.9</td>\n",
       "      <td>NaN</td>\n",
       "      <td>1030.1</td>\n",
       "      <td>NaN</td>\n",
       "    </tr>\n",
       "    <tr>\n",
       "      <th>2019-01-08</th>\n",
       "      <td>3.1</td>\n",
       "      <td>0.9</td>\n",
       "      <td>6.8</td>\n",
       "      <td>4.0</td>\n",
       "      <td>0.0</td>\n",
       "      <td>176.3</td>\n",
       "      <td>7.8</td>\n",
       "      <td>NaN</td>\n",
       "      <td>1014.7</td>\n",
       "      <td>NaN</td>\n",
       "    </tr>\n",
       "    <tr>\n",
       "      <th>2019-01-09</th>\n",
       "      <td>5.5</td>\n",
       "      <td>0.9</td>\n",
       "      <td>7.5</td>\n",
       "      <td>1.4</td>\n",
       "      <td>0.0</td>\n",
       "      <td>283.6</td>\n",
       "      <td>28.0</td>\n",
       "      <td>NaN</td>\n",
       "      <td>1002.0</td>\n",
       "      <td>NaN</td>\n",
       "    </tr>\n",
       "    <tr>\n",
       "      <th>2019-01-10</th>\n",
       "      <td>0.5</td>\n",
       "      <td>-2.3</td>\n",
       "      <td>1.8</td>\n",
       "      <td>0.0</td>\n",
       "      <td>0.0</td>\n",
       "      <td>301.3</td>\n",
       "      <td>34.9</td>\n",
       "      <td>NaN</td>\n",
       "      <td>1007.7</td>\n",
       "      <td>NaN</td>\n",
       "    </tr>\n",
       "    <tr>\n",
       "      <th>2019-01-11</th>\n",
       "      <td>-2.7</td>\n",
       "      <td>-6.1</td>\n",
       "      <td>0.2</td>\n",
       "      <td>0.0</td>\n",
       "      <td>0.0</td>\n",
       "      <td>312.9</td>\n",
       "      <td>23.4</td>\n",
       "      <td>NaN</td>\n",
       "      <td>1023.5</td>\n",
       "      <td>NaN</td>\n",
       "    </tr>\n",
       "    <tr>\n",
       "      <th>2019-01-12</th>\n",
       "      <td>-3.6</td>\n",
       "      <td>-6.9</td>\n",
       "      <td>1.4</td>\n",
       "      <td>0.0</td>\n",
       "      <td>0.0</td>\n",
       "      <td>305.2</td>\n",
       "      <td>9.9</td>\n",
       "      <td>NaN</td>\n",
       "      <td>1033.1</td>\n",
       "      <td>NaN</td>\n",
       "    </tr>\n",
       "    <tr>\n",
       "      <th>2019-01-13</th>\n",
       "      <td>-2.1</td>\n",
       "      <td>-5.1</td>\n",
       "      <td>0.2</td>\n",
       "      <td>0.0</td>\n",
       "      <td>0.0</td>\n",
       "      <td>28.7</td>\n",
       "      <td>17.7</td>\n",
       "      <td>NaN</td>\n",
       "      <td>1029.3</td>\n",
       "      <td>NaN</td>\n",
       "    </tr>\n",
       "    <tr>\n",
       "      <th>2019-01-14</th>\n",
       "      <td>-3.0</td>\n",
       "      <td>-5.6</td>\n",
       "      <td>0.9</td>\n",
       "      <td>0.0</td>\n",
       "      <td>0.0</td>\n",
       "      <td>359.6</td>\n",
       "      <td>17.1</td>\n",
       "      <td>NaN</td>\n",
       "      <td>1023.7</td>\n",
       "      <td>NaN</td>\n",
       "    </tr>\n",
       "    <tr>\n",
       "      <th>2019-01-15</th>\n",
       "      <td>-1.8</td>\n",
       "      <td>-5.6</td>\n",
       "      <td>2.6</td>\n",
       "      <td>0.0</td>\n",
       "      <td>0.0</td>\n",
       "      <td>301.4</td>\n",
       "      <td>9.5</td>\n",
       "      <td>NaN</td>\n",
       "      <td>1020.6</td>\n",
       "      <td>NaN</td>\n",
       "    </tr>\n",
       "    <tr>\n",
       "      <th>2019-01-16</th>\n",
       "      <td>-0.4</td>\n",
       "      <td>-4.2</td>\n",
       "      <td>3.6</td>\n",
       "      <td>0.0</td>\n",
       "      <td>0.0</td>\n",
       "      <td>258.9</td>\n",
       "      <td>17.8</td>\n",
       "      <td>NaN</td>\n",
       "      <td>1019.0</td>\n",
       "      <td>NaN</td>\n",
       "    </tr>\n",
       "    <tr>\n",
       "      <th>2019-01-17</th>\n",
       "      <td>-1.2</td>\n",
       "      <td>-4.5</td>\n",
       "      <td>0.7</td>\n",
       "      <td>0.0</td>\n",
       "      <td>0.0</td>\n",
       "      <td>15.2</td>\n",
       "      <td>12.6</td>\n",
       "      <td>NaN</td>\n",
       "      <td>1027.2</td>\n",
       "      <td>NaN</td>\n",
       "    </tr>\n",
       "    <tr>\n",
       "      <th>2019-01-18</th>\n",
       "      <td>0.1</td>\n",
       "      <td>-2.4</td>\n",
       "      <td>3.3</td>\n",
       "      <td>0.7</td>\n",
       "      <td>13.3</td>\n",
       "      <td>334.9</td>\n",
       "      <td>11.5</td>\n",
       "      <td>NaN</td>\n",
       "      <td>1020.2</td>\n",
       "      <td>NaN</td>\n",
       "    </tr>\n",
       "    <tr>\n",
       "      <th>2019-01-19</th>\n",
       "      <td>1.1</td>\n",
       "      <td>-1.8</td>\n",
       "      <td>3.1</td>\n",
       "      <td>11.0</td>\n",
       "      <td>0.0</td>\n",
       "      <td>46.9</td>\n",
       "      <td>13.2</td>\n",
       "      <td>NaN</td>\n",
       "      <td>1021.1</td>\n",
       "      <td>NaN</td>\n",
       "    </tr>\n",
       "    <tr>\n",
       "      <th>2019-01-20</th>\n",
       "      <td>1.9</td>\n",
       "      <td>-10.4</td>\n",
       "      <td>6.8</td>\n",
       "      <td>29.0</td>\n",
       "      <td>0.0</td>\n",
       "      <td>2.2</td>\n",
       "      <td>28.7</td>\n",
       "      <td>NaN</td>\n",
       "      <td>999.4</td>\n",
       "      <td>NaN</td>\n",
       "    </tr>\n",
       "    <tr>\n",
       "      <th>2019-01-21</th>\n",
       "      <td>-11.6</td>\n",
       "      <td>-15.3</td>\n",
       "      <td>-9.4</td>\n",
       "      <td>0.0</td>\n",
       "      <td>0.0</td>\n",
       "      <td>298.3</td>\n",
       "      <td>34.7</td>\n",
       "      <td>NaN</td>\n",
       "      <td>1018.5</td>\n",
       "      <td>NaN</td>\n",
       "    </tr>\n",
       "    <tr>\n",
       "      <th>2019-01-22</th>\n",
       "      <td>-7.5</td>\n",
       "      <td>-10.5</td>\n",
       "      <td>-0.5</td>\n",
       "      <td>0.0</td>\n",
       "      <td>0.0</td>\n",
       "      <td>281.0</td>\n",
       "      <td>14.8</td>\n",
       "      <td>NaN</td>\n",
       "      <td>1035.8</td>\n",
       "      <td>NaN</td>\n",
       "    </tr>\n",
       "    <tr>\n",
       "      <th>2019-01-23</th>\n",
       "      <td>0.8</td>\n",
       "      <td>-2.4</td>\n",
       "      <td>8.7</td>\n",
       "      <td>0.0</td>\n",
       "      <td>0.0</td>\n",
       "      <td>198.8</td>\n",
       "      <td>14.6</td>\n",
       "      <td>NaN</td>\n",
       "      <td>1024.8</td>\n",
       "      <td>NaN</td>\n",
       "    </tr>\n",
       "    <tr>\n",
       "      <th>2019-01-24</th>\n",
       "      <td>9.6</td>\n",
       "      <td>1.4</td>\n",
       "      <td>13.2</td>\n",
       "      <td>29.3</td>\n",
       "      <td>0.0</td>\n",
       "      <td>215.2</td>\n",
       "      <td>26.4</td>\n",
       "      <td>NaN</td>\n",
       "      <td>1002.4</td>\n",
       "      <td>NaN</td>\n",
       "    </tr>\n",
       "    <tr>\n",
       "      <th>2019-01-25</th>\n",
       "      <td>1.9</td>\n",
       "      <td>-2.6</td>\n",
       "      <td>4.0</td>\n",
       "      <td>0.0</td>\n",
       "      <td>0.0</td>\n",
       "      <td>274.6</td>\n",
       "      <td>23.2</td>\n",
       "      <td>NaN</td>\n",
       "      <td>1015.0</td>\n",
       "      <td>NaN</td>\n",
       "    </tr>\n",
       "    <tr>\n",
       "      <th>2019-01-26</th>\n",
       "      <td>-2.1</td>\n",
       "      <td>-5.7</td>\n",
       "      <td>1.1</td>\n",
       "      <td>0.0</td>\n",
       "      <td>0.0</td>\n",
       "      <td>236.8</td>\n",
       "      <td>12.5</td>\n",
       "      <td>NaN</td>\n",
       "      <td>1024.3</td>\n",
       "      <td>NaN</td>\n",
       "    </tr>\n",
       "    <tr>\n",
       "      <th>2019-01-27</th>\n",
       "      <td>2.4</td>\n",
       "      <td>-3.1</td>\n",
       "      <td>8.7</td>\n",
       "      <td>0.0</td>\n",
       "      <td>0.0</td>\n",
       "      <td>173.6</td>\n",
       "      <td>19.0</td>\n",
       "      <td>NaN</td>\n",
       "      <td>1017.7</td>\n",
       "      <td>NaN</td>\n",
       "    </tr>\n",
       "    <tr>\n",
       "      <th>2019-01-28</th>\n",
       "      <td>-0.4</td>\n",
       "      <td>-5.1</td>\n",
       "      <td>3.2</td>\n",
       "      <td>0.0</td>\n",
       "      <td>0.0</td>\n",
       "      <td>356.9</td>\n",
       "      <td>16.2</td>\n",
       "      <td>NaN</td>\n",
       "      <td>1018.2</td>\n",
       "      <td>NaN</td>\n",
       "    </tr>\n",
       "    <tr>\n",
       "      <th>2019-01-29</th>\n",
       "      <td>-1.1</td>\n",
       "      <td>-5.8</td>\n",
       "      <td>5.4</td>\n",
       "      <td>5.0</td>\n",
       "      <td>0.0</td>\n",
       "      <td>81.2</td>\n",
       "      <td>13.7</td>\n",
       "      <td>NaN</td>\n",
       "      <td>1013.6</td>\n",
       "      <td>NaN</td>\n",
       "    </tr>\n",
       "    <tr>\n",
       "      <th>2019-01-30</th>\n",
       "      <td>-2.9</td>\n",
       "      <td>-14.6</td>\n",
       "      <td>1.0</td>\n",
       "      <td>2.8</td>\n",
       "      <td>0.0</td>\n",
       "      <td>268.4</td>\n",
       "      <td>27.7</td>\n",
       "      <td>NaN</td>\n",
       "      <td>1014.4</td>\n",
       "      <td>NaN</td>\n",
       "    </tr>\n",
       "    <tr>\n",
       "      <th>2019-01-31</th>\n",
       "      <td>-13.1</td>\n",
       "      <td>-16.4</td>\n",
       "      <td>-8.5</td>\n",
       "      <td>0.0</td>\n",
       "      <td>0.0</td>\n",
       "      <td>273.4</td>\n",
       "      <td>23.0</td>\n",
       "      <td>NaN</td>\n",
       "      <td>1028.6</td>\n",
       "      <td>NaN</td>\n",
       "    </tr>\n",
       "  </tbody>\n",
       "</table>\n",
       "</div>"
      ],
      "text/plain": [
       "            tavg  tmin  tmax  prcp  snow   wdir  wspd  wpgt    pres  tsun\n",
       "time                                                                     \n",
       "2019-01-01  10.0   4.3  14.1   2.4   0.0  280.0  24.1   NaN  1010.8   NaN\n",
       "2019-01-02   3.2   1.2   4.7   0.0   0.0   44.6  11.7   NaN  1024.8   NaN\n",
       "2019-01-03   4.7   0.7   7.1   0.0   0.0  276.0  14.7   NaN  1014.8   NaN\n",
       "2019-01-04   3.1  -0.4   7.0   0.0   0.0  227.2  14.7   NaN  1014.4   NaN\n",
       "2019-01-05   6.4   4.8   7.6  13.1   0.0   19.9  17.0   NaN  1001.2   NaN\n",
       "2019-01-06   6.1  -0.5  10.1   0.0   0.0  296.6  23.2   NaN  1014.2   NaN\n",
       "2019-01-07  -1.1  -3.9   1.1   0.0   0.0    8.6  14.9   NaN  1030.1   NaN\n",
       "2019-01-08   3.1   0.9   6.8   4.0   0.0  176.3   7.8   NaN  1014.7   NaN\n",
       "2019-01-09   5.5   0.9   7.5   1.4   0.0  283.6  28.0   NaN  1002.0   NaN\n",
       "2019-01-10   0.5  -2.3   1.8   0.0   0.0  301.3  34.9   NaN  1007.7   NaN\n",
       "2019-01-11  -2.7  -6.1   0.2   0.0   0.0  312.9  23.4   NaN  1023.5   NaN\n",
       "2019-01-12  -3.6  -6.9   1.4   0.0   0.0  305.2   9.9   NaN  1033.1   NaN\n",
       "2019-01-13  -2.1  -5.1   0.2   0.0   0.0   28.7  17.7   NaN  1029.3   NaN\n",
       "2019-01-14  -3.0  -5.6   0.9   0.0   0.0  359.6  17.1   NaN  1023.7   NaN\n",
       "2019-01-15  -1.8  -5.6   2.6   0.0   0.0  301.4   9.5   NaN  1020.6   NaN\n",
       "2019-01-16  -0.4  -4.2   3.6   0.0   0.0  258.9  17.8   NaN  1019.0   NaN\n",
       "2019-01-17  -1.2  -4.5   0.7   0.0   0.0   15.2  12.6   NaN  1027.2   NaN\n",
       "2019-01-18   0.1  -2.4   3.3   0.7  13.3  334.9  11.5   NaN  1020.2   NaN\n",
       "2019-01-19   1.1  -1.8   3.1  11.0   0.0   46.9  13.2   NaN  1021.1   NaN\n",
       "2019-01-20   1.9 -10.4   6.8  29.0   0.0    2.2  28.7   NaN   999.4   NaN\n",
       "2019-01-21 -11.6 -15.3  -9.4   0.0   0.0  298.3  34.7   NaN  1018.5   NaN\n",
       "2019-01-22  -7.5 -10.5  -0.5   0.0   0.0  281.0  14.8   NaN  1035.8   NaN\n",
       "2019-01-23   0.8  -2.4   8.7   0.0   0.0  198.8  14.6   NaN  1024.8   NaN\n",
       "2019-01-24   9.6   1.4  13.2  29.3   0.0  215.2  26.4   NaN  1002.4   NaN\n",
       "2019-01-25   1.9  -2.6   4.0   0.0   0.0  274.6  23.2   NaN  1015.0   NaN\n",
       "2019-01-26  -2.1  -5.7   1.1   0.0   0.0  236.8  12.5   NaN  1024.3   NaN\n",
       "2019-01-27   2.4  -3.1   8.7   0.0   0.0  173.6  19.0   NaN  1017.7   NaN\n",
       "2019-01-28  -0.4  -5.1   3.2   0.0   0.0  356.9  16.2   NaN  1018.2   NaN\n",
       "2019-01-29  -1.1  -5.8   5.4   5.0   0.0   81.2  13.7   NaN  1013.6   NaN\n",
       "2019-01-30  -2.9 -14.6   1.0   2.8   0.0  268.4  27.7   NaN  1014.4   NaN\n",
       "2019-01-31 -13.1 -16.4  -8.5   0.0   0.0  273.4  23.0   NaN  1028.6   NaN"
      ]
     },
     "execution_count": 5,
     "metadata": {},
     "output_type": "execute_result"
    }
   ],
   "source": [
    "data"
   ]
  },
  {
   "cell_type": "code",
   "execution_count": 7,
   "metadata": {},
   "outputs": [
    {
     "data": {
      "text/plain": [
       "tavg      10.0\n",
       "tmin       4.3\n",
       "tmax      14.1\n",
       "prcp       2.4\n",
       "snow       0.0\n",
       "wdir     280.0\n",
       "wspd      24.1\n",
       "wpgt       NaN\n",
       "pres    1010.8\n",
       "tsun       NaN\n",
       "Name: 2019-01-01 00:00:00, dtype: float64"
      ]
     },
     "execution_count": 7,
     "metadata": {},
     "output_type": "execute_result"
    }
   ],
   "source": [
    "data.loc[\"2019-01-01\"]"
   ]
  },
  {
   "cell_type": "code",
   "execution_count": 8,
   "metadata": {
    "colab": {
     "base_uri": "https://localhost:8080/",
     "height": 314
    },
    "id": "yESHPwQjh6RU",
    "outputId": "5b128010-2158-4ebb-c529-f9922494d6d2",
    "slideshow": {
     "slide_type": "-"
    }
   },
   "outputs": [
    {
     "data": {
      "image/png": "[encoded data removed]",
      "text/plain": [
       "<Figure size 432x288 with 1 Axes>"
      ]
     },
     "metadata": {
      "needs_background": "light"
     },
     "output_type": "display_data"
    }
   ],
   "source": [
    "# Plot line chart including average, minimum and maximum temperature\n",
    "data.plot(y=['tavg', 'tmin', 'tmax', 'snow']) #this can be extended from here https://dev.meteostat.net/docs/formats.html#meteorological-parameters\n",
    "plt.show()"
   ]
  },
  {
   "cell_type": "code",
   "execution_count": 9,
   "metadata": {
    "colab": {
     "base_uri": "https://localhost:8080/",
     "height": 235
    },
    "id": "L_s6QNyJjG7m",
    "outputId": "a9dd4c99-8abf-48a0-b473-adbe1ee3648f",
    "scrolled": true
   },
   "outputs": [
    {
     "data": {
      "text/html": [
       "<div>\n",
       "<style scoped>\n",
       "    .dataframe tbody tr th:only-of-type {\n",
       "        vertical-align: middle;\n",
       "    }\n",
       "\n",
       "    .dataframe tbody tr th {\n",
       "        vertical-align: top;\n",
       "    }\n",
       "\n",
       "    .dataframe thead th {\n",
       "        text-align: right;\n",
       "    }\n",
       "</style>\n",
       "<table border=\"1\" class=\"dataframe\">\n",
       "  <thead>\n",
       "    <tr style=\"text-align: right;\">\n",
       "      <th></th>\n",
       "      <th>tavg</th>\n",
       "      <th>tmin</th>\n",
       "      <th>tmax</th>\n",
       "      <th>prcp</th>\n",
       "      <th>snow</th>\n",
       "      <th>wdir</th>\n",
       "      <th>wspd</th>\n",
       "      <th>wpgt</th>\n",
       "      <th>pres</th>\n",
       "      <th>tsun</th>\n",
       "    </tr>\n",
       "    <tr>\n",
       "      <th>time</th>\n",
       "      <th></th>\n",
       "      <th></th>\n",
       "      <th></th>\n",
       "      <th></th>\n",
       "      <th></th>\n",
       "      <th></th>\n",
       "      <th></th>\n",
       "      <th></th>\n",
       "      <th></th>\n",
       "      <th></th>\n",
       "    </tr>\n",
       "  </thead>\n",
       "  <tbody>\n",
       "    <tr>\n",
       "      <th>2019-01-01</th>\n",
       "      <td>10.0</td>\n",
       "      <td>4.3</td>\n",
       "      <td>14.1</td>\n",
       "      <td>2.4</td>\n",
       "      <td>0.0</td>\n",
       "      <td>280.0</td>\n",
       "      <td>24.1</td>\n",
       "      <td>NaN</td>\n",
       "      <td>1010.8</td>\n",
       "      <td>NaN</td>\n",
       "    </tr>\n",
       "    <tr>\n",
       "      <th>2019-01-02</th>\n",
       "      <td>3.2</td>\n",
       "      <td>1.2</td>\n",
       "      <td>4.7</td>\n",
       "      <td>0.0</td>\n",
       "      <td>0.0</td>\n",
       "      <td>44.6</td>\n",
       "      <td>11.7</td>\n",
       "      <td>NaN</td>\n",
       "      <td>1024.8</td>\n",
       "      <td>NaN</td>\n",
       "    </tr>\n",
       "    <tr>\n",
       "      <th>2019-01-03</th>\n",
       "      <td>4.7</td>\n",
       "      <td>0.7</td>\n",
       "      <td>7.1</td>\n",
       "      <td>0.0</td>\n",
       "      <td>0.0</td>\n",
       "      <td>276.0</td>\n",
       "      <td>14.7</td>\n",
       "      <td>NaN</td>\n",
       "      <td>1014.8</td>\n",
       "      <td>NaN</td>\n",
       "    </tr>\n",
       "    <tr>\n",
       "      <th>2019-01-04</th>\n",
       "      <td>3.1</td>\n",
       "      <td>-0.4</td>\n",
       "      <td>7.0</td>\n",
       "      <td>0.0</td>\n",
       "      <td>0.0</td>\n",
       "      <td>227.2</td>\n",
       "      <td>14.7</td>\n",
       "      <td>NaN</td>\n",
       "      <td>1014.4</td>\n",
       "      <td>NaN</td>\n",
       "    </tr>\n",
       "    <tr>\n",
       "      <th>2019-01-05</th>\n",
       "      <td>6.4</td>\n",
       "      <td>4.8</td>\n",
       "      <td>7.6</td>\n",
       "      <td>13.1</td>\n",
       "      <td>0.0</td>\n",
       "      <td>19.9</td>\n",
       "      <td>17.0</td>\n",
       "      <td>NaN</td>\n",
       "      <td>1001.2</td>\n",
       "      <td>NaN</td>\n",
       "    </tr>\n",
       "  </tbody>\n",
       "</table>\n",
       "</div>"
      ],
      "text/plain": [
       "            tavg  tmin  tmax  prcp  snow   wdir  wspd  wpgt    pres  tsun\n",
       "time                                                                     \n",
       "2019-01-01  10.0   4.3  14.1   2.4   0.0  280.0  24.1   NaN  1010.8   NaN\n",
       "2019-01-02   3.2   1.2   4.7   0.0   0.0   44.6  11.7   NaN  1024.8   NaN\n",
       "2019-01-03   4.7   0.7   7.1   0.0   0.0  276.0  14.7   NaN  1014.8   NaN\n",
       "2019-01-04   3.1  -0.4   7.0   0.0   0.0  227.2  14.7   NaN  1014.4   NaN\n",
       "2019-01-05   6.4   4.8   7.6  13.1   0.0   19.9  17.0   NaN  1001.2   NaN"
      ]
     },
     "execution_count": 9,
     "metadata": {},
     "output_type": "execute_result"
    }
   ],
   "source": [
    "#It is daily data and not hourly\n",
    "data.head()\n",
    "#Also it is important to say that weather conditions codes are not accessible!"
   ]
  },
  {
   "cell_type": "code",
   "execution_count": 10,
   "metadata": {
    "colab": {
     "base_uri": "https://localhost:8080/"
    },
    "id": "BV3X5nkJkpsg",
    "outputId": "ef74e407-cfd3-4538-b3b4-bf3cbd608e64"
   },
   "outputs": [
    {
     "name": "stdout",
     "output_type": "stream",
     "text": [
      "                     temp  dwpt  rhum  prcp  snow   wdir  wspd  wpgt    pres  \\\n",
      "time                                                                           \n",
      "2019-01-01 00:00:00   6.3   5.9  97.8   2.0   NaN  120.0  15.1   NaN  1020.3   \n",
      "2019-01-01 01:00:00   6.3   5.9  97.5   4.6   NaN  120.0  22.4   NaN  1018.4   \n",
      "2019-01-01 02:00:00   6.5   6.5  99.5   4.4   NaN  120.0  18.0   NaN  1016.5   \n",
      "2019-01-01 03:00:00   6.8   6.5  98.1   5.6   NaN  100.0  17.5   NaN  1014.0   \n",
      "2019-01-01 04:00:00   7.1   7.0  99.3   4.1   NaN  110.0  14.2   NaN  1011.7   \n",
      "...                   ...   ...   ...   ...   ...    ...   ...   ...     ...   \n",
      "2019-01-31 19:00:00  -9.1 -22.5  33.5   0.0   NaN  270.0  24.3   NaN  1027.9   \n",
      "2019-01-31 20:00:00  -9.0 -22.1  34.2   0.0   NaN  270.0  26.9   NaN  1027.6   \n",
      "2019-01-31 21:00:00  -9.0 -21.8  35.3   0.0   NaN  250.0  27.5   NaN  1028.0   \n",
      "2019-01-31 22:00:00  -9.3 -22.1  35.2   0.0   NaN  250.0  25.1   NaN  1028.1   \n",
      "2019-01-31 23:00:00 -10.0 -21.8  38.1   0.0   NaN  260.0  27.8   NaN  1028.9   \n",
      "\n",
      "                     tsun  coco  \n",
      "time                             \n",
      "2019-01-01 00:00:00   NaN   9.0  \n",
      "2019-01-01 01:00:00   NaN   8.0  \n",
      "2019-01-01 02:00:00   NaN   9.0  \n",
      "2019-01-01 03:00:00   NaN   9.0  \n",
      "2019-01-01 04:00:00   NaN   9.0  \n",
      "...                   ...   ...  \n",
      "2019-01-31 19:00:00   NaN   2.0  \n",
      "2019-01-31 20:00:00   NaN   2.0  \n",
      "2019-01-31 21:00:00   NaN   2.0  \n",
      "2019-01-31 22:00:00   NaN   2.0  \n",
      "2019-01-31 23:00:00   NaN   2.0  \n",
      "\n",
      "[744 rows x 11 columns]\n"
     ]
    }
   ],
   "source": [
    "#Nevermind, actually you can get the hourly as well as the weather conditions codes\n",
    "# Import Meteostat library and dependencies\n",
    "from meteostat import Hourly\n",
    "\n",
    "# Set time period\n",
    "start = datetime(2019, 1, 1)\n",
    "end = datetime(2019, 1, 31, 23, 59)\n",
    "\n",
    "# Get hourly data\n",
    "data = Hourly(JFK, start, end)\n",
    "data = data.fetch()\n",
    "\n",
    "# Print DataFrame\n",
    "print(data)"
   ]
  },
  {
   "cell_type": "code",
   "execution_count": 13,
   "metadata": {
    "colab": {
     "base_uri": "https://localhost:8080/"
    },
    "id": "-I6Q2tfklDEf",
    "outputId": "e06cfe7a-e716-429b-fcce-64f9e07cd0fe"
   },
   "outputs": [
    {
     "name": "stdout",
     "output_type": "stream",
     "text": [
      "                          name country region    wmo  icao  latitude  \\\n",
      "id                                                                     \n",
      "72494    San Francisco Airport      US     CA  72494  KSFO   37.6167   \n",
      "74486  John F. Kennedy Airport      US     NY  74486  KJFK   40.6333   \n",
      "\n",
      "       longitude  elevation             timezone hourly_start hourly_end  \\\n",
      "id                                                                         \n",
      "72494  -122.3667        3.0  America/Los_Angeles   1973-01-01 2021-05-11   \n",
      "74486   -73.7667        4.0     America/New_York   1973-01-01 2021-05-11   \n",
      "\n",
      "      daily_start daily_end  \n",
      "id                           \n",
      "72494  1945-07-01       NaT  \n",
      "74486  1948-07-17       NaT  \n"
     ]
    }
   ],
   "source": [
    "#We can import stations using ICAO codes, and the full list of such stations can be found in this JSON https://bulk.meteostat.net/v2/stations/lite.json.gz\n",
    "from meteostat import Stations\n",
    "\n",
    "#To get the ID we can use string, tuples and/or lists\n",
    "#We could get from the JSON file all US ICAO codes we need (at least in theory)\n",
    "stations = Stations()\n",
    "airports = stations.id('icao',['KSFO','KJFK']).fetch()\n",
    "\n",
    "print(airports)"
   ]
  },
  {
   "cell_type": "code",
   "execution_count": 14,
   "metadata": {
    "colab": {
     "base_uri": "https://localhost:8080/"
    },
    "id": "q9Lc1VPjoAxD",
    "outputId": "11f4abd0-9a09-481d-8460-d8b2e971ce34",
    "scrolled": true
   },
   "outputs": [
    {
     "name": "stdout",
     "output_type": "stream",
     "text": [
      "                             temp  dwpt  rhum  prcp  snow   wdir  wspd  wpgt  \\\n",
      "station time                                                                   \n",
      "72494   2019-01-01 00:00:00  12.2  -1.7  38.0   0.0   NaN  350.0  29.5   NaN   \n",
      "        2019-01-01 01:00:00  12.2  -0.7  41.0   0.0   NaN  350.0  31.7   NaN   \n",
      "        2019-01-01 02:00:00  12.2   0.0  43.0   0.0   NaN  350.0  35.3   NaN   \n",
      "        2019-01-01 03:00:00  11.7  -1.1  41.0   0.0   NaN  350.0  46.4   NaN   \n",
      "        2019-01-01 04:00:00  11.7  -0.5  43.0   0.0   NaN  360.0  44.6   NaN   \n",
      "...                           ...   ...   ...   ...   ...    ...   ...   ...   \n",
      "74486   2019-01-31 19:00:00  -8.9 -22.3  33.0   0.0   NaN  270.0  25.9   NaN   \n",
      "        2019-01-31 20:00:00  -8.9 -21.6  35.0   0.0   NaN  270.0  29.5   NaN   \n",
      "        2019-01-31 21:00:00  -8.9 -21.0  37.0   0.0   NaN  250.0  31.7   NaN   \n",
      "        2019-01-31 22:00:00  -9.4 -21.1  38.0   0.0   NaN  250.0  25.9   NaN   \n",
      "        2019-01-31 23:00:00  -9.4 -21.1  38.0   0.0   NaN  260.0  33.5   NaN   \n",
      "\n",
      "                               pres  tsun  coco  \n",
      "station time                                     \n",
      "72494   2019-01-01 00:00:00  1016.5   NaN   2.0  \n",
      "        2019-01-01 01:00:00  1016.5   NaN   2.0  \n",
      "        2019-01-01 02:00:00  1016.7   NaN   2.0  \n",
      "        2019-01-01 03:00:00  1017.4   NaN   2.0  \n",
      "        2019-01-01 04:00:00  1017.7   NaN   1.0  \n",
      "...                             ...   ...   ...  \n",
      "74486   2019-01-31 19:00:00  1028.0   NaN   2.0  \n",
      "        2019-01-31 20:00:00  1027.8   NaN   2.0  \n",
      "        2019-01-31 21:00:00  1028.1   NaN   2.0  \n",
      "        2019-01-31 22:00:00  1028.2   NaN   2.0  \n",
      "        2019-01-31 23:00:00  1028.9   NaN   2.0  \n",
      "\n",
      "[1488 rows x 11 columns]\n"
     ]
    }
   ],
   "source": [
    "data = Hourly(airports, start, end)\n",
    "data = data.fetch()\n",
    "print(data)"
   ]
  },
  {
   "cell_type": "code",
   "execution_count": 19,
   "metadata": {},
   "outputs": [
    {
     "data": {
      "text/html": [
       "<div>\n",
       "<style scoped>\n",
       "    .dataframe tbody tr th:only-of-type {\n",
       "        vertical-align: middle;\n",
       "    }\n",
       "\n",
       "    .dataframe tbody tr th {\n",
       "        vertical-align: top;\n",
       "    }\n",
       "\n",
       "    .dataframe thead th {\n",
       "        text-align: right;\n",
       "    }\n",
       "</style>\n",
       "<table border=\"1\" class=\"dataframe\">\n",
       "  <thead>\n",
       "    <tr style=\"text-align: right;\">\n",
       "      <th></th>\n",
       "      <th>Total</th>\n",
       "      <th>%</th>\n",
       "    </tr>\n",
       "  </thead>\n",
       "  <tbody>\n",
       "    <tr>\n",
       "      <th>tsun</th>\n",
       "      <td>1488</td>\n",
       "      <td>100.0</td>\n",
       "    </tr>\n",
       "    <tr>\n",
       "      <th>wpgt</th>\n",
       "      <td>1488</td>\n",
       "      <td>100.0</td>\n",
       "    </tr>\n",
       "    <tr>\n",
       "      <th>snow</th>\n",
       "      <td>1488</td>\n",
       "      <td>100.0</td>\n",
       "    </tr>\n",
       "  </tbody>\n",
       "</table>\n",
       "</div>"
      ],
      "text/plain": [
       "      Total      %\n",
       "tsun   1488  100.0\n",
       "wpgt   1488  100.0\n",
       "snow   1488  100.0"
      ]
     },
     "execution_count": 19,
     "metadata": {},
     "output_type": "execute_result"
    }
   ],
   "source": [
    "import pandas as pd\n",
    "#Check there are no null values for any Indicator\n",
    "total = data.isnull().sum().sort_values(ascending=False)\n",
    "percent_1 = data.isnull().sum()/data.isnull().count()*100\n",
    "percent_2 = round(percent_1,1).sort_values(ascending=False)\n",
    "missing_data = pd.concat([total, percent_2], axis=1, keys=['Total', '%'])\n",
    "missing_data[missing_data['Total']!=0]"
   ]
  },
  {
   "cell_type": "markdown",
   "metadata": {
    "id": "3-Jw31RuuQ7i"
   },
   "source": [
    "I know, it is dumb, but instead of using the ICAO code, it uses the internal meteosat codes, nonetheless we get a fairly nice DF."
   ]
  },
  {
   "cell_type": "markdown",
   "metadata": {
    "id": "2Ou3VhQzsxBx"
   },
   "source": [
    "# NCEI API"
   ]
  },
  {
   "cell_type": "markdown",
   "metadata": {
    "id": "YMsGy4xyvcm5"
   },
   "source": [
    "Another possible solution could be to use the NCEI API, I would say it is the most reliable, although it is a bit tricky as we need to input the station codes of our places of interest, meaning that we would need to look up for the weather stations id of each airport we need to study.\n",
    "\n",
    "\n",
    "\n",
    "More information can be found here:\n",
    "\n",
    "https://towardsdatascience.com/getting-weather-data-in-3-easy-steps-8dc10cc5c859\n",
    "\n",
    "https://www.ncei.noaa.gov/support/access-data-service-api-user-documentation"
   ]
  }
 ],
 "metadata": {
  "colab": {
   "collapsed_sections": [],
   "name": "WeatherQuerying.ipynb",
   "provenance": []
  },
  "kernelspec": {
   "display_name": "Python 3",
   "language": "python",
   "name": "python3"
  },
  "language_info": {
   "codemirror_mode": {
    "name": "ipython",
    "version": 3
   },
   "file_extension": ".py",
   "mimetype": "text/x-python",
   "name": "python",
   "nbconvert_exporter": "python",
   "pygments_lexer": "ipython3",
   "version": "3.8.5"
  },
  "toc": {
   "base_numbering": 1,
   "nav_menu": {},
   "number_sections": true,
   "sideBar": true,
   "skip_h1_title": false,
   "title_cell": "Table of Contents",
   "title_sidebar": "Contents",
   "toc_cell": false,
   "toc_position": {
    "height": "calc(100% - 180px)",
    "left": "10px",
    "top": "150px",
    "width": "205px"
   },
   "toc_section_display": true,
   "toc_window_display": false
  },
  "varInspector": {
   "cols": {
    "lenName": 16,
    "lenType": 16,
    "lenVar": 40
   },
   "kernels_config": {
    "python": {
     "delete_cmd_postfix": "",
     "delete_cmd_prefix": "del ",
     "library": "var_list.py",
     "varRefreshCmd": "print(var_dic_list())"
    },
    "r": {
     "delete_cmd_postfix": ") ",
     "delete_cmd_prefix": "rm(",
     "library": "var_list.r",
     "varRefreshCmd": "cat(var_dic_list()) "
    }
   },
   "position": {
    "height": "393px",
    "left": "1303px",
    "right": "20px",
    "top": "193px",
    "width": "346px"
   },
   "types_to_exclude": [
    "module",
    "function",
    "builtin_function_or_method",
    "instance",
    "_Feature"
   ],
   "window_display": false
  }
 },
 "nbformat": 4,
 "nbformat_minor": 1
}
